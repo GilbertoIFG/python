{
 "cells": [
  {
   "cell_type": "markdown",
   "metadata": {},
   "source": [
    "# Calculadora\n",
    "\n",
    "### Exemplo: Prazo de Retorno de Investimento (PRI ou payback)\n",
    "\n",
    "O cálculo do <b>Prazo de Retorno de Investimento</b> (PRI, payback ou ROI \"Return On Investment\") mede a atratividade do negócio ao mostrar qual é o período necessário para que o investidor atinja o <i>breakeven</i> e recupere todo o capital  investido.\n",
    "\n"
   ]
  },
  {
   "cell_type": "markdown",
   "metadata": {},
   "source": [
    "ROI = 100 x (Ganho obtido – Investimento inicial) / Investimento inicial   (%)\n",
    "\n",
    "Por exemplo, se o ganho obtido foi de 'R 500.000,00' e o investimento inicial foi de 'R 100.000,00' então:\n",
    "\n",
    "$ROI = 100 $\times$ (500.000 - 100.000) / 100.000 = 4$\n",
    "\n",
    "Isso significa que o retorno foi de quatro vezes o investimento inicial. <p>\n",
    "O <b>PRI ou payback</b> é o tempo necessário que a empresa precisará para alcançar um ROI de 100%.</p>"
   ]
  },
  {
   "cell_type": "code",
   "execution_count": 6,
   "metadata": {
    "collapsed": false
   },
   "outputs": [
    {
     "name": "stdout",
     "output_type": "stream",
     "text": [
      "ROI = 400 %\n"
     ]
    }
   ],
   "source": [
    "ganho = 500000\n",
    "inv_inic = 100000\n",
    "roi = 100*(ganho-inv_inic)/inv_inic\n",
    "print 'ROI =',roi,'%'"
   ]
  },
  {
   "cell_type": "code",
   "execution_count": null,
   "metadata": {
    "collapsed": true
   },
   "outputs": [],
   "source": []
  }
 ],
 "metadata": {
  "kernelspec": {
   "display_name": "Python 2",
   "language": "python",
   "name": "python2"
  },
  "language_info": {
   "codemirror_mode": {
    "name": "ipython",
    "version": 2
   },
   "file_extension": ".py",
   "mimetype": "text/x-python",
   "name": "python",
   "nbconvert_exporter": "python",
   "pygments_lexer": "ipython2",
   "version": "2.7.9"
  }
 },
 "nbformat": 4,
 "nbformat_minor": 2
}
