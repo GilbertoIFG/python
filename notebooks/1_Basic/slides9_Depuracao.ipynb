{
 "cells": [
  {
   "cell_type": "markdown",
   "id": "4093a683",
   "metadata": {},
   "source": [
    "# Depuração\n",
    "\n",
    "## 1. Introdução\n",
    "\n",
    "A depuração de aplicativos às vezes pode ser uma atividade indesejável. Você está ocupado driblando a falta de tempo e só quer que sua aplicação funcione. Mas você pode estar aprendendo um novo recurso da linguagem ou experimentando uma nova abordagem e deseja compreender mais profundamente como é o funcionamento.\n",
    "\n",
    "Independentemente da situação, a depuração do código (*script*) sempre será uma necessidade do programador. Neste tutorial, veremos os fundamentos e usos comuns do pacote **pdb**, o depurador de código-fonte interativo do Python.\n",
    "\n",
    "O depurador permite a visualização do estado de qualquer variável da sua aplicação,  a interrupção ou retomada do fluxo de execução a qualquer momento, para que possa ver exatamente como cada linha de código afeta o estado interno da aplicação.\n",
    "\n",
    "O depurador é aplicado no rastreamento de bugs (erros) difíceis de encontrar e permite corrigir o código defeituoso de forma mais rápida e confiável. Às vezes, percorrer o código com o **pdb** e ver como os valores mudam pode ser uma verdadeira revelação da evolução do código e mudanças dos dados.\n",
    "\n",
    "**Pdb** faz parte da biblioteca padrão do Python, por isso está sempre lá e disponível para uso (não requer instalação). Isso pode salvar sua vida se você precisar depurar o código em um ambiente onde não tenha acesso, ou  não esteja familiarizado, com o depurador GUI.\n",
    "\n",
    "No final deste tutorial, há uma tabela de referência rápida com os **Comandos pdb** essenciais."
   ]
  },
  {
   "cell_type": "markdown",
   "id": "359370ba",
   "metadata": {},
   "source": [
    "## 2. Iniciando o pdb\n",
    "Para ativar a execução do depurador **pdb** insira o código a seguir no local onde se iniciará a depuração do seu *script*:"
   ]
  },
  {
   "cell_type": "code",
   "execution_count": 3,
   "id": "96fa0439",
   "metadata": {},
   "outputs": [
    {
     "name": "stdout",
     "output_type": "stream",
     "text": [
      "--Call--\n",
      "> \u001b[1;32md:\\python\\python 3.9.6\\lib\\site-packages\\ipython\\core\\displayhook.py\u001b[0m(252)\u001b[0;36m__call__\u001b[1;34m()\u001b[0m\n",
      "\u001b[1;32m    250 \u001b[1;33m        \u001b[0msys\u001b[0m\u001b[1;33m.\u001b[0m\u001b[0mstdout\u001b[0m\u001b[1;33m.\u001b[0m\u001b[0mflush\u001b[0m\u001b[1;33m(\u001b[0m\u001b[1;33m)\u001b[0m\u001b[1;33m\u001b[0m\u001b[1;33m\u001b[0m\u001b[0m\n",
      "\u001b[0m\u001b[1;32m    251 \u001b[1;33m\u001b[1;33m\u001b[0m\u001b[0m\n",
      "\u001b[0m\u001b[1;32m--> 252 \u001b[1;33m    \u001b[1;32mdef\u001b[0m \u001b[0m__call__\u001b[0m\u001b[1;33m(\u001b[0m\u001b[0mself\u001b[0m\u001b[1;33m,\u001b[0m \u001b[0mresult\u001b[0m\u001b[1;33m=\u001b[0m\u001b[1;32mNone\u001b[0m\u001b[1;33m)\u001b[0m\u001b[1;33m:\u001b[0m\u001b[1;33m\u001b[0m\u001b[1;33m\u001b[0m\u001b[0m\n",
      "\u001b[0m\u001b[1;32m    253 \u001b[1;33m        \"\"\"Printing with history cache management.\n",
      "\u001b[0m\u001b[1;32m    254 \u001b[1;33m\u001b[1;33m\u001b[0m\u001b[0m\n",
      "\u001b[0m\n",
      "ipdb> c\n"
     ]
    }
   ],
   "source": [
    "import pdb; pdb.set_trace()"
   ]
  },
  {
   "cell_type": "markdown",
   "id": "dba35eff",
   "metadata": {},
   "source": [
    "Quando a linha acima é executada, o interpretador Python faz uma pausa e espera que você diga o que fazer a seguir. Você verá um prompt (pdb ou ipdb). Isso significa que você está no ambiente do depurador interativo e pode inserir um comando **pdb**.\n",
    "\n",
    "A partir da versão Python 3.7, há outra maneira de se iniciar o depurador, usando a  função integrada `breakpoint()`:\n",
    "``` python\n",
    "breakpoint()\n",
    "```\n",
    "Por padrão, `breakpoint()` importará o pacote **pdb** e chamará a função `pdb.set_trace()`, como mostrado acima. No entanto, usar `breakpoint()` é mais flexível e permite controlar o comportamento de depuração por meio de sua API e o uso da variável de ambiente `PYTHONBREAKPOINT`.  \n",
    "\n",
    "Por exemplo, definir `PYTHONBREAKPOINT = 0` em seu ambiente desabilitará a função `breakpoint()`, desabilitando a depuração. Se você estiver usando Python 3.7 ou posterior, recomenda-se o uso da `breakpoint()` em vez de `pdb.set_trace()`.\n",
    "\n",
    "Pode-se entrar no depurador, sem modificar o seu código fonte, e usando `pdb.set_trace()` ou `breakpoint()`, executando o interpretador Python diretamente da linha de comandos e usando a opção `-m pdb`. Se sua aplicação recebe argumentos da linha de comandos, transmita-os normalmente após o nome do arquivo. Por exemplo:\n",
    "\n",
    "`$ python3 -m pdb aplicacao.py arg1 arg2` "
   ]
  },
  {
   "cell_type": "markdown",
   "id": "6df9c07f",
   "metadata": {},
   "source": [
    "## 3. Imprimindo Variáveis\n",
    "Vamos usar o comando `p` para imprimir o valor de uma variável. Insira `p nome_variável` no prompt `Pdb>` para mostrar o valor da variável. Vamos ver um exemplo:\n",
    "\n",
    "Arquivo: exemplo1.py\n",
    "```python\n",
    "#!/usr/bin/env python3\n",
    "nomearq = __file__\n",
    "import pdb; pdb.set_trace()    # ativa a depuração do script\n",
    "print(f'path = {nomearq} ')\n",
    "```\n",
    "Se você executar `example1.py` no seu *shell*, deverá obter a seguinte saída:\n",
    "\n",
    "```shell\n",
    "$ python ./example1.py\n",
    "> /code/example1.py(5)<module>()\n",
    "-> print(f'path = {nomearq} ')\n",
    "(Pdb)\n",
    "```\n",
    "\n",
    "Como você está em um *shell* e usando uma CLI (interface de linha de comando), preste atenção aos caracteres e à formatação, pois eles fornecem o **contexto** de que você precisa:\n",
    "<ul>\n",
    "<li>O caracter `>` começa a primeira linha e informa qual arquivo fonte você está depurando. Após o nome do arquivo, temos o número da linha atual mostrado entre parênteses. A próxima informação é o nome da função/módulo. Neste exemplo, não estamos pausados dentro de uma função, mas no nível do módulo, e por isso vemos  `<module>()`.</li>  \n",
    "<li> Os caracteres `->` iniciam a segunda linha e em seguida temos a linha atual (na qual o Python está pausado) do código fonte exibida. Esta linha ainda não foi executada. Neste exemplo, é a linha 5 do script <i>example1.py</i>.</li>\n",
    "<li>`(Pdb)` é o prompt do depurador, e ele indica a espera por um comando.</li>\n",
    "\n",
    "Agora insira o comando `p nomearq` e você deve ver o seguinte resultado:\n",
    "\n",
    "```shell\n",
    "(Pdb) p nomearq\n",
    "'./example1.py'\n",
    "(Pdb)\n",
    "```\n",
    "\n",
    "Use o comando `q` para interromper a depuração e finalizar o depurador."
   ]
  },
  {
   "cell_type": "markdown",
   "id": "2d180bff",
   "metadata": {},
   "source": [
    "## 4. Imprimindo Expressões\n",
    "Ao usar o comando de impressão `p`, podemos passar uma expressão a ser avaliada pelo Python. Se passarmos um nome de variável, **pdb** imprimirá o valor atual da variável. No entanto, podemos fazer muito mais para investigar o estado da aplicação em execução.\n",
    "\n",
    "No próximo exemplo, a função `get_path()` é chamada, e para inspecionar o funcionamento desta função, vamos ativar o depurador (`pdb.set_trace()`) para pausar a execução antes de retornar:"
   ]
  },
  {
   "cell_type": "code",
   "execution_count": 12,
   "id": "ad851be8",
   "metadata": {
    "scrolled": true
   },
   "outputs": [
    {
     "name": "stdout",
     "output_type": "stream",
     "text": [
      "> \u001b[1;32mc:\\users\\profc\\appdata\\local\\temp\\ipykernel_4324\\3123977114.py\u001b[0m(8)\u001b[0;36mget_path\u001b[1;34m()\u001b[0m\n",
      "\n",
      "ipdb> p caminho,arq\n",
      "('d:\\\\python\\\\cursos\\\\curso_ifg\\\\Turmas\\\\202110\\\\1_Basic', 'slides9_Depuracao.ipynb')\n",
      "ipdb> c\n",
      "Caminho = d:\\python\\cursos\\curso_ifg\\Turmas\\202110\\1_Basic\n"
     ]
    }
   ],
   "source": [
    "# example2.py\n",
    "#!/usr/bin/env python3\n",
    "import os\n",
    "\n",
    "def get_path(nomearq):\n",
    "    \"\"\"Retorna o caminho do arquivo ou string nula se não houver caminho.\"\"\"\n",
    "    caminho, arq = os.path.split(nomearq)\n",
    "    import pdb; pdb.set_trace()\n",
    "    return caminho\n",
    "\n",
    "nomearq = os.path.abspath('')+'\\slides9_Depuracao.ipynb' # em scripts, use: __file__\n",
    "print(f'Caminho = {get_path(nomearq)}')"
   ]
  },
  {
   "cell_type": "markdown",
   "id": "33b9ed52",
   "metadata": {},
   "source": [
    "Se você executar isso no *shell*, deverá obter a saída:\n",
    "```shell\n",
    "$ ./example2.py\n",
    "/code/example2.py (10) get_path ()\n",
    "- cabeça de retorno\n",
    "(Pdb)\n",
    "```\n",
    "#### Descrição\n",
    "\n",
    "* `>` Indica que estamos depurando o arquivo fonte **example2.py**, linha 10 da função `get_path()`. Este é o **quadro de referência** que o comando `p` usa para resolver nomes de variáveis, ou seja, o escopo ou contexto atual.\n",
    "* `->` A execução foi pausada antes do comando `return`. Esta linha ainda não foi executada. Esta é a linha 10 da função `get_path()` no arquivo fonte **example2.py**.  \n",
    "\n",
    "Vamos imprimir algumas expressões para ver o estado atual da aplicação. Vamos usar o comando `ll` (*longlist*) inicialmente para mostrar as lindas da função:"
   ]
  },
  {
   "cell_type": "code",
   "execution_count": 14,
   "id": "0dc28448",
   "metadata": {
    "scrolled": false
   },
   "outputs": [
    {
     "name": "stdout",
     "output_type": "stream",
     "text": [
      "> \u001b[1;32mc:\\users\\profc\\appdata\\local\\temp\\ipykernel_4324\\1385663169.py\u001b[0m(9)\u001b[0;36mget_path\u001b[1;34m()\u001b[0m\n",
      "\n",
      "ipdb> p nomearq\n",
      "'d:\\\\python\\\\cursos\\\\curso_ifg\\\\Turmas\\\\202110\\\\1_Basic\\\\slides9_Depuracao.ipynb'\n",
      "ipdb> p getattr(get_path,'__doc__')\n",
      "'Retorna o caminho do arquivo ou string nula se não houver caminho.'\n",
      "ipdb> p [os.path.split(p)[1] for p in os.path.sys.path]\n",
      "['1_Basic', 'Python 3.9.6', 'python39.zip', 'DLLs', 'lib', '', 'site-packages', 'win32', 'lib', 'Pythonwin', 'extensions', '.ipython']\n",
      "ipdb> c\n",
      "Caminho = d:\\python\\cursos\\curso_ifg\\Turmas\\202110\\1_Basic\n"
     ]
    }
   ],
   "source": [
    "# example2.py\n",
    "#!/usr/bin/env python3\n",
    "import os\n",
    "\n",
    "def get_path(nomearq):\n",
    "    \"\"\"Retorna o caminho do arquivo ou string nula se não houver caminho.\"\"\"\n",
    "    caminho, arq = os.path.split(nomearq)\n",
    "    import pdb; pdb.set_trace()\n",
    "    return caminho\n",
    "\n",
    "nomearq = os.path.abspath('')+'\\slides9_Depuracao.ipynb' # em scripts, use: __file__\n",
    "print(f'Caminho = {get_path(nomearq)}')"
   ]
  },
  {
   "cell_type": "markdown",
   "id": "fd9bf769",
   "metadata": {},
   "source": [
    "Você pode passar qualquer expressão Python válida para o comando `p`. Isso é muito útil quando se está depurando e se deseja testar uma implementação alternativa diretamente na aplicação em tempo de execução.\n",
    "\n",
    "Temos o comando `pp` (*pretty-print*) para expressões com impressão bonita. Isso é útil se você deseja imprimir uma variável ou expressão com uma grande quantidade de saída, por exemplo, Listas e dicionários. A impressão bonita mantém os objetos em uma única linha se puder ou os divide em várias linhas se eles não couberem na largura permitida."
   ]
  },
  {
   "cell_type": "markdown",
   "id": "25b63626",
   "metadata": {},
   "source": [
    "## 5. Percorrendo o Código\n",
    "Existem dois comandos que você pode usar para percorrer o código durante a depuração:\n",
    "\n",
    "|Comando | Descrição |\n",
    "|:---:  | :--- |\n",
    "|**n** (*next*) | Continua a execução até que a próxima linha na função atual seja alcançada ou ela retorne.|\n",
    "| **s** (*step*) | Executa a linha atual e pára na primeira ocasião possível (em uma chamada de função  ou na função atual).|\n",
    "\n",
    "#### A diferença entre os comandos `n`  e `s`  é o ponto de parada do **pdb**\n",
    "\n",
    "Use **n** (próximo) para continuar a execução até a próxima linha e permanecer dentro da função atual, ou seja, não parar em uma função estrangeira se for chamada. Pense nesse comando como \"permanecer no local\" ou \"passar por cima\".\n",
    "\n",
    "Use **s** (passo) para executar a linha atual e parar em uma função estrangeira se  for chamada. Pense nesse comando como \"adentrar função\". Se a execução for interrompida em outra função, **s** imprimirá *--Call--*.\n",
    "\n",
    "Tanto **n** quanto **s** irão parar a execução quando o final da função atual for alcançado e imprimir *--Return--* junto com o valor de retorno no final da próxima linha após `->`.\n",
    "\n",
    "Vejamos um exemplo usando os dois comandos. Aqui está o fonte **example3.py**:"
   ]
  },
  {
   "cell_type": "code",
   "execution_count": null,
   "id": "103782b9",
   "metadata": {
    "scrolled": false
   },
   "outputs": [],
   "source": [
    "# example2.py\n",
    "#!/usr/bin/env python3\n",
    "import os\n",
    "\n",
    "def get_path(nomearq):\n",
    "    \"\"\"Retorna o caminho do arquivo ou string nula se não houver caminho.\"\"\"\n",
    "    caminho, arq = os.path.split(nomearq)\n",
    "    return caminho\n",
    "\n",
    "nomearq = os.path.abspath('')+'\\slides9_Depuracao.ipynb' # em scripts, use: __file__\n",
    "import pdb; pdb.set_trace()\n",
    "caminho_arq = get_path(nomearq)\n",
    "print(f'Caminho = {caminho_arq}')"
   ]
  },
  {
   "cell_type": "markdown",
   "id": "1bf0918e",
   "metadata": {},
   "source": [
    "Se você executar isso no *shell* e inserir **n**, deverá obter a saída:\n",
    "```shell\n",
    "$ ./example3.py\n",
    "/code/example3.py(14)<module>()\n",
    "-> caminho_arq = get_path(nomearq)\n",
    "(Pdb) n\n",
    "> /code/example3.py(15)<module>()\n",
    "-> print(f'path = {caminho_arq}')\n",
    "(Pdb) \n",
    "```\n",
    "Com **n**, paramos na próxima linha, a linha 15. Nós \"permanecemos no local\"\n",
    "em `<module>()` e \"passamos por cima\" na chamada à `get_path()`. A função é `<module>()`, pois estamos atualmente no nível de módulo e não pausamos dentro de outra função.\n",
    "\n",
    "Vamos tentar o comando **s**:\n",
    "```shell\n",
    "$ ./example3.py\n",
    "/code/example3.py(14)<module>()\n",
    "-> caminho_arq = get_path(nomearq)\n",
    "(Pdb) s\n",
    "> /code/example3.py(6)get_path()\n",
    "-> def get_path(nomearq):\n",
    "(Pdb) \n",
    "```"
   ]
  },
  {
   "cell_type": "markdown",
   "id": "2c40ab13",
   "metadata": {},
   "source": [
    "Segue o baile..."
   ]
  },
  {
   "cell_type": "markdown",
   "id": "29888966",
   "metadata": {},
   "source": [
    "Fonte: https://realpython.com/python-debugging-pdb/#getting-started-printing-a-variables-value\n"
   ]
  }
 ],
 "metadata": {
  "kernelspec": {
   "display_name": "Python 3 (ipykernel)",
   "language": "python",
   "name": "python3"
  },
  "language_info": {
   "codemirror_mode": {
    "name": "ipython",
    "version": 3
   },
   "file_extension": ".py",
   "mimetype": "text/x-python",
   "name": "python",
   "nbconvert_exporter": "python",
   "pygments_lexer": "ipython3",
   "version": "3.9.6"
  }
 },
 "nbformat": 4,
 "nbformat_minor": 5
}
