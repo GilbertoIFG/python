{
 "cells": [
  {
   "cell_type": "markdown",
   "metadata": {
    "slideshow": {
     "slide_type": "slide"
    }
   },
   "source": [
    "# <font color = \"blue\" style=\"background-color: #E9F7E1;\"> Expressões Regulares</font>\n",
    "\n",
    "<ul><li><b>Introdução:</b></li>\n",
    "    <li><b><a href=\"#2\">Correspondências</a></b></li>\n",
    "    <li><b><a href=\"#3\">Pesquisa (Busca)</a></b></li>"
   ]
  },
  {
   "cell_type": "markdown",
   "metadata": {},
   "source": [
    "### Preâmbulo: Caracteres Especiais\n",
    "Na Ling. Python os caracteres especiais são indicados com o auxílio do caracter contra-barra, ou barra para esquerda: '\\'.  \n",
    "Exemplos:\n",
    "> `'\\n'` - nova linha (*linefeed*)  \n",
    "> `'\\t'` - tabulação (*tab*)  "
   ]
  },
  {
   "cell_type": "code",
   "execution_count": 65,
   "metadata": {},
   "outputs": [
    {
     "name": "stdout",
     "output_type": "stream",
     "text": [
      ".\\n.\n"
     ]
    }
   ],
   "source": [
    "print('.\\\\n.')"
   ]
  },
  {
   "cell_type": "markdown",
   "metadata": {
    "slideshow": {
     "slide_type": "slide"
    }
   },
   "source": [
    "## 1. Introdução\n",
    "\n",
    "Uma **expressão regular**, **regex** ou **regexp** é uma sequência de caracteres (*string*) que define um padrão de pesquisa (busca) em uma outra sequência de caracteres. Normalmente, esses padrões são usados em algoritmos de busca de *string* nas operações de **'localizar'** ou **'localizar e substituir'** em *strings* ou para validação de entrada(s). É uma técnica desenvolvida na teoria da Ciência da Computação, mais especificamente, na teoria de linguagens formais.\n",
    "\n",
    "Existe um módulo de suporte às **regex** chamado `re` (*regular expressions*), o qual faz parte da **biblioteca padrão do Python** (coleção de módulos que simplifica o processo de programação e elimina a necessidade de se reescrever comandos comumente usados).\n",
    "\n",
    "Uma Expressão Regular é definida como uma **string de texto especial** que descreve um padrão de pesquisa. É extremamente útil para extrair informações de texto como código, arquivos, log, planilhas ou até mesmo documentos."
   ]
  },
  {
   "cell_type": "code",
   "execution_count": 1,
   "metadata": {},
   "outputs": [],
   "source": [
    "import re"
   ]
  },
  {
   "cell_type": "markdown",
   "metadata": {},
   "source": [
    "Vamos definir algumas variáveis strings que serviram de suporte aos exemplos que serão mostrados a seguir:"
   ]
  },
  {
   "cell_type": "code",
   "execution_count": 20,
   "metadata": {},
   "outputs": [],
   "source": [
    "alfabeto_minusc = 'abcdefghijklmnopqrstuvwxyz'\n",
    "alfabeto_maiusc = alfabeto_minusc.upper()\n",
    "digitos   = '1234567890'\n",
    "sentenca  = 'The Quick Brown Fox Jumps Over The Lazy Dog'\n",
    "website   = 'www.ifg.edu.br'\n",
    "fones     = \"\"\"123-456-7890\n",
    "                    987.654.321\n",
    "                    234-567-8901\n",
    "                    654.321.987\n",
    "                    345-678-9012\n",
    "                    321.654.978\n",
    "                    456-789-0123\n",
    "                \"\"\"\n",
    "caracteres_esp = '[\\^$.|?*+()'"
   ]
  },
  {
   "cell_type": "markdown",
   "metadata": {
    "slideshow": {
     "slide_type": "slide"
    }
   },
   "source": [
    "## <a id=\"2\">2. Correspondências</a>\n",
    "\n",
    "### 2.1 Correspondência de Caracteres Explícitos\n",
    "Para combinar caracteres explicitamente, basta colocar o que se deseja encontrar como primeiro argumento do método `findall()` e como segundo parâmetro a string na qual será feita a busca. Semelhante à operação de busca, `ctrl + f`, na maioria dos aplicativos."
   ]
  },
  {
   "cell_type": "code",
   "execution_count": 5,
   "metadata": {
    "slideshow": {
     "slide_type": "subslide"
    }
   },
   "outputs": [
    {
     "name": "stdout",
     "output_type": "stream",
     "text": [
      "['abc'] ['ABC'] []\n"
     ]
    }
   ],
   "source": [
    "print(re.findall(\"abc\", alfabeto_minusc),\n",
    "      re.findall(\"ABC\", alfabeto_maiusc),\n",
    "      re.findall(\"ABC\", alfabeto_minusc),)"
   ]
  },
  {
   "cell_type": "markdown",
   "metadata": {},
   "source": [
    "### 2.2 Correspondência de um Caracter Literal\n",
    "Para combinar com qualquer caracter literal (qualquer caracter exceto `[ ] ( ) . ? | $ * +`), introduza uma barra invertida `\\` seguida do caracter que se deseja selecionar.\n"
   ]
  },
  {
   "cell_type": "code",
   "execution_count": 8,
   "metadata": {},
   "outputs": [
    {
     "name": "stdout",
     "output_type": "stream",
     "text": [
      "['.edu'] ['$'] ['|']\n"
     ]
    }
   ],
   "source": [
    "print(re.findall(\"\\.edu\", website),\n",
    "      re.findall(\"\\$\", caracteres_esp),\n",
    "      re.findall(\"\\|\", caracteres_esp),)"
   ]
  },
  {
   "cell_type": "markdown",
   "metadata": {},
   "source": [
    "### 2.3 Correspondência por Padrão\n",
    "Existem várias maneiras de busca combinações de um padrão. **Regex** tem sua própria sintaxe para que possamos escolher que nossos padrões se pareçam.\n",
    "\n",
    "#### 2.3.1 Classes de Caracter   \n",
    "|Classe |  Descrição |\n",
    "|:--:|:--|\n",
    "    |.|qualquer caracter, exceto <i>newline</i> |\n",
    "    |\\w \\d \\s|palavra, dígito, espaço em branco |\n",
    "    |\\W \\D \\S|não palavra, não dígito, não espaço em branco |\n",
    "    |[abc]|qq. uma das letras: a, b ou c|\n",
    "    |[^abc]|nenhuma das letras: a, b ou c|\n",
    "    |[a-e]|qq. uma das letras: a, b, c, d, e|\n",
    "\n",
    "Obs.: \n",
    "1. `\\w` combina com caracteres alfanuméricos: `[a-zA-Z0-9_]`, ou seja: letras, dígitos e sublinhado.\n",
    "1. `\\W` não combina com caracteres alfanuméricos: caracteres não inclusos em `[a-zA-Z0-9_]`, ou seja: caracteres que não sejam letras, nem dígitos e nem sublinhado.\n",
    "1. `\\d` combina com dígitos decimais: `[0-9]`.\n",
    "1. `\\D` não combina com dígitos decimais, ou seja: ~\\d, caracteres não inclusos em `[0-9]`.\n",
    "1. `\\s` combina com espaço em branco: `' '`.\n",
    "1. `\\S` não combina com espaço em branco, ou seja: ~\\s, caracteres não inclusos em `' '`."
   ]
  },
  {
   "cell_type": "code",
   "execution_count": 104,
   "metadata": {},
   "outputs": [
    {
     "name": "stdout",
     "output_type": "stream",
     "text": [
      "['tes', 'bus'] ['FIM', 'abc']\n",
      "['...', '   '] ['12.', 'IM ', 'cd#']\n",
      "['34'] ['.FIM ', 'abcd#$#@']\n",
      "['   '] ['12.FIM', '', '555abcd#$#@', '']\n"
     ]
    }
   ],
   "source": [
    "print(re.findall('\\w\\w\\w','teste de busca'), re.findall('\\w\\w\\w','12.FIM abcd#$#@'))\n",
    "print(re.findall('\\W\\W\\W','...FIM   34VERD'), re.findall('\\w\\w\\W','12.FIM 555abcd#$#@'))\n",
    "print(re.findall('\\d+','...FIM   34VERD'), re.findall('\\D+','12.FIM 555abcd#$#@'))\n",
    "print(re.findall('\\s+','...FIM   34VERD'), re.findall('\\S*','12.FIM 555abcd#$#@'))"
   ]
  },
  {
   "cell_type": "markdown",
   "metadata": {},
   "source": [
    "#### 2.3.2 Âncoras\n",
    "|Classe |  Descrição |\n",
    "|:--:|:--|\n",
    "    |^abc\\$ | ^ indica início e $ indica fim da string |\n",
    "    |\\b \\B |limite de palavra, de não palavra |\n",
    "\n",
    "#### 2.3.3 Caracteres de Escape\n",
    "|Classe |  Descrição |\n",
    "|:--:|:--|\n",
    "    |\\\\. \\\\* \\\\\\ | caracteres especiais de escape |\n",
    "    |\\\\t \\\\n \\\\r | tabulação, alimentação de linha, retorno de carro |\n",
    "\n",
    "#### 2.3.4 Grupos e Olhar em Volta\n",
    "|Classe |  Descrição |\n",
    "|:--:|:--|\n",
    "    |(abc)| grupo de captura |\n",
    "    |\\\\1  | retroreferência ao grupo \\#1 |\n",
    "    |(?:abc)| grupo de não captura |\n",
    "    |(?=abc)| olhar pra frente positiva |\n",
    "    |(?!abc)| olhar pra frente negativa |\n",
    "\n",
    "#### 2.3.5 Quantificadores e Alternância\n",
    "|Classe |  Descrição |\n",
    "|:--:|:--|\n",
    "    |a* a+ a?| zero ou mais, um ou mais, zero ou um |\n",
    "    |a{5} a{2,} | exatamente cinco, dois ou mais |\n",
    "    |a{1,3}| entre um e três |\n",
    "    |a+? a{2,}?| combina tão pouco quanto possível |\n",
    "    |ab\\|cd| combina ab ou cd|\n",
    "    \n",
    "Obs.:\n",
    "1. Quantificadores: `+`= 1 ou mais; `*`= 0 ou mais; `?`= 0 ou 1; `{n,m}`= 'n' a 'm' repetições."
   ]
  },
  {
   "cell_type": "code",
   "execution_count": 99,
   "metadata": {},
   "outputs": [
    {
     "name": "stdout",
     "output_type": "stream",
     "text": [
      "\\w\\w\\w   -->  ['rap', 'osa', 'cas', 'tan']\n",
      "\\w{3}    -->  ['rap', 'osa', 'cas', 'tan']\n",
      "\\w{2,3}  -->  ['rap', 'osa', 'cas', 'tan', 'ha']\n",
      "\\w*      -->  ['A', '', 'raposa', '', 'castanha', '', '']\n",
      "\\w+      -->  ['A', 'raposa', 'castanha']\n",
      "\\w+\\W?   -->  ['A ', 'raposa ', 'castanha.']\n",
      "\\w+\\W{,1} ->  ['A ', 'raposa ', 'castanha.']\n"
     ]
    }
   ],
   "source": [
    "rap = \"A raposa castanha.\"\n",
    "print('\\w\\w\\w   --> ', re.findall('\\w\\w\\w',rap))     # 3 alfanuméricos\n",
    "print('\\w{3}    --> ', re.findall('\\w{3}',rap))      # 3 alfanuméricos\n",
    "print('\\w{2,3}  --> ', re.findall('\\w{2,3}',rap))    # prioridade para buscas das strings maiores\n",
    "print('\\w*      --> ', re.findall('\\w*',rap))        # 0 ou mais alfanumérico\n",
    "print('\\w+      --> ', re.findall('\\w+',rap))        # 1 ou mais alfanumérico\n",
    "print('\\w+\\W?   --> ', re.findall('\\w+\\W?',rap))     # 0 ou mais alfanumérico, seguido de 0 ou 1 não alfanumérico\n",
    "print('\\w+\\W{,1} -> ', re.findall('\\w+\\W{,1}',rap))  # 0 ou mais alfanumérico, seguido de 0 ou 1 não alfanumérico"
   ]
  },
  {
   "cell_type": "markdown",
   "metadata": {},
   "source": [
    "#### Exemplos\n",
    "Queremos combinar cada palavra da frase e colocá-la em uma lista: `The Quick Brown Fox Jumps Over The Lazy Dog`:"
   ]
  },
  {
   "cell_type": "code",
   "execution_count": 10,
   "metadata": {},
   "outputs": [
    {
     "name": "stdout",
     "output_type": "stream",
     "text": [
      "['T', 'h', 'e', 'Q', 'u', 'i', 'c', 'k', 'B', 'r', 'o', 'w', 'n', 'F', 'o', 'x', 'J', 'u', 'm', 'p', 's', 'O', 'v', 'e', 'r', 'T', 'h', 'e', 'L', 'a', 'z', 'y', 'D', 'o', 'g'] ['$'] ['|']\n"
     ]
    }
   ],
   "source": [
    "print(re.findall(\"\\w{1,}\", sentenca))      # \\w - qualquer palavra com uma ou mais caracteres"
   ]
  },
  {
   "cell_type": "markdown",
   "metadata": {},
   "source": [
    ">Traduzindo: `\\w{1,}` = combine qualquer palavra com 1 ou mais caracteres, e coloque cada palavra combinada em uma lista.\n",
    "\n",
    "Que tal se quisermos selecionar só números de telefone que estão no formato: `xxx-xxx-xxxx`?"
   ]
  },
  {
   "cell_type": "code",
   "execution_count": 23,
   "metadata": {
    "scrolled": false
   },
   "outputs": [
    {
     "name": "stdout",
     "output_type": "stream",
     "text": [
      "['123-456-7890', '234-567-8901', '345-678-9012', '456-789-0123']\n"
     ]
    }
   ],
   "source": [
    "print(re.findall(\"\\d{3}-\\d{3}\\-\\d{4}\", fones))      # \\w - qualquer palavra com uma ou mais caracteres"
   ]
  },
  {
   "cell_type": "markdown",
   "metadata": {},
   "source": [
    "> Decifrando o Padrão:  \n",
    "`\\d` = qualquer dígito  \n",
    "`{3}` = exatamente três  \n",
    "`\\-` = selecionar hífen  \n",
    "`\\d` = qualquer dígito  \n",
    "`{3}` = exatamente três  \n",
    "`\\-` = selecionar hífen  \n",
    "`\\d` = qualquer dígito  \n",
    "`{4}` = exatamente quatro  \n",
    "**Traduzindo**: `\\d{3}\\-\\d\\{3}\\-\\d{4}` casa com qualquer dígito com exatamente três caracteres, seguido por hífen, casa com qualquer dígito com exatamente três caracteres, seguido por hífen, casa com qualquer dígito com exatamente quatro caracteres."
   ]
  },
  {
   "cell_type": "markdown",
   "metadata": {
    "slideshow": {
     "slide_type": "slide"
    }
   },
   "source": [
    "## <a id=\"3\">3. Pesquisa (Busca)</a>\n",
    "Vamos usar o método `search()` (pesquisar, buscar) do módulo `re` para fazer buscas em qualquer posição da *string*. Ele retorna os índices de início/fim da ocorrência do 'padrão'  na 'string'.\n",
    "**Sintaxe**:\n",
    "```python\n",
    "search(padrao, string, flags)     # busca 'padrao' da regex em qualquer posicao da 'string'\n",
    "                                  # 'flags' permitem opções especiais\n",
    "```\n",
    "\n",
    "E o método `match()` (casar, combinar) do módulo `re` para fazer buscas somente a partir do início da *string*.  \n",
    "**Sintaxe**:\n",
    "```python\n",
    "match(padrao, string, flags)      # busca 'padrao' da regex em qualquer posicao da 'string'\n",
    "                                  # 'flags' permitem opções especiais\n",
    "```\n",
    "Exemplos Simples:"
   ]
  },
  {
   "cell_type": "code",
   "execution_count": 25,
   "metadata": {},
   "outputs": [
    {
     "name": "stdout",
     "output_type": "stream",
     "text": [
      "None\n"
     ]
    }
   ],
   "source": [
    "print(re.match(\"c\",\"abcdef\"))     # retorna 'None' pois busca apenas a partir do início da 'string'"
   ]
  },
  {
   "cell_type": "code",
   "execution_count": 26,
   "metadata": {},
   "outputs": [
    {
     "name": "stdout",
     "output_type": "stream",
     "text": [
      "<re.Match object; span=(2, 3), match='c'>\n"
     ]
    }
   ],
   "source": [
    "print(re.search(\"c\",\"abcdef\"))    # busca em qualquer posição na 'string'"
   ]
  },
  {
   "cell_type": "markdown",
   "metadata": {},
   "source": [
    "Verificando se houve casamento do padrão na string, podemos forçar o retorno de uma constante booleana:"
   ]
  },
  {
   "cell_type": "code",
   "execution_count": 30,
   "metadata": {},
   "outputs": [
    {
     "name": "stdout",
     "output_type": "stream",
     "text": [
      "False True\n"
     ]
    }
   ],
   "source": [
    "print(bool(re.match(\"c\",\"abcdef\")), bool(re.match(\"a\",\"abcdef\")))"
   ]
  },
  {
   "cell_type": "markdown",
   "metadata": {},
   "source": [
    "Ambos métodos só retornam o casamento para a primeira ocorrência do padrão na string:"
   ]
  },
  {
   "cell_type": "code",
   "execution_count": 35,
   "metadata": {},
   "outputs": [
    {
     "name": "stdout",
     "output_type": "stream",
     "text": [
      "<re.Match object; span=(0, 1), match='a'>\n",
      "<re.Match object; span=(5, 6), match='c'>\n"
     ]
    }
   ],
   "source": [
    "print(re.match(\"a\",\"abcdeaf\")) \n",
    "print(re.search(\"c\",\"abd\\necf\\ndcba\")) "
   ]
  },
  {
   "cell_type": "code",
   "execution_count": 54,
   "metadata": {},
   "outputs": [
    {
     "name": "stdout",
     "output_type": "stream",
     "text": [
      "abc 0 3\n"
     ]
    }
   ],
   "source": [
    "pad = \"abc\"\n",
    "seq = \"abcdef\"\n",
    "re.search(pad,seq).group()\n",
    "print(re.search(pad,seq).group(), re.search(pad,seq).start(), re.search(pad,seq).end()) "
   ]
  },
  {
   "cell_type": "markdown",
   "metadata": {},
   "source": [
    "Busca pela ocorrência de mais de um caracter, por exemplo, ocorrênicia do caracter 'a' e 'd' na string:"
   ]
  },
  {
   "cell_type": "code",
   "execution_count": 58,
   "metadata": {
    "scrolled": true
   },
   "outputs": [
    {
     "name": "stdout",
     "output_type": "stream",
     "text": [
      "None\n",
      "<re.Match object; span=(1, 2), match='b'>\n",
      "<re.Match object; span=(1, 2), match='b'>\n"
     ]
    }
   ],
   "source": [
    "print(re.search(\"bc\",\"abd\\necf\\ndcba\"))       # pesquisa o padrão 'bc' que não existe na string\n",
    "print(re.search(\"b|c\",\"abd\\necf\\ndcba\"))      # pesquisa a existência de qq. um dos car.s na string\n",
    "print(re.search(\"c|b\",\"abd\\necf\\ndcba\"))      # retorna sempre a primeira ocorrência, nesse caso, do 'b'"
   ]
  },
  {
   "cell_type": "markdown",
   "metadata": {},
   "source": [
    "Para as situações onde se deseja verificar todas as ocorrências do padrão na string, usa-se o método `findall()`:\n",
    "**Sintaxe**:\n",
    "```python\n",
    "findall(padrao, string, flags)    # busca 'padrao' da regex em qualquer posicao da 'string'\n",
    "                                  # e retorna todas as ocorrências\n",
    "```"
   ]
  },
  {
   "cell_type": "code",
   "execution_count": 60,
   "metadata": {},
   "outputs": [
    {
     "name": "stdout",
     "output_type": "stream",
     "text": [
      "['b', 'c', 'c', 'b']\n"
     ]
    }
   ],
   "source": [
    "print(re.findall(\"c|b\",\"abd\\necf\\ndcba\"))     # retorna uma lista de ocorrências dos caracteres 'c' e 'b'"
   ]
  },
  {
   "cell_type": "code",
   "execution_count": 62,
   "metadata": {},
   "outputs": [
    {
     "name": "stdout",
     "output_type": "stream",
     "text": [
      "['abcd', 'abcd']\n"
     ]
    }
   ],
   "source": [
    "print(re.findall(\"abcd\",\"abcd\\necnabcdefg\"))  # retorna uma lista de ocorrências do padrão 'abcd'\n",
    "                                              # sem informação do(s) local(is) de ocorrência(s)"
   ]
  },
  {
   "cell_type": "markdown",
   "metadata": {
    "slideshow": {
     "slide_type": "subslide"
    }
   },
   "source": [
    "### Exercício\n",
    "Crie uma função para remover caracteres especiais (acentos, trema, cedilha, til etc) e substitui-los por letras básicas."
   ]
  },
  {
   "cell_type": "code",
   "execution_count": 72,
   "metadata": {},
   "outputs": [
    {
     "name": "stdout",
     "output_type": "stream",
     "text": [
      "Analise ambigua O cao e a aguia eram so cansaco\n"
     ]
    }
   ],
   "source": [
    "\"\"\" A remoção de acentos: baseada em resposta no Stack Overflow.\n",
    "    http://stackoverflow.com/a/517974/3464573\n",
    "\"\"\"\n",
    "import unicodedata\n",
    "import re\n",
    "\n",
    "def removerAcentosECaracteresEspeciais(palavra):\n",
    "    # O método 'normalize' transforma um caracter em seu equivalente latino.\n",
    "    # Mais sobre formas de normalização - https://docs.python.org/3/library/unicodedata.html\n",
    "    #   forma NFKD: substitui caracteres de compatibilidade por seus equivalentes\n",
    "    normal = unicodedata.normalize('NFKD', palavra)   \n",
    "    palavraSeca = u\"\".join([c for c in normal if not unicodedata.combining(c)])\n",
    "\n",
    "    # Usa 'regex' para retornar palavra apenas com números, letras e espaços em branco\n",
    "    return re.sub('[^a-zA-Z0-9 \\\\\\]', '', palavraSeca)\n",
    "\n",
    "print(removerAcentosECaracteresEspeciais(\"#Análise ambigüa... O cão, e a águia, eram só cansaço!\"))"
   ]
  },
  {
   "cell_type": "markdown",
   "metadata": {},
   "source": [
    "### Exemplo: RE para retirar caracteres estranhos em strings\n",
    "\n",
    "TODO: traduzir...\n",
    "Remove ALL spaces in a string, even between words:\n",
    "\n",
    "import re\n",
    "sentence = re.sub(r\"\\s+\", \"\", sentence, flags=re.UNICODE)\n",
    "Remove spaces in the BEGINNING of a string:\n",
    "\n",
    "import re\n",
    "sentence = re.sub(r\"^\\s+\", \"\", sentence, flags=re.UNICODE)\n",
    "Remove spaces in the END of a string:\n",
    "\n",
    "import re\n",
    "sentence = re.sub(r\"\\s+$\", \"\", sentence, flags=re.UNICODE)\n",
    "Remove spaces both in the BEGINNING and in the END of a string:\n",
    "\n",
    "import re\n",
    "sentence = re.sub(\"^\\s+|\\s+$\", \"\", sentence, flags=re.UNICODE)\n",
    "Remove ONLY DUPLICATE spaces:\n",
    "\n",
    "import re\n",
    "sentence = \" \".join(re.split(\"\\s+\", sentence, flags=re.UNICODE))"
   ]
  },
  {
   "cell_type": "markdown",
   "metadata": {
    "slideshow": {
     "slide_type": "slide"
    }
   },
   "source": [
    "## Fim.\n",
    "<p style=\"text-align:right;\"><a href='../Índice.ipynb' target=\"_self\">Volta ao Índice</a></p>"
   ]
  },
  {
   "cell_type": "markdown",
   "metadata": {},
   "source": [
    "Fontes:   \n",
    "1. [Regex](https://medium.com/@kennymiyasato/regular-expressions-tutorial-with-jupyter-notebooks-6d7df2429695)\n",
    "2. [Unicode e UTF-8](https://www.ime.usp.br/~pf/algoritmos/apend/unicode.html)"
   ]
  }
 ],
 "metadata": {
  "kernelspec": {
   "display_name": "Python 3",
   "language": "python",
   "name": "python3"
  },
  "language_info": {
   "codemirror_mode": {
    "name": "ipython",
    "version": 3
   },
   "file_extension": ".py",
   "mimetype": "text/x-python",
   "name": "python",
   "nbconvert_exporter": "python",
   "pygments_lexer": "ipython3",
   "version": "3.8.3"
  },
  "rise": {
   "scroll": true
  }
 },
 "nbformat": 4,
 "nbformat_minor": 4
}
