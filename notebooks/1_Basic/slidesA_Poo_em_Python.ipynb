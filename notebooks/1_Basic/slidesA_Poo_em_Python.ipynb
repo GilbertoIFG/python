{
 "cells": [
  {
   "cell_type": "markdown",
   "metadata": {},
   "source": [
    "# Programação Orientada a Objetos (POO) em Python\n",
    "\n",
    "<a id=\"Conteudo\">Conteúdo:</a>\n",
    "1. <a href=\"#Introdução\">Introdução</a>  \n",
    "1. <a href=\"#Classes e Objetos\">Classes e Objetos</a>  \n",
    "    1.1 Classe  \n",
    "    1.2 Objeto  \n",
    "    2.3 Atributos de Classe VS Instância  \n",
    "3. <a href=\"#Conceitos Básicos da POO\">Conceitos Básicos da POO</a>  \n",
    "    3.1 Herança  \n",
    "    3.2 Encapsulamento  \n",
    "    3.3 Polimorfismo  \n",
    "4. <a href=\"#Resumo\">Resumo</a>\n",
    "5. <a href=\"#Exercícios\">Exercícios</a>\n",
    "6. <a href=\"#Anexo\">Anexo</a> - Classe de Dados\n",
    "1. <a href=\"#Mixins\">Anexo</a> - Mixins"
   ]
  },
  {
   "cell_type": "markdown",
   "metadata": {},
   "source": [
    "<a id=\"Introdução\"></a>\n",
    "## 1. Introdução\n",
    "\n",
    "Até agora, todos os códigos que escrevemos pertencem à categoria de **Programação Orientada a Procedimentos (POP)** que consiste em um conjunto de instruções para dizer ao computador o que fazer; essas instruções são organizadas em funções. Cada programa é dividido em **coleção de variáveis**, **estruturas de dados** e **rotinas/funções** para realizar diferentes tarefas. Python é uma linguagem de programação multiparadigma, pois oferece suporte a diferentes abordagens de programação. Uma maneira eficiente de se programar em Python é usar a **Programação Orientada a Objetos - POO**. A curva de aprendizado é mais íngreme, mas é extremamente poderosa e vale o tempo investido em dominá-la. \n",
    "\n",
    "Obs.: Você não precisa usar POO ao programar em Python. Você ainda pode escrever programas muito poderosos usando a POP. A POP é boa para programas simples e pequenos, enquanto a POO é mais adequada a programas complexos e grandes. \n",
    "\n",
    "A **Programação Orientada a Objetos** divide a tarefa de programação em **objetos**, os quais combinam dados (conhecidos como atributos) e comportamentos/funções (conhecidos como métodos). Portanto, existem dois componentes principais na POO: **classe** e **objeto**.  \n",
    "<img src=\"img\\forma_e_bolo.png\" height=250 width=350>\n",
    "\n",
    "A **classe** é uma forma/gabarito (*template*) na qual se define dados e funções com afinidades lógicas. Ela fornece uma maneira de se criar estruturas de dados que modelam entidades do mundo real. Por exemplo, podemos criar uma classe de   `pessoas` que contém dados como **nome**, **idade** e algumas funções de comportamento para **imprimir** idades e gêneros de um grupo de pessoas. Enquanto a **classe é a forma do bolo (gabarito)**, o **objeto é uma instância da classe, o bolo**, com valores reais do objeto. Por exemplo: um objeto da classe `pessoas` poderia se chamar 'João da Silva' e ter 35 anos de idade. \n",
    "<img src=\"img\\classe_objetos.jpg\" alt=\"\" width=400>  \n",
    "A **classe** é como um modelo para definir as informações necessárias e o **objeto** é uma cópia específica que preenche o modelo (uma instância da classe). Além disso, os objetos instanciados da mesma classe são independentes uns dos outros. Por exemplo, se tivermos outra pessoa - 'Maria Augusta' com 33 anos - o objeto pode ser instanciado (criado, materializado) a partir da classe `pessoas`, mas seria uma instância independente (ocuparia um lugar exclusivo na memória).\n",
    "<img src=\"img\\Class-Object-Illustration.png\" alt=\"\" width=400>  \n",
    "<img src=\"img\\paralelo.png\" alt=\"\" width=300> \n",
    "Vamos implementar o exemplo da classe `pessoas` em Python.  "
   ]
  },
  {
   "cell_type": "code",
   "execution_count": 7,
   "metadata": {},
   "outputs": [],
   "source": [
    "# Classe Pessoas\n",
    "class Pessoas():\n",
    "    def __init__(self, nome, idade):\n",
    "        self.nome = nome\n",
    "        self.idade = idade\n",
    "        \n",
    "    def cumprimento(self):\n",
    "        print(f\"Saudações, meu nome é {self.nome} e eu tenho {self.idade} anos.\")"
   ]
  },
  {
   "cell_type": "markdown",
   "metadata": {},
   "source": [
    "Criando um objeto da classe `Pessoas` para armazenar os dados da pessoa \"João da Silva\":\n"
   ]
  },
  {
   "cell_type": "code",
   "execution_count": 8,
   "metadata": {},
   "outputs": [
    {
     "name": "stdout",
     "output_type": "stream",
     "text": [
      "Saudações, meu nome é João da Silva e eu tenho 35 anos.\n",
      "João da Silva\n",
      "35\n"
     ]
    }
   ],
   "source": [
    "# Instanciando a classe Pessoas:\n",
    "pessoa1 = Pessoas(\"João da Silva\", 35)\n",
    "pessoa1.cumprimento()\n",
    "print(pessoa1.nome)\n",
    "print(pessoa1.idade)"
   ]
  },
  {
   "cell_type": "markdown",
   "metadata": {},
   "source": [
    "Criando uma outra instância da classe `Pessoas` (um objeto) para guardar os dados da pessoa \"Maria Augusta\":\n"
   ]
  },
  {
   "cell_type": "code",
   "execution_count": 9,
   "metadata": {},
   "outputs": [
    {
     "name": "stdout",
     "output_type": "stream",
     "text": [
      "Saudações, meu nome é Maria Augusta e eu tenho 33 anos.\n",
      "Maria Augusta\n",
      "33\n"
     ]
    }
   ],
   "source": [
    "# Outra instância da classe Pessoas:\n",
    "pessoa2 = Pessoas(nome = \"Maria Augusta\", idade = 33)\n",
    "pessoa2.cumprimento()\n",
    "print(pessoa2.nome)\n",
    "print(pessoa2.idade)"
   ]
  },
  {
   "cell_type": "markdown",
   "metadata": {},
   "source": [
    "No exemplo anterior, primeiro definimos uma classe, `Pessoas`, com `nome` e `idade` como dados (atributos) e uma função (método) `cumprimento()`. Em seguida, iniciamos um objeto `pessoa1` com o nome e a idade como especificados. Podemos ver claramente que a classe define toda a estrutura, enquanto o objeto é apenas uma instância da classe. Posteriormente, instanciamos outro objeto, `pessoa2`. É claro que `pessoa1` e `pessoa2` são objetos independentes entre si, embora sejam instâncias da mesma classe, `Pessoas`.\n",
    "\n",
    "O **objetivo principal da POO é criar código reutilizável**.  \n",
    "Existem pelo menos três princípios fundamentais na POO:\n",
    "\n",
    "* **Herança** - uma maneira de criar novas classes a partir da classe existente e sem modificá-la.\n",
    "\n",
    "* **Encapsulamento** - uma maneira de ocultar alguns detalhes privados de uma classe para outros objetos.\n",
    "\n",
    "* **Polimorfismo** - uma maneira de usar a operação comum de diferentes maneiras para diferentes tipos de dados.  \n",
    "\n",
    "<img src=\"img\\Conceitos_POO.jpg\" alt=\"\" width=300>  \n",
    "\n",
    "A partir desses princípios, a POO apresenta vários benefícios: fornece uma estrutura modular clara para programas que enfatizam a reutilização de código; fornece uma maneira simples de resolver problemas complexos; ajuda a definir tipos de dados mais abstratos para modelar cenários do mundo real; oculta detalhes de implementação, deixando uma interface claramente definida; combina dados e operações.\n",
    "\n",
    "Existem outras vantagens ao se usar POO em um grande projeto, pesquise sobre o assunto..."
   ]
  },
  {
   "cell_type": "markdown",
   "metadata": {},
   "source": [
    "<p style=\"text-align:right;\">Voltar ao <a href=\"#Conteudo\">Conteúdo</a></p>"
   ]
  },
  {
   "cell_type": "markdown",
   "metadata": {},
   "source": [
    "<a id=\"Classes e Objetos\"></a>\n",
    "## 2. Classes e Objetos\n",
    "\n",
    "A seção anterior apresentou os dois componentes principais de POO: **classe**, que é um modelo/gabarito/forma usado para\n",
    "definir um agrupamento lógico de dados e funções, e **objeto**, que é uma instância da classe definida com valores reais. Vamos estudar esses dois componentes com mais detalhes.  \n",
    "\n",
    "### 2.1 Classe\n",
    "Trata-se de **modelo** ou **gabarito** (forma de bolo) que é usado na criação de objetos (o bolo, em si).\n",
    "É a definição da estrutura que se deseja para fazer a manipulação de objetos. Semelhante a uma função, é definida como um bloco de código, começando com a instrução **`class`**. Veja a sintaxe para se definir uma classe logo a seguir:  "
   ]
  },
  {
   "cell_type": "code",
   "execution_count": null,
   "metadata": {},
   "outputs": [],
   "source": [
    "class NomeClasse(NomeSuperClasse):\n",
    "    def __init__(self, argumentos):\n",
    "    # define ou inicia os atributos do objeto\n",
    "    \n",
    "    def metodo1(self, argumentos):\n",
    "    # corpo do metodo1\n",
    "    \n",
    "    def metodo2(self, argumentos):\n",
    "    # corpo do metodo2"
   ]
  },
  {
   "cell_type": "markdown",
   "metadata": {},
   "source": [
    "Observe que a definição de uma classe é muito semelhante à definição de uma função: ambas precisam ser instanciadas antes\n",
    "de se poder usá-las. Para o nome da classe, é convenção usar palavras iniciando com letras maiúsculas (*CapWords*). Uma superclasse (`NomeSuperClasse`) é usada quando você deseja criar uma classe para herdar os atributos e métodos de outra classe já definida. Veremos mais sobre herança na próxima seção.  \n",
    "\n",
    "O método **\\_\\_init\\_\\_** é especial em classes Python pois são executados assim que um objeto da classe é instanciado (criado). Em geral, se atribui valores iniciais para os atributos do objeto (inicialização do objeto) antes de ser usado no código. Observe os dois sublinhados no início e final do nome do método `__init__()`, indicando que este é um método reservado para uso especial no idioma. Neste método você pode atribuir propriedades diretamente ao se criar um objeto.  \n",
    "\n",
    "As funções `metodo1()` e `metodo2()` são usadas para definir os métodos de instância que serão aplicados aos atributos (propriedades). Observe que há um argumento, denominado `self` (o próprio objeto, a própria instância),  na definição do método na classe. Um método de instância de classe deve ter este argumento extra como o primeiro argumento. Este argumento particular se refere ao próprio objeto; convencionalmente, usamos a identificação `self` (auto, ele próprio) para nomeá-lo. Métodos da instância podem acessar livremente atributos e outros métodos no mesmo objeto usando este parâmetro `self`.  \n",
    "\n",
    "**Exemplo**: Defina uma classe chamada `Aluno`, com os atributos `id` (identidade do aluno), `nome`, `genero`, `tipo` iniciados no método `__init__` e um método chamado `mostra_nome` para imprimir o nome do aluno. Todos os atributos do objeto serão passados como argumentos na criação do objeto, exceto o atributo `tipo`, que terá o valor `'aprendiz'`."
   ]
  },
  {
   "cell_type": "code",
   "execution_count": 10,
   "metadata": {},
   "outputs": [],
   "source": [
    "class Aluno():\n",
    "    def __init__(self, id, nome, genero):\n",
    "        self.id = id\n",
    "        self.nome = nome\n",
    "        self.genero = genero\n",
    "        self.tipo = \"aprendiz\"\n",
    "\n",
    "    def mostra_nome(self):\n",
    "        print(f\"Meu nome é {self.nome}.\")"
   ]
  },
  {
   "cell_type": "markdown",
   "metadata": {},
   "source": [
    "Nesse exemplo vemos que esta classe simples contém todas as partes necessárias mencionadas anteriormente. O método __init__ inicia os atributos quando criamos um objeto. Nós precisamos passa o valor inicial para `id`, `nome` e `genero`, enquanto o atributo `tipo` é uma string fixa, `'aprendiz'`.  \n",
    "\n",
    "Esses atributos podem ser acessados por todos os métodos definidos na classe com o comando `self.atributo`, como por exemplo, no método `mostra_nome()`, que foi usado o atributo `nome` com `self.nome`. Os métodos definidos na classe podem ser acessados e usados em outros métodos diferentes, usando a sintaxe `self.metodo()`.  \n",
    "\n",
    "Vamos adicionar um método para mostrar um relatório com todos os atributos da classe `Aluno`. O método terá outro parâmetro, `pontuacao`, que receberá um número entre 0 e 100 relativo à média do aluno e que deverá constar do relatório."
   ]
  },
  {
   "cell_type": "code",
   "execution_count": 19,
   "metadata": {},
   "outputs": [],
   "source": [
    "class Aluno():\n",
    "    def __init__(self, id, nome, genero):\n",
    "        self.id = id\n",
    "        self.nome = nome\n",
    "        self.genero = genero\n",
    "        self.tipo = \"aprendiz\"\n",
    "\n",
    "    def mostra_nome(self):\n",
    "        print(f\"Meu nome é {self.nome}.\")\n",
    "        \n",
    "    def relatorio(self, pontuacao):\n",
    "        self.mostra_nome()\n",
    "        print(f\"Minha identidade é {self.id} e sou do gênero {self.genero} (Tipo: {self.tipo})\")\n",
    "        print(f\"Minha média é: {pontuacao}\")"
   ]
  },
  {
   "cell_type": "markdown",
   "metadata": {},
   "source": [
    "### 2.2 Objeto  \n",
    "Conforme mencionado, um **objeto** é uma instância da classe definida com valores do mundo real. Muitos exemplos de diferentes valores associados à classe são possíveis, e cada uma dessas instâncias será independente uns dos outros. Além disso, depois de criar um objeto e chamar algum método de instância do objeto, não precisamos passar o parâmetro `self` porque o Python fornece automaticamente essa informação como podemos ver no exemplo seguinte."
   ]
  },
  {
   "cell_type": "code",
   "execution_count": 20,
   "metadata": {
    "scrolled": true
   },
   "outputs": [
    {
     "name": "stdout",
     "output_type": "stream",
     "text": [
      "Meu nome é João.\n",
      "Meu nome é Maria.\n",
      "aprendiz\n",
      "fem.\n"
     ]
    }
   ],
   "source": [
    "# Cria dois objetos: (\"001\", \"João\", \"masc.\") e (\"002\", \"Maria\", \"fem.\"), e chama o método mostra_nome.\n",
    "aluno1 = Aluno(\"001\", \"João\", \"masc.\")\n",
    "aluno2 = Aluno(\"002\", \"Maria\", \"fem.\")\n",
    "aluno1.mostra_nome()\n",
    "aluno2.mostra_nome()\n",
    "print(aluno1.tipo)\n",
    "print(aluno2.genero)"
   ]
  },
  {
   "cell_type": "markdown",
   "metadata": {},
   "source": [
    "No código anterior, criamos dois objetos da classe `Aluno`, `aluno1` e `aluno2`, com dois conjuntos diferentes de valores. Cada objeto é uma instância da classe `Aluno` e tem um conjunto de atributos com valores diferentes. Digite `aluno1.+TAB`\n",
    "para ver os atributos e métodos definidos para o objeto `aluno1`. Para acessar um atributo, digite `objeto.atributo`, ou seja: `aluno1.tipo`, `aluno1.nome`, `aluno1.id`, ..., e para chamar um método, é necessário usar a mesma sintaxe acrescida de parênteses, pois se está chamando uma função, tal como em `aluno1.mostra_nome()`. "
   ]
  },
  {
   "cell_type": "code",
   "execution_count": 21,
   "metadata": {},
   "outputs": [
    {
     "name": "stdout",
     "output_type": "stream",
     "text": [
      "Meu nome é João.\n",
      "Minha identidade é 001 e sou do gênero masc. (Tipo: aprendiz)\n",
      "Minha média é: 95\n",
      "Meu nome é Maria.\n",
      "Minha identidade é 002 e sou do gênero fem. (Tipo: aprendiz)\n",
      "Minha média é: 70\n"
     ]
    }
   ],
   "source": [
    "# Chama o método 'relatorio()' para os objetos 'aluno1' e 'aluno2' com médias 95 e 70, respectivamente.\n",
    "# Obs.: não é preciso passar o argumento \"self\" nesse caso, o Python faz isso automaticamente.\n",
    "aluno1.relatorio(95)\n",
    "aluno2.relatorio(70)"
   ]
  },
  {
   "cell_type": "markdown",
   "metadata": {},
   "source": [
    "Podemos ver o método `relatorio()` sendo chamado para imprimir os dados associados aos dois objetos. Observe que o valor da `pontuacao` que passamos está disponível apenas para o método `relatorio()` (no escopo deste método). Vimos também que a chamada do método `mostra_nome()` de dentro do método `relatorio()` funciona perfeitamente, contanto que você chame o método com o argumento `self` nele."
   ]
  },
  {
   "cell_type": "markdown",
   "metadata": {},
   "source": [
    "### 2.3 Atributos de Classe  &nbsp; &nbsp;  X &nbsp; &nbsp;   Atributos de Instância  \n",
    "\n",
    "Os atributos usados na classe `Aluno` são chamados de **atributos de instância**, o que significa que eles só pertencem a uma instância específica; ao usá-los, você precisa usar a sintaxe `self.atributo` dentro da classe. Existem outros atributos chamados de **atributos de classe**, que são compartilhados com todas as instâncias criadas a partir dessa classe. Vejamos um exemplo de como definir e usar um **atributo de classe**.  "
   ]
  },
  {
   "cell_type": "code",
   "execution_count": null,
   "metadata": {},
   "outputs": [],
   "source": [
    "# Classe 'Aluno' modificada para ter um atributo de classe 'n', que registrará quantos objetos da classe foram criados, \n",
    "# e além disso, um método 'matriculados' para imprimir o número de objetos daquela classe.\n"
   ]
  },
  {
   "cell_type": "code",
   "execution_count": 19,
   "metadata": {},
   "outputs": [],
   "source": [
    "class Aluno():\n",
    "    n = 0                                 # qtde de alunos (instÂncias) matriculados\n",
    "    def __init__(self, id, nome, genero):\n",
    "        self.id = id\n",
    "        self.nome = nome\n",
    "        self.genero = genero\n",
    "        self.tipo = \"aprendizagem\"\n",
    "        Aluno.n += 1\n",
    "\n",
    "    def mostra_nome(self):\n",
    "        print(f\"Meu nome é {self.nome}.\")\n",
    "        \n",
    "    def relatorio(self, pontuacao):\n",
    "        self.mostra_nome()\n",
    "        print(f\"Minha identidade é {self.id} e sou do gênero {self.genero} (Tipo: {self.tipo})\")\n",
    "        print(f\"Minha média é: {pontuacao}\")\n",
    "        \n",
    "    def matriculados(self):\n",
    "        print(f\"Aluno(s) Matriculado(s): {Aluno.n}\")"
   ]
  },
  {
   "cell_type": "markdown",
   "metadata": {},
   "source": [
    "Ao definir um **atributo de classe**, devemos defini-lo fora de todos os outros métodos, sem usar `self`. Para usar os **atributos de classe**, usamos a sintaxe `NomeClasse.atributo`, que neste caso é `Aluno.n`. Este atributo será compartilhado por todas as instâncias criadas a partir dessa classe.  "
   ]
  },
  {
   "cell_type": "code",
   "execution_count": 20,
   "metadata": {},
   "outputs": [
    {
     "name": "stdout",
     "output_type": "stream",
     "text": [
      "1\n",
      "2\n"
     ]
    }
   ],
   "source": [
    "aluno1 = Aluno(\"001\", \"João\", \"masc.\")\n",
    "print(aluno1.n)\n",
    "aluno2 = Aluno(\"002\", \"Maria\", \"fem.\")\n",
    "print(aluno2.n)\n"
   ]
  },
  {
   "cell_type": "markdown",
   "metadata": {},
   "source": [
    "Como antes, criamos dois objetos, com os **atributos de instância** `id`, `nome`, `genero` e `tipo` pertencentes apenas ao objeto específico. Por exemplo, `aluno1.nome` é \"João da Silva\" e `aluno2.nome` é \"Maria Augusta\". Mas quando nós imprimimos o atributo de classe `Aluno.n` depois de criarmos o objeto `aluno2`, esse atributo de classe no objeto `aluno1` também mudou. Essa é a expectativa que temos para o **atributo de classe** porque ele é compartilhado por todos os objetos criados daquela classe.  \n",
    "\n",
    "Agora que entendemos a diferença entre **classe** e **instância**, antes de podermos tirar o máximo proveito da POO, ainda precisamos entender o conceito de **herança**, **encapsulamento** e **polimorfismo**."
   ]
  },
  {
   "cell_type": "markdown",
   "metadata": {},
   "source": [
    "<p style=\"text-align:right;\">Voltar ao <a href=\"#Conteudo\">Conteúdo</a></p>"
   ]
  },
  {
   "cell_type": "markdown",
   "metadata": {},
   "source": [
    "<a id=\"Conceitos Básicos da POO\"></a>\n",
    "## 3. Conceitos Básicos da POO\n",
    "\n",
    "Existem três conceitos muito importantes na POO: \n",
    "1) Herança: torna o código POO mais modular, mais fácil de reutilizar e capaz de se construir um relacionamento entre as diversas classes;  \n",
    "2) Encapsulamento: pode ocultar alguns dos detalhes privados de uma classe, de modo que outros objetos não tenham acesso;   3) Polimorfismo: permite usar uma operação comum com diferentes objetos.  \n",
    "\n",
    "### 3.1 Herança  \n",
    "\n",
    "A herança permite a definição de uma classe que herda todos os métodos e atributos de outra classe. Convencionalmente, a nova classe é definida como **classe filha**, e aquela da qual ela herda é chamada de **classe pai/mãe** ou **superclasse**. Se nos referirmos à definição da estrutura da classe, podemos ver a sintaxe para a herança básica: `class NomeClasse(superclasse):`, o que significa que a **nova classe**, `NomeClasse`, pode acessar todos os atributos e métodos da **classe mãe**, `superclasse`. A **herança** constrói um relacionamento entre as classes mãe e filha. Normalmente, a classe pai é um tipo geral, enquanto a classe filha é um tipo específico. "
   ]
  },
  {
   "cell_type": "code",
   "execution_count": 2,
   "metadata": {},
   "outputs": [],
   "source": [
    "# Cria uma classe 'Sensor' com atributos: 'nome', 'localizacao' e 'data_grav'; que são passados na criação de\n",
    "# um objeto e outro atributo 'dados', como um dicionário vazio para armazenar dados. \n",
    "# Cria tbm um método 'adiciona_dados' com parâmetros de entrada 't' e 'dados' para incluir data/hora e arranjos de dados. \n",
    "# Este método atribui 't' e 'dados' ao atributo 'dados', tendo 'tempo' e 'dados' como chaves no dicionário. \n",
    "# Cria um método 'apaga_dados' para excluir os dados.\n",
    "class Sensor():\n",
    "    def __init__(self, nome, localizacao, data_grav):\n",
    "        self.nome = nome\n",
    "        self.localizacao = localizacao\n",
    "        self.data_grav = data_grav\n",
    "        self.dados = {}                     # dicionário vazio\n",
    "    def adiciona_dados(self, t, dados):\n",
    "        self.dados[\"tempo\"] = t\n",
    "        self.dados[\"dados\"] = dados\n",
    "        print(f\"Temos {len(dados)} pontos salvos.\")\n",
    "    def apaga_dados(self):\n",
    "        self.dados = {}\n",
    "        print(\"Dados apagados!\")"
   ]
  },
  {
   "cell_type": "markdown",
   "metadata": {},
   "source": [
    "Agora que temos uma classe para armazenar informações gerais de sensores, vamos criar um objeto sensor para armazenar dados.\n"
   ]
  },
  {
   "cell_type": "code",
   "execution_count": 25,
   "metadata": {},
   "outputs": [
    {
     "name": "stdout",
     "output_type": "stream",
     "text": [
      "Temos 17 pontos salvos.\n"
     ]
    },
    {
     "data": {
      "text/plain": [
       "{'tempo': array([ 0,  1,  2,  3,  4,  5,  6,  7,  8,  9, 10, 11, 12, 13, 14, 15, 16]),\n",
       " 'dados': array([ 2, -5, -2,  3,  4, -2, -4,  0,  3, -3, -3, -5, -4, -2,  4,  3, -2])}"
      ]
     },
     "execution_count": 25,
     "metadata": {},
     "output_type": "execute_result"
    }
   ],
   "source": [
    "# Cria um objeto da classe 'Sensor'\n",
    "import numpy as np\n",
    "sensor1 = Sensor(\"sensor1\", \"IFG - Campus Goiânia\", \"2021-05-30\")\n",
    "dados = np.random.randint(-5, 5, 17)\n",
    "sensor1.adiciona_dados(np.arange(17), dados)\n",
    "sensor1.dados"
   ]
  },
  {
   "cell_type": "markdown",
   "metadata": {},
   "source": [
    "#### Herdando e Estendendo um Novo Método  \n",
    "\n",
    "Digamos que temos um tipo diferente de sensor: um acelerômetro. Ele compartilha os mesmos atributos e métodos da classe `Sensor`, mas também tem diferentes atributos ou métodos que precisam ser acrescentados ou modificados na classe original. Criamos uma classe diferente a partir do zero? É aqui que a **herança** deve ser usada para facilitar as coisas. A nova classe herdará da classe mãe `Sensor` todos os atributos e métodos. Podemos, se quisermos, estender os atributos e/ou os métodos da classe mãe. Vamos primeiro criar a nova classe, `Acelerometro`, e adicionar um novo método, mostra_tipo, para relatar o tipo de sensor que ele é."
   ]
  },
  {
   "cell_type": "code",
   "execution_count": 27,
   "metadata": {},
   "outputs": [
    {
     "name": "stdout",
     "output_type": "stream",
     "text": [
      "Eu sou um acelerômetro!\n",
      "Temos 15 pontos salvos.\n"
     ]
    },
    {
     "data": {
      "text/plain": [
       "{'tempo': array([ 0,  1,  2,  3,  4,  5,  6,  7,  8,  9, 10, 11, 12, 13, 14]),\n",
       " 'dados': array([4, 0, 1, 4, 4, 3, 1, 4, 0, 2, 1, 4, 0, 1, 1])}"
      ]
     },
     "execution_count": 27,
     "metadata": {},
     "output_type": "execute_result"
    }
   ],
   "source": [
    "class Acelerometro(Sensor):\n",
    "    \n",
    "    def mostra_tipo(self):\n",
    "        print('Eu sou um acelerômetro!')\n",
    "        \n",
    "ac = Acelerometro('ac1', 'IFG Campus Goiânia Oeste', '30/05/2021')\n",
    "ac.mostra_tipo()\n",
    "dados_acel = np.random.randint(0, 5, 15)\n",
    "ac.adiciona_dados(np.arange(15), dados_acel)\n",
    "ac.dados"
   ]
  },
  {
   "cell_type": "markdown",
   "metadata": {},
   "source": [
    "Criar essa nova classe de acelerômetro é muito simples. Herdamos de `Sensor` (a superclasse) e a nova classe realmente contém todos os atributos e métodos da superclasse. Em seguida, adicionamos um novo método, `mostra_tipo()` que não existe na classe `Sensor`. Isso mostra o poder da herança: reutilizamos a maior parte da classe `Sensor` a partir de uma nova classe e estendemos a funcionalidade da classe mãe, especializando-a para sensores do tipo acelerômetro. Além disso, a herança configura um relacionamento lógico para a modelagem das entidades do mundo real: a classe `Sensor` como a classe mãe é mais geral e passa todas as características à classe filha, `Acelerometro`.\n",
    "\n",
    "#### Herança e Sobreposição de Método\n",
    "Quando herdamos de uma classe mãe, podemos mudar a implementação de um método fornecido por ela, e essa operação é chamada de sobreposição/substituição de método. Vejamos o seguinte exemplo."
   ]
  },
  {
   "cell_type": "code",
   "execution_count": 30,
   "metadata": {},
   "outputs": [
    {
     "name": "stdout",
     "output_type": "stream",
     "text": [
      "Eu sou IFG_Ac1, criado no IFG!\n"
     ]
    }
   ],
   "source": [
    "# Cria uma classe IFG_Ac (um tipo específico de acelerômetro criado no IFG) que herda de 'Acelerometro', \n",
    "# mas sobrepõe (substitua) o método 'mostra_tipo()' que imprime o nome do sensor.\n",
    "class IFG_Ac(Acelerometro):\n",
    "    def mostra_tipo(self):\n",
    "        print(f'Eu sou {self.nome}, criado no IFG!')\n",
    "        \n",
    "ac_ifg = IFG_Ac('IFG_Ac1', 'IFG Campus Goiânia', '30/05/2021')\n",
    "ac_ifg.mostra_tipo()"
   ]
  },
  {
   "cell_type": "markdown",
   "metadata": {},
   "source": [
    "Vimos que a nossa nova classe `IFG_Ac` realmente substituiu o método `mostra_tipo()` com novos recursos. Neste exemplo, não estamos apenas herdando recursos da classe mãe, mas também modificando/melhorando alguns métodos.\n",
    "\n",
    "#### Herdando e Atualizando Atributos com Super\n",
    "Vamos criar uma classe `NovoSensor` que herda da classe `Sensor` mas com atributos atualizados adicionando um novo atributo, `marca`. Claro, podemos redefinir todo o método __init__ conforme mostrado a seguir e sobrescrever a função mãe."
   ]
  },
  {
   "cell_type": "code",
   "execution_count": 3,
   "metadata": {},
   "outputs": [
    {
     "data": {
      "text/plain": [
       "'Infineon'"
      ]
     },
     "execution_count": 3,
     "metadata": {},
     "output_type": "execute_result"
    }
   ],
   "source": [
    "class NovoSensor(Sensor):\n",
    "    def __init__(self, nome, localizacao, data_grav, marca):\n",
    "        self.nome = nome\n",
    "        self.localizacao = localizacao\n",
    "        self.data_grav = data_grav\n",
    "        self.marca = marca\n",
    "        self.dados = {}\n",
    "        \n",
    "novo_sensor = NovoSensor('acel', 'Depto.IV', '30/05/2021', 'Infineon')\n",
    "novo_sensor.marca"
   ]
  },
  {
   "cell_type": "markdown",
   "metadata": {},
   "source": [
    "Agora vamos ver o método `super()` que evita a listagem de todas as definições dos atributos, isso ajuda a manter o código sustentável e previsível. Mas é realmente útil quando você está fazendo herança múltipla, que está além da discussão deste livro.\n",
    "\n",
    "### 3.2 Encapsulamento\n",
    "Faz a reunião de **dados** (atributos) e **código** (métodos) em objetos.  \n",
    "O encapsulamento descreve a ideia de restringir o acesso a métodos e atributos em uma classe. Isso ocultará os detalhes complexos aos usuários e evitará que os dados sejam modificados acidentalmente. Em Python, isso é conseguido usando métodos  ou atributos privados usando o caractere sublinhado como prefixo, ou seja, '\\_' simples ou '__' duplo. Vejamos o seguinte exemplo."
   ]
  },
  {
   "cell_type": "code",
   "execution_count": 4,
   "metadata": {},
   "outputs": [
    {
     "name": "stdout",
     "output_type": "stream",
     "text": [
      "Ac\n",
      "IFG - Campus Goiânia\n"
     ]
    },
    {
     "ename": "AttributeError",
     "evalue": "'Sensor' object has no attribute '__versao'",
     "output_type": "error",
     "traceback": [
      "\u001b[1;31m---------------------------------------------------------------------------\u001b[0m",
      "\u001b[1;31mAttributeError\u001b[0m                            Traceback (most recent call last)",
      "\u001b[1;32m<ipython-input-4-98500ec541d4>\u001b[0m in \u001b[0;36m<module>\u001b[1;34m\u001b[0m\n\u001b[0;32m     16\u001b[0m \u001b[0mprint\u001b[0m\u001b[1;33m(\u001b[0m\u001b[0msensor1\u001b[0m\u001b[1;33m.\u001b[0m\u001b[0mnome\u001b[0m\u001b[1;33m)\u001b[0m\u001b[1;33m\u001b[0m\u001b[1;33m\u001b[0m\u001b[0m\n\u001b[0;32m     17\u001b[0m \u001b[0mprint\u001b[0m\u001b[1;33m(\u001b[0m\u001b[0msensor1\u001b[0m\u001b[1;33m.\u001b[0m\u001b[0m_localizacao\u001b[0m\u001b[1;33m)\u001b[0m\u001b[1;33m\u001b[0m\u001b[1;33m\u001b[0m\u001b[0m\n\u001b[1;32m---> 18\u001b[1;33m \u001b[0mprint\u001b[0m\u001b[1;33m(\u001b[0m\u001b[0msensor1\u001b[0m\u001b[1;33m.\u001b[0m\u001b[0m__versao\u001b[0m\u001b[1;33m)\u001b[0m\u001b[1;33m\u001b[0m\u001b[1;33m\u001b[0m\u001b[0m\n\u001b[0m",
      "\u001b[1;31mAttributeError\u001b[0m: 'Sensor' object has no attribute '__versao'"
     ]
    }
   ],
   "source": [
    "class Sensor():\n",
    "    def __init__(self, nome, localizacao):\n",
    "        self.nome = nome\n",
    "        self._localizacao = localizacao\n",
    "        self.__versao = '1.0'\n",
    "    \n",
    "    # uma função que recupera informação\n",
    "    def pega_versao(self):\n",
    "        print(f'A versão do sensor é {self.__versao}')\n",
    "    \n",
    "    # uma função de atribui informação\n",
    "    def poe_versao(self, versao):\n",
    "        self.__versao = versao\n",
    "        \n",
    "sensor1 = Sensor('Ac', 'IFG - Campus Goiânia')\n",
    "print(sensor1.nome)\n",
    "print(sensor1._localizacao)\n",
    "print(sensor1.__versao)"
   ]
  },
  {
   "cell_type": "markdown",
   "metadata": {},
   "source": [
    "O exemplo anterior mostra como funciona o encapsulamento. Com um único sublinhado, definimos uma **variável privada** e ela não deve ser acessada diretamente. <ins> Mas isso é apenas uma convenção</ins>, nada o impede de fazer isso. Você ainda pode ter acesso a ela, se desejar. Com o sublinhado duplo, podemos ver que o atributo **__versao** não pode ser acessado ou modificado diretamente. Portanto, para obter acesso aos atributos com sublinhado duplo, precisamos usar as funções de recuperação e atribuição de informações para acessá-los internamente, conforme mostrado no exemplo a seguir."
   ]
  },
  {
   "cell_type": "code",
   "execution_count": 5,
   "metadata": {},
   "outputs": [
    {
     "name": "stdout",
     "output_type": "stream",
     "text": [
      "A versão do sensor é 1.0\n"
     ]
    }
   ],
   "source": [
    "sensor1.pega_versao()"
   ]
  },
  {
   "cell_type": "code",
   "execution_count": 6,
   "metadata": {},
   "outputs": [
    {
     "name": "stdout",
     "output_type": "stream",
     "text": [
      "A versão do sensor é 2.0\n"
     ]
    }
   ],
   "source": [
    "sensor1.poe_versao(\"2.0\")\n",
    "sensor1.pega_versao()"
   ]
  },
  {
   "cell_type": "markdown",
   "metadata": {},
   "source": [
    "O sublinhado simples e duplo também se aplica a métodos privados.\n",
    "\n",
    "### 3.3 Polimorfismo¶\n",
    "O polimorfismo é outro conceito fundamental em POO, e significa múltiplas formas. O polimorfismo nos permite usar uma única interface com diferentes formas bases, como tipos de dados ou classes. Por exemplo, podemos ter métodos comumente nomeados em classes ou classes filhas. Já vimos um exemplo anterior, quando substituímos o método `mostra_tipo()` no `IFG_Ac`. Para a classe mãe `Acelerometro` e classe filha `IFG_Ac`, ambas têm um método denominado `mostra_tipo()`, mas com implementações diferentes. Essa capacidade de usar um único nome com muitas formas agindo de maneira diferente em diferentes situações reduz muito as complexidades do código. Não vamos discutir mais sobre polimorfismo, mas se você estiver interessado, verifique informações online para se aprofundar nesse conceito.\n",
    "\n",
    "O código de chamada do objeto (método) é agnóstico quanto ao fato de um objeto pertencer a uma classe mãe ou um de seus descendentes (abstração, modularidade). O mesmo método chamado para dois objetos de duas classes diferentes se comportarão de maneira diferente, dependendo da implementação de cada um nas respectivas classes.\n",
    "\n",
    "Exemplo: Classe de figuras geométricas, quadrados e círculos."
   ]
  },
  {
   "cell_type": "code",
   "execution_count": 2,
   "metadata": {},
   "outputs": [
    {
     "name": "stdout",
     "output_type": "stream",
     "text": [
      "[4, 28.274333882308138]\n",
      "Erro: Método não implementado ainda!\n"
     ]
    }
   ],
   "source": [
    "import math\n",
    "\n",
    "class FormaGeometrica:\n",
    "    def area(self):\n",
    "        raise NotImplementedError()\n",
    "    # __init__ é um método especial chamado de 'método construtor'\n",
    "\n",
    "# Herança + Encapsulamento\n",
    "\n",
    "class Quadrado(FormaGeometrica):\n",
    "    def __init__(self, lado):\n",
    "        self.lado = lado\n",
    "    def area(self):\n",
    "        return self.lado ** 2\n",
    "\n",
    "class Circulo(FormaGeometrica):\n",
    "    def __init__(self, raio):\n",
    "        self.raio = raio\n",
    "    def area(self):\n",
    "        return math.pi * self.raio ** 2\n",
    "\n",
    "formas = [Quadrado(2), Circulo(3)]      \n",
    "\n",
    "# Polimorfismo: o método 'area()' a ser chamado dependerá do objeto em questão\n",
    "print([s.area() for s in formas])\n",
    "s = FormaGeometrica()\n",
    "try:\n",
    "    s.area()                         # não existe método 'area()' implementado para classe mãe\n",
    "except NotImplementedError as e:\n",
    "    print(\"Erro: Método não foi implementado ainda!\")"
   ]
  },
  {
   "cell_type": "markdown",
   "metadata": {},
   "source": [
    "<p style=\"text-align:right;\">Voltar ao <a href=\"#Conteudo\">Conteúdo</a></p>"
   ]
  },
  {
   "cell_type": "markdown",
   "metadata": {},
   "source": [
    "<a id=\"Resumo\"></a>\n",
    "## 4. Resumo\n",
    "\n",
    "* POO e POP são diferentes. A POO tem muitos benefícios e geralmente é mais apropriada para uso em projetos de grande escala.  \n",
    "\n",
    "* Classe é a forma (gabarito) da estrutura que nos permite agrupar dados e métodos, enquanto objeto é uma instância da classe.  \n",
    "\n",
    "* O conceito de “herança” é chave para POO e que permite referirmos a atributos ou a métodos da superclasse.  \n",
    "\n",
    "* O conceito de “encapsulamento” permite ocultar alguns dos detalhes privados de uma classe de outros objetos.  \n",
    "\n",
    "* O conceito de “polimorfismo” permite usar a operação comum de diferentes maneiras para diferentes tipos de dados."
   ]
  },
  {
   "cell_type": "markdown",
   "metadata": {},
   "source": [
    "<p style=\"text-align:right;\">Voltar ao <a href=\"#Conteudo\">Conteúdo</a></p>"
   ]
  },
  {
   "cell_type": "markdown",
   "metadata": {},
   "source": [
    "<a id=\"Exercícios\"></a>\n",
    "## 5. Exercícios\n",
    "\n",
    "<ol start=\"1\"><li>Descreva as diferenças entre classes e objetos.</li>\n",
    "\n",
    "<li>Descreva por que usamos <tt>self</tt> como o primeiro argumento nos métodos.</li>  \n",
    "\n",
    "<li>O que é um método construtor? E porque é usado?</li>  \n",
    "\n",
    "<li>Descreva as diferenças entre os atributos de classe e instância.</li>  \n",
    "\n",
    "<li>A seguir temos a definição da classe <tt>Ponto</tt> que tem como atributos as coordenada <tt>(x,y)</tt>. Adicione um método <tt>traca_ponto()</tt> que plota a posição do ponto.</li>  "
   ]
  },
  {
   "cell_type": "code",
   "execution_count": 22,
   "metadata": {},
   "outputs": [
    {
     "data": {
      "image/png": "[encoded data removed]",
      "text/plain": [
       "<Figure size 432x288 with 1 Axes>"
      ]
     },
     "metadata": {
      "needs_background": "light"
     },
     "output_type": "display_data"
    }
   ],
   "source": [
    "import matplotlib.pyplot as plt\n",
    "\n",
    "class Ponto():\n",
    "    def __init__(self, x, y):\n",
    "        self.x = x\n",
    "        self.y = y\n",
    "    def plota(self):\n",
    "        plt.plot(self.x,self.y,'r*')\n",
    "        \n",
    "ponto1 = Ponto(10,25)\n",
    "ponto2 = Ponto(-10,15)\n",
    "ponto1.plota()\n",
    "ponto2.plota()"
   ]
  },
  {
   "cell_type": "markdown",
   "metadata": {},
   "source": [
    "<ol start=\"6\"><li>Use a classe do exercício 5 e adicione um método <tt>calc_dist()</tt> que recebe os argumentos <tt>(x,y)</tt> de outro ponto e retorna a distância calculada entre os dois pontos.  \n",
    "\n",
    "<li>O que é herança?</li>  \n",
    "\n",
    "<li>Como herdamos de uma superclasse e adicionamos novos métodos?</li>  \n",
    "\n",
    "<li>Quando herdamos de uma superclasse, precisamos substituir um método por um novo, como fazemos isso?</li>  \n",
    "\n",
    "<li>Qual é o super método? Por que precisamos disso?</li>  \n",
    "\n",
    "<li>Crie uma classe para modelar algum objeto do mundo real e crie uma nova classe para herdar dela. Veja o exemplo seguinte. Você deve usar um exemplo diferente e usar o máximo possível de conhecimentos adquiridos.</li>  "
   ]
  },
  {
   "cell_type": "code",
   "execution_count": 11,
   "metadata": {},
   "outputs": [
    {
     "name": "stdout",
     "output_type": "stream",
     "text": [
      "Motor em funcionamento!\n",
      "Motor em funcionamento!\n"
     ]
    }
   ],
   "source": [
    "# possível resposta...\n",
    "class Carro():\n",
    "    def __init__(self, marca, cor):\n",
    "        self.marca = marca\n",
    "        self.cor = cor\n",
    "    \n",
    "    def ignicao(self):\n",
    "        print('Motor acionado!')\n",
    "        \n",
    "class Caminhao(Carro):\n",
    "    def __init__(self, marca, cor, eixos):\n",
    "        super().__init__(marca, cor)\n",
    "        self.eixos = eixos\n",
    "        \n",
    "    def ignicao(self, chave):\n",
    "        if chave == 'chave_caminhao':\n",
    "            print('Motor em funcionamento!')\n",
    "        else:\n",
    "            print('Chave errada!')\n",
    "            \n",
    "    def desliga(self, freio):\n",
    "        if freio:\n",
    "            print('Motor desligado!')\n",
    "        else:\n",
    "            print('Motor em funcionamento!')\n",
    "            \n",
    "cam1 = Caminhao('Toyota', 'Prata', 5)\n",
    "cam1.ignicao('chave_caminhao')\n",
    "cam1.desliga(False)"
   ]
  },
  {
   "cell_type": "markdown",
   "metadata": {},
   "source": [
    "<ol start=\"12\"><li>Crie uma função que atue como uma caluladora simples Se a operação não for especificada, o padrão será a adição.  Se a operação for especificada incorretamente, retorne uma mensagem de erro.  \n",
    "    \n",
    "Exemplo: <tt>calc(4,5,'multiplicar')</tt> retorna 20 e <tt>calc(3,5)</tt> retorna 8.  \n",
    "    <tt>calc(1, 2, 'algo')</tt> retorna a mensagem de erro: <tt>Operação desconhecida!</tt></li>  \n",
    "\n",
    "<li>Crie uma classe <tt>Empregado</tt> com dois atributos, fornecidos no construtor: <tt>nome, anos_de_servico</tt>; e um  método para calcular o salário: <tt>1500 + 100 * anos_de_servico</tt>.</li>  \n",
    "<li>Crie uma subclasse <tt>Gerente</tt> que redefina o método de cálculo do salário da seguinte forma: <tt>2500 + 120 * anos_de_servico</tt>.\n",
    "    <li>Crie um pequeno banco de dados usando dicionário, onde a chave é o <tt>nome</tt> do empregado. Preencha o banco de dados com as seguintes informações:  \n",
    "<tt>empregados = [Empregado(\"Lúcia\", 3), Empregado(\"João\", 1), Gerente(\"Júlia\", 10), Gerente(\"Paulo\", 3)]</tt>.</li>  \n",
    "<li>Crie uma lista de listas contendo [[nome, salário]] de todos os empregados e mostre o salário médio pago na empresa.</li>"
   ]
  },
  {
   "cell_type": "markdown",
   "metadata": {},
   "source": [
    "<a id=\"Projeto\"></a>\n",
    "## 6. Projeto\n",
    "\n",
    "Criar uma aplicação para ser usada como lista de compras em supermercados, armazenando os seguintes itens de dados: nome, qtde e unidade; de cada mercadoria a ser comprada. A aplicação deve mostrar uma lista de itens com indicação daqueles que já foram comprados. Use POO. \n",
    "\n",
    "Criar um método __init__ que aceita um ou mais itens, que serão adicionadas à lista de compras. Criar métodos que permitam:\n",
    "* adicionar novos itens à lista de compras;\n",
    "* marcar itens na lista como “comprados”;\n",
    "* remover itens, comprados ou não, da lista;\n",
    "* liste o nome dos itens a serem comprados (em ordem alfabética);\n",
    "* liste o nome dos itens que foram comprados (em ordem alfabética);\n",
    "\n",
    "Não deve existir itens redundantes na lista de compras -- se a mercadoria \"maçã\" for inserida mais de uma vez, deve-se constar na lista de compras apenas uma vez (sugestão: use conjuntos para armazenar elementos únicos na lista).\n",
    "\n",
    "A aplicação deve ser orientada a menu, com pelo menos as seguintes opções:\n",
    "1. Lista de Compras Nova\n",
    "2. Salvar Lista de Compras\n",
    "3. Carregar Lista de Compras\n",
    "4. Alterar Lista de Compras (incluir, atualizar, excluir)\n",
    "5. Fazer Compras\n",
    "6. Finalizar Aplicação"
   ]
  },
  {
   "cell_type": "markdown",
   "metadata": {},
   "source": [
    "<p style=\"text-align:right;\">Voltar ao <a href=\"#Conteudo\">Conteúdo</a></p>"
   ]
  },
  {
   "cell_type": "markdown",
   "metadata": {},
   "source": [
    "<a id=\"Anexo\"></a>\n",
    "## 6. Anexo - Classes de Dados\n",
    "\n",
    "Um recurso novo e empolgante que apareceu no Python 3.7 foi a **Classe de Dados**. Uma classe de dados é uma classe que normalmente contém dados, embora não haja realmente nenhuma restrição. Elas fornecem uma maneira conveniente de definir classes que existem principalmente para armazenar dados e permitir a recuperação de valores por meio de pesquisa de atributo.\n",
    "\n",
    "Com classes de dados, você não precisa escrever código clichê para fazer **inicialização**, **representação** e **comparações** adequadas dos seus objetos.\n",
    "\n",
    "Vamos ver como:\n",
    "<ul><li>Definir suas próprias classes de dados</li>\n",
    "    <li>Adicionar valores padrão aos campos em sua classe de dados</li>\n",
    "    <li>Personalizar a ordem dos objetos da classe de dados</li>\n",
    "    <li>Trabalhar com classes de dados imutáveis</li>\n",
    "    <li>Manipular herança com classes de dados</li>"
   ]
  },
  {
   "cell_type": "markdown",
   "metadata": {},
   "source": [
    "### 6.1 Usando Classes de Dados\n",
    "Usando o decorador `@dataclass` podemos derivar atributos e métodos da classe de dados **dateclass**.\n",
    "Sintaxe:\n",
    "```python\n",
    "@dataclass\n",
    "class MinhaClasseDados:\n",
    "    variavel1: tipo_dado\n",
    "    variavel2: tipo_dado\n",
    "    ...\n",
    "```"
   ]
  },
  {
   "cell_type": "code",
   "execution_count": 6,
   "metadata": {
    "scrolled": true
   },
   "outputs": [
    {
     "name": "stdout",
     "output_type": "stream",
     "text": [
      "Produto: Pneu Aro 14\", Qtde: 22\n"
     ]
    }
   ],
   "source": [
    "from dataclasses import dataclass\n",
    "\n",
    "@dataclass\n",
    "class ClasseDados:\n",
    "    nome: str\n",
    "    qtde: int\n",
    "        \n",
    "teste = ClasseDados('Pneu Aro 14\"', 22)\n",
    "print(f\"Produto: {teste.nome}, Qtde: {teste.qtde}\")"
   ]
  },
  {
   "cell_type": "markdown",
   "metadata": {},
   "source": [
    "### 6.2 Comparação com as Classes Padrões\n",
    "Vamos criar uma classe de dados para armazenar as cartas de um baralho, para mostrar as funcionalidades básicas já implementadas, tais como a comparação de objetos, além da instanciação e da apresentação (*print*)."
   ]
  },
  {
   "cell_type": "code",
   "execution_count": 7,
   "metadata": {},
   "outputs": [
    {
     "name": "stdout",
     "output_type": "stream",
     "text": [
      "Ordem: Q, Naipe: copas\n"
     ]
    },
    {
     "data": {
      "text/plain": [
       "True"
      ]
     },
     "execution_count": 7,
     "metadata": {},
     "output_type": "execute_result"
    }
   ],
   "source": [
    "@dataclass\n",
    "class ClasseDadosCartas:\n",
    "    ordem: str\n",
    "    naipe: str            # Espadas (♠️); Paus (♣); Copas (♥️); Ouros (♦️)\n",
    "\n",
    "# Instanciação\n",
    "rainha_de_copas = ClasseDadosCartas('Q','copas')\n",
    "\n",
    "# Apresentação\n",
    "print(f'Ordem: {rainha_de_copas.ordem}, Naipe: {rainha_de_copas.naipe}')\n",
    "\n",
    "# Comparação\n",
    "rainha_de_copas == ClasseDadosCartas('Q','copas')"
   ]
  },
  {
   "cell_type": "markdown",
   "metadata": {},
   "source": [
    "Se vc fosse implementar essa classe de dados usando uma classe regular (padrão) teria que escrever código clichê, como o mostrado a seguir:"
   ]
  },
  {
   "cell_type": "code",
   "execution_count": 9,
   "metadata": {},
   "outputs": [
    {
     "name": "stdout",
     "output_type": "stream",
     "text": [
      "Ordem: Q, Naipe: copas\n"
     ]
    },
    {
     "data": {
      "text/plain": [
       "False"
      ]
     },
     "execution_count": 9,
     "metadata": {},
     "output_type": "execute_result"
    }
   ],
   "source": [
    "class CartasRegular:\n",
    "    def __init__(self,ordem,naipe):\n",
    "        self.ordem = ordem\n",
    "        self.naipe = naipe\n",
    "        \n",
    "# Instanciação\n",
    "rainha_de_copas = CartasRegular('Q','copas')\n",
    "\n",
    "# Apresentação\n",
    "print(f'Ordem: {rainha_de_copas.ordem}, Naipe: {rainha_de_copas.naipe}')\n",
    "\n",
    "# Comparação\n",
    "rainha_de_copas == CartasRegular('Q','copas')"
   ]
  },
  {
   "cell_type": "markdown",
   "metadata": {},
   "source": [
    "Por padrão, as classes de dados implmentam um método **__repr()__** que fornece uma string mais apresentável como representação do objeto e um método **__eq()__** que pode fazer comparações básicas entre objetos.  \n",
    "\n",
    "Para a classe `CartasRegular` imitar a versão de comparação da classe de dados, vc terá que acrescentar o seguinte método:"
   ]
  },
  {
   "cell_type": "code",
   "execution_count": 10,
   "metadata": {},
   "outputs": [
    {
     "name": "stdout",
     "output_type": "stream",
     "text": [
      "Ordem: Q, Naipe: copas\n"
     ]
    },
    {
     "data": {
      "text/plain": [
       "True"
      ]
     },
     "execution_count": 10,
     "metadata": {},
     "output_type": "execute_result"
    }
   ],
   "source": [
    "class CartasRegular:\n",
    "    def __init__(self,ordem,naipe):\n",
    "        self.ordem = ordem\n",
    "        self.naipe = naipe\n",
    "        \n",
    "    def __repr__(self):\n",
    "        return (f\"{self._class__.__name__}\"\n",
    "                f\"Ordem: {self.ordem!r},  Naipe: {self.naipe!r}\")\n",
    "    \n",
    "    def __eq__(self,outro):\n",
    "        if outro.__class__ is not self.__class__:\n",
    "            return NotImplemented\n",
    "        return (self.ordem, self.naipe) == (outro.ordem, outro.naipe)\n",
    "\n",
    "# Instanciação\n",
    "rainha_de_copas = CartasRegular('Q','copas')\n",
    "\n",
    "# Apresentação\n",
    "print(f'Ordem: {rainha_de_copas.ordem}, Naipe: {rainha_de_copas.naipe}')\n",
    "\n",
    "# Comparação\n",
    "rainha_de_copas == CartasRegular('Q','copas')"
   ]
  },
  {
   "cell_type": "markdown",
   "metadata": {},
   "source": [
    "Como se pode ver no código mostrado na célula anterior, temos um trabalho extra a ser feito para permitir que as classes regulares realizem a mesma coisa que as classes de dados fazem, por padrão."
   ]
  },
  {
   "cell_type": "markdown",
   "metadata": {},
   "source": [
    "### 6.3 Alternativas às Classes de Dados\n",
    "Para estruturas de dados simples, você provavelmente já usou uma lista, uma tupla ou um dicionário. Podemos representar a carta rainha de copas usando uma das seguintes maneiras."
   ]
  },
  {
   "cell_type": "code",
   "execution_count": 13,
   "metadata": {},
   "outputs": [],
   "source": [
    "rainha_de_copas_tupla = ('Q','copas')\n",
    "rainha_de_copas_dic = {'ordem':'Q', 'naipe':'copas'}"
   ]
  },
  {
   "cell_type": "markdown",
   "metadata": {},
   "source": [
    "Isso funciona, mas coloca muita responsabilidade sobre você enquanto programador.   \n",
    "#### Problemas com Tuplas e Dicionários  \n",
    "* Lembrar o **tipo específico de dados** da variável: você precisa se lembrar que a variável `rainha_de_copas` representa uma carta. \n",
    "* **Ordem dos Atributos** para Tuplas: você precisa se lembrar da ordem dos atributos, pois escrever ('espadas', 'A') bagunçará seu programa... e provavelmente vc não terá uma mensagem de erro facilmente compreensível.\n",
    "* **Nomes de Atributos consistentes** para Dicionários: você deve certificar-se de que os nomes dos atributos são consistentes."
   ]
  },
  {
   "cell_type": "code",
   "execution_count": 14,
   "metadata": {},
   "outputs": [],
   "source": [
    "as_de_espada_dic = {'valor':'Q', 'naipe':'espadas'}"
   ]
  },
  {
   "cell_type": "markdown",
   "metadata": {},
   "source": [
    "O exemplo de atribuição anterior não funcionará como o esperado. Além do que, o uso dessas estruturas não é adequado para o armazenamento e manipulação desses dados... A tupla não permite o acesso pelo nome da carta (e sim por um índice, ex.: `rainha_de_copas_tupla[0]`) e na versão com dicionário, não temos a busca pelo nome do atributo (e sim pelo nome da chave, ex.: `rainha_de_copas_dic['naipe']`).  \n",
    "\n",
    "Uma alternativa melhor é a **tupla nominada** que há muito tempo é usada para criar pequenas estruturas de dados legíveis. Podemos recriar o exemplo da Classe de Dados para cartas de baralho usando uma *namedtuple*, a qual vai proporcionar a mesma saída da classe `ClasseDadosCartas`.\n",
    "\n",
    "A ***namedtuple*** é um tipo de *container* como dicionário e disponível no módulo `collections`. Tal como os dicionários, eles contêm chaves com *hash* para um valor específico. Mas, ao contrário dos dicionários, esse *container* oferece suporte ao acesso **chave-valor** e à iteração, a funcionalidade que falta nos dicionários."
   ]
  },
  {
   "cell_type": "code",
   "execution_count": 27,
   "metadata": {},
   "outputs": [
    {
     "name": "stdout",
     "output_type": "stream",
     "text": [
      "Ordem: Q, Naipe: copas\n"
     ]
    },
    {
     "data": {
      "text/plain": [
       "True"
      ]
     },
     "execution_count": 27,
     "metadata": {},
     "output_type": "execute_result"
    }
   ],
   "source": [
    "from collections import namedtuple\n",
    "CartasTuplaNominada = namedtuple('CartasTuplaNominada', ['ordem', 'naipe'])\n",
    "\n",
    "# Instanciação\n",
    "rainha_de_copas_tn = CartasTuplaNominada('Q','copas')   # tn : tupla nominada\n",
    "\n",
    "# Apresentação\n",
    "print(f'Ordem: {rainha_de_copas.ordem}, Naipe: {rainha_de_copas.naipe}')\n",
    "\n",
    "# Comparação\n",
    "rainha_de_copas_tn == CartasTuplaNominada('Q','copas')"
   ]
  },
  {
   "cell_type": "markdown",
   "metadata": {},
   "source": [
    "Mas então porque nos preocuparmos com Classes de Dados? As Classes de Dados vêm com muito mais recursos do que vimos até agora. Ao mesmo tempo, a **namedtuple** tem alguns outros recursos que não são necessariamente desejáveis. Por projeto, uma **tupla nominada** é uma tupla regular..."
   ]
  },
  {
   "cell_type": "code",
   "execution_count": 18,
   "metadata": {
    "scrolled": true
   },
   "outputs": [
    {
     "data": {
      "text/plain": [
       "True"
      ]
     },
     "execution_count": 18,
     "metadata": {},
     "output_type": "execute_result"
    }
   ],
   "source": [
    "rainha_de_copas_tn == ('Q','copas')"
   ]
  },
  {
   "cell_type": "markdown",
   "metadata": {},
   "source": [
    "Embora o resultado da comparação possa parecer uma coisa boa, essa falta de consciência sobre seu próprio tipo pode levar a erros sutis e difíceis de encontrar, especialmente porque ele comparará alegremente duas classes de nomes diferentes, como podemos ver no *script* seguinte."
   ]
  },
  {
   "cell_type": "code",
   "execution_count": 23,
   "metadata": {},
   "outputs": [
    {
     "data": {
      "text/plain": [
       "True"
      ]
     },
     "execution_count": 23,
     "metadata": {},
     "output_type": "execute_result"
    }
   ],
   "source": [
    "Pessoa = namedtuple('Pessoa',['inicial_nome','sobrenome'])\n",
    "as_de_espadas = CartasTuplaNominada('A','espadas')\n",
    "as_de_espadas == Pessoa('A','espadas')"
   ]
  },
  {
   "cell_type": "code",
   "execution_count": 29,
   "metadata": {},
   "outputs": [
    {
     "data": {
      "text/plain": [
       "True"
      ]
     },
     "execution_count": 29,
     "metadata": {},
     "output_type": "execute_result"
    }
   ],
   "source": [
    "# Usando herança (classe derivada)\n",
    "from typing import NamedTuple\n",
    "\n",
    "class Pessoa(NamedTuple):\n",
    "    inicial_nome: str\n",
    "    sobrenome: str\n",
    "\n",
    "as_de_espadas = CartasTuplaNominada('A','espadas')\n",
    "as_de_espadas == Pessoa('A','espadas')"
   ]
  },
  {
   "cell_type": "markdown",
   "metadata": {},
   "source": [
    "As **namedtuple**s também tem algumas restrições. Por exemplo, é difícil adicionar valores padrão a alguns dos campos na **namedtuple**. As **namedtuple**s também são imutáveis por natureza, ou seja, o valor de uma **namedtuple** nunca pode mudar. Em algumas aplicações, isso pode ser uma característica interessante, mas em outras talvez se queira algo mais flexível."
   ]
  },
  {
   "cell_type": "code",
   "execution_count": 22,
   "metadata": {
    "scrolled": true
   },
   "outputs": [
    {
     "ename": "AttributeError",
     "evalue": "can't set attribute",
     "output_type": "error",
     "traceback": [
      "\u001b[1;31m---------------------------------------------------------------------------\u001b[0m",
      "\u001b[1;31mAttributeError\u001b[0m                            Traceback (most recent call last)",
      "\u001b[1;32m<ipython-input-22-b78ba63cb63f>\u001b[0m in \u001b[0;36m<module>\u001b[1;34m\u001b[0m\n\u001b[0;32m      1\u001b[0m \u001b[0mcarta\u001b[0m \u001b[1;33m=\u001b[0m \u001b[0mCartasTuplaNominada\u001b[0m\u001b[1;33m(\u001b[0m\u001b[1;34m'7'\u001b[0m\u001b[1;33m,\u001b[0m\u001b[1;34m'ouros'\u001b[0m\u001b[1;33m)\u001b[0m\u001b[1;33m\u001b[0m\u001b[1;33m\u001b[0m\u001b[0m\n\u001b[1;32m----> 2\u001b[1;33m \u001b[0mcarta\u001b[0m\u001b[1;33m.\u001b[0m\u001b[0mordem\u001b[0m \u001b[1;33m=\u001b[0m \u001b[1;34m'9'\u001b[0m\u001b[1;33m\u001b[0m\u001b[1;33m\u001b[0m\u001b[0m\n\u001b[0m",
      "\u001b[1;31mAttributeError\u001b[0m: can't set attribute"
     ]
    }
   ],
   "source": [
    "carta = CartasTuplaNominada('7','ouros')\n",
    "carta.ordem = '9'"
   ]
  },
  {
   "cell_type": "markdown",
   "metadata": {},
   "source": [
    "Classes de dados não substituirão todos os usos de tuplas nominadas. Por exemplo, se você precisa que sua estrutura de dados se comporte como uma tupla, então uma tupla nominada é uma boa alternativa!  \n",
    "\n",
    "<img src='img\\attrs.png' alt='ícone do projeto Attrs' style=\"float:left;width:92px;height:92px;\">Outra alternativa, e uma das inspirações para a criação das **Classes de Dados**, é o projeto **attrs**. Esse projeto oferece suporte a alguns recursos que as Classes de Dados não oferecem, incluindo conversores e validadores. O Attrs já existe há algum tempo e é compatível com versões anteriores do Python. Mas o attrs não faz parte da biblioteca padrão e, como tal, isso adicionaria uma dependência externa aos seus projetos.\n",
    "\n",
    "Se você usa **Classes de Dados**, funcionalidade similar estará disponível e sem dependências externas. "
   ]
  },
  {
   "cell_type": "markdown",
   "metadata": {},
   "source": [
    "Além de tupla, dicionário, tupla nominada (`collections`) e [attrs](https://www.attrs.org/), existem outros projetos similares como [typing.NamedTuple](https://docs.python.org/3/library/typing.html?highlight=namedtuple#typing.NamedTuple), [attrdict](https://pypi.org/project/attrdict), [plumber](https://pypi.org/project/plumber) e [fields](https://pypi.org/project/fields).  \n",
    "\n",
    "**Classes de Dados** não são soluções universais, existem várias situações em que as alternativas mostradas se saiem melhor, por exemplo:  \n",
    "* Para manter a compatibilidade com uma API específica;\n",
    "* Funcionalidades não presentes em **Classes de Dados**."
   ]
  },
  {
   "cell_type": "markdown",
   "metadata": {},
   "source": [
    "### 6.4 Classes de Dados Básicas\n",
    "Vamos criar uma classe para armazenar posições geográficas (latitude, longitude e localidade) e para tanto vamos usar o decorador `@dataclass` e logo abaixo a definição da classe e seus atributos e respectivos tipos de dado. A notação de dois pontos ':' usada pelos campos é uma característica introduzida no Python 3.6 e é chamada de anotações de variáveis."
   ]
  },
  {
   "cell_type": "code",
   "execution_count": 35,
   "metadata": {
    "scrolled": true
   },
   "outputs": [
    {
     "name": "stdout",
     "output_type": "stream",
     "text": [
      "Posicao(local='Goiânia', lon=-16.6799, lat=-49.255)\n",
      "Goiânia localiza-se em 49.255 S, 16.6799 W\n"
     ]
    }
   ],
   "source": [
    "@dataclass\n",
    "class Posicao:\n",
    "    local: str      # nome da localidade dada à posição geográfica\n",
    "    lon: float      # longitude em graus\n",
    "    lat: float      # latitude em graus\n",
    "\n",
    "pos = Posicao('Goiânia',-16.6799,-49.255)\n",
    "print(pos)\n",
    "print(f'{pos.local} localiza-se em {abs(pos.lat)} S, {abs(pos.lon)} W')"
   ]
  },
  {
   "cell_type": "code",
   "execution_count": 41,
   "metadata": {
    "scrolled": false
   },
   "outputs": [
    {
     "name": "stdout",
     "output_type": "stream",
     "text": [
      "Posicao(local='Goiânia', lon=-16.6799, lat=-49.255)\n",
      "Goiânia localiza-se em 49.255 S, 16.6799 W\n"
     ]
    }
   ],
   "source": [
    "# De outra forma (como para Tuplas Nominadas)\n",
    "from dataclasses import make_dataclass\n",
    "\n",
    "Posicao = make_dataclass('Posicao',['local','lon','lat'])\n",
    "pos = Posicao('Goiânia',-16.6799,-49.255)\n",
    "print(pos)\n",
    "print(f'{pos.local} localiza-se em {abs(pos.lat)} S, {abs(pos.lon)} W')"
   ]
  },
  {
   "cell_type": "markdown",
   "metadata": {},
   "source": [
    "Uma classe de dados é uma classe regular, a única coisa que a torna diferente é que ela tem métodos de modelagem de dados básica já implementados para inicialização, representação e comparações: **__init()__**, **__repr()__** e **__eq()__**.\n",
    "\n",
    "#### Valores Default\n",
    "É fácil acrescentar valores default aos campos da sua classe de dados. O exemplo seguinte mostra que os campos serão iniciados com valores default caso não sejam informados na instanciação do objeto. Mais tarde veremos uma forma um pouco mais elaborada de fornecimento de valores default, *default_factory*."
   ]
  },
  {
   "cell_type": "code",
   "execution_count": 40,
   "metadata": {
    "scrolled": false
   },
   "outputs": [
    {
     "name": "stdout",
     "output_type": "stream",
     "text": [
      "Posicao(local='Ilha Nula', lon=0.0, lat=0.0)\n",
      "Ilha Nula localiza-se em 0.0 S, 0.0 W\n",
      "\n",
      "Posicao(local='Greenwich', lon=0.0, lat=51.8)\n",
      "Posicao(local='Vancouver', lon=-123.1, lat=49.3)\n",
      "Posicao(local='Oslo', lon=10.8, lat=59.9)\n"
     ]
    }
   ],
   "source": [
    "@dataclass\n",
    "class Posicao:\n",
    "    local: str           # nome da localidade dada à posição geográfica\n",
    "    lon: float = 0.0     # longitude em graus\n",
    "    lat: float = 0.0     # latitude em graus\n",
    "\n",
    "pos = Posicao('Ilha Nula')\n",
    "print(pos)\n",
    "print(f'{pos.local} localiza-se em {abs(pos.lat)} S, {abs(pos.lon)} W\\n')\n",
    "print(Posicao('Greenwich',lat=51.8))\n",
    "print(Posicao('Vancouver',-123.1,49.3))\n",
    "print(Posicao('Oslo',10.8,59.9))"
   ]
  },
  {
   "cell_type": "markdown",
   "metadata": {},
   "source": [
    "O exemplo seguinte executa sem qualquer problema, pois a tipificação de dados em Python funciona de forma dinâmica. Para se capturar os erros de tipos, checadores de tipo como **Mypy** podem ser executados no código fonte."
   ]
  },
  {
   "cell_type": "code",
   "execution_count": 43,
   "metadata": {},
   "outputs": [
    {
     "data": {
      "text/plain": [
       "Posicao(local=3.14, lon='Bom dia!', lat=2021)"
      ]
     },
     "execution_count": 43,
     "metadata": {},
     "output_type": "execute_result"
    }
   ],
   "source": [
    "Posicao(3.14, 'Bom dia!', 2021)"
   ]
  },
  {
   "cell_type": "markdown",
   "metadata": {},
   "source": [
    "#### Definições de Dicas de Tipo\n",
    "Você deve ter percebido que na declaração dos campos de uma classe de dados temos uma dica do tipo de dado usado, por exemplo: `nome: str`. De fato, colocar algum tipo de dica é mandatório quando definimos os campos na classe de dados. Sem uma dica de tipo, o campo não fará parte da classe de dados. Se você não quiser usar tipos de dados use `Any` do módulo `typing`."
   ]
  },
  {
   "cell_type": "code",
   "execution_count": null,
   "metadata": {},
   "outputs": [],
   "source": [
    "from typing import Any\n",
    "\n",
    "@dataclass\n",
    "class SemTiposExplicitos:\n",
    "    nome: Any               # não força o tipo do dado em tempo de execução\n",
    "    valor: Any = 47         # não força o tipo do dado em tempo de execução"
   ]
  },
  {
   "cell_type": "markdown",
   "metadata": {},
   "source": [
    "#### Acrescentando Métodos\n",
    "Vamos acrescentar um método para calcular entre dois pontos geográficos ao longo da superfície terrestre. Uma forma de fazermos isso é usando a fórmula de **haversine** (caso especial de uma fórmula mais geral de trigonometria esférica): $hav(\\theta)=sen^2(\\theta/2)$.\n",
    "\n",
    "$$dist = 2r\\;\\rm{arcsen}\\left(\\sqrt{\\rm{hav}(\\varphi_2-\\varphi_1)+cos(\\varphi_1).cos(\\varphi_2).hav(\\lambda_2-\\lambda_1)}\\right)$$\n"
   ]
  },
  {
   "cell_type": "code",
   "execution_count": 75,
   "metadata": {
    "scrolled": false
   },
   "outputs": [
    {
     "name": "stdout",
     "output_type": "stream",
     "text": [
      "Goiânia - Oslo..........: 12388.3 km\n",
      "Goiânia - Vancouver.....: 14900.4 km\n",
      "Goiânia - Goiânia.......:     0.0 km\n",
      "Goiânia - Rio de Janeiro:   824.6 km\n"
     ]
    }
   ],
   "source": [
    "from math import asin, cos, radians, sin, sqrt\n",
    "\n",
    "@dataclass\n",
    "class Posicao:\n",
    "    local: str                          # nome da localidade dada à posição geográfica\n",
    "    lon: float = 0.0                    # longitude em graus\n",
    "    lat: float = 0.0                    # latitude em graus\n",
    "\n",
    "    def dist(self, outra):\n",
    "        def hav(ang):                   # função interna\n",
    "            return sin(ang/2)**2\n",
    "        r = 6371                        # raio da Terra (km)\n",
    "        lam1, lam2 = radians(self.lon), radians(outra.lon)\n",
    "        phi1, phi2 = radians(self.lat), radians(outra.lat)\n",
    "        rq = hav(phi2 - phi1) + cos(phi1)*cos(phi2)*hav(lam2 - lam1)\n",
    "        return 2*r*asin(sqrt(rq))\n",
    "\n",
    "oslo = Posicao('Oslo',10.8,59.9)\n",
    "gyn  = Posicao('Goiânia',-16.6799,-49.255)\n",
    "van  = Posicao('Vancouver',-123.1,49.3)\n",
    "rj   = Posicao('Rio de Janeiro',-22.9035,-43.2096 )\n",
    "cidades = [oslo, van, gyn, rj]\n",
    "nomes = [cidades[i].local for i in range(len(cidades))]\n",
    "carac = len(max(nomes, key=len))\n",
    "for cidade in cidades:\n",
    "    pts = '.' * (carac-len(cidade.local))\n",
    "    print(f'Goiânia - {cidade.local}{pts}: {gyn.dist(cidade):7.1f} km')"
   ]
  },
  {
   "cell_type": "markdown",
   "metadata": {},
   "source": [
    "<p style=\"text-align:right;\">Voltar ao <a href=\"#Conteudo\">Conteúdo</a></p>"
   ]
  },
  {
   "cell_type": "markdown",
   "metadata": {},
   "source": [
    "<a id=\"Mixins\"></a>\n",
    "## 7. Anexo - Mixins (Herança Múltipla)\n",
    "A linguagem Python permite que uma classe seja derivada (receba a herança) de várias classes. Embora o termo técnico para isso seja **herança múltipla**, muitos desenvolvedores referem-se ao uso de mais de uma classe base (pai) como **mixin**. \n",
    "\n",
    "``` python\n",
    "class ClasseDerivada(ClasseBase1, ClasseBase2, ClasseBase3):\n",
    "    <sentenca-1>\n",
    "    ...\n",
    "    <sentenca-N>\n",
    "```\n",
    "O método `super()` é usado para acessar os **métodos** e **propriedades** de uma classe pai (base).\n",
    "\n",
    "O assunto de **herança múltipla** em POO é um tanto controverso porque, em geral, logo se consegue atolar numa grande confusão... As linguagens mais modernas (Java, C#) somente admitem **herança única** de classes.\n",
    "\n",
    "Mas podemos tirar algum proveito da **herança múltipla** em aplicações com *frameworks*, como no caso do **Django** (direcionado à aplicações Web), simplificando a codificação das operações repetitivas."
   ]
  },
  {
   "cell_type": "markdown",
   "metadata": {},
   "source": [
    "### Exemplo\n",
    "Vamos criar uma estrutura própria (*framework*) com classes de auxílio (*Helper Classes*) para a manipulação de Banco de Dados (BD) e diferentes tipos de bases de dados, com o objetivo de se conectar ao BD ou de se registrar atividades em arquivo (*logs file*), sem se preocupar com os detalhes da camada inferior."
   ]
  },
  {
   "cell_type": "code",
   "execution_count": 1,
   "metadata": {},
   "outputs": [],
   "source": [
    "class Registro:\n",
    "    def __init__(self):\n",
    "        self.titulo = ''             # preencha com o título do arquivo de registros\n",
    "    def registre(self):\n",
    "        print('Registrando atividade em ' + self.titulo)\n",
    "        \n",
    "class Conexao:\n",
    "    def __init__(self):\n",
    "        self.servidor = ''           # preencha com o nome do servidor de BD\n",
    "    def conecte(self):\n",
    "        print('Conectando ao BD em ' + self.servidor)"
   ]
  },
  {
   "cell_type": "markdown",
   "metadata": {},
   "source": [
    "Vamos criar a nossa estrutura (*framework*) que permitirá a conexão ao BD ou o registro no arquvo:"
   ]
  },
  {
   "cell_type": "code",
   "execution_count": 2,
   "metadata": {},
   "outputs": [],
   "source": [
    "def framework(item):\n",
    "    # faz a conexão com o BD\n",
    "    if isinstance(item, Conexao):\n",
    "        item.conecte()\n",
    "    # faz o registro da operação\n",
    "    if isinstance(item, Registro):\n",
    "        item.registre()"
   ]
  },
  {
   "cell_type": "markdown",
   "metadata": {},
   "source": [
    "Vamos criar uma classe de banco de dados do tipo SQL:"
   ]
  },
  {
   "cell_type": "code",
   "execution_count": 6,
   "metadata": {},
   "outputs": [],
   "source": [
    "class BancoDadosSql(Conexao, Registro):     # herança múltipla: Conexao e Registro\n",
    "    def __init__(self):\n",
    "        super().__init__()                  # executa o construtor da classe pai\n",
    "        self.titulo   = 'Demonstração de conexão SQL'\n",
    "        self.servidor = \"Um_Servidor_de_BD\""
   ]
  },
  {
   "cell_type": "markdown",
   "metadata": {},
   "source": [
    "Colocando as classes em funcionamento:"
   ]
  },
  {
   "cell_type": "code",
   "execution_count": 7,
   "metadata": {},
   "outputs": [
    {
     "name": "stdout",
     "output_type": "stream",
     "text": [
      "Conectando ao BD em Um_Servidor_de_BD\n",
      "Registrando atividade em Demonstração de conexão SQL\n"
     ]
    }
   ],
   "source": [
    "# cria uma instância da nossa classe\n",
    "conexao_sql = BancoDadosSql()\n",
    "# usa a função framework criado\n",
    "framework(conexao_sql)   # conecta e registra (a classe BancoDadosSql herança dupla)"
   ]
  },
  {
   "cell_type": "markdown",
   "metadata": {},
   "source": [
    "A melhor coisa a fazer é usar um framework confiável, como o Django!"
   ]
  },
  {
   "cell_type": "markdown",
   "metadata": {},
   "source": [
    "<p style=\"text-align:right;\">Voltar ao <a href=\"#Conteudo\">Conteúdo</a></p>"
   ]
  },
  {
   "cell_type": "markdown",
   "metadata": {},
   "source": [
    "Fontes: \n",
    "1. https://pythonnumericalmethods.berkeley.edu acessado em 30/05/2021.\n",
    "2. https://realpython.com/lessons/python-data-classes-overview acessado em 17/09/2021."
   ]
  }
 ],
 "metadata": {
  "kernelspec": {
   "display_name": "Python 3",
   "language": "python",
   "name": "python3"
  },
  "language_info": {
   "codemirror_mode": {
    "name": "ipython",
    "version": 3
   },
   "file_extension": ".py",
   "mimetype": "text/x-python",
   "name": "python",
   "nbconvert_exporter": "python",
   "pygments_lexer": "ipython3",
   "version": "3.8.3"
  }
 },
 "nbformat": 4,
 "nbformat_minor": 4
}
