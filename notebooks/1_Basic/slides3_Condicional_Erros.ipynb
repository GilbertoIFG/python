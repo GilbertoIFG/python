{
 "cells": [
  {
   "cell_type": "markdown",
   "metadata": {
    "slideshow": {
     "slide_type": "slide"
    }
   },
   "source": [
    "# <font color = \"blue\" style=\"background-color: #E9F7E1;\"> Execução Condicional e Erros</font>\n",
    "\n",
    "<ul><li><b>Expressões Relacionais</b></li>\n",
    "    <li><b><a href=\"#2\">Expressões Lógicas</a></b></li>\n",
    "    <li><b><a href=\"#3\">Execução Condicional</a></b></li>\n",
    "    <li><b><a href=\"#4\">Erros Previsíveis (Exceções)</a></b></li></ul>"
   ]
  },
  {
   "cell_type": "markdown",
   "metadata": {
    "slideshow": {
     "slide_type": "slide"
    }
   },
   "source": [
    "## 1. Expressões Relacionais\n",
    "Uma expressão relacional (ou booleana) é uma expressão que terá como resultado um verdadeiro ou um falso.  \n",
    "Os operadores relacionais da Ling. Python:\n",
    "\n",
    "| Operador |Descrição |\n",
    "| :---:    | :---:    |\n",
    "| >        |Maior que |\n",
    "| <        |Menor que |\n",
    "| ==       |Igual a   |\n",
    "| !=       |Não igual |\n",
    "| >=       |Maior ou igual a|\n",
    "| <=       |Menor ou igual a|\n",
    "| is       |É o mesmo objeto|\n",
    "| is not   |Não é o mesmo objeto|\n",
    "| in       |Pertence à sequência|\n",
    "\n",
    "**Obs.1**: Um único sinal de igualdade `=` é um **operador de atribuição** e dois sinais de igualdade `==` é um **operador de comparação** de igualdade.  \n",
    "**Obs.2**: O operador de Igualdade `==` compara a igualdade dos **valores** de ambos os operandos, enquanto o operador `is` verifica se os operandos se referem ao **mesmo objeto** ou não (presente na mesma localização da memória)."
   ]
  },
  {
   "cell_type": "code",
   "execution_count": 6,
   "metadata": {
    "slideshow": {
     "slide_type": "subslide"
    }
   },
   "outputs": [
    {
     "name": "stdout",
     "output_type": "stream",
     "text": [
      "True\n",
      "False\n",
      "<class 'bool'>\n",
      "False False False\n",
      "ok tchau False\n",
      "ok ok True\n",
      "20 ok False\n",
      "ok ok True\n"
     ]
    }
   ],
   "source": [
    "print(15 == 15)                                 # comparação: verdadeira\n",
    "print(15 == 16)                                 # comparação: falsa\n",
    "print(type(True))                               # cte booleana (classe 'bool')\n",
    "print('' == True, '' == False, '' == None)      # cte string nula\n",
    "a = 'ok'\n",
    "b = 'tchau'\n",
    "print(a, b, a is b)\n",
    "b = a                                           # 'b' referencia 'a'\n",
    "print(a, b, a is b)\n",
    "a = 20                                          # 'a' assume nova referência, onde fica armazenado o valor 20\n",
    "print(a, b, a is b)\n",
    "a = 'ok'\n",
    "print(a, b, a is b)"
   ]
  },
  {
   "cell_type": "markdown",
   "metadata": {
    "slideshow": {
     "slide_type": "slide"
    }
   },
   "source": [
    "## <a id=\"2\">2. Expressões Lógicas</a>\n",
    "Uma expressão lógica tem operandos booleanos (`True, False`) e terá como resultado também um valor booleano. Existem três operadores lógicos: `and`, `or`, e `not`. A semântica de cada um desses operadores é similar ao seu significado em Inglês.\n",
    "\n",
    "Considere que a variável `A` contém a constante `True` (verdadeiro) e a variável `B` contém a constante `False` (falso) nos exemplos mostrados na tabela dos **operadores lógicos** da Ling. Python:\n",
    "\n",
    "|Operador | Descrição  | Exemplo |\n",
    "| :---:   | :---:      | :---    |\n",
    "| and     | Operador E | `(A and B) --> False`\n",
    "| or      | Operador OU| `(A or B)  --> True`\n",
    "| not     | Operador NÃO| `not(A and B) --> True`\n",
    "\n",
    "Os operandos desses operadores deveriam ser exclusivamente expressões booleanas, mas o Python não é muito rigoroso. Qualquer número diferente de zero é interpretado como `True` e zero é interpretado como `False`."
   ]
  },
  {
   "cell_type": "code",
   "execution_count": 7,
   "metadata": {
    "slideshow": {
     "slide_type": "subslide"
    }
   },
   "outputs": [
    {
     "data": {
      "text/plain": [
       "(True, False, False, False)"
      ]
     },
     "execution_count": 7,
     "metadata": {},
     "output_type": "execute_result"
    }
   ],
   "source": [
    "20 and True, 0 or 5 > 10, not 11, not(2-3)"
   ]
  },
  {
   "cell_type": "markdown",
   "metadata": {
    "slideshow": {
     "slide_type": "slide"
    }
   },
   "source": [
    "## <a id=\"3\">3. Execução Condicional</a>\n",
    "As **Declarações Condicionais** nos permitem checar condições e mudar o comportamento do programa de acordo com o resultados delas.\n",
    "\n",
    "### 3.1 Condicional Simples\n",
    "``` python\n",
    "if condicao:\n",
    "    comando1\n",
    "    comando2\n",
    "    ...\n",
    "    comandoN\n",
    "```\n",
    "A expressão booleana depois da declaração **`if`** é chamada de `condição` e a declaração termina com um sinal de dois pontos `:`. Sempre depois desse sinal, a(s) linha(s) deve(m) ser indentada(s) (recuada(s) da margem esquerda).  \n",
    "- Se a condição lógica resultar em **verdadeiro**, então o comando ou bloco de comandos (mais de um comando) indentado é executado.  \n",
    "- Se a condição lógica resultar em **falso**, o comando ou bloco de comandos indentado é ignorado."
   ]
  },
  {
   "cell_type": "code",
   "execution_count": 11,
   "metadata": {
    "slideshow": {
     "slide_type": "subslide"
    }
   },
   "outputs": [
    {
     "name": "stdout",
     "output_type": "stream",
     "text": [
      "Duas raízes reais distintas: 5.0 1.0\n",
      "Fim\n"
     ]
    }
   ],
   "source": [
    "# Raízes da Equação quadrática:   a.x^2 + b.x + c = 0\n",
    "# Ex.: x^2 - 6x + 5 = 0\n",
    "a, b, c = 1, -6, 5                # a = 1; b = -6; c = 5\n",
    "delta = b**2 - 4*a*c              # discriminante\n",
    "if delta > 0:\n",
    "    r1 = (-b + (delta**0.5))/2/a\n",
    "    r2 = (-b - (delta**0.5))/2/a\n",
    "    print(\"Duas raízes reais distintas:\", r1, r2)\n",
    "print('Fim')    "
   ]
  },
  {
   "cell_type": "markdown",
   "metadata": {
    "slideshow": {
     "slide_type": "slide"
    }
   },
   "source": [
    "### 3.2 Condicional Composta\n",
    "``` python\n",
    "if condicao:            if (condicao) {\n",
    "    comandoN1               comandoN1;\n",
    "    comandoN2               comandoN2;\n",
    "    ...                     ...\n",
    "    comandoN                comandoN;\n",
    "else:                   } else {\n",
    "    comandoM1               comandoM1;\n",
    "    comandoM2               comandoM2;\n",
    "    ...                     ...\n",
    "    comandoM                comandoM;\n",
    "                        }  \n",
    "    \n",
    "```\n",
    "Uma segunda forma da declaração **`if`** é conhecida por condicional composta, na qual existem duas possibilidades e o resultado da condição determina qual delas será executada."
   ]
  },
  {
   "cell_type": "code",
   "execution_count": 14,
   "metadata": {
    "slideshow": {
     "slide_type": "subslide"
    }
   },
   "outputs": [
    {
     "name": "stdout",
     "output_type": "stream",
     "text": [
      "Digite um valor numérico inteiro:o que é um número inteiro?\n"
     ]
    },
    {
     "ename": "ValueError",
     "evalue": "invalid literal for int() with base 10: 'o que é um número inteiro?'",
     "output_type": "error",
     "traceback": [
      "\u001b[1;31m---------------------------------------------------------------------------\u001b[0m",
      "\u001b[1;31mValueError\u001b[0m                                Traceback (most recent call last)",
      "\u001b[1;32m<ipython-input-14-a94742cadac2>\u001b[0m in \u001b[0;36m<module>\u001b[1;34m\u001b[0m\n\u001b[0;32m      1\u001b[0m \u001b[1;31m# Par ou ímpar?\u001b[0m\u001b[1;33m\u001b[0m\u001b[1;33m\u001b[0m\u001b[1;33m\u001b[0m\u001b[0m\n\u001b[1;32m----> 2\u001b[1;33m \u001b[0mx\u001b[0m \u001b[1;33m=\u001b[0m \u001b[0mint\u001b[0m\u001b[1;33m(\u001b[0m\u001b[0minput\u001b[0m\u001b[1;33m(\u001b[0m\u001b[1;34m\"Digite um valor numérico inteiro:\"\u001b[0m\u001b[1;33m)\u001b[0m\u001b[1;33m)\u001b[0m\u001b[1;33m\u001b[0m\u001b[1;33m\u001b[0m\u001b[0m\n\u001b[0m\u001b[0;32m      3\u001b[0m \u001b[1;32mif\u001b[0m \u001b[0mx\u001b[0m \u001b[1;33m%\u001b[0m \u001b[1;36m2\u001b[0m \u001b[1;33m==\u001b[0m \u001b[1;36m0\u001b[0m \u001b[1;33m:\u001b[0m\u001b[1;33m\u001b[0m\u001b[1;33m\u001b[0m\u001b[0m\n\u001b[0;32m      4\u001b[0m     \u001b[0mprint\u001b[0m\u001b[1;33m(\u001b[0m\u001b[1;34m'Valor digitado é par.'\u001b[0m\u001b[1;33m)\u001b[0m\u001b[1;33m\u001b[0m\u001b[1;33m\u001b[0m\u001b[0m\n\u001b[0;32m      5\u001b[0m \u001b[1;32melse\u001b[0m \u001b[1;33m:\u001b[0m\u001b[1;33m\u001b[0m\u001b[1;33m\u001b[0m\u001b[0m\n",
      "\u001b[1;31mValueError\u001b[0m: invalid literal for int() with base 10: 'o que é um número inteiro?'"
     ]
    }
   ],
   "source": [
    "# Par ou ímpar?\n",
    "x = int(input(\"Digite um valor numérico inteiro:\"))\n",
    "if x % 2 == 0 :\n",
    "    print('Valor digitado é par.')\n",
    "else :\n",
    "    print('Valor digitado é ímpar.')"
   ]
  },
  {
   "cell_type": "code",
   "execution_count": 27,
   "metadata": {
    "slideshow": {
     "slide_type": "subslide"
    }
   },
   "outputs": [
    {
     "name": "stdout",
     "output_type": "stream",
     "text": [
      "Duas raízes reais iguais ou complexas.\n"
     ]
    }
   ],
   "source": [
    "# Raízes da Equação quadrática:   a.x^2 + b.x + c = 0\n",
    "# Ex.: x^2 - 6x + 9 = 0\n",
    "a, b, c = 1, -6, 9\n",
    "delta = b**2 - 4*a*c              # discriminante\n",
    "if delta > 0:\n",
    "    r1 = -b/2/a + (delta**0.5)/2/a\n",
    "    r2 = -b/2/a - (delta**0.5)/2/a\n",
    "    print(\"Duas raízes reais distintas:\", r1, r2)\n",
    "else:\n",
    "    print(\"Duas raízes reais iguais ou complexas.\")"
   ]
  },
  {
   "cell_type": "markdown",
   "metadata": {
    "slideshow": {
     "slide_type": "slide"
    }
   },
   "source": [
    "### 3.3 Condicional Encadeada\n",
    "``` python\n",
    "if condicao1:\n",
    "    comandoN1\n",
    "    ...\n",
    "    comandoN\n",
    "elif condicao2:\n",
    "    comandoM1\n",
    "    ...\n",
    "    comandoM\n",
    "else:\n",
    "    comandoP1\n",
    "    ...\n",
    "    comandoP\n",
    "```\n",
    "Execuções **condicionais encadeadas** são várias condições em cascatas, ou seja, um **`if`** dentro de outro **`if`**. A declaração **`elif`** é a junção das declarações **`else + if`**.  SE os resultados da `condicao1` e `condicao2` forem falsos, então o comando ou bloco de comando depois da declaração `else` será executado.  \n",
    "\n",
    "Não há limite para o número de declarações **`elif`**. Se houver uma cláusula **`else`**, ela tem que estar no final da declaração, mas não há a necessidade de haver uma. Cada condição é verificada em ordem. Se a primeira for falsa, a próxima é verificada, e assim por diante. Se ao menos uma delas for verdadeira, a ramificação correspondente será executada e a declaração condicional terminará. Ainda que mais de uma condição seja verdadeira, somente a primeira delas será executada."
   ]
  },
  {
   "cell_type": "code",
   "execution_count": 17,
   "metadata": {
    "slideshow": {
     "slide_type": "subslide"
    }
   },
   "outputs": [
    {
     "name": "stdout",
     "output_type": "stream",
     "text": [
      "Duas raízes complexas conjugadas: (0.5000000000000001+2.179449471770337j) (0.4999999999999999-2.179449471770337j)\n",
      "Fim\n"
     ]
    }
   ],
   "source": [
    "# Raízes da Equação quadrática:   a.x^2 + b.x + c = 0\n",
    "# Ex.: x^2 - 6x + 10 = 0\n",
    "a, b, c = 1, -1, 5\n",
    "delta = b**2 - 4*a*c                    # discriminante\n",
    "if delta > 0:                           # raízes reais distintas\n",
    "    r1 = -b/2/a + (delta**0.5)/2/a\n",
    "    r2 = -b/2/a - (delta**0.5)/2/a\n",
    "    print(\"Duas raízes reais distintas:\", r1, r2)\n",
    "elif delta == 0:                        # raízes reais iguais \n",
    "    r1 = -b/2/a\n",
    "    r2 = r1\n",
    "    print(\"Duas raízes reais iguais:\", r1, r2)\n",
    "else:                                   # raízes complexas conjugadas\n",
    "    r1 = -b/2/a + (delta**0.5)/2/a\n",
    "    r2 = -b/2/a - (delta**0.5)/2/a\n",
    "    print(\"Duas raízes complexas conjugadas:\", r1, r2)\n",
    "print('Fim')    "
   ]
  },
  {
   "cell_type": "markdown",
   "metadata": {
    "slideshow": {
     "slide_type": "slide"
    }
   },
   "source": [
    "### 3.4 Condicional Aninhada\n",
    "``` python\n",
    "if condicao1:\n",
    "    comando1 (ou bloco de comandos)\n",
    "else:\n",
    "    if condicao2:\n",
    "        comando2 (ou bloco de comandos)\n",
    "    else:\n",
    "        comando3 (ou bloco de comandos)\n",
    "```\n",
    "Uma declaração condicional pode ser aninhada a outra declaração aninhada."
   ]
  },
  {
   "cell_type": "code",
   "execution_count": 19,
   "metadata": {
    "slideshow": {
     "slide_type": "subslide"
    }
   },
   "outputs": [
    {
     "name": "stdout",
     "output_type": "stream",
     "text": [
      "Valores formam triângulo: 12 7 6\n"
     ]
    }
   ],
   "source": [
    "# Valores formam triângulo?\n",
    "# a, b, c = 12, 1, 6              # não formam\n",
    "a, b, c = 12, 7, 6                # formam\n",
    "if a+b > c:\n",
    "    if c+b > a:\n",
    "        if c+a > b:\n",
    "            print(\"Valores formam triângulo:\", a, b, c)\n",
    "        else:\n",
    "            print(\"Valores não formam triângulo:\", a, b, c)\n",
    "    else:\n",
    "        print(\"Valores não formam triângulo:\", a, b, c)\n",
    "else:\n",
    "    print(\"Valores não formam triângulo:\", a, b, c)"
   ]
  },
  {
   "cell_type": "markdown",
   "metadata": {
    "slideshow": {
     "slide_type": "subslide"
    }
   },
   "source": [
    "Sempre que possível, é uma boa ideia evitar as condicionais aninhadas, pois elas dificultam a leitura do script. O uso de **operadores lógicos** indicam um meio de simplificar condições aninhadas."
   ]
  },
  {
   "cell_type": "code",
   "execution_count": 36,
   "metadata": {
    "slideshow": {
     "slide_type": "subslide"
    }
   },
   "outputs": [
    {
     "name": "stdout",
     "output_type": "stream",
     "text": [
      "Valores formam triângulo: 12 7 6\n"
     ]
    }
   ],
   "source": [
    "# Valores formam triângulo?\n",
    "#a, b, c = 12, 1, 6              # não formam\n",
    "a, b, c = 12, 7, 6               # formam\n",
    "if (a+b > c) and (c+b > a) and (c+a > b):\n",
    "    print(\"Valores formam triângulo:\", a, b, c)\n",
    "else:\n",
    "    print(\"Valores não formam triângulo:\", a, b, c)"
   ]
  },
  {
   "cell_type": "markdown",
   "metadata": {
    "slideshow": {
     "slide_type": "subslide"
    }
   },
   "source": [
    "### Exercício\n",
    "Crie variáveis para armazenar uma string, um número inteiro e um número de ponto flutuante. A var. string deve ser nomeada `cumprimento`  e deve conter as palavras `'boa tarde!'`. A var. do número de ponto flutuante deve ser denominada `peso` e deve conter o número 10.5, e a var. do número inteiro deve ser nomeada como `idade` e deve conter o valor 20. Depois de armazenar os valores mostre-os com a função `print()`."
   ]
  },
  {
   "cell_type": "code",
   "execution_count": 21,
   "metadata": {},
   "outputs": [
    {
     "name": "stdout",
     "output_type": "stream",
     "text": [
      "boa tarde! 10.5 20\n"
     ]
    }
   ],
   "source": [
    "peso, cumprimento, idade = 10.5, \"boa tarde!\", 20\n",
    "print(cumprimento, peso, idade)"
   ]
  },
  {
   "cell_type": "markdown",
   "metadata": {
    "slideshow": {
     "slide_type": "slide"
    }
   },
   "source": [
    "## <a id=\"4\">4. Erros Previsíveis (Exceções)</a>\n",
    "Sempre que possível devemos tratar os erros previsíveis do nosso código, recuperar da situação de parada do *script*. Vimos um exemplo que determinou se um dado valor numérico era par ou ímpar, no qual usamos a função de entrada de dados `input()`, a qual sempre retorna o valor digitado em forma de string, e por isso, usamos outra função `int()` para converter a string num valor numérico inteiro.  \n",
    "\n",
    "O que acontece se o usuário não perceber a indicação de entrada de um valor numérico e fornecer um valor não numérico?"
   ]
  },
  {
   "cell_type": "code",
   "execution_count": 24,
   "metadata": {
    "scrolled": true,
    "slideshow": {
     "slide_type": "subslide"
    }
   },
   "outputs": [
    {
     "name": "stdout",
     "output_type": "stream",
     "text": [
      "Digite um valor numérico inteiro:Como assim?\n"
     ]
    },
    {
     "ename": "ValueError",
     "evalue": "invalid literal for int() with base 10: 'Como assim?'",
     "output_type": "error",
     "traceback": [
      "\u001b[1;31m---------------------------------------------------------------------------\u001b[0m",
      "\u001b[1;31mValueError\u001b[0m                                Traceback (most recent call last)",
      "\u001b[1;32m<ipython-input-24-9ee9bf37af73>\u001b[0m in \u001b[0;36m<module>\u001b[1;34m\u001b[0m\n\u001b[1;32m----> 1\u001b[1;33m \u001b[0mx\u001b[0m \u001b[1;33m=\u001b[0m \u001b[0mint\u001b[0m\u001b[1;33m(\u001b[0m\u001b[0minput\u001b[0m\u001b[1;33m(\u001b[0m\u001b[1;34m\"Digite um valor numérico inteiro:\"\u001b[0m\u001b[1;33m)\u001b[0m\u001b[1;33m)\u001b[0m\u001b[1;33m\u001b[0m\u001b[1;33m\u001b[0m\u001b[0m\n\u001b[0m\u001b[0;32m      2\u001b[0m \u001b[0mprint\u001b[0m\u001b[1;33m(\u001b[0m\u001b[0mx\u001b[0m\u001b[1;33m)\u001b[0m\u001b[1;33m\u001b[0m\u001b[1;33m\u001b[0m\u001b[0m\n",
      "\u001b[1;31mValueError\u001b[0m: invalid literal for int() with base 10: 'Como assim?'"
     ]
    }
   ],
   "source": [
    "x = int(input(\"Digite um valor numérico inteiro:\"))\n",
    "print(x)"
   ]
  },
  {
   "cell_type": "markdown",
   "metadata": {
    "slideshow": {
     "slide_type": "subslide"
    }
   },
   "source": [
    "Se esse código for colocado num programa em Python (*script*) e esse erro ocorrer, seu programa para imediatamente com uma mensagem de rastreamento (*Traceback*) indicando o ponto do programa no qual o tal erro ocorreu. Isso faz com que os próximos comandos do seu programa não sejam executados.\n",
    "\n",
    "Exemplo: Conversão de temperatura em Fahrenheit para Celsius."
   ]
  },
  {
   "cell_type": "code",
   "execution_count": 27,
   "metadata": {
    "scrolled": true,
    "slideshow": {
     "slide_type": "subslide"
    }
   },
   "outputs": [
    {
     "name": "stdout",
     "output_type": "stream",
     "text": [
      "Entre a Temperatura em Fahrenheit: 22\n",
      "<class 'str'> 22\n",
      "Fahrenheit: 22.0 Celsius: -5.555555555555555\n"
     ]
    }
   ],
   "source": [
    "entrada = input('Entre a Temperatura em Fahrenheit: ')\n",
    "print(type(entrada), entrada)\n",
    "temperF = float(entrada)\n",
    "temperC = (temperF - 32.0)*5/9\n",
    "print(\"Fahrenheit:\", temperF, \"Celsius:\", temperC)"
   ]
  },
  {
   "cell_type": "markdown",
   "metadata": {
    "slideshow": {
     "slide_type": "subslide"
    }
   },
   "source": [
    "Se o usuário entrar um valor não numérico:"
   ]
  },
  {
   "cell_type": "code",
   "execution_count": 41,
   "metadata": {
    "slideshow": {
     "slide_type": "subslide"
    }
   },
   "outputs": [
    {
     "name": "stdin",
     "output_type": "stream",
     "text": [
      "Entre a Temperatura em Fahrenheit:  muito quente!\n"
     ]
    },
    {
     "ename": "ValueError",
     "evalue": "could not convert string to float: 'muito quente!'",
     "output_type": "error",
     "traceback": [
      "\u001b[1;31m---------------------------------------------------------------------------\u001b[0m",
      "\u001b[1;31mValueError\u001b[0m                                Traceback (most recent call last)",
      "\u001b[1;32m<ipython-input-41-abc7c23f1b74>\u001b[0m in \u001b[0;36m<module>\u001b[1;34m\u001b[0m\n\u001b[0;32m      1\u001b[0m \u001b[0mentrada\u001b[0m \u001b[1;33m=\u001b[0m \u001b[0minput\u001b[0m\u001b[1;33m(\u001b[0m\u001b[1;34m'Entre a Temperatura em Fahrenheit: '\u001b[0m\u001b[1;33m)\u001b[0m\u001b[1;33m\u001b[0m\u001b[1;33m\u001b[0m\u001b[0m\n\u001b[1;32m----> 2\u001b[1;33m \u001b[0mtemperF\u001b[0m \u001b[1;33m=\u001b[0m \u001b[0mfloat\u001b[0m\u001b[1;33m(\u001b[0m\u001b[0mentrada\u001b[0m\u001b[1;33m)\u001b[0m\u001b[1;33m\u001b[0m\u001b[1;33m\u001b[0m\u001b[0m\n\u001b[0m\u001b[0;32m      3\u001b[0m \u001b[0mtemperC\u001b[0m \u001b[1;33m=\u001b[0m \u001b[1;33m(\u001b[0m\u001b[0mtemperF\u001b[0m \u001b[1;33m-\u001b[0m \u001b[1;36m32.0\u001b[0m\u001b[1;33m)\u001b[0m\u001b[1;33m*\u001b[0m\u001b[1;36m5\u001b[0m\u001b[1;33m/\u001b[0m\u001b[1;36m9\u001b[0m\u001b[1;33m\u001b[0m\u001b[1;33m\u001b[0m\u001b[0m\n\u001b[0;32m      4\u001b[0m \u001b[0mprint\u001b[0m\u001b[1;33m(\u001b[0m\u001b[1;34m\"Fahrenheit:\"\u001b[0m\u001b[1;33m,\u001b[0m \u001b[0mtemperF\u001b[0m\u001b[1;33m,\u001b[0m \u001b[1;34m\"Celsius:\"\u001b[0m\u001b[1;33m,\u001b[0m \u001b[0mtemperC\u001b[0m\u001b[1;33m)\u001b[0m\u001b[1;33m\u001b[0m\u001b[1;33m\u001b[0m\u001b[0m\n",
      "\u001b[1;31mValueError\u001b[0m: could not convert string to float: 'muito quente!'"
     ]
    }
   ],
   "source": [
    "entrada = input('Entre a Temperatura em Fahrenheit: ')\n",
    "temperF = float(entrada)\n",
    "temperC = (temperF - 32.0)*5/9\n",
    "print(\"Fahrenheit:\", temperF, \"Celsius:\", temperC)"
   ]
  },
  {
   "cell_type": "markdown",
   "metadata": {
    "slideshow": {
     "slide_type": "slide"
    }
   },
   "source": [
    "### 4.1 Try/Except\n",
    "Trata-se de uma estrutura de execução condicional do Python que trata os erros previsíveis. A ideia é prever que uma sequência de instruções pode ter um problema e adicionar comandos para serem executados caso um desses erros previsíveis ocorra. Esses comandos extra, localizados no bloco `except` serão ignorados se não houver erro na instrução depois do `try:`.  \n",
    "Sintaxe:\n",
    "``` python\n",
    "try:\n",
    "    comando_perigoso\n",
    "except <erro_previsivel>:\n",
    "    comando_recuperacao\n",
    "```"
   ]
  },
  {
   "cell_type": "code",
   "execution_count": 5,
   "metadata": {
    "scrolled": true,
    "slideshow": {
     "slide_type": "subslide"
    }
   },
   "outputs": [
    {
     "name": "stdout",
     "output_type": "stream",
     "text": [
      "Entre a Temperatura em Fahrenheit: re\n",
      "Favor digitar um valor numérico! \n",
      "Erro: could not convert string to float: 're'\n"
     ]
    }
   ],
   "source": [
    "entrada = input('Entre a Temperatura em Fahrenheit: ')\n",
    "try:\n",
    "    temperF = float(entrada)\n",
    "    temperC = (temperF - 32.0)*5/9\n",
    "    print(\"Fahrenheit:\", temperF, \"Celsius:\", temperC)\n",
    "except Exception as e:\n",
    "    print(f\"Favor digitar um valor numérico! \\nErro: {e}\")"
   ]
  },
  {
   "cell_type": "markdown",
   "metadata": {
    "slideshow": {
     "slide_type": "slide"
    }
   },
   "source": [
    "### Exercício (desafio)\n",
    "Crie um script que continue a solicitar a temperatura em Fahrenheit até que o usuário informe um valor numérico, considerando o exemplo anterior."
   ]
  },
  {
   "cell_type": "code",
   "execution_count": 2,
   "metadata": {
    "slideshow": {
     "slide_type": "skip"
    }
   },
   "outputs": [
    {
     "name": "stdout",
     "output_type": "stream",
     "text": [
      "Entre a Temperatura em Fahrenheit: só o valor, ou a unidade tbm?\n",
      "Favor digitar um valor numérico!\n",
      "Entre a Temperatura em Fahrenheit: 45\n",
      "Fahrenheit: 45.0 Celsius: 7.222222222222222\n"
     ]
    }
   ],
   "source": [
    "# Solução\n",
    "temperF = None\n",
    "while type(temperF) != float:\n",
    "    entrada = input('Entre a Temperatura em Fahrenheit: ')\n",
    "    try:\n",
    "        temperF = float(entrada)\n",
    "    except:\n",
    "        print(\"Favor digitar um valor numérico!\")\n",
    "temperC = (temperF - 32.0)*5/9\n",
    "print(\"Fahrenheit:\", temperF, \"Celsius:\", temperC)"
   ]
  },
  {
   "cell_type": "markdown",
   "metadata": {
    "slideshow": {
     "slide_type": "subslide"
    }
   },
   "source": [
    "O ato de tratar uma exceção com uma declaração `try` é chamado de **captura de exceção**. No último exemplo, a declaração `except` mostra uma mensagem de erro. Geralmente, capturar uma exceção dá a chance ao programador de resolver um problema, ou de tentar\n",
    "novamente, ou de, pelo menos, encerrar seu programa adequadamente."
   ]
  },
  {
   "cell_type": "markdown",
   "metadata": {
    "slideshow": {
     "slide_type": "slide"
    }
   },
   "source": [
    "### 4.2 Depuração de Erros\n",
    "O rastreamento (*traceback*) que o Python exibe quando ocorre um erro contém muita informação, e para o iniciante em Python isso pode ser um pouco sufocante... As informações mais úteis são:\n",
    "\n",
    "* Tipo do erro;\n",
    "* Local da ocorrência do erro no *script*."
   ]
  },
  {
   "cell_type": "markdown",
   "metadata": {
    "slideshow": {
     "slide_type": "slide"
    }
   },
   "source": [
    "#### Exemplo:  \n",
    "``` python\n",
    "---------------------------------------------------------------------------\n",
    "ValueError                                Traceback (most recent call last)\n",
    "<ipython-input-41-abc7c23f1b74> in <module>\n",
    "      1 entrada = input('Entre a Temperatura em Fahrenheit: ')\n",
    "----> 2 temperF = float(entrada)\n",
    "      3 temperC = (temperF - 32.0)*5/9\n",
    "      4 print(\"Fahrenheit:\", temperF, \"Celsius:\", temperC)\n",
    "\n",
    "ValueError: could not convert string to float: 'muito quente!'\n",
    "```\n",
    "* Tipo do erro: **ValueError: could not convert string to float: 'muito quente!'**\n",
    "* Local do erro: **----> 2 temperF = float(entrada)**, com sinalização extra da seta.\n",
    "\n",
    "**Ditado Popular**: o programador é considerado experiente/expert numa determinada linguagem, a partir da quantidade de mensagens de erro da linguagem que ele conhece."
   ]
  },
  {
   "cell_type": "markdown",
   "metadata": {
    "slideshow": {
     "slide_type": "slide"
    }
   },
   "source": [
    "### Exercícios\n",
    "1. Faça um programa de pagamento que lê a quantidade de horas trabalhadas, o valor da hora trabalhada e  mostre o valor do pagamento, considerando que o funcionário tem direito a 1.5 vezes o valor da hora trabalhada acima de 40 horas.  \n",
    "Exemplo: Pra 50 horas trabalhadas a R\\\\$ 20/h, o pagamento deve ser: R\\\\$ (40+10\\*1.5)\\*20 = 800 + 300 = R\\\\$ 1100.\n",
    "\n",
    "1. Reescreva o programa do exercício anterior utilizando `try/except`, de forma que o programa consiga lidar com entradas não numéricas adequadamente, mostrando uma mensagem e finalizando o programa.\n",
    "\n",
    "1. Escreva um programa que leia uma nota com valor de 0.0 a 1.0 (limites inclusivos). Se a nota estiver fora do intervalo, mostre uma mensagem de erro. Se a nota estiver no intervalo 0.0 e 1.0, mostre a nota conceitual conforme a seguinte tabela:  \n",
    "\n",
    "| Nota  | Conceito |\n",
    "| :---: | :---:    |\n",
    "|>= 0.9 | A |\n",
    "|>= 0.8 | B |\n",
    "|>= 0.7 | C |\n",
    "|>= 0.6 | D |\n",
    "|< 0.6  | F |"
   ]
  },
  {
   "cell_type": "markdown",
   "metadata": {
    "slideshow": {
     "slide_type": "slide"
    }
   },
   "source": [
    "## Fim.\n",
    "<p style=\"text-align:right;\"><a href='../Índice.ipynb' target=\"_self\">Volta ao Índice</a></p>"
   ]
  }
 ],
 "metadata": {
  "celltoolbar": "Slideshow",
  "kernelspec": {
   "display_name": "Python 3",
   "language": "python",
   "name": "python3"
  },
  "language_info": {
   "codemirror_mode": {
    "name": "ipython",
    "version": 3
   },
   "file_extension": ".py",
   "mimetype": "text/x-python",
   "name": "python",
   "nbconvert_exporter": "python",
   "pygments_lexer": "ipython3",
   "version": "3.8.3"
  },
  "rise": {
   "scroll": true
  }
 },
 "nbformat": 4,
 "nbformat_minor": 4
}
