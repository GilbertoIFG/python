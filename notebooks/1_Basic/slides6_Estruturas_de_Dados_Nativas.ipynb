{
 "cells": [
  {
   "cell_type": "markdown",
   "metadata": {
    "slideshow": {
     "slide_type": "slide"
    }
   },
   "source": [
    "<a id=\"topo\"></a>\n",
    "# <font color = \"blue\" style=\"background-color: #E9F7E1;\">Estruturas de Dados Nativas: Listas, Tuplas e Dicionários.</font>\n",
    "\n",
    "<ul><li><b>Listas</b></li>\n",
    "    <li><b><a href=\"#tuplas\">Tuplas</a></b></li>\n",
    "    <li><b><a href=\"#dicionarios\"  title=\"hashtable\">Dicionários</a></b></li>  \n",
    "    <li><b><a href=\"#persistencia\"  title=\"persistência de objetos\">Persistência de Objetos</a></b></li>  \n",
    "    <li><b><a href=\"#anexo\"  title=\"complexidade algorítmica\">Complexidade Algorítmica</a></b></li>  \n",
    "</ul>"
   ]
  },
  {
   "cell_type": "markdown",
   "metadata": {
    "slideshow": {
     "slide_type": "slide"
    }
   },
   "source": [
    "## 1. Listas\n",
    "\n",
    "### 1.1 "
   ]
  },
  {
   "cell_type": "markdown",
   "metadata": {
    "slideshow": {
     "slide_type": "slide"
    }
   },
   "source": [
    "### 1.2 "
   ]
  },
  {
   "cell_type": "markdown",
   "metadata": {
    "slideshow": {
     "slide_type": "slide"
    }
   },
   "source": [
    "<p style=\"text-align:right;\"><a href='#topo'>Volta ao Topo</a></p>"
   ]
  },
  {
   "cell_type": "markdown",
   "metadata": {},
   "source": [
    "## <a id=\"tuplas\">2. Tuplas</a>\n",
    "\n",
    "\n",
    "### 2.1 "
   ]
  },
  {
   "cell_type": "markdown",
   "metadata": {},
   "source": [
    "<a style=\"color:red\"><b>Exercício</b></a>:\n",
    "\n",
    "Escreva um padrão *glob* para cada um dos seguintes agrupamentos:\n",
    "\n",
    "- Todos os arquivos com um dígito octal ímpar em seu nome\n",
    "- Todos os arquivos '.txt' que contêm as letras 'q' ou 'z'"
   ]
  },
  {
   "cell_type": "markdown",
   "metadata": {
    "slideshow": {
     "slide_type": "slide"
    }
   },
   "source": [
    "<p style=\"text-align:right;\"><a href='#topo'>Volta ao Topo</a></p>"
   ]
  },
  {
   "cell_type": "markdown",
   "metadata": {},
   "source": [
    "## <a id=\"dicionarios\">3. Dicionários</a>\n",
    "\n",
    "\n",
    "### 3.1 "
   ]
  },
  {
   "cell_type": "markdown",
   "metadata": {
    "slideshow": {
     "slide_type": "slide"
    }
   },
   "source": [
    "<p style=\"text-align:right;\"><a href='#topo'>Volta ao Topo</a></p>"
   ]
  },
  {
   "cell_type": "markdown",
   "metadata": {},
   "source": [
    "## <a id=\"persistencia\">4. Persistência de Objetos</a>\n",
    "### 4.1 Salvando e Carregando Dicionários\n",
    "Vamos usar o módulo `pickle` (conserva em vinagre) da biblioteca padrão do Python.\n",
    "\n",
    "Suponha que você acabou de criar um dicionário que está servindo de livro de notas dos alunos de um curso que você está ministrando:\n",
    "```python\n",
    "notas = {'Alberto': 92, 'David': 85, 'Emília': 98, 'Maria': 79}\n",
    "```\n",
    "Como salvar estes dados (dicionário) para que possa ser utilizado posteriormente? A biblioteca padrão do Python inclui o módulo **pickle** que fornece funções para salvar e carregar objetos Python no disco. Vamos \"conservar\" este dicionário, salvando-o no arquivo \"notas.pkl\" no diretório corrente:"
   ]
  },
  {
   "cell_type": "code",
   "execution_count": 1,
   "metadata": {},
   "outputs": [],
   "source": [
    "import pickle\n",
    "\n",
    "notas = {'Alberto': 92, 'David': 85, 'Emília': 98, 'Maria': 79}\n",
    "# conservando um dicionário\n",
    "with open(\"notas.pkl\", mode=\"wb\") as arq:\n",
    "    pickle.dump(notas, arq)"
   ]
  },
  {
   "cell_type": "markdown",
   "metadata": {},
   "source": [
    "A função `pickle.dump()` cria uma representação serializada do dicionário, a qual é então gravada no arquivo aberto por meio do objeto `file`. Observe que abrimos o arquivo no modo binário de gravação, pois estamos gravando dados binários e não dados de texto. Observe também que usamos o sufixo \".pkl\" para indicar que o arquivo é um dado binário que foi escrito usando o protocolo **pickle** do Python. Usar esse sufixo não é necessário, mas é uma boa prática.\n",
    "\n",
    "A função `pickle.load()` carregará o objeto Python do disco, permitindo-nos retomar o trabalho com o livro de notas."
   ]
  },
  {
   "cell_type": "code",
   "execution_count": 3,
   "metadata": {},
   "outputs": [
    {
     "name": "stdout",
     "output_type": "stream",
     "text": [
      "{'Alberto': 92, 'David': 85, 'Emília': 98, 'Maria': 79}\n"
     ]
    }
   ],
   "source": [
    "# desconservando um dicionário\n",
    "with open ('notas.pkl', mode = 'rb') as arq:\n",
    "    notas_lidas = pickle.load(arq)\n",
    "print(notas_lidas)"
   ]
  },
  {
   "cell_type": "markdown",
   "metadata": {},
   "source": [
    "As funções `pickle.dump` e `pickle.load` cobrem a grande maioria de nossas necessidades de \"conservação\" (persistência) de objetos. Uma ampla gama de objetos Python pode ser salva dessa maneira, incluindo funções que definimos e instâncias de classes personalizadas."
   ]
  },
  {
   "cell_type": "markdown",
   "metadata": {},
   "source": [
    "### 4.2 Salvando e Carregando Matrizes NumPy\n",
    "O pacote **NumPy** fornece funções próprias para salvar e carregar matrizes. Embora essas matrizes possam ser conservadas com o módulo **pickle**, é altamente recomendável aproveitar as funções de E/S de arquivo do **NumPy**. O tipo de arquivo binário padrão do **NumPy** usado para armazenar dados de matriz é conhecido como um arquivo '.npy'. O formato de arquivo binário **NumPy** que armazena várias matrizes em um arquivo, é conhecido como formato '.npz'.\n",
    "\n",
    "Vamos salvar a arranjo `x = np.array([1, 2, 3])` no arquivo binário (não um arquivo de texto) `'meu_vetor.npy'`. As funções `numpy.save()` e `numpy.load()` salvam e carregam arranjos, tratando de toda a abertura e fechamento de arquivos para você. Portanto, não há necessidade de usar um gerenciador de contexto ao usar essas funções."
   ]
  },
  {
   "cell_type": "code",
   "execution_count": 4,
   "metadata": {},
   "outputs": [
    {
     "data": {
      "text/plain": [
       "array([1, 2, 3])"
      ]
     },
     "execution_count": 4,
     "metadata": {},
     "output_type": "execute_result"
    }
   ],
   "source": [
    "import numpy as np\n",
    "x = np.array([1, 2, 3])\n",
    "\n",
    "# salva um arramjo numpy no disco\n",
    "np.save(\"meu_vetor.npy\", x)\n",
    "\n",
    "# carrega o arranjo salvo em disco\n",
    "y = np.load(\"meu_vetor.npy\")\n",
    "y"
   ]
  },
  {
   "cell_type": "markdown",
   "metadata": {},
   "source": [
    "Podemos usar `numpy.savez()` para salvar vários arranjos em um único arquivo `'meu_arquivo.npz'`. Vamos salvar três arrays no arquivo. Podemos especificar os nomes dessas matrizes, por meio dos argumentos de palavra-chave que fornecemos, para que possamos distingui-los ao carregar o arquivo."
   ]
  },
  {
   "cell_type": "code",
   "execution_count": 5,
   "metadata": {},
   "outputs": [],
   "source": [
    "a0 = np.array([1, 2, 3])\n",
    "a1 = np.array([4, 5, 6])\n",
    "a2 = np.array([7, 8, 9])\n",
    "\n",
    "# nós fornecemos os argumentos de palavras-chave `solo`,` crosta` e `rocha`,\n",
    "# como os nomes das respectivas matrizes no arquivo.\n",
    "np.savez(\"meu_arquivo.npz\", solo=a0, crosta=a1, rocha=a2)"
   ]
  },
  {
   "cell_type": "markdown",
   "metadata": {},
   "source": [
    "Carregar matrizes de um arquivo é um pouco mais complicado do que carregar uma única matriz; vamos abrir nosso arquivo com vários arranjos usando um gerenciador de contexto e, em seguida, carregar as matrizes conforme acharmos adequado. A função `np.load()` pode ser usada como um gerenciador de contexto em vez de `open()`. O objeto de arquivo que ele produz é nosso arquivo de matrizes numpy e fornece uma interface semelhante a um dicionário para acessar essas matrizes:"
   ]
  },
  {
   "cell_type": "code",
   "execution_count": 7,
   "metadata": {},
   "outputs": [
    {
     "name": "stdout",
     "output_type": "stream",
     "text": [
      "[1 2 3] [4 5 6] [7 8 9]\n"
     ]
    }
   ],
   "source": [
    "with np.load(\"meu_arquivo.npz\") as arqz:\n",
    "    lida0 = arqz[\"solo\"]\n",
    "    lida1 = arqz[\"crosta\"]\n",
    "    lida2 = arqz[\"rocha\"]\n",
    "print(lida0, lida1, lida2)"
   ]
  },
  {
   "cell_type": "code",
   "execution_count": null,
   "metadata": {},
   "outputs": [],
   "source": [
    "# abrindo o arquivo e acessando cada array por nome"
   ]
  },
  {
   "cell_type": "markdown",
   "metadata": {
    "slideshow": {
     "slide_type": "slide"
    }
   },
   "source": [
    "<p style=\"text-align:right;\"><a href='#topo'>Volta ao Topo</a></p>"
   ]
  },
  {
   "cell_type": "markdown",
   "metadata": {},
   "source": [
    "## <a id=\"anexo\">Anexo - Complexidade Algorítmica</a>\n",
    "\n",
    "Função exemplo: vamos escrever uma função que verifica se um item está contido em um iterável:"
   ]
  },
  {
   "cell_type": "code",
   "execution_count": 8,
   "metadata": {},
   "outputs": [],
   "source": [
    "def is_in(seq, alvo):\n",
    "    \"\"\" Retorna True se `alvo` está contido em `seq`.\"\"\"\n",
    "    for item in seq:\n",
    "        if item == target:\n",
    "            return True\n",
    "    return False"
   ]
  },
  {
   "cell_type": "markdown",
   "metadata": {},
   "source": [
    "Para comparar de forma significativa a eficiência relativa dos algoritmos, é útil resumir como os algoritmos são medidos em termos da quantidade de operações da solução usada dependendo do tamanho do problema. Dois algoritmos de classificação podem ser comparados ao classificar dezenas de itens e, ainda assim, podem ter desempenhos totalmente diferentes ao classificar milhares de itens.\n",
    "\n",
    "A notação 'Big-O' nos permite denotar como o tempo de execução de um algoritmo é dimensionado em relação ao tamanho do problema. Especificamente, significa tomarmos o desempenho do algoritmos no \"pior cenário\".\n",
    "\n",
    "Vamos tomar, por exemplo, a função `is_in()` do início desta seção. Nela, iteramos sobre uma coleção para verificar se ela contém um item específico. O pior cenário para esse algoritmo é quando o item não é um membro da coleção -- temos que iterar por toda a coleção antes de podermos concluir que ela não possui nosso item. Portanto, se aumentarmos a coleção para ser ***n*** vezes maior em tamanho, deve levar ***n*** vezes mais tempo para iterar sobre ela para determinar que o item não é membro da coleção (novamente, lidando com o pior cenário). Como o tempo de execução do pior caso de `is_in()` varia linearmente com o tamanho da coleção, ***n***, denotamos sua complexidade de tempo de execução, usando a notação big-O, como $\\mathcal{O}(n)$.\n",
    "\n",
    "Agora, suponha que fizemos um trabalho realmente terrível ao escrever um algoritmo de associação e executamos uma iteração aninhada em nossa coleção:"
   ]
  },
  {
   "cell_type": "code",
   "execution_count": null,
   "metadata": {},
   "outputs": [],
   "source": [
    "def is_in_slow(seq, alvo):\n",
    "    \"\"\" Retorna True se `alvo` está contido em `seq`.\"\"\"\n",
    "    for item in seq:\n",
    "        # para cada item em seq, passe por seq na sua totalidade!\n",
    "        for item2 in seq:\n",
    "            if item == alvo:\n",
    "                return True\n",
    "    return False"
   ]
  },
  {
   "cell_type": "markdown",
   "metadata": {},
   "source": [
    "Para cada `'item'` em `'seq'`, iteramos em `'seq'` novamente, portanto, no pior cenário, precisamos iterar em `'n'` itens, `'n'` vezes diferentes - um total de $n^2$ \"etapas\" em nosso algoritmo. Assim, diríamos que `is_in_slow()` é um algoritmo $\\mathcal{O}(n^2)$: ao passo que dobrar o tamanho de `'seq'` aumentaria o tempo de execução de nosso algoritmo $\\mathcal{O}(n)$ por um fator de 2 (escala linear), aumentaria o tempo de execução desse algoritmo $\\mathcal{O}(n^2)$ em 4 (escala quadrática).\n",
    "\n",
    "Aqui está uma descrição mais formal desta notação:\n",
    "\n",
    "**Notação \"Big-O\"**: Suponha que `'n'` denota o \"tamanho\" da entrada para um algoritmo, e que a expressão matemática `f(n)` descreve quantos passos computacionais o algoritmo deve realizar em seu pior cenário, dada essa entrada. Então, a complexidade do tempo de execução do algoritmo pode ser denotada usando a notação 'Big-O': $\\mathcal{O}(f(n))$\n",
    "\n",
    "**Obs.**:\n",
    "\n",
    "- Nos preocupamos apenas com o termo de \"ordem superior\" em `f(n)`. Ou seja, $\\mathcal{O}(n+n^2)$ deve ser escrito apenas como $\\mathcal{O}(n^2)$.\n",
    "- Nunca nos importamos com fatores constantes em nosso dimensionamento. Ou seja, mesmo que um algoritmo itere em uma sequência duas vezes, sua complexidade \"big-O\" deve ser escrita como $\\mathcal{O}(n)$, em vez de $\\mathcal{O}(2n)$.\n",
    "- Um algoritmo cujo tempo de execução não depende do tamanho de sua entrada é um algoritmo $\\mathcal{O}(1)$.\n",
    "    - Exemplo: uma função que retorna o segundo elemento de uma lista.\n",
    "- Existem métodos mais matizados para analisar a complexidade do algoritmo do que apenas considerar o pior cenário, que pode ser excessivamente pessimista. Saiba que a notação \"big-O\" pode ser usada para transmitir o desempenho médio, o desempenho amortizado e outros tipos de análise. Aqui, simplesmente nos limitaremos à análise do pior caso."
   ]
  },
  {
   "cell_type": "markdown",
   "metadata": {},
   "source": [
    "... continua em https://www.pythonlikeyoumeanit.com/Module2_EssentialsOfPython/DataStructures.html#"
   ]
  },
  {
   "cell_type": "markdown",
   "metadata": {
    "slideshow": {
     "slide_type": "slide"
    }
   },
   "source": [
    "<p style=\"text-align:right;\"><a href='#topo'>Volta ao Topo</a></p>"
   ]
  },
  {
   "cell_type": "markdown",
   "metadata": {
    "slideshow": {
     "slide_type": "slide"
    }
   },
   "source": [
    "## Fim.\n",
    "<p style=\"text-align:right;\"><a href='../Índice.ipynb' target=\"_self\">Volta ao Índice</a></p>"
   ]
  },
  {
   "cell_type": "markdown",
   "metadata": {},
   "source": [
    "Fontes: \n",
    "1. https://www.codigofluente.com.br/aula-19-python-biblioteca-padrao-modulo-math/\n",
    "1. https://www.pythonlikeyoumeanit.com/Module5_OddsAndEnds/WorkingWithFiles.html#Opening-Files"
   ]
  }
 ],
 "metadata": {
  "kernelspec": {
   "display_name": "Python 3",
   "language": "python",
   "name": "python3"
  },
  "language_info": {
   "codemirror_mode": {
    "name": "ipython",
    "version": 3
   },
   "file_extension": ".py",
   "mimetype": "text/x-python",
   "name": "python",
   "nbconvert_exporter": "python",
   "pygments_lexer": "ipython3",
   "version": "3.8.3"
  }
 },
 "nbformat": 4,
 "nbformat_minor": 4
}
