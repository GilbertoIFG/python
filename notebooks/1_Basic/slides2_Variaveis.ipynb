{
 "cells": [
  {
   "cell_type": "code",
   "execution_count": 1,
   "metadata": {
    "slideshow": {
     "slide_type": "skip"
    }
   },
   "outputs": [
    {
     "data": {
      "text/plain": [
       "{'theme': 'sky', 'transition': 'zoom', 'start_slideshow_at': 'selected'}"
      ]
     },
     "execution_count": 1,
     "metadata": {},
     "output_type": "execute_result"
    }
   ],
   "source": [
    "#!/usr/bin/env python3\n",
    "from traitlets.config.manager import BaseJSONConfigManager\n",
    "from pathlib import Path\n",
    "path = Path.home() / \".jupyter\" / \"nbconfig\"\n",
    "cm = BaseJSONConfigManager(config_dir=str(path))\n",
    "cm.update(\"rise\", { \"theme\": \"sky\",\n",
    "                    \"transition\": \"zoom\",\n",
    "                    \"start_slideshow_at\": \"selected\", })\n",
    "# fonte: https://rise.readthedocs.io/en/stable/customize.html#how-to-customize\n",
    "# Editando Metadados do Notebook: [Edit][Edit Notebook Metadata]\n",
    "# Por exemplo:\n",
    "#  {\n",
    "#    ...\n",
    "#    \"rise\": {\n",
    "#        \"theme\": \"serif\",\n",
    "#        \"transition\": \"zoom\",\n",
    "#        ...\n",
    "#    },\n",
    "#    ...\n",
    "#  }"
   ]
  },
  {
   "cell_type": "markdown",
   "metadata": {
    "slideshow": {
     "slide_type": "slide"
    }
   },
   "source": [
    "# <font color = \"blue\" style=\"background-color: #E9F7E1;\"> Variáveis, Expressões e Declarações\n",
    "\n",
    "<ul><li><b>Constantes</b></li>\n",
    "    <li><b>Variáveis</b></li>\n",
    "    <li><b>Expressões</b></li>\n",
    "    <li><b>Declarações</b></li></ul>"
   ]
  },
  {
   "cell_type": "markdown",
   "metadata": {
    "slideshow": {
     "slide_type": "slide"
    }
   },
   "source": [
    "Python é completamente orientado a objetos, e dinamicamente tipificado, ou seja, não precisa declarar variáveis antes de usá-las, ou declarar o tipo de dados que elas armazenarão. Cada variável em Python é também um objeto.\n",
    "\n",
    "## 1. Constantes\n",
    "Valores fixos, como números, letras, strings (cadeias de caracteres), são chamados de **constantes** porque seus valores não mudam durante a execução do *script*.  \n",
    "As constantes strings podem ser delimitadas por aspas simples (apóstrofes) `'fica sempre'` ou por aspas duplas `\"fica sempre\"` e as constantes numéricas são como se usa nas outras linguagens de programação."
   ]
  },
  {
   "cell_type": "code",
   "execution_count": 2,
   "metadata": {
    "slideshow": {
     "slide_type": "subslide"
    }
   },
   "outputs": [
    {
     "name": "stdout",
     "output_type": "stream",
     "text": [
      "1505\n",
      "-35.22\n",
      "Fica sempre\n",
      "IFG\n"
     ]
    }
   ],
   "source": [
    "print(1505)            # cte numérica inteira\n",
    "print(-35.22)          # cte numérica de ponto flutuante (real)\n",
    "print(\"Fica sempre\")   # cte string (música católica de JUDITH JUNQUEIRA VILLELA)\n",
    "print('IFG')           # outra cte string"
   ]
  },
  {
   "cell_type": "markdown",
   "metadata": {
    "slideshow": {
     "slide_type": "slide"
    }
   },
   "source": [
    "## 2. Variáveis\n",
    "Um dos recursos mais poderosos das linguagens de programação é a capacidade de manipular **variáveis**. Uma **variável** é um nome que faz referência a um valor (uma constante) armazenado na memória principal (RAM) de um processador.\n",
    "\n",
    "Para se criar uma variável é necessário usarmos uma declaração de **atribuição** (operador `'='`) de valor(es) a ela:"
   ]
  },
  {
   "cell_type": "code",
   "execution_count": 12,
   "metadata": {
    "slideshow": {
     "slide_type": "slide"
    }
   },
   "outputs": [],
   "source": [
    "horas = 35               # cria a variável inteira denominada 'horas' e atribui a cte 35\n",
    "valorhora = 12.5         # cria a variável de ponto flutuante denominada 'valorhora' e atribui a cte 12.5\n",
    "musica = 'Fica sempre'   # cria a variável string denominada 'musica' e atribui a cte 'Fica sempre'"
   ]
  },
  {
   "cell_type": "markdown",
   "metadata": {
    "slideshow": {
     "slide_type": "subslide"
    }
   },
   "source": [
    "Para se recuperar o valor armazenado em uma variável basta fazer referência ao nome dela:"
   ]
  },
  {
   "cell_type": "code",
   "execution_count": 13,
   "metadata": {
    "scrolled": true,
    "slideshow": {
     "slide_type": "subslide"
    }
   },
   "outputs": [
    {
     "name": "stdout",
     "output_type": "stream",
     "text": [
      "35 12.5 Fica sempre\n"
     ]
    }
   ],
   "source": [
    "print(horas, valorhora, musica)"
   ]
  },
  {
   "cell_type": "markdown",
   "metadata": {
    "slideshow": {
     "slide_type": "slide"
    }
   },
   "source": [
    "### 2.1 Nomes\n",
    "A nomeação de variáveis deve observar algumas regras:\n",
    "1. Não podem ser palavras reservadas, também chamadas de palavras-chave (35 palavras ao todo):\n",
    "```python\n",
    "False, None, True, and, as, assert, async, await, break, \n",
    "class, continue, def, del, elif, else, except, \n",
    "finally, for, from, global, if, import, in, \n",
    "is, lambda, nonlocal, not, or, pass, raise, \n",
    "return, try, while, with, yield.\n",
    "```\n",
    "1. Deve começar com letra ou sublinhado `_`\n",
    "1. Demais caracteres, se existirem, podem ser letras, dígitos e sublinhados"
   ]
  },
  {
   "cell_type": "markdown",
   "metadata": {
    "slideshow": {
     "slide_type": "subslide"
    }
   },
   "source": [
    "**Obs.**:  \n",
    "a. O interpretador é sensível quanto à caixa da letra (maiúscula/minúscula).  \n",
    "b. O nome da variável deve ajudar o programador a lembrar sobre o conteúdo armazenado na variável.\n",
    "\n",
    "#### Exemplos de Nomes \n",
    "* Aceitos:  \n",
    "```spam, contador, vazao_1, vazao_2, somaTotal, Pessoa, Carro, vglobal...```\n",
    "* Rejeitados:  \n",
    "```23ovos, #vamossairdessa, ver.1.2, continue, global, ...```\n",
    "* Diferentes:  \n",
    "```soma, Soma, SOMA```"
   ]
  },
  {
   "cell_type": "code",
   "execution_count": 24,
   "metadata": {
    "slideshow": {
     "slide_type": "subslide"
    }
   },
   "outputs": [
    {
     "name": "stdout",
     "output_type": "stream",
     "text": [
      "['False', 'None', 'True', 'and', 'as', 'assert', 'async', 'await', 'break', 'class', 'continue', 'def', 'del', 'elif', 'else', 'except', 'finally', 'for', 'from', 'global', 'if', 'import', 'in', 'is', 'lambda', 'nonlocal', 'not', 'or', 'pass', 'raise', 'return', 'try', 'while', 'with', 'yield']\n"
     ]
    }
   ],
   "source": [
    "import keyword\n",
    "print(keyword.kwlist)"
   ]
  },
  {
   "cell_type": "code",
   "execution_count": 9,
   "metadata": {
    "scrolled": true,
    "slideshow": {
     "slide_type": "subslide"
    }
   },
   "outputs": [
    {
     "name": "stdout",
     "output_type": "stream",
     "text": [
      "437.5\n",
      "437.5\n",
      "437.5\n"
     ]
    }
   ],
   "source": [
    "# Resultados idênticos, porém com códigos bem diferentes em termos de nomes de variáveis\n",
    "\n",
    "# Código 1\n",
    "xlsquwst = 35.0\n",
    "ereiereu = 12.5\n",
    "efjdkjer = xlsquwst * ereiereu\n",
    "print(efjdkjer)\n",
    "\n",
    "# Código 2\n",
    "a = 35.0\n",
    "b = 12.5\n",
    "c = a * b\n",
    "print(c)\n",
    "\n",
    "# Código 3\n",
    "horas = 35\n",
    "valorhora = 12.5\n",
    "pagamento = horas * valorhora\n",
    "print(pagamento)"
   ]
  },
  {
   "cell_type": "markdown",
   "metadata": {
    "slideshow": {
     "slide_type": "slide"
    }
   },
   "source": [
    "#### Nomes Inválidos\n",
    "Ao se tentar usar uma variável com nome inválido (não atende às regras de formação de nomes) você obterá uma mensagem de erro de sintaxe:"
   ]
  },
  {
   "cell_type": "code",
   "execution_count": 15,
   "metadata": {
    "scrolled": true,
    "slideshow": {
     "slide_type": "subslide"
    }
   },
   "outputs": [
    {
     "ename": "SyntaxError",
     "evalue": "invalid syntax (<ipython-input-15-9687139c9169>, line 1)",
     "output_type": "error",
     "traceback": [
      "\u001b[1;36m  File \u001b[1;32m\"<ipython-input-15-9687139c9169>\"\u001b[1;36m, line \u001b[1;32m1\u001b[0m\n\u001b[1;33m    continue = 15\u001b[0m\n\u001b[1;37m             ^\u001b[0m\n\u001b[1;31mSyntaxError\u001b[0m\u001b[1;31m:\u001b[0m invalid syntax\n"
     ]
    }
   ],
   "source": [
    "continue = 15"
   ]
  },
  {
   "cell_type": "code",
   "execution_count": 26,
   "metadata": {
    "scrolled": true,
    "slideshow": {
     "slide_type": "subslide"
    }
   },
   "outputs": [
    {
     "ename": "SyntaxError",
     "evalue": "invalid syntax (<ipython-input-26-f82e59284625>, line 1)",
     "output_type": "error",
     "traceback": [
      "\u001b[1;36m  File \u001b[1;32m\"<ipython-input-26-f82e59284625>\"\u001b[1;36m, line \u001b[1;32m1\u001b[0m\n\u001b[1;33m    US$ = 23.35\u001b[0m\n\u001b[1;37m      ^\u001b[0m\n\u001b[1;31mSyntaxError\u001b[0m\u001b[1;31m:\u001b[0m invalid syntax\n"
     ]
    }
   ],
   "source": [
    "US$ = 23.35"
   ]
  },
  {
   "cell_type": "code",
   "execution_count": 29,
   "metadata": {
    "slideshow": {
     "slide_type": "subslide"
    }
   },
   "outputs": [
    {
     "ename": "SyntaxError",
     "evalue": "invalid syntax (<ipython-input-29-730500d32d51>, line 1)",
     "output_type": "error",
     "traceback": [
      "\u001b[1;36m  File \u001b[1;32m\"<ipython-input-29-730500d32d51>\"\u001b[1;36m, line \u001b[1;32m1\u001b[0m\n\u001b[1;33m    308Peugeot_ano = 2017\u001b[0m\n\u001b[1;37m       ^\u001b[0m\n\u001b[1;31mSyntaxError\u001b[0m\u001b[1;31m:\u001b[0m invalid syntax\n"
     ]
    }
   ],
   "source": [
    "308Peugeot_ano = 2017\n",
    "print(Peugeot308_ano)"
   ]
  },
  {
   "cell_type": "markdown",
   "metadata": {
    "slideshow": {
     "slide_type": "slide"
    }
   },
   "source": [
    "### 2.2 Tipos\n",
    "O interpretador pode mostrar o tipo de dado de um determinado valor (cte, variável, expressão):"
   ]
  },
  {
   "cell_type": "code",
   "execution_count": 14,
   "metadata": {
    "slideshow": {
     "slide_type": "subslide"
    }
   },
   "outputs": [
    {
     "name": "stdout",
     "output_type": "stream",
     "text": [
      "<class 'str'> <class 'int'> <class 'float'> <class 'int'> <class 'float'>\n"
     ]
    }
   ],
   "source": [
    "print(type('Oi pessoal!'), type(34), type(-15.6), type(horas), type(valorhora*2))"
   ]
  },
  {
   "cell_type": "markdown",
   "metadata": {
    "slideshow": {
     "slide_type": "slide"
    }
   },
   "source": [
    "## 3. Expressões\n",
    "As expressões são formadas por operadores (símbolos especiais que representam operações como adição e multiplicação) e operandos (valores nos quais o operador é aplicado).\n",
    "\n",
    "### 3.1 Aritméticas\n",
    "Envolve operadores aritméticos: \n",
    "* `+` (soma) \n",
    "* `-` (subtração)\n",
    "* `*` (multiplicação)\n",
    "* `/` (divisão com resultado em ponto flutuante)\n",
    "* `%` (resto da divisão inteira)\n",
    "* `//` (divisão com resultado inteiro)\n",
    "* `**` (potenciação)"
   ]
  },
  {
   "cell_type": "code",
   "execution_count": 20,
   "metadata": {
    "slideshow": {
     "slide_type": "subslide"
    }
   },
   "outputs": [
    {
     "name": "stdout",
     "output_type": "stream",
     "text": [
      "30.453° ≡  0.531505101276 rad\n",
      "30.453° ≡ 30° 27.18 '\n"
     ]
    }
   ],
   "source": [
    "print(\"30.453° ≡ \",30.453 * 3.14159256 / 180, 'rad')\n",
    "print(\"30.453° ≡ 30°\", 0.453*60, \"'\", 0.453*60)"
   ]
  },
  {
   "cell_type": "markdown",
   "metadata": {
    "slideshow": {
     "slide_type": "subslide"
    }
   },
   "source": [
    "### 3.2 Strings\n",
    "Python oferece suporte à concatenação de strings usando o operador de soma:"
   ]
  },
  {
   "cell_type": "code",
   "execution_count": 40,
   "metadata": {
    "slideshow": {
     "slide_type": "subslide"
    }
   },
   "outputs": [
    {
     "name": "stdout",
     "output_type": "stream",
     "text": [
      "Oi pessoal!\n"
     ]
    }
   ],
   "source": [
    "saudacao = \"Oi\" + \" \" + \"pessoal!\"\n",
    "print(saudacao)"
   ]
  },
  {
   "cell_type": "markdown",
   "metadata": {
    "slideshow": {
     "slide_type": "subslide"
    }
   },
   "source": [
    "Python oferece suporte à repetição de strings usando o operador de multiplicação:"
   ]
  },
  {
   "cell_type": "code",
   "execution_count": 41,
   "metadata": {
    "slideshow": {
     "slide_type": "subslide"
    }
   },
   "outputs": [
    {
     "name": "stdout",
     "output_type": "stream",
     "text": [
      "Oi pessoal! Oi pessoal! Oi pessoal! Oi pessoal! Oi pessoal! \n"
     ]
    }
   ],
   "source": [
    "variassaudacoes = \"Oi pessoal! \" * 5\n",
    "print(variassaudacoes)"
   ]
  },
  {
   "cell_type": "markdown",
   "metadata": {
    "slideshow": {
     "slide_type": "slide"
    }
   },
   "source": [
    "## 4. Declarações\n",
    "Uma declaração é uma parte do código que o Python interpretar/executar.  \n",
    "Já usamos duas declarações até agora: `print()` e atribuição de valores a variáveis.  \n",
    "Um ***script*** geralmente contém uma sequência de declarações. Se houver mais de uma declaração, os resultados aparecerão à medida que as instruções são executadas\n",
    "\n",
    "### 4.1 Atribuição\n",
    "Usa o caracter de igualdade, `=`, para atribuir um valor a uma variável, tal como nas maiorias das linguagens de programação.   \n",
    "A variável deve sempre ser colocada à esquerda do sinal de atribuição, e à direita dele coloca-se o valor a ser atribuido, podendo ser uma constante, uma expressão, outra variável, o resultado de uma função etc."
   ]
  },
  {
   "cell_type": "code",
   "execution_count": 11,
   "metadata": {
    "slideshow": {
     "slide_type": "subslide"
    }
   },
   "outputs": [
    {
     "name": "stdout",
     "output_type": "stream",
     "text": [
      "Ângulo (grau): 30     Ângulo (rad): 0.5235987599999999\n",
      "Ângulo: 30°   ≡  Ângulo: 0.52 (rad)\n"
     ]
    }
   ],
   "source": [
    "graus = 30\n",
    "rads = graus * 3.14159256 / 180\n",
    "print(\"Ângulo (grau):\", graus, '    Ângulo (rad):', rads)\n",
    "print(f\"Ângulo: {graus}°   ≡  Ângulo: {rads:.2f} (rad)\")          # [alt]0176 -> °"
   ]
  },
  {
   "cell_type": "markdown",
   "metadata": {
    "slideshow": {
     "slide_type": "subslide"
    }
   },
   "source": [
    "As atribuições podem ser feitas em mais de uma variável 'simultaneamente' na mesma linha:"
   ]
  },
  {
   "cell_type": "code",
   "execution_count": 2,
   "metadata": {
    "slideshow": {
     "slide_type": "subslide"
    }
   },
   "outputs": [
    {
     "name": "stdout",
     "output_type": "stream",
     "text": [
      "35 14 2\n",
      "14 35\n"
     ]
    }
   ],
   "source": [
    "a, b, c = 35, 14, 2     # atribuição simultânea\n",
    "print(a,b,c)\n",
    "a, b = b, a             # swap - troca de valores das variáveis\n",
    "print(a,b)"
   ]
  },
  {
   "cell_type": "markdown",
   "metadata": {
    "slideshow": {
     "slide_type": "slide"
    }
   },
   "source": [
    "### Exercício\n",
    "Crie variáveis para armazenar uma string, um número inteiro e um número de ponto flutuante. A var. string deve ser nomeada `cumprimento`  e deve conter as palavras `'boa tarde!'`. A var. do número de ponto flutuante deve ser denominada `peso` e deve conter o número 10.5, e a var. do número inteiro deve ser nomeada como `idade` e deve conter o valor 20. Depois de armazenar os valores mostre-os com a função `print()`."
   ]
  },
  {
   "cell_type": "code",
   "execution_count": 44,
   "metadata": {
    "slideshow": {
     "slide_type": "subslide"
    }
   },
   "outputs": [
    {
     "name": "stdout",
     "output_type": "stream",
     "text": [
      "Cumprimento: boa tarde! Peso (kg): 10.5 Idade: 20\n"
     ]
    }
   ],
   "source": [
    "cumprimento = 'boa tarde!'\n",
    "peso = 10.5\n",
    "idade = 20\n",
    "print(\"Cumprimento:\", cumprimento, \"Peso (kg):\", peso, \"Idade:\", idade)"
   ]
  },
  {
   "cell_type": "markdown",
   "metadata": {
    "slideshow": {
     "slide_type": "slide"
    }
   },
   "source": [
    "## Fim.\n",
    "<p style=\"text-align:right;\"><a href='../Índice.ipynb' target=\"_self\">Volta ao Índice</a></p>"
   ]
  }
 ],
 "metadata": {
  "celltoolbar": "Slideshow",
  "kernelspec": {
   "display_name": "Python 3",
   "language": "python",
   "name": "python3"
  },
  "language_info": {
   "codemirror_mode": {
    "name": "ipython",
    "version": 3
   },
   "file_extension": ".py",
   "mimetype": "text/x-python",
   "name": "python",
   "nbconvert_exporter": "python",
   "pygments_lexer": "ipython3",
   "version": "3.8.3"
  },
  "rise": {
   "enable_chalkboard": true,
   "footer": "<h3>Prof. Cláudio Fleury</h3>",
   "header": "<h1>IFG - Goiânia</h1>",
   "overlay": "<div class='myheader'><h3>IFG - Goiânia</h3></div><div class='myfooter'><h4>Out/2021 - Prof. Cláudio Fleury</h4></div>",
   "theme": "sky"
  }
 },
 "nbformat": 4,
 "nbformat_minor": 4
}
