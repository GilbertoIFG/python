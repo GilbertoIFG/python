{
 "cells": [
  {
   "cell_type": "markdown",
   "metadata": {},
   "source": [
    "<a id=\"topo\"></a>\n",
    "# Tópicos Básicos em Python\n",
    "0.  [Preliminares: Versão, Saída e Entrada de Dados, Constantes](#0.)\n",
    "1.\t<a href=\"#1.\">Variáveis e Operações</a>\n",
    "2.\t[Tipos de Dados e Conversões](#2.)\n",
    "3.\t<a href=\"#3.\">String</a>\n",
    "4.\t<a href=\"#4.\">Intervalo</a>\n",
    "5.\t<a href=\"#5.\">Lista</a>\n",
    "6.\t<a href=\"#6.\">Tupla</a>\n",
    "7.\t<a href=\"#7.\">Conjunto</a>\n",
    "8.\t<a href=\"#8.\">Dicionário</a>\n",
    "9.\t<a href=\"#9.\">Entrada de Dados</a>\n",
    "10.\t<a href=\"#10.\">Controle de Fluxo de Execução</a>\n",
    "11.\t<a href=\"#11.\">Função Definida pelo Usuário</a>\n",
    "12.\t<a href=\"#12.\">Funções Incorporadas</a>\n",
    "13.\t<a href=\"#13.\">Arquivos de E/S</a>\n",
    "14.\t<a href=\"#14.\">Exceções</a>"
   ]
  },
  {
   "cell_type": "markdown",
   "metadata": {},
   "source": [
    "<a id=\"0.\"></a>\n",
    "### Versão em Uso\n",
    "Para se certificar da versão do interpretador Python que está em uso, digite:"
   ]
  },
  {
   "cell_type": "code",
   "execution_count": 99,
   "metadata": {},
   "outputs": [
    {
     "name": "stdout",
     "output_type": "stream",
     "text": [
      "Versão Python em uso:  3.7.2\n"
     ]
    }
   ],
   "source": [
    "# verificação da versão do interpretador Python em uso\n",
    "import sys\n",
    "versao = sys.version\n",
    "print('Versão Python em uso: ',versao.split(' ')[0])"
   ]
  },
  {
   "cell_type": "markdown",
   "metadata": {},
   "source": [
    "### Saída de Dados: `print`\n",
    "\n",
    "<u>Versão 2.7</u>:  é um comando de saída de dados no dispositivo `stdout`.\n",
    "\n",
    "<u>Versão 3.7</u>:  é uma função que realiza a saída de dados no dispositivo `stdout`"
   ]
  },
  {
   "cell_type": "code",
   "execution_count": 70,
   "metadata": {},
   "outputs": [
    {
     "name": "stdout",
     "output_type": "stream",
     "text": [
      "Versão Python:  3.7.2 (tags/v3.7.2:9a3ffc0492, Dec 23 2018, 23:09:28) [MSC v.1916 64 bit (AMD64)]\n",
      "Help on built-in function print in module builtins:\n",
      "\n",
      "print(...)\n",
      "    print(value, ..., sep=' ', end='\\n', file=sys.stdout, flush=False)\n",
      "    \n",
      "    Prints the values to a stream, or to sys.stdout by default.\n",
      "    Optional keyword arguments:\n",
      "    file:  a file-like object (stream); defaults to the current sys.stdout.\n",
      "    sep:   string inserted between values, default a space.\n",
      "    end:   string appended after the last value, default a newline.\n",
      "    flush: whether to forcibly flush the stream.\n",
      "\n"
     ]
    }
   ],
   "source": [
    "help(print)"
   ]
  },
  {
   "cell_type": "markdown",
   "metadata": {},
   "source": [
    "### Entrada de Dados: `input()`\n"
   ]
  },
  {
   "cell_type": "code",
   "execution_count": 32,
   "metadata": {},
   "outputs": [
    {
     "name": "stdout",
     "output_type": "stream",
     "text": [
      "Entre o nome do funcionário: João da Silva\n",
      "Entre o salario:          R$ 1300\n",
      "Entre o nome da Empresa:    Minas do Ouro\n",
      "\n",
      "*** Dados do Funcionário ***\n",
      "Nome \tSalário \tEmpresa\n",
      "João da Silva 1300 Minas do Ouro\n",
      "<class 'str'> <class 'str'>\n"
     ]
    }
   ],
   "source": [
    "nome    = input(\"Entre o nome do funcionário: \")\n",
    "salario = input(\"Entre o salario:          R$ \")\n",
    "empresa = input (\"Entre o nome da Empresa:    \")\n",
    "print(\"\\n*** Dados do Funcionário ***\")\n",
    "print(\"Nome\", \"\\tSalário\", \"\\tEmpresa\")\n",
    "print(nome, salario, empresa)\n",
    "print(type(nome),type(salario))"
   ]
  },
  {
   "cell_type": "markdown",
   "metadata": {},
   "source": [
    "### Tipos de Dados\n",
    "Python suporta quatro tipos de dados numéricos diferentes:\n",
    "- `int` (inteiros com sinal): Eles geralmente são chamados de inteiros ou _ints_, e são números inteiros (sem ponto decimal) positivos ou negativos. \n",
    "- `long` (inteiros longos): Também chamados de _longs_, são inteiros de tamanho \"ilimitado\". No python2 são escritos como inteiros seguidos da letra `L` (maiúscula ou minúscula). \n",
    "- `float` (valores reais de ponto flutuante): Também chamados de _floats_, eles representam números reais e são escritos com um ponto decimal dividindo as partes inteira e fracionária. Números _floats_ também podem ser escritos em notação científica, com `E` ou `e` indicando a potência de 10 ($2.5e2 = 2.5 x 10^2 = 250$). \n",
    "- `complex` (números complexos): são da forma `a + bj`, onde `a` e `b` são _floats_ e `j` (ou `J`) representa a raiz quadrada de -1, $\\sqrt{-1}$, (número imaginário). A parte real do número é `a`, e a parte imaginária é `b`.\n",
    "- `bool` (valores lógicos): admitem apenas dois valores (palavras-chave) - `True` (verdade) e `False` (falso)."
   ]
  },
  {
   "cell_type": "markdown",
   "metadata": {},
   "source": [
    "### Constantes"
   ]
  },
  {
   "cell_type": "markdown",
   "metadata": {},
   "source": [
    "|   int  | long                 |       float       | complex    |\n",
    "|:------:|----------------------|:-----------------:|:-----------|\n",
    "|   10   | 51924361             |        0.0        | 3.14j      |\n",
    "|   100  | -0x19323             |       15.20       | 45.j       |\n",
    "|  -786  | 122                  |       -21.9       | 9.322e-36j |\n",
    "| 0x80   | 0xDEFABCECBDA        | 32.3+e18          | .876j      |\n",
    "| 0o60   | 4897495739349        | 4897495739349e-12 | 2-2j       |\n",
    "| -490   | 535633629843         | -90.              | -.6545+0J  |\n",
    "| -0x260 | -052318172735        | -32.54e100        | 3e+26J     |\n",
    "| 0x69   | -4721885298529       | 70.2E-2           | 4.53e-7j   |"
   ]
  },
  {
   "cell_type": "code",
   "execution_count": 17,
   "metadata": {},
   "outputs": [
    {
     "data": {
      "text/plain": [
       "(15323030801370.0, 0.876j, (-0.6545+0j), 0.0, 3.23e+19, 48, 4.897495739349)"
      ]
     },
     "execution_count": 17,
     "metadata": {},
     "output_type": "execute_result"
    }
   ],
   "source": [
    "float(0xDEFABCECBDA), .876j, -.6545+0J, (4.53e-7j).real, 32.3e+18, 0o60, 4897495739349e-12"
   ]
  },
  {
   "cell_type": "markdown",
   "metadata": {},
   "source": [
    "<p style=\"text-align:right;\"><a href=\"#topo\">Volta ao topo</a></p>"
   ]
  },
  {
   "cell_type": "markdown",
   "metadata": {},
   "source": [
    "<a id=\"1.\"></a>\n",
    "## 1. Varíaveis e Operações"
   ]
  },
  {
   "cell_type": "markdown",
   "metadata": {},
   "source": [
    "###  Identificadores \n",
    "Existem regras que devem ser seguidas para nomear identificadores (nomes de variáveis, funções, classes etc.) em Python. \n",
    "1. Você não pode usar palavras-chave como identificadores. \n",
    "\n",
    "2. Os identificadores podem ser uma combinação de caracteres alfanuméricos (a-z, A-Z e 0-9) e sublinhados (_). \n",
    "\n",
    "3. Um identificador não pode começar com um dígito. \n",
    "\n",
    "4. Usar caracteres especiais como @, #, \\$ etc não é permitido. \n",
    "\n",
    "5. Identificadores podem ser de qualquer tamanho em python. Mas o guia de estilo padrão do Python, o PEP-8 (_Python Enhancement Proposal_ - Proposta de Aprimoramento do Python), limita o comprimento da linha a um máximo de 79 caracteres."
   ]
  },
  {
   "cell_type": "code",
   "execution_count": 19,
   "metadata": {},
   "outputs": [
    {
     "name": "stdout",
     "output_type": "stream",
     "text": [
      "['False', 'None', 'True', 'and', 'as', 'assert', 'async', 'await', 'break', 'class', 'continue', 'def', 'del', 'elif', 'else', 'except', 'finally', 'for', 'from', 'global', 'if', 'import', 'in', 'is', 'lambda', 'nonlocal', 'not', 'or', 'pass', 'raise', 'return', 'try', 'while', 'with', 'yield']\n"
     ]
    }
   ],
   "source": [
    "import keyword\n",
    "print(keyword.kwlist)"
   ]
  },
  {
   "cell_type": "code",
   "execution_count": 93,
   "metadata": {
    "scrolled": true
   },
   "outputs": [
    {
     "ename": "SyntaxError",
     "evalue": "invalid syntax (<ipython-input-93-326bd0e041aa>, line 1)",
     "output_type": "error",
     "traceback": [
      "\u001b[1;36m  File \u001b[1;32m\"<ipython-input-93-326bd0e041aa>\"\u001b[1;36m, line \u001b[1;32m1\u001b[0m\n\u001b[1;33m    1variavel = 6\u001b[0m\n\u001b[1;37m            ^\u001b[0m\n\u001b[1;31mSyntaxError\u001b[0m\u001b[1;31m:\u001b[0m invalid syntax\n"
     ]
    }
   ],
   "source": [
    "1variavel = 6 "
   ]
  },
  {
   "cell_type": "code",
   "execution_count": 92,
   "metadata": {},
   "outputs": [
    {
     "ename": "SyntaxError",
     "evalue": "can't assign to keyword (<ipython-input-92-7a501964a9b5>, line 1)",
     "output_type": "error",
     "traceback": [
      "\u001b[1;36m  File \u001b[1;32m\"<ipython-input-92-7a501964a9b5>\"\u001b[1;36m, line \u001b[1;32m1\u001b[0m\n\u001b[1;33m    True = 6\u001b[0m\n\u001b[1;37m             ^\u001b[0m\n\u001b[1;31mSyntaxError\u001b[0m\u001b[1;31m:\u001b[0m can't assign to keyword\n"
     ]
    }
   ],
   "source": [
    "True = 6 "
   ]
  },
  {
   "cell_type": "code",
   "execution_count": 1,
   "metadata": {},
   "outputs": [
    {
     "ename": "SyntaxError",
     "evalue": "invalid syntax (<ipython-input-1-abeb204702c4>, line 1)",
     "output_type": "error",
     "traceback": [
      "\u001b[1;36m  File \u001b[1;32m\"<ipython-input-1-abeb204702c4>\"\u001b[1;36m, line \u001b[1;32m1\u001b[0m\n\u001b[1;33m    variavel@ = 6\u001b[0m\n\u001b[1;37m              ^\u001b[0m\n\u001b[1;31mSyntaxError\u001b[0m\u001b[1;31m:\u001b[0m invalid syntax\n"
     ]
    }
   ],
   "source": [
    "variavel@ = 6 "
   ]
  },
  {
   "cell_type": "markdown",
   "metadata": {},
   "source": [
    "### Atribuição de Valor:   `<id_variável> [operador] <cte/expressão>`\n",
    "Um sinal de igualdade `=` é usado à direita de uma variável e à esquerda de uma expressão, como __operador de atribuição__ (armazenamento) de um valor a uma variável, tal como ocorre na grande maioria das linguagens de programação de computadores. Em Python, os tipos de dados numéricos são imutáveis, de forma que toda atribuição de um valor numérico a uma variável cria um novo objeto numérico.\n",
    "\n",
    "Sempre que pressionarmos qualquer tecla numérica, letra ou instrução no console do Python seguida da tecla [Enter], a resposta do interpretador Python ao comando será mostrada na linha seguinte. Mas, se atribuirmos um valor a uma variável, à esquerda do sinal de igual `=`, e pressionarmos [Enter], nenhuma informação será exibida na linha seguinte. Apenas o resultado da expressão digitada ao lado direito do sinal de igualdade será armazenada na variável. \n",
    "\n",
    "Uma variável pode ser vista como uma pequena caixa na memória do computador, na qual se armazena uma informação. Quando declaramos uma variável, o computador aloca determinada memória para armazenar essa variável. O endereço de memória de cada variável é único. No Python a declaração explícita de variáveis não existe pois a linguagem faz a declaração automática da variável sempre que uma atribuição é realizada (tipificação dinâmica)."
   ]
  },
  {
   "cell_type": "markdown",
   "metadata": {},
   "source": [
    "Exemplos de atribuição de valores a variáveis (criação de variáveis) e apresentação de seus conteúdos usando o comando (2.x) ou função (3.x) `print`:"
   ]
  },
  {
   "cell_type": "code",
   "execution_count": 2,
   "metadata": {},
   "outputs": [
    {
     "name": "stdout",
     "output_type": "stream",
     "text": [
      "Python + Machine Learning = Sucesso\n",
      "2019\n",
      "2029\n"
     ]
    }
   ],
   "source": [
    "x = 'Python + Machine Learning = Sucesso'    # criação da var. 'x' e atribuição de valor para var. 'x'\n",
    "print(x)                                     # apresentação do conteúdo da var. 'x'\n",
    "ML = 2019                                    # criação da var. 'ML' e atribuição de valor (cte) à var. 'ML'\n",
    "xl = ML + 10                                 # criação da var. 'xL' e atribuição de valor (expressão) à var. 'xl'\n",
    "print(ML)                                    # apresentação do conteúdo da var. 'ML'\n",
    "print(xl)                                    # apresentação do conteúdo da var. 'xl'"
   ]
  },
  {
   "cell_type": "markdown",
   "metadata": {},
   "source": [
    "#### Atribuição Múltipla\n",
    "O Python nos permite atribuir a várias variáveis um mesmo valor numa mesma expressão. Para isso, devemos separar as variáveis que receberam o mesmo valor com vírgulas."
   ]
  },
  {
   "cell_type": "code",
   "execution_count": 8,
   "metadata": {},
   "outputs": [
    {
     "name": "stdout",
     "output_type": "stream",
     "text": [
      "1 2 9 1\n"
     ]
    }
   ],
   "source": [
    "a = 1\n",
    "b, c, d = 2, 9, a\n",
    "print(a,b,c,d)"
   ]
  },
  {
   "cell_type": "markdown",
   "metadata": {},
   "source": [
    "No código acima, declaramos 3 variáveis. À variável `a` é atribuído o valor `1`. Às var.s `b` e `c`, separadas por vírgula, são atribuídos o valor `2`."
   ]
  },
  {
   "cell_type": "markdown",
   "metadata": {},
   "source": [
    "No exemplo anterior, a string <tt>'Python + Machine Learning = Sucesso'</tt> é armazenada numa variável chamada `x`. No código seguinte, o comando (a função, Vs.>3) **print** apresenta o valor armazenado na variável `x`. Depois foi atribuído o valor 2019 à variável `ML`, e então mostrado na tela. Na linha seguinte foi feito uma operação aritmética de soma <tt>ML + 10</tt> e o resultado atribuído à variável `xl`, e então o resultado é mostrado na linha seguinte...\n",
    "\n",
    "Você pode excluir um único objeto (variável) ou vários objetos (variáveis) usando a instrução `del`. Por exemplo:"
   ]
  },
  {
   "cell_type": "code",
   "execution_count": 3,
   "metadata": {},
   "outputs": [
    {
     "ename": "NameError",
     "evalue": "name 'x' is not defined",
     "output_type": "error",
     "traceback": [
      "\u001b[1;31m---------------------------------------------------------------------------\u001b[0m",
      "\u001b[1;31mNameError\u001b[0m                                 Traceback (most recent call last)",
      "\u001b[1;32m<ipython-input-3-fac5a07ce21f>\u001b[0m in \u001b[0;36m<module>\u001b[1;34m\u001b[0m\n\u001b[0;32m      1\u001b[0m \u001b[1;32mdel\u001b[0m \u001b[0mML\u001b[0m\u001b[1;33m\u001b[0m\u001b[1;33m\u001b[0m\u001b[0m\n\u001b[0;32m      2\u001b[0m \u001b[1;32mdel\u001b[0m \u001b[0mx\u001b[0m\u001b[1;33m,\u001b[0m \u001b[0mxl\u001b[0m\u001b[1;33m\u001b[0m\u001b[1;33m\u001b[0m\u001b[0m\n\u001b[1;32m----> 3\u001b[1;33m \u001b[0mprint\u001b[0m\u001b[1;33m(\u001b[0m\u001b[0mx\u001b[0m\u001b[1;33m)\u001b[0m\u001b[1;33m\u001b[0m\u001b[1;33m\u001b[0m\u001b[0m\n\u001b[0m",
      "\u001b[1;31mNameError\u001b[0m: name 'x' is not defined"
     ]
    }
   ],
   "source": [
    "del ML\n",
    "del x, xl\n",
    "print(x)"
   ]
  },
  {
   "cell_type": "markdown",
   "metadata": {},
   "source": [
    "### Operadores Aritméticos\n",
    "Soma (+), subtração (-), multiplicação (\\*), divisão (/), resto da divisão inteira (%), divisão inteira (//), potenciação (\\*\\*). A prioridade de execução segue os padrões matemáticos. Usando parênteses pode-se definir que parte da operação será feita antes da operação."
   ]
  },
  {
   "cell_type": "markdown",
   "metadata": {},
   "source": [
    "<table>\n",
    "  <tr>\n",
    "    <th text-align:center;vertical-align:top>Operador</th> <th>Exemplo</th> <th text-align:left>Descrição</th>\n",
    "  </tr>\n",
    "  <tr>\n",
    "    <td><center>+</center></td> <td align=center>a + b</td><td align=\"left\">Soma os operandos em ambos lados do operador.</td>\n",
    "  </tr>\n",
    "  <tr>\n",
    "    <td><center>-</center></td><td>a - b</td><td>Subtrai o operando do lado direito do operando do lado esquerdo.<td>\n",
    "  </tr>\n",
    "  <tr>\n",
    "    <td><center>\\*</center></td><td>a \\* b</td><td>Multiplica os operandos em ambos lados do operador.</td>\n",
    "  </tr>\n",
    "  <tr>\n",
    "    <td><center>/</center></td><td>a / b</td><td>Divide o operando do lado esquerdo pelo operando do lado direito do operador (python2: retorna valor inteiro se operandos são inteiros).</td>\n",
    "  </tr>\n",
    "  <tr>\n",
    "    <td><center>%</center></td><td>a % b</td><td>Retorna o resto da divisão inteira do operando do lado esquerdo pelo operando do lado direito do operador.</td>\n",
    "  </tr>\n",
    "  <tr>\n",
    "    <td><center>**</center></td><td>a ** b</td><td>Retorna a potenciação do operador do lado esquerdo elevado ao operador do lado direito do operador.</td>\n",
    "  </tr>\n",
    "  <tr>\n",
    "    <td><center>//</center></td><td>a // b</td><td>Retorna o quociente da divisão dos operandos, onde o resultado é do tipo inteiro. Mas se um dos operandos for negativo, o resultado é flutuante, isto é, arredondado para longe de zero (em direção ao infinito negativo).</td>\n",
    "  </tr>\n",
    "</table>"
   ]
  },
  {
   "cell_type": "code",
   "execution_count": 2,
   "metadata": {},
   "outputs": [
    {
     "data": {
      "text/plain": [
       "(-24, 72, -24, 2, 0.14285714285714285)"
      ]
     },
     "execution_count": 2,
     "metadata": {},
     "output_type": "execute_result"
    }
   ],
   "source": [
    "12-4*9, (12-4)*9, 12-(4*9), 8 % 3, 1/7"
   ]
  },
  {
   "cell_type": "markdown",
   "metadata": {},
   "source": [
    "**Atenção**: Divisão com operandos inteiros apresenta resultado também inteiro no python2. Naquele caso, para se obter resultado fracionário um dos operandos deve ser do tipo real (*float*)."
   ]
  },
  {
   "cell_type": "code",
   "execution_count": 3,
   "metadata": {},
   "outputs": [
    {
     "data": {
      "text/plain": [
       "(1.3333333333333333, 1.3333333333333333, 4.166666666666667, 4.0, 3, 1024)"
      ]
     },
     "execution_count": 3,
     "metadata": {},
     "output_type": "execute_result"
    }
   ],
   "source": [
    "8/6, 8./6, 12.5/3, 12.5//3, 13 % 5, 2**10"
   ]
  },
  {
   "cell_type": "markdown",
   "metadata": {},
   "source": [
    "**Operadores Relacionais**\n",
    "<table>\n",
    "  <tr>\n",
    "      <th>Operador</th><th>Exemplo</th><th align=\"left\">Descrição</th>\n",
    "  </tr>\n",
    "  <tr>\n",
    "    <td><center>==</center></td><td>a == b</td><td>Retorna True se os operandos são iguais, e retorna False caso contrário.</td>\n",
    "  </tr>\n",
    "  <tr>\n",
    "    <td><center>!=, <></center></td><td>a != b</td><td>Retorna True se os operandos são diferentes, e retorna False caso contrário.</td>\n",
    "  </tr>\n",
    "  <tr>\n",
    "    <td><center>></center></td><td>a > b</td><td>Retorna True se o operando do lado esquerdo do operador for maior que o operando do lado direito, e retorna False caso contrário.</td>\n",
    "  </tr>\n",
    "  <tr>\n",
    "    <td><center> < </center></td><td>a < b</td><td>Retorna True se o operando do lado esquerdo do operador for menor que o operando do lado direito, e retorna False caso contrário.</td>\n",
    "  </tr>\n",
    "  <tr>\n",
    "    <td><center>>=</center></td><td>a >= b</td><td>Retorna True se o operando do lado esquerdo do operador for maior ou igual ao operando do lado direito, e retorna False caso contrário.</td>\n",
    "  </tr>\n",
    "  <tr>\n",
    "    <td><center> <= </center></td><td>a <= b</td><td>Retorna True se o operando do lado esquerdo do operador for menor ou igual ao operando do lado direito, e retorna False caso contrário.</td>\n",
    "  </tr>\n",
    "</table>"
   ]
  },
  {
   "cell_type": "markdown",
   "metadata": {},
   "source": [
    "**Operadores Lógicos**\n",
    "<table>\n",
    "  <tr>\n",
    "    <th text-align: center;>Operador</th><th>Exemplo</th><th text-align: center;>Descrição</th>\n",
    "  </tr>\n",
    "  <tr>\n",
    "    <td><center> and </center></td><td>a and b</td><td>Retorna True se os operandos são True, e retorna False caso contrário.</td>\n",
    "  </tr>\n",
    "  <tr>\n",
    "    <td><center> or </center></td><td>a or b</td><td>Retorna True se qq. um dos operandos, ou ambos, são True, e retorna False caso contrário.</td>\n",
    "  </tr>\n",
    "  <tr>\n",
    "    <td><center> not </center></td><td> not a </td><td>Complementa o valor do operando lógico 'a'.</td>\n",
    "  </tr>\n",
    "</table>"
   ]
  },
  {
   "cell_type": "markdown",
   "metadata": {},
   "source": [
    "**Operadores bit a bit**: atua nos operandos no nível de bits.\n",
    "\n",
    "<table>\n",
    "  <tr>\n",
    "    <th><center> Operador </center></th><th>Exemplo</th><th>Descrição</th>\n",
    "  </tr>\n",
    "  <tr>\n",
    "    <td><center> & </center></td><td>a & b</td><td>Operação E: copia um bit para o resultado se ele existe em ambos operandos.</td>\n",
    "  </tr>\n",
    "  <tr>\n",
    "    <td><center> | </center></td><td>a | b</td><td>Operação OU: copia um bit para o resultado se ele existe em pelo menos um dos operandos.</td>\n",
    "  </tr>\n",
    "  <tr>\n",
    "    <td><center> ^ </center></td><td>a ^ b</td><td>Operação XOU: copia um bit para o resultado se ele estiver ligado (1) em um dos operandos, mas não em ambos.</td>\n",
    "  </tr>\n",
    "  <tr>\n",
    "    <td><center> ~ </center></td><td>~a</td><td>Operação Complemento 1: comuta os bits do operando 'a'.</td>\n",
    "  </tr>\n",
    "  <tr>\n",
    "    <td><center> << </center></td><td>a << b</td><td>Operação Deslocamento à Esquerda: desloca p/ esq. os bits do operando 'a' da quantidade de bits indicada pelo operando 'b'.</td>\n",
    "  </tr>\n",
    "  <tr>\n",
    "    <td><center> >> </center></td><td>a >> b</td><td>Operação Deslocamento à Direita: desloca p/ dir. os bits do operando 'a' da quantidade de bits indicada pelo operando 'b'.</td>\n",
    "  </tr>\n",
    "</table>"
   ]
  },
  {
   "cell_type": "markdown",
   "metadata": {},
   "source": [
    "**Operadores de Pertinência**: indica a existência/pertinência de um elemento num iterável.\n",
    "<table>\n",
    "  <tr>\n",
    "    <th><center> Operador </center></th><th>Exemplo</th><th text-align: center;>Descrição</th>\n",
    "  </tr>\n",
    "  <tr>\n",
    "    <td><center> in </center></td><td>a in b</td><td>Retorna True se o operando 'a' estiver presente na sequência 'b'.</td>\n",
    "  </tr>\n",
    "  <tr>\n",
    "    <td><center> not in </center></td><td>a not in b</td><td>Retorna True se o operando 'a' não estiver presente na sequência 'b'.</td>\n",
    "  </tr>\n",
    "</table>"
   ]
  },
  {
   "cell_type": "markdown",
   "metadata": {},
   "source": [
    "**Operadores de Identidade**: indica a existência/pertinência de um elemento num iterável.\n",
    "\n",
    "<table>\n",
    "  <tr>\n",
    "    <th><center> Operador </center></th><th>Exemplo</th><th>Descrição</th>\n",
    "  </tr>\n",
    "  <tr>\n",
    "    <td><center> is </center></td><td>x is &lt;tipo&gt;</td><td>Retorna True se  se ambos os operandos se referirem ao mesmo tipo de objeto.</td>\n",
    "  </tr>\n",
    "  <tr>\n",
    "    <td><center> is not </center></td><td>x is not &lt;tipo&gt;</td><td>Retorna False se as variáveis de cada lado do operador apontarem para o mesmo tipo de objeto e True de outra forma.</td>\n",
    "  </tr>\n",
    "</table>"
   ]
  },
  {
   "cell_type": "markdown",
   "metadata": {},
   "source": [
    "#### Funções Matemáticas\n",
    "\n",
    "| Função    | Descrição                                                     |       float       | complex    |\n",
    "|-----------|---------------------------------------------------------------|:-----------------:|------------|\n",
    "| abs(x)    | O valor absoluto de x: a distância (positiva) entre x e zero. |        0.0        | 3.14j      |\n",
    "| ceil(x)   | O teto de x: o menor inteiro não menor que x                  |       15.20       | 45.j       |\n",
    "| cmp(x, y) | -1 se x < y; 0 se x == y ou 1 se x > y                        |         y         | 9.322e-36j |\n",
    "| exp(x)    | O exponencial de x: $e^x$                                     | 32.3+e18          | .876j      |\n",
    "| fabs(x)   | O valor absoluto de x.                                        | 4897495739349e-12 | 2-2j       |\n",
    "| floor(x)  | O piso de x: o maior número inteiro não maior que x           | -90.              | -.6545+0J  |\n",
    "| log(x)    | O logaritmo natural de x, para x> 0                           | -32.54e100        | 3e+26J     |\n",
    "| log10(x)  | O logaritmo de base 10 de x para x> 0                         | 70.2E-2           | 4.53e-7j   |\n",
    "\n",
    "| Função                           | Descrição                                                               |\n",
    "|----------------------------------|-------------------------------------------------------------------------|\n",
    "| choice(seq)                      | Um item aleatório de uma lista, tupla ou string.                        |\n",
    "| randrange([start,] stop [,step]) | Um elemento selecionado aleatoriamente do intervalo (iniciar, parar, passo)|\n",
    "| random()                         |  Retorna um float r aleatório, tal que 0 <= r < 1                       |\n",
    "| seed([x])                        | Define o valor inicial do inteiro usado na geração de números aleatórios. Sem retorno.|\n",
    "| shuffle(lst)                     | Randomiza os itens de uma lista no lugar. Sem retorno.                  |\n",
    "\n",
    "| Função      | Descrição                                         |\n",
    "|-------------|---------------------------------------------------|\n",
    "| acos(x)     | Retorna o arco cosseno de x, em radianos.         |\n",
    "| asin(x)     | Retorne o arco seno de x, em radianos.            |\n",
    "| atan(x)     | Retorna o arco tangente de x, em radianos.        |\n",
    "| atan2(y, x) | Retorna atan (y / x), em radianos.                |\n",
    "| cos(x)      | Retorna o cosseno de x radianos.                  |\n",
    "| hypot(x, y) | Retorna a norma euclidiana, sqrt (x * x + y * y). |\n",
    "| sin(x)      | Devolve o seno de x radianos.                     |\n",
    "| tan(x)      | Retorna a tangente de x radianos.                 |\n",
    "| degrees(x)  | Converte o ângulo x de radianos para graus.       |\n",
    "| radians(x)  | Converte o ângulo x de graus para radianos.       |"
   ]
  },
  {
   "cell_type": "markdown",
   "metadata": {},
   "source": [
    "<p style=\"text-align:right;\"><a href=\"#topo\">Volta ao topo</a></p>"
   ]
  },
  {
   "cell_type": "markdown",
   "metadata": {},
   "source": [
    "<a id=\"2.\"></a>\n",
    "## 2. Tipos de Dado e Conversões de Tipos (*casting*)"
   ]
  },
  {
   "cell_type": "markdown",
   "metadata": {},
   "source": [
    "Os Dados em Python podem ser manipulados via um dos cinco tipos citados a seguir: Números, None, Sequências (listas, tuplas), Conjuntos ou Mapeamentos.\n",
    "\n",
    "Exemplos:"
   ]
  },
  {
   "cell_type": "code",
   "execution_count": 4,
   "metadata": {},
   "outputs": [
    {
     "name": "stdout",
     "output_type": "stream",
     "text": [
      "2\n",
      "<class 'int'>\n"
     ]
    }
   ],
   "source": [
    "# Inteiro:\n",
    "print(1 + 1)\n",
    "a = 4\n",
    "print(type(a))"
   ]
  },
  {
   "cell_type": "code",
   "execution_count": 5,
   "metadata": {},
   "outputs": [
    {
     "name": "stdout",
     "output_type": "stream",
     "text": [
      "<class 'float'>\n"
     ]
    }
   ],
   "source": [
    "# Real   -->   python2: <type 'float'>      python3: <class 'float'>\n",
    "c = 2.1\n",
    "print(type(c))"
   ]
  },
  {
   "cell_type": "code",
   "execution_count": 7,
   "metadata": {},
   "outputs": [
    {
     "name": "stdout",
     "output_type": "stream",
     "text": [
      "1.5 0.5\n",
      "<class 'complex'>\n"
     ]
    }
   ],
   "source": [
    "# Complexo   -->   python2: <type 'complex'>      python3: <class 'complex'> \n",
    "a = 1.5 + 0.5j\n",
    "print(a.real, a.imag)\n",
    "print(type(1. + 0j))"
   ]
  },
  {
   "cell_type": "code",
   "execution_count": 21,
   "metadata": {},
   "outputs": [
    {
     "name": "stdout",
     "output_type": "stream",
     "text": [
      "False\n",
      "False <class 'bool'> \n",
      " True <class 'bool'>\n"
     ]
    }
   ],
   "source": [
    "# Lógico   -->   python2: <type 'bool'>      python3: <class 'bool'>\n",
    "continua = True\n",
    "print(3 > 4)\n",
    "teste = (3 > 4)\n",
    "print(teste, type(teste), '\\n', continua, type(continua))      # 'type()' é uma função da biblioteca padrão"
   ]
  },
  {
   "cell_type": "code",
   "execution_count": 11,
   "metadata": {},
   "outputs": [
    {
     "data": {
      "text/plain": [
       "1.5"
      ]
     },
     "execution_count": 11,
     "metadata": {},
     "output_type": "execute_result"
    }
   ],
   "source": [
    "# Aviso   -->    python2: divisão inteira    python3: divisão real\n",
    "3/2"
   ]
  },
  {
   "cell_type": "code",
   "execution_count": 12,
   "metadata": {},
   "outputs": [
    {
     "data": {
      "text/plain": [
       "1.5"
      ]
     },
     "execution_count": 12,
     "metadata": {},
     "output_type": "execute_result"
    }
   ],
   "source": [
    "# Dica python2: use operandos reais, ou pelo menos um dos operandos do tipo real\n",
    "3 / 2."
   ]
  },
  {
   "cell_type": "code",
   "execution_count": 14,
   "metadata": {},
   "outputs": [
    {
     "name": "stdout",
     "output_type": "stream",
     "text": [
      "1 1.5\n"
     ]
    }
   ],
   "source": [
    "a = 3\n",
    "b = 2\n",
    "print(a // b, a / float(b))"
   ]
  },
  {
   "cell_type": "markdown",
   "metadata": {},
   "source": [
    "Identificadores podem ser de qualquer tamanho em python. Mas o guia de estilo padrão do Python, o PEP-8 (_Python Enhancement Proposal_ - Proposta de aprimoramento do Python), limita o comprimento da linha a um máximo de 79 caracteres."
   ]
  },
  {
   "cell_type": "markdown",
   "metadata": {},
   "source": [
    "### Conversão de Tipo (*casting*)\n",
    "Permite a conversão de variáveis de um tipo de dado em outro. O Python possui algumas funções internas que se prestam à conversão de tipos. Vimos exemplos de variáveis de dados numéricos (inteiros e reais/ponto flutuante), de dados literais  *string* (cadeias de caracteres) e dos tipos lógico e complexo. \n",
    "\n",
    "Funções de conversão de tipo de dados: <tt>int(), float(), str(), bool(), complex()</tt>."
   ]
  },
  {
   "cell_type": "markdown",
   "metadata": {},
   "source": [
    "### Conversão para Inteiros\n",
    "A função <tt>int()</tt> é usada para converter *strings* ou *floats* em números inteiros. Observe que se a *string* não resultar num valor inteiro então uma mensagem de **erro de valor** será mostrada ao se solicitar a conversão de tipo para inteiro."
   ]
  },
  {
   "cell_type": "code",
   "execution_count": 18,
   "metadata": {},
   "outputs": [
    {
     "data": {
      "text/plain": [
       "2553"
      ]
     },
     "execution_count": 18,
     "metadata": {},
     "output_type": "execute_result"
    }
   ],
   "source": [
    "int('2553')"
   ]
  },
  {
   "cell_type": "code",
   "execution_count": 19,
   "metadata": {},
   "outputs": [
    {
     "ename": "ValueError",
     "evalue": "invalid literal for int() with base 10: '2553.49'",
     "output_type": "error",
     "traceback": [
      "\u001b[1;31m---------------------------------------------------------------------------\u001b[0m",
      "\u001b[1;31mValueError\u001b[0m                                Traceback (most recent call last)",
      "\u001b[1;32m<ipython-input-19-f72e7a5f3a0b>\u001b[0m in \u001b[0;36m<module>\u001b[1;34m()\u001b[0m\n\u001b[1;32m----> 1\u001b[1;33m \u001b[0mint\u001b[0m\u001b[1;33m(\u001b[0m\u001b[1;34m'2553.49'\u001b[0m\u001b[1;33m)\u001b[0m\u001b[1;33m\u001b[0m\u001b[0m\n\u001b[0m",
      "\u001b[1;31mValueError\u001b[0m: invalid literal for int() with base 10: '2553.49'"
     ]
    }
   ],
   "source": [
    "int('2553.49')"
   ]
  },
  {
   "cell_type": "code",
   "execution_count": 20,
   "metadata": {},
   "outputs": [
    {
     "data": {
      "text/plain": [
       "2553"
      ]
     },
     "execution_count": 20,
     "metadata": {},
     "output_type": "execute_result"
    }
   ],
   "source": [
    "int(2553.49)"
   ]
  },
  {
   "cell_type": "markdown",
   "metadata": {},
   "source": [
    "### Conversão para Strings\n",
    "Use a função <tt>str()</tt> sem qualquer restrição de valor para gerar uma cadeia de caracteres (*string*)."
   ]
  },
  {
   "cell_type": "code",
   "execution_count": 21,
   "metadata": {},
   "outputs": [
    {
     "data": {
      "text/plain": [
       "'2553.45'"
      ]
     },
     "execution_count": 21,
     "metadata": {},
     "output_type": "execute_result"
    }
   ],
   "source": [
    "str(2553.45)"
   ]
  },
  {
   "cell_type": "markdown",
   "metadata": {},
   "source": [
    "<hr size=5 width=500 color=\"blue\">"
   ]
  },
  {
   "cell_type": "markdown",
   "metadata": {},
   "source": [
    "### <a style=\"color: red\">Exercício</a>\n",
    "Qual é a explicação para a seguinte mensagem de erro?"
   ]
  },
  {
   "cell_type": "code",
   "execution_count": 22,
   "metadata": {},
   "outputs": [
    {
     "ename": "TypeError",
     "evalue": "str() takes at most 1 argument (2 given)",
     "output_type": "error",
     "traceback": [
      "\u001b[1;31m---------------------------------------------------------------------------\u001b[0m",
      "\u001b[1;31mTypeError\u001b[0m                                 Traceback (most recent call last)",
      "\u001b[1;32m<ipython-input-22-eaa458df2fd2>\u001b[0m in \u001b[0;36m<module>\u001b[1;34m()\u001b[0m\n\u001b[1;32m----> 1\u001b[1;33m \u001b[0mstr\u001b[0m\u001b[1;33m(\u001b[0m\u001b[1;36m2.334\u001b[0m\u001b[1;33m,\u001b[0m\u001b[1;36m45\u001b[0m\u001b[1;33m)\u001b[0m\u001b[1;33m\u001b[0m\u001b[0m\n\u001b[0m",
      "\u001b[1;31mTypeError\u001b[0m: str() takes at most 1 argument (2 given)"
     ]
    }
   ],
   "source": [
    "str(2.334,45)"
   ]
  },
  {
   "cell_type": "markdown",
   "metadata": {},
   "source": [
    "Quando escrevemos múltiplas variáveis na instrução ***print***, conversões de *strings* devem ser usadas."
   ]
  },
  {
   "cell_type": "code",
   "execution_count": 53,
   "metadata": {},
   "outputs": [
    {
     "name": "stdout",
     "output_type": "stream",
     "text": [
      "Real = 255.45   Inteiro = 54\n"
     ]
    }
   ],
   "source": [
    "print('Real = ' + str(255.45) + '   Inteiro = ' + str(54))"
   ]
  },
  {
   "cell_type": "markdown",
   "metadata": {},
   "source": [
    "### Conversão para Reais\n",
    "A função <tt>float()</tt> é usada para converter *strings* ou inteiros em valores reais."
   ]
  },
  {
   "cell_type": "code",
   "execution_count": 54,
   "metadata": {},
   "outputs": [
    {
     "name": "stdout",
     "output_type": "stream",
     "text": [
      "54.0 54.221\n"
     ]
    }
   ],
   "source": [
    "print(float(54), float('54.221'))"
   ]
  },
  {
   "cell_type": "markdown",
   "metadata": {},
   "source": [
    "<p style=\"text-align:right;\"><a href=\"#topo\">Volta ao topo</a></p>"
   ]
  },
  {
   "cell_type": "markdown",
   "metadata": {},
   "source": [
    "<a id=\"3.\"></a>\n",
    "## 3. String"
   ]
  },
  {
   "cell_type": "markdown",
   "metadata": {},
   "source": [
    "As *strings* são usadas para armazenar informações de texto, tais como nome, endereço, mensagem etc. O Python monitora todos os elementos da *string* como uma sequência de caracteres. Por exemplo, o Python entende que a *string* \"IFG\" é uma sequência de letras numa ordem específica. Isso significa que podemos usar a indexação para acessar letras específicas (como a primeira ou a última letra, por exemplo).\n",
    "<img src=\"img/string.png\" alt=\"img/string.png\" class=\"align-right\" style=\"width: 500.0px; height: 150.0px;\">\n",
    "\n",
    "- **Criando *Strings***\n",
    "Para criar uma *string* em Python você precisa usar aspas simples ou aspas duplas para delimitar a sequência de caracteres. \n",
    "Por exemplo (usando comentário na primeira linha):"
   ]
  },
  {
   "cell_type": "code",
   "execution_count": 32,
   "metadata": {},
   "outputs": [
    {
     "data": {
      "text/plain": [
       "'IFG'"
      ]
     },
     "execution_count": 32,
     "metadata": {},
     "output_type": "execute_result"
    }
   ],
   "source": [
    "# palavra única\n",
    "'IFG'"
   ]
  },
  {
   "cell_type": "code",
   "execution_count": 31,
   "metadata": {},
   "outputs": [
    {
     "data": {
      "text/plain": [
       "u'Bem-vindos ao Curso de Extens\\xe3o do IFG 2019-1'"
      ]
     },
     "execution_count": 31,
     "metadata": {},
     "output_type": "execute_result"
    }
   ],
   "source": [
    "# -*- coding: utf-8 -*-\n",
    "# uma frase\n",
    "u'Bem-vindos ao Curso de Extensão do IFG 2019-1'"
   ]
  },
  {
   "cell_type": "code",
   "execution_count": 35,
   "metadata": {},
   "outputs": [
    {
     "ename": "SyntaxError",
     "evalue": "invalid syntax (<ipython-input-35-f87f3cd1ebe1>, line 2)",
     "output_type": "error",
     "traceback": [
      "\u001b[1;36m  File \u001b[1;32m\"<ipython-input-35-f87f3cd1ebe1>\"\u001b[1;36m, line \u001b[1;32m2\u001b[0m\n\u001b[1;33m    'Valor de 'x' no programa?'\u001b[0m\n\u001b[1;37m               ^\u001b[0m\n\u001b[1;31mSyntaxError\u001b[0m\u001b[1;31m:\u001b[0m invalid syntax\n"
     ]
    }
   ],
   "source": [
    "# erro de sintaxe\n",
    "'Valor de 'x' no programa?'"
   ]
  },
  {
   "cell_type": "markdown",
   "metadata": {},
   "source": [
    "A causa do erro na *string* definida logo acima é a aspa simples delimitando duas *strings* e o caractere 'x' ficou entre elas sem delimitação. <style color=red>Solução</style>: use combinações de aspas duplas e simples para obter a declaração correta."
   ]
  },
  {
   "cell_type": "code",
   "execution_count": 36,
   "metadata": {},
   "outputs": [
    {
     "data": {
      "text/plain": [
       "\"Valor de 'x' no programa?\""
      ]
     },
     "execution_count": 36,
     "metadata": {},
     "output_type": "execute_result"
    }
   ],
   "source": [
    "\"Valor de 'x' no programa?\""
   ]
  },
  {
   "cell_type": "markdown",
   "metadata": {},
   "source": [
    "- **Imprimindo *Strings***\n",
    "Usar a sequência de caracteres (*string*) no prompt (<tt>>>></tt>) do interpretador mostrará automaticamente seu valor, mas a maneira correta de exibir as *strings* na saída padrão (monitor de vídeo) é usar a instrução de impressão: ***print***.\n"
   ]
  },
  {
   "cell_type": "code",
   "execution_count": 38,
   "metadata": {},
   "outputs": [
    {
     "data": {
      "text/plain": [
       "u'Aprendizado de M\\xe1quina'"
      ]
     },
     "execution_count": 38,
     "metadata": {},
     "output_type": "execute_result"
    }
   ],
   "source": [
    "u\"Aprendizado de Máquina\""
   ]
  },
  {
   "cell_type": "code",
   "execution_count": 55,
   "metadata": {
    "scrolled": true
   },
   "outputs": [
    {
     "name": "stdout",
     "output_type": "stream",
     "text": [
      "Aprendizado de Máquina\n"
     ]
    }
   ],
   "source": [
    "print(u\"Aprendizado de Máquina\")"
   ]
  },
  {
   "cell_type": "markdown",
   "metadata": {},
   "source": [
    "- Diferenças na Impressão em Python 2 e 3\n",
    "Na versão 2.x a impressão é realizada por uma instrução (sentença, comando) enquanto que na versão 3.x a impressão é feita por uma função: ***print( )***.\n"
   ]
  },
  {
   "cell_type": "code",
   "execution_count": 56,
   "metadata": {},
   "outputs": [
    {
     "name": "stdout",
     "output_type": "stream",
     "text": [
      "Vamos aprender mais sobre strings!\n"
     ]
    }
   ],
   "source": [
    "print(\"Vamos aprender mais sobre strings!\")"
   ]
  },
  {
   "cell_type": "code",
   "execution_count": 60,
   "metadata": {},
   "outputs": [
    {
     "name": "stdout",
     "output_type": "stream",
     "text": [
      "Use \\n para imprimir em uma nova linha. \n",
      "--> \\n equivale a CR + NL (Carriage Return + New Line)\n"
     ]
    }
   ],
   "source": [
    "print(\"Use \\\\n para imprimir em uma nova linha. \\n--> \\\\n equivale a CR + NL (Carriage Return + New Line)\")"
   ]
  },
  {
   "cell_type": "code",
   "execution_count": 61,
   "metadata": {},
   "outputs": [
    {
     "name": "stdout",
     "output_type": "stream",
     "text": [
      "\n",
      "Entendeu?\n"
     ]
    }
   ],
   "source": [
    "print('\\nEntendeu?')"
   ]
  },
  {
   "cell_type": "markdown",
   "metadata": {},
   "source": [
    "Na versão 3.x a saída de dados no dispositivo padrão é feita da seguinte forma: **print('Olá Mundo!')**. Se você quer usar esta funcionalidade na versão 2.x, você pode importar o formulário do módulo futuro. \n",
    "\n",
    "**Atenção**: Depois de importar esse módulo, você não poderá mais escolher o método de declaração de impressão. Então, escolha o que você preferir, dependendo da sua instalação do Python e continue com ele."
   ]
  },
  {
   "cell_type": "code",
   "execution_count": 62,
   "metadata": {},
   "outputs": [
    {
     "name": "stdout",
     "output_type": "stream",
     "text": [
      "Função print da Vs. 3.4\n"
     ]
    }
   ],
   "source": [
    "from __future__ import print_function\n",
    "print('Função print da Vs. 3.4')"
   ]
  },
  {
   "cell_type": "code",
   "execution_count": 64,
   "metadata": {},
   "outputs": [
    {
     "name": "stdout",
     "output_type": "stream",
     "text": [
      "Entendeu?\n"
     ]
    }
   ],
   "source": [
    "print(\"Entendeu?\")"
   ]
  },
  {
   "cell_type": "markdown",
   "metadata": {},
   "source": [
    "Uma instrução **\\__future\\__** é uma diretiva do interpretador que avisa sobre um módulo específico que deve ser traduzido usando a sintaxe ou a semântica que estará disponível em uma versão futura do Python. A declaração **\\__future\\__** destina-se a facilitar a migração para versões futuras do Python que introduzem alterações incompatíveis à linguagem. Ela permite o uso dos novos recursos por módulo antes do lançamento no qual o recurso se torna padrão.\n",
    "\n",
    "É como dizer: \"Como essa é a versão Python v2.7, use a função ***print( )*** que também foi adicionada ao Python v2.7, depois que ela foi adicionada no Python 3.4\". Então, o ***'print'*** não será mais uma instrução: ***print \"mensagem\"***, mas uma função: ***print(\"mensagem\")***. Dessa forma, quando seu código for executado na versão Python 3.x, ***print( )*** não interromperá o _script_.\n",
    "\n",
    "- **Tamanho de uma String**\n",
    "Usamos a função nativa chamada <tt>len()</tt> para verificar o tamanho de uma *string*."
   ]
  },
  {
   "cell_type": "code",
   "execution_count": 47,
   "metadata": {},
   "outputs": [
    {
     "data": {
      "text/plain": [
       "9"
      ]
     },
     "execution_count": 47,
     "metadata": {},
     "output_type": "execute_result"
    }
   ],
   "source": [
    "len(\"Entendeu?\")"
   ]
  },
  {
   "cell_type": "markdown",
   "metadata": {},
   "source": [
    "- **Indexação e Fatiamento de Strings**\n",
    "Sabemos que *strings* são sequências de caracteres, o que significa que o Python pode usar índices para acessar partes da sequência. \n",
    "\n",
    "Em Python, usamos colchetes <tt>[ ]</tt> depois de um objeto para acessar o conteúdo indicado pelo índice. Também devemos notar que, para o Python, a indexação começa em 0 (zero), ou seja, o primeiro caractere de uma *string* é referenciado pelo índice 0. Vamos criar um novo objeto chamado <tt>s</tt> e fazer alguns exemplos de indexação. "
   ]
  },
  {
   "cell_type": "code",
   "execution_count": 3,
   "metadata": {},
   "outputs": [
    {
     "data": {
      "text/plain": [
       "'Bom dia Bia!'"
      ]
     },
     "execution_count": 3,
     "metadata": {},
     "output_type": "execute_result"
    }
   ],
   "source": [
    "# atribuindo uma seq. de caracteres a um objeto 's'\n",
    "s = 'Bom dia Bia!'\n",
    "# verificando\n",
    "s"
   ]
  },
  {
   "cell_type": "code",
   "execution_count": 51,
   "metadata": {},
   "outputs": [
    {
     "name": "stdout",
     "output_type": "stream",
     "text": [
      "Bom dia Bia!\n"
     ]
    }
   ],
   "source": [
    "# imprimindo o objeto\n",
    "print(s)"
   ]
  },
  {
   "cell_type": "markdown",
   "metadata": {},
   "source": [
    "- **Acessando apenas um caractere** da sequência de caracteres..."
   ]
  },
  {
   "cell_type": "code",
   "execution_count": 53,
   "metadata": {},
   "outputs": [
    {
     "data": {
      "text/plain": [
       "'B'"
      ]
     },
     "execution_count": 53,
     "metadata": {},
     "output_type": "execute_result"
    }
   ],
   "source": [
    "# primeiro caracter da string\n",
    "s[0]"
   ]
  },
  {
   "cell_type": "code",
   "execution_count": 54,
   "metadata": {},
   "outputs": [
    {
     "data": {
      "text/plain": [
       "('o', 'a')"
      ]
     },
     "execution_count": 54,
     "metadata": {},
     "output_type": "execute_result"
    }
   ],
   "source": [
    "# segundo e sétimo caracteres da string\n",
    "s[1], s[6]"
   ]
  },
  {
   "cell_type": "code",
   "execution_count": 55,
   "metadata": {},
   "outputs": [
    {
     "data": {
      "text/plain": [
       "'!'"
      ]
     },
     "execution_count": 55,
     "metadata": {},
     "output_type": "execute_result"
    }
   ],
   "source": [
    "# último caracter da string\n",
    "s[-1]"
   ]
  },
  {
   "cell_type": "code",
   "execution_count": 56,
   "metadata": {},
   "outputs": [
    {
     "data": {
      "text/plain": [
       "'a'"
      ]
     },
     "execution_count": 56,
     "metadata": {},
     "output_type": "execute_result"
    }
   ],
   "source": [
    "# penúltimo caracter da string\n",
    "s[-2]"
   ]
  },
  {
   "cell_type": "markdown",
   "metadata": {},
   "source": [
    "- **Fatiamento** (*slicing*): acessando partes da sequência de caracteres... "
   ]
  },
  {
   "cell_type": "code",
   "execution_count": 57,
   "metadata": {},
   "outputs": [
    {
     "data": {
      "text/plain": [
       "'Bom'"
      ]
     },
     "execution_count": 57,
     "metadata": {},
     "output_type": "execute_result"
    }
   ],
   "source": [
    "# Acessando os três primeiros caracteres da string\n",
    "s[0:3]"
   ]
  },
  {
   "cell_type": "code",
   "execution_count": 58,
   "metadata": {},
   "outputs": [
    {
     "data": {
      "text/plain": [
       "'Bom'"
      ]
     },
     "execution_count": 58,
     "metadata": {},
     "output_type": "execute_result"
    }
   ],
   "source": [
    "# ou\n",
    "s[:3]"
   ]
  },
  {
   "cell_type": "code",
   "execution_count": 59,
   "metadata": {},
   "outputs": [
    {
     "data": {
      "text/plain": [
       "'dia Bia!'"
      ]
     },
     "execution_count": 59,
     "metadata": {},
     "output_type": "execute_result"
    }
   ],
   "source": [
    "s[4:len(s)]"
   ]
  },
  {
   "cell_type": "code",
   "execution_count": 60,
   "metadata": {},
   "outputs": [
    {
     "data": {
      "text/plain": [
       "'dia Bia!'"
      ]
     },
     "execution_count": 60,
     "metadata": {},
     "output_type": "execute_result"
    }
   ],
   "source": [
    "s[4:]"
   ]
  },
  {
   "cell_type": "markdown",
   "metadata": {},
   "source": [
    "Observe o primeiro fatiamento acima: **<tt>s[0:3]</tt>**. Aqui estamos dizendo ao Python para acessar os caracteres de <tt>s</tt>, do índice 0 até 3, não incluindo o índice 3 (quarta posição). Você notará esse comportamento muitas vezes em Python, onde as declarações geralmente estão no contexto \"até, mas não incluindo\".\n",
    "\n",
    "Também podemos usar a notação de índice e fatia para acessar elementos de uma sequência com um determinado incremento (o padrão é passo unitário). Por exemplo, podemos usar dois dois-pontos em uma linha e, em seguida, um número especificando a frequência para acessar os elementos. Por exemplo:"
   ]
  },
  {
   "cell_type": "code",
   "execution_count": 61,
   "metadata": {},
   "outputs": [
    {
     "data": {
      "text/plain": [
       "'BmdaBa'"
      ]
     },
     "execution_count": 61,
     "metadata": {},
     "output_type": "execute_result"
    }
   ],
   "source": [
    "# usando passo dois no acesso aos caracteres da string\n",
    "s[::2]"
   ]
  },
  {
   "cell_type": "markdown",
   "metadata": {},
   "source": [
    "Acessando os caracteres da *string* de trás para frente (em ordem inversa):"
   ]
  },
  {
   "cell_type": "code",
   "execution_count": 62,
   "metadata": {},
   "outputs": [
    {
     "data": {
      "text/plain": [
       "'!aiB aid moB'"
      ]
     },
     "execution_count": 62,
     "metadata": {},
     "output_type": "execute_result"
    }
   ],
   "source": [
    "s[::-1]"
   ]
  },
  {
   "cell_type": "markdown",
   "metadata": {},
   "source": [
    "- **Propriedades da Strings**\n",
    "\n",
    "É importante notar que as *strings* são imutáveis. Isso significa que uma vez criada a *string*, os elementos dela não podem ser alterados ou suprimidos. Por exemplo:"
   ]
  },
  {
   "cell_type": "code",
   "execution_count": 4,
   "metadata": {},
   "outputs": [
    {
     "data": {
      "text/plain": [
       "'Bom dia Bia!'"
      ]
     },
     "execution_count": 4,
     "metadata": {},
     "output_type": "execute_result"
    }
   ],
   "source": [
    "s"
   ]
  },
  {
   "cell_type": "code",
   "execution_count": 5,
   "metadata": {},
   "outputs": [
    {
     "ename": "TypeError",
     "evalue": "'str' object does not support item assignment",
     "output_type": "error",
     "traceback": [
      "\u001b[1;31m---------------------------------------------------------------------------\u001b[0m",
      "\u001b[1;31mTypeError\u001b[0m                                 Traceback (most recent call last)",
      "\u001b[1;32m<ipython-input-5-167a73399263>\u001b[0m in \u001b[0;36m<module>\u001b[1;34m()\u001b[0m\n\u001b[1;32m----> 1\u001b[1;33m \u001b[0ms\u001b[0m\u001b[1;33m[\u001b[0m\u001b[1;36m0\u001b[0m\u001b[1;33m]\u001b[0m \u001b[1;33m=\u001b[0m \u001b[1;34m'C'\u001b[0m\u001b[1;33m\u001b[0m\u001b[0m\n\u001b[0m",
      "\u001b[1;31mTypeError\u001b[0m: 'str' object does not support item assignment"
     ]
    }
   ],
   "source": [
    "s[0] = 'C'"
   ]
  },
  {
   "cell_type": "markdown",
   "metadata": {},
   "source": [
    "Observe como o erro nos diz diretamente o que não podemos fazer: **objeto 'str' não admite atribuição ao item!**.\n",
    "O que podemos fazer é concatenar strings!"
   ]
  },
  {
   "cell_type": "code",
   "execution_count": 65,
   "metadata": {},
   "outputs": [
    {
     "ename": "TypeError",
     "evalue": "unsupported operand type(s) for +: 'range' and 'str'",
     "output_type": "error",
     "traceback": [
      "\u001b[1;31m---------------------------------------------------------------------------\u001b[0m",
      "\u001b[1;31mTypeError\u001b[0m                                 Traceback (most recent call last)",
      "\u001b[1;32m<ipython-input-65-692ff53ce399>\u001b[0m in \u001b[0;36m<module>\u001b[1;34m\u001b[0m\n\u001b[1;32m----> 1\u001b[1;33m \u001b[0ms\u001b[0m \u001b[1;33m+\u001b[0m \u001b[1;34m' Vamos tomar um cafezinho?'\u001b[0m\u001b[1;33m\u001b[0m\u001b[1;33m\u001b[0m\u001b[0m\n\u001b[0m",
      "\u001b[1;31mTypeError\u001b[0m: unsupported operand type(s) for +: 'range' and 'str'"
     ]
    }
   ],
   "source": [
    "s + ' Vamos tomar um cafezinho?'"
   ]
  },
  {
   "cell_type": "code",
   "execution_count": 8,
   "metadata": {
    "collapsed": true
   },
   "outputs": [],
   "source": [
    "t = _           # variável com o resultado da última execução realizada pelo interpretador Python"
   ]
  },
  {
   "cell_type": "code",
   "execution_count": 64,
   "metadata": {},
   "outputs": [
    {
     "ename": "NameError",
     "evalue": "name 't' is not defined",
     "output_type": "error",
     "traceback": [
      "\u001b[1;31m---------------------------------------------------------------------------\u001b[0m",
      "\u001b[1;31mNameError\u001b[0m                                 Traceback (most recent call last)",
      "\u001b[1;32m<ipython-input-64-febd3e668534>\u001b[0m in \u001b[0;36m<module>\u001b[1;34m\u001b[0m\n\u001b[1;32m----> 1\u001b[1;33m \u001b[0mprint\u001b[0m\u001b[1;33m(\u001b[0m\u001b[0mt\u001b[0m\u001b[1;33m)\u001b[0m\u001b[1;33m\u001b[0m\u001b[1;33m\u001b[0m\u001b[0m\n\u001b[0m",
      "\u001b[1;31mNameError\u001b[0m: name 't' is not defined"
     ]
    }
   ],
   "source": [
    "print(t)"
   ]
  },
  {
   "cell_type": "markdown",
   "metadata": {},
   "source": [
    "Podemos usar o símbolo de multiplicação para criar repetição de caracteres!"
   ]
  },
  {
   "cell_type": "code",
   "execution_count": 11,
   "metadata": {},
   "outputs": [
    {
     "data": {
      "text/plain": [
       "'////\\\\\\\\////\\\\\\\\////\\\\\\\\////\\\\\\\\////\\\\\\\\////\\\\\\\\////\\\\\\\\////\\\\\\\\////\\\\\\\\////\\\\\\\\'"
      ]
     },
     "execution_count": 11,
     "metadata": {},
     "output_type": "execute_result"
    }
   ],
   "source": [
    "marcador = '////\\\\\\\\'\n",
    "10 * marcador"
   ]
  },
  {
   "cell_type": "markdown",
   "metadata": {},
   "source": [
    "- **Ajuntando (concatenando) Strings**:"
   ]
  },
  {
   "cell_type": "code",
   "execution_count": 82,
   "metadata": {},
   "outputs": [
    {
     "name": "stdout",
     "output_type": "stream",
     "text": [
      "Terça - Quinta - Sábado\n"
     ]
    }
   ],
   "source": [
    "dias = ['Terça', 'Quinta', 'Sábado']\n",
    "concat = ' - '.join(dias)\n",
    "print(concat)"
   ]
  },
  {
   "cell_type": "markdown",
   "metadata": {},
   "source": [
    "**Métodos Nativos de Strings **\n",
    "\n",
    "Objetos em Python geralmente possuem métodos internos. Esses métodos são funções associadas ao objeto que podem executar ações ou comandos no próprio objeto.\n",
    "\n",
    "Nós acessamos os métodos de um objeto usando um ponto '.' e depois o nome do método: **objeto.método(parâmetros)**, onde os parâmetros são argumentos extras que podemos passar ao método. Não se preocupe com os detalhes se não fazem sentido nesse momento para você. Mais tarde criaremos nossos próprios objetos e métodos! \n",
    "\n",
    "Aqui estão exemplos de métodos internos dos objetos *strings*:"
   ]
  },
  {
   "cell_type": "code",
   "execution_count": 13,
   "metadata": {},
   "outputs": [
    {
     "data": {
      "text/plain": [
       "'Bom dia Bia!'"
      ]
     },
     "execution_count": 13,
     "metadata": {},
     "output_type": "execute_result"
    }
   ],
   "source": [
    "s"
   ]
  },
  {
   "cell_type": "code",
   "execution_count": 14,
   "metadata": {},
   "outputs": [
    {
     "data": {
      "text/plain": [
       "'BOM DIA BIA!'"
      ]
     },
     "execution_count": 14,
     "metadata": {},
     "output_type": "execute_result"
    }
   ],
   "source": [
    "s.upper()"
   ]
  },
  {
   "cell_type": "code",
   "execution_count": 15,
   "metadata": {},
   "outputs": [
    {
     "data": {
      "text/plain": [
       "'bom dia bia!'"
      ]
     },
     "execution_count": 15,
     "metadata": {},
     "output_type": "execute_result"
    }
   ],
   "source": [
    "s.lower()"
   ]
  },
  {
   "cell_type": "code",
   "execution_count": 17,
   "metadata": {},
   "outputs": [
    {
     "data": {
      "text/plain": [
       "['Bom', 'dia', 'Bia!']"
      ]
     },
     "execution_count": 17,
     "metadata": {},
     "output_type": "execute_result"
    }
   ],
   "source": [
    "# quebra de uma string nos espaços em branco (caracter padrão)\n",
    "s.split()"
   ]
  },
  {
   "cell_type": "code",
   "execution_count": 19,
   "metadata": {},
   "outputs": [
    {
     "data": {
      "text/plain": [
       "['Bom ', ' Bia!']"
      ]
     },
     "execution_count": 19,
     "metadata": {},
     "output_type": "execute_result"
    }
   ],
   "source": [
    "# quebra de uma string na sequência 'dia'\n",
    "s.split('dia')"
   ]
  },
  {
   "cell_type": "markdown",
   "metadata": {},
   "source": [
    "Existem muitos mais métodos para objetos strings do que os abordados aqui."
   ]
  },
  {
   "cell_type": "markdown",
   "metadata": {},
   "source": [
    "- **Impressão Formatada**\n",
    "Python tem formatadores de *string* interessantes. Vamos mostrar os casos de uso mais comuns aceitos pelas API’s de estilo de formatação de *strings*, antiga e nova.\n",
    "\n",
    "\n",
    "- <p style=\"color: blue\">À Moda Antiga</p>"
   ]
  },
  {
   "cell_type": "code",
   "execution_count": 20,
   "metadata": {},
   "outputs": [
    {
     "name": "stdout",
     "output_type": "stream",
     "text": [
      "Matheus, o Programador\n"
     ]
    }
   ],
   "source": [
    "nome = \"Matheus\"\n",
    "prof = \"Programador\"\n",
    "titulo = \"%s, o %s\" % (nome, prof)\n",
    "print(titulo)"
   ]
  },
  {
   "cell_type": "markdown",
   "metadata": {},
   "source": [
    "- <p style=\"color: blue\">À Moda Nova"
   ]
  },
  {
   "cell_type": "code",
   "execution_count": 65,
   "metadata": {},
   "outputs": [
    {
     "name": "stdout",
     "output_type": "stream",
     "text": [
      "Matheus, o Programador\n"
     ]
    }
   ],
   "source": [
    "nome = \"Matheus\"\n",
    "prof = \"Programador\"\n",
    "titulo = \"{}, o {}\".format(nome, prof)\n",
    "print(titulo)"
   ]
  },
  {
   "cell_type": "markdown",
   "metadata": {},
   "source": [
    "- **Formatação À Moda Antiga**: A formatação posicional simples é provavelmente o caso de uso mais comum. Seu uso é mais indicado quando a ordem dos argumentos não precisa ser alterada e quando você tem poucos elementos que queira concatenar. \n",
    "\n",
    "Como os elementos não são representados por algo tão descritivo quanto um nome, esse estilo simples deve ser usado apenas para formatar uma quantidade relativamente pequena de elementos.\n"
   ]
  },
  {
   "cell_type": "code",
   "execution_count": 66,
   "metadata": {},
   "outputs": [
    {
     "name": "stdout",
     "output_type": "stream",
     "text": [
      "Fleury, Cláudio.\n",
      "Fleury, Cláudio.\n"
     ]
    }
   ],
   "source": [
    "print('%s, %s.' % ('Fleury', 'Cláudio'))\n",
    "print('{}, {}.'.format('Fleury', 'Cláudio'))"
   ]
  },
  {
   "cell_type": "code",
   "execution_count": 67,
   "metadata": {},
   "outputs": [
    {
     "name": "stdout",
     "output_type": "stream",
     "text": [
      "Fleury, C.\n",
      "Fleury, C.\n"
     ]
    }
   ],
   "source": [
    "print('%s, %.1s.' % ('Fleury', 'Cláudio'))\n",
    "print('{}, {:.1}.'.format('Fleury', 'Cláudio'))"
   ]
  },
  {
   "cell_type": "markdown",
   "metadata": {},
   "source": [
    "Com a nova formatação de estilo, é possível (e obrigatório no Python 2.6) dar aos espaços reservados um índice posicional explícito. Isso permite reorganizar a ordem de exibição sem alterar os argumentos (esta operação não está disponível na formatação à moda antiga)."
   ]
  },
  {
   "cell_type": "code",
   "execution_count": 69,
   "metadata": {
    "scrolled": true
   },
   "outputs": [
    {
     "name": "stdout",
     "output_type": "stream",
     "text": [
      "Fleury, Cláudio.\n",
      "Fleury, C      .\n"
     ]
    }
   ],
   "source": [
    "# à moda nova\n",
    "print('{1}, {0}.'.format('Cláudio', 'Fleury'))\n",
    "print('{1}, {0:7.1}.'.format('Cláudio', 'Fleury'))"
   ]
  },
  {
   "cell_type": "markdown",
   "metadata": {},
   "source": [
    "- **Formatação de números inteiros** (%d) **e reais** (%f):"
   ]
  },
  {
   "cell_type": "code",
   "execution_count": 70,
   "metadata": {},
   "outputs": [
    {
     "name": "stdout",
     "output_type": "stream",
     "text": [
      "54 2.334343\n",
      "  54  2.334\n"
     ]
    }
   ],
   "source": [
    "# à moda antiga\n",
    "print('%d %f'     % (54, 2.334343))\n",
    "print('%4d %6.3f' % (54, 2.334343))"
   ]
  },
  {
   "cell_type": "code",
   "execution_count": 71,
   "metadata": {},
   "outputs": [
    {
     "name": "stdout",
     "output_type": "stream",
     "text": [
      "2.334343 54\n",
      "002.33\n"
     ]
    }
   ],
   "source": [
    "# à moda nova\n",
    "print('{1:f} {0:d}'.format(54, 2.334343))\n",
    "print('{:06.2f}'.format(2.334343))"
   ]
  },
  {
   "cell_type": "markdown",
   "metadata": {},
   "source": [
    "**Código Convencional** (comumente encontrado nas outras linguagens):"
   ]
  },
  {
   "cell_type": "code",
   "execution_count": 73,
   "metadata": {},
   "outputs": [
    {
     "name": "stdout",
     "output_type": "stream",
     "text": [
      "------------------------------\n",
      "Maria\n",
      "------------------------------\n"
     ]
    }
   ],
   "source": [
    "usuario = 'Maria'\n",
    "if usuario == 'Maria':\n",
    "  print('------------------------------')\n",
    "  print(usuario)\n",
    "  print('------------------------------')"
   ]
  },
  {
   "cell_type": "markdown",
   "metadata": {},
   "source": [
    "**Código Pythonico**:"
   ]
  },
  {
   "cell_type": "code",
   "execution_count": 74,
   "metadata": {},
   "outputs": [
    {
     "name": "stdout",
     "output_type": "stream",
     "text": [
      "------------------------------\n",
      "Maria\n",
      "------------------------------\n"
     ]
    }
   ],
   "source": [
    "usuario = 'Maria'\n",
    "if usuario == 'Maria':\n",
    "  print('{0}\\n{1}\\n{0}'.format('-'*30, usuario))"
   ]
  },
  {
   "cell_type": "markdown",
   "metadata": {},
   "source": [
    "### Trocando Caracteres\n",
    "Criando a tabela de exemplos de valores numéricos usadas nesse caderno, no item **1. Variáveis e Operações**:"
   ]
  },
  {
   "cell_type": "code",
   "execution_count": 51,
   "metadata": {},
   "outputs": [
    {
     "name": "stdout",
     "output_type": "stream",
     "text": [
      "|int|long|float|complex|\n",
      "|10|51924361|0.0|3.14j|\n",
      "|100|-0x19323|15.20|45.j|\n",
      "|-786|122|-21.9|9.322e-36j|\n",
      "|0x80|0xDEFABCECBDAECBFBAE|32.3+e18|.876j|\n",
      "|-490|535633629843|-90.|-.6545+0J|\n",
      "|-0x260|-052318172735|-32.54e100|3e+26J|\n",
      "|0x69|-4721885298529|70.2-E12|4.53e-7j|\n"
     ]
    }
   ],
   "source": [
    "a = 'int\tlong\tfloat\tcomplex\\n10\t51924361L\t0.0\t3.14j\\n100\t-0x19323L\t15.20\t45.j\\n-786\t122L\t-21.9\t9.322e-36j\\n0x80\t0xDEFABCECBDAECBFBAEL\t32.3+e18\t.876j\\n-490\t535633629843L\t-90.\t-.6545+0J\\n-0x260\t-052318172735L\t-32.54e100\t3e+26J\\n0x69\t-4721885298529L\t70.2-E12\t4.53e-7j'\n",
    "b = '|'+a.replace('L','').replace('\t','|').replace('\\n','|\\n|')+'|'\n",
    "print(b)"
   ]
  },
  {
   "cell_type": "markdown",
   "metadata": {},
   "source": [
    "<p style=\"text-align:right;\"><a href=\"#topo\">Volta ao topo</a></p>"
   ]
  },
  {
   "cell_type": "markdown",
   "metadata": {},
   "source": [
    "<a id=\"4.\"></a>\n",
    "## 4. Intervalo"
   ]
  },
  {
   "cell_type": "markdown",
   "metadata": {},
   "source": [
    "A função `range([início,] final [,passo])` (intervalo de valores) faz parte da biblioteca padrão do Python e gera uma sequência imutável de números inteiros de acordo com o intervalo determinado pelos argumentos. A série retornada é um objeto iterável tipo ***range*** e os elementos da série serão gerados sob demanda.\n",
    "\n",
    "É comum o uso da função ***range()*** com a estrutura de repetição ***for***. Neste caso temos que a cada ciclo de repetição o próximo elemento da sequência será utilizado de tal forma que é possível partirmos de um ponto e ir incrementando, decrementando conforme o **passo** adotado.\n",
    "\n",
    "Os argumentos para o construtor do objeto ***range*** devem ser do tipo **inteiro** (podendo ser do tipo **int** nativo ou qualquer outro tipo/objeto que implemente o método especial **\\_\\_index__**). Se o argumento <u>passo</u> for omitido, é assumido o passo unitário (um). Se o argumento <u>início</u> for omitido, é assumido o valor 0 (zero). Se o passo for zero, um erro do tipo **ValueError** será gerado.\n",
    "\n",
    "- Para <u>passo</u> positivo, o conteúdo de um intervalo <tt>r</tt> é determinado pela fórmula:\n",
    "\n",
    "  <tt>r[i] = inicio + passo * i,   onde  i &ge; 0   e    r[i] &lt; final</tt>\n",
    "  \n",
    "\n",
    "- Para <u>passo</u> negativo, o conteúdo de um intervalo <tt>r</tt> é determinado pela fórmula:\n",
    "\n",
    "  <tt>r[i] = inicio + passo * i,   onde  i &ge; 0   e    r[i] &gt; final</tt>\n",
    "  \n",
    "\n",
    "Os intervalos podem ser construídos das seguintes formas:\n",
    "- <tt>*range(final)*: 0, 1, 2, ..., final-1</tt>\n",
    "- <tt>*range(início, final)*: início, início+1, início+2, ..., final-1</tt>\n",
    "- <tt>*range(início, final, passo)*: início, início+passo, início+2*passo, ..., final-1</tt>\n",
    "\n",
    "Um objeto ***range*** estará vazio se <tt>r[0]</tt> não atender à restrição de valor. Os intervalos suportam índices negativos, mas estes são interpretados como indexação a partir do final da sequênc\n",
    "ia determinada pelos índices positivos."
   ]
  },
  {
   "cell_type": "markdown",
   "metadata": {},
   "source": [
    "Exemplos:\n",
    "![range(6).png](img/range(6).png)"
   ]
  },
  {
   "cell_type": "code",
   "execution_count": 24,
   "metadata": {},
   "outputs": [
    {
     "name": "stdout",
     "output_type": "stream",
     "text": [
      "** Exemplo da função range() **\n",
      "Mostrando o resultado da função range(6): ,0, 1, 2, 3, 4, 5, "
     ]
    }
   ],
   "source": [
    "print(\"** Exemplo da função range() **\")\n",
    "print(\"Mostrando o resultado da função range(6): \", end=',')\n",
    "for i in range(6):\n",
    "    print(i, end=', ')"
   ]
  },
  {
   "cell_type": "code",
   "execution_count": 14,
   "metadata": {
    "scrolled": true
   },
   "outputs": [
    {
     "data": {
      "text/plain": [
       "range(0, 20, 2)"
      ]
     },
     "execution_count": 14,
     "metadata": {},
     "output_type": "execute_result"
    }
   ],
   "source": [
    "r = range(0,20,2)\n",
    "r"
   ]
  },
  {
   "cell_type": "code",
   "execution_count": 15,
   "metadata": {},
   "outputs": [
    {
     "data": {
      "text/plain": [
       "(False, True, True, False, False)"
      ]
     },
     "execution_count": 15,
     "metadata": {},
     "output_type": "execute_result"
    }
   ],
   "source": [
    "11 in r, 10 in r, 18 in r, 19 in r, 20 in r"
   ]
  },
  {
   "cell_type": "code",
   "execution_count": 39,
   "metadata": {},
   "outputs": [
    {
     "data": {
      "text/plain": [
       "5"
      ]
     },
     "execution_count": 39,
     "metadata": {},
     "output_type": "execute_result"
    }
   ],
   "source": [
    "r.index(10)"
   ]
  },
  {
   "cell_type": "code",
   "execution_count": 41,
   "metadata": {},
   "outputs": [
    {
     "data": {
      "text/plain": [
       "10"
      ]
     },
     "execution_count": 41,
     "metadata": {},
     "output_type": "execute_result"
    }
   ],
   "source": [
    "r[5]"
   ]
  },
  {
   "cell_type": "code",
   "execution_count": 17,
   "metadata": {},
   "outputs": [
    {
     "data": {
      "text/plain": [
       "range(0, 10, 2)"
      ]
     },
     "execution_count": 17,
     "metadata": {},
     "output_type": "execute_result"
    }
   ],
   "source": [
    "r[0:5]"
   ]
  },
  {
   "cell_type": "code",
   "execution_count": 25,
   "metadata": {},
   "outputs": [
    {
     "data": {
      "text/plain": [
       "(18, range(18, 12, -2))"
      ]
     },
     "execution_count": 25,
     "metadata": {},
     "output_type": "execute_result"
    }
   ],
   "source": [
    "r[-1], r[-1:-4:-1]"
   ]
  },
  {
   "cell_type": "markdown",
   "metadata": {},
   "source": [
    "Comparação de objetos do tipo ***range*** para igualdade '==' ou diferença '!=' são realizados como na comparação de sequências. Ou seja, dois objetos de intervalo são considerados iguais se eles representam a mesma sequência de valores. Observe que dois objetos de intervalo que se comparam como iguais podem ter diferentes atributos de início, final e passo, por exemplo: range(0) == range(2,1,3) ou range(0,3,2) == range(0,4,2)."
   ]
  },
  {
   "cell_type": "markdown",
   "metadata": {},
   "source": [
    "<a id=\"5.\"></a>\n",
    "## 5. Lista\n",
    "\n",
    "As listas em Python são coleções de **objetos heterogêneos** que podem ser de qualquer tipo, inclusive outras listas. As listas podem ser homogêneas (dados de um mesmo tipo) ou heterogêneas, o que faz delas ferramentas poderosas no armazenamento e manipulação de dados. Uma lista pode conter números inteiros, números reais (ponto flutuante), strings ou qualquer outro objeto. As listas também são muito úteis na implementação de estruturas de dados, tais como pilhas e filas. As listas são mutáveis, ou seja, podem ser alteradas a qualquer instante após sua criação.\n",
    "\n",
    "No Python, `list` <tt>list</tt> é um recipiente (_container_) usado no armazenamento de vários dados ao mesmo tempo. Ao contrário dos conjuntos (_sets_), a uma <tt>list</tt> é ordenada e tem uma contagem definida. Os elementos em uma lista são indexados de acordo com uma sequência definida e a indexação da lista tem índice 0 (zero) para o primeiro valor armazenado. Cada elemento da lista tem seu lugar definido na lista, o que permite a existência de elementos duplicados na lista, com cada elemento tendo seu próprio lugar na memória.\n",
    "\n",
    "A lista é uma ferramenta útil quando se deseja preservar a ordem (sequência) dos dados e \"iterar\" sobre os elementos da estrutura de dados (acesso a cada um de seus elementos)."
   ]
  },
  {
   "cell_type": "code",
   "execution_count": 27,
   "metadata": {},
   "outputs": [
    {
     "name": "stdout",
     "output_type": "stream",
     "text": [
      "RPi Arduino\n",
      "['RPi', 'BeagleBone', 'Arduino']\n"
     ]
    }
   ],
   "source": [
    "# exemplo de lista em Python\n",
    "placas = ['RPi', 'BeagleBone', 'Arduino']\n",
    "# acessando para exibição, o primeiro e o terceiro elementos da lista 'placas'\n",
    "print(placas[0], placas[2])\n",
    "# exibindo todos os elementos da lista\n",
    "print(placas)"
   ]
  },
  {
   "cell_type": "markdown",
   "metadata": {},
   "source": [
    "### <tt>Lista Vazia</tt>"
   ]
  },
  {
   "cell_type": "code",
   "execution_count": 29,
   "metadata": {
    "scrolled": true
   },
   "outputs": [
    {
     "name": "stdout",
     "output_type": "stream",
     "text": [
      "[]\n"
     ]
    }
   ],
   "source": [
    "lista_compra = []\n",
    "print(lista_compra)"
   ]
  },
  {
   "cell_type": "markdown",
   "metadata": {},
   "source": [
    "### <tt>Lista Misturada (heterogênea)</tt>"
   ]
  },
  {
   "cell_type": "code",
   "execution_count": 32,
   "metadata": {},
   "outputs": [
    {
     "name": "stdout",
     "output_type": "stream",
     "text": [
      "[3.141592653589, -5, 'Tudo certo?', True, '*']\n"
     ]
    }
   ],
   "source": [
    "mist = [3.141592653589, -5, 'Tudo certo?', True, '*']\n",
    "print(mist)"
   ]
  },
  {
   "cell_type": "markdown",
   "metadata": {},
   "source": [
    "### <tt>Lista 2D</tt>"
   ]
  },
  {
   "cell_type": "code",
   "execution_count": 44,
   "metadata": {},
   "outputs": [
    {
     "name": "stdout",
     "output_type": "stream",
     "text": [
      "[['12', 3], [0.1, 'ok', 22], [-5, 'Tudo certo?', True]]\n",
      "ok\n",
      "12, 3, \b\b\n",
      "0.1, ok, 22, \b\b\n",
      "-5, Tudo certo?, True, \b\b\n"
     ]
    }
   ],
   "source": [
    "lista2D = [['12',3],\n",
    "           [0.1, 'ok',22],\n",
    "           [-5, 'Tudo certo?', True]]\n",
    "print(lista2D)\n",
    "\n",
    "print(lista2D[1][1])\n",
    "\n",
    "for linha in lista2D:\n",
    "  for elem in linha:\n",
    "    print(elem,end=', ')\n",
    "  print('\\b'*2)                       # dois caracteres 'backspace': para apagar a última vírgula da linha..."
   ]
  },
  {
   "cell_type": "markdown",
   "metadata": {},
   "source": [
    "### <tt>Fatiamento de Lista</tt>"
   ]
  },
  {
   "cell_type": "code",
   "execution_count": 48,
   "metadata": {},
   "outputs": [
    {
     "name": "stdout",
     "output_type": "stream",
     "text": [
      "[1, 2, 3, 4, 5, 6, 7, 8, 9]\n",
      "[1, 2, 3]\n",
      "[3, 4, 5, 6, 7]\n"
     ]
    }
   ],
   "source": [
    "# listadec = range(1,10)        # python2: o resultado da função 'range' é uma lista de valores\n",
    "listadec = list(range(1,10))    # python3: o resultado da função 'range' é um ojbeto 'range', precisa ser convertido em lista\n",
    "print(listadec)\n",
    "print(listadec[0:3])            # acessa do 1o. ao 3o. elementos\n",
    "print(listadec[2:-2])           # acessa do 3o. ao penúltimo elementos"
   ]
  },
  {
   "cell_type": "markdown",
   "metadata": {},
   "source": [
    "### <tt>Soma dos Elementos da Lista (_loop_)</tt>"
   ]
  },
  {
   "cell_type": "code",
   "execution_count": 53,
   "metadata": {},
   "outputs": [
    {
     "name": "stdout",
     "output_type": "stream",
     "text": [
      "Soma dos Pesos:  298\n"
     ]
    }
   ],
   "source": [
    "pesos = [56, 73, 92, 32, 45]    # lista homogênea - só valores inteiros\n",
    "soma = 0\n",
    "for peso in pesos:\n",
    "  soma += peso                  # operação equivalente: soma = soma + peso   (como em Ling. C)\n",
    "print('Soma dos Pesos: ', soma)"
   ]
  },
  {
   "cell_type": "markdown",
   "metadata": {},
   "source": [
    "E se a lista contiver elementos não numéricos? O interpretador Python indica erro para a tentativa de se somar elemento do tipo `str` com `int`."
   ]
  },
  {
   "cell_type": "code",
   "execution_count": 75,
   "metadata": {},
   "outputs": [
    {
     "ename": "TypeError",
     "evalue": "unsupported operand type(s) for +=: 'int' and 'str'",
     "output_type": "error",
     "traceback": [
      "\u001b[1;31m-----------------------------------------------------------------\u001b[0m",
      "\u001b[1;31mTypeError\u001b[0m                       Traceback (most recent call last)",
      "\u001b[1;32m<ipython-input-75-96a394617f16>\u001b[0m in \u001b[0;36m<module>\u001b[1;34m\u001b[0m\n\u001b[0;32m      2\u001b[0m \u001b[0msoma\u001b[0m \u001b[1;33m=\u001b[0m \u001b[1;36m0\u001b[0m\u001b[1;33m\u001b[0m\u001b[1;33m\u001b[0m\u001b[0m\n\u001b[0;32m      3\u001b[0m \u001b[1;32mfor\u001b[0m \u001b[0mpeso\u001b[0m \u001b[1;32min\u001b[0m \u001b[0mpesos\u001b[0m\u001b[1;33m:\u001b[0m\u001b[1;33m\u001b[0m\u001b[1;33m\u001b[0m\u001b[0m\n\u001b[1;32m----> 4\u001b[1;33m   \u001b[0msoma\u001b[0m \u001b[1;33m+=\u001b[0m \u001b[0mpeso\u001b[0m\u001b[1;33m\u001b[0m\u001b[1;33m\u001b[0m\u001b[0m\n\u001b[0m\u001b[0;32m      5\u001b[0m \u001b[0mprint\u001b[0m\u001b[1;33m(\u001b[0m\u001b[1;34m'Soma dos Pesos: '\u001b[0m\u001b[1;33m,\u001b[0m \u001b[0msoma\u001b[0m\u001b[1;33m)\u001b[0m\u001b[1;33m\u001b[0m\u001b[1;33m\u001b[0m\u001b[0m\n",
      "\u001b[1;31mTypeError\u001b[0m: unsupported operand type(s) for +=: 'int' and 'str'"
     ]
    }
   ],
   "source": [
    "pesos = [56, 73, 92, 'ok', 32, 45, True, \"vida\"]\n",
    "soma = 0\n",
    "for peso in pesos:\n",
    "  soma += peso\n",
    "print('Soma dos Pesos: ', soma)"
   ]
  },
  {
   "cell_type": "markdown",
   "metadata": {},
   "source": [
    "Prevenindo-se da possível ocorrência do erro: <tt>TypeError</tt>"
   ]
  },
  {
   "cell_type": "code",
   "execution_count": 55,
   "metadata": {
    "scrolled": true
   },
   "outputs": [
    {
     "name": "stdout",
     "output_type": "stream",
     "text": [
      "Soma dos Pesos:  298\n"
     ]
    }
   ],
   "source": [
    "pesos = [56, 73, 92, 'ok', 32, 45, True, \"vida\"]\n",
    "soma = 0\n",
    "for peso in pesos:\n",
    "  if type(peso) == int:         # verificação do conteúdo do elemento\n",
    "    soma += peso\n",
    "print('Soma dos Pesos: ', soma)"
   ]
  },
  {
   "cell_type": "markdown",
   "metadata": {},
   "source": [
    "### <tt>Apresentação da Lista com _loop_</tt>"
   ]
  },
  {
   "cell_type": "code",
   "execution_count": 62,
   "metadata": {},
   "outputs": [
    {
     "name": "stdout",
     "output_type": "stream",
     "text": [
      "azul\n",
      "amarelo --> minha cor favorita!\n",
      "vermelho\n",
      "verde\n",
      "roxo\n"
     ]
    }
   ],
   "source": [
    "cores = [\"azul\",\"amarelo\",\"vermelho\",\"verde\",\"roxo\"]\n",
    "for cor in cores:\n",
    "  print(cor,end='')\n",
    "  if cor == \"amarelo\":\n",
    "    print(\" --> minha cor favorita!\")\n",
    "  else:\n",
    "    print()"
   ]
  },
  {
   "cell_type": "markdown",
   "metadata": {},
   "source": [
    "### <a style=\"color: red\">Exercício</a>\n",
    "Escreva um _script_ para gerar uma lista de todos os números primos menores que 20. Mas antes de começar, é importante definir **número primo**...  \n",
    "\n",
    "**Um número primo tem que ser um inteiro positivo divisível apenas por dois outros números inteiros: 1 e ele mesmo.** Portanto, o número 1 não é um número primo."
   ]
  },
  {
   "cell_type": "code",
   "execution_count": 118,
   "metadata": {},
   "outputs": [
    {
     "name": "stdout",
     "output_type": "stream",
     "text": [
      "Primos (< 20): [2, 3, 5, 7, 11, 13, 17, 19]\n"
     ]
    },
    {
     "data": {
      "text/html": [
       "<script> code_show=true; \n",
       "  function code_toggle() {\n",
       "    if (code_show) {\n",
       "        $('div.cell.code_cell.rendered.selected div.input').hide(); } \n",
       "    else {\n",
       "        $('div.cell.code_cell.rendered.selected div.input').show(); }\n",
       "    code_show = !code_show\n",
       "  } \n",
       "$( document ).ready(code_toggle);\n",
       "</script>\n",
       "Para mostrar/esconder o código de entrada desta célula, \n",
       "clique <a href=\"javascript:code_toggle()\">aqui</a>."
      ],
      "text/plain": [
       "<IPython.core.display.HTML object>"
      ]
     },
     "execution_count": 118,
     "metadata": {},
     "output_type": "execute_result"
    }
   ],
   "source": [
    "# Cria uma lista de números primos menores que 20\n",
    "primos = []\n",
    "for candidato in range(2, 21):\n",
    "    # Assumindo que 'n' é primo até prova em contrário! \n",
    "    Primo = True\n",
    "    for n in range(2, int(candidato ** 0.5) + 1):\n",
    "        if candidato % n == 0:\n",
    "            Primo = False\n",
    "            break\n",
    "    if Primo:\n",
    "        primos.append(candidato)\n",
    "print(\"Primos (< 20):\",primos)\n",
    "\n",
    "from IPython.display import HTML\n",
    "HTML('''<script> code_show=true; \n",
    "  function code_toggle() {\n",
    "    if (code_show) {\n",
    "        $('div.cell.code_cell.rendered.selected div.input').hide(); } \n",
    "    else {\n",
    "        $('div.cell.code_cell.rendered.selected div.input').show(); }\n",
    "    code_show = !code_show\n",
    "  } \n",
    "$( document ).ready(code_toggle);\n",
    "</script>\n",
    "Para mostrar/esconder o código de entrada desta célula, \n",
    "clique <a href=\"javascript:code_toggle()\">aqui</a>.''')"
   ]
  },
  {
   "cell_type": "markdown",
   "metadata": {},
   "source": [
    "<p style=\"text-align:right;\"><a href=\"#topo\">Volta ao topo</a>"
   ]
  },
  {
   "cell_type": "markdown",
   "metadata": {},
   "source": [
    "<a id=\"6.\"></a>\n",
    "## 6.\tTupla: \n",
    "\n",
    "Uma tupla é uma coleção ordenada e imutável de objetos Python. Tuplas são sequências, assim como as listas. As diferenças entre tuplas e listas são: as tuplas não podem ser alteradas diferentemente das listas, e as tuplas usam parênteses como delimitadores enquanto as listas usam colchetes. Criar uma tupla é tão simples quanto colocar diferentes valores separados por vírgulas e delimitados por parênteses.\n",
    "\n",
    "### <tt>Criando Tuplas</tt>\n",
    "A construção de uma tupla usa elementos separados por vírgulas e delimitados por `( )`. Por exemplo:"
   ]
  },
  {
   "cell_type": "code",
   "execution_count": 83,
   "metadata": {},
   "outputs": [
    {
     "name": "stdout",
     "output_type": "stream",
     "text": [
      "(15, 34, 92, 22)\n"
     ]
    }
   ],
   "source": [
    "tup = (15, 34, 92, 22)\n",
    "print(tup)"
   ]
  },
  {
   "cell_type": "code",
   "execution_count": 96,
   "metadata": {},
   "outputs": [
    {
     "name": "stdout",
     "output_type": "stream",
     "text": [
      "('python', 'geeks')\n",
      "('python', 'geeks')\n"
     ]
    }
   ],
   "source": [
    "# uma forma para se criar uma tupla\n",
    "tup = 'python', 'geeks'\n",
    "print(tup) \n",
    "  \n",
    "# outra forma de se fazer o mesmo...\n",
    "tup = ('python', 'geeks') \n",
    "print(tup) "
   ]
  },
  {
   "cell_type": "markdown",
   "metadata": {},
   "source": [
    "Assim como para as listas, a quantidade de elementos pode ser obtida com a função `len()`:"
   ]
  },
  {
   "cell_type": "code",
   "execution_count": 84,
   "metadata": {},
   "outputs": [
    {
     "name": "stdout",
     "output_type": "stream",
     "text": [
      "4\n"
     ]
    }
   ],
   "source": [
    "print(len(tup))"
   ]
  },
  {
   "cell_type": "markdown",
   "metadata": {},
   "source": [
    "Tupla com objetos de tipos de dados diversos:"
   ]
  },
  {
   "cell_type": "code",
   "execution_count": 87,
   "metadata": {},
   "outputs": [
    {
     "name": "stdout",
     "output_type": "stream",
     "text": [
      "Total de Alunos:  16    Diário Id:  34323787\n"
     ]
    }
   ],
   "source": [
    "turma = ('CTIELT.4M',True,16,6.3,34323787,'10/02/2019')\n",
    "print(\"Total de Alunos: \",turma[2],\"   Diário Id: \",turma[4])"
   ]
  },
  {
   "cell_type": "markdown",
   "metadata": {},
   "source": [
    "Todas as formas de acesso aos elementos das listas também valem para as tuplas:"
   ]
  },
  {
   "cell_type": "code",
   "execution_count": 88,
   "metadata": {},
   "outputs": [
    {
     "data": {
      "text/plain": [
       "'10/02/2019'"
      ]
     },
     "execution_count": 88,
     "metadata": {},
     "output_type": "execute_result"
    }
   ],
   "source": [
    "turma[-1]"
   ]
  },
  {
   "cell_type": "code",
   "execution_count": 89,
   "metadata": {},
   "outputs": [
    {
     "data": {
      "text/plain": [
       "('10/02/2019', 34323787, 6.3, 16, True, 'CTIELT.4M')"
      ]
     },
     "execution_count": 89,
     "metadata": {},
     "output_type": "execute_result"
    }
   ],
   "source": [
    "turma[::-1]"
   ]
  },
  {
   "cell_type": "markdown",
   "metadata": {},
   "source": [
    "Concatenação de Tuplas: "
   ]
  },
  {
   "cell_type": "code",
   "execution_count": 102,
   "metadata": {},
   "outputs": [
    {
     "name": "stdout",
     "output_type": "stream",
     "text": [
      "(0, 1, 2, 3, 'python', 'geek')\n"
     ]
    }
   ],
   "source": [
    "# concatenação de duas tuplas \n",
    "tupla1, tupla2 = (0, 1, 2, 3), ('python', 'geek') \n",
    "print(tupla1 + tupla2)"
   ]
  },
  {
   "cell_type": "markdown",
   "metadata": {},
   "source": [
    "Repetição de tupla:"
   ]
  },
  {
   "cell_type": "code",
   "execution_count": 98,
   "metadata": {},
   "outputs": [
    {
     "name": "stdout",
     "output_type": "stream",
     "text": [
      "('python', 'python', 'python')\n"
     ]
    }
   ],
   "source": [
    "# criando uma tupla com repetição de tupla \n",
    "tupla3 = ('python',) * 3 \n",
    "print(tupla3)"
   ]
  },
  {
   "cell_type": "markdown",
   "metadata": {},
   "source": [
    "Conversão de lista em Tupla usando a função `tuple()`:"
   ]
  },
  {
   "cell_type": "code",
   "execution_count": 100,
   "metadata": {},
   "outputs": [
    {
     "name": "stdout",
     "output_type": "stream",
     "text": [
      "(0, 1, 2)\n",
      "('p', 'y', 't', 'h', 'o', 'n')\n"
     ]
    }
   ],
   "source": [
    "lista1 = [0, 1, 2] \n",
    "print(tuple(lista1)) \n",
    "print(tuple('python'))     # string 'python' "
   ]
  },
  {
   "cell_type": "markdown",
   "metadata": {},
   "source": [
    "A função `tuple()` recebe um único parâmetro que pode ser uma lista, uma string, um conjunto ou até mesmo um dicionário (somente as chaves são recebidas como elementos) e as converte em uma tupla."
   ]
  },
  {
   "cell_type": "markdown",
   "metadata": {},
   "source": [
    "### <tt>Métodos Básicos de Tupla</tt>\n",
    "Tuplas têm métodos embutidos, mas não tantos quanto os métodos disponíveis para listas."
   ]
  },
  {
   "cell_type": "code",
   "execution_count": 91,
   "metadata": {},
   "outputs": [
    {
     "data": {
      "text/plain": [
       "(0, 1)"
      ]
     },
     "execution_count": 91,
     "metadata": {},
     "output_type": "execute_result"
    }
   ],
   "source": [
    "# contagem de ocorrências de um dado elemento na tupla\n",
    "turma.count(10), turma.count(16)"
   ]
  },
  {
   "cell_type": "markdown",
   "metadata": {},
   "source": [
    "### <tt>Imutabilidade </tt>\n",
    "Relembrando: as tuplas são imutáveis, não se pode modificar uma tupla depois que ela for definida..."
   ]
  },
  {
   "cell_type": "code",
   "execution_count": 92,
   "metadata": {},
   "outputs": [
    {
     "data": {
      "text/plain": [
       "16"
      ]
     },
     "execution_count": 92,
     "metadata": {},
     "output_type": "execute_result"
    }
   ],
   "source": [
    "turma[2]"
   ]
  },
  {
   "cell_type": "code",
   "execution_count": 93,
   "metadata": {},
   "outputs": [
    {
     "ename": "TypeError",
     "evalue": "'tuple' object does not support item assignment",
     "output_type": "error",
     "traceback": [
      "\u001b[1;31m-----------------------------------------------------------------\u001b[0m",
      "\u001b[1;31mTypeError\u001b[0m                       Traceback (most recent call last)",
      "\u001b[1;32m<ipython-input-93-078ba61f6df1>\u001b[0m in \u001b[0;36m<module>\u001b[1;34m\u001b[0m\n\u001b[1;32m----> 1\u001b[1;33m \u001b[0mturma\u001b[0m\u001b[1;33m[\u001b[0m\u001b[1;36m2\u001b[0m\u001b[1;33m]\u001b[0m \u001b[1;33m=\u001b[0m \u001b[1;36m19\u001b[0m\u001b[1;33m\u001b[0m\u001b[1;33m\u001b[0m\u001b[0m\n\u001b[0m",
      "\u001b[1;31mTypeError\u001b[0m: 'tuple' object does not support item assignment"
     ]
    }
   ],
   "source": [
    "turma[2] = 19"
   ]
  },
  {
   "cell_type": "code",
   "execution_count": 94,
   "metadata": {},
   "outputs": [
    {
     "ename": "AttributeError",
     "evalue": "'tuple' object has no attribute 'append'",
     "output_type": "error",
     "traceback": [
      "\u001b[1;31m-----------------------------------------------------------------\u001b[0m",
      "\u001b[1;31mAttributeError\u001b[0m                  Traceback (most recent call last)",
      "\u001b[1;32m<ipython-input-94-ecd7a35727de>\u001b[0m in \u001b[0;36m<module>\u001b[1;34m\u001b[0m\n\u001b[1;32m----> 1\u001b[1;33m \u001b[0mturma\u001b[0m\u001b[1;33m.\u001b[0m\u001b[0mappend\u001b[0m\u001b[1;33m(\u001b[0m\u001b[1;34m'encerrada'\u001b[0m\u001b[1;33m)\u001b[0m\u001b[1;33m\u001b[0m\u001b[1;33m\u001b[0m\u001b[0m\n\u001b[0m",
      "\u001b[1;31mAttributeError\u001b[0m: 'tuple' object has no attribute 'append'"
     ]
    }
   ],
   "source": [
    "turma.append('encerrada')"
   ]
  },
  {
   "cell_type": "markdown",
   "metadata": {},
   "source": [
    "### <tt>Quando usar tuplas</tt>\n",
    "Você pode estar se perguntando: _\"Por que se preocupar em usar tuplas quando elas têm menos métodos disponíveis?\"_ Na verdade, as tuplas não são usadas tão frequentemente quanto as listas, mas são usadas quando a imutabilidade é necessária. Se no seu programa você está passando um objeto e precisa ter certeza de que ele não será alterado, então a tupla será a solução. Ela fornece uma forma conveniente de se obter integridade de dados."
   ]
  },
  {
   "cell_type": "code",
   "execution_count": 113,
   "metadata": {},
   "outputs": [
    {
     "data": {
      "text/plain": [
       "'ok'"
      ]
     },
     "execution_count": 113,
     "metadata": {},
     "output_type": "execute_result"
    }
   ],
   "source": [
    "max(tupla2)"
   ]
  },
  {
   "cell_type": "code",
   "execution_count": 114,
   "metadata": {},
   "outputs": [
    {
     "name": "stdout",
     "output_type": "stream",
     "text": [
      "Diferentes!\n",
      "Maiores elementos nas tuplas 1,2: python,ok\n",
      "Menores elementos nas tuplas 1,2: geek,codificador\n"
     ]
    }
   ],
   "source": [
    "# comparação de tuplas\n",
    "tupla1 = ('python', 'geek') \n",
    "tupla2 = ('codificador', 'ok') \n",
    "  \n",
    "# if cmp(tupla1, tupla2) != 0:              # python2\n",
    "   # cmp() retorna 0 se os argumentos se casam (são iguais), 1 quando a tupla1 não  \n",
    "   # é a maior das tuplas e -1 quando a tupla1 é menor que a tupla2 \n",
    "if (tupla1 > tupla2)-(tupla1 < tupla2):     # python3\n",
    "   print('Diferentes!') \n",
    "else: \n",
    "   print('Idênticas!') \n",
    "print ('Maiores elementos nas tuplas 1,2: ' + str(max(tupla1)) +  ',' + str(max(tupla2))) \n",
    "print ('Menores elementos nas tuplas 1,2: ' + str(min(tupla1)) + ','  + str(min(tupla2))) "
   ]
  },
  {
   "cell_type": "markdown",
   "metadata": {},
   "source": [
    "Obs.: \n",
    "- `max()` e `min()` verificam os valores baseados no código ASCII. Se houver duas strings em uma tupla, o primeiro caractere diferente nas strings será verificado.\n",
    "- `cmp()` é uma função embutida no Python, usada para comparar dois objetos e não retorna `True` ou `False` mas sim um valor negativo, zero ou positivo, com base nos objetos dados."
   ]
  },
  {
   "cell_type": "markdown",
   "metadata": {},
   "source": [
    "### <a style=\"color: red\">Exercício</a>\n",
    "1. Dada uma lista de tupla, a tarefa é somar as tuplas com o mesmo primeiro valor.\n",
    "\n",
    "Exemplos:\n",
    "\n",
    "    Entrada: [(1, 13), (2, 190), (3, 82), (1, 12)] \n",
    "    Saída:   [(1, 25), (2, 190), (3, 82)] \n",
    "    Entrada: [(1, 13), (1, 190), (3, 25), (1, 12)] \n",
    "    Saída:   [(1, 215), (3, 25)]"
   ]
  },
  {
   "cell_type": "code",
   "execution_count": 119,
   "metadata": {},
   "outputs": [
    {
     "name": "stdout",
     "output_type": "stream",
     "text": [
      "[(1, 215), (3, 23)]\n"
     ]
    },
    {
     "data": {
      "text/html": [
       "<script> code_show=true; \n",
       "  function code_toggle() {\n",
       "    if (code_show) {\n",
       "        $('div.cell.code_cell.rendered.selected div.input').hide(); } \n",
       "    else {\n",
       "        $('div.cell.code_cell.rendered.selected div.input').show(); }\n",
       "    code_show = !code_show\n",
       "  } \n",
       "$( document ).ready(code_toggle);\n",
       "</script>\n",
       "Para mostrar/esconder o código de entrada desta célula, \n",
       "clique <a href=\"javascript:code_toggle()\">aqui</a>."
      ],
      "text/plain": [
       "<IPython.core.display.HTML object>"
      ]
     },
     "execution_count": 119,
     "metadata": {},
     "output_type": "execute_result"
    }
   ],
   "source": [
    "Input = [(1, 13), (3, -2), (1, 190), (3, 25), (1, 12)] \n",
    "d = {x:0 for x, _ in Input} \n",
    "for nome, num in Input: d[nome] += num \n",
    " \n",
    "# using map \n",
    "Output = list(map(tuple, d.items())) \n",
    "print(Output)\n",
    "\n",
    "from IPython.display import HTML\n",
    "HTML('''<script> code_show=true; \n",
    "  function code_toggle() {\n",
    "    if (code_show) {\n",
    "        $('div.cell.code_cell.rendered.selected div.input').hide(); } \n",
    "    else {\n",
    "        $('div.cell.code_cell.rendered.selected div.input').show(); }\n",
    "    code_show = !code_show\n",
    "  } \n",
    "$( document ).ready(code_toggle);\n",
    "</script>\n",
    "Para mostrar/esconder o código de entrada desta célula, \n",
    "clique <a href=\"javascript:code_toggle()\">aqui</a>.''')"
   ]
  },
  {
   "cell_type": "markdown",
   "metadata": {},
   "source": [
    "<p style=\"text-align:right;\"><a href=\"#topo\">Volta ao topo</a>"
   ]
  },
  {
   "cell_type": "markdown",
   "metadata": {},
   "source": [
    "<a id=\"7.\"></a>\n",
    "## 7.\tConjunto\n",
    "\n",
    "O conteiner __conjunto__ (_set_, em inglês) pode ser usado na execução de operações de conjuntos matemáticos, tais como: união, interseção, diferença simétrica etc. \n",
    "\n",
    "Um **conjunto** é uma **coleção não ordenada de elementos únicos** e que podem ser alterados, acrescentados ou excluídos.\n",
    "\n",
    "### <tt>Criando um Conjunto</tt> \n",
    "\n",
    "Podemos usar a função `set()` ou um par de chaves `{ }` para criar um conjunto vazio, ou podemos ainda criá-los com elementos a partir de outras estruturas iteráveis (lista, tupla, dicionário etc). \n",
    "\n",
    "Exemplo: Criação e inserção de elementos num conjunto."
   ]
  },
  {
   "cell_type": "code",
   "execution_count": 120,
   "metadata": {},
   "outputs": [
    {
     "data": {
      "text/plain": [
       "set()"
      ]
     },
     "execution_count": 120,
     "metadata": {},
     "output_type": "execute_result"
    }
   ],
   "source": [
    "# criando um conjunto vazio: A = { }  ou\n",
    "A = set()\n",
    "A"
   ]
  },
  {
   "cell_type": "markdown",
   "metadata": {},
   "source": [
    "### <tt>Acrescentando Elemento(s) ao Conjunto</tt>"
   ]
  },
  {
   "cell_type": "code",
   "execution_count": 121,
   "metadata": {},
   "outputs": [
    {
     "data": {
      "text/plain": [
       "{'ok'}"
      ]
     },
     "execution_count": 121,
     "metadata": {},
     "output_type": "execute_result"
    }
   ],
   "source": [
    "A.add('ok')\n",
    "A"
   ]
  },
  {
   "cell_type": "code",
   "execution_count": 122,
   "metadata": {},
   "outputs": [
    {
     "data": {
      "text/plain": [
       "{1, 'ok'}"
      ]
     },
     "execution_count": 122,
     "metadata": {},
     "output_type": "execute_result"
    }
   ],
   "source": [
    "A.add(1)\n",
    "A.add(1)          # elementos repetidos não são incluídos...\n",
    "A"
   ]
  },
  {
   "cell_type": "code",
   "execution_count": 123,
   "metadata": {},
   "outputs": [
    {
     "data": {
      "text/plain": [
       "{-8, 1, 'ok'}"
      ]
     },
     "execution_count": 123,
     "metadata": {},
     "output_type": "execute_result"
    }
   ],
   "source": [
    "A.add(-8)\n",
    "A"
   ]
  },
  {
   "cell_type": "code",
   "execution_count": 124,
   "metadata": {},
   "outputs": [
    {
     "data": {
      "text/plain": [
       "{-8, 1, 5, 'ok'}"
      ]
     },
     "execution_count": 124,
     "metadata": {},
     "output_type": "execute_result"
    }
   ],
   "source": [
    "A.add(5)\n",
    "A                 # coleção não ordenada"
   ]
  },
  {
   "cell_type": "markdown",
   "metadata": {},
   "source": [
    "Observe que os elementos não guardam, obrigatoriamente, qualquer ordem no conjunto e que elementos já existentes não são repetidos ao serem adicionados mais de uma vez ao conjunto."
   ]
  },
  {
   "cell_type": "markdown",
   "metadata": {},
   "source": [
    "Exemplo:  Supressão de elementos repetidos de uma lista ou tupla:"
   ]
  },
  {
   "cell_type": "code",
   "execution_count": 125,
   "metadata": {},
   "outputs": [
    {
     "name": "stdout",
     "output_type": "stream",
     "text": [
      "{22, 23, 25, 26, 27, 28}\n"
     ]
    }
   ],
   "source": [
    "lista = [22,22,23,25,25,25,26,26,27,28,28]\n",
    "print(set(lista))"
   ]
  },
  {
   "cell_type": "code",
   "execution_count": 126,
   "metadata": {},
   "outputs": [
    {
     "data": {
      "text/plain": [
       "(22, 22, 23, 25, 25, 25, 26, 26, 27, 28, 28)"
      ]
     },
     "execution_count": 126,
     "metadata": {},
     "output_type": "execute_result"
    }
   ],
   "source": [
    "tupla = tuple(lista)\n",
    "tupla"
   ]
  },
  {
   "cell_type": "code",
   "execution_count": 128,
   "metadata": {},
   "outputs": [
    {
     "name": "stdout",
     "output_type": "stream",
     "text": [
      "{22, 23, 25, 26, 27, 28}\n"
     ]
    }
   ],
   "source": [
    "B = set(tupla)\n",
    "print(B)"
   ]
  },
  {
   "cell_type": "markdown",
   "metadata": {},
   "source": [
    "### <tt>Removendo Elemento(s) de um Conjunto</tt>\n",
    "\n",
    "Um item específico pode ser removido do conjunto usando os métodos: `discard()` e `remove()`. A diferença entre esses métodos é que, ao usar o __discard(item)__ se o __item__ não existir no conjunto, então ocorre uma ação, enquanto o método __remove(item)__ gerará um erro nessa situação."
   ]
  },
  {
   "cell_type": "code",
   "execution_count": 129,
   "metadata": {},
   "outputs": [
    {
     "data": {
      "text/plain": [
       "{22, 25, 26, 27, 28}"
      ]
     },
     "execution_count": 129,
     "metadata": {},
     "output_type": "execute_result"
    }
   ],
   "source": [
    "B.discard(23)\n",
    "B"
   ]
  },
  {
   "cell_type": "code",
   "execution_count": 130,
   "metadata": {},
   "outputs": [
    {
     "ename": "KeyError",
     "evalue": "23",
     "output_type": "error",
     "traceback": [
      "\u001b[1;31m-----------------------------------------------------------------\u001b[0m",
      "\u001b[1;31mKeyError\u001b[0m                        Traceback (most recent call last)",
      "\u001b[1;32m<ipython-input-130-7e94e52cea6e>\u001b[0m in \u001b[0;36m<module>\u001b[1;34m\u001b[0m\n\u001b[0;32m      1\u001b[0m \u001b[0mB\u001b[0m\u001b[1;33m.\u001b[0m\u001b[0mdiscard\u001b[0m\u001b[1;33m(\u001b[0m\u001b[1;36m23\u001b[0m\u001b[1;33m)\u001b[0m\u001b[1;33m\u001b[0m\u001b[1;33m\u001b[0m\u001b[0m\n\u001b[1;32m----> 2\u001b[1;33m \u001b[0mB\u001b[0m\u001b[1;33m.\u001b[0m\u001b[0mremove\u001b[0m\u001b[1;33m(\u001b[0m\u001b[1;36m23\u001b[0m\u001b[1;33m)\u001b[0m\u001b[1;33m\u001b[0m\u001b[1;33m\u001b[0m\u001b[0m\n\u001b[0m",
      "\u001b[1;31mKeyError\u001b[0m: 23"
     ]
    }
   ],
   "source": [
    "B.discard(23)\n",
    "B.remove(23)"
   ]
  },
  {
   "cell_type": "markdown",
   "metadata": {},
   "source": [
    "### <tt>União de Conjuntos</tt>\n",
    "\n",
    "A união dos conjuntos **A e B** é um conjunto de todos os elementos de ambos os conjuntos. União é realizada usando operador ‘|’ ou o método **union()**.\n"
   ]
  },
  {
   "cell_type": "code",
   "execution_count": 59,
   "metadata": {},
   "outputs": [
    {
     "name": "stdout",
     "output_type": "stream",
     "text": [
      "{3, 4, 5} {4, 5, 6}\n",
      "{3, 4, 5, 6}\n",
      "{3, 4, 5, 6}\n"
     ]
    }
   ],
   "source": [
    "A = {4,3,5,4}\n",
    "B = {5,4,6}\n",
    "print(A, B)\n",
    "print(A | B)            # união dos conjuntos A e B\n",
    "print(A.union(B))       # união dos conjuntos A e B"
   ]
  },
  {
   "cell_type": "markdown",
   "metadata": {},
   "source": [
    "### <tt>Interseção entre Conjuntos </tt>\n",
    "A interseção entre __A e B__ é um conjunto de elementos comuns a ambos os conjuntos. A interseção é realizada usando o operador '&' ou o método __intersection()__."
   ]
  },
  {
   "cell_type": "code",
   "execution_count": 34,
   "metadata": {
    "scrolled": false
   },
   "outputs": [
    {
     "name": "stdout",
     "output_type": "stream",
     "text": [
      "{4, 5}\n"
     ]
    }
   ],
   "source": [
    "B.intersection(A)\n",
    "print(B & A)"
   ]
  },
  {
   "cell_type": "markdown",
   "metadata": {},
   "source": [
    "### <tt>Diferença de Conjuntos</tt>\n",
    "A diferença entre os conjuntos __A e B__ é representada por __A – B__, e é um conjunto formado pelos elementos que estão apenas em __A__, mas não em __B__. Da mesma forma, __B – A__ é um conjunto formado pelos elementos que estão em __B__ e que não estão em __A__. A diferença de conjuntos é realizada em Python pelo operador `-` ou pelo método __difference()__."
   ]
  },
  {
   "cell_type": "code",
   "execution_count": 60,
   "metadata": {},
   "outputs": [
    {
     "name": "stdout",
     "output_type": "stream",
     "text": [
      "A: {3, 4, 5} B: {4, 5, 6}\n",
      "A - B: {3}\n",
      "B - A: {6}\n"
     ]
    }
   ],
   "source": [
    "print(\"A:\",A,\"B:\",B)\n",
    "print(\"A - B:\",A - B)               # ou:  A.difference(B)\n",
    "print(\"B - A:\",B - A)               # ou:  B.difference(A)"
   ]
  },
  {
   "cell_type": "code",
   "execution_count": 61,
   "metadata": {},
   "outputs": [
    {
     "data": {
      "text/plain": [
       "{'Ana', 'Camila', 'Matheus', 'Pedro'}"
      ]
     },
     "execution_count": 61,
     "metadata": {},
     "output_type": "execute_result"
    }
   ],
   "source": [
    "homens = {\"Pedro\", \"Matheus\"}\n",
    "mulheres = {\"Ana\", \"Camila\"}\n",
    "familia = homens | mulheres\n",
    "familia"
   ]
  },
  {
   "cell_type": "code",
   "execution_count": 62,
   "metadata": {},
   "outputs": [
    {
     "data": {
      "text/plain": [
       "{'Camila', 'Matheus'}"
      ]
     },
     "execution_count": 62,
     "metadata": {},
     "output_type": "execute_result"
    }
   ],
   "source": [
    "empregado = {\"Pedro\",\"Ana\"}\n",
    "desempregado = familia - empregado\n",
    "desempregado"
   ]
  },
  {
   "cell_type": "markdown",
   "metadata": {},
   "source": [
    "### <tt>Diferença Simétrica entre Conjuntos</tt>\n",
    "A diferença simétrica entre os conjuntos __A e B__, representada por __A ^ B__, é um conjunto de elementos em __A e B__, exceto aqueles que são comuns a ambos. A diferença simétrica é realizada usando o operador ‘^’ou usando o método __symmetric_difference()__."
   ]
  },
  {
   "cell_type": "code",
   "execution_count": 63,
   "metadata": {},
   "outputs": [
    {
     "name": "stdout",
     "output_type": "stream",
     "text": [
      "{3, 6} {3, 6}\n",
      "{'Camila', 'Matheus'}\n",
      "{'Camila', 'Matheus'}\n"
     ]
    }
   ],
   "source": [
    "A.symmetric_difference(B)\n",
    "print(A ^ B, B ^ A)\n",
    "print(familia ^ empregado)\n",
    "print(familia - empregado)"
   ]
  },
  {
   "cell_type": "markdown",
   "metadata": {},
   "source": [
    "### <a style=\"color: red\">Exercício</a>\n",
    "Mostre os números incomuns dos conjuntos `lista_a = [0, 1, 2, 3, 4]`  e `lista_b = [2, 3, 4, 5]`.\n",
    "Dica: use a função `set()`."
   ]
  },
  {
   "cell_type": "code",
   "execution_count": 48,
   "metadata": {},
   "outputs": [
    {
     "name": "stdout",
     "output_type": "stream",
     "text": [
      "{0, 1, 5}\n"
     ]
    }
   ],
   "source": [
    "lista_a = [0, 1, 2, 3, 4]\n",
    "lista_b = [2, 3, 4, 5]\n",
    "print((set(lista_a) - set(lista_b)) | (set(lista_b) - set(lista_a)))"
   ]
  },
  {
   "cell_type": "markdown",
   "metadata": {},
   "source": [
    "### <tt>Acessando Elementos do Conjunto</tt>\n",
    "Diferentemente das estruturas de dados __Lista__ e __Tupla__, os elementos de um __Conjunto__ não podem ser acessados via indexação:"
   ]
  },
  {
   "cell_type": "code",
   "execution_count": 49,
   "metadata": {},
   "outputs": [
    {
     "data": {
      "text/plain": [
       "{4, 5, 6}"
      ]
     },
     "execution_count": 49,
     "metadata": {},
     "output_type": "execute_result"
    }
   ],
   "source": [
    "B"
   ]
  },
  {
   "cell_type": "code",
   "execution_count": 50,
   "metadata": {},
   "outputs": [
    {
     "ename": "TypeError",
     "evalue": "'set' object does not support indexing",
     "output_type": "error",
     "traceback": [
      "\u001b[1;31m---------------------------------------------------------------------------\u001b[0m",
      "\u001b[1;31mTypeError\u001b[0m                                 Traceback (most recent call last)",
      "\u001b[1;32m<ipython-input-50-40c3736f2221>\u001b[0m in \u001b[0;36m<module>\u001b[1;34m\u001b[0m\n\u001b[1;32m----> 1\u001b[1;33m \u001b[0mB\u001b[0m\u001b[1;33m[\u001b[0m\u001b[1;36m0\u001b[0m\u001b[1;33m]\u001b[0m\u001b[1;33m\u001b[0m\u001b[1;33m\u001b[0m\u001b[0m\n\u001b[0m",
      "\u001b[1;31mTypeError\u001b[0m: 'set' object does not support indexing"
     ]
    }
   ],
   "source": [
    "B[0]"
   ]
  },
  {
   "cell_type": "code",
   "execution_count": 53,
   "metadata": {},
   "outputs": [
    {
     "name": "stdout",
     "output_type": "stream",
     "text": [
      "4, 5, 6, \b\b\n"
     ]
    }
   ],
   "source": [
    "for elemento in B:\n",
    "   print(elemento,end=', ')\n",
    "print('\\b\\b')                     # '\\b' caracter Backspace"
   ]
  },
  {
   "cell_type": "markdown",
   "metadata": {},
   "source": [
    "Funções incorporadas aplicáveis aos conjuntos: <tt>all(), any(), enumerate(), len(), max(), min(), sorted() e sum()</tt>."
   ]
  },
  {
   "cell_type": "code",
   "execution_count": 64,
   "metadata": {},
   "outputs": [
    {
     "data": {
      "text/plain": [
       "({4, 5, 6}, 15, 6, 4, 3)"
      ]
     },
     "execution_count": 64,
     "metadata": {},
     "output_type": "execute_result"
    }
   ],
   "source": [
    "B, sum(B), max(B), min(B), len(B)"
   ]
  },
  {
   "cell_type": "markdown",
   "metadata": {},
   "source": [
    "### <tt>Conjuntos Imutáveis: frozenset()</tt> \n",
    "\n",
    "É uma estrutura que possui características de um conjunto, mas seus elementos não podem ser alterados/acrescidos/removidos depois de atribuídos. Enquanto as tuplas são listas imutáveis, os __frozensets__ são conjuntos imutáveis. \n",
    "\n",
    "Conjuntos não podem ser usados como chaves de dicionário, por serem mutáveis. Por outro lado, os __frozensets__ podem ser usados como chaves de um dicionário.  Podem ser criados usando a função `frozenset()`."
   ]
  },
  {
   "cell_type": "code",
   "execution_count": 65,
   "metadata": {},
   "outputs": [
    {
     "data": {
      "text/plain": [
       "(frozenset({1, 2, 3, 4}), frozenset({3, 4, 5, 6}))"
      ]
     },
     "execution_count": 65,
     "metadata": {},
     "output_type": "execute_result"
    }
   ],
   "source": [
    "A = frozenset([1, 2, 3, 4])\n",
    "B = frozenset([3, 4, 5, 6])\n",
    "A, B"
   ]
  },
  {
   "cell_type": "code",
   "execution_count": 66,
   "metadata": {},
   "outputs": [
    {
     "data": {
      "text/plain": [
       "(frozenset({1, 2, 5, 6}), frozenset({1, 2, 3, 4, 5, 6}))"
      ]
     },
     "execution_count": 66,
     "metadata": {},
     "output_type": "execute_result"
    }
   ],
   "source": [
    "A ^ B, A | B"
   ]
  },
  {
   "cell_type": "code",
   "execution_count": 67,
   "metadata": {
    "scrolled": true
   },
   "outputs": [
    {
     "ename": "AttributeError",
     "evalue": "'frozenset' object has no attribute 'add'",
     "output_type": "error",
     "traceback": [
      "\u001b[1;31m---------------------------------------------------------------------------\u001b[0m",
      "\u001b[1;31mAttributeError\u001b[0m                            Traceback (most recent call last)",
      "\u001b[1;32m<ipython-input-67-26d85722fca4>\u001b[0m in \u001b[0;36m<module>\u001b[1;34m\u001b[0m\n\u001b[1;32m----> 1\u001b[1;33m \u001b[0mA\u001b[0m\u001b[1;33m.\u001b[0m\u001b[0madd\u001b[0m\u001b[1;33m(\u001b[0m\u001b[1;36m5\u001b[0m\u001b[1;33m)\u001b[0m\u001b[1;33m\u001b[0m\u001b[1;33m\u001b[0m\u001b[0m\n\u001b[0m",
      "\u001b[1;31mAttributeError\u001b[0m: 'frozenset' object has no attribute 'add'"
     ]
    }
   ],
   "source": [
    "A.add(5)"
   ]
  },
  {
   "cell_type": "markdown",
   "metadata": {},
   "source": [
    "### <a style=\"color: red\">Exercício</a>\n",
    "Mostre a quantidade de vogais existente numa string, usando conjunto(s) ou não."
   ]
  },
  {
   "cell_type": "code",
   "execution_count": 80,
   "metadata": {
    "scrolled": true
   },
   "outputs": [
    {
     "name": "stdout",
     "output_type": "stream",
     "text": [
      "Qtde de vogais: 6\n"
     ]
    }
   ],
   "source": [
    "# usando conjuntos\n",
    "vogais = set(\"AEIOUaeiou\")\n",
    "nome = \"Ana Claudia\"\n",
    "print(\"Qtde de vogais:\", len(nome) - len(set(nome) - vogais))"
   ]
  },
  {
   "cell_type": "code",
   "execution_count": 81,
   "metadata": {},
   "outputs": [
    {
     "name": "stdout",
     "output_type": "stream",
     "text": [
      "Qtde de vogais: 6\n"
     ]
    }
   ],
   "source": [
    "# não usando conjuntos\n",
    "s = \"Ana Claudia\"                 # raw_input(\"Entre uma string: \")\n",
    "cont = 0\n",
    "vogais = set(\"AEIOUaeiou\")\n",
    "for letra in s:\n",
    "    if letra in vogais:\n",
    "        cont += 1\n",
    "print(\"Qtde de vogais:\", cont)"
   ]
  },
  {
   "cell_type": "markdown",
   "metadata": {},
   "source": [
    "<a id=\"8.\"></a>\n",
    "## 8.\tDicionário\n",
    "Trata-se de uma estrutura de dados útil na implementação de mapeamentos. __Mapeamento__ é uma coleção de associações entre pares de valores. De certa forma, um mapeamento é uma <u>generalização</u> do acesso de dados por índices, comumente usado em arranjos (vetores e matrizes), com a diferença dos índices (ou chaves) num mapeamento poder ser de qualquer tipo de dado imutável, inclusive _string_.\n",
    "\n",
    "O dicionário é uma coleção não ordenada de itens. Enquanto outros tipos de dados compostos (arranjos) têm apenas um valor para cada índice, um dicionário tem um par __chave:valor__. Os dicionários são otimizados para recuperar valores quando a __chave__ for conhecida. \n",
    "\n",
    "Se você estiver familiarizado com outras linguagens, pode pensar em dicionários como tabelas de mapeamento (_hash tables_).\n",
    "\n",
    "### <tt>Criando um Dicionário</tt> \n",
    "Um dicionário em Python consiste de entradas compostas por uma chave e um valor associado, separados por um `:`. Esse valor pode ser praticamente qualquer objeto do Python.\n",
    "\n",
    "Criar um dicionário é tão simples quanto colocar pares (chave:valor) separados por vírgula e delimitados por chaves { }. \n",
    "Cada item do dicionário tem uma __chave__ e um __valor__ correspondente, e é expresso por um par `chave : valor`. Embora o __valor__ possa ser de qualquer tipo de dado e possa se repetir, a __chave__ deve ser de um tipo imutável (string, número ou tupla) e deve ser exclusiva dentro do dicionário."
   ]
  },
  {
   "cell_type": "code",
   "execution_count": 82,
   "metadata": {},
   "outputs": [
    {
     "data": {
      "text/plain": [
       "'manga'"
      ]
     },
     "execution_count": 82,
     "metadata": {},
     "output_type": "execute_result"
    }
   ],
   "source": [
    "# criando um dicionário vazio\n",
    "dici = { }\n",
    "# dicionário com chaves do tipo numérico 'inteiro'\n",
    "z = { 1 : 'manga', 2 : 'bola', 3 : 1220 }\n",
    "z[1]"
   ]
  },
  {
   "cell_type": "code",
   "execution_count": 86,
   "metadata": {},
   "outputs": [
    {
     "name": "stdout",
     "output_type": "stream",
     "text": [
      "{1: 'banana', 2: 'bola', 3: 1220}\n",
      "1220\n"
     ]
    }
   ],
   "source": [
    "z[1] = 'banana'\n",
    "print(z)\n",
    "print(z[3])"
   ]
  },
  {
   "cell_type": "code",
   "execution_count": 87,
   "metadata": {},
   "outputs": [
    {
     "data": {
      "text/plain": [
       "'ok'"
      ]
     },
     "execution_count": 87,
     "metadata": {},
     "output_type": "execute_result"
    }
   ],
   "source": [
    "# criando dicionário com chaves mistas (vários tipos de dados)\n",
    "y = { 'nome': 'Maria', 'notas': [6,7,4], 5: 'ok' }\n",
    "y[5]"
   ]
  },
  {
   "cell_type": "code",
   "execution_count": 88,
   "metadata": {},
   "outputs": [
    {
     "data": {
      "text/plain": [
       "'Maria'"
      ]
     },
     "execution_count": 88,
     "metadata": {},
     "output_type": "execute_result"
    }
   ],
   "source": [
    "y['nome']"
   ]
  },
  {
   "cell_type": "code",
   "execution_count": 89,
   "metadata": {},
   "outputs": [
    {
     "name": "stdout",
     "output_type": "stream",
     "text": [
      "[6, 7, 4] 6\n"
     ]
    }
   ],
   "source": [
    "print(y['notas'], y['notas'][0])"
   ]
  },
  {
   "cell_type": "markdown",
   "metadata": {},
   "source": [
    "Também podemos criar um dicionário usando a função incorporada `dict()` que requer como parâmetro uma lista de tuplas, cada uma com um par __chave:valor__, ou usando uma sequência de itens no formato `chave=valor`."
   ]
  },
  {
   "cell_type": "code",
   "execution_count": 91,
   "metadata": {},
   "outputs": [
    {
     "data": {
      "text/plain": [
       "{'nome': 'Maria', 'notas': [6, 7, 4], 5: 'ok'}"
      ]
     },
     "execution_count": 91,
     "metadata": {},
     "output_type": "execute_result"
    }
   ],
   "source": [
    "# criando dicionário com a função dict()\n",
    "w = dict([('nome','Maria'), ('notas',[6,7,4]), (5,'ok')])\n",
    "w"
   ]
  },
  {
   "cell_type": "code",
   "execution_count": 90,
   "metadata": {},
   "outputs": [
    {
     "name": "stdout",
     "output_type": "stream",
     "text": [
      "{'x': 1, 'y': 2, 'w': 3}\n"
     ]
    },
    {
     "data": {
      "text/plain": [
       "1"
      ]
     },
     "execution_count": 90,
     "metadata": {},
     "output_type": "execute_result"
    }
   ],
   "source": [
    "# criando dicionário com uma sequência de itens\n",
    "a = dict(x=1, y=2, w=3)\n",
    "print(a)\n",
    "a['x']"
   ]
  },
  {
   "cell_type": "markdown",
   "metadata": {},
   "source": [
    "Também podemos criar __chave__ via operador de atribuição. Por exemplo, se começássemos com um dicionário vazio, poderíamos adicionar elementos continuamente:"
   ]
  },
  {
   "cell_type": "code",
   "execution_count": 92,
   "metadata": {},
   "outputs": [
    {
     "data": {
      "text/plain": [
       "{'animal': 'gato', 'idade': 6}"
      ]
     },
     "execution_count": 92,
     "metadata": {},
     "output_type": "execute_result"
    }
   ],
   "source": [
    "d = { }                # dicionário vazio\n",
    "d['animal'] = 'gato'   # acrescenta o elemento 'animal':'gato'\n",
    "d['idade'] = 6         # acrescenta o elemento 'idade':6\n",
    "d"
   ]
  },
  {
   "cell_type": "markdown",
   "metadata": {},
   "source": [
    "### <tt>Acessando Elementos de um Dicionário</tt>\n",
    "Dicionário são estruturas mutáveis. Podemos adicionar novos itens ou alterar o valor dos itens existentes usando o operador de atribuição. Se a chave já estiver presente no dicionário, então o __valor__ atribuído atualizará a __chave__, caso contrário, um novo par __chave:valor__ será adicionado ao dicionário."
   ]
  },
  {
   "cell_type": "code",
   "execution_count": 93,
   "metadata": {},
   "outputs": [
    {
     "name": "stdout",
     "output_type": "stream",
     "text": [
      "{'animal': 'gato', 'idade': 6}\n"
     ]
    },
    {
     "data": {
      "text/plain": [
       "{'animal': 'gato', 'idade': 5, 'cor': 'branco', 'nome': 'Teo'}"
      ]
     },
     "execution_count": 93,
     "metadata": {},
     "output_type": "execute_result"
    }
   ],
   "source": [
    "print(d)\n",
    "d['idade'] = 5\n",
    "d['cor'] = 'branco'\n",
    "d['nome'] = 'Teo'\n",
    "d"
   ]
  },
  {
   "cell_type": "markdown",
   "metadata": {},
   "source": [
    "### <tt>Excluindo Elementos de um Dicionário</tt>\n",
    "Podemos remover um par específico de um dicionário usando o método `pop()`. Este método remove o item com a __chave__ fornecida e retorna o __valor__ associado. \n",
    "\n",
    "O método `popitem()` pode ser usado para remover e retornar um determinado item (chave, valor) do dicionário. Todos os itens podem ser removidos de uma só vez usando o método `clear()`. Também podemos usar a função incorporada `del()` para remover itens individuais ou o dicionário inteiro."
   ]
  },
  {
   "cell_type": "code",
   "execution_count": 94,
   "metadata": {},
   "outputs": [
    {
     "name": "stdout",
     "output_type": "stream",
     "text": [
      "{'nome': 'Maria', 'notas': [6, 7, 4], 5: 'ok'}\n"
     ]
    },
    {
     "data": {
      "text/plain": [
       "'ok'"
      ]
     },
     "execution_count": 94,
     "metadata": {},
     "output_type": "execute_result"
    }
   ],
   "source": [
    "print(y)\n",
    "y.pop(5)"
   ]
  },
  {
   "cell_type": "code",
   "execution_count": 95,
   "metadata": {},
   "outputs": [
    {
     "data": {
      "text/plain": [
       "{'nome': 'Maria', 'notas': [6, 7, 4]}"
      ]
     },
     "execution_count": 95,
     "metadata": {},
     "output_type": "execute_result"
    }
   ],
   "source": [
    "y"
   ]
  },
  {
   "cell_type": "code",
   "execution_count": 96,
   "metadata": {},
   "outputs": [
    {
     "data": {
      "text/plain": [
       "{'nome': 'Maria'}"
      ]
     },
     "execution_count": 96,
     "metadata": {},
     "output_type": "execute_result"
    }
   ],
   "source": [
    "del y['notas']\n",
    "y"
   ]
  },
  {
   "cell_type": "code",
   "execution_count": 97,
   "metadata": {},
   "outputs": [
    {
     "name": "stdout",
     "output_type": "stream",
     "text": [
      "{'animal': 'gato', 'idade': 5, 'cor': 'branco', 'nome': 'Teo'}\n"
     ]
    },
    {
     "ename": "NameError",
     "evalue": "name 'd' is not defined",
     "output_type": "error",
     "traceback": [
      "\u001b[1;31m---------------------------------------------------------------------------\u001b[0m",
      "\u001b[1;31mNameError\u001b[0m                                 Traceback (most recent call last)",
      "\u001b[1;32m<ipython-input-97-825f2643431a>\u001b[0m in \u001b[0;36m<module>\u001b[1;34m\u001b[0m\n\u001b[0;32m      1\u001b[0m \u001b[0mprint\u001b[0m\u001b[1;33m(\u001b[0m\u001b[0md\u001b[0m\u001b[1;33m)\u001b[0m\u001b[1;33m\u001b[0m\u001b[1;33m\u001b[0m\u001b[0m\n\u001b[0;32m      2\u001b[0m \u001b[1;32mdel\u001b[0m \u001b[0md\u001b[0m\u001b[1;33m\u001b[0m\u001b[1;33m\u001b[0m\u001b[0m\n\u001b[1;32m----> 3\u001b[1;33m \u001b[0md\u001b[0m\u001b[1;33m\u001b[0m\u001b[1;33m\u001b[0m\u001b[0m\n\u001b[0m",
      "\u001b[1;31mNameError\u001b[0m: name 'd' is not defined"
     ]
    }
   ],
   "source": [
    "print(d)\n",
    "del d\n",
    "d"
   ]
  },
  {
   "cell_type": "markdown",
   "metadata": {},
   "source": [
    "Outros tantos métodos estão disponíveis para uso com dicionários: `clear(), copy(), \n",
    "fromkeys(seq[, v]), get(key[,d]), items(), keys(), pop(key[,d]), popitem(), update([other]), values()`."
   ]
  },
  {
   "cell_type": "code",
   "execution_count": 99,
   "metadata": {},
   "outputs": [
    {
     "data": {
      "text/plain": [
       "{'matematica': 2, 'espanhol': 2, 'portugues': 2}"
      ]
     },
     "execution_count": 99,
     "metadata": {},
     "output_type": "execute_result"
    }
   ],
   "source": [
    "notas = {}.fromkeys(['matematica','espanhol','portugues'],2)\n",
    "notas"
   ]
  },
  {
   "cell_type": "code",
   "execution_count": 103,
   "metadata": {},
   "outputs": [
    {
     "name": "stdout",
     "output_type": "stream",
     "text": [
      "matematica, espanhol, portugues, \b\b\n"
     ]
    }
   ],
   "source": [
    "for disciplina in notas.items():\n",
    "  print(disciplina, end=', ')\n",
    "print('\\b'*2)"
   ]
  },
  {
   "cell_type": "code",
   "execution_count": 108,
   "metadata": {
    "scrolled": true
   },
   "outputs": [
    {
     "name": "stdout",
     "output_type": "stream",
     "text": [
      "Nota (matematica) =  2, Nota (espanhol) =  2, Nota (portugues) =  2, \b\b\n"
     ]
    }
   ],
   "source": [
    "for disciplina in notas:\n",
    "  print(\"Nota (\" + disciplina + \") = \", notas[disciplina], end=', ')\n",
    "print('\\b'*2)"
   ]
  },
  {
   "cell_type": "code",
   "execution_count": 109,
   "metadata": {},
   "outputs": [
    {
     "data": {
      "text/plain": [
       "['espanhol', 'matematica', 'portugues']"
      ]
     },
     "execution_count": 109,
     "metadata": {},
     "output_type": "execute_result"
    }
   ],
   "source": [
    "list(sorted(notas.keys()))"
   ]
  },
  {
   "cell_type": "markdown",
   "metadata": {},
   "source": [
    "### <tt>Aninhamento de Dicionários</tt>\n",
    "O Python é bastante flexível em termos de aninhamento de objetos e na chamada de métodos. Vamos ver um dicionário aninhado dentro de outro dicionário:"
   ]
  },
  {
   "cell_type": "code",
   "execution_count": 111,
   "metadata": {},
   "outputs": [
    {
     "data": {
      "text/plain": [
       "{'chave1': {'ch_aninh': {'ch_sub_aninh': 1000}}}"
      ]
     },
     "execution_count": 111,
     "metadata": {},
     "output_type": "execute_result"
    }
   ],
   "source": [
    "d = {'chave1':{'ch_aninh':{'ch_sub_aninh':1000}}}\n",
    "d"
   ]
  },
  {
   "cell_type": "code",
   "execution_count": 112,
   "metadata": {},
   "outputs": [
    {
     "data": {
      "text/plain": [
       "1000"
      ]
     },
     "execution_count": 112,
     "metadata": {},
     "output_type": "execute_result"
    }
   ],
   "source": [
    "d['chave1']['ch_aninh']['ch_sub_aninh']"
   ]
  },
  {
   "cell_type": "code",
   "execution_count": 114,
   "metadata": {},
   "outputs": [
    {
     "name": "stdout",
     "output_type": "stream",
     "text": [
      "{1: {'nome': 'Maria', 'idade': 25, 'sexo': 'Fem.', 'cor': 'branca'}, 2: {'nome': 'Luiz', 'idade': 35, 'sexo': 'Masc.'}}\n",
      "Maria,  Luiz\n",
      "{1: {'nome': 'Maria', 'idade': 25, 'sexo': 'Fem.', 'cor': 'branca'}, 2: {'nome': 'Luiz', 'idade': 35, 'sexo': 'Masc.'}, 3: {'nome': 'Ana', 'idade': 19, 'sexo': 'Fem.', 'casada': False}}\n",
      "\n",
      "Identificação: 1\n",
      "nome :  Maria\n",
      "idade :  25\n",
      "sexo :  Fem.\n",
      "cor :  branca\n",
      "\n",
      "Identificação: 2\n",
      "nome :  Luiz\n",
      "idade :  35\n",
      "sexo :  Masc.\n",
      "\n",
      "Identificação: 3\n",
      "nome :  Ana\n",
      "idade :  19\n",
      "sexo :  Fem.\n",
      "casada :  False\n"
     ]
    }
   ],
   "source": [
    "pessoas = {1: {'nome':'Maria', 'idade':25, 'sexo':'Fem.','cor':'branca'}, 2: {'nome':'Luiz', 'idade':35, 'sexo':'Masc.'} }\n",
    "print(pessoas)\n",
    "print(pessoas[1]['nome'] + ', ', pessoas[2]['nome'])\n",
    "pessoas[3] = {'nome':'Ana','idade':19,'sexo':'Fem.','casada':False}\n",
    "print(pessoas)\n",
    "\n",
    "for id, info in pessoas.items():\n",
    "  print(\"\\nIdentificação:\", id)\n",
    "  for caracteristica in info:\n",
    "    print(caracteristica, ': ', info[caracteristica])"
   ]
  },
  {
   "cell_type": "markdown",
   "metadata": {},
   "source": [
    "### <tt>Abrangência de Dicionário</tt>\n",
    "A abrangência do dicionário é uma maneira elegante e concisa de criar um novo dicionário a partir de um __objeto iterável__ em Python. A abrangência do dicionário consiste num par __chave:valor__ seguido por uma instrução entre chaves `{ }`. Aqui está um exemplo para criar um dicionário em que cada item será um par formado por um número e o valor do seu cubo."
   ]
  },
  {
   "cell_type": "code",
   "execution_count": 116,
   "metadata": {},
   "outputs": [
    {
     "name": "stdout",
     "output_type": "stream",
     "text": [
      "{0: 0, 1: 1, 2: 8, 3: 27, 4: 64, 5: 125, 6: 216, 7: 343, 8: 512, 9: 729}\n"
     ]
    }
   ],
   "source": [
    "cubos = {x : x**3 for x in range(10)}\n",
    "print(cubos)"
   ]
  },
  {
   "cell_type": "code",
   "execution_count": 117,
   "metadata": {},
   "outputs": [
    {
     "name": "stdout",
     "output_type": "stream",
     "text": [
      "{0: 0, 1: 1, 2: 8, 3: 27, 4: 64, 5: 125, 6: 216, 7: 343, 8: 512, 9: 729}\n"
     ]
    }
   ],
   "source": [
    "# Código equivalente usando a sentença 'for':\n",
    "cubos = { }\n",
    "for x in range(10):\n",
    "   cubos[x] = x**3\n",
    "print(cubos)"
   ]
  },
  {
   "cell_type": "markdown",
   "metadata": {},
   "source": [
    "Uma abrangência de dicionário, opcionalmente, pode conter mais instruções `for` ou `if`. Uma instrução `if` pode filtrar itens na formação do novo dicionário. Veja um exemplo para criar um dicionário com apenas chaves ímpares."
   ]
  },
  {
   "cell_type": "code",
   "execution_count": 118,
   "metadata": {
    "scrolled": false
   },
   "outputs": [
    {
     "name": "stdout",
     "output_type": "stream",
     "text": [
      "{1: 1, 3: 9, 5: 25, 7: 49, 9: 81}\n"
     ]
    }
   ],
   "source": [
    "quadrados_imp = {x: x*x for x in range(11) if x%2 == 1}\n",
    "print(quadrados_imp)"
   ]
  },
  {
   "cell_type": "markdown",
   "metadata": {},
   "source": [
    "### <tt>Teste de Associação ao Dicionário</tt>\n",
    "Podemos testar se uma chave está num dicionário ou não usando a palavra-chave `in`. Observe que o teste de associação é válido somente para chaves, não para valores. Para investigar a associação de um valor deve-se explicitar o acesso aos valores com o método `values()`."
   ]
  },
  {
   "cell_type": "code",
   "execution_count": 122,
   "metadata": {},
   "outputs": [
    {
     "name": "stdout",
     "output_type": "stream",
     "text": [
      "{1: 1, 3: 9, 5: 25, 7: 49, 9: 81}\n",
      "True\n",
      "False\n",
      "True\n",
      "True\n"
     ]
    }
   ],
   "source": [
    "print(quadrados_imp)\n",
    "print(1 in quadrados_imp)\n",
    "print(2 in quadrados_imp)\n",
    "print(7 in quadrados_imp)\n",
    "print(49 in quadrados_imp.values())"
   ]
  },
  {
   "cell_type": "markdown",
   "metadata": {},
   "source": [
    "### <tt>Iterando pelos Itens de um Dicionário </tt>\n",
    "Usando um laço `for`, podemos iterar por cada uma das chaves do dicionário"
   ]
  },
  {
   "cell_type": "code",
   "execution_count": 125,
   "metadata": {},
   "outputs": [
    {
     "name": "stdout",
     "output_type": "stream",
     "text": [
      "{1: 1, 3: 9, 5: 25, 7: 49, 9: 81}\n",
      "1 : 1, 3 : 9, 5 : 25, 7 : 49, 9 : 81, "
     ]
    }
   ],
   "source": [
    "print(quadrados_imp)\n",
    "for i in quadrados_imp:\n",
    "   print(i,\":\",quadrados_imp[i],end=\", \")"
   ]
  },
  {
   "cell_type": "markdown",
   "metadata": {},
   "source": [
    "Funções incorporadas aplicáveis aos dicionários:`all(), any(), len(), cmp(), sorted()` etc.\n",
    "\n",
    "|     Função     |    Descrição                                                                                               |\n",
    "|:--------------:|:-----------------------------------------------------------------------------------------------------------|\n",
    "|      all()     |    Retorna True   se todas as chaves do dicionário são verdadeiras (ou se o dicionário está   vazio)       |\n",
    "|      any()     |    Retorna True   se qualquer chave do dicionário é verdadeira. Se o dicionário está vazio,   retorna False|\n",
    "|      len()     |    Retorna o comprimento (a   quantidade de itens) do dicionário                                           |\n",
    "|      cmp()     |    Compara os itens de dois   dicionários                                                                  |\n",
    "|    sorted()    |    Retorna uma nova lista   ordenada de chaves/valores do dicionário                                       |\n",
    "\n",
    "|      Método      |    Descrição                                                                                             |\n",
    "|:----------------:|----------------------------------------------------------------------------------------------------------|\n",
    "|      copy()      |    Retorna uma cópia profunda   do dicionário, um novo objeto é criado na memória contendo todos os pares do   dicionário fonte da cópia |\n",
    "|    fromkeys()    |    Retorna um novo dicionário   cujas chaves são os elementos de lista (prim. Parâmetro) e cujos valores são   todos iguais a valor (seg. parâmetro)   |\n",
    "|     update()     |    Atualiza um dicionário com   os elementos de outro. Os itens do outro dic são adicionados um a um ao   dicionário original                           |\n"
   ]
  },
  {
   "cell_type": "code",
   "execution_count": 135,
   "metadata": {},
   "outputs": [
    {
     "name": "stdout",
     "output_type": "stream",
     "text": [
      "{1: 1, 3: 9, 5: 25, 7: 49, 9: 81}\n",
      "5\n",
      "[1, 3, 5, 7, 9]\n",
      "[1, 9, 25, 49, 81]\n"
     ]
    }
   ],
   "source": [
    "print(quadrados_imp)\n",
    "print(len(quadrados_imp))\n",
    "print(sorted(quadrados_imp))\n",
    "print(sorted(quadrados_imp.values()))"
   ]
  },
  {
   "cell_type": "code",
   "execution_count": 137,
   "metadata": {},
   "outputs": [
    {
     "data": {
      "text/plain": [
       "{'sobe': 'desce', 'certo': 'errado', 'verdadeiro': 'falso'}"
      ]
     },
     "execution_count": 137,
     "metadata": {},
     "output_type": "execute_result"
    }
   ],
   "source": [
    "antonimos = {'sobe':'desce', 'certo':'errado', 'verdadeiro':'falso'}\n",
    "antonimos"
   ]
  },
  {
   "cell_type": "code",
   "execution_count": 138,
   "metadata": {},
   "outputs": [
    {
     "data": {
      "text/plain": [
       "{'sobe': 'desce', 'certo': 'errado', 'verdadeiro': 'falso'}"
      ]
     },
     "execution_count": 138,
     "metadata": {},
     "output_type": "execute_result"
    }
   ],
   "source": [
    "opostos = antonimos\n",
    "opostos"
   ]
  },
  {
   "cell_type": "code",
   "execution_count": 139,
   "metadata": {},
   "outputs": [
    {
     "name": "stdout",
     "output_type": "stream",
     "text": [
      "{'sobe': 'desce', 'certo': 'incerto', 'verdadeiro': 'falso'}\n"
     ]
    },
    {
     "data": {
      "text/plain": [
       "{'sobe': 'desce', 'certo': 'incerto', 'verdadeiro': 'falso'}"
      ]
     },
     "execution_count": 139,
     "metadata": {},
     "output_type": "execute_result"
    }
   ],
   "source": [
    "opostos['certo'] = 'incerto'\n",
    "print(antonimos)\n",
    "copia = antonimos.copy()          # cópia profunda\n",
    "copia"
   ]
  },
  {
   "cell_type": "code",
   "execution_count": 141,
   "metadata": {},
   "outputs": [
    {
     "name": "stdout",
     "output_type": "stream",
     "text": [
      "{'sobe': 'desce', 'certo': 'incerto', 'verdadeiro': 'falso'}\n",
      "{'sobe': 'desce', 'certo': 'duvidoso', 'verdadeiro': 'falso'}\n",
      "{'sobe': 'desce', 'certo': 'incerto', 'verdadeiro': 'falso'}\n"
     ]
    }
   ],
   "source": [
    "copia['certo'] = 'duvidoso'\n",
    "print(antonimos)\n",
    "print(copia)\n",
    "print(opostos)"
   ]
  },
  {
   "cell_type": "markdown",
   "metadata": {},
   "source": [
    "<hr>"
   ]
  },
  {
   "cell_type": "code",
   "execution_count": 147,
   "metadata": {},
   "outputs": [
    {
     "name": "stdout",
     "output_type": "stream",
     "text": [
      "{'Carla': [1, 2], 'Maria': [3, 4]}\n",
      "{'Carla': [0], 'Maria': [3, 4]}\n"
     ]
    }
   ],
   "source": [
    "x = {\"Carla\":[1,2], \"Maria\":[3,4]}\n",
    "y = x.copy()                        # cópia profunda\n",
    "y['Carla'] = [0]\n",
    "print(x)\n",
    "print(y)"
   ]
  },
  {
   "cell_type": "code",
   "execution_count": 148,
   "metadata": {},
   "outputs": [
    {
     "data": {
      "text/plain": [
       "{'Carla': [0], 'Maria': [3, 4], 'Mariana': [5, 6]}"
      ]
     },
     "execution_count": 148,
     "metadata": {},
     "output_type": "execute_result"
    }
   ],
   "source": [
    "y[\"Mariana\"] = [5,6]\n",
    "y"
   ]
  },
  {
   "cell_type": "code",
   "execution_count": 149,
   "metadata": {},
   "outputs": [
    {
     "data": {
      "text/plain": [
       "{'Carla': [1, 2, 3], 'Maria': [3, 4]}"
      ]
     },
     "execution_count": 149,
     "metadata": {},
     "output_type": "execute_result"
    }
   ],
   "source": [
    "x[\"Carla\"] = x[\"Carla\"] + [3]        # anexação de elemento a uma lista\n",
    "x"
   ]
  },
  {
   "cell_type": "code",
   "execution_count": 151,
   "metadata": {},
   "outputs": [
    {
     "name": "stdout",
     "output_type": "stream",
     "text": [
      "{'Carla': [0], 'Maria': [3, 4], 'Mariana': [5, 6]}\n"
     ]
    }
   ],
   "source": [
    "print(y)\n",
    "# print(id(x), id(y))"
   ]
  },
  {
   "cell_type": "code",
   "execution_count": 152,
   "metadata": {},
   "outputs": [
    {
     "name": "stdout",
     "output_type": "stream",
     "text": [
      "{'a': 1, 'b': 7, 'c': 3, 'z': 9} {'z': 9, 'b': 7}\n"
     ]
    }
   ],
   "source": [
    "z = {\"a\":1, \"b\":2, \"c\":3}\n",
    "q = {\"z\":9, \"b\":7}\n",
    "z.update(q)\n",
    "print(z, q)"
   ]
  },
  {
   "cell_type": "markdown",
   "metadata": {},
   "source": [
    "### <tt>Matriz Esparsa e Dicionário</tt>\n",
    "Considere a seguinte matriz esparsa:"
   ]
  },
  {
   "cell_type": "markdown",
   "metadata": {},
   "source": [
    "<img src=\"img/matriz_esparsa.png\" alt=\"figura de uma matriz esparsa\">\n",
    "\n",
    "Uma representação dessa matriz usando uma lista terá muitos zeros:"
   ]
  },
  {
   "cell_type": "code",
   "execution_count": 153,
   "metadata": {},
   "outputs": [],
   "source": [
    "matriz = [ [0, 0, 0, 1, 0],\n",
    "           [0, 0, 0, 0, 0],\n",
    "           [0, 2, 0, 0, 0],\n",
    "           [0, 0, 0, 0, 0],\n",
    "           [0, 0, 0, 3, 0] ]"
   ]
  },
  {
   "cell_type": "markdown",
   "metadata": {},
   "source": [
    "Uma alternativa para economizar memória é usarmos um dicionário. Para as chaves usaremos tuplas com os índices da linha e da coluna:"
   ]
  },
  {
   "cell_type": "code",
   "execution_count": 154,
   "metadata": {},
   "outputs": [],
   "source": [
    "esparsa = {(0,3): 1, (2, 1): 2, (4, 3): 3}"
   ]
  },
  {
   "cell_type": "markdown",
   "metadata": {},
   "source": [
    "Nós precisamos apenas de três itens __chave:valor__ para armazenar os valores diferentes de zero da matriz. Cada __chave__ é uma tupla com informação da linha e coluna do elemento não nulo, e cada __valor__ é o valor não nulo (número inteiro) a ser armazenado.\n",
    "\n",
    "Para acessarmos um elemento da matriz armazenada na __lista__ utilizamos o operador de indexação [ ]. Por exemplo, para acessar o primeiro elemento não nulo da matriz: "
   ]
  },
  {
   "cell_type": "code",
   "execution_count": 155,
   "metadata": {},
   "outputs": [
    {
     "data": {
      "text/plain": [
       "1"
      ]
     },
     "execution_count": 155,
     "metadata": {},
     "output_type": "execute_result"
    }
   ],
   "source": [
    "matriz[0][3]"
   ]
  },
  {
   "cell_type": "markdown",
   "metadata": {},
   "source": [
    "Note que a sintaxe da representação de um dicionário não é a mesma usada na representação das listas. Em vez de usarmos dois índices inteiros, nós usamos apenas um índice, que nesse caso, é uma tupla formada a partir dos dois valores inteiros referentes à linha e coluna dos elementos não nulos.\n",
    "\n",
    "Mas temos um problema com essa alternativa... Se tentarmos buscar um elemento zero, obteremos um erro, pois não existe uma entrada no dicionário para a chave especificada, 0 (zero):"
   ]
  },
  {
   "cell_type": "code",
   "execution_count": 156,
   "metadata": {},
   "outputs": [
    {
     "name": "stdout",
     "output_type": "stream",
     "text": [
      "0\n",
      "1\n"
     ]
    },
    {
     "ename": "KeyError",
     "evalue": "(1, 3)",
     "output_type": "error",
     "traceback": [
      "\u001b[1;31m---------------------------------------------------------------------------\u001b[0m",
      "\u001b[1;31mKeyError\u001b[0m                                  Traceback (most recent call last)",
      "\u001b[1;32m<ipython-input-156-effd87709bea>\u001b[0m in \u001b[0;36m<module>\u001b[1;34m\u001b[0m\n\u001b[0;32m      1\u001b[0m \u001b[0mprint\u001b[0m\u001b[1;33m(\u001b[0m\u001b[0mmatriz\u001b[0m\u001b[1;33m[\u001b[0m\u001b[1;36m1\u001b[0m\u001b[1;33m]\u001b[0m\u001b[1;33m[\u001b[0m\u001b[1;36m3\u001b[0m\u001b[1;33m]\u001b[0m\u001b[1;33m)\u001b[0m\u001b[1;33m\u001b[0m\u001b[1;33m\u001b[0m\u001b[0m\n\u001b[0;32m      2\u001b[0m \u001b[0mprint\u001b[0m\u001b[1;33m(\u001b[0m\u001b[0mesparsa\u001b[0m\u001b[1;33m[\u001b[0m\u001b[1;36m0\u001b[0m\u001b[1;33m,\u001b[0m\u001b[1;36m3\u001b[0m\u001b[1;33m]\u001b[0m\u001b[1;33m)\u001b[0m\u001b[1;33m\u001b[0m\u001b[1;33m\u001b[0m\u001b[0m\n\u001b[1;32m----> 3\u001b[1;33m \u001b[0mprint\u001b[0m\u001b[1;33m(\u001b[0m\u001b[0mesparsa\u001b[0m\u001b[1;33m[\u001b[0m\u001b[1;36m1\u001b[0m\u001b[1;33m,\u001b[0m\u001b[1;36m3\u001b[0m\u001b[1;33m]\u001b[0m\u001b[1;33m)\u001b[0m\u001b[1;33m\u001b[0m\u001b[1;33m\u001b[0m\u001b[0m\n\u001b[0m",
      "\u001b[1;31mKeyError\u001b[0m: (1, 3)"
     ]
    }
   ],
   "source": [
    "print(matriz[1][3])\n",
    "print(esparsa[0,3])\n",
    "print(esparsa[1,3])"
   ]
  },
  {
   "cell_type": "markdown",
   "metadata": {},
   "source": [
    "Podemos usar o método `get()` para resolver essa questão:"
   ]
  },
  {
   "cell_type": "code",
   "execution_count": 157,
   "metadata": {},
   "outputs": [
    {
     "data": {
      "text/plain": [
       "1"
      ]
     },
     "execution_count": 157,
     "metadata": {},
     "output_type": "execute_result"
    }
   ],
   "source": [
    "esparsa.get((0,3), 0)"
   ]
  },
  {
   "cell_type": "markdown",
   "metadata": {},
   "source": [
    "O primeiro parâmetro do `get()` é a __chave__ buscada, e o segundo parâmetro é o __valor__ que o `get()` retornará caso a chave não exista no dicionário. Exemplo:"
   ]
  },
  {
   "cell_type": "code",
   "execution_count": 158,
   "metadata": {
    "scrolled": true
   },
   "outputs": [
    {
     "data": {
      "text/plain": [
       "0"
      ]
     },
     "execution_count": 158,
     "metadata": {},
     "output_type": "execute_result"
    }
   ],
   "source": [
    "esparsa.get((1,3),0)"
   ]
  },
  {
   "cell_type": "markdown",
   "metadata": {},
   "source": [
    "### <a style=\"color: red\">Exercícios</a>\n",
    "1.\tDada uma palavra, só com letras minúsculas, entrada pelo usuário, mostre a quantidade de letras na palavra.\n",
    "2.\tDada uma palavra, só com letras minúsculas, entrada pelo usuário, mostre a ocorrência de cada letra da palavra (histograma = contagem de frequência), usando lista.\n",
    "3.\tDada uma palavra, só com letras minúsculas, entrada pelo usuário, mostre a ocorrência de cada letra da palavra (histograma = contagem de frequência), usando dicionário."
   ]
  },
  {
   "cell_type": "markdown",
   "metadata": {},
   "source": [
    "## Modelo de Dados\n",
    "### Objetos, Valores e Tipos \n",
    "Objetos são abstrações do Python para armazenar dados. Todos os dados num programa Python são representados por objetos ou por relações entre objetos. Todo objeto tem uma __identidade__, um __tipo__ e um __valor__. A identidade de um objeto nunca muda depois de criada. Pode-se pensar nisso como sendo o endereço do objeto na memória. O operador `is` compara a identidade de dois objetos e a função `id()` retorna um inteiro representando a identidade do objeto.\n",
    "\n",
    "O tipo de um objeto determina as operações que o objeto suporta (por exemplo, \"ele tem um comprimento?\") E também define os valores possíveis para objetos desse tipo. A função type () retorna o tipo de objeto (que é um objeto em si). Como sua identidade, o tipo de objeto também é imutável. 1 \n",
    "\n",
    "O valor de alguns objetos pode mudar. Objetos cujo valor pode mudar são considerados mutáveis; objetos cujo valor é imutável depois de criados são chamados de imutáveis. (O valor de um objeto contêiner imutável que contém uma referência a um objeto mutável pode mudar quando o valor deste é alterado; no entanto, o contêiner ainda é considerado imutável, porque a coleção de objetos que ele contém não pode ser alterada. o mesmo que ter um valor imutável, é mais sutil.) A mutabilidade de um objeto é determinada por seu tipo; por exemplo, números, strings e tuplas são imutáveis, enquanto dicionários e listas são mutáveis. \n",
    "\n",
    "Objetos nunca são explicitamente destruídos; no entanto, quando eles se tornam inacessíveis, eles podem ser coletados como lixo. Uma implementação tem permissão para adiar a coleta de lixo ou omiti-la completamente - é uma questão de qualidade da implementação como a coleta de lixo é implementada, desde que nenhum objeto seja coletado e que ainda esteja acessível.\n",
    "\n",
    "(Fonte: https://docs.python.org/3/reference/datamodel.html)"
   ]
  },
  {
   "cell_type": "markdown",
   "metadata": {},
   "source": [
    "<p style=\"text-align:right;\"><a href=\"#topo\">Volta ao topo</a>"
   ]
  },
  {
   "cell_type": "markdown",
   "metadata": {
    "collapsed": true
   },
   "source": [
    "Fonte: E:\\python\\bibliografia\\Scipy_Lectures"
   ]
  }
 ],
 "metadata": {
  "kernelspec": {
   "display_name": "Python 3",
   "language": "python",
   "name": "python3"
  },
  "language_info": {
   "codemirror_mode": {
    "name": "ipython",
    "version": 3
   },
   "file_extension": ".py",
   "mimetype": "text/x-python",
   "name": "python",
   "nbconvert_exporter": "python",
   "pygments_lexer": "ipython3",
   "version": "3.7.2"
  }
 },
 "nbformat": 4,
 "nbformat_minor": 2
}
