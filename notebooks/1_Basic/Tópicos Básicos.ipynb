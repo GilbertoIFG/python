{
 "cells": [
  {
   "cell_type": "markdown",
   "metadata": {},
   "source": [
    "<a id=\"topo\"></a>\n",
    "# Tópicos Básicos em Python\n",
    "0.  [Preliminares](#0.)\n",
    "1.\t<a href=\"#1.\">Variáveis e Operações</a>\n",
    "2.\t[Tipos de Dados e Conversões](#2.)\n",
    "3.\t<a href=\"#3.\">String</a>\n",
    "4.\t<a href=\"#4.\">Intervalo</a>\n",
    "5.\t<a href=\"#5.\">Lista</a>\n",
    "6.\t<a href=\"#6.\">Tupla</a>\n",
    "7.\t<a href=\"#7.\">Conjunto</a>\n",
    "8.\t<a href=\"#8.\">Dicionário</a>\n",
    "9.\t<a href=\"#9.\">Entrada de Dados</a>\n",
    "10.\t<a href=\"#10.\">Controle de Fluxo de Execução</a>\n",
    "11.\t<a href=\"#11.\">Função Definida pelo Usuário</a>\n",
    "12.\t<a href=\"#12.\">Funções Incorporadas</a>\n",
    "13.\t<a href=\"#13.\">Arquivos de E/S</a>\n",
    "14.\t<a href=\"#14.\">Exceções</a>"
   ]
  },
  {
   "cell_type": "markdown",
   "metadata": {},
   "source": [
    "<a id=\"0.\"></a>\n",
    "### Versão em Uso\n",
    "Para se certificar da versão do interpretador Python que está em uso, digite:"
   ]
  },
  {
   "cell_type": "code",
   "execution_count": 99,
   "metadata": {},
   "outputs": [
    {
     "name": "stdout",
     "output_type": "stream",
     "text": [
      "Versão Python em uso:  3.7.2\n"
     ]
    }
   ],
   "source": [
    "# verificação da versão do interpretador Python em uso\n",
    "import sys\n",
    "versao = sys.version\n",
    "print('Versão Python em uso: ',versao.split(' ')[0])"
   ]
  },
  {
   "cell_type": "markdown",
   "metadata": {},
   "source": [
    "### Saída de Dados: `print`\n",
    "\n",
    "<u>Versão 2.7</u>:  é um comando de saída de dados no dispositivo `stdout`.\n",
    "\n",
    "<u>Versão 3.7</u>:  é uma função que realiza a saída de dados no dispositivo `stdout`"
   ]
  },
  {
   "cell_type": "code",
   "execution_count": 70,
   "metadata": {},
   "outputs": [
    {
     "name": "stdout",
     "output_type": "stream",
     "text": [
      "Versão Python:  3.7.2 (tags/v3.7.2:9a3ffc0492, Dec 23 2018, 23:09:28) [MSC v.1916 64 bit (AMD64)]\n",
      "Help on built-in function print in module builtins:\n",
      "\n",
      "print(...)\n",
      "    print(value, ..., sep=' ', end='\\n', file=sys.stdout, flush=False)\n",
      "    \n",
      "    Prints the values to a stream, or to sys.stdout by default.\n",
      "    Optional keyword arguments:\n",
      "    file:  a file-like object (stream); defaults to the current sys.stdout.\n",
      "    sep:   string inserted between values, default a space.\n",
      "    end:   string appended after the last value, default a newline.\n",
      "    flush: whether to forcibly flush the stream.\n",
      "\n"
     ]
    }
   ],
   "source": [
    "help(print)"
   ]
  },
  {
   "cell_type": "markdown",
   "metadata": {},
   "source": [
    "### Constantes\n",
    "Python suporta quatro tipos de dados numéricos diferentes:\n",
    "- `int` (inteiros com sinal): Eles geralmente são chamados de inteiros ou _ints_, e são números inteiros (sem ponto decimal) positivos ou negativos. \n",
    "- `long` (inteiros longos): Também chamados de _longs_, são inteiros de tamanho \"ilimitado\". No python2 são escritos como inteiros seguidos da letra `L` (maiúscula ou minúscula). \n",
    "- `float` (valores reais de ponto flutuante): Também chamados de _floats_, eles representam números reais e são escritos com um ponto decimal dividindo as partes inteira e fracionária. Números _floats_ também podem ser escritos em notação científica, com `E` ou `e` indicando a potência de 10 ($2.5e2 = 2.5 x 10^2 = 250$). \n",
    "- `complex` (números complexos): são da forma `a + bj`, onde `a` e `b` são _floats_ e `j` (ou `J`) representa a raiz quadrada de -1, $\\sqrt{-1}$, (número imaginário). A parte real do número é `a`, e a parte imaginária é `b`."
   ]
  },
  {
   "cell_type": "markdown",
   "metadata": {},
   "source": [
    "|<center>int</center>|</center>long</center>|</center>float</center>|</center>complex</center>|\n",
    "|:-:|:-:|:-:|:-:|\n",
    "|10|51924361|0.0|3.14j|\n",
    "|100|-0x19323|15.20|45.j|\n",
    "|-786|122|-21.9|9.322e-36j|\n",
    "|0x80|0xDEFABCECBDAECBFBAE|32.3+e18|.876j|\n",
    "|-490|535633629843|-90.|-.6545+0J|\n",
    "|-0x260|-052318172735|-32.54e100|3e+26J|\n",
    "|0x69|-4721885298529|70.2-E12|4.53e-7j|\n",
    "\n",
    "Fonte: https://www.tutorialspoint.com/python/python_numbers.htm"
   ]
  },
  {
   "cell_type": "code",
   "execution_count": 52,
   "metadata": {},
   "outputs": [
    {
     "data": {
      "text/plain": [
       "(4.1132447604680494e+21, 0.876j, (-0.6545+0j), 0.0)"
      ]
     },
     "execution_count": 52,
     "metadata": {},
     "output_type": "execute_result"
    }
   ],
   "source": [
    "float(0xDEFABCECBDAECBFBAE), .876j, -.6545+0J, (4.53e-7j).real"
   ]
  },
  {
   "cell_type": "markdown",
   "metadata": {},
   "source": [
    "<p style=\"text-align:right;\"><a href=\"#topo\">Volta ao topo</a></p>"
   ]
  },
  {
   "cell_type": "markdown",
   "metadata": {},
   "source": [
    "<a id=\"1.\"></a>\n",
    "## 1. Varíaveis e Operações"
   ]
  },
  {
   "cell_type": "markdown",
   "metadata": {},
   "source": [
    "###  Identificadores \n",
    "Existem regras que devem ser seguidas para nomear identificadores (nomes de variáveis, funções, classes etc.) em Python. \n",
    "1. Você não pode usar palavras-chave como identificadores. "
   ]
  },
  {
   "cell_type": "code",
   "execution_count": 92,
   "metadata": {},
   "outputs": [
    {
     "ename": "SyntaxError",
     "evalue": "can't assign to keyword (<ipython-input-92-7a501964a9b5>, line 1)",
     "output_type": "error",
     "traceback": [
      "\u001b[1;36m  File \u001b[1;32m\"<ipython-input-92-7a501964a9b5>\"\u001b[1;36m, line \u001b[1;32m1\u001b[0m\n\u001b[1;33m    True = 6\u001b[0m\n\u001b[1;37m             ^\u001b[0m\n\u001b[1;31mSyntaxError\u001b[0m\u001b[1;31m:\u001b[0m can't assign to keyword\n"
     ]
    }
   ],
   "source": [
    "True = 6 "
   ]
  },
  {
   "cell_type": "markdown",
   "metadata": {},
   "source": [
    "2. Os identificadores podem ser uma combinação de caracteres alfanuméricos (a-z, A-Z e 0-9) e sublinhados (_). \n",
    "\n",
    "\n",
    "3. Um identificador não pode começar com um dígito. Significado 1 variável não é válido enquanto variável1 é válido. "
   ]
  },
  {
   "cell_type": "code",
   "execution_count": 93,
   "metadata": {},
   "outputs": [
    {
     "ename": "SyntaxError",
     "evalue": "invalid syntax (<ipython-input-93-326bd0e041aa>, line 1)",
     "output_type": "error",
     "traceback": [
      "\u001b[1;36m  File \u001b[1;32m\"<ipython-input-93-326bd0e041aa>\"\u001b[1;36m, line \u001b[1;32m1\u001b[0m\n\u001b[1;33m    1variavel = 6\u001b[0m\n\u001b[1;37m            ^\u001b[0m\n\u001b[1;31mSyntaxError\u001b[0m\u001b[1;31m:\u001b[0m invalid syntax\n"
     ]
    }
   ],
   "source": [
    "1variavel = 6 "
   ]
  },
  {
   "cell_type": "markdown",
   "metadata": {},
   "source": [
    "4. Usar caracteres especiais como @, #, $ etc não é permitido. "
   ]
  },
  {
   "cell_type": "code",
   "execution_count": 94,
   "metadata": {},
   "outputs": [
    {
     "ename": "SyntaxError",
     "evalue": "invalid syntax (<ipython-input-94-2eb01d3a5ef1>, line 1)",
     "output_type": "error",
     "traceback": [
      "\u001b[1;36m  File \u001b[1;32m\"<ipython-input-94-2eb01d3a5ef1>\"\u001b[1;36m, line \u001b[1;32m1\u001b[0m\n\u001b[1;33m    variável@ = 6\u001b[0m\n\u001b[1;37m              ^\u001b[0m\n\u001b[1;31mSyntaxError\u001b[0m\u001b[1;31m:\u001b[0m invalid syntax\n"
     ]
    }
   ],
   "source": [
    "variável@ = 6 "
   ]
  },
  {
   "cell_type": "markdown",
   "metadata": {},
   "source": [
    "Identificadores podem ser de qualquer tamanho em python. Mas o guia de estilo padrão do Python, o PEP-8 (_Python Enhancement Proposal_ - Proposta de aprimoramento do Python), limita o comprimento da linha a um máximo de 79 caracteres."
   ]
  },
  {
   "cell_type": "markdown",
   "metadata": {},
   "source": [
    "### Atribuição de Valor\n",
    "Um sinal de igualdade `=` é usado para atribuir (armazenar) um valor a uma variável, como ocorre na grande maioria das linguagens de programação de computadores. Em Python, os tipos de dados numéricos são imutáveis, de forma que toda atribuição de um valor numérico a uma variável cria um novo objeto numérico.\n",
    "\n",
    "Sempre que pressionarmos qualquer tecla numérica, letra ou instrução no console do Python seguida da tecla [Enter], a resposta do interpretador Python ao comando será mostrada na linha seguinte. Mas, se atribuirmos um valor a uma variável, à esquerda do sinal de igual `=`, e pressionarmos [Enter], nenhuma informação será exibida na linha seguinte. Apenas o resultado da expressão digitada ao lado direito do sinal de igualdade será armazenada na variável. \n",
    "\n",
    "Uma variável é como uma pequena caixa na memória do computador, na qual se armazena qualquer informação. Quando declaramos uma variável, o computador aloca determinada memória para armazenar essa variável. O endereço de memória de cada variável é único. "
   ]
  },
  {
   "cell_type": "markdown",
   "metadata": {},
   "source": [
    "Exemplos de atribuição de valores a variáveis (criação de variáveis) e apresentação de seus conteúdos usando `print`:"
   ]
  },
  {
   "cell_type": "code",
   "execution_count": 16,
   "metadata": {},
   "outputs": [
    {
     "name": "stdout",
     "output_type": "stream",
     "text": [
      "Python + Machine Learning = Sucesso\n",
      "2019\n",
      "2029\n"
     ]
    }
   ],
   "source": [
    "x = 'Python + Machine Learning = Sucesso'    # criação e atribuição de valor para var. 'x'\n",
    "print(x)                                     # apresentação do conteúdo da var. 'x'\n",
    "ML = 2019                                    # criação e atribuição de valor para var. 'ML'\n",
    "xl = ML + 10                                 # criação e atribuição de valor para var. 'xl'\n",
    "print(ML)                                    # apresentação do conteúdo da var. 'ML'\n",
    "print(xl)                                    # apresentação do conteúdo da var. 'xl'"
   ]
  },
  {
   "cell_type": "markdown",
   "metadata": {},
   "source": [
    "No exemplo anterior, a string <tt>'Python + Machine Learning = Sucesso'</tt> é armazenada numa variável chamada `x`. No código seguinte, o comando (a função, Vs.>3) **print** apresenta o valor armazenado na variável `x`. Depois foi atribuído o valor 2019 à variável <tt>ML</tt>, e então mostrado na tela. Na linha seguinte foi feito uma operação aritmética de soma <tt>ML + 10</tt> e o resultado atribuído à variável `xl`, e então o resultado é mostrado na linha seguinte...\n",
    "\n",
    "Você pode excluir um único objeto (variável) ou vários objetos (variáveis) usando a instrução `del`. Por exemplo:"
   ]
  },
  {
   "cell_type": "code",
   "execution_count": 17,
   "metadata": {},
   "outputs": [
    {
     "ename": "NameError",
     "evalue": "name 'x' is not defined",
     "output_type": "error",
     "traceback": [
      "\u001b[1;31m-----------------------------------------------------------------\u001b[0m",
      "\u001b[1;31mNameError\u001b[0m                       Traceback (most recent call last)",
      "\u001b[1;32m<ipython-input-17-fac5a07ce21f>\u001b[0m in \u001b[0;36m<module>\u001b[1;34m\u001b[0m\n\u001b[0;32m      1\u001b[0m \u001b[1;32mdel\u001b[0m \u001b[0mML\u001b[0m\u001b[1;33m\u001b[0m\u001b[1;33m\u001b[0m\u001b[0m\n\u001b[0;32m      2\u001b[0m \u001b[1;32mdel\u001b[0m \u001b[0mx\u001b[0m\u001b[1;33m,\u001b[0m \u001b[0mxl\u001b[0m\u001b[1;33m\u001b[0m\u001b[1;33m\u001b[0m\u001b[0m\n\u001b[1;32m----> 3\u001b[1;33m \u001b[0mprint\u001b[0m\u001b[1;33m(\u001b[0m\u001b[0mx\u001b[0m\u001b[1;33m)\u001b[0m\u001b[1;33m\u001b[0m\u001b[1;33m\u001b[0m\u001b[0m\n\u001b[0m",
      "\u001b[1;31mNameError\u001b[0m: name 'x' is not defined"
     ]
    }
   ],
   "source": [
    "del ML\n",
    "del x, xl\n",
    "print(x)"
   ]
  },
  {
   "cell_type": "markdown",
   "metadata": {},
   "source": [
    "### Operadores Aritméticos\n",
    "Soma (+), subtração (-), multiplicação (\\*), divisão (/), resto da divisão inteira (%), divisão inteira (//), potenciação (\\*\\*). A prioridade de execução segue os padrões matemáticos. Usando parênteses pode-se definir que parte da operação será feita antes da operação."
   ]
  },
  {
   "cell_type": "markdown",
   "metadata": {},
   "source": [
    "<table>\n",
    "  <tr>\n",
    "    <th text-align:center;vertical-align:top>Operador</th> <th>Exemplo</th> <th text-align:left>Descrição</th>\n",
    "  </tr>\n",
    "  <tr>\n",
    "    <td align=center>+</td> <td align=center>a + b</td><td align=\"left\">Soma os operandos em ambos lados do operador.</td>\n",
    "  </tr>\n",
    "  <tr>\n",
    "    <td><center>-</center></td><td>a - b</td><td>Subtrai o operando do lado direito do operando do lado esquerdo.<td>\n",
    "  </tr>\n",
    "  <tr>\n",
    "    <td><center>\\*</center></td><td>a \\* b</td><td>Multiplica os operandos em ambos lados do operador.</td>\n",
    "  </tr>\n",
    "  <tr>\n",
    "    <td><center>/</center></td><td>a / b</td><td>Divide o operando do lado esquerdo pelo operando do lado direito do operador (python2: retorna valor inteiro se operandos são inteiros).</td>\n",
    "  </tr>\n",
    "  <tr>\n",
    "    <td><center>%</center></td><td>a % b</td><td>Retorna o resto da divisão inteira do operando do lado esquerdo pelo operando do lado direito do operador.</td>\n",
    "  </tr>\n",
    "  <tr>\n",
    "    <td><center>**</center></td><td>a ** b</td><td>Retorna a potenciação do operador do lado esquerdo elevado ao operador do lado direito do operador.</td>\n",
    "  </tr>\n",
    "  <tr>\n",
    "    <td><center>//</center></td><td>a // b</td><td>Retorna o quociente da divisão dos operandos, onde o resultado é do tipo inteiro. Mas se um dos operandos for negativo, o resultado é flutuante, isto é, arredondado para longe de zero (em direção ao infinito negativo).</td>\n",
    "  </tr>\n",
    "</table>"
   ]
  },
  {
   "cell_type": "code",
   "execution_count": 2,
   "metadata": {},
   "outputs": [
    {
     "data": {
      "text/plain": [
       "(-24, 72, -24, 2, 0.14285714285714285)"
      ]
     },
     "execution_count": 2,
     "metadata": {},
     "output_type": "execute_result"
    }
   ],
   "source": [
    "12-4*9, (12-4)*9, 12-(4*9), 8 % 3, 1/7"
   ]
  },
  {
   "cell_type": "markdown",
   "metadata": {},
   "source": [
    "**Atenção**: Divisão com operandos inteiros apresenta resultado também inteiro no python2. Naquele caso, para se obter resultado fracionário um dos operandos deve ser do tipo real (*float*)."
   ]
  },
  {
   "cell_type": "code",
   "execution_count": 3,
   "metadata": {},
   "outputs": [
    {
     "data": {
      "text/plain": [
       "(1.3333333333333333, 1.3333333333333333, 4.166666666666667, 4.0, 3, 1024)"
      ]
     },
     "execution_count": 3,
     "metadata": {},
     "output_type": "execute_result"
    }
   ],
   "source": [
    "8/6, 8./6, 12.5/3, 12.5//3, 13 % 5, 2**10"
   ]
  },
  {
   "cell_type": "markdown",
   "metadata": {},
   "source": [
    "**Operadores Relacionais**\n",
    "<table>\n",
    "  <tr>\n",
    "      <th>Operador</th><th>Exemplo</th><th align=\"left\">Descrição</th>\n",
    "  </tr>\n",
    "  <tr>\n",
    "    <td><center>==</center></td><td>a == b</td><td>Retorna True se os operandos são iguais, e retorna False caso contrário.</td>\n",
    "  </tr>\n",
    "  <tr>\n",
    "    <td><center>!=, <></center></td><td>a != b</td><td>Retorna True se os operandos são diferentes, e retorna False caso contrário.</td>\n",
    "  </tr>\n",
    "  <tr>\n",
    "    <td><center>></center></td><td>a > b</td><td>Retorna True se o operando do lado esquerdo do operador for maior que o operando do lado direito, e retorna False caso contrário.</td>\n",
    "  </tr>\n",
    "  <tr>\n",
    "    <td><center> < </center></td><td>a < b</td><td>Retorna True se o operando do lado esquerdo do operador for menor que o operando do lado direito, e retorna False caso contrário.</td>\n",
    "  </tr>\n",
    "  <tr>\n",
    "    <td><center>>=</center></td><td>a >= b</td><td>Retorna True se o operando do lado esquerdo do operador for maior ou igual ao operando do lado direito, e retorna False caso contrário.</td>\n",
    "  </tr>\n",
    "  <tr>\n",
    "    <td><center> <= </center></td><td>a <= b</td><td>Retorna True se o operando do lado esquerdo do operador for menor ou igual ao operando do lado direito, e retorna False caso contrário.</td>\n",
    "  </tr>\n",
    "</table>"
   ]
  },
  {
   "cell_type": "markdown",
   "metadata": {},
   "source": [
    "**Operadores Lógicos**\n",
    "<table>\n",
    "  <tr>\n",
    "    <th text-align: center;>Operador</th><th>Exemplo</th><th text-align: center;>Descrição</th>\n",
    "  </tr>\n",
    "  <tr>\n",
    "    <td><center> and </center></td><td>a and b</td><td>Retorna True se os operandos são True, e retorna False caso contrário.</td>\n",
    "  </tr>\n",
    "  <tr>\n",
    "    <td><center> or </center></td><td>a or b</td><td>Retorna True se qq. um dos operandos, ou ambos, são True, e retorna False caso contrário.</td>\n",
    "  </tr>\n",
    "  <tr>\n",
    "    <td><center> not </center></td><td> not a </td><td>Complementa o valor do operando lógico 'a'.</td>\n",
    "  </tr>\n",
    "</table>"
   ]
  },
  {
   "cell_type": "markdown",
   "metadata": {},
   "source": [
    "**Operadores bit a bit**: atua nos operandos no nível de bits.\n",
    "\n",
    "<table>\n",
    "  <tr>\n",
    "    <th><center> Operador </center></th><th>Exemplo</th><th>Descrição</th>\n",
    "  </tr>\n",
    "  <tr>\n",
    "    <td><center> & </center></td><td>a & b</td><td>Operação E: copia um bit para o resultado se ele existe em ambos operandos.</td>\n",
    "  </tr>\n",
    "  <tr>\n",
    "    <td><center> | </center></td><td>a | b</td><td>Operação OU: copia um bit para o resultado se ele existe em pelo menos um dos operandos.</td>\n",
    "  </tr>\n",
    "  <tr>\n",
    "    <td><center> ^ </center></td><td>a ^ b</td><td>Operação XOU: copia um bit para o resultado se ele estiver ligado (1) em um dos operandos, mas não em ambos.</td>\n",
    "  </tr>\n",
    "  <tr>\n",
    "    <td><center> ~ </center></td><td>~a</td><td>Operação Complemento 1: comuta os bits do operando 'a'.</td>\n",
    "  </tr>\n",
    "  <tr>\n",
    "    <td><center> << </center></td><td>a << b</td><td>Operação Deslocamento à Esquerda: desloca p/ esq. os bits do operando 'a' da quantidade de bits indicada pelo operando 'b'.</td>\n",
    "  </tr>\n",
    "  <tr>\n",
    "    <td><center> >> </center></td><td>a >> b</td><td>Operação Deslocamento à Direita: desloca p/ dir. os bits do operando 'a' da quantidade de bits indicada pelo operando 'b'.</td>\n",
    "  </tr>\n",
    "</table>"
   ]
  },
  {
   "cell_type": "markdown",
   "metadata": {},
   "source": [
    "**Operadores de Pertinência**: indica a existência/pertinência de um elemento num iterável.\n",
    "<table>\n",
    "  <tr>\n",
    "    <th><center> Operador </center></th><th>Exemplo</th><th text-align: center;>Descrição</th>\n",
    "  </tr>\n",
    "  <tr>\n",
    "    <td><center> in </center></td><td>a in b</td><td>Retorna True se o operando 'a' estiver presente na sequência 'b'.</td>\n",
    "  </tr>\n",
    "  <tr>\n",
    "    <td><center> not in </center></td><td>a not in b</td><td>Retorna True se o operando 'a' não estiver presente na sequência 'b'.</td>\n",
    "  </tr>\n",
    "</table>"
   ]
  },
  {
   "cell_type": "markdown",
   "metadata": {},
   "source": [
    "**Operadores de Identidade**: indica a existência/pertinência de um elemento num iterável.\n",
    "\n",
    "<table>\n",
    "  <tr>\n",
    "    <th><center> Operador </center></th><th>Exemplo</th><th>Descrição</th>\n",
    "  </tr>\n",
    "  <tr>\n",
    "    <td><center> is </center></td><td>x is &lt;tipo&gt;</td><td>Retorna True se  se ambos os operandos se referirem ao mesmo tipo de objeto.</td>\n",
    "  </tr>\n",
    "  <tr>\n",
    "    <td><center> is not </center></td><td>x is not &lt;tipo&gt;</td><td>Retorna False se as variáveis de cada lado do operador apontarem para o mesmo tipo de objeto e True de outra forma.</td>\n",
    "  </tr>\n",
    "</table>"
   ]
  },
  {
   "cell_type": "markdown",
   "metadata": {},
   "source": [
    "<p style=\"text-align:right;\"><a href=\"#topo\">Volta ao topo</a></p>"
   ]
  },
  {
   "cell_type": "markdown",
   "metadata": {},
   "source": [
    "<a id=\"2.\"></a>\n",
    "## 2. Tipos de Dado e Conversões de Tipos (*casting*)"
   ]
  },
  {
   "cell_type": "markdown",
   "metadata": {},
   "source": [
    "Os Dados em Python podem ser manipulados via um dos cinco tipos citados a seguir: Números, None, Sequências (listas, tuplas), Conjuntos ou Mapeamentos.\n",
    "\n",
    "Exemplos:"
   ]
  },
  {
   "cell_type": "code",
   "execution_count": 4,
   "metadata": {},
   "outputs": [
    {
     "name": "stdout",
     "output_type": "stream",
     "text": [
      "2\n",
      "<class 'int'>\n"
     ]
    }
   ],
   "source": [
    "# Inteiro:\n",
    "print(1 + 1)\n",
    "a = 4\n",
    "print(type(a))"
   ]
  },
  {
   "cell_type": "code",
   "execution_count": 5,
   "metadata": {},
   "outputs": [
    {
     "name": "stdout",
     "output_type": "stream",
     "text": [
      "<class 'float'>\n"
     ]
    }
   ],
   "source": [
    "# Real   -->   python2: <type 'float'>      python3: <class 'float'>\n",
    "c = 2.1\n",
    "print(type(c))"
   ]
  },
  {
   "cell_type": "code",
   "execution_count": 7,
   "metadata": {},
   "outputs": [
    {
     "name": "stdout",
     "output_type": "stream",
     "text": [
      "1.5 0.5\n",
      "<class 'complex'>\n"
     ]
    }
   ],
   "source": [
    "# Complexo   -->   python2: <type 'complex'>      python3: <class 'complex'> \n",
    "a = 1.5 + 0.5j\n",
    "print(a.real, a.imag)\n",
    "print(type(1. + 0j))"
   ]
  },
  {
   "cell_type": "code",
   "execution_count": 10,
   "metadata": {},
   "outputs": [
    {
     "name": "stdout",
     "output_type": "stream",
     "text": [
      "False\n",
      "False <class 'bool'>\n"
     ]
    }
   ],
   "source": [
    "# Lógico   -->   python2: <type 'bool'>      python3: <class 'bool'>\n",
    "print(3 > 4)\n",
    "test = (3 > 4)\n",
    "print(test, type(test))"
   ]
  },
  {
   "cell_type": "code",
   "execution_count": 11,
   "metadata": {},
   "outputs": [
    {
     "data": {
      "text/plain": [
       "1.5"
      ]
     },
     "execution_count": 11,
     "metadata": {},
     "output_type": "execute_result"
    }
   ],
   "source": [
    "# Aviso   -->    python2: divisão inteira    python3: divisão real\n",
    "3/2"
   ]
  },
  {
   "cell_type": "code",
   "execution_count": 12,
   "metadata": {},
   "outputs": [
    {
     "data": {
      "text/plain": [
       "1.5"
      ]
     },
     "execution_count": 12,
     "metadata": {},
     "output_type": "execute_result"
    }
   ],
   "source": [
    "# Dica python2: use operandos reais, ou pelo menos um dos operandos do tipo real\n",
    "3 / 2."
   ]
  },
  {
   "cell_type": "code",
   "execution_count": 14,
   "metadata": {},
   "outputs": [
    {
     "name": "stdout",
     "output_type": "stream",
     "text": [
      "1 1.5\n"
     ]
    }
   ],
   "source": [
    "a = 3\n",
    "b = 2\n",
    "print(a // b, a / float(b))"
   ]
  },
  {
   "cell_type": "markdown",
   "metadata": {},
   "source": [
    "A **Conversão de Tipo** (*casting*) permite a conversão de variáveis de um tipo de dado em outro. O Python possui algumas funções internas que se prestam à conversão de tipos. Até agora vimos exemplos de variáveis de dados numéricos de tipos inteiros e reais (ponto flutuante), e de dados literais de tipo *string* (cadeias de caracteres), mas ainda existem os tipos lógico e complexo. Funções de conversão de tipos de dados: <tt>int(), float(), str(), bool(), complex()</tt>."
   ]
  },
  {
   "cell_type": "markdown",
   "metadata": {},
   "source": [
    "### Conversão para Inteiros\n",
    "A função <tt>int()</tt> é usada para converter *strings* ou *floats* em números inteiros. Observe que se a *string* não resultar num valor inteiro então uma mensagem de **erro de valor** será mostrada ao se solicitar a conversão de tipo para inteiro."
   ]
  },
  {
   "cell_type": "code",
   "execution_count": 18,
   "metadata": {},
   "outputs": [
    {
     "data": {
      "text/plain": [
       "2553"
      ]
     },
     "execution_count": 18,
     "metadata": {},
     "output_type": "execute_result"
    }
   ],
   "source": [
    "int('2553')"
   ]
  },
  {
   "cell_type": "code",
   "execution_count": 19,
   "metadata": {},
   "outputs": [
    {
     "ename": "ValueError",
     "evalue": "invalid literal for int() with base 10: '2553.49'",
     "output_type": "error",
     "traceback": [
      "\u001b[1;31m---------------------------------------------------------------------------\u001b[0m",
      "\u001b[1;31mValueError\u001b[0m                                Traceback (most recent call last)",
      "\u001b[1;32m<ipython-input-19-f72e7a5f3a0b>\u001b[0m in \u001b[0;36m<module>\u001b[1;34m()\u001b[0m\n\u001b[1;32m----> 1\u001b[1;33m \u001b[0mint\u001b[0m\u001b[1;33m(\u001b[0m\u001b[1;34m'2553.49'\u001b[0m\u001b[1;33m)\u001b[0m\u001b[1;33m\u001b[0m\u001b[0m\n\u001b[0m",
      "\u001b[1;31mValueError\u001b[0m: invalid literal for int() with base 10: '2553.49'"
     ]
    }
   ],
   "source": [
    "int('2553.49')"
   ]
  },
  {
   "cell_type": "code",
   "execution_count": 20,
   "metadata": {},
   "outputs": [
    {
     "data": {
      "text/plain": [
       "2553"
      ]
     },
     "execution_count": 20,
     "metadata": {},
     "output_type": "execute_result"
    }
   ],
   "source": [
    "int(2553.49)"
   ]
  },
  {
   "cell_type": "markdown",
   "metadata": {},
   "source": [
    "### Conversão para Strings\n",
    "Use a função <tt>str()</tt> sem qualquer restrição de valor para gerar uma cadeia de caracteres (*string*)."
   ]
  },
  {
   "cell_type": "code",
   "execution_count": 21,
   "metadata": {},
   "outputs": [
    {
     "data": {
      "text/plain": [
       "'2553.45'"
      ]
     },
     "execution_count": 21,
     "metadata": {},
     "output_type": "execute_result"
    }
   ],
   "source": [
    "str(2553.45)"
   ]
  },
  {
   "cell_type": "markdown",
   "metadata": {},
   "source": [
    "### Exercício\n",
    "Qual é a explicação para a seguinte mensagem de erro?"
   ]
  },
  {
   "cell_type": "code",
   "execution_count": 22,
   "metadata": {},
   "outputs": [
    {
     "ename": "TypeError",
     "evalue": "str() takes at most 1 argument (2 given)",
     "output_type": "error",
     "traceback": [
      "\u001b[1;31m---------------------------------------------------------------------------\u001b[0m",
      "\u001b[1;31mTypeError\u001b[0m                                 Traceback (most recent call last)",
      "\u001b[1;32m<ipython-input-22-eaa458df2fd2>\u001b[0m in \u001b[0;36m<module>\u001b[1;34m()\u001b[0m\n\u001b[1;32m----> 1\u001b[1;33m \u001b[0mstr\u001b[0m\u001b[1;33m(\u001b[0m\u001b[1;36m2.334\u001b[0m\u001b[1;33m,\u001b[0m\u001b[1;36m45\u001b[0m\u001b[1;33m)\u001b[0m\u001b[1;33m\u001b[0m\u001b[0m\n\u001b[0m",
      "\u001b[1;31mTypeError\u001b[0m: str() takes at most 1 argument (2 given)"
     ]
    }
   ],
   "source": [
    "str(2.334,45)"
   ]
  },
  {
   "cell_type": "markdown",
   "metadata": {},
   "source": [
    "Quando escrevemos múltiplas variáveis na instrução ***print***, conversões de *strings* devem ser usadas."
   ]
  },
  {
   "cell_type": "code",
   "execution_count": 53,
   "metadata": {},
   "outputs": [
    {
     "name": "stdout",
     "output_type": "stream",
     "text": [
      "Real = 255.45   Inteiro = 54\n"
     ]
    }
   ],
   "source": [
    "print('Real = ' + str(255.45) + '   Inteiro = ' + str(54))"
   ]
  },
  {
   "cell_type": "markdown",
   "metadata": {},
   "source": [
    "### Conversão para Reais\n",
    "A função <tt>float()</tt> é usada para converter *strings* ou inteiros em valores reais."
   ]
  },
  {
   "cell_type": "code",
   "execution_count": 54,
   "metadata": {},
   "outputs": [
    {
     "name": "stdout",
     "output_type": "stream",
     "text": [
      "54.0 54.221\n"
     ]
    }
   ],
   "source": [
    "print(float(54), float('54.221'))"
   ]
  },
  {
   "cell_type": "markdown",
   "metadata": {},
   "source": [
    "<p style=\"text-align:right;\"><a href=\"#topo\">Volta ao topo</a></p>"
   ]
  },
  {
   "cell_type": "markdown",
   "metadata": {},
   "source": [
    "<a id=\"3.\"></a>\n",
    "## 3. String"
   ]
  },
  {
   "cell_type": "markdown",
   "metadata": {},
   "source": [
    "As *strings* são usadas para armazenar informações de texto, tais como nome, endereço, mensagem etc. O Python monitora todos os elementos da *string* como uma sequência de caracteres. Por exemplo, o Python entende que a *string* \"IFG\" é uma sequência de letras numa ordem específica. Isso significa que podemos usar a indexação para acessar letras específicas (como a primeira ou a última letra, por exemplo).\n",
    "<img src=\"img/string.png\" alt=\"img/string.png\" class=\"align-right\" style=\"width: 500.0px; height: 150.0px;\">\n",
    "\n",
    "- **Criando *Strings***\n",
    "Para criar uma *string* em Python você precisa usar aspas simples ou aspas duplas para delimitar a sequência de caracteres. \n",
    "Por exemplo (usando comentário na primeira linha):"
   ]
  },
  {
   "cell_type": "code",
   "execution_count": 32,
   "metadata": {},
   "outputs": [
    {
     "data": {
      "text/plain": [
       "'IFG'"
      ]
     },
     "execution_count": 32,
     "metadata": {},
     "output_type": "execute_result"
    }
   ],
   "source": [
    "# palavra única\n",
    "'IFG'"
   ]
  },
  {
   "cell_type": "code",
   "execution_count": 31,
   "metadata": {},
   "outputs": [
    {
     "data": {
      "text/plain": [
       "u'Bem-vindos ao Curso de Extens\\xe3o do IFG 2019-1'"
      ]
     },
     "execution_count": 31,
     "metadata": {},
     "output_type": "execute_result"
    }
   ],
   "source": [
    "# -*- coding: utf-8 -*-\n",
    "# uma frase\n",
    "u'Bem-vindos ao Curso de Extensão do IFG 2019-1'"
   ]
  },
  {
   "cell_type": "code",
   "execution_count": 35,
   "metadata": {},
   "outputs": [
    {
     "ename": "SyntaxError",
     "evalue": "invalid syntax (<ipython-input-35-f87f3cd1ebe1>, line 2)",
     "output_type": "error",
     "traceback": [
      "\u001b[1;36m  File \u001b[1;32m\"<ipython-input-35-f87f3cd1ebe1>\"\u001b[1;36m, line \u001b[1;32m2\u001b[0m\n\u001b[1;33m    'Valor de 'x' no programa?'\u001b[0m\n\u001b[1;37m               ^\u001b[0m\n\u001b[1;31mSyntaxError\u001b[0m\u001b[1;31m:\u001b[0m invalid syntax\n"
     ]
    }
   ],
   "source": [
    "# erro de sintaxe\n",
    "'Valor de 'x' no programa?'"
   ]
  },
  {
   "cell_type": "markdown",
   "metadata": {},
   "source": [
    "A causa do erro na *string* definida logo acima é a aspa simples delimitando duas *strings* e o caractere 'x' ficou entre elas sem delimitação. <style color=red>Solução</style>: use combinações de aspas duplas e simples para obter a declaração correta."
   ]
  },
  {
   "cell_type": "code",
   "execution_count": 36,
   "metadata": {},
   "outputs": [
    {
     "data": {
      "text/plain": [
       "\"Valor de 'x' no programa?\""
      ]
     },
     "execution_count": 36,
     "metadata": {},
     "output_type": "execute_result"
    }
   ],
   "source": [
    "\"Valor de 'x' no programa?\""
   ]
  },
  {
   "cell_type": "markdown",
   "metadata": {},
   "source": [
    "- **Imprimindo *Strings***\n",
    "Usar a sequência de caracteres (*string*) no prompt (<tt>>>></tt>) do interpretador mostrará automaticamente seu valor, mas a maneira correta de exibir as *strings* na saída padrão (monitor de vídeo) é usar a instrução de impressão: ***print***.\n"
   ]
  },
  {
   "cell_type": "code",
   "execution_count": 38,
   "metadata": {},
   "outputs": [
    {
     "data": {
      "text/plain": [
       "u'Aprendizado de M\\xe1quina'"
      ]
     },
     "execution_count": 38,
     "metadata": {},
     "output_type": "execute_result"
    }
   ],
   "source": [
    "u\"Aprendizado de Máquina\""
   ]
  },
  {
   "cell_type": "code",
   "execution_count": 55,
   "metadata": {
    "scrolled": true
   },
   "outputs": [
    {
     "name": "stdout",
     "output_type": "stream",
     "text": [
      "Aprendizado de Máquina\n"
     ]
    }
   ],
   "source": [
    "print(u\"Aprendizado de Máquina\")"
   ]
  },
  {
   "cell_type": "markdown",
   "metadata": {},
   "source": [
    "- Diferenças na Impressão em Python 2 e 3\n",
    "Na versão 2.x a impressão é realizada por uma instrução (sentença, comando) enquanto que na versão 3.x a impressão é feita por uma função: ***print( )***.\n"
   ]
  },
  {
   "cell_type": "code",
   "execution_count": 56,
   "metadata": {},
   "outputs": [
    {
     "name": "stdout",
     "output_type": "stream",
     "text": [
      "Vamos aprender mais sobre strings!\n"
     ]
    }
   ],
   "source": [
    "print(\"Vamos aprender mais sobre strings!\")"
   ]
  },
  {
   "cell_type": "code",
   "execution_count": 60,
   "metadata": {},
   "outputs": [
    {
     "name": "stdout",
     "output_type": "stream",
     "text": [
      "Use \\n para imprimir em uma nova linha. \n",
      "--> \\n equivale a CR + NL (Carriage Return + New Line)\n"
     ]
    }
   ],
   "source": [
    "print(\"Use \\\\n para imprimir em uma nova linha. \\n--> \\\\n equivale a CR + NL (Carriage Return + New Line)\")"
   ]
  },
  {
   "cell_type": "code",
   "execution_count": 61,
   "metadata": {},
   "outputs": [
    {
     "name": "stdout",
     "output_type": "stream",
     "text": [
      "\n",
      "Entendeu?\n"
     ]
    }
   ],
   "source": [
    "print('\\nEntendeu?')"
   ]
  },
  {
   "cell_type": "markdown",
   "metadata": {},
   "source": [
    "Na versão 3.x a saída de dados no dispositivo padrão é feita da seguinte forma: **print('Olá Mundo!')**. Se você quer usar esta funcionalidade na versão 2.x, você pode importar o formulário do módulo futuro. \n",
    "\n",
    "**Atenção**: Depois de importar esse módulo, você não poderá mais escolher o método de declaração de impressão. Então, escolha o que você preferir, dependendo da sua instalação do Python e continue com ele."
   ]
  },
  {
   "cell_type": "code",
   "execution_count": 62,
   "metadata": {},
   "outputs": [
    {
     "name": "stdout",
     "output_type": "stream",
     "text": [
      "Função print da Vs. 3.4\n"
     ]
    }
   ],
   "source": [
    "from __future__ import print_function\n",
    "print('Função print da Vs. 3.4')"
   ]
  },
  {
   "cell_type": "code",
   "execution_count": 64,
   "metadata": {},
   "outputs": [
    {
     "name": "stdout",
     "output_type": "stream",
     "text": [
      "Entendeu?\n"
     ]
    }
   ],
   "source": [
    "print(\"Entendeu?\")"
   ]
  },
  {
   "cell_type": "markdown",
   "metadata": {},
   "source": [
    "Uma instrução **\\__future\\__** é uma diretiva do interpretador que avisa sobre um módulo específico que deve ser traduzido usando a sintaxe ou a semântica que estará disponível em uma versão futura do Python. A declaração **\\__future\\__** destina-se a facilitar a migração para versões futuras do Python que introduzem alterações incompatíveis à linguagem. Ela permite o uso dos novos recursos por módulo antes do lançamento no qual o recurso se torna padrão.\n",
    "\n",
    "É como dizer: \"Como essa é a versão Python v2.7, use a função ***print( )*** que também foi adicionada ao Python v2.7, depois que ela foi adicionada no Python 3.4\". Então, o ***'print'*** não será mais uma instrução: ***print \"mensagem\"***, mas uma função: ***print(\"mensagem\")***. Dessa forma, quando seu código for executado na versão Python 3.x, ***print( )*** não interromperá o _script_.\n",
    "\n",
    "- **Tamanho de uma String**\n",
    "Usamos a função nativa chamada <tt>len()</tt> para verificar o tamanho de uma *string*."
   ]
  },
  {
   "cell_type": "code",
   "execution_count": 47,
   "metadata": {},
   "outputs": [
    {
     "data": {
      "text/plain": [
       "9"
      ]
     },
     "execution_count": 47,
     "metadata": {},
     "output_type": "execute_result"
    }
   ],
   "source": [
    "len(\"Entendeu?\")"
   ]
  },
  {
   "cell_type": "markdown",
   "metadata": {},
   "source": [
    "- **Indexação e Fatiamento de Strings**\n",
    "Sabemos que *strings* são sequências de caracteres, o que significa que o Python pode usar índices para acessar partes da sequência. \n",
    "\n",
    "Em Python, usamos colchetes <tt>[ ]</tt> depois de um objeto para acessar o conteúdo indicado pelo índice. Também devemos notar que, para o Python, a indexação começa em 0 (zero), ou seja, o primeiro caractere de uma *string* é referenciado pelo índice 0. Vamos criar um novo objeto chamado <tt>s</tt> e fazer alguns exemplos de indexação. "
   ]
  },
  {
   "cell_type": "code",
   "execution_count": 3,
   "metadata": {},
   "outputs": [
    {
     "data": {
      "text/plain": [
       "'Bom dia Bia!'"
      ]
     },
     "execution_count": 3,
     "metadata": {},
     "output_type": "execute_result"
    }
   ],
   "source": [
    "# atribuindo uma seq. de caracteres a um objeto 's'\n",
    "s = 'Bom dia Bia!'\n",
    "# verificando\n",
    "s"
   ]
  },
  {
   "cell_type": "code",
   "execution_count": 51,
   "metadata": {},
   "outputs": [
    {
     "name": "stdout",
     "output_type": "stream",
     "text": [
      "Bom dia Bia!\n"
     ]
    }
   ],
   "source": [
    "# imprimindo o objeto\n",
    "print(s)"
   ]
  },
  {
   "cell_type": "markdown",
   "metadata": {},
   "source": [
    "- **Acessando apenas um caractere** da sequência de caracteres..."
   ]
  },
  {
   "cell_type": "code",
   "execution_count": 53,
   "metadata": {},
   "outputs": [
    {
     "data": {
      "text/plain": [
       "'B'"
      ]
     },
     "execution_count": 53,
     "metadata": {},
     "output_type": "execute_result"
    }
   ],
   "source": [
    "# primeiro caracter da string\n",
    "s[0]"
   ]
  },
  {
   "cell_type": "code",
   "execution_count": 54,
   "metadata": {},
   "outputs": [
    {
     "data": {
      "text/plain": [
       "('o', 'a')"
      ]
     },
     "execution_count": 54,
     "metadata": {},
     "output_type": "execute_result"
    }
   ],
   "source": [
    "# segundo e sétimo caracteres da string\n",
    "s[1], s[6]"
   ]
  },
  {
   "cell_type": "code",
   "execution_count": 55,
   "metadata": {},
   "outputs": [
    {
     "data": {
      "text/plain": [
       "'!'"
      ]
     },
     "execution_count": 55,
     "metadata": {},
     "output_type": "execute_result"
    }
   ],
   "source": [
    "# último caracter da string\n",
    "s[-1]"
   ]
  },
  {
   "cell_type": "code",
   "execution_count": 56,
   "metadata": {},
   "outputs": [
    {
     "data": {
      "text/plain": [
       "'a'"
      ]
     },
     "execution_count": 56,
     "metadata": {},
     "output_type": "execute_result"
    }
   ],
   "source": [
    "# penúltimo caracter da string\n",
    "s[-2]"
   ]
  },
  {
   "cell_type": "markdown",
   "metadata": {},
   "source": [
    "- **Fatiamento** (*slicing*): acessando partes da sequência de caracteres... "
   ]
  },
  {
   "cell_type": "code",
   "execution_count": 57,
   "metadata": {},
   "outputs": [
    {
     "data": {
      "text/plain": [
       "'Bom'"
      ]
     },
     "execution_count": 57,
     "metadata": {},
     "output_type": "execute_result"
    }
   ],
   "source": [
    "# Acessando os três primeiros caracteres da string\n",
    "s[0:3]"
   ]
  },
  {
   "cell_type": "code",
   "execution_count": 58,
   "metadata": {},
   "outputs": [
    {
     "data": {
      "text/plain": [
       "'Bom'"
      ]
     },
     "execution_count": 58,
     "metadata": {},
     "output_type": "execute_result"
    }
   ],
   "source": [
    "# ou\n",
    "s[:3]"
   ]
  },
  {
   "cell_type": "code",
   "execution_count": 59,
   "metadata": {},
   "outputs": [
    {
     "data": {
      "text/plain": [
       "'dia Bia!'"
      ]
     },
     "execution_count": 59,
     "metadata": {},
     "output_type": "execute_result"
    }
   ],
   "source": [
    "s[4:len(s)]"
   ]
  },
  {
   "cell_type": "code",
   "execution_count": 60,
   "metadata": {},
   "outputs": [
    {
     "data": {
      "text/plain": [
       "'dia Bia!'"
      ]
     },
     "execution_count": 60,
     "metadata": {},
     "output_type": "execute_result"
    }
   ],
   "source": [
    "s[4:]"
   ]
  },
  {
   "cell_type": "markdown",
   "metadata": {},
   "source": [
    "Observe o primeiro fatiamento acima: **<tt>s[0:3]</tt>**. Aqui estamos dizendo ao Python para acessar os caracteres de <tt>s</tt>, do índice 0 até 3, não incluindo o índice 3 (quarta posição). Você notará esse comportamento muitas vezes em Python, onde as declarações geralmente estão no contexto \"até, mas não incluindo\".\n",
    "\n",
    "Também podemos usar a notação de índice e fatia para acessar elementos de uma sequência com um determinado incremento (o padrão é passo unitário). Por exemplo, podemos usar dois dois-pontos em uma linha e, em seguida, um número especificando a frequência para acessar os elementos. Por exemplo:"
   ]
  },
  {
   "cell_type": "code",
   "execution_count": 61,
   "metadata": {},
   "outputs": [
    {
     "data": {
      "text/plain": [
       "'BmdaBa'"
      ]
     },
     "execution_count": 61,
     "metadata": {},
     "output_type": "execute_result"
    }
   ],
   "source": [
    "# usando passo dois no acesso aos caracteres da string\n",
    "s[::2]"
   ]
  },
  {
   "cell_type": "markdown",
   "metadata": {},
   "source": [
    "Acessando os caracteres da *string* de trás para frente (em ordem inversa):"
   ]
  },
  {
   "cell_type": "code",
   "execution_count": 62,
   "metadata": {},
   "outputs": [
    {
     "data": {
      "text/plain": [
       "'!aiB aid moB'"
      ]
     },
     "execution_count": 62,
     "metadata": {},
     "output_type": "execute_result"
    }
   ],
   "source": [
    "s[::-1]"
   ]
  },
  {
   "cell_type": "markdown",
   "metadata": {},
   "source": [
    "- **Propriedades da Strings**\n",
    "\n",
    "É importante notar que as *strings* são imutáveis. Isso significa que uma vez criada a *string*, os elementos dela não podem ser alterados ou suprimidos. Por exemplo:"
   ]
  },
  {
   "cell_type": "code",
   "execution_count": 4,
   "metadata": {},
   "outputs": [
    {
     "data": {
      "text/plain": [
       "'Bom dia Bia!'"
      ]
     },
     "execution_count": 4,
     "metadata": {},
     "output_type": "execute_result"
    }
   ],
   "source": [
    "s"
   ]
  },
  {
   "cell_type": "code",
   "execution_count": 5,
   "metadata": {},
   "outputs": [
    {
     "ename": "TypeError",
     "evalue": "'str' object does not support item assignment",
     "output_type": "error",
     "traceback": [
      "\u001b[1;31m---------------------------------------------------------------------------\u001b[0m",
      "\u001b[1;31mTypeError\u001b[0m                                 Traceback (most recent call last)",
      "\u001b[1;32m<ipython-input-5-167a73399263>\u001b[0m in \u001b[0;36m<module>\u001b[1;34m()\u001b[0m\n\u001b[1;32m----> 1\u001b[1;33m \u001b[0ms\u001b[0m\u001b[1;33m[\u001b[0m\u001b[1;36m0\u001b[0m\u001b[1;33m]\u001b[0m \u001b[1;33m=\u001b[0m \u001b[1;34m'C'\u001b[0m\u001b[1;33m\u001b[0m\u001b[0m\n\u001b[0m",
      "\u001b[1;31mTypeError\u001b[0m: 'str' object does not support item assignment"
     ]
    }
   ],
   "source": [
    "s[0] = 'C'"
   ]
  },
  {
   "cell_type": "markdown",
   "metadata": {},
   "source": [
    "Observe como o erro nos diz diretamente o que não podemos fazer: **objeto 'str' não admite atribuição ao item!**.\n",
    "O que podemos fazer é concatenar strings!"
   ]
  },
  {
   "cell_type": "code",
   "execution_count": 65,
   "metadata": {},
   "outputs": [
    {
     "ename": "TypeError",
     "evalue": "unsupported operand type(s) for +: 'range' and 'str'",
     "output_type": "error",
     "traceback": [
      "\u001b[1;31m---------------------------------------------------------------------------\u001b[0m",
      "\u001b[1;31mTypeError\u001b[0m                                 Traceback (most recent call last)",
      "\u001b[1;32m<ipython-input-65-692ff53ce399>\u001b[0m in \u001b[0;36m<module>\u001b[1;34m\u001b[0m\n\u001b[1;32m----> 1\u001b[1;33m \u001b[0ms\u001b[0m \u001b[1;33m+\u001b[0m \u001b[1;34m' Vamos tomar um cafezinho?'\u001b[0m\u001b[1;33m\u001b[0m\u001b[1;33m\u001b[0m\u001b[0m\n\u001b[0m",
      "\u001b[1;31mTypeError\u001b[0m: unsupported operand type(s) for +: 'range' and 'str'"
     ]
    }
   ],
   "source": [
    "s + ' Vamos tomar um cafezinho?'"
   ]
  },
  {
   "cell_type": "code",
   "execution_count": 8,
   "metadata": {
    "collapsed": true
   },
   "outputs": [],
   "source": [
    "t = _           # variável com o resultado da última execução realizada pelo interpretador Python"
   ]
  },
  {
   "cell_type": "code",
   "execution_count": 64,
   "metadata": {},
   "outputs": [
    {
     "ename": "NameError",
     "evalue": "name 't' is not defined",
     "output_type": "error",
     "traceback": [
      "\u001b[1;31m---------------------------------------------------------------------------\u001b[0m",
      "\u001b[1;31mNameError\u001b[0m                                 Traceback (most recent call last)",
      "\u001b[1;32m<ipython-input-64-febd3e668534>\u001b[0m in \u001b[0;36m<module>\u001b[1;34m\u001b[0m\n\u001b[1;32m----> 1\u001b[1;33m \u001b[0mprint\u001b[0m\u001b[1;33m(\u001b[0m\u001b[0mt\u001b[0m\u001b[1;33m)\u001b[0m\u001b[1;33m\u001b[0m\u001b[1;33m\u001b[0m\u001b[0m\n\u001b[0m",
      "\u001b[1;31mNameError\u001b[0m: name 't' is not defined"
     ]
    }
   ],
   "source": [
    "print(t)"
   ]
  },
  {
   "cell_type": "markdown",
   "metadata": {},
   "source": [
    "Podemos usar o símbolo de multiplicação para criar repetição de caracteres!"
   ]
  },
  {
   "cell_type": "code",
   "execution_count": 11,
   "metadata": {},
   "outputs": [
    {
     "data": {
      "text/plain": [
       "'////\\\\\\\\////\\\\\\\\////\\\\\\\\////\\\\\\\\////\\\\\\\\////\\\\\\\\////\\\\\\\\////\\\\\\\\////\\\\\\\\////\\\\\\\\'"
      ]
     },
     "execution_count": 11,
     "metadata": {},
     "output_type": "execute_result"
    }
   ],
   "source": [
    "marcador = '////\\\\\\\\'\n",
    "10 * marcador"
   ]
  },
  {
   "cell_type": "markdown",
   "metadata": {},
   "source": [
    "- **Ajuntando (concatenando) Strings**:"
   ]
  },
  {
   "cell_type": "code",
   "execution_count": 82,
   "metadata": {},
   "outputs": [
    {
     "name": "stdout",
     "output_type": "stream",
     "text": [
      "Terça - Quinta - Sábado\n"
     ]
    }
   ],
   "source": [
    "dias = ['Terça', 'Quinta', 'Sábado']\n",
    "concat = ' - '.join(dias)\n",
    "print(concat)"
   ]
  },
  {
   "cell_type": "markdown",
   "metadata": {},
   "source": [
    "**Métodos Nativos de Strings **\n",
    "\n",
    "Objetos em Python geralmente possuem métodos internos. Esses métodos são funções associadas ao objeto que podem executar ações ou comandos no próprio objeto.\n",
    "\n",
    "Nós acessamos os métodos de um objeto usando um ponto '.' e depois o nome do método: **objeto.método(parâmetros)**, onde os parâmetros são argumentos extras que podemos passar ao método. Não se preocupe com os detalhes se não fazem sentido nesse momento para você. Mais tarde criaremos nossos próprios objetos e métodos! \n",
    "\n",
    "Aqui estão exemplos de métodos internos dos objetos *strings*:"
   ]
  },
  {
   "cell_type": "code",
   "execution_count": 13,
   "metadata": {},
   "outputs": [
    {
     "data": {
      "text/plain": [
       "'Bom dia Bia!'"
      ]
     },
     "execution_count": 13,
     "metadata": {},
     "output_type": "execute_result"
    }
   ],
   "source": [
    "s"
   ]
  },
  {
   "cell_type": "code",
   "execution_count": 14,
   "metadata": {},
   "outputs": [
    {
     "data": {
      "text/plain": [
       "'BOM DIA BIA!'"
      ]
     },
     "execution_count": 14,
     "metadata": {},
     "output_type": "execute_result"
    }
   ],
   "source": [
    "s.upper()"
   ]
  },
  {
   "cell_type": "code",
   "execution_count": 15,
   "metadata": {},
   "outputs": [
    {
     "data": {
      "text/plain": [
       "'bom dia bia!'"
      ]
     },
     "execution_count": 15,
     "metadata": {},
     "output_type": "execute_result"
    }
   ],
   "source": [
    "s.lower()"
   ]
  },
  {
   "cell_type": "code",
   "execution_count": 17,
   "metadata": {},
   "outputs": [
    {
     "data": {
      "text/plain": [
       "['Bom', 'dia', 'Bia!']"
      ]
     },
     "execution_count": 17,
     "metadata": {},
     "output_type": "execute_result"
    }
   ],
   "source": [
    "# quebra de uma string nos espaços em branco (caracter padrão)\n",
    "s.split()"
   ]
  },
  {
   "cell_type": "code",
   "execution_count": 19,
   "metadata": {},
   "outputs": [
    {
     "data": {
      "text/plain": [
       "['Bom ', ' Bia!']"
      ]
     },
     "execution_count": 19,
     "metadata": {},
     "output_type": "execute_result"
    }
   ],
   "source": [
    "# quebra de uma string na sequência 'dia'\n",
    "s.split('dia')"
   ]
  },
  {
   "cell_type": "markdown",
   "metadata": {},
   "source": [
    "Existem muitos mais métodos para objetos strings do que os abordados aqui."
   ]
  },
  {
   "cell_type": "markdown",
   "metadata": {},
   "source": [
    "- **Impressão Formatada**\n",
    "Python tem formatadores de *string* interessantes. Vamos mostrar os casos de uso mais comuns aceitos pelas API’s de estilo de formatação de *strings*, antiga e nova.\n",
    "\n",
    "\n",
    "- <p style=\"color: blue\">À Moda Antiga</p>"
   ]
  },
  {
   "cell_type": "code",
   "execution_count": 20,
   "metadata": {},
   "outputs": [
    {
     "name": "stdout",
     "output_type": "stream",
     "text": [
      "Matheus, o Programador\n"
     ]
    }
   ],
   "source": [
    "nome = \"Matheus\"\n",
    "prof = \"Programador\"\n",
    "titulo = \"%s, o %s\" % (nome, prof)\n",
    "print(titulo)"
   ]
  },
  {
   "cell_type": "markdown",
   "metadata": {},
   "source": [
    "- <p style=\"color: blue\">À Moda Nova"
   ]
  },
  {
   "cell_type": "code",
   "execution_count": 65,
   "metadata": {},
   "outputs": [
    {
     "name": "stdout",
     "output_type": "stream",
     "text": [
      "Matheus, o Programador\n"
     ]
    }
   ],
   "source": [
    "nome = \"Matheus\"\n",
    "prof = \"Programador\"\n",
    "titulo = \"{}, o {}\".format(nome, prof)\n",
    "print(titulo)"
   ]
  },
  {
   "cell_type": "markdown",
   "metadata": {},
   "source": [
    "- **Formatação À Moda Antiga**: A formatação posicional simples é provavelmente o caso de uso mais comum. Seu uso é mais indicado quando a ordem dos argumentos não precisa ser alterada e quando você tem poucos elementos que queira concatenar. \n",
    "\n",
    "Como os elementos não são representados por algo tão descritivo quanto um nome, esse estilo simples deve ser usado apenas para formatar uma quantidade relativamente pequena de elementos.\n"
   ]
  },
  {
   "cell_type": "code",
   "execution_count": 66,
   "metadata": {},
   "outputs": [
    {
     "name": "stdout",
     "output_type": "stream",
     "text": [
      "Fleury, Cláudio.\n",
      "Fleury, Cláudio.\n"
     ]
    }
   ],
   "source": [
    "print('%s, %s.' % ('Fleury', 'Cláudio'))\n",
    "print('{}, {}.'.format('Fleury', 'Cláudio'))"
   ]
  },
  {
   "cell_type": "code",
   "execution_count": 67,
   "metadata": {},
   "outputs": [
    {
     "name": "stdout",
     "output_type": "stream",
     "text": [
      "Fleury, C.\n",
      "Fleury, C.\n"
     ]
    }
   ],
   "source": [
    "print('%s, %.1s.' % ('Fleury', 'Cláudio'))\n",
    "print('{}, {:.1}.'.format('Fleury', 'Cláudio'))"
   ]
  },
  {
   "cell_type": "markdown",
   "metadata": {},
   "source": [
    "Com a nova formatação de estilo, é possível (e obrigatório no Python 2.6) dar aos espaços reservados um índice posicional explícito. Isso permite reorganizar a ordem de exibição sem alterar os argumentos (esta operação não está disponível na formatação à moda antiga)."
   ]
  },
  {
   "cell_type": "code",
   "execution_count": 69,
   "metadata": {
    "scrolled": true
   },
   "outputs": [
    {
     "name": "stdout",
     "output_type": "stream",
     "text": [
      "Fleury, Cláudio.\n",
      "Fleury, C      .\n"
     ]
    }
   ],
   "source": [
    "# à moda nova\n",
    "print('{1}, {0}.'.format('Cláudio', 'Fleury'))\n",
    "print('{1}, {0:7.1}.'.format('Cláudio', 'Fleury'))"
   ]
  },
  {
   "cell_type": "markdown",
   "metadata": {},
   "source": [
    "- **Formatação de números inteiros** (%d) **e reais** (%f):"
   ]
  },
  {
   "cell_type": "code",
   "execution_count": 70,
   "metadata": {},
   "outputs": [
    {
     "name": "stdout",
     "output_type": "stream",
     "text": [
      "54 2.334343\n",
      "  54  2.334\n"
     ]
    }
   ],
   "source": [
    "# à moda antiga\n",
    "print('%d %f'     % (54, 2.334343))\n",
    "print('%4d %6.3f' % (54, 2.334343))"
   ]
  },
  {
   "cell_type": "code",
   "execution_count": 71,
   "metadata": {},
   "outputs": [
    {
     "name": "stdout",
     "output_type": "stream",
     "text": [
      "2.334343 54\n",
      "002.33\n"
     ]
    }
   ],
   "source": [
    "# à moda nova\n",
    "print('{1:f} {0:d}'.format(54, 2.334343))\n",
    "print('{:06.2f}'.format(2.334343))"
   ]
  },
  {
   "cell_type": "markdown",
   "metadata": {},
   "source": [
    "**Código Convencional** (comumente encontrado nas outras linguagens):"
   ]
  },
  {
   "cell_type": "code",
   "execution_count": 73,
   "metadata": {},
   "outputs": [
    {
     "name": "stdout",
     "output_type": "stream",
     "text": [
      "------------------------------\n",
      "Maria\n",
      "------------------------------\n"
     ]
    }
   ],
   "source": [
    "usuario = 'Maria'\n",
    "if usuario == 'Maria':\n",
    "  print('------------------------------')\n",
    "  print(usuario)\n",
    "  print('------------------------------')"
   ]
  },
  {
   "cell_type": "markdown",
   "metadata": {},
   "source": [
    "**Código Pythonico**:"
   ]
  },
  {
   "cell_type": "code",
   "execution_count": 74,
   "metadata": {},
   "outputs": [
    {
     "name": "stdout",
     "output_type": "stream",
     "text": [
      "------------------------------\n",
      "Maria\n",
      "------------------------------\n"
     ]
    }
   ],
   "source": [
    "usuario = 'Maria'\n",
    "if usuario == 'Maria':\n",
    "  print('{0}\\n{1}\\n{0}'.format('-'*30, usuario))"
   ]
  },
  {
   "cell_type": "markdown",
   "metadata": {},
   "source": [
    "### Trocando Caracteres\n",
    "Criando a tabela de exemplos de valores numéricos usadas nesse caderno, no item **1. Variáveis e Operações**:"
   ]
  },
  {
   "cell_type": "code",
   "execution_count": 51,
   "metadata": {},
   "outputs": [
    {
     "name": "stdout",
     "output_type": "stream",
     "text": [
      "|int|long|float|complex|\n",
      "|10|51924361|0.0|3.14j|\n",
      "|100|-0x19323|15.20|45.j|\n",
      "|-786|122|-21.9|9.322e-36j|\n",
      "|0x80|0xDEFABCECBDAECBFBAE|32.3+e18|.876j|\n",
      "|-490|535633629843|-90.|-.6545+0J|\n",
      "|-0x260|-052318172735|-32.54e100|3e+26J|\n",
      "|0x69|-4721885298529|70.2-E12|4.53e-7j|\n"
     ]
    }
   ],
   "source": [
    "a = 'int\tlong\tfloat\tcomplex\\n10\t51924361L\t0.0\t3.14j\\n100\t-0x19323L\t15.20\t45.j\\n-786\t122L\t-21.9\t9.322e-36j\\n0x80\t0xDEFABCECBDAECBFBAEL\t32.3+e18\t.876j\\n-490\t535633629843L\t-90.\t-.6545+0J\\n-0x260\t-052318172735L\t-32.54e100\t3e+26J\\n0x69\t-4721885298529L\t70.2-E12\t4.53e-7j'\n",
    "b = '|'+a.replace('L','').replace('\t','|').replace('\\n','|\\n|')+'|'\n",
    "print(b)"
   ]
  },
  {
   "cell_type": "markdown",
   "metadata": {},
   "source": [
    "<p style=\"text-align:right;\"><a href=\"#topo\">Volta ao topo</a></p>"
   ]
  },
  {
   "cell_type": "markdown",
   "metadata": {},
   "source": [
    "<a id=\"4.\"></a>\n",
    "## 4. Intervalo"
   ]
  },
  {
   "cell_type": "markdown",
   "metadata": {},
   "source": [
    "A função `range([início,] final [,passo])` (intervalo de valores) faz parte da biblioteca padrão do Python e gera uma sequência imutável de números inteiros de acordo com o intervalo determinado pelos argumentos. A série retornada é um objeto iterável tipo ***range*** e os elementos da série serão gerados sob demanda.\n",
    "\n",
    "É comum o uso da função ***range()*** com a estrutura de repetição ***for***. Neste caso temos que a cada ciclo de repetição o próximo elemento da sequência será utilizado de tal forma que é possível partirmos de um ponto e ir incrementando, decrementando conforme o **passo** adotado.\n",
    "\n",
    "Os argumentos para o construtor do objeto ***range*** devem ser do tipo **inteiro** (podendo ser do tipo **int** nativo ou qualquer outro tipo/objeto que implemente o método especial **\\_\\_index__**). Se o argumento <u>passo</u> for omitido, é assumido o passo unitário (um). Se o argumento <u>início</u> for omitido, é assumido o valor 0 (zero). Se o passo for zero, um erro do tipo **ValueError** será gerado.\n",
    "\n",
    "- Para <u>passo</u> positivo, o conteúdo de um intervalo <tt>r</tt> é determinado pela fórmula:\n",
    "\n",
    "  <tt>r[i] = inicio + passo * i,   onde  i &ge; 0   e    r[i] &lt; final</tt>\n",
    "  \n",
    "\n",
    "- Para <u>passo</u> negativo, o conteúdo de um intervalo <tt>r</tt> é determinado pela fórmula:\n",
    "\n",
    "  <tt>r[i] = inicio + passo * i,   onde  i &ge; 0   e    r[i] &gt; final</tt>\n",
    "  \n",
    "\n",
    "Os intervalos podem ser construídos das seguintes formas:\n",
    "- <tt>*range(final)*: 0, 1, 2, ..., final-1</tt>\n",
    "- <tt>*range(início, final)*: início, início+1, início+2, ..., final-1</tt>\n",
    "- <tt>*range(início, final, passo)*: início, início+passo, início+2*passo, ..., final-1</tt>\n",
    "\n",
    "Um objeto ***range*** estará vazio se <tt>r[0]</tt> não atender à restrição de valor. Os intervalos suportam índices negativos, mas estes são interpretados como indexação a partir do final da sequênc\n",
    "ia determinada pelos índices positivos."
   ]
  },
  {
   "cell_type": "markdown",
   "metadata": {},
   "source": [
    "Exemplos:\n",
    "![range(6).png](img/range(6).png)"
   ]
  },
  {
   "cell_type": "code",
   "execution_count": 24,
   "metadata": {},
   "outputs": [
    {
     "name": "stdout",
     "output_type": "stream",
     "text": [
      "** Exemplo da função range() **\n",
      "Mostrando o resultado da função range(6): ,0, 1, 2, 3, 4, 5, "
     ]
    }
   ],
   "source": [
    "print(\"** Exemplo da função range() **\")\n",
    "print(\"Mostrando o resultado da função range(6): \", end=',')\n",
    "for i in range(6):\n",
    "    print(i, end=', ')"
   ]
  },
  {
   "cell_type": "code",
   "execution_count": 14,
   "metadata": {
    "scrolled": true
   },
   "outputs": [
    {
     "data": {
      "text/plain": [
       "range(0, 20, 2)"
      ]
     },
     "execution_count": 14,
     "metadata": {},
     "output_type": "execute_result"
    }
   ],
   "source": [
    "r = range(0,20,2)\n",
    "r"
   ]
  },
  {
   "cell_type": "code",
   "execution_count": 15,
   "metadata": {},
   "outputs": [
    {
     "data": {
      "text/plain": [
       "(False, True, True, False, False)"
      ]
     },
     "execution_count": 15,
     "metadata": {},
     "output_type": "execute_result"
    }
   ],
   "source": [
    "11 in r, 10 in r, 18 in r, 19 in r, 20 in r"
   ]
  },
  {
   "cell_type": "code",
   "execution_count": 39,
   "metadata": {},
   "outputs": [
    {
     "data": {
      "text/plain": [
       "5"
      ]
     },
     "execution_count": 39,
     "metadata": {},
     "output_type": "execute_result"
    }
   ],
   "source": [
    "r.index(10)"
   ]
  },
  {
   "cell_type": "code",
   "execution_count": 41,
   "metadata": {},
   "outputs": [
    {
     "data": {
      "text/plain": [
       "10"
      ]
     },
     "execution_count": 41,
     "metadata": {},
     "output_type": "execute_result"
    }
   ],
   "source": [
    "r[5]"
   ]
  },
  {
   "cell_type": "code",
   "execution_count": 17,
   "metadata": {},
   "outputs": [
    {
     "data": {
      "text/plain": [
       "range(0, 10, 2)"
      ]
     },
     "execution_count": 17,
     "metadata": {},
     "output_type": "execute_result"
    }
   ],
   "source": [
    "r[0:5]"
   ]
  },
  {
   "cell_type": "code",
   "execution_count": 25,
   "metadata": {},
   "outputs": [
    {
     "data": {
      "text/plain": [
       "(18, range(18, 12, -2))"
      ]
     },
     "execution_count": 25,
     "metadata": {},
     "output_type": "execute_result"
    }
   ],
   "source": [
    "r[-1], r[-1:-4:-1]"
   ]
  },
  {
   "cell_type": "markdown",
   "metadata": {},
   "source": [
    "Comparação de objetos do tipo ***range*** para igualdade '==' ou diferença '!=' são realizados como na comparação de sequências. Ou seja, dois objetos de intervalo são considerados iguais se eles representam a mesma sequência de valores. Observe que dois objetos de intervalo que se comparam como iguais podem ter diferentes atributos de início, final e passo, por exemplo: range(0) == range(2,1,3) ou range(0,3,2) == range(0,4,2)."
   ]
  },
  {
   "cell_type": "markdown",
   "metadata": {},
   "source": [
    "<a id=\"5.\"></a>\n",
    "## 5. Lista\n",
    "\n",
    "As listas em Python são coleções de **objetos heterogêneos** que podem ser de qualquer tipo, inclusive outras listas. As listas podem ser homogêneas (dados de um mesmo tipo) ou heterogêneas, o que faz delas ferramentas poderosas no armazenamento e manipulação de dados. Uma lista pode conter números inteiros, números reais (ponto flutuante), strings ou qualquer outro objeto. As listas também são muito úteis na implementação de estruturas de dados, tais como pilhas e filas. As listas são mutáveis, ou seja, podem ser alteradas a qualquer instante após sua criação.\n",
    "\n",
    "No Python, `list` <tt>list</tt> é um recipiente (_container_) usado no armazenamento de vários dados ao mesmo tempo. Ao contrário dos conjuntos (_sets_), a uma <tt>list</tt> é ordenada e tem uma contagem definida. Os elementos em uma lista são indexados de acordo com uma sequência definida e a indexação da lista tem índice 0 (zero) para o primeiro valor armazenado. Cada elemento da lista tem seu lugar definido na lista, o que permite a existência de elementos duplicados na lista, com cada elemento tendo seu próprio lugar na memória.\n",
    "\n",
    "A lista é uma ferramenta útil quando se deseja preservar a ordem (sequência) dos dados e \"iterar\" sobre os elementos da estrutura de dados (acesso a cada um de seus elementos)."
   ]
  },
  {
   "cell_type": "code",
   "execution_count": 27,
   "metadata": {},
   "outputs": [
    {
     "name": "stdout",
     "output_type": "stream",
     "text": [
      "RPi Arduino\n",
      "['RPi', 'BeagleBone', 'Arduino']\n"
     ]
    }
   ],
   "source": [
    "# exemplo de lista em Python\n",
    "placas = ['RPi', 'BeagleBone', 'Arduino']\n",
    "# acessando para exibição, o primeiro e o terceiro elementos da lista 'placas'\n",
    "print(placas[0], placas[2])\n",
    "# exibindo todos os elementos da lista\n",
    "print(placas)"
   ]
  },
  {
   "cell_type": "markdown",
   "metadata": {},
   "source": [
    "### <tt>Lista Vazia</tt>"
   ]
  },
  {
   "cell_type": "code",
   "execution_count": 29,
   "metadata": {
    "scrolled": true
   },
   "outputs": [
    {
     "name": "stdout",
     "output_type": "stream",
     "text": [
      "[]\n"
     ]
    }
   ],
   "source": [
    "lista_compra = []\n",
    "print(lista_compra)"
   ]
  },
  {
   "cell_type": "markdown",
   "metadata": {},
   "source": [
    "### <tt>Lista Misturada (heterogênea)</tt>"
   ]
  },
  {
   "cell_type": "code",
   "execution_count": 32,
   "metadata": {},
   "outputs": [
    {
     "name": "stdout",
     "output_type": "stream",
     "text": [
      "[3.141592653589, -5, 'Tudo certo?', True, '*']\n"
     ]
    }
   ],
   "source": [
    "mist = [3.141592653589, -5, 'Tudo certo?', True, '*']\n",
    "print(mist)"
   ]
  },
  {
   "cell_type": "markdown",
   "metadata": {},
   "source": [
    "### <tt>Lista 2D</tt>"
   ]
  },
  {
   "cell_type": "code",
   "execution_count": 44,
   "metadata": {},
   "outputs": [
    {
     "name": "stdout",
     "output_type": "stream",
     "text": [
      "[['12', 3], [0.1, 'ok', 22], [-5, 'Tudo certo?', True]]\n",
      "ok\n",
      "12, 3, \b\b\n",
      "0.1, ok, 22, \b\b\n",
      "-5, Tudo certo?, True, \b\b\n"
     ]
    }
   ],
   "source": [
    "lista2D = [['12',3],\n",
    "           [0.1, 'ok',22],\n",
    "           [-5, 'Tudo certo?', True]]\n",
    "print(lista2D)\n",
    "\n",
    "print(lista2D[1][1])\n",
    "\n",
    "for linha in lista2D:\n",
    "  for elem in linha:\n",
    "    print(elem,end=', ')\n",
    "  print('\\b'*2)                       # dois caracteres 'backspace': para apagar a última vírgula da linha..."
   ]
  },
  {
   "cell_type": "markdown",
   "metadata": {},
   "source": [
    "### <tt>Fatiamento de Lista</tt>"
   ]
  },
  {
   "cell_type": "code",
   "execution_count": 48,
   "metadata": {},
   "outputs": [
    {
     "name": "stdout",
     "output_type": "stream",
     "text": [
      "[1, 2, 3, 4, 5, 6, 7, 8, 9]\n",
      "[1, 2, 3]\n",
      "[3, 4, 5, 6, 7]\n"
     ]
    }
   ],
   "source": [
    "# listadec = range(1,10)        # python2: o resultado da função 'range' é uma lista de valores\n",
    "listadec = list(range(1,10))    # python3: o resultado da função 'range' é um ojbeto 'range', precisa ser convertido em lista\n",
    "print(listadec)\n",
    "print(listadec[0:3])            # acessa do 1o. ao 3o. elementos\n",
    "print(listadec[2:-2])           # acessa do 3o. ao penúltimo elementos"
   ]
  },
  {
   "cell_type": "markdown",
   "metadata": {},
   "source": [
    "### <tt>Soma dos Elementos da Lista (_loop_)</tt>"
   ]
  },
  {
   "cell_type": "code",
   "execution_count": 53,
   "metadata": {},
   "outputs": [
    {
     "name": "stdout",
     "output_type": "stream",
     "text": [
      "Soma dos Pesos:  298\n"
     ]
    }
   ],
   "source": [
    "pesos = [56, 73, 92, 32, 45]    # lista homogênea - só valores inteiros\n",
    "soma = 0\n",
    "for peso in pesos:\n",
    "  soma += peso                  # operação equivalente: soma = soma + peso   (como em Ling. C)\n",
    "print('Soma dos Pesos: ', soma)"
   ]
  },
  {
   "cell_type": "markdown",
   "metadata": {},
   "source": [
    "E se a lista contiver elementos não numéricos? O interpretador Python indica erro para a tentativa de se somar elemento do tipo `str` com `int`."
   ]
  },
  {
   "cell_type": "code",
   "execution_count": 75,
   "metadata": {},
   "outputs": [
    {
     "ename": "TypeError",
     "evalue": "unsupported operand type(s) for +=: 'int' and 'str'",
     "output_type": "error",
     "traceback": [
      "\u001b[1;31m-----------------------------------------------------------------\u001b[0m",
      "\u001b[1;31mTypeError\u001b[0m                       Traceback (most recent call last)",
      "\u001b[1;32m<ipython-input-75-96a394617f16>\u001b[0m in \u001b[0;36m<module>\u001b[1;34m\u001b[0m\n\u001b[0;32m      2\u001b[0m \u001b[0msoma\u001b[0m \u001b[1;33m=\u001b[0m \u001b[1;36m0\u001b[0m\u001b[1;33m\u001b[0m\u001b[1;33m\u001b[0m\u001b[0m\n\u001b[0;32m      3\u001b[0m \u001b[1;32mfor\u001b[0m \u001b[0mpeso\u001b[0m \u001b[1;32min\u001b[0m \u001b[0mpesos\u001b[0m\u001b[1;33m:\u001b[0m\u001b[1;33m\u001b[0m\u001b[1;33m\u001b[0m\u001b[0m\n\u001b[1;32m----> 4\u001b[1;33m   \u001b[0msoma\u001b[0m \u001b[1;33m+=\u001b[0m \u001b[0mpeso\u001b[0m\u001b[1;33m\u001b[0m\u001b[1;33m\u001b[0m\u001b[0m\n\u001b[0m\u001b[0;32m      5\u001b[0m \u001b[0mprint\u001b[0m\u001b[1;33m(\u001b[0m\u001b[1;34m'Soma dos Pesos: '\u001b[0m\u001b[1;33m,\u001b[0m \u001b[0msoma\u001b[0m\u001b[1;33m)\u001b[0m\u001b[1;33m\u001b[0m\u001b[1;33m\u001b[0m\u001b[0m\n",
      "\u001b[1;31mTypeError\u001b[0m: unsupported operand type(s) for +=: 'int' and 'str'"
     ]
    }
   ],
   "source": [
    "pesos = [56, 73, 92, 'ok', 32, 45, True, \"vida\"]\n",
    "soma = 0\n",
    "for peso in pesos:\n",
    "  soma += peso\n",
    "print('Soma dos Pesos: ', soma)"
   ]
  },
  {
   "cell_type": "markdown",
   "metadata": {},
   "source": [
    "Prevenindo-se da possível ocorrência do erro: <tt>TypeError</tt>"
   ]
  },
  {
   "cell_type": "code",
   "execution_count": 55,
   "metadata": {
    "scrolled": true
   },
   "outputs": [
    {
     "name": "stdout",
     "output_type": "stream",
     "text": [
      "Soma dos Pesos:  298\n"
     ]
    }
   ],
   "source": [
    "pesos = [56, 73, 92, 'ok', 32, 45, True, \"vida\"]\n",
    "soma = 0\n",
    "for peso in pesos:\n",
    "  if type(peso) == int:         # verificação do conteúdo do elemento\n",
    "    soma += peso\n",
    "print('Soma dos Pesos: ', soma)"
   ]
  },
  {
   "cell_type": "markdown",
   "metadata": {},
   "source": [
    "### <tt>Apresentação da Lista com _loop_</tt>"
   ]
  },
  {
   "cell_type": "code",
   "execution_count": 62,
   "metadata": {},
   "outputs": [
    {
     "name": "stdout",
     "output_type": "stream",
     "text": [
      "azul\n",
      "amarelo --> minha cor favorita!\n",
      "vermelho\n",
      "verde\n",
      "roxo\n"
     ]
    }
   ],
   "source": [
    "cores = [\"azul\",\"amarelo\",\"vermelho\",\"verde\",\"roxo\"]\n",
    "for cor in cores:\n",
    "  print(cor,end='')\n",
    "  if cor == \"amarelo\":\n",
    "    print(\" --> minha cor favorita!\")\n",
    "  else:\n",
    "    print()"
   ]
  },
  {
   "cell_type": "markdown",
   "metadata": {},
   "source": [
    "### Exercício\n",
    "Escreva um _script_ para gerar uma lista de todos os números primos menores que 20. Mas antes de começar, é importante definir **número primo**...  \n",
    "\n",
    "**Um número primo tem que ser um inteiro positivo divisível apenas por dois outros números inteiros: 1 e ele mesmo.** Portanto, o número 1 não é um número primo."
   ]
  },
  {
   "cell_type": "code",
   "execution_count": 118,
   "metadata": {},
   "outputs": [
    {
     "name": "stdout",
     "output_type": "stream",
     "text": [
      "Primos (< 20): [2, 3, 5, 7, 11, 13, 17, 19]\n"
     ]
    },
    {
     "data": {
      "text/html": [
       "<script> code_show=true; \n",
       "  function code_toggle() {\n",
       "    if (code_show) {\n",
       "        $('div.cell.code_cell.rendered.selected div.input').hide(); } \n",
       "    else {\n",
       "        $('div.cell.code_cell.rendered.selected div.input').show(); }\n",
       "    code_show = !code_show\n",
       "  } \n",
       "$( document ).ready(code_toggle);\n",
       "</script>\n",
       "Para mostrar/esconder o código de entrada desta célula, \n",
       "clique <a href=\"javascript:code_toggle()\">aqui</a>."
      ],
      "text/plain": [
       "<IPython.core.display.HTML object>"
      ]
     },
     "execution_count": 118,
     "metadata": {},
     "output_type": "execute_result"
    }
   ],
   "source": [
    "# Cria uma lista de números primos menores que 20\n",
    "primos = []\n",
    "for candidato in range(2, 21):\n",
    "    # Assumindo que 'n' é primo até prova em contrário! \n",
    "    Primo = True\n",
    "    for n in range(2, int(candidato ** 0.5) + 1):\n",
    "        if candidato % n == 0:\n",
    "            Primo = False\n",
    "            break\n",
    "    if Primo:\n",
    "        primos.append(candidato)\n",
    "print(\"Primos (< 20):\",primos)\n",
    "\n",
    "from IPython.display import HTML\n",
    "HTML('''<script> code_show=true; \n",
    "  function code_toggle() {\n",
    "    if (code_show) {\n",
    "        $('div.cell.code_cell.rendered.selected div.input').hide(); } \n",
    "    else {\n",
    "        $('div.cell.code_cell.rendered.selected div.input').show(); }\n",
    "    code_show = !code_show\n",
    "  } \n",
    "$( document ).ready(code_toggle);\n",
    "</script>\n",
    "Para mostrar/esconder o código de entrada desta célula, \n",
    "clique <a href=\"javascript:code_toggle()\">aqui</a>.''')"
   ]
  },
  {
   "cell_type": "markdown",
   "metadata": {},
   "source": [
    "<p style=\"text-align:right;\"><a href=\"#topo\">Volta ao topo</a>"
   ]
  },
  {
   "cell_type": "markdown",
   "metadata": {},
   "source": [
    "<a id=\"6.\"></a>\n",
    "## 6.\tTupla: \n",
    "\n",
    "Uma tupla é uma coleção ordenada e imutável de objetos Python. Tuplas são sequências, assim como as listas. As diferenças entre tuplas e listas são: as tuplas não podem ser alteradas diferentemente das listas, e as tuplas usam parênteses como delimitadores enquanto as listas usam colchetes. Criar uma tupla é tão simples quanto colocar diferentes valores separados por vírgulas e delimitados por parênteses.\n",
    "\n",
    "### <tt>Criando Tuplas</tt>\n",
    "A construção de uma tupla usa elementos separados por vírgulas e delimitados por `( )`. Por exemplo:"
   ]
  },
  {
   "cell_type": "code",
   "execution_count": 83,
   "metadata": {},
   "outputs": [
    {
     "name": "stdout",
     "output_type": "stream",
     "text": [
      "(15, 34, 92, 22)\n"
     ]
    }
   ],
   "source": [
    "tup = (15, 34, 92, 22)\n",
    "print(tup)"
   ]
  },
  {
   "cell_type": "code",
   "execution_count": 96,
   "metadata": {},
   "outputs": [
    {
     "name": "stdout",
     "output_type": "stream",
     "text": [
      "('python', 'geeks')\n",
      "('python', 'geeks')\n"
     ]
    }
   ],
   "source": [
    "# uma forma para se criar uma tupla\n",
    "tup = 'python', 'geeks'\n",
    "print(tup) \n",
    "  \n",
    "# outra forma de se fazer o mesmo...\n",
    "tup = ('python', 'geeks') \n",
    "print(tup) "
   ]
  },
  {
   "cell_type": "markdown",
   "metadata": {},
   "source": [
    "Assim como para as listas, a quantidade de elementos pode ser obtida com a função `len()`:"
   ]
  },
  {
   "cell_type": "code",
   "execution_count": 84,
   "metadata": {},
   "outputs": [
    {
     "name": "stdout",
     "output_type": "stream",
     "text": [
      "4\n"
     ]
    }
   ],
   "source": [
    "print(len(tup))"
   ]
  },
  {
   "cell_type": "markdown",
   "metadata": {},
   "source": [
    "Tupla com objetos de tipos de dados diversos:"
   ]
  },
  {
   "cell_type": "code",
   "execution_count": 87,
   "metadata": {},
   "outputs": [
    {
     "name": "stdout",
     "output_type": "stream",
     "text": [
      "Total de Alunos:  16    Diário Id:  34323787\n"
     ]
    }
   ],
   "source": [
    "turma = ('CTIELT.4M',True,16,6.3,34323787,'10/02/2019')\n",
    "print(\"Total de Alunos: \",turma[2],\"   Diário Id: \",turma[4])"
   ]
  },
  {
   "cell_type": "markdown",
   "metadata": {},
   "source": [
    "Todas as formas de acesso aos elementos das listas também valem para as tuplas:"
   ]
  },
  {
   "cell_type": "code",
   "execution_count": 88,
   "metadata": {},
   "outputs": [
    {
     "data": {
      "text/plain": [
       "'10/02/2019'"
      ]
     },
     "execution_count": 88,
     "metadata": {},
     "output_type": "execute_result"
    }
   ],
   "source": [
    "turma[-1]"
   ]
  },
  {
   "cell_type": "code",
   "execution_count": 89,
   "metadata": {},
   "outputs": [
    {
     "data": {
      "text/plain": [
       "('10/02/2019', 34323787, 6.3, 16, True, 'CTIELT.4M')"
      ]
     },
     "execution_count": 89,
     "metadata": {},
     "output_type": "execute_result"
    }
   ],
   "source": [
    "turma[::-1]"
   ]
  },
  {
   "cell_type": "markdown",
   "metadata": {},
   "source": [
    "Concatenação de Tuplas: "
   ]
  },
  {
   "cell_type": "code",
   "execution_count": 102,
   "metadata": {},
   "outputs": [
    {
     "name": "stdout",
     "output_type": "stream",
     "text": [
      "(0, 1, 2, 3, 'python', 'geek')\n"
     ]
    }
   ],
   "source": [
    "# concatenação de duas tuplas \n",
    "tupla1, tupla2 = (0, 1, 2, 3), ('python', 'geek') \n",
    "print(tupla1 + tupla2)"
   ]
  },
  {
   "cell_type": "markdown",
   "metadata": {},
   "source": [
    "Repetição de tupla:"
   ]
  },
  {
   "cell_type": "code",
   "execution_count": 98,
   "metadata": {},
   "outputs": [
    {
     "name": "stdout",
     "output_type": "stream",
     "text": [
      "('python', 'python', 'python')\n"
     ]
    }
   ],
   "source": [
    "# criando uma tupla com repetição de tupla \n",
    "tupla3 = ('python',) * 3 \n",
    "print(tupla3)"
   ]
  },
  {
   "cell_type": "markdown",
   "metadata": {},
   "source": [
    "Conversão de lista em Tupla usando a função `tuple()`:"
   ]
  },
  {
   "cell_type": "code",
   "execution_count": 100,
   "metadata": {},
   "outputs": [
    {
     "name": "stdout",
     "output_type": "stream",
     "text": [
      "(0, 1, 2)\n",
      "('p', 'y', 't', 'h', 'o', 'n')\n"
     ]
    }
   ],
   "source": [
    "lista1 = [0, 1, 2] \n",
    "print(tuple(lista1)) \n",
    "print(tuple('python'))     # string 'python' "
   ]
  },
  {
   "cell_type": "markdown",
   "metadata": {},
   "source": [
    "A função `tuple()` recebe um único parâmetro que pode ser uma lista, uma string, um conjunto ou até mesmo um dicionário (somente as chaves são recebidas como elementos) e as converte em uma tupla."
   ]
  },
  {
   "cell_type": "markdown",
   "metadata": {},
   "source": [
    "### <tt>Métodos Básicos de Tupla</tt>\n",
    "Tuplas têm métodos embutidos, mas não tantos quanto os métodos disponíveis para listas."
   ]
  },
  {
   "cell_type": "code",
   "execution_count": 91,
   "metadata": {},
   "outputs": [
    {
     "data": {
      "text/plain": [
       "(0, 1)"
      ]
     },
     "execution_count": 91,
     "metadata": {},
     "output_type": "execute_result"
    }
   ],
   "source": [
    "# contagem de ocorrências de um dado elemento na tupla\n",
    "turma.count(10), turma.count(16)"
   ]
  },
  {
   "cell_type": "markdown",
   "metadata": {},
   "source": [
    "### <tt>Imutabilidade </tt>\n",
    "Relembrando: as tuplas são imutáveis, não se pode modificar uma tupla depois que ela for definida..."
   ]
  },
  {
   "cell_type": "code",
   "execution_count": 92,
   "metadata": {},
   "outputs": [
    {
     "data": {
      "text/plain": [
       "16"
      ]
     },
     "execution_count": 92,
     "metadata": {},
     "output_type": "execute_result"
    }
   ],
   "source": [
    "turma[2]"
   ]
  },
  {
   "cell_type": "code",
   "execution_count": 93,
   "metadata": {},
   "outputs": [
    {
     "ename": "TypeError",
     "evalue": "'tuple' object does not support item assignment",
     "output_type": "error",
     "traceback": [
      "\u001b[1;31m-----------------------------------------------------------------\u001b[0m",
      "\u001b[1;31mTypeError\u001b[0m                       Traceback (most recent call last)",
      "\u001b[1;32m<ipython-input-93-078ba61f6df1>\u001b[0m in \u001b[0;36m<module>\u001b[1;34m\u001b[0m\n\u001b[1;32m----> 1\u001b[1;33m \u001b[0mturma\u001b[0m\u001b[1;33m[\u001b[0m\u001b[1;36m2\u001b[0m\u001b[1;33m]\u001b[0m \u001b[1;33m=\u001b[0m \u001b[1;36m19\u001b[0m\u001b[1;33m\u001b[0m\u001b[1;33m\u001b[0m\u001b[0m\n\u001b[0m",
      "\u001b[1;31mTypeError\u001b[0m: 'tuple' object does not support item assignment"
     ]
    }
   ],
   "source": [
    "turma[2] = 19"
   ]
  },
  {
   "cell_type": "code",
   "execution_count": 94,
   "metadata": {},
   "outputs": [
    {
     "ename": "AttributeError",
     "evalue": "'tuple' object has no attribute 'append'",
     "output_type": "error",
     "traceback": [
      "\u001b[1;31m-----------------------------------------------------------------\u001b[0m",
      "\u001b[1;31mAttributeError\u001b[0m                  Traceback (most recent call last)",
      "\u001b[1;32m<ipython-input-94-ecd7a35727de>\u001b[0m in \u001b[0;36m<module>\u001b[1;34m\u001b[0m\n\u001b[1;32m----> 1\u001b[1;33m \u001b[0mturma\u001b[0m\u001b[1;33m.\u001b[0m\u001b[0mappend\u001b[0m\u001b[1;33m(\u001b[0m\u001b[1;34m'encerrada'\u001b[0m\u001b[1;33m)\u001b[0m\u001b[1;33m\u001b[0m\u001b[1;33m\u001b[0m\u001b[0m\n\u001b[0m",
      "\u001b[1;31mAttributeError\u001b[0m: 'tuple' object has no attribute 'append'"
     ]
    }
   ],
   "source": [
    "turma.append('encerrada')"
   ]
  },
  {
   "cell_type": "markdown",
   "metadata": {},
   "source": [
    "### <tt>Quando usar tuplas</tt>\n",
    "Você pode estar se perguntando: _\"Por que se preocupar em usar tuplas quando elas têm menos métodos disponíveis?\"_ Na verdade, as tuplas não são usadas tão frequentemente quanto as listas, mas são usadas quando a imutabilidade é necessária. Se no seu programa você está passando um objeto e precisa ter certeza de que ele não será alterado, então a tupla será a solução. Ela fornece uma forma conveniente de se obter integridade de dados."
   ]
  },
  {
   "cell_type": "code",
   "execution_count": 113,
   "metadata": {},
   "outputs": [
    {
     "data": {
      "text/plain": [
       "'ok'"
      ]
     },
     "execution_count": 113,
     "metadata": {},
     "output_type": "execute_result"
    }
   ],
   "source": [
    "max(tupla2)"
   ]
  },
  {
   "cell_type": "code",
   "execution_count": 114,
   "metadata": {},
   "outputs": [
    {
     "name": "stdout",
     "output_type": "stream",
     "text": [
      "Diferentes!\n",
      "Maiores elementos nas tuplas 1,2: python,ok\n",
      "Menores elementos nas tuplas 1,2: geek,codificador\n"
     ]
    }
   ],
   "source": [
    "# comparação de tuplas\n",
    "tupla1 = ('python', 'geek') \n",
    "tupla2 = ('codificador', 'ok') \n",
    "  \n",
    "# if cmp(tupla1, tupla2) != 0:              # python2\n",
    "   # cmp() retorna 0 se os argumentos se casam (são iguais), 1 quando a tupla1 não  \n",
    "   # é a maior das tuplas e -1 quando a tupla1 é menor que a tupla2 \n",
    "if (tupla1 > tupla2)-(tupla1 < tupla2):     # python3\n",
    "   print('Diferentes!') \n",
    "else: \n",
    "   print('Idênticas!') \n",
    "print ('Maiores elementos nas tuplas 1,2: ' + str(max(tupla1)) +  ',' + str(max(tupla2))) \n",
    "print ('Menores elementos nas tuplas 1,2: ' + str(min(tupla1)) + ','  + str(min(tupla2))) "
   ]
  },
  {
   "cell_type": "markdown",
   "metadata": {},
   "source": [
    "Obs.: \n",
    "- `max()` e `min()` verificam os valores baseados no código ASCII. Se houver duas strings em uma tupla, o primeiro caractere diferente nas strings será verificado.\n",
    "- `cmp()` é uma função embutida no Python, usada para comparar dois objetos e não retorna `True` ou `False` mas sim um valor negativo, zero ou positivo, com base nos objetos dados."
   ]
  },
  {
   "cell_type": "markdown",
   "metadata": {},
   "source": [
    "### Exercício\n",
    "1. Dada uma lista de tupla, a tarefa é somar as tuplas com o mesmo primeiro valor.\n",
    "\n",
    "Exemplos:\n",
    "\n",
    "    Entrada: [(1, 13), (2, 190), (3, 82), (1, 12)] \n",
    "    Saída:   [(1, 25), (2, 190), (3, 82)] \n",
    "    Entrada: [(1, 13), (1, 190), (3, 25), (1, 12)] \n",
    "    Saída:   [(1, 215), (3, 25)]"
   ]
  },
  {
   "cell_type": "code",
   "execution_count": 119,
   "metadata": {},
   "outputs": [
    {
     "name": "stdout",
     "output_type": "stream",
     "text": [
      "[(1, 215), (3, 23)]\n"
     ]
    },
    {
     "data": {
      "text/html": [
       "<script> code_show=true; \n",
       "  function code_toggle() {\n",
       "    if (code_show) {\n",
       "        $('div.cell.code_cell.rendered.selected div.input').hide(); } \n",
       "    else {\n",
       "        $('div.cell.code_cell.rendered.selected div.input').show(); }\n",
       "    code_show = !code_show\n",
       "  } \n",
       "$( document ).ready(code_toggle);\n",
       "</script>\n",
       "Para mostrar/esconder o código de entrada desta célula, \n",
       "clique <a href=\"javascript:code_toggle()\">aqui</a>."
      ],
      "text/plain": [
       "<IPython.core.display.HTML object>"
      ]
     },
     "execution_count": 119,
     "metadata": {},
     "output_type": "execute_result"
    }
   ],
   "source": [
    "Input = [(1, 13), (3, -2), (1, 190), (3, 25), (1, 12)] \n",
    "d = {x:0 for x, _ in Input} \n",
    "for nome, num in Input: d[nome] += num \n",
    " \n",
    "# using map \n",
    "Output = list(map(tuple, d.items())) \n",
    "print(Output)\n",
    "\n",
    "from IPython.display import HTML\n",
    "HTML('''<script> code_show=true; \n",
    "  function code_toggle() {\n",
    "    if (code_show) {\n",
    "        $('div.cell.code_cell.rendered.selected div.input').hide(); } \n",
    "    else {\n",
    "        $('div.cell.code_cell.rendered.selected div.input').show(); }\n",
    "    code_show = !code_show\n",
    "  } \n",
    "$( document ).ready(code_toggle);\n",
    "</script>\n",
    "Para mostrar/esconder o código de entrada desta célula, \n",
    "clique <a href=\"javascript:code_toggle()\">aqui</a>.''')"
   ]
  },
  {
   "cell_type": "markdown",
   "metadata": {},
   "source": [
    "<p style=\"text-align:right;\"><a href=\"#topo\">Volta ao topo</a>"
   ]
  },
  {
   "cell_type": "markdown",
   "metadata": {},
   "source": [
    "<a id=\"7.\"></a>\n",
    "## 7.\tConjunto\n",
    "\n",
    "O conteiner __conjunto__ (_set_, em inglês) pode ser usado na execução de operações de conjuntos matemáticos, tais como: união, interseção, diferença simétrica etc. \n",
    "\n",
    "Um **conjunto** é uma **coleção não ordenada de elementos únicos** e que podem ser alterados, acrescentados ou excluídos.\n",
    "\n",
    "### <tt>Criando um Conjunto</tt> \n",
    "\n",
    "Podemos usar a função `set()` ou um par de chaves `{ }` para criar um conjunto vazio, ou podemos ainda criá-los com elementos a partir de outras estruturas iteráveis (lista, tupla, dicionário etc). \n",
    "\n",
    "Exemplo: Criação e inserção de elementos num conjunto."
   ]
  },
  {
   "cell_type": "code",
   "execution_count": 120,
   "metadata": {},
   "outputs": [
    {
     "data": {
      "text/plain": [
       "set()"
      ]
     },
     "execution_count": 120,
     "metadata": {},
     "output_type": "execute_result"
    }
   ],
   "source": [
    "# criando um conjunto vazio: A = { }  ou\n",
    "A = set()\n",
    "A"
   ]
  },
  {
   "cell_type": "markdown",
   "metadata": {},
   "source": [
    "### <tt>Acrescentando Elemento(s) ao Conjunto</tt>"
   ]
  },
  {
   "cell_type": "code",
   "execution_count": 121,
   "metadata": {},
   "outputs": [
    {
     "data": {
      "text/plain": [
       "{'ok'}"
      ]
     },
     "execution_count": 121,
     "metadata": {},
     "output_type": "execute_result"
    }
   ],
   "source": [
    "A.add('ok')\n",
    "A"
   ]
  },
  {
   "cell_type": "code",
   "execution_count": 122,
   "metadata": {},
   "outputs": [
    {
     "data": {
      "text/plain": [
       "{1, 'ok'}"
      ]
     },
     "execution_count": 122,
     "metadata": {},
     "output_type": "execute_result"
    }
   ],
   "source": [
    "A.add(1)\n",
    "A.add(1)          # elementos repetidos não são incluídos...\n",
    "A"
   ]
  },
  {
   "cell_type": "code",
   "execution_count": 123,
   "metadata": {},
   "outputs": [
    {
     "data": {
      "text/plain": [
       "{-8, 1, 'ok'}"
      ]
     },
     "execution_count": 123,
     "metadata": {},
     "output_type": "execute_result"
    }
   ],
   "source": [
    "A.add(-8)\n",
    "A"
   ]
  },
  {
   "cell_type": "code",
   "execution_count": 124,
   "metadata": {},
   "outputs": [
    {
     "data": {
      "text/plain": [
       "{-8, 1, 5, 'ok'}"
      ]
     },
     "execution_count": 124,
     "metadata": {},
     "output_type": "execute_result"
    }
   ],
   "source": [
    "A.add(5)\n",
    "A                 # coleção não ordenada"
   ]
  },
  {
   "cell_type": "markdown",
   "metadata": {},
   "source": [
    "Observe que os elementos não guardam, obrigatoriamente, qualquer ordem no conjunto e que elementos já existentes não são repetidos ao serem adicionados mais de uma vez ao conjunto."
   ]
  },
  {
   "cell_type": "markdown",
   "metadata": {},
   "source": [
    "Exemplo:  Supressão de elementos repetidos de uma lista ou tupla:"
   ]
  },
  {
   "cell_type": "code",
   "execution_count": 125,
   "metadata": {},
   "outputs": [
    {
     "name": "stdout",
     "output_type": "stream",
     "text": [
      "{22, 23, 25, 26, 27, 28}\n"
     ]
    }
   ],
   "source": [
    "lista = [22,22,23,25,25,25,26,26,27,28,28]\n",
    "print(set(lista))"
   ]
  },
  {
   "cell_type": "code",
   "execution_count": 126,
   "metadata": {},
   "outputs": [
    {
     "data": {
      "text/plain": [
       "(22, 22, 23, 25, 25, 25, 26, 26, 27, 28, 28)"
      ]
     },
     "execution_count": 126,
     "metadata": {},
     "output_type": "execute_result"
    }
   ],
   "source": [
    "tupla = tuple(lista)\n",
    "tupla"
   ]
  },
  {
   "cell_type": "code",
   "execution_count": 128,
   "metadata": {},
   "outputs": [
    {
     "name": "stdout",
     "output_type": "stream",
     "text": [
      "{22, 23, 25, 26, 27, 28}\n"
     ]
    }
   ],
   "source": [
    "B = set(tupla)\n",
    "print(B)"
   ]
  },
  {
   "cell_type": "markdown",
   "metadata": {},
   "source": [
    "### <tt>Removendo Elemento(s) de um Conjunto</tt>\n",
    "\n",
    "Um item específico pode ser removido do conjunto usando os métodos: `discard()` e `remove()`. A diferença entre esses métodos é que, ao usar o __discard(item)__ se o __item__ não existir no conjunto, então ocorre uma ação, enquanto o método __remove(item)__ gerará um erro nessa situação."
   ]
  },
  {
   "cell_type": "code",
   "execution_count": 129,
   "metadata": {},
   "outputs": [
    {
     "data": {
      "text/plain": [
       "{22, 25, 26, 27, 28}"
      ]
     },
     "execution_count": 129,
     "metadata": {},
     "output_type": "execute_result"
    }
   ],
   "source": [
    "B.discard(23)\n",
    "B"
   ]
  },
  {
   "cell_type": "code",
   "execution_count": 130,
   "metadata": {},
   "outputs": [
    {
     "ename": "KeyError",
     "evalue": "23",
     "output_type": "error",
     "traceback": [
      "\u001b[1;31m-----------------------------------------------------------------\u001b[0m",
      "\u001b[1;31mKeyError\u001b[0m                        Traceback (most recent call last)",
      "\u001b[1;32m<ipython-input-130-7e94e52cea6e>\u001b[0m in \u001b[0;36m<module>\u001b[1;34m\u001b[0m\n\u001b[0;32m      1\u001b[0m \u001b[0mB\u001b[0m\u001b[1;33m.\u001b[0m\u001b[0mdiscard\u001b[0m\u001b[1;33m(\u001b[0m\u001b[1;36m23\u001b[0m\u001b[1;33m)\u001b[0m\u001b[1;33m\u001b[0m\u001b[1;33m\u001b[0m\u001b[0m\n\u001b[1;32m----> 2\u001b[1;33m \u001b[0mB\u001b[0m\u001b[1;33m.\u001b[0m\u001b[0mremove\u001b[0m\u001b[1;33m(\u001b[0m\u001b[1;36m23\u001b[0m\u001b[1;33m)\u001b[0m\u001b[1;33m\u001b[0m\u001b[1;33m\u001b[0m\u001b[0m\n\u001b[0m",
      "\u001b[1;31mKeyError\u001b[0m: 23"
     ]
    }
   ],
   "source": [
    "B.discard(23)\n",
    "B.remove(23)"
   ]
  },
  {
   "cell_type": "markdown",
   "metadata": {},
   "source": [
    "### <tt>União de Conjuntos</tt>\n",
    "\n",
    "A união dos conjuntos __A__ e __B__ é um conjunto de todos os elementos de ambos os conjuntos. União é realizada usando operador ‘|’ ou o método __union()__.\n"
   ]
  },
  {
   "cell_type": "code",
   "execution_count": 134,
   "metadata": {},
   "outputs": [
    {
     "name": "stdout",
     "output_type": "stream",
     "text": [
      "{3, 4, 5, 6}\n",
      "{3, 4, 5, 6}\n"
     ]
    }
   ],
   "source": [
    "A = {3,4,5}\n",
    "B = {4,5,6}\n",
    "print(A | B)            # união dos conjuntos A e B\n",
    "print(A.union(B))       # união dos conjuntos A e B"
   ]
  },
  {
   "cell_type": "markdown",
   "metadata": {},
   "source": [
    "### <tt>Interseção entre Conjuntos </tt>\n",
    "\n",
    "A interseção entre __A__ e __B__ é um conjunto de elementos comuns a ambos os conjuntos. A interseção é realizada usando o operador '&' ou o método __intersection()__."
   ]
  },
  {
   "cell_type": "code",
   "execution_count": 135,
   "metadata": {},
   "outputs": [
    {
     "name": "stdout",
     "output_type": "stream",
     "text": [
      "{4, 5}\n"
     ]
    }
   ],
   "source": [
    "B.intersection(A)\n",
    "print(B & A)"
   ]
  },
  {
   "cell_type": "markdown",
   "metadata": {},
   "source": [
    "<p style=\"text-align:right;\"><a href=\"#topo\">Volta ao topo</a>"
   ]
  },
  {
   "cell_type": "markdown",
   "metadata": {
    "collapsed": true
   },
   "source": [
    "Fonte: E:\\python\\bibliografia\\Scipy_Lectures"
   ]
  }
 ],
 "metadata": {
  "kernelspec": {
   "display_name": "Python 3",
   "language": "python",
   "name": "python3"
  },
  "language_info": {
   "codemirror_mode": {
    "name": "ipython",
    "version": 3
   },
   "file_extension": ".py",
   "mimetype": "text/x-python",
   "name": "python",
   "nbconvert_exporter": "python",
   "pygments_lexer": "ipython3",
   "version": "3.7.2"
  }
 },
 "nbformat": 4,
 "nbformat_minor": 2
}
