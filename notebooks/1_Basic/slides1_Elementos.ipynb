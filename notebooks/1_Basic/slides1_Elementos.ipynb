{
 "cells": [
  {
   "cell_type": "markdown",
   "metadata": {
    "slideshow": {
     "slide_type": "slide"
    }
   },
   "source": [
    "<p style=\"text-align:center; font-size: 0.875em; color:White; background-color:DodgerBlue;\">Prof. Cláudio Fleury - Set/2021</p>  \n",
    "\n",
    "# Introdução\n",
    "\n",
    "Existem duas versões principais da linguagem Python: **Python 2** e **Python 3**, e por sinal, são bem diferentes. Este curso usará a versão **Python 3**, por ela oferecer suporte a recursos mais recentes e pela outra versão que não terá mais suporte a patir de 2022.\n",
    "\n",
    "**Python** é uma linguagem muito simples e tem uma sintaxe muito direta. A instrução mais simples em Python é a que realiza a saída de dados: `print()` - ela imprime uma linha e também inclui a mudança para uma nova linha.\n",
    "\n",
    "Para imprimir uma *string* em Python 3, basta escrever:  \n",
    "(para executar a seguinte célula de código: <font color=\"blue\" face=\"Verdana, Geneva, sans-serif\" size=\"-1\">selecione a célula e tecle </font>`[Shift]+[Enter]` ou `[Ctrl]+[Enter]`)"
   ]
  },
  {
   "cell_type": "code",
   "execution_count": 4,
   "metadata": {
    "slideshow": {
     "slide_type": "subslide"
    }
   },
   "outputs": [
    {
     "name": "stdout",
     "output_type": "stream",
     "text": [
      "Curso de Introdução à Linguagem Python 3 - Turma 202109\n"
     ]
    }
   ],
   "source": [
    "print(\"Curso de Introdução à Linguagem Python 3 - Turma 202109\")"
   ]
  },
  {
   "cell_type": "markdown",
   "metadata": {
    "slideshow": {
     "slide_type": "slide"
    }
   },
   "source": [
    "# Elementos da Linguagem Python\n",
    "\n",
    "<ul><li><b>Vocabulário</b>: nomes de variáveis e palavras reservadas</li>\n",
    "    <li><b>Sentenças</b>: padrões de sintaxe válida</li>\n",
    "    <li><b>Textos</b>: programa para resolver um problema</li>\n",
    "    <li><b>Gramática</b>: regras</ul>"
   ]
  },
  {
   "cell_type": "markdown",
   "metadata": {
    "slideshow": {
     "slide_type": "slide"
    }
   },
   "source": [
    "## 1. Palavras Reservadas\n",
    "Não podem ser usadas como identificadores de variáveis, funções ou classes.\n",
    "<img src=\"img/palavras_reservadas.png\" alt=\"Relação de Palavras reservadas na Ling. Python\" width=350px>  \n",
    "\n",
    "| Palavra-chave | Descrição\n",
    "|:---:|:---\n",
    "|and| Um operador lógico\n",
    "|as| Para criar um apelido (*alias*)\n",
    "|assert| Para depuração (*debugging*)\n",
    "|break| Para interromper um laço de repetição\n",
    "|class| Para definir uma classe\n",
    "|continue| Para continuar na próxima iteração de um laço\n",
    "|def| Para definir uma função do usuário\n",
    "|del| Para excluir um objeto\n",
    "|elif| Usado em declarações condicionais (**senão se**)\n",
    "|else| Usado em declarações condicionais (**senão**)\n",
    "|except| Usado no tratamento de exceções (o que fazer quando ocorre uma exceção)\n",
    "|False| Valor booleano, resultado de operações de comparação\n",
    "!finally| Usado em exceções (bloco de cód. sempre executado)\n",
    "|for| Para criar um laço `for`\n",
    "|from| Para importar partes específicas de um módulo\n",
    "|global| Para declarar uma variável global\n",
    "|if| Para fazer uma declaração condicional\n",
    "|import| Para importar um módulo\n",
    "|in| Para verificar se um valor está presente em uma lista, tupla, etc.\n",
    "|is| Para testar se duas variáveis são iguais\n",
    "|lambda| Para criar uma função anônima\n",
    "|None| Representa um valor nulo\n",
    "|nonlocal| Para declarar uma variável não local\n",
    "|not| Um operador lógico\n",
    "|or| Um operador lógico\n",
    "|pass| Uma declaração nula (declaração que não faz nada)\n",
    "|raise| Para levantar (gerar) uma exceção\n",
    "|return| Para sair de uma função e retornar um valor\n",
    "|True| Valor booleano, resultado de operações de comparação\n",
    "|try| Para fazer uma tentativa... com tratamento de exceção\n",
    "|while| Para criar um laço com teste no início\n",
    "|with| Usado para simplificar o tratamento de exceções\n",
    "|yield| Para finalizar uma função, retorna um gerador"
   ]
  },
  {
   "cell_type": "code",
   "execution_count": 2,
   "metadata": {},
   "outputs": [
    {
     "name": "stdout",
     "output_type": "stream",
     "text": [
      "['False', 'None', 'True', 'and', 'as', 'assert', 'async', 'await', 'break', 'class', 'continue', 'def', 'del', 'elif', 'else', 'except', 'finally', 'for', 'from', 'global', 'if', 'import', 'in', 'is', 'lambda', 'nonlocal', 'not', 'or', 'pass', 'raise', 'return', 'try', 'while', 'with', 'yield']\n"
     ]
    }
   ],
   "source": [
    "import keyword\n",
    "print(keyword.kwlist)"
   ]
  },
  {
   "cell_type": "markdown",
   "metadata": {
    "slideshow": {
     "slide_type": "slide"
    }
   },
   "source": [
    "## 2. Sentenças\n",
    "\n",
    "Podem ser formadas a partir do uso dos elementos da linguagem, tais como: variáveis, operadores, constantes, palavras reservadas, funções, classes etc.\n",
    "\n",
    "```python\n",
    "x = 2                # atribuição de uma constante numérica à variável 'x'\n",
    "x = x + 100          # atribuição de expressão aritmética à variável 'x'\n",
    "print(x)             # função de apresentação de valor da variável 'x' (saída de dados)\n",
    "```\n",
    "Essas sentenças serão interpretadas pela linguagem na ordem em que são apresentadas, ou seja, de cima para baixo, uma a uma.\n",
    "\n",
    ">* A primeira sentença, **`x = 2`**, armazena a informação à direita do operador de atribuição `=`, nesse caso a constante numérica **`2`**, à variável chamada **`x`**.  \n",
    ">* A segunda sentença, **`x = x + 100`**, armazena o resultado da expressão à direita do operador de atribuição **`=`**, nesse caso o valor **`102`**, à variável chamada **`x`**.  \n",
    ">* E a terceira sentença **`print(x)`** mostra o valor corrente da variável **`x`**, nesse caso o valor **`102`**, na parte inferior da mesma célula do Jupyter Notebook com essa sequência de sentenças (*script*).  \n"
   ]
  },
  {
   "cell_type": "markdown",
   "metadata": {
    "slideshow": {
     "slide_type": "slide"
    }
   },
   "source": [
    "## 3. Textos (*Scripts* Python)\n",
    "* Execuções interativas (usando o interpretador padrão) são boas para experimentos e programas de 3 a 4 linhas.\n",
    "* A maioria dos programas efetivos possuem mais de 4 linhas, e geralmente digitamos os comandos em um arquivo (*script*) e dizemos à Python para executar os comandos existentes naquele arquivo. De certa forma, estamos dando um roteiro (*script*) a ser seguido pelo interpretador Python.\n",
    "* Por convenção, usamos `.py` como extensão dos arquivos com roteiros Python.\n",
    "\n",
    "### Interativo  X  Script\n",
    "No modo **interativo** o usuário digita as sentenças Python diretamente na linha de comandos, logo depois do *prompt* **`>>>`**, e finaliza a sentença com um [Enter]. Na sequência o interpretador analisa a sentença, e se estiver correta, ele apresenta o resultado do comando.\n",
    "\n",
    "No modo ***script*** o interpretador Python executará, um a um, os comandos existentes no arquivo informado pelo usuário como *script*."
   ]
  },
  {
   "cell_type": "code",
   "execution_count": 6,
   "metadata": {
    "slideshow": {
     "slide_type": "subslide"
    }
   },
   "outputs": [
    {
     "name": "stdout",
     "output_type": "stream",
     "text": [
      "250\n"
     ]
    }
   ],
   "source": [
    "# Script 1\n",
    "# Função criada pelo usuário\n",
    "def dobro(x):\n",
    "    print(x * 2)\n",
    "\n",
    "dobro(125)"
   ]
  },
  {
   "cell_type": "code",
   "execution_count": 12,
   "metadata": {
    "slideshow": {
     "slide_type": "subslide"
    }
   },
   "outputs": [
    {
     "name": "stdout",
     "output_type": "stream",
     "text": [
      "Arquivo: Carrega_IPYNB.bat\n",
      "Palavra mais frequente Curso, com 3 ocorrências.\n"
     ]
    }
   ],
   "source": [
    "# Script 2\n",
    "# Mostra a palavra e a qtde de ocorrências em um texto gravado em arquivo (.txt)\n",
    "nomearq = input(\"Arquivo: \")\n",
    "arq = open(nomearq)\n",
    "contagens = {}                 # dicionário vazio\n",
    "for linha in arq:\n",
    "    palavras = linha.split()\n",
    "    for palavra in palavras:\n",
    "        contagens[palavra] = contagens.get(palavra,0) + 1\n",
    "contmaior = None\n",
    "palavfreq = None\n",
    "for palavra, contagem in contagens.items():\n",
    "    if contmaior is None or contagem > contmaior:\n",
    "        palavfreq = palavra\n",
    "        contmaior = contagem\n",
    "print(f\"Palavra mais frequente {palavfreq}, com {contmaior} ocorrências.\")"
   ]
  },
  {
   "cell_type": "code",
   "execution_count": 11,
   "metadata": {
    "scrolled": true,
    "slideshow": {
     "slide_type": "subslide"
    }
   },
   "outputs": [
    {
     "name": "stdout",
     "output_type": "stream",
     "text": [
      "{'Echo': 2, 'off': 1, '***': 2, 'Ativando': 1, 'servidor': 1, 'de': 2, 'Jupyter': 1, 'Notebook': 1, 'para': 1, 'Curso': 3, 'Python': 1, '3': 1, 'd:': 1, 'cd': 1, 'D:\\\\python\\\\cursos\\\\curso_ifg\\\\1_basico\\\\202003\\\\1_Basic': 1, '\"\\\\python\\\\WPy64-3850\\\\Jupyter': 1, 'Notebook.exe\"': 1}\n"
     ]
    }
   ],
   "source": [
    "print(contagens)"
   ]
  },
  {
   "cell_type": "markdown",
   "metadata": {
    "slideshow": {
     "slide_type": "slide"
    }
   },
   "source": [
    "### Estruturas de Controle do Fluxo de Execução do *Script*\n",
    "\n",
    "* Sequencial\n",
    "```python\n",
    "x = 2\n",
    "print(x)\n",
    "x = x + 100\n",
    "print(x)\n",
    "```\n",
    "\n",
    "* Condicional (Alternativa)\n",
    "```python\n",
    "x = 12\n",
    "if x < 10:\n",
    "     print(\"Menor que 10\")\n",
    "if x > 20:\n",
    "     print(\"Maior que 20\")\n",
    "print(\"Fim.\")\n",
    "```\n",
    "\n",
    "* Repetição (Laço)\n",
    "```python\n",
    "n = 0\n",
    "while n < 10:\n",
    "     print(n+1)\n",
    "     n = n + 1\n",
    "print(\"Fim.\")\n",
    "```"
   ]
  },
  {
   "cell_type": "markdown",
   "metadata": {
    "slideshow": {
     "slide_type": "slide"
    }
   },
   "source": [
    "## 4. Regras\n",
    "### 4.1 Recuo (Indentação)\n",
    "A ling. Python usa **indentação** para delimitar blocos de comandos, em vez de chaves, como na ling.s C/C++. Pode-se usar tabulações ou espaços em branco, mas o recuo padrão determina quatro espaços. Por exemplo:"
   ]
  },
  {
   "cell_type": "code",
   "execution_count": 7,
   "metadata": {
    "slideshow": {
     "slide_type": "subslide"
    }
   },
   "outputs": [
    {
     "name": "stdout",
     "output_type": "stream",
     "text": [
      "x é 1.\n"
     ]
    }
   ],
   "source": [
    "x = 1\n",
    "if x == 1:\n",
    "    # recuo de 4 espaços em branco\n",
    "    print(\"x é 1.\")\n",
    "y = 33"
   ]
  },
  {
   "cell_type": "markdown",
   "metadata": {
    "slideshow": {
     "slide_type": "slide"
    }
   },
   "source": [
    "### 4.2 Exercício\n",
    "Use a função `print()` para imprimir **'Olá, Mundo!'**."
   ]
  },
  {
   "cell_type": "code",
   "execution_count": 10,
   "metadata": {
    "slideshow": {
     "slide_type": "subslide"
    }
   },
   "outputs": [
    {
     "name": "stdout",
     "output_type": "stream",
     "text": [
      "Oi pessoal!\n"
     ]
    }
   ],
   "source": [
    "print(\"Oi pessoal!\")"
   ]
  },
  {
   "cell_type": "markdown",
   "metadata": {
    "slideshow": {
     "slide_type": "slide"
    }
   },
   "source": [
    "# Fim.\n",
    "<p style=\"text-align:right;\"><a href='../Índice.ipynb' target=\"_self\">Volta ao Índice</a></p>"
   ]
  },
  {
   "cell_type": "markdown",
   "metadata": {
    "slideshow": {
     "slide_type": "notes"
    }
   },
   "source": [
    "Referência (livro gratuito, pdf): **[Python para Todos](http://do1.dr-chuck.com/pythonlearn/PT_br/pythonlearn.pdf)**, 2020, em português.  \n",
    "\n",
    "Obs.: Para iniciar a extensão **nbextension** no browser sempre que um novo notebook for carregado:\n",
    "\n",
    "          $ jupyter nbextension enable rise --py --sys-prefix"
   ]
  }
 ],
 "metadata": {
  "celltoolbar": "Slideshow",
  "kernelspec": {
   "display_name": "Python 3",
   "language": "python",
   "name": "python3"
  },
  "language_info": {
   "codemirror_mode": {
    "name": "ipython",
    "version": 3
   },
   "file_extension": ".py",
   "mimetype": "text/x-python",
   "name": "python",
   "nbconvert_exporter": "python",
   "pygments_lexer": "ipython3",
   "version": "3.8.3"
  }
 },
 "nbformat": 4,
 "nbformat_minor": 4
}
