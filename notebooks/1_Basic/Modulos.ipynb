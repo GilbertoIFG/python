{
 "cells": [
  {
   "cell_type": "markdown",
   "metadata": {},
   "source": [
    "<a id=\"topo\"></a>\n",
    "# Módulos em Python\n",
    "1. [Introdução](#1.)  \n",
    "   1.1 [Módulos Integrados em Python](#1.1)  \n",
    "   1.2 [Diferença entre Módulo e Pacote](#1.2)  \n",
    "   1.3 [Lista de Módulos](#1.3)  \n",
    "   1.4 [Importação de um Módulo em Diretório Diferente](#1.4)  \n",
    "1. [Módulos](#2.)  \n",
    "   2.1 [Importando uma Função Específica de um Módulo](#2.1)  \n",
    "1. [Fontes](#3.)  "
   ]
  },
  {
   "cell_type": "markdown",
   "metadata": {},
   "source": [
    "<a id=\"1.\"></a>\n",
    "## 1. Introdução\n",
    "Um Módulo em Python é essencialmente um arquivo de *script* Python que pode conter variáveis, funções e classes. Os módulos Python ajudam a **organizar o código** para podermos **reutilizá-los** \n",
    "em outras classes ou *scripts* Python.\n",
    "\n",
    "Um arquivo .py contendo definições e instruções Python é chamado de **Módulo Python**. O nome do arquivo é o nome do módulo.\n",
    "\n",
    "Vamos criar um módulo chamado `seqNumeros.py` com o seguinte conteúdo:"
   ]
  },
  {
   "cell_type": "code",
   "execution_count": 8,
   "metadata": {},
   "outputs": [],
   "source": [
    "def printCrescente(n):       # imprime de '1' a 'n'\n",
    "    for i in range(n):\n",
    "        print(i+1, end=\", \")\n",
    "    print(\"\\b\\b.\")\n",
    "\n",
    "def printDecrescente(n):     # imprime de 'n' a '1'\n",
    "    for i in range(n):\n",
    "        print(n-i, end=\", \")\n",
    "    print(\"\\b\\b.\")"
   ]
  },
  {
   "cell_type": "markdown",
   "metadata": {},
   "source": [
    "Salve as funções `printCrescente()` e `printDecrescente()` num arquivo `seqNumeros.py` e depois importe esse módulo usando:  `import seqNumeros as sn`"
   ]
  },
  {
   "cell_type": "code",
   "execution_count": 1,
   "metadata": {},
   "outputs": [],
   "source": [
    "import seqNumeros as sn"
   ]
  },
  {
   "cell_type": "markdown",
   "metadata": {},
   "source": [
    "Este comando de importação procurará o arquivo `seqNumeros.py` no diretório atual e nas localizações da variável de sistema `PATH`. Assim que o arquivo for encontrado, o conteúdo do arquivo estará disponível para uso.\n",
    "\n",
    "Agora, para acessar uma função do módulo, precisamos usar o codinome (apelido) dado ao módulo: `sn`"
   ]
  },
  {
   "cell_type": "code",
   "execution_count": 2,
   "metadata": {
    "scrolled": true
   },
   "outputs": [
    {
     "name": "stdout",
     "output_type": "stream",
     "text": [
      "1, 2, 3, 4, 5, 6, 7, 8, 9, 10, \b\b.\n",
      "20, 19, 18, 17, 16, 15, 14, 13, 12, 11, 10, 9, 8, 7, 6, 5, 4, 3, 2, 1, \b\b.\n"
     ]
    }
   ],
   "source": [
    "sn.printCrescente(10)\n",
    "sn.printDecrescente(20)"
   ]
  },
  {
   "cell_type": "markdown",
   "metadata": {},
   "source": [
    "<p style=\"text-align:right;\"><a href=\"#topo\">Volta ao topo</a></p>"
   ]
  },
  {
   "cell_type": "markdown",
   "metadata": {},
   "source": [
    "<a id=\"1.1\"></a>\n",
    "### 1.1 Módulos Integrados em Python\n",
    "\n",
    "Os **Módulos Integrados** são escritos em ling. C (por questão de performance) e incorporados ao interpretador Python. Cada módulo integrado (embutido, incorporado, embarcado) contém recursos para certas funcionalidades específicas do sistema, como gerenciamento do S.O., E/S de disco etc. A biblioteca padrão também contém muitos *scripts* Python (com a extensão .py) com utilitários úteis.\n",
    "\n",
    "Uma lista dos módulos da **Biblioteca Padrão** do Python pode ser encontrada em https://docs.python.org/3/library/index.html. Os seguintes módulos estão entre os mais usados:  \n",
    "- collections\n",
    "- datetime\n",
    "- logging\n",
    "- math\n",
    "- numpy\n",
    "- os\n",
    "- pip\n",
    "- sys\n",
    "- time\n",
    "- ..."
   ]
  },
  {
   "cell_type": "markdown",
   "metadata": {},
   "source": [
    "<p style=\"text-align:right;\"><a href=\"#topo\">Volta ao topo</a></p>"
   ]
  },
  {
   "cell_type": "markdown",
   "metadata": {},
   "source": [
    "<a id=\"1.2\"></a>\n",
    "### 1.2 Diferença entre Módulo e Pacote\n",
    "Um pacote (*package*) Python é uma coleção de módulos Python. O módulo Python é um único arquivo `.py`, enquanto o pacote python é um diretório com vários *scripts* Python e o arquivo `__init__.py` que define os detalhes do pacote.\n",
    "\n",
    "**Obs.**: A partir da versão 3.4 o arquivo `__init__.py` não precisa mais existir no diretório do pacote.\n",
    "\n",
    "- O <b>Módulo</b> é um objeto (em Python tudo é objeto) que serve como uma unidade organizacional de código Python. Cada <b>Módulo</b> tem um <i>namespace</i> exclusivo contendo objetos Python, tais como instâncias, classes, funções etc.  \n",
    "  \n",
    "  \n",
    "- O <b>Pacote</b> é uma forma de definir <i>namespaces</i> para os módulos, permitindo que inúmeros módulos de mesmo nome coexistam sem interferência. Um <b>pacote</b> Python é um diretório que contém módulos.\n"
   ]
  },
  {
   "cell_type": "markdown",
   "metadata": {},
   "source": [
    "<p style=\"text-align:right;\"><a href=\"#topo\">Volta ao topo</a></p>"
   ]
  },
  {
   "cell_type": "markdown",
   "metadata": {},
   "source": [
    "<a id=\"1.3\"></a>\n",
    "### 1.3 Lista de Módulos\n",
    "Você pode encontrar a lista de módulos Python na página oficial do [Índice de Módulos Python](https://docs.python.org/3/py-modindex.html) (*Python Module Index*). \n",
    "\n",
    "Verifique o [repositório](https://github.com/journaldev/journaldev/tree/master/Python-3#python-modules) no GitHub para obter uma lista dos módulos Python mais importantes e conheça-os por meio de seus tutoriais específicos e programas exemplos."
   ]
  },
  {
   "cell_type": "code",
   "execution_count": 5,
   "metadata": {},
   "outputs": [
    {
     "name": "stdout",
     "output_type": "stream",
     "text": [
      "Qtde de pacotes instalados:  461\n",
      "Pacotes instalados:  ['adodbapi', 'affine', 'aiofiles', 'aiohttp', 'aiosqlite', 'alabaster', 'altair', 'altair-data-server', 'altair-transform', 'altair-widgets', 'altgraph', 'amply', 'aniso8601', 'ansiwrap', 'appdirs', 'argon2-cffi', 'asciitree', 'asgi-csrf', 'asgiref', 'asteval', 'astroid', 'astroml', 'astropy', 'async-generator', 'async-timeout', 'atomicwrites', 'attrs', 'audioread', 'autopep8', 'babel', 'backcall', 'backports-abc', 'baresql', 'bcolz', 'bcrypt', 'beautifulsoup4', 'black', 'bleach', 'blinker', 'blosc', 'bloscpack', 'bokeh', 'bottleneck', 'bqplot', 'branca', 'brewer2mpl', 'brotli', 'cachelib', 'cartopy', 'certifi', 'cffi', 'cftime', 'chardet', 'click', 'click-default-group', 'click-plugins', 'cligj', 'cloudpickle', 'clrmagic', 'colorama', 'colorcet', 'comtypes', 'control', 'cryptography', 'cvxopt', 'cvxpy', 'cx-freeze', 'cycler', 'cython', 'cytoolz', 'dask', 'dask-glm', 'dask-labextension', 'dask-ml', 'dask-searchcv', 'databases', 'datasette', 'datashader', 'datashape', 'db.py', 'decorator', 'defusedxml', 'deprecated', 'descartes', 'diff-match-patch', 'distlib', 'distributed', 'docopt', 'docrepr', 'docutils', 'ecos', 'emcee', 'entrypoints', 'fast-histogram', 'fasteners', 'fastparquet', 'feather-format', 'filelock', 'fiona', 'flake8', 'flask', 'flask-accepts', 'flask-mail', 'flask-restx', 'flask-session', 'flask-sqlalchemy', 'flaskerize', 'folium', 'formlayout', 'fs', 'fsspec', 'future', 'fuzzywuzzy', 'gdal', 'geographiclib', 'geopandas', 'geopy', 'geoviews', 'gmpy2', 'greenlet', 'guidata', 'guiqwt', 'h11', 'h2', 'h5py', 'heapdict', 'helpdev', 'holoviews', 'hpack', 'html5lib', 'httpie', 'hupper', 'husl', 'hvplot', 'hypercorn', 'hyperframe', 'hypothesis', 'ibis-framework', 'idlex', 'idna', 'imageio', 'imageio-ffmpeg', 'imagesize', 'imbalanced-learn', 'importlib-metadata', 'iniconfig', 'intake', 'intervaltree', 'ipykernel', 'ipyleaflet', 'ipympl', 'ipyparallel', 'ipython', 'ipython-genutils', 'ipython-sql', 'ipywidgets', 'isort', 'itsdangerous', 'janus', 'jedi', 'jinja2', 'joblib', 'json5', 'jsonschema', 'julia', 'jupyter', 'jupyter-bokeh', 'jupyter-client', 'jupyter-console', 'jupyter-core', 'jupyter-server', 'jupyter-server-proxy', 'jupyter-sphinx', 'jupyterlab', 'jupyterlab-launcher', 'jupyterlab-pygments', 'jupyterlab-server', 'keyring', 'kiwisolver', 'lazy-object-proxy', 'librosa', 'llvmlite', 'lmfit', 'locket', 'loky', 'lxml', 'lz4', 'markdown', 'markupsafe', 'marshmallow', 'matplotlib', 'mccabe', 'mercantile', 'mergedeep', 'metakernel', 'mistune', 'mizani', 'mkl-service', 'mlxtend', 'monotonic', 'more-itertools', 'moviepy', 'mpl-scatter-density', 'mpld3', 'mpldatacursor', 'mpmath', 'msgpack', 'msvc-runtime', 'multidict', 'multipledispatch', 'munch', 'mypy', 'mypy-extensions', 'mysql-connector-python', 'nbclient', 'nbconvert', 'nbconvert-reportlab', 'nbformat', 'nest-asyncio', 'netcdf4', 'networkx', 'nlopt', 'nltk', 'notebook', 'numba', 'numcodecs', 'numdifftools', 'numexpr', 'numpy', 'numpydoc', 'oct2py', 'octave-kernel', 'osqp', 'outcome', 'packaging', 'palettable', 'pandas', 'pandas-datareader', 'pandocfilters', 'panel', 'papermill', 'param', 'parambokeh', 'paramiko', 'paramnb', 'parso', 'partd', 'passlib', 'pathspec', 'pathtools', 'patsy', 'pdfrw', 'pdvega', 'pefile', 'pep8', 'pexpect', 'pg8000', 'pickleshare', 'pillow', 'pint', 'pip', 'pipdeptree', 'pkginfo', 'playsound', 'plotly', 'plotnine', 'pluggy', 'ply', 'pooch', 'portpicker', 'ppci', 'prettytable', 'priority', 'proglog', 'prometheus-client', 'prompt-toolkit', 'protobuf', 'psutil', 'ptpython', 'ptvsd', 'ptyprocess', 'pulp', 'py', 'pyaml', 'pyarrow', 'pyaudio', 'pybars3', 'pybind11', 'pycodestyle', 'pycosat', 'pycparser', 'pyct', 'pydeck', 'pydocstyle', 'pyepsg', 'pyflakes', 'pyflux', 'pygame', 'pygbm', 'pygments', 'pyhdf', 'pyinstaller', 'pylint', 'pymc', 'pymeta3', 'pymongo', 'pynacl', 'pyodbc', 'pyopengl', 'pypandoc', 'pyparsing', 'pyproj', 'pyqt5', 'pyqt5-sip', 'pyqtgraph', 'pyqtwebengine', 'pyrsistent', 'pyserial', 'pyshp', 'pystache', 'pytest', 'python-baseconv', 'python-dateutil', 'python-dotenv', 'python-hdf4', 'python-jsonrpc-server', 'python-language-server', 'python-levenshtein', 'python-snappy', 'pythonnet', 'pythonqwt', 'pytz', 'pyviz-comms', 'pywavelets', 'pywin32', 'pywin32-ctypes', 'pywinpty', 'pywinusb', 'pyyaml', 'pyzmq', 'pyzo', 'qdarkstyle', 'qtawesome', 'qtconsole', 'qtpy', 'quantecon', 'quart', 'rasterio', 'readme-renderer', 'redis', 'regex', 'reportlab', 'requests', 'requests-toolbelt', 'resampy', 'retrying', 'rfc3986', 'rise', 'rope', 'rpy2', 'rtree', 'ruamel.yaml', 'ruamel.yaml.clib', 'rx', 'scikit-fuzzy', 'scikit-image', 'scikit-learn', 'scikit-optimize', 'scilab2py', 'scipy', 'scs', 'seaborn', 'send2trash', 'setuptools', 'shap', 'shapely', 'simpervisor', 'simplegeneric', 'simplejson', 'simpy', 'six', 'snakeviz', 'sniffio', 'snowballstemmer', 'snuggs', 'sortedcontainers', 'sounddevice', 'soundfile', 'soupsieve', 'sphinx', 'sphinx-rtd-theme', 'sphinxcontrib-applehelp', 'sphinxcontrib-devhelp', 'sphinxcontrib-htmlhelp', 'sphinxcontrib-jsmath', 'sphinxcontrib-qthelp', 'sphinxcontrib-serializinghtml', 'spyder', 'spyder-kernels', 'sqlalchemy', 'sqlite-bro', 'sqlparse', 'statsmodels', 'streamz', 'supersmoother', 'sympy', 'tables', 'tblib', 'tenacity', 'termcolor', 'terminado', 'testpath', 'textwrap3', 'threadpoolctl', 'thrift', 'tifffile', 'toml', 'toolz', 'tornado', 'tqdm', 'traitlets', 'traittypes', 'tranquilizer', 'trio', 'trio-asyncio', 'twine', 'twitter', 'typed-ast', 'typing-extensions', 'tzlocal', 'umap-learn', 'uncertainties', 'urllib3', 'uvicorn', 'vega', 'vega-datasets', 'virtualenv', 'vitables', 'voila', 'wasmer', 'watchdog', 'wavio', 'wcwidth', 'webencodings', 'websockets', 'werkzeug', 'wheel', 'widgetsnbextension', 'winpython', 'wordcloud', 'wrapt', 'wsproto', 'xarray', 'xlrd', 'xlsxwriter', 'xlwings', 'yapf', 'yarl', 'zarr', 'zict', 'zipp']\n",
      "True\n"
     ]
    }
   ],
   "source": [
    "import pkg_resources\n",
    "pacotes_instalados = pkg_resources.working_set\n",
    "lista_pacotes_instalados = sorted([p.key for p in pacotes_instalados])\n",
    "print('Qtde de pacotes instalados: ',len(lista_pacotes_instalados))\n",
    "print('Pacotes instalados: ',lista_pacotes_instalados)\n",
    "print('numpy' in lista_pacotes_instalados)"
   ]
  },
  {
   "cell_type": "markdown",
   "metadata": {},
   "source": [
    "<p style=\"text-align:right;\"><a href=\"#topo\">Volta ao topo</a></p>"
   ]
  },
  {
   "cell_type": "markdown",
   "metadata": {},
   "source": [
    "<a id=\"1.4\"></a>\n",
    "### 1.4 Importação de um Módulo em Diretório Diferente\n",
    "Ao fazer a importação de um módulo, o interpretador Python procura no diretório corrente e se não localizar ele então procura na(s) localização(ões) da variável de sistema **PATH**. Portanto, se o módulo Python não estiver presente nesses locais será gerado um erro **ModuleNotFoundError**. \n",
    "\n",
    "A solução é importar o módulo `sys` e, em seguida, anexar o diretório em que se encontra o módulo desejado à variável de **PATH** (caminho).\n",
    "\n",
    "O código abaixo mostra o erro quando se tenta importar um módulo localizado num diretório diferente, e como corrigir esse erro, adicionando o diretório do módulo à variável **PATH**.\n",
    "\n",
    "Conteúdo do Módulo `teste123.py` salvo no diretório `d:\\tmp`:\n",
    "``` python\n",
    "def abc():\n",
    "    print(\"abc\")\n",
    "```"
   ]
  },
  {
   "cell_type": "code",
   "execution_count": 11,
   "metadata": {},
   "outputs": [],
   "source": [
    "import teste123                         # módulo desejado, localizado em \"d:\\tmp\""
   ]
  },
  {
   "cell_type": "code",
   "execution_count": 10,
   "metadata": {
    "scrolled": true
   },
   "outputs": [
    {
     "name": "stdout",
     "output_type": "stream",
     "text": [
      "abc\n"
     ]
    }
   ],
   "source": [
    "import sys\n",
    "sys.path.append('d:\\\\tmp')\n",
    "import teste123\n",
    "teste123.abc()"
   ]
  },
  {
   "cell_type": "markdown",
   "metadata": {},
   "source": [
    "<p style=\"text-align:right;\"><a href=\"#topo\">Volta ao topo</a>"
   ]
  },
  {
   "cell_type": "markdown",
   "metadata": {},
   "source": [
    "<a id=\"2.\"></a>\n",
    "## 2. Módulos\n",
    "<a id=\"2.1\"></a>\n",
    "### 2.1 Importando uma Função Específica de um Módulo\n",
    "\n",
    "Na maioria das vezes precisamos usar uma ou outra função de um módulo que poder dezenas de outras funções, e portanto, seria desnecessário importar todas as funções do módulo... Podemos usar a seguinte variante da instrução `import`para agilizar a execução do nosso *script*:"
   ]
  },
  {
   "cell_type": "code",
   "execution_count": null,
   "metadata": {},
   "outputs": [],
   "source": [
    "from seqNumeros import printCrescente"
   ]
  },
  {
   "cell_type": "markdown",
   "metadata": {},
   "source": [
    "<a style=\"font-weight:bold; color:red\">Obs.</a>: Ao importarmos uma função de um módulo, ela será incluída na tabela de símbolos do interpretador, e a partir disso não precisaremos referenciar a função com a sintaxe `modulo.funcao()`, basta usar o nome da função como no caso acima: `printCrescente()`.\n",
    "\n",
    "Outra variante que pode ser útil é a renomeação (apelido) do nome da função para facilitar a digitação:"
   ]
  },
  {
   "cell_type": "code",
   "execution_count": 3,
   "metadata": {
    "scrolled": true
   },
   "outputs": [
    {
     "name": "stdout",
     "output_type": "stream",
     "text": [
      "1, 2, 3, 4, 5, 6, 7, 8, 9, 10, \b\b.\n",
      "5, 4, 3, 2, 1, \b\b.\n"
     ]
    }
   ],
   "source": [
    "from seqNumeros import printCrescente as PC, printDecrescente as PD\n",
    "PC(10)\n",
    "PD(5)"
   ]
  },
  {
   "cell_type": "markdown",
   "metadata": {},
   "source": [
    "Se quisermos importar todos os nomes (variáveis, funções e classes) de um módulo, podemos usar a seguinte variante: `from modulo import *`. Esse comando importa todos os nomes, exceto os que começam com um sublinhado '\\_'. Mas esta não é uma boa prática de programação, pois introduz um conjunto desconhecido de nomes no interpretador."
   ]
  },
  {
   "cell_type": "markdown",
   "metadata": {},
   "source": [
    "<p style=\"text-align:right;\"><a href=\"#topo\">Volta ao topo</a>"
   ]
  },
  {
   "cell_type": "markdown",
   "metadata": {},
   "source": [
    "Existem milhares de módulos Python e mais módulos são desenvolvidos a cada dia.   \n",
    "Lista dos pacotes mais conhecidos..."
   ]
  },
  {
   "cell_type": "code",
   "execution_count": 28,
   "metadata": {},
   "outputs": [
    {
     "name": "stdout",
     "output_type": "stream",
     "text": [
      "['AST', 'CSV', 'ConfigParser', 'Copy', 'Daemon Thread', 'HTML Parser', 'HTTP', 'MySQL', 'SQLite', 'Send Email', 'SimpleHTTPServer', 'System Command', 'argparse', 'arrow', 'collections', 'datetime', 'decimal', 'fractions', 'ftp', 'functools', 'getopt', 'getpass', 'gzip', 'inspect', 'io', 'itertools', 'json', 'logging', 'lxml', 'multiprocessing', 'os', 'pdb', 'pendulum', 'pickle', 'pytz', 'queue', 'random', 'shutil', 'signal', 'socket', 'struct', 'subprocess', 'sys', 'tarfile', 'tempfile', 'threading ', 'time', 'time sleep', 'timeit', 'unittest', 'urllib', 'xmltodict', 'zipfile']\n"
     ]
    }
   ],
   "source": [
    "pacotes = ['os', 'sys', 'time', 'MySQL', 'CSV', 'multiprocessing', 'pickle', 'time sleep', 'queue',  \\\n",
    "           'unittest', 'socket', 'SimpleHTTPServer', 'json', 'signal', 'random', 'System Command',   \\\n",
    "           'Daemon Thread', 'Copy', 'threading ', 'struct', 'logging', 'subprocess', 'argparse',     \\\n",
    "           'functools', 'itertools', 'getopt', 'ftp', 'tarfile', 'lxml', 'ConfigParser', 'datetime', 'decimal', 'collections', 'zipfile', 'pdb', 'io', 'fractions', 'AST', 'HTTP', 'xmltodict', \\\n",
    "           'gzip', 'HTML Parser', 'inspect', 'Send Email', 'tempfile', 'SQLite', 'shutil', 'timeit', \\\n",
    "           'getpass', 'urllib', 'pytz', 'pendulum', 'arrow']\n",
    "pacotes\n",
    "print(sorted(pacotes))"
   ]
  },
  {
   "cell_type": "markdown",
   "metadata": {},
   "source": [
    "### <a style=\"color: red\">Exercícios</a>  \n"
   ]
  },
  {
   "cell_type": "markdown",
   "metadata": {},
   "source": [
    "### Gabarito dos Exercícios"
   ]
  },
  {
   "cell_type": "markdown",
   "metadata": {},
   "source": [
    "<p style=\"text-align:right;\"><a href=\"#topo\">Volta ao topo</a>"
   ]
  },
  {
   "cell_type": "markdown",
   "metadata": {
    "collapsed": true
   },
   "source": [
    "<a id=\"3.\"></a>\n",
    "### Fontes: \n",
    "1. https://www.activestate.com/resources/quick-reads/how-to-list-installed-python-packages/\n",
    "2. https://www.journaldev.com/14329/python-modules"
   ]
  },
  {
   "cell_type": "markdown",
   "metadata": {},
   "source": [
    "<p style=\"text-align:right;\"><a href=\"#topo\">Volta ao topo</a>"
   ]
  }
 ],
 "metadata": {
  "celltoolbar": "Raw Cell Format",
  "kernelspec": {
   "display_name": "Python 3",
   "language": "python",
   "name": "python3"
  },
  "language_info": {
   "codemirror_mode": {
    "name": "ipython",
    "version": 3
   },
   "file_extension": ".py",
   "mimetype": "text/x-python",
   "name": "python",
   "nbconvert_exporter": "python",
   "pygments_lexer": "ipython3",
   "version": "3.8.5"
  }
 },
 "nbformat": 4,
 "nbformat_minor": 2
}
