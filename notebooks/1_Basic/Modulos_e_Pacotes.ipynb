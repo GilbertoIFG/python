{
 "cells": [
  {
   "cell_type": "markdown",
   "metadata": {
    "slideshow": {
     "slide_type": "slide"
    }
   },
   "source": [
    "<a id=\"topo\"></a>\n",
    "# Módulos, Pacotes e Mágica\n",
    "1. [Introdução](#1.)  \n",
    "   1.1 [Módulos Integrados em Python](#1.1)  \n",
    "   1.2 [Diferença entre Módulo e Pacote](#1.2)  \n",
    "   1.3 [Lista de Módulos](#1.3)  \n",
    "   1.4 [Importação de um Módulo em Diretório Diferente](#1.4)  \n",
    "1. [Módulos](#2.)  \n",
    "   2.1 [Importando uma Função Específica de um Módulo](#2.1)  \n",
    "1. [Pacotes](#3.)\n",
    "1. [Células e Comandos Mágicos](#4.)  \n",
    "   4.1 [Criando uma Extensão aos Comandos Mágicos](#4.1)  \n",
    "   4.2 [Jupyter Notebook como Slides](#4.2)"
   ]
  },
  {
   "cell_type": "markdown",
   "metadata": {
    "slideshow": {
     "slide_type": "slide"
    }
   },
   "source": [
    "<a id=\"1.\"></a>\n",
    "## 1. Introdução\n",
    "Um Módulo em Python é essencialmente um arquivo de *script* Python que pode conter variáveis, funções e classes. Os módulos Python ajudam a **organizar o código** para podermos **reutilizá-los** \n",
    "em outras classes ou *scripts* Python.\n",
    "\n",
    "Um arquivo .py contendo definições e instruções Python é chamado de **Módulo Python**. O nome do arquivo é o nome do módulo.\n",
    "\n",
    "Vamos criar um módulo chamado `seqNumeros.py` com o seguinte conteúdo:"
   ]
  },
  {
   "cell_type": "code",
   "execution_count": 8,
   "metadata": {
    "slideshow": {
     "slide_type": "subslide"
    }
   },
   "outputs": [],
   "source": [
    "def printCrescente(n):       # imprime de '1' a 'n'\n",
    "    for i in range(n):\n",
    "        print(i+1, end=\", \")\n",
    "    print(\"\\b\\b.\")\n",
    "\n",
    "def printDecrescente(n):     # imprime de 'n' a '1'\n",
    "    for i in range(n):\n",
    "        print(n-i, end=\", \")\n",
    "    print(\"\\b\\b.\")"
   ]
  },
  {
   "cell_type": "markdown",
   "metadata": {
    "slideshow": {
     "slide_type": "subslide"
    }
   },
   "source": [
    "Salve as funções `printCrescente()` e `printDecrescente()` num arquivo `seqNumeros.py` e depois importe esse módulo usando:  `import seqNumeros as sn`"
   ]
  },
  {
   "cell_type": "code",
   "execution_count": 1,
   "metadata": {
    "slideshow": {
     "slide_type": "subslide"
    }
   },
   "outputs": [],
   "source": [
    "import seqNumeros as sn"
   ]
  },
  {
   "cell_type": "markdown",
   "metadata": {
    "slideshow": {
     "slide_type": "subslide"
    }
   },
   "source": [
    "Este comando de importação procurará o arquivo `seqNumeros.py` no diretório atual e nas localizações da variável de sistema `PATH`. Assim que o arquivo for encontrado, o conteúdo do arquivo estará disponível para uso.\n",
    "\n",
    "Agora, para acessar uma função do módulo, precisamos usar o codinome (apelido) dado ao módulo: `sn`"
   ]
  },
  {
   "cell_type": "code",
   "execution_count": 2,
   "metadata": {
    "scrolled": true,
    "slideshow": {
     "slide_type": "subslide"
    }
   },
   "outputs": [
    {
     "name": "stdout",
     "output_type": "stream",
     "text": [
      "1, 2, 3, 4, 5, 6, 7, 8, 9, 10, \b\b.\n",
      "20, 19, 18, 17, 16, 15, 14, 13, 12, 11, 10, 9, 8, 7, 6, 5, 4, 3, 2, 1, \b\b.\n"
     ]
    }
   ],
   "source": [
    "sn.printCrescente(10)\n",
    "sn.printDecrescente(20)"
   ]
  },
  {
   "cell_type": "markdown",
   "metadata": {
    "slideshow": {
     "slide_type": "skip"
    }
   },
   "source": [
    "<p style=\"text-align:right;\"><a href=\"#topo\">Volta ao topo</a></p>"
   ]
  },
  {
   "cell_type": "markdown",
   "metadata": {
    "slideshow": {
     "slide_type": "slide"
    }
   },
   "source": [
    "<a id=\"1.1\"></a>\n",
    "### 1.1 Módulos Integrados em Python\n",
    "\n",
    "Os **Módulos Integrados** são escritos em ling. C (por questão de performance) e incorporados ao interpretador Python. Cada módulo integrado (embutido, incorporado, embarcado) contém recursos para certas funcionalidades específicas do sistema, como gerenciamento do S.O., E/S de disco etc. A biblioteca padrão também contém muitos *scripts* Python (com a extensão .py) com utilitários úteis.\n",
    "\n",
    "Uma lista dos módulos da **Biblioteca Padrão** do Python pode ser encontrada em https://docs.python.org/3/library/index.html. Os seguintes módulos estão entre os mais usados:  \n",
    "- collections\n",
    "- datetime\n",
    "- logging\n",
    "- math\n",
    "- numpy\n",
    "- os\n",
    "- pip\n",
    "- sys\n",
    "- time\n",
    "- ..."
   ]
  },
  {
   "cell_type": "markdown",
   "metadata": {
    "slideshow": {
     "slide_type": "skip"
    }
   },
   "source": [
    "<p style=\"text-align:right;\"><a href=\"#topo\">Volta ao topo</a></p>"
   ]
  },
  {
   "cell_type": "markdown",
   "metadata": {
    "slideshow": {
     "slide_type": "slide"
    }
   },
   "source": [
    "<a id=\"1.2\"></a>\n",
    "### 1.2 Diferença entre Módulo e Pacote\n",
    "Um pacote (*package*) Python é uma coleção de módulos Python. O módulo Python é um único arquivo `.py`, enquanto o pacote python é um diretório com vários *scripts* Python e o arquivo `__init__.py` que define os detalhes do pacote.\n",
    "\n",
    "**Obs.**: A partir da versão 3.4 o arquivo `__init__.py` não precisa mais existir no diretório do pacote.\n",
    "\n",
    "- O <b>Módulo</b> é um objeto (em Python tudo é objeto) que serve como uma unidade organizacional de código Python. Cada <b>Módulo</b> tem um <i>namespace</i> exclusivo contendo objetos Python, tais como instâncias, classes, funções etc.  \n",
    "  \n",
    "  \n",
    "- O <b>Pacote</b> é uma forma de definir <i>namespaces</i> para os módulos, permitindo que inúmeros módulos de mesmo nome coexistam sem interferência. Um <b>pacote</b> Python é um diretório que contém módulos.\n"
   ]
  },
  {
   "cell_type": "markdown",
   "metadata": {
    "slideshow": {
     "slide_type": "skip"
    }
   },
   "source": [
    "<p style=\"text-align:right;\"><a href=\"#topo\">Volta ao topo</a></p>"
   ]
  },
  {
   "cell_type": "markdown",
   "metadata": {
    "slideshow": {
     "slide_type": "slide"
    }
   },
   "source": [
    "<a id=\"1.3\"></a>\n",
    "### 1.3 Lista de Módulos\n",
    "Você pode encontrar a lista de módulos Python na página oficial do [Índice de Módulos Python](https://docs.python.org/3/py-modindex.html) (*Python Module Index*). \n",
    "\n",
    "Verifique o [repositório](https://github.com/journaldev/journaldev/tree/master/Python-3#python-modules) no GitHub para obter uma lista dos módulos Python mais importantes e conheça-os por meio de seus tutoriais específicos e programas exemplos."
   ]
  },
  {
   "cell_type": "code",
   "execution_count": 5,
   "metadata": {
    "slideshow": {
     "slide_type": "subslide"
    }
   },
   "outputs": [
    {
     "name": "stdout",
     "output_type": "stream",
     "text": [
      "Qtde de pacotes instalados:  461\n",
      "Pacotes instalados:  ['adodbapi', 'affine', 'aiofiles', 'aiohttp', 'aiosqlite', 'alabaster', 'altair', 'altair-data-server', 'altair-transform', 'altair-widgets', 'altgraph', 'amply', 'aniso8601', 'ansiwrap', 'appdirs', 'argon2-cffi', 'asciitree', 'asgi-csrf', 'asgiref', 'asteval', 'astroid', 'astroml', 'astropy', 'async-generator', 'async-timeout', 'atomicwrites', 'attrs', 'audioread', 'autopep8', 'babel', 'backcall', 'backports-abc', 'baresql', 'bcolz', 'bcrypt', 'beautifulsoup4', 'black', 'bleach', 'blinker', 'blosc', 'bloscpack', 'bokeh', 'bottleneck', 'bqplot', 'branca', 'brewer2mpl', 'brotli', 'cachelib', 'cartopy', 'certifi', 'cffi', 'cftime', 'chardet', 'click', 'click-default-group', 'click-plugins', 'cligj', 'cloudpickle', 'clrmagic', 'colorama', 'colorcet', 'comtypes', 'control', 'cryptography', 'cvxopt', 'cvxpy', 'cx-freeze', 'cycler', 'cython', 'cytoolz', 'dask', 'dask-glm', 'dask-labextension', 'dask-ml', 'dask-searchcv', 'databases', 'datasette', 'datashader', 'datashape', 'db.py', 'decorator', 'defusedxml', 'deprecated', 'descartes', 'diff-match-patch', 'distlib', 'distributed', 'docopt', 'docrepr', 'docutils', 'ecos', 'emcee', 'entrypoints', 'fast-histogram', 'fasteners', 'fastparquet', 'feather-format', 'filelock', 'fiona', 'flake8', 'flask', 'flask-accepts', 'flask-mail', 'flask-restx', 'flask-session', 'flask-sqlalchemy', 'flaskerize', 'folium', 'formlayout', 'fs', 'fsspec', 'future', 'fuzzywuzzy', 'gdal', 'geographiclib', 'geopandas', 'geopy', 'geoviews', 'gmpy2', 'greenlet', 'guidata', 'guiqwt', 'h11', 'h2', 'h5py', 'heapdict', 'helpdev', 'holoviews', 'hpack', 'html5lib', 'httpie', 'hupper', 'husl', 'hvplot', 'hypercorn', 'hyperframe', 'hypothesis', 'ibis-framework', 'idlex', 'idna', 'imageio', 'imageio-ffmpeg', 'imagesize', 'imbalanced-learn', 'importlib-metadata', 'iniconfig', 'intake', 'intervaltree', 'ipykernel', 'ipyleaflet', 'ipympl', 'ipyparallel', 'ipython', 'ipython-genutils', 'ipython-sql', 'ipywidgets', 'isort', 'itsdangerous', 'janus', 'jedi', 'jinja2', 'joblib', 'json5', 'jsonschema', 'julia', 'jupyter', 'jupyter-bokeh', 'jupyter-client', 'jupyter-console', 'jupyter-core', 'jupyter-server', 'jupyter-server-proxy', 'jupyter-sphinx', 'jupyterlab', 'jupyterlab-launcher', 'jupyterlab-pygments', 'jupyterlab-server', 'keyring', 'kiwisolver', 'lazy-object-proxy', 'librosa', 'llvmlite', 'lmfit', 'locket', 'loky', 'lxml', 'lz4', 'markdown', 'markupsafe', 'marshmallow', 'matplotlib', 'mccabe', 'mercantile', 'mergedeep', 'metakernel', 'mistune', 'mizani', 'mkl-service', 'mlxtend', 'monotonic', 'more-itertools', 'moviepy', 'mpl-scatter-density', 'mpld3', 'mpldatacursor', 'mpmath', 'msgpack', 'msvc-runtime', 'multidict', 'multipledispatch', 'munch', 'mypy', 'mypy-extensions', 'mysql-connector-python', 'nbclient', 'nbconvert', 'nbconvert-reportlab', 'nbformat', 'nest-asyncio', 'netcdf4', 'networkx', 'nlopt', 'nltk', 'notebook', 'numba', 'numcodecs', 'numdifftools', 'numexpr', 'numpy', 'numpydoc', 'oct2py', 'octave-kernel', 'osqp', 'outcome', 'packaging', 'palettable', 'pandas', 'pandas-datareader', 'pandocfilters', 'panel', 'papermill', 'param', 'parambokeh', 'paramiko', 'paramnb', 'parso', 'partd', 'passlib', 'pathspec', 'pathtools', 'patsy', 'pdfrw', 'pdvega', 'pefile', 'pep8', 'pexpect', 'pg8000', 'pickleshare', 'pillow', 'pint', 'pip', 'pipdeptree', 'pkginfo', 'playsound', 'plotly', 'plotnine', 'pluggy', 'ply', 'pooch', 'portpicker', 'ppci', 'prettytable', 'priority', 'proglog', 'prometheus-client', 'prompt-toolkit', 'protobuf', 'psutil', 'ptpython', 'ptvsd', 'ptyprocess', 'pulp', 'py', 'pyaml', 'pyarrow', 'pyaudio', 'pybars3', 'pybind11', 'pycodestyle', 'pycosat', 'pycparser', 'pyct', 'pydeck', 'pydocstyle', 'pyepsg', 'pyflakes', 'pyflux', 'pygame', 'pygbm', 'pygments', 'pyhdf', 'pyinstaller', 'pylint', 'pymc', 'pymeta3', 'pymongo', 'pynacl', 'pyodbc', 'pyopengl', 'pypandoc', 'pyparsing', 'pyproj', 'pyqt5', 'pyqt5-sip', 'pyqtgraph', 'pyqtwebengine', 'pyrsistent', 'pyserial', 'pyshp', 'pystache', 'pytest', 'python-baseconv', 'python-dateutil', 'python-dotenv', 'python-hdf4', 'python-jsonrpc-server', 'python-language-server', 'python-levenshtein', 'python-snappy', 'pythonnet', 'pythonqwt', 'pytz', 'pyviz-comms', 'pywavelets', 'pywin32', 'pywin32-ctypes', 'pywinpty', 'pywinusb', 'pyyaml', 'pyzmq', 'pyzo', 'qdarkstyle', 'qtawesome', 'qtconsole', 'qtpy', 'quantecon', 'quart', 'rasterio', 'readme-renderer', 'redis', 'regex', 'reportlab', 'requests', 'requests-toolbelt', 'resampy', 'retrying', 'rfc3986', 'rise', 'rope', 'rpy2', 'rtree', 'ruamel.yaml', 'ruamel.yaml.clib', 'rx', 'scikit-fuzzy', 'scikit-image', 'scikit-learn', 'scikit-optimize', 'scilab2py', 'scipy', 'scs', 'seaborn', 'send2trash', 'setuptools', 'shap', 'shapely', 'simpervisor', 'simplegeneric', 'simplejson', 'simpy', 'six', 'snakeviz', 'sniffio', 'snowballstemmer', 'snuggs', 'sortedcontainers', 'sounddevice', 'soundfile', 'soupsieve', 'sphinx', 'sphinx-rtd-theme', 'sphinxcontrib-applehelp', 'sphinxcontrib-devhelp', 'sphinxcontrib-htmlhelp', 'sphinxcontrib-jsmath', 'sphinxcontrib-qthelp', 'sphinxcontrib-serializinghtml', 'spyder', 'spyder-kernels', 'sqlalchemy', 'sqlite-bro', 'sqlparse', 'statsmodels', 'streamz', 'supersmoother', 'sympy', 'tables', 'tblib', 'tenacity', 'termcolor', 'terminado', 'testpath', 'textwrap3', 'threadpoolctl', 'thrift', 'tifffile', 'toml', 'toolz', 'tornado', 'tqdm', 'traitlets', 'traittypes', 'tranquilizer', 'trio', 'trio-asyncio', 'twine', 'twitter', 'typed-ast', 'typing-extensions', 'tzlocal', 'umap-learn', 'uncertainties', 'urllib3', 'uvicorn', 'vega', 'vega-datasets', 'virtualenv', 'vitables', 'voila', 'wasmer', 'watchdog', 'wavio', 'wcwidth', 'webencodings', 'websockets', 'werkzeug', 'wheel', 'widgetsnbextension', 'winpython', 'wordcloud', 'wrapt', 'wsproto', 'xarray', 'xlrd', 'xlsxwriter', 'xlwings', 'yapf', 'yarl', 'zarr', 'zict', 'zipp']\n",
      "True\n"
     ]
    }
   ],
   "source": [
    "import pkg_resources\n",
    "pacotes_instalados = pkg_resources.working_set\n",
    "lista_pacotes_instalados = sorted([p.key for p in pacotes_instalados])\n",
    "print('Qtde de pacotes instalados: ',len(lista_pacotes_instalados))\n",
    "print('Pacotes instalados: ',lista_pacotes_instalados)\n",
    "print('numpy' in lista_pacotes_instalados)"
   ]
  },
  {
   "cell_type": "markdown",
   "metadata": {
    "slideshow": {
     "slide_type": "skip"
    }
   },
   "source": [
    "<p style=\"text-align:right;\"><a href=\"#topo\">Volta ao topo</a></p>"
   ]
  },
  {
   "cell_type": "markdown",
   "metadata": {
    "slideshow": {
     "slide_type": "slide"
    }
   },
   "source": [
    "<a id=\"1.4\"></a>\n",
    "### 1.4 Importação de um Módulo em Diretório Diferente\n",
    "Ao fazer a importação de um módulo, o interpretador Python procura no diretório corrente e se não localizar ele então procura na(s) localização(ões) da variável de sistema **PATH**. Portanto, se o módulo Python não estiver presente nesses locais será gerado um erro **ModuleNotFoundError**. \n",
    "\n",
    "A solução é importar o módulo `sys` e, em seguida, anexar o diretório em que se encontra o módulo desejado à variável de **PATH** (caminho).\n",
    "\n",
    "O código abaixo mostra o erro quando se tenta importar um módulo localizado num diretório diferente, e como corrigir esse erro, adicionando o diretório do módulo à variável **PATH**.\n",
    "\n",
    "Conteúdo do Módulo `teste123.py` salvo no diretório `d:\\tmp`:\n",
    "``` python\n",
    "def abc():\n",
    "    print(\"abc\")\n",
    "```"
   ]
  },
  {
   "cell_type": "code",
   "execution_count": 11,
   "metadata": {
    "slideshow": {
     "slide_type": "slide"
    }
   },
   "outputs": [],
   "source": [
    "import teste123                         # módulo desejado, localizado em \"d:\\tmp\""
   ]
  },
  {
   "cell_type": "code",
   "execution_count": 10,
   "metadata": {
    "scrolled": true,
    "slideshow": {
     "slide_type": "subslide"
    }
   },
   "outputs": [
    {
     "name": "stdout",
     "output_type": "stream",
     "text": [
      "abc\n"
     ]
    }
   ],
   "source": [
    "import sys\n",
    "sys.path.append('d:\\\\tmp')\n",
    "import teste123\n",
    "teste123.abc()"
   ]
  },
  {
   "cell_type": "markdown",
   "metadata": {
    "slideshow": {
     "slide_type": "skip"
    }
   },
   "source": [
    "<p style=\"text-align:right;\"><a href=\"#topo\">Volta ao topo</a>"
   ]
  },
  {
   "cell_type": "markdown",
   "metadata": {
    "slideshow": {
     "slide_type": "slide"
    }
   },
   "source": [
    "<a id=\"2.\"></a>\n",
    "## 2. Módulos\n",
    "<a id=\"2.1\"></a>\n",
    "### 2.1 Importando uma Função Específica de um Módulo\n",
    "\n",
    "Na maioria das vezes precisamos usar uma ou outra função de um módulo que poder dezenas de outras funções, e portanto, seria desnecessário importar todas as funções do módulo... Podemos usar a seguinte variante da instrução `import`para agilizar a execução do nosso *script*:"
   ]
  },
  {
   "cell_type": "code",
   "execution_count": null,
   "metadata": {
    "slideshow": {
     "slide_type": "subslide"
    }
   },
   "outputs": [],
   "source": [
    "from seqNumeros import printCrescente"
   ]
  },
  {
   "cell_type": "markdown",
   "metadata": {
    "slideshow": {
     "slide_type": "subslide"
    }
   },
   "source": [
    "<a style=\"font-weight:bold; color:red\">Obs.</a>: Ao importarmos uma função de um módulo, ela será incluída na tabela de símbolos do interpretador, e a partir disso não precisaremos referenciar a função com a sintaxe `modulo.funcao()`, basta usar o nome da função como no caso acima: `printCrescente()`.\n",
    "\n",
    "Outra variante que pode ser útil é a renomeação (apelido) do nome da função para facilitar a digitação:"
   ]
  },
  {
   "cell_type": "code",
   "execution_count": 3,
   "metadata": {
    "scrolled": true,
    "slideshow": {
     "slide_type": "subslide"
    }
   },
   "outputs": [
    {
     "name": "stdout",
     "output_type": "stream",
     "text": [
      "1, 2, 3, 4, 5, 6, 7, 8, 9, 10, \b\b.\n",
      "5, 4, 3, 2, 1, \b\b.\n"
     ]
    }
   ],
   "source": [
    "from seqNumeros import printCrescente as PC, printDecrescente as PD\n",
    "PC(10)\n",
    "PD(5)"
   ]
  },
  {
   "cell_type": "markdown",
   "metadata": {
    "slideshow": {
     "slide_type": "subslide"
    }
   },
   "source": [
    "Se quisermos importar todos os nomes (variáveis, funções e classes) de um módulo, podemos usar a seguinte variante: `from modulo import *`. Esse comando importa todos os nomes, exceto os que começam com um sublinhado '\\_'. Mas esta não é uma boa prática de programação, pois introduz um conjunto desconhecido de nomes no interpretador."
   ]
  },
  {
   "cell_type": "markdown",
   "metadata": {
    "slideshow": {
     "slide_type": "skip"
    }
   },
   "source": [
    "<p style=\"text-align:right;\"><a href=\"#topo\">Volta ao topo</a>"
   ]
  },
  {
   "cell_type": "markdown",
   "metadata": {
    "slideshow": {
     "slide_type": "slide"
    }
   },
   "source": [
    "Existem milhares de módulos Python e mais módulos são desenvolvidos a cada dia.   \n",
    "Lista dos pacotes mais conhecidos..."
   ]
  },
  {
   "cell_type": "code",
   "execution_count": 28,
   "metadata": {
    "slideshow": {
     "slide_type": "subslide"
    }
   },
   "outputs": [
    {
     "name": "stdout",
     "output_type": "stream",
     "text": [
      "['AST', 'CSV', 'ConfigParser', 'Copy', 'Daemon Thread', 'HTML Parser', 'HTTP', 'MySQL', 'SQLite', 'Send Email', 'SimpleHTTPServer', 'System Command', 'argparse', 'arrow', 'collections', 'datetime', 'decimal', 'fractions', 'ftp', 'functools', 'getopt', 'getpass', 'gzip', 'inspect', 'io', 'itertools', 'json', 'logging', 'lxml', 'multiprocessing', 'os', 'pdb', 'pendulum', 'pickle', 'pytz', 'queue', 'random', 'shutil', 'signal', 'socket', 'struct', 'subprocess', 'sys', 'tarfile', 'tempfile', 'threading ', 'time', 'time sleep', 'timeit', 'unittest', 'urllib', 'xmltodict', 'zipfile']\n"
     ]
    }
   ],
   "source": [
    "pacotes = ['os', 'sys', 'time', 'MySQL', 'CSV', 'multiprocessing', 'pickle', 'time sleep', 'queue',  \\\n",
    "           'unittest', 'socket', 'SimpleHTTPServer', 'json', 'signal', 'random', 'System Command',   \\\n",
    "           'Daemon Thread', 'Copy', 'threading ', 'struct', 'logging', 'subprocess', 'argparse',     \\\n",
    "           'functools', 'itertools', 'getopt', 'ftp', 'tarfile', 'lxml', 'ConfigParser', 'datetime', 'decimal', 'collections', 'zipfile', 'pdb', 'io', 'fractions', 'AST', 'HTTP', 'xmltodict', \\\n",
    "           'gzip', 'HTML Parser', 'inspect', 'Send Email', 'tempfile', 'SQLite', 'shutil', 'timeit', \\\n",
    "           'getpass', 'urllib', 'pytz', 'pendulum', 'arrow']\n",
    "pacotes\n",
    "print(sorted(pacotes))"
   ]
  },
  {
   "cell_type": "markdown",
   "metadata": {
    "slideshow": {
     "slide_type": "skip"
    }
   },
   "source": [
    "### <a style=\"color: red\">Exercícios</a>  \n"
   ]
  },
  {
   "cell_type": "markdown",
   "metadata": {
    "slideshow": {
     "slide_type": "skip"
    }
   },
   "source": [
    "### Gabarito dos Exercícios"
   ]
  },
  {
   "cell_type": "markdown",
   "metadata": {
    "slideshow": {
     "slide_type": "skip"
    }
   },
   "source": [
    "<p style=\"text-align:right;\"><a href=\"#topo\">Volta ao topo</a>"
   ]
  },
  {
   "cell_type": "markdown",
   "metadata": {
    "collapsed": true,
    "slideshow": {
     "slide_type": "slide"
    }
   },
   "source": [
    "<a id=\"3.\"></a>\n",
    "### Pacotes\n",
    "O conceito de **Pacote** em Python é definido como uma coleção de módulos organizados em diretórios e que fornecem uma hierarquia de acesso. Cada módulo é referenciado via sintaxe \"nomes de módulos com pontos\": **A.B** indica que o arquivo **B** é um submódulo do pacote denominado **A**.\n",
    "\n",
    "Assim como os **módulos** são uma maneira de lidar com funções e espaços de nomes (_namespace_) de uma forma simples, os **pacotes** são uma maneira de lidar com dois ou mais módulos de forma estruturada.\n",
    "\n",
    "Vamos criar uma coleção de módulos produzidos para manipular arquivos de música:\n",
    "\n",
    "```\n",
    "musica/                         Nível mais alto do pacote\n",
    "      __init__.py               Inicializa o pacote musica\n",
    "      formatos/                 Subpacote para conversões de formatos de arquivo\n",
    "              __init__.py\n",
    "              wavread.py\n",
    "              wavwrite.py\n",
    "              aiffread.py\n",
    "              aiffwrite.py\n",
    "              auread.py\n",
    "              auwrite.py\n",
    "              ...\n",
    "      efeitos/                  Subpacote para efeitos sonoros\n",
    "              __init__.py\n",
    "              echo.py\n",
    "              surround.py\n",
    "              reverse.py\n",
    "              ...\n",
    "      filtros/                  Subpacote para filtros\n",
    "              __init__.py\n",
    "              equalizer.py\n",
    "              vocoder.py\n",
    "              karaoke.py\n",
    "              ...\n",
    "```\n",
    "Todo **pacote** precisa ter um arquivo **\\_\\_init\\_\\_.py** para garantir que esse diretório seja tratado como um pacote Python. O arequivo **\\_\\_init\\_\\_.py** pode ser apenas um arquivo vazio, ou também pode ser um código executável de inicialização para o pacote, ou pode simplesmente definir a variável __all__.\n",
    "\n",
    "Para importar um módulo individual do pacote, pode-se usar qualquer uma das seguintes sintaxes:"
   ]
  },
  {
   "cell_type": "code",
   "execution_count": null,
   "metadata": {
    "slideshow": {
     "slide_type": "subslide"
    }
   },
   "outputs": [],
   "source": [
    "import musica.formatos.wavwrite         # ou\n",
    "from musica.formatos import wavwrite"
   ]
  },
  {
   "cell_type": "markdown",
   "metadata": {
    "slideshow": {
     "slide_type": "subslide"
    }
   },
   "source": [
    "Os comandos acima carregam o submódulo `musica.formatos.wavwrite`. Ao usar a primeira opção, o usuário terá o ônus de referenciar o nome completo do módulo para todo acesso às funções/classes/variáveis definidas nesse módulo.  \n",
    "\n",
    "Suponha que o módulo `wavwrite.py` tenha uma função chamada `writeFile(umNomeArq)` e tem o nome de um arquivo como argumento. Então, para chamar essa função, o usuário deverá escrever:"
   ]
  },
  {
   "cell_type": "code",
   "execution_count": null,
   "metadata": {
    "slideshow": {
     "slide_type": "subslide"
    }
   },
   "outputs": [],
   "source": [
    "import musica.formatos.wavwrite\n",
    "...\n",
    "...\n",
    "musica.formatos.wavwrite.writeFile(nomeArqSaida)"
   ]
  },
  {
   "cell_type": "markdown",
   "metadata": {
    "slideshow": {
     "slide_type": "subslide"
    }
   },
   "source": [
    "Ao usar a segunda opção de importação do módulo, o usuário pode escrever apenas:"
   ]
  },
  {
   "cell_type": "code",
   "execution_count": null,
   "metadata": {
    "slideshow": {
     "slide_type": "subslide"
    }
   },
   "outputs": [],
   "source": [
    "from musica.formatos import wavwrite\n",
    "...\n",
    "...\n",
    "wavwrite.writeFile(nomeArqSaida)"
   ]
  },
  {
   "cell_type": "markdown",
   "metadata": {
    "slideshow": {
     "slide_type": "subslide"
    }
   },
   "source": [
    "Existe também outra variação para se importar diretamente uma função/classe/variável desejada:"
   ]
  },
  {
   "cell_type": "code",
   "execution_count": null,
   "metadata": {
    "slideshow": {
     "slide_type": "subslide"
    }
   },
   "outputs": [],
   "source": [
    "from musica.formatos.wavwrite import writeFile\n",
    "...\n",
    "...\n",
    "writeFile(nomeArqSaida)"
   ]
  },
  {
   "cell_type": "markdown",
   "metadata": {
    "slideshow": {
     "slide_type": "subslide"
    }
   },
   "source": [
    "Uma última variação, a qual deve ser evitada, precisa ser citada, apenas para o conhecimento do leitor. Sintaxe: `from musica.formatos import *`. Bem, isso pode causar efeitos colaterais indesejados e além de consumir muito tempo durante a execução do _script_.\n",
    "\n",
    "A solução ideal para fazer isso seria se o autor do pacote fornecesse um índice explícito do pacote. Se o código **\\_\\_init\\_\\_.py** de um pacote definir uma variável do tipo lista chamada **\\_\\_all\\_\\_**, a qual seria considerada como o índice de nomes dos módulos que devem ser importados quando **from musica.formatos import \\*** for encontrado.\n",
    "\n",
    "Vamos supor que tenhamos a seguinte estrutura de pacote:"
   ]
  },
  {
   "cell_type": "markdown",
   "metadata": {
    "slideshow": {
     "slide_type": "subslide"
    }
   },
   "source": [
    "```\n",
    "musica/                         Nível mais alto do pacote\n",
    "      __init__.py               Inicializa o pacote musica\n",
    "      migracoes/\n",
    "              0001_inicial.py\n",
    "              __init__.py\n",
    "      gabaritos/\n",
    "              __init__.py\n",
    "              admin.py\n",
    "              apps.py\n",
    "              models.py\n",
    "              tests.py\n",
    "              urls.py\n",
    "              views.py\n",
    "      website/\n",
    "              __init__.py\n",
    "              sets.py\n",
    "              urls.py\n",
    "              wsgi.py\n",
    "      filtros/                  Subpacote para filtros\n",
    "              __init__.py\n",
    "              equalizer.py\n",
    "              vocoder.py\n",
    "              karaoke.py\n",
    "              ...\n",
    "```\n",
    "\n",
    "Aqui vemos que o diretório `musica` tem um arquivo **\\_\\_init\\_\\_.py**. Se a variável **\\_\\_all\\_\\_** for definida como:"
   ]
  },
  {
   "cell_type": "code",
   "execution_count": 1,
   "metadata": {
    "raw_mimetype": "text/x-python",
    "slideshow": {
     "slide_type": "subslide"
    }
   },
   "outputs": [],
   "source": [
    "__all__ = [\"admin\", \"apps\", \"models\"]"
   ]
  },
  {
   "cell_type": "markdown",
   "metadata": {
    "slideshow": {
     "slide_type": "subslide"
    }
   },
   "source": [
    "Então, apenas os submódulos listados na variável lista **\\_\\_all\\_\\_** serão importados quando um `from musica import *` for encontrado. O resto dos submódulos e variáveis serão ignorados.\n",
    "\n",
    "Se **\\_\\_all\\_\\_** não for definida, então todos os submódulos serão importados."
   ]
  },
  {
   "cell_type": "markdown",
   "metadata": {
    "slideshow": {
     "slide_type": "skip"
    }
   },
   "source": [
    "<p style=\"text-align:right;\"><a href=\"#topo\">Volta ao topo</a>"
   ]
  },
  {
   "cell_type": "markdown",
   "metadata": {
    "slideshow": {
     "slide_type": "slide"
    }
   },
   "source": [
    "<a id=\"4.\"></a>\n",
    "## 4. Células e Comandos Mágicos\n",
    "\n",
    "São comandos e células do Jupyter Notebook do tipo **code** que iniciam com um e dois sinais de porcentagem ('%' ou '%%'), respectivamente, e com sentenças do *shell* do sistema operacional ou de outras linguagens (Javascript, perl, ruby, latex, HTML, ...).\n",
    "\n",
    "As **células e os comandos mágicos** são fornecidos pelo kernel **IPython**.\n",
    "\n",
    "Segue a lista das células e comandos mágicos disponíveis no *kernel* atual:"
   ]
  },
  {
   "cell_type": "code",
   "execution_count": 4,
   "metadata": {
    "slideshow": {
     "slide_type": "subslide"
    }
   },
   "outputs": [
    {
     "data": {
      "application/json": {
       "cell": {
        "!": "OSMagics",
        "HTML": "Other",
        "SVG": "Other",
        "bash": "Other",
        "capture": "ExecutionMagics",
        "cmd": "Other",
        "debug": "ExecutionMagics",
        "file": "Other",
        "html": "DisplayMagics",
        "javascript": "DisplayMagics",
        "js": "DisplayMagics",
        "latex": "DisplayMagics",
        "markdown": "DisplayMagics",
        "perl": "Other",
        "prun": "ExecutionMagics",
        "pypy": "Other",
        "python": "Other",
        "python2": "Other",
        "python3": "Other",
        "ruby": "Other",
        "script": "ScriptMagics",
        "sh": "Other",
        "svg": "DisplayMagics",
        "sx": "OSMagics",
        "system": "OSMagics",
        "time": "ExecutionMagics",
        "timeit": "ExecutionMagics",
        "writefile": "OSMagics"
       },
       "line": {
        "alias": "OSMagics",
        "alias_magic": "BasicMagics",
        "autoawait": "AsyncMagics",
        "autocall": "AutoMagics",
        "automagic": "AutoMagics",
        "autosave": "KernelMagics",
        "bookmark": "OSMagics",
        "cd": "OSMagics",
        "clear": "KernelMagics",
        "cls": "KernelMagics",
        "colors": "BasicMagics",
        "conda": "PackagingMagics",
        "config": "ConfigMagics",
        "connect_info": "KernelMagics",
        "copy": "Other",
        "ddir": "Other",
        "debug": "ExecutionMagics",
        "dhist": "OSMagics",
        "dirs": "OSMagics",
        "doctest_mode": "BasicMagics",
        "echo": "Other",
        "ed": "Other",
        "edit": "KernelMagics",
        "env": "OSMagics",
        "gui": "BasicMagics",
        "hist": "Other",
        "history": "HistoryMagics",
        "killbgscripts": "ScriptMagics",
        "ldir": "Other",
        "less": "KernelMagics",
        "load": "CodeMagics",
        "load_ext": "ExtensionMagics",
        "loadpy": "CodeMagics",
        "logoff": "LoggingMagics",
        "logon": "LoggingMagics",
        "logstart": "LoggingMagics",
        "logstate": "LoggingMagics",
        "logstop": "LoggingMagics",
        "ls": "Other",
        "lsmagic": "BasicMagics",
        "macro": "ExecutionMagics",
        "magic": "BasicMagics",
        "matplotlib": "PylabMagics",
        "mkdir": "Other",
        "more": "KernelMagics",
        "notebook": "BasicMagics",
        "page": "BasicMagics",
        "pastebin": "CodeMagics",
        "pdb": "ExecutionMagics",
        "pdef": "NamespaceMagics",
        "pdoc": "NamespaceMagics",
        "pfile": "NamespaceMagics",
        "pinfo": "NamespaceMagics",
        "pinfo2": "NamespaceMagics",
        "pip": "PackagingMagics",
        "popd": "OSMagics",
        "pprint": "BasicMagics",
        "precision": "BasicMagics",
        "prun": "ExecutionMagics",
        "psearch": "NamespaceMagics",
        "psource": "NamespaceMagics",
        "pushd": "OSMagics",
        "pwd": "OSMagics",
        "pycat": "OSMagics",
        "pylab": "PylabMagics",
        "qtconsole": "KernelMagics",
        "quickref": "BasicMagics",
        "recall": "HistoryMagics",
        "rehashx": "OSMagics",
        "reload_ext": "ExtensionMagics",
        "ren": "Other",
        "rep": "Other",
        "rerun": "HistoryMagics",
        "reset": "NamespaceMagics",
        "reset_selective": "NamespaceMagics",
        "rmdir": "Other",
        "run": "ExecutionMagics",
        "save": "CodeMagics",
        "sc": "OSMagics",
        "set_env": "OSMagics",
        "store": "StoreMagics",
        "sx": "OSMagics",
        "system": "OSMagics",
        "tb": "ExecutionMagics",
        "time": "ExecutionMagics",
        "timeit": "ExecutionMagics",
        "unalias": "OSMagics",
        "unload_ext": "ExtensionMagics",
        "who": "NamespaceMagics",
        "who_ls": "NamespaceMagics",
        "whos": "NamespaceMagics",
        "xdel": "NamespaceMagics",
        "xmode": "BasicMagics"
       }
      },
      "text/plain": [
       "Available line magics:\n",
       "%alias  %alias_magic  %autoawait  %autocall  %automagic  %autosave  %bookmark  %cd  %clear  %cls  %colors  %conda  %config  %connect_info  %copy  %ddir  %debug  %dhist  %dirs  %doctest_mode  %echo  %ed  %edit  %env  %gui  %hist  %history  %killbgscripts  %ldir  %less  %load  %load_ext  %loadpy  %logoff  %logon  %logstart  %logstate  %logstop  %ls  %lsmagic  %macro  %magic  %matplotlib  %mkdir  %more  %notebook  %page  %pastebin  %pdb  %pdef  %pdoc  %pfile  %pinfo  %pinfo2  %pip  %popd  %pprint  %precision  %prun  %psearch  %psource  %pushd  %pwd  %pycat  %pylab  %qtconsole  %quickref  %recall  %rehashx  %reload_ext  %ren  %rep  %rerun  %reset  %reset_selective  %rmdir  %run  %save  %sc  %set_env  %store  %sx  %system  %tb  %time  %timeit  %unalias  %unload_ext  %who  %who_ls  %whos  %xdel  %xmode\n",
       "\n",
       "Available cell magics:\n",
       "%%!  %%HTML  %%SVG  %%bash  %%capture  %%cmd  %%debug  %%file  %%html  %%javascript  %%js  %%latex  %%markdown  %%perl  %%prun  %%pypy  %%python  %%python2  %%python3  %%ruby  %%script  %%sh  %%svg  %%sx  %%system  %%time  %%timeit  %%writefile\n",
       "\n",
       "Automagic is ON, % prefix IS NOT needed for line magics."
      ]
     },
     "execution_count": 4,
     "metadata": {},
     "output_type": "execute_result"
    }
   ],
   "source": [
    "%lsmagic"
   ]
  },
  {
   "cell_type": "markdown",
   "metadata": {
    "slideshow": {
     "slide_type": "slide"
    }
   },
   "source": [
    "- Javascript"
   ]
  },
  {
   "cell_type": "code",
   "execution_count": 7,
   "metadata": {
    "slideshow": {
     "slide_type": "subslide"
    }
   },
   "outputs": [
    {
     "data": {
      "application/javascript": [
       "alert(\"Olá mundo!\")\n",
       "var a, b, c\n",
       "a = 1\n",
       "b = 5\n",
       "c = a + b\n",
       "element.text(c)\n"
      ],
      "text/plain": [
       "<IPython.core.display.Javascript object>"
      ]
     },
     "metadata": {},
     "output_type": "display_data"
    }
   ],
   "source": [
    "%%javascript    # ou simplesmente %%js\n",
    "alert(\"Olá mundo!\")\n",
    "var a, b, c\n",
    "a = 1\n",
    "b = 5\n",
    "c = a + b\n",
    "element.text(c)"
   ]
  },
  {
   "cell_type": "markdown",
   "metadata": {
    "slideshow": {
     "slide_type": "slide"
    }
   },
   "source": [
    "- Comandos *shell* (Sistema Operacional)"
   ]
  },
  {
   "cell_type": "code",
   "execution_count": 26,
   "metadata": {
    "slideshow": {
     "slide_type": "subslide"
    }
   },
   "outputs": [
    {
     "name": "stdout",
     "output_type": "stream",
     "text": [
      "D:\\python\\cursos\\curso_ifg\\1_basico\\202012\\1_Basic\n"
     ]
    }
   ],
   "source": [
    "!REM Comando shell para mostrar o diretório corrente (linha de comentário: REM)\n",
    "!CD\n",
    "# Instalação do pacote NLTK - Natural Language ToolKit\n",
    "# !pip install nltk"
   ]
  },
  {
   "cell_type": "code",
   "execution_count": 6,
   "metadata": {
    "slideshow": {
     "slide_type": "subslide"
    }
   },
   "outputs": [
    {
     "name": "stdout",
     "output_type": "stream",
     "text": [
      "Microsoft Windows [versÆo 10.0.18363.1256]\r\n",
      "(c) 2019 Microsoft Corporation. Todos os direitos reservados.\r\n",
      "\r\n",
      "D:\\python\\cursos\\curso_ifg\\1_basico\\202012\\1_Basic>dir\n",
      " O volume na unidade D ‚ DADOS\r\n",
      " O N£mero de S‚rie do Volume ‚ AAC1-5B84\r\n",
      "\r\n",
      " Pasta de D:\\python\\cursos\\curso_ifg\\1_basico\\202012\\1_Basic\r\n",
      "\r\n",
      "26/12/2020  09:39    <DIR>          .\r\n",
      "26/12/2020  09:39    <DIR>          ..\r\n",
      "26/12/2020  09:25    <DIR>          .ipynb_checkpoints\r\n",
      "10/12/2020  16:45    <DIR>          arq\r\n",
      "29/06/2019  12:11                58 arqteste.txt\r\n",
      "11/09/2020  09:59               185 Carrega_IPYNB.bat\r\n",
      "10/12/2020  16:45    <DIR>          exec\r\n",
      "24/08/2019  11:15            16.771 Exercicios_1.docx\r\n",
      "24/08/2019  11:15            59.113 Exercicios_1.pdf\r\n",
      "23/06/2019  22:30            17.503 Exerc¡cios_2.docx\r\n",
      "10/12/2020  16:45    <DIR>          img\r\n",
      "03/09/2020  15:25             1.651 mmc.py\r\n",
      "26/12/2020  09:39            32.235 Modulos_e_Pacotes.ipynb\r\n",
      "13/09/2019  22:42             2.023 pedra_papel_tesoura.py\r\n",
      "01/10/2020  16:33                73 qq.txt\r\n",
      "24/12/2020  10:11               254 seqNumeros.py\r\n",
      "22/12/2020  19:03           335.827 TopicosBasicos.ipynb\r\n",
      "24/12/2020  10:12    <DIR>          __pycache__\r\n",
      "              11 arquivo(s)        465.693 bytes\r\n",
      "               7 pasta(s)   340.848.254.976 bytes dispon¡veis\r\n",
      "\r\n",
      "D:\\python\\cursos\\curso_ifg\\1_basico\\202012\\1_Basic>"
     ]
    }
   ],
   "source": [
    "%%cmd\n",
    "dir"
   ]
  },
  {
   "cell_type": "code",
   "execution_count": 27,
   "metadata": {
    "slideshow": {
     "slide_type": "subslide"
    }
   },
   "outputs": [
    {
     "name": "stdout",
     "output_type": "stream",
     "text": [
      " O volume na unidade D ‚ DADOS\n",
      " O N£mero de S‚rie do Volume ‚ AAC1-5B84\n",
      "\n",
      " Pasta de D:\\python\\cursos\\curso_ifg\\1_basico\\202012\\1_Basic\n",
      "\n",
      "26/12/2020  10:53    <DIR>          .\n",
      "26/12/2020  10:53    <DIR>          ..\n",
      "26/12/2020  09:25    <DIR>          .ipynb_checkpoints\n",
      "24/12/2020  10:12    <DIR>          __pycache__\n",
      "10/12/2020  16:45    <DIR>          arq\n",
      "29/06/2019  12:11                58 arqteste.txt\n",
      "11/09/2020  09:59               185 Carrega_IPYNB.bat\n",
      "10/12/2020  16:45    <DIR>          exec\n",
      "24/08/2019  11:15            16.771 Exercicios_1.docx\n",
      "24/08/2019  11:15            59.113 Exercicios_1.pdf\n",
      "23/06/2019  22:30            17.503 Exerc¡cios_2.docx\n",
      "10/12/2020  16:45    <DIR>          img\n",
      "03/09/2020  15:25             1.651 mmc.py\n",
      "26/12/2020  10:53            36.845 Modulos_e_Pacotes.ipynb\n",
      "13/09/2019  22:42             2.023 pedra_papel_tesoura.py\n",
      "01/10/2020  16:33                73 qq.txt\n",
      "24/12/2020  10:11               254 seqNumeros.py\n",
      "22/12/2020  19:03           335.827 TopicosBasicos.ipynb\n",
      "              11 arquivo(s)        470.303 bytes\n",
      "               7 pasta(s)   340.848.214.016 bytes dispon¡veis\n"
     ]
    }
   ],
   "source": [
    "%ls"
   ]
  },
  {
   "cell_type": "markdown",
   "metadata": {
    "slideshow": {
     "slide_type": "slide"
    }
   },
   "source": [
    "- Tempo de execução de um comando ou de um *script* Python:"
   ]
  },
  {
   "cell_type": "code",
   "execution_count": 73,
   "metadata": {
    "slideshow": {
     "slide_type": "subslide"
    }
   },
   "outputs": [
    {
     "name": "stdout",
     "output_type": "stream",
     "text": [
      "                   - Quanto tempo leva a execução desse laço?\r",
      "                   - Quanto tempo leva a execução desse laço?\r",
      "                   - Quanto tempo leva a execução desse laço?\r",
      "                   - Quanto tempo leva a execução desse laço?\r",
      "                   - Quanto tempo leva a execução desse laço?\r",
      "                   - Quanto tempo leva a execução desse laço?\r",
      "                   - Quanto tempo leva a execução desse laço?\r",
      "                   - Quanto tempo leva a execução desse laço?\r",
      "                   - Quanto tempo leva a execução desse laço?\r",
      "                   - Quanto tempo leva a execução desse laço?\r",
      "                   - Quanto tempo leva a execução desse laço?\r",
      "                   - Quanto tempo leva a execução desse laço?\r",
      "                   - Quanto tempo leva a execução desse laço?\r",
      "                   - Quanto tempo leva a execução desse laço?\r",
      "                   - Quanto tempo leva a execução desse laço?\r",
      "                   - Quanto tempo leva a execução desse laço?\r",
      "                   - Quanto tempo leva a execução desse laço?\r",
      "                   - Quanto tempo leva a execução desse laço?\r",
      "                   - Quanto tempo leva a execução desse laço?\r",
      "                   - Quanto tempo leva a execução desse laço?\r",
      "                   - Quanto tempo leva a execução desse laço?\r",
      "                   - Quanto tempo leva a execução desse laço?\r",
      "                   - Quanto tempo leva a execução desse laço?\r",
      "                   - Quanto tempo leva a execução desse laço?\r",
      "                   - Quanto tempo leva a execução desse laço?\r",
      "                   - Quanto tempo leva a execução desse laço?\r",
      "                   - Quanto tempo leva a execução desse laço?\r",
      "                   - Quanto tempo leva a execução desse laço?\r",
      "                   - Quanto tempo leva a execução desse laço?\r",
      "                   - Quanto tempo leva a execução desse laço?\r",
      "                   - Quanto tempo leva a execução desse laço?\r",
      "                   - Quanto tempo leva a execução desse laço?\r",
      "                   - Quanto tempo leva a execução desse laço?\r",
      "                   - Quanto tempo leva a execução desse laço?\r",
      "                   - Quanto tempo leva a execução desse laço?\r",
      "                   - Quanto tempo leva a execução desse laço?\r",
      "                   - Quanto tempo leva a execução desse laço?\r",
      "                   - Quanto tempo leva a execução desse laço?\r",
      "                   - Quanto tempo leva a execução desse laço?\r",
      "                   - Quanto tempo leva a execução desse laço?\r",
      "                   - Quanto tempo leva a execução desse laço?\r",
      "                   - Quanto tempo leva a execução desse laço?\r",
      "                   - Quanto tempo leva a execução desse laço?\r",
      "                   - Quanto tempo leva a execução desse laço?\r",
      "                   - Quanto tempo leva a execução desse laço?\r",
      "                   - Quanto tempo leva a execução desse laço?\r",
      "                   - Quanto tempo leva a execução desse laço?\r",
      "                   - Quanto tempo leva a execução desse laço?\r",
      "                   - Quanto tempo leva a execução desse laço?\r",
      "                   - Quanto tempo leva a execução desse laço?\r",
      "                   - Quanto tempo leva a execução desse laço?\r",
      "                   - Quanto tempo leva a execução desse laço?\r",
      "                   - Quanto tempo leva a execução desse laço?\r",
      "                   - Quanto tempo leva a execução desse laço?\r",
      "                   - Quanto tempo leva a execução desse laço?\r",
      "                   - Quanto tempo leva a execução desse laço?\r",
      "                   - Quanto tempo leva a execução desse laço?\r",
      "                   - Quanto tempo leva a execução desse laço?\r",
      "                   - Quanto tempo leva a execução desse laço?\r",
      "                   - Quanto tempo leva a execução desse laço?\r",
      "                   - Quanto tempo leva a execução desse laço?\r",
      "                   - Quanto tempo leva a execução desse laço?\r",
      "                   - Quanto tempo leva a execução desse laço?\r",
      "                   - Quanto tempo leva a execução desse laço?\r",
      "                   - Quanto tempo leva a execução desse laço?\r",
      "                   - Quanto tempo leva a execução desse laço?\r",
      "                   - Quanto tempo leva a execução desse laço?\r",
      "                   - Quanto tempo leva a execução desse laço?\r",
      "                   - Quanto tempo leva a execução desse laço?\r",
      "                   - Quanto tempo leva a execução desse laço?\r",
      "                   - Quanto tempo leva a execução desse laço?\r",
      "                   - Quanto tempo leva a execução desse laço?\r",
      "                   - Quanto tempo leva a execução desse laço?\r",
      "                   - Quanto tempo leva a execução desse laço?\r",
      "                   - Quanto tempo leva a execução desse laço?\r",
      "                   - Quanto tempo leva a execução desse laço?\r",
      "                   - Quanto tempo leva a execução desse laço?\r",
      "                   - Quanto tempo leva a execução desse laço?\r",
      "                   - Quanto tempo leva a execução desse laço?\r",
      "                   - Quanto tempo leva a execução desse laço?\r",
      "                   - Quanto tempo leva a execução desse laço?\r",
      "                   - Quanto tempo leva a execução desse laço?\r",
      "                   - Quanto tempo leva a execução desse laço?\r",
      "                   - Quanto tempo leva a execução desse laço?\r",
      "                   - Quanto tempo leva a execução desse laço?\r",
      "                   - Quanto tempo leva a execução desse laço?\r",
      "                   - Quanto tempo leva a execução desse laço?\r",
      "                   - Quanto tempo leva a execução desse laço?\r",
      "                   - Quanto tempo leva a execução desse laço?\r",
      "                   - Quanto tempo leva a execução desse laço?\r",
      "                   - Quanto tempo leva a execução desse laço?\r",
      "                   - Quanto tempo leva a execução desse laço?\r",
      "                   - Quanto tempo leva a execução desse laço?\r",
      "                   - Quanto tempo leva a execução desse laço?\r",
      "                   - Quanto tempo leva a execução desse laço?\r",
      "                   - Quanto tempo leva a execução desse laço?\r",
      "                   - Quanto tempo leva a execução desse laço?\r",
      "                   - Quanto tempo leva a execução desse laço?\r",
      "                   - Quanto tempo leva a execução desse laço?\r",
      "                   - Quanto tempo leva a execução desse laço?\r",
      "Wall time: 998 µs\n",
      "                   - Quanto tempo leva a execução desse laço?\n",
      "Wall time: 0 ns\n"
     ]
    }
   ],
   "source": [
    "%time for i in range(100): print(19*' '+\"- Quanto tempo leva a execução desse laço?\\r\",end='')\n",
    "%time print(19*' '+\"- Quanto tempo leva a execução desse laço?\")"
   ]
  },
  {
   "cell_type": "code",
   "execution_count": 71,
   "metadata": {
    "slideshow": {
     "slide_type": "subslide"
    }
   },
   "outputs": [
    {
     "name": "stdout",
     "output_type": "stream",
     "text": [
      "Wall time: 996 µs\n"
     ]
    }
   ],
   "source": [
    "%%time\n",
    "quad = []\n",
    "for i in range(1000):\n",
    "    quad.append(i**2)"
   ]
  },
  {
   "cell_type": "markdown",
   "metadata": {
    "slideshow": {
     "slide_type": "slide"
    }
   },
   "source": [
    "- Tempo médio de execução"
   ]
  },
  {
   "cell_type": "code",
   "execution_count": 2,
   "metadata": {
    "scrolled": true,
    "slideshow": {
     "slide_type": "subslide"
    }
   },
   "outputs": [
    {
     "name": "stdout",
     "output_type": "stream",
     "text": [
      "20.7 µs ± 1.73 µs per loop (mean ± std. dev. of 7 runs, 1000 loops each)\n"
     ]
    }
   ],
   "source": [
    "%%timeit -n 1000\n",
    "quad = []\n",
    "for i in range(100):\n",
    "    quad.append(i**2)\n",
    "quad"
   ]
  },
  {
   "cell_type": "markdown",
   "metadata": {
    "slideshow": {
     "slide_type": "slide"
    }
   },
   "source": [
    "- Comandos SQL (*Structured Query Language*)"
   ]
  },
  {
   "cell_type": "code",
   "execution_count": 17,
   "metadata": {
    "slideshow": {
     "slide_type": "subslide"
    }
   },
   "outputs": [],
   "source": [
    "%load_ext sql"
   ]
  },
  {
   "cell_type": "code",
   "execution_count": 18,
   "metadata": {
    "slideshow": {
     "slide_type": "subslide"
    }
   },
   "outputs": [],
   "source": [
    "%sql sqlite://"
   ]
  },
  {
   "cell_type": "code",
   "execution_count": 23,
   "metadata": {
    "slideshow": {
     "slide_type": "subslide"
    }
   },
   "outputs": [
    {
     "name": "stdout",
     "output_type": "stream",
     "text": [
      " * sqlite://\n",
      "Done.\n",
      "Done.\n",
      "1 rows affected.\n",
      "1 rows affected.\n",
      "1 rows affected.\n",
      "1 rows affected.\n"
     ]
    },
    {
     "data": {
      "text/plain": [
       "[]"
      ]
     },
     "execution_count": 23,
     "metadata": {},
     "output_type": "execute_result"
    }
   ],
   "source": [
    "%%sql\n",
    "-- Criando uma tabela e inserindo registros...\n",
    "DROP TABLE IF EXISTS futebol;\n",
    "CREATE TABLE futebol (\"Time\",\"Brasileiro\",\"Copa do Brasil\",\"Supercopa\",\"Libertadores\",\"Sulamericana\");\n",
    "INSERT INTO futebol VALUES (\"Flamengo\",6,3,3,2,1);\n",
    "INSERT INTO futebol VALUES (\"São Paulo\",6,0,0,3,3);\n",
    "INSERT INTO futebol VALUES (\"Santos\",8,1,0,3,1);\n",
    "INSERT INTO futebol VALUES (\"Cruzeiro\",4,6,0,2,2);"
   ]
  },
  {
   "cell_type": "code",
   "execution_count": 24,
   "metadata": {
    "scrolled": true,
    "slideshow": {
     "slide_type": "subslide"
    }
   },
   "outputs": [
    {
     "name": "stdout",
     "output_type": "stream",
     "text": [
      " * sqlite://\n",
      "Done.\n"
     ]
    },
    {
     "data": {
      "text/html": [
       "<table>\n",
       "    <tr>\n",
       "        <th>Time</th>\n",
       "        <th>Brasileiro</th>\n",
       "        <th>Copa do Brasil</th>\n",
       "        <th>Supercopa</th>\n",
       "        <th>Libertadores</th>\n",
       "        <th>Sulamericana</th>\n",
       "    </tr>\n",
       "    <tr>\n",
       "        <td>São Paulo</td>\n",
       "        <td>6</td>\n",
       "        <td>0</td>\n",
       "        <td>0</td>\n",
       "        <td>3</td>\n",
       "        <td>3</td>\n",
       "    </tr>\n",
       "    <tr>\n",
       "        <td>Santos</td>\n",
       "        <td>8</td>\n",
       "        <td>1</td>\n",
       "        <td>0</td>\n",
       "        <td>3</td>\n",
       "        <td>1</td>\n",
       "    </tr>\n",
       "    <tr>\n",
       "        <td>Flamengo</td>\n",
       "        <td>6</td>\n",
       "        <td>3</td>\n",
       "        <td>3</td>\n",
       "        <td>2</td>\n",
       "        <td>1</td>\n",
       "    </tr>\n",
       "</table>"
      ],
      "text/plain": [
       "[('São Paulo', 6, 0, 0, 3, 3),\n",
       " ('Santos', 8, 1, 0, 3, 1),\n",
       " ('Flamengo', 6, 3, 3, 2, 1)]"
      ]
     },
     "execution_count": 24,
     "metadata": {},
     "output_type": "execute_result"
    }
   ],
   "source": [
    "%sql SELECT * FROM futebol ORDER BY \"Libertadores\" DESC LIMIT 3"
   ]
  },
  {
   "cell_type": "markdown",
   "metadata": {
    "slideshow": {
     "slide_type": "slide"
    }
   },
   "source": [
    "- Representação HTML - Controle da Saída do *Notebook*  \n",
    "\n",
    "Porque o resultado da consulta (*SELECT*) foi mostrado como uma tabela HTML?  \n",
    "\n",
    "Ao mostrar um objeto, o *Jupyter* tenta obter uma representação HTML daquele objeto a partir do método `_repr_html_()`, se ele existir. Qualquer objeto (classe) com este método será mostrado como HTML:"
   ]
  },
  {
   "cell_type": "code",
   "execution_count": 85,
   "metadata": {
    "slideshow": {
     "slide_type": "subslide"
    }
   },
   "outputs": [
    {
     "data": {
      "text/html": [
       "<h3 style=\"color:blue; text-align:center\">Eu sou uma coisa azul</h3>"
      ],
      "text/plain": [
       "<__main__.Coisa at 0x1f9e01ef9a0>"
      ]
     },
     "execution_count": 85,
     "metadata": {},
     "output_type": "execute_result"
    }
   ],
   "source": [
    "class Coisa():\n",
    "    def _repr_html_(self):\n",
    "        return \"\"\"<h3 style=\"color:blue; text-align:center\">Eu sou uma coisa azul</h3>\"\"\"\n",
    "\n",
    "coisinha = Coisa()\n",
    "coisinha\n",
    "    "
   ]
  },
  {
   "cell_type": "markdown",
   "metadata": {
    "slideshow": {
     "slide_type": "slide"
    }
   },
   "source": [
    "<a id='4.1'></a>\n",
    "### 4.1 Criando uma Extensão aos Comandos Mágicos\n",
    "\n",
    "Vamos acessar o editor de texto do *Jupyter* para criarmos um módulo que será usado como **comando mágico**. Digite os comandos seguintes:  \n",
    "\n",
    "``` python\n",
    "def expedidor(linha):\n",
    "    print(linha)\n",
    "    \n",
    "def load_ipython_extension(ipython, *args):\n",
    "    ipython.register_magic_function(expedidor,'line',\"mcm\")   # nome: Meu Comando Mágico - mcm\n",
    "\n",
    "def unload_ipython_extension(ipython):\n",
    "    pass\n",
    "```\n",
    "\n",
    "E salve-os com o nome **exemplo\\_ext.py** no mesmo diretório desse *notebook*. Agora podemos carregar nossa extensão aos comandos mágicos do **Ipython**."
   ]
  },
  {
   "cell_type": "code",
   "execution_count": 6,
   "metadata": {
    "scrolled": true,
    "slideshow": {
     "slide_type": "subslide"
    }
   },
   "outputs": [],
   "source": [
    "%load_ext exemplo_ext"
   ]
  },
  {
   "cell_type": "code",
   "execution_count": 7,
   "metadata": {
    "slideshow": {
     "slide_type": "subslide"
    }
   },
   "outputs": [
    {
     "name": "stdout",
     "output_type": "stream",
     "text": [
      "IFG - Campus Goiânia - Prof. Cláudio Fleury\n"
     ]
    }
   ],
   "source": [
    "%mcm IFG - Campus Goiânia - Prof. Cláudio Fleury"
   ]
  },
  {
   "cell_type": "markdown",
   "metadata": {
    "slideshow": {
     "slide_type": "slide"
    }
   },
   "source": [
    "Vamos criar agora outra extensão para manipular requisições HTTP. Digite os comandos seguintes:  \n",
    "``` python  \n",
    "import requests as req\n",
    "\n",
    "def despachador(linha):\n",
    "    partes = linha.strip().split(' ')\n",
    "    if len(partes == 2 and partes[0] in ('GET','DELETE')):\n",
    "        verbo, uri = partes\n",
    "        if verbo == 'GET':\n",
    "            return req.get(uri)\n",
    "        elif verbo == 'DELETE':\n",
    "            return req.delete(uri)\n",
    "    elif len(partes) > 2 and partes[0] in ('GET', 'PUT', 'POST'):\n",
    "        verbo = partes[0]\n",
    "        uri = partes[1]\n",
    "        cargautil = json.loads(\" \".join(partes[2:]))\n",
    "        if verbo == 'GET':\n",
    "            return req.get(uri, params=cargautil)\n",
    "        elif verbo == 'PUT':\n",
    "            return req.put(uri, json=cargautil)\n",
    "        elif verbo == 'POST':\n",
    "            return req.post(uri, json=cargautil)        \n",
    "    else:\n",
    "        print(\"\"\" Uso:\\n \\ \n",
    "        %mcm GET <url>\\n \\\n",
    "        %mcm DELETE <url>\\n \\\n",
    "                        Requisições HTTP GET/DELETE a uma <url>.\\n \\\n",
    "        \\n \\\n",
    "        %mcm GET <url> <parâmetros de consulta json>\\n \\\n",
    "                        Requisição HTTP GET a uma <url> e JSON será usado para criar string de consulta.\\n \\\n",
    "        %mcm PÚT <url> <json>\\n \\\n",
    "        %mcm POST <url> <json>\\n \\\n",
    "                        Requisições HTTP PUT/POST a uma <url>, <json> será enviado como cargautil JSON.\"\"\")\n",
    "\n",
    "def load_ipython_extension(ipython, *args):\n",
    "    ipython.register_magic_function(despachador,'line',\"http\")\n",
    "\n",
    "def unload_ipython_extension(ipython):\n",
    "    pass\n",
    "```\n",
    "        \n",
    "E salve-os com o nome **exemplo2\\_ext.py** no mesmo diretório desse *notebook*. Agora vamos carregar nossa nova extensão aos comandos mágicos do **Ipython**."
   ]
  },
  {
   "cell_type": "code",
   "execution_count": 12,
   "metadata": {
    "scrolled": true,
    "slideshow": {
     "slide_type": "subslide"
    }
   },
   "outputs": [],
   "source": [
    "%load_ext exemplo2_ext"
   ]
  },
  {
   "cell_type": "code",
   "execution_count": 15,
   "metadata": {
    "slideshow": {
     "slide_type": "subslide"
    }
   },
   "outputs": [
    {
     "name": "stdout",
     "output_type": "stream",
     "text": [
      " Uso:\n",
      "         %http GET <url>\n",
      "         %http DELETE <url>\n",
      "               Requisições HTTP GET/DELETE a uma <url>.\n",
      "         \n",
      "         %http GET <url> <parâmetros de consulta json>\n",
      "               Requisição HTTP GET a uma <url> e JSON será usado para criar string de consulta.\n",
      "         %http PUT <url> <json>\n",
      "         %http POST <url> <json>\n",
      "               Requisições HTTP PUT/POST a uma <url>, <json> será enviado como carga útil JSON.\n"
     ]
    }
   ],
   "source": [
    "%http STATUS http://localhost:5000/get"
   ]
  },
  {
   "cell_type": "markdown",
   "metadata": {
    "slideshow": {
     "slide_type": "skip"
    }
   },
   "source": [
    "<p style=\"text-align:right;\"><a href=\"#topo\">Volta ao topo</a>"
   ]
  },
  {
   "cell_type": "markdown",
   "metadata": {
    "slideshow": {
     "slide_type": "slide"
    }
   },
   "source": [
    "<a id='4.2'></a>\n",
    "### 4.2 Jupyter Notebook como Slides\n",
    "\n",
    "Qualquer Jupyter Notebook pode ser visto como um conjunto de slides, basta fazer a conversão do arquivo com a seguinte linha de comando no *shell* do sistema operacional:\n",
    "\n",
    "`d:\\python\\WPy64-3850\\python-3.8.5.amd64\\Scripts\\jupyter nbconvert Modulos_e_Pacotes.ipynb --to slides --post serve`"
   ]
  },
  {
   "cell_type": "markdown",
   "metadata": {
    "slideshow": {
     "slide_type": "skip"
    }
   },
   "source": [
    "<p style=\"text-align:right;\"><a href=\"#topo\">Volta ao topo</a>"
   ]
  },
  {
   "cell_type": "markdown",
   "metadata": {
    "collapsed": true,
    "slideshow": {
     "slide_type": "slide"
    }
   },
   "source": [
    "#### Fontes: \n",
    "1. https://www.activestate.com/resources/quick-reads/how-to-list-installed-python-packages/\n",
    "1. https://www.journaldev.com/14329/python-modules\n",
    "1. https://www.journaldev.com/14339/python-package\n",
    "1. https://www.youtube.com/watch?v=oS5PahnKf_E"
   ]
  },
  {
   "cell_type": "markdown",
   "metadata": {
    "slideshow": {
     "slide_type": "skip"
    }
   },
   "source": [
    "<p style=\"text-align:right;\"><a href=\"#topo\">Volta ao topo</a>"
   ]
  }
 ],
 "metadata": {
  "kernelspec": {
   "display_name": "Python 3",
   "language": "python",
   "name": "python3"
  },
  "language_info": {
   "codemirror_mode": {
    "name": "ipython",
    "version": 3
   },
   "file_extension": ".py",
   "mimetype": "text/x-python",
   "name": "python",
   "nbconvert_exporter": "python",
   "pygments_lexer": "ipython3",
   "version": "3.8.5"
  }
 },
 "nbformat": 4,
 "nbformat_minor": 2
}
