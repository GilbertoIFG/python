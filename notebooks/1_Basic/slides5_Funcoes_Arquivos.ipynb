{
 "cells": [
  {
   "cell_type": "markdown",
   "metadata": {
    "slideshow": {
     "slide_type": "slide"
    }
   },
   "source": [
    "# <font color = \"blue\" style=\"background-color: #E9F7E1;\"> Funções e Arquivos</font>\n",
    "\n",
    "<ul><li><b>Funções</b></li>\n",
    "    <li><b><a href=\"#arquivos\"  title=\"persistência de dados em memória secundária\">Arquivos</a></b></li>\n",
    "    <li><b><a href=\"#anexo\">Anexo - Biblioteca Padrão do Python</a></b></li></ul>"
   ]
  },
  {
   "cell_type": "markdown",
   "metadata": {
    "slideshow": {
     "slide_type": "slide"
    }
   },
   "source": [
    "## 1. Funções\n",
    "\n",
    "### 1.1 Chamada de uma Função\n",
    "No contexto da programação, função é um conjunto de instruções que realiza uma computação. Quando você define uma função, você especifica o nome, parâmetro(s) e o conjunto de instruções. Posteriormente, pode-se \"chamar\" a função pelo seu nome e o argumento(s). A expressão em parênteses é chamada de argumento(s) da função na sua chamada, e de parâmetro(s) da função na sua declaração (definição). O argumento é um valor ou variável que passamos à função como entrada.   "
   ]
  },
  {
   "cell_type": "markdown",
   "metadata": {
    "slideshow": {
     "slide_type": "slide"
    }
   },
   "source": [
    "### 1.2 Funções Internas\n",
    "O Python fornece várias funções internas (nativas, embarcadas) que são usadas sem que seja preciso definí-las. Os criadores do Python (Guido van Rossum e comunidade) escreveram várias funções para solucionar problemas comuns.\n",
    "A funções `max()` e `min()` nos dão o maior e o menor valores de uma sequência, respectivamente:"
   ]
  },
  {
   "cell_type": "code",
   "execution_count": 3,
   "metadata": {},
   "outputs": [
    {
     "name": "stdout",
     "output_type": "stream",
     "text": [
      "46 1 6\n"
     ]
    }
   ],
   "source": [
    "valores = (33,2,45,3,1,46)\n",
    "print(max(valores), min(valores), len(valores))"
   ]
  },
  {
   "cell_type": "markdown",
   "metadata": {},
   "source": [
    "### 1.3 Funções de Conversão de Tipo\n",
    "O Python também fornece funções internas que convertem valores de um tipo de dados em outro. A função `int()` recebe qualquer valor e o converte em um inteiro, se for possível. Outras funções de conversão de tipo:\n",
    "\n",
    "|Função|Conversão|\n",
    "|:---: |:---|\n",
    "|`int()`|para número inteiro|\n",
    "|`float()`|para número real|\n",
    "|`complex()`|para número complexo|\n",
    "|`str()`|para string|\n",
    "|`bool()`|para booleano|"
   ]
  },
  {
   "cell_type": "code",
   "execution_count": 19,
   "metadata": {},
   "outputs": [
    {
     "name": "stdout",
     "output_type": "stream",
     "text": [
      "False True (-1+0j)\n",
      "1292\n"
     ]
    },
    {
     "ename": "ValueError",
     "evalue": "invalid literal for int() with base 10: '2343a'",
     "output_type": "error",
     "traceback": [
      "\u001b[1;31m---------------------------------------------------------------------------\u001b[0m",
      "\u001b[1;31mValueError\u001b[0m                                Traceback (most recent call last)",
      "\u001b[1;32m<ipython-input-19-62e937351f0f>\u001b[0m in \u001b[0;36m<module>\u001b[1;34m\u001b[0m\n\u001b[0;32m      1\u001b[0m \u001b[0mprint\u001b[0m\u001b[1;33m(\u001b[0m\u001b[0mbool\u001b[0m\u001b[1;33m(\u001b[0m\u001b[1;36m0\u001b[0m\u001b[1;33m)\u001b[0m\u001b[1;33m,\u001b[0m \u001b[0mbool\u001b[0m\u001b[1;33m(\u001b[0m\u001b[1;36m40\u001b[0m\u001b[1;33m)\u001b[0m\u001b[1;33m,\u001b[0m \u001b[0mcomplex\u001b[0m\u001b[1;33m(\u001b[0m\u001b[1;33m-\u001b[0m\u001b[1;36m1\u001b[0m\u001b[1;33m)\u001b[0m\u001b[1;33m)\u001b[0m\u001b[1;33m\u001b[0m\u001b[1;33m\u001b[0m\u001b[0m\n\u001b[0;32m      2\u001b[0m \u001b[0mprint\u001b[0m\u001b[1;33m(\u001b[0m\u001b[0mint\u001b[0m\u001b[1;33m(\u001b[0m\u001b[1;34m'1292'\u001b[0m\u001b[1;33m)\u001b[0m\u001b[1;33m)\u001b[0m\u001b[1;33m\u001b[0m\u001b[1;33m\u001b[0m\u001b[0m\n\u001b[1;32m----> 3\u001b[1;33m \u001b[0mprint\u001b[0m\u001b[1;33m(\u001b[0m\u001b[0mint\u001b[0m\u001b[1;33m(\u001b[0m\u001b[1;34m'2343a'\u001b[0m\u001b[1;33m)\u001b[0m\u001b[1;33m)\u001b[0m\u001b[1;33m\u001b[0m\u001b[1;33m\u001b[0m\u001b[0m\n\u001b[0m",
      "\u001b[1;31mValueError\u001b[0m: invalid literal for int() with base 10: '2343a'"
     ]
    }
   ],
   "source": [
    "print(bool(0), bool(40), complex(-1))\n",
    "print(int('1292'))\n",
    "print(int('2343a'))"
   ]
  },
  {
   "cell_type": "markdown",
   "metadata": {},
   "source": [
    "### 1.4 Funções Matemáticas\n",
    "As funções matemáticas do Python estão disponíveis num módulo (biblioteca) chamado `math`, e por isso, antes de usar suas funções matemáticas temos que importá-lo:  \n",
    "\n",
    "`import math`  \n",
    "\n",
    "Essa declaração cria um objeto do módulo chamado `math`. Se usarmos `print(math)` veremos algumas informações sobre ele:"
   ]
  },
  {
   "cell_type": "code",
   "execution_count": 21,
   "metadata": {},
   "outputs": [
    {
     "name": "stdout",
     "output_type": "stream",
     "text": [
      "<module 'math' (built-in)>\n"
     ]
    }
   ],
   "source": [
    "import math\n",
    "print(math)"
   ]
  },
  {
   "cell_type": "markdown",
   "metadata": {},
   "source": [
    "O objeto do módulo contém as funções e variáveis definidas no módulo. Para acessar uma dessas funções, você deve especificar o nome do módulo e o nome da função, separados por um ponto. Esse formato é conhecido como notação de ponto. O valor da constante pi ($\\pi$) com 15 dígitos de precisão pode ser obtida por `math.pi`.  \n",
    "Exemplo:"
   ]
  },
  {
   "cell_type": "code",
   "execution_count": 25,
   "metadata": {},
   "outputs": [
    {
     "name": "stdout",
     "output_type": "stream",
     "text": [
      "Pot_sinal/Pot_ruido: 1000000.0, em decibéis: 60.0, Módulo: 1.0\n"
     ]
    }
   ],
   "source": [
    "potencia_do_sinal, potencia_do_ruido = 1000, 0.001   # 1 kW, 1 mW\n",
    "razao_abs = potencia_do_sinal / potencia_do_ruido\n",
    "razao_db  = 10 * math.log10(razao_abs)\n",
    "theta     = 0.7                                      # em radianos\n",
    "modulo    = math.sqrt(math.sin(theta)**2 + math.cos(theta)**2)\n",
    "print(f\"Pot_sinal/Pot_ruido: {razao_abs}, em decibéis: {razao_db}, Módulo: {modulo}\")"
   ]
  },
  {
   "cell_type": "markdown",
   "metadata": {},
   "source": [
    "### 1.5 Geração de Números Aleatórios\n",
    "Os algoritmos disponíveis não são capazes de gerar números aleatórios mas apenas números pseudoaleatórios, e são assim denominados por serem gerados por uma computação determinística.\n",
    "\n",
    "O módulo `random` oferece funções que geram números pseudoaleatórios, tais como a função `random()` que retorna um número real (ponto flutuante, *`float`*) entre 0.0 e 1.0 (incluindo o limite inferior, 0.0, mas não\n",
    "o limite superior, 1.0). Todas as vezes que chamarmos essa função, teremos o próximo número de uma longa série de números pseudoaleatórios.  \n",
    "\n",
    "Exemplo:"
   ]
  },
  {
   "cell_type": "code",
   "execution_count": 31,
   "metadata": {},
   "outputs": [
    {
     "name": "stdout",
     "output_type": "stream",
     "text": [
      "0.4742327047305014, 0.10717344326981981, 0.7295320611208369, 0.934987001333908, 0.16855214937383278, 0.017341765488243954, 0.8199536379472623, 0.5168003928774128, 0.5183860006683746, 0.09357367042746823, "
     ]
    }
   ],
   "source": [
    "import random \n",
    "\n",
    "for i in range(10):\n",
    "    x = random.random()\n",
    "    print(x, end=', ')"
   ]
  },
  {
   "cell_type": "markdown",
   "metadata": {},
   "source": [
    "A função `random()` é apenas uma das funções do módulo **random** que geram números aleatórios. Outra \n",
    "função usual é a `randint()` que recebe dois parâmetros:  `'menor'` e `'maior'` e retorna um inteiro entre `'menor'` e `'maior'`, incluindo os limites."
   ]
  },
  {
   "cell_type": "code",
   "execution_count": 39,
   "metadata": {},
   "outputs": [
    {
     "name": "stdout",
     "output_type": "stream",
     "text": [
      "10 24 13 57 52 55 "
     ]
    }
   ],
   "source": [
    "# Aposta para Mega-Sena\n",
    "for dez in range(6):\n",
    "    print(f'{random.randint(1, 60):02}', end=' ')     # podem aparecer valores repetidos"
   ]
  },
  {
   "cell_type": "markdown",
   "metadata": {},
   "source": [
    "Outra função do módulo `random` muito útil é a `choice()`, que escolhe aleatoriamente um elemento de uma sequência fornecida como argumento:"
   ]
  },
  {
   "cell_type": "code",
   "execution_count": 42,
   "metadata": {},
   "outputs": [
    {
     "name": "stdout",
     "output_type": "stream",
     "text": [
      "Escolha  1: 60\n",
      "Escolha  2: 60\n",
      "Escolha  3: 20\n",
      "Escolha  4: 40\n",
      "Escolha  5: 10\n",
      "Escolha  6: 60\n",
      "Escolha  7: 60\n",
      "Escolha  8: 30\n",
      "Escolha  9: 50\n",
      "Escolha 10: 50\n"
     ]
    }
   ],
   "source": [
    "t = [10, 20, 30, 40, 50, 60]\n",
    "for esc in range(1,11):\n",
    "    print(f'Escolha {esc:2d}: {random.choice(t)}')"
   ]
  },
  {
   "cell_type": "markdown",
   "metadata": {},
   "source": [
    "O módulo `random` também disponibiliza funções para gerar valores aleatórios de acordo com funções de distribuição contínuas: gaussiana, exponencial, gamma e outras."
   ]
  },
  {
   "cell_type": "markdown",
   "metadata": {
    "slideshow": {
     "slide_type": "slide"
    }
   },
   "source": [
    "### 1.6 Funções do Usuário\n",
    "Até agora, usamos apenas as funções do Python, mas também é possível adicionar novas funções. A definição de uma função pelo usuário começa pela especificação do nome da função, parâmetro(s) (se existir(em)) e o conjunto de comandos que serão executados quando a função for chamada.  \n",
    "\n",
    "Sintaxe:  \n",
    "``` python\n",
    "def nome_funcao([parametro1[, parametro2, ...[, parametroN]]]):\n",
    "    comando (ou bloco de comandos)\n",
    "```\n",
    "Uma vez definida, a função pode ser utilizada repetidas vezes ao longo do programa.  \n",
    "\n",
    "**Exemplo**:"
   ]
  },
  {
   "cell_type": "code",
   "execution_count": 51,
   "metadata": {},
   "outputs": [],
   "source": [
    "def refrao():\n",
    "     print('Fica sempre um pouco de perfume\\n' \\\n",
    "           'nas mãos que oferecem rosas\\n' \\\n",
    "           'nas mãos que sabem ser generosas')"
   ]
  },
  {
   "cell_type": "markdown",
   "metadata": {},
   "source": [
    "A palavra-chave **`def`** indica a definição de uma função de usuário. O nome da função é `refrao`. As regras para nomes de funções são as mesmas usadas para nominar variáveis. Não se pode usar uma palavra-chave como nome de função, e deve-se evitar também uma variável e uma função com mesmos nomes.  \n",
    "\n",
    "Os parênteses vazios após o nome da função indicam que essa função não usará argumentos ao ser chamada.\n",
    "A primeira linha da definição da função é chamada de **cabeçalho** da função, e o restante é o **corpo** da função. O cabeçalho é finalizado sempre com um caracter de dois pontos, `:`, e o corpo tem que estar\n",
    "indentado. Por convenção, a indentação é de quatro espaços em branco. \n",
    "\n",
    "Todos os elementos da linguagem Python são objetos, inclusives as funções de usuários."
   ]
  },
  {
   "cell_type": "code",
   "execution_count": 52,
   "metadata": {
    "scrolled": true
   },
   "outputs": [
    {
     "name": "stdout",
     "output_type": "stream",
     "text": [
      "<function refrao at 0x0000021BA5EE3A60> <class 'function'>\n",
      "Fica sempre um pouco de perfume\n",
      "nas mãos que oferecem rosas\n",
      "nas mãos que sabem ser generosas\n"
     ]
    }
   ],
   "source": [
    "print(refrao, type(refrao))\n",
    "refrao()"
   ]
  },
  {
   "cell_type": "markdown",
   "metadata": {},
   "source": [
    "### 1.7 Fluxo de Execução\n",
    "Para garantir que a função seja definida antes de sua primeiro chamada, é preciso saber a ordem em que cada declaração é executada -- fluxo de execução.  \n",
    "\n",
    "A execução sempre começa na primeira declaração do programa. Declarações são executadas uma por vez, na ordem de cima para baixo. Definições de função não alteram o fluxo da execução do programa, e lembre-se de que comandos dentro da função não são executados até que a função seja chamada. \n",
    "\n",
    "Uma chamada de função provoca um desvio no fluxo da execução. Em vez de ir para a próxima declaração, o fluxo de execução é desviado para o corpo da função, e depois de ter executado todos os comandos da função, o fluxo de execução volta para o ponto de onde havia sido desviado."
   ]
  },
  {
   "cell_type": "markdown",
   "metadata": {},
   "source": [
    "### 1.8 Parâmetros e Argumentos\n",
    "Algumas das funções internas já usadas necessitavam de argumentos. Por exemplo, a função `math.sin()` precisa de um número como argumento, o ângulo (em radianos). Algumas funções requerem mais de um argumento: `math.pow()` recebe dois argumentos, a base e o expoente.  \n",
    "\n",
    "Exemplo:"
   ]
  },
  {
   "cell_type": "code",
   "execution_count": 53,
   "metadata": {
    "scrolled": true
   },
   "outputs": [
    {
     "name": "stdout",
     "output_type": "stream",
     "text": [
      "5\n",
      "5\n",
      "Olá! \n",
      "Olá! \n"
     ]
    }
   ],
   "source": [
    "def mostra_duas_vezes(param):\n",
    "    print(param)\n",
    "    print(param)\n",
    "\n",
    "# Observe que a função funciona com qq. tipo de dado passado como argumento\n",
    "mostra_duas_vezes(5)\n",
    "mostra_duas_vezes('Olá! ')"
   ]
  },
  {
   "cell_type": "markdown",
   "metadata": {},
   "source": [
    "### 1.9 Funções e Subrotinas\n",
    "Alguns subprogramas, como as funções matemáticas, retornam resultados ao chamador da `função`; outros subprogramas, como `mostra_duas_vezes()`, executam uma ação mas não retornam um valor ao chamador. Elas são chamadas de `subrotinas` ou `funções vazias`.  \n",
    "\n",
    "Quando se chama um subprograma do tipo `função`, espera-se um valor de retorno; por exemplo, podemos atribuir o retorno da função a uma variável ou usá-lo como parte de uma expressão:"
   ]
  },
  {
   "cell_type": "code",
   "execution_count": 54,
   "metadata": {},
   "outputs": [
    {
     "name": "stdout",
     "output_type": "stream",
     "text": [
      "x=0.7648421872844885 y=1.618033988749895\n"
     ]
    }
   ],
   "source": [
    "x = math.cos(theta)\n",
    "y = (math.sqrt(5) + 1) / 2\n",
    "print(f'x={x} y={y}')"
   ]
  },
  {
   "cell_type": "markdown",
   "metadata": {},
   "source": [
    "Para retornar um resultado de uma função ao chamador, usa-se o comando **`return`** na função criada pelo usuário. Por exemplo, vamos criar uma função para calcular e retornar a soma de dois números."
   ]
  },
  {
   "cell_type": "code",
   "execution_count": 55,
   "metadata": {},
   "outputs": [
    {
     "name": "stdout",
     "output_type": "stream",
     "text": [
      "33 + 54 = 87\n"
     ]
    }
   ],
   "source": [
    "def soma(x, y):\n",
    "    return x + y\n",
    "\n",
    "print('33 + 54 =', soma(33, 54))"
   ]
  },
  {
   "cell_type": "markdown",
   "metadata": {},
   "source": [
    "Os parâmetros podem ter valores padrões, caso o usuário não queira especificar argumentos usuais nas chamadas às funções.  \n",
    "Exemplo:"
   ]
  },
  {
   "cell_type": "code",
   "execution_count": 57,
   "metadata": {},
   "outputs": [
    {
     "name": "stdout",
     "output_type": "stream",
     "text": [
      "João Silva\n",
      "Tobias Oliveira\n",
      "Maria Silva\n"
     ]
    }
   ],
   "source": [
    "def familia(nome, sobrenome = \"Silva\"):\n",
    "    print(f'{nome} {sobrenome}')\n",
    "\n",
    "familia(\"João\")\n",
    "familia(\"Tobias\",\"Oliveira\")\n",
    "familia(\"Maria\")\n"
   ]
  },
  {
   "cell_type": "markdown",
   "metadata": {
    "slideshow": {
     "slide_type": "slide"
    }
   },
   "source": [
    "### Exercício\n",
    "1. (Questão de concurso) Preencha as lacunas no código abaixo (L1 até L10), de forma a obter um programa que recebe uma string contendo exclusivamente palavras separadas por espaços em branco e determina a palavra mais frequente e sua frequência relativa de ocorrência de texto.\n",
    "Por exemplo, para \"figurinha no pacote de figurinha\" a saída do programa deve ser:\n",
    "palavra: figurinha - freq. rel.: 0.4\n",
    "\n",
    "``` python\n",
    "def separa (texto):\n",
    "    L = L1\n",
    "    p = ''\n",
    "    for c in texto:\n",
    "        if c == ' ':\n",
    "            L.append(p)\n",
    "            p = ''\n",
    "        else:\n",
    "            p += c\n",
    "    L2\n",
    "    return L\n",
    "\n",
    "def maxfreq (texto):\n",
    "    L = L3\n",
    "    pf = []\n",
    "    f = L4\n",
    "    for p in L:\n",
    "        L5\n",
    "            pf.append(p)\n",
    "            f.append(1)\n",
    "        L6\n",
    "            for i in range(len(pf)):\n",
    "                if p == pf[i]:\n",
    "                    L7\n",
    "    maxpf = ''\n",
    "    maxf = 0\n",
    "    for i in range(len(pf)):\n",
    "        if f[i] > maxf:\n",
    "            L8\n",
    "            L9\n",
    "    return L10\n",
    "\n",
    "def main ():\n",
    "    texto = input('Digite as palavras: ')\n",
    "    p, f = maxfreq(texto)\n",
    "    print ('palavra:', p, 'freq. rel.:', f)\n",
    "\n",
    "main()\n",
    "```\n",
    "\n",
    "Para cada um dos itens a seguir, correspondendo às lacunas no código acima, assinale a única resposta que torna o programa acima correto.\n",
    "\n",
    "L1: A. [texto] B. ′′ C. texto D. 0 E. []  \n",
    "L2: A. L+=1 B. L+=c C. L=[L,p] D. L=[L] E. L.append(p)  \n",
    "L3: A. [separa(texto)] B. texto[i] C. texto  D. separa(texto) E. []  \n",
    "L4: A. ′′  B. [] C. 0  D. [0]  E. L  \n",
    "L5: A. if p[i] == pf[i]:   B. while p in pf:  C. if p != f:  D. if p != pf:  E. if not p in pf:  \n",
    "L6: A. else:  B. if f == 0:  C. elif p not in pf:   D. if not f in pf:  E. if pf[i] == f[i]  \n",
    "L7: A. f[i] += 1  B. f.append(f[i]+1)  C. f[i] = 2   D. pf[i] = f[i]   E. pf.append(f)  \n",
    "L8: A. maxf = f[i]   B. maxf = 0   C. f[len(f)-1]   D. maxf = len(pf[i])  E. maxf = i  \n",
    "L9: A. maxpf = separa(pf[i])[1]  B. maxpf = str(maxf)  C. maxpf = pf[i]   D. maxpf = ′′\n",
    " E. maxpf = separa(texto)[i]  \n",
    "L10: A. maxf, len(L)   B. maxpf, maxf  C. pf, f  D. maxf/len(pf), maxpf  E. maxpf, maxf/len(L)  \n",
    "\n",
    "Gabarito: https://estudar.com.vc/conceitos/exercicios-de-prova-strings/exercicio-3-programa-com-strings-prova"
   ]
  },
  {
   "cell_type": "markdown",
   "metadata": {},
   "source": [
    "## <a id=\"arquivos\">2. Arquivos</a>\n",
    "\n",
    "A partir deste instante começamos a trabalhar com a **Memória Secundária** (ou arquivos) para conseguirmos persistir as informações processadas.  \n",
    "\n",
    "Vamos primeiramente ver a leitura e a escrita de arquivos de texto, como aqueles criados num editor de texto. \n",
    "\n",
    "### 2.1 Abrindo um Arquivo\n",
    "Quando queremos ler ou escrever um arquivo, primeiro temos que abrí-lo para que o sistema operacional providencie o acesso aos dados do arquivo armazenado no dispositivo de memória secundária. No exemplo seguinte, vamos abrir o arquivo chamado 'caixa.txt' com a opção de anexar novas informações textuais ao arquivo, ou seja, o modo de abertura será 'at', onde 'a' é para anexação de dados e 't' indica dados do tipo textual.\n",
    "\n",
    "A função open() e demais funções relacionadas fazem parte da <a href=\"#anexo\">biblioteca padrão do Python</a> (vem embutida na distribuição do Python, e é bem ampla, oferecendo uma variedade de recursos). \n",
    "\n",
    "Ajuda mostrada pelo comando: ` >>> help(open)`\n",
    "> **`open(file, mode='r', buffering=-1, encoding=None, errors=None, newline=None, closefd=True, opener=None)`**  \n",
    "   Abre o arquivo e retorna um descritor de fluxo (*stream*). Lança um OSError em caso de falha.  \n",
    "\n",
    "> **'file'** ou é um texto ou uma string de bytes que fornece o nome (e o caminho se o arquivo não estiver no diretório de trabalho atual) do arquivo a ser aberto ou um descritor de arquivo do tipo inteiro. (Se um descritor de arquivo é fornecido, ele é fechado quando o objeto de E/S retornado é fechado, a menos que **'closefd'** seja definido como *False*).  \n",
    "\n",
    "> **'mode'** é uma string opcional que especifica o modo em que o arquivo é aberto. O padrão é 'r', o que significa aberto para leitura em modo texto. Outros valores comuns são 'w' para escrita (truncar o arquivo se já existe), 'x' para criar e gravar em um novo arquivo, e 'a' para anexar (que em alguns sistemas Unix, significa que todas as gravações serão anexadas ao final do arquivo, independentemente da posição de busca atual). No modo de texto, se a codificação não for especificada, a codificação usada é dependente da plataforma: locale.getpreferredencoding (False) é chamado para obter a codificação local atual. (Para ler e escrever bytes brutos use o modo binário e não especifique a codificação). Os modos disponíveis são:\n",
    "\n",
    "|Caracter | Significado |\n",
    "| :-----: | :---------- |\n",
    "|    'r'  | aberto para leitura (padrão) |\n",
    "|    'w'  | abre para escrita, truncando o arquivo primeiro |\n",
    "|    'x'  | cria um novo arquivo e abre-o para escrita |\n",
    "|    'a'  | aberto para escrita, acrescentado ao final do arquivo, se existir |\n",
    "|    'b'  | modo binário |\n",
    "|    't'  | modo de texto (padrão) |\n",
    "|    '+'  | abre um arquivo em disco para atualização (leitura e gravação) |\n",
    ">    O modo padrão é 'rt' (aberto para leitura de texto). Para acesso binário aleatório, o modo 'w+b' abre e trunca o arquivo para 0 bytes, enquanto 'r+b' abre o arquivo sem truncamento. O modo 'x' implica 'w' e gera um `FileExistsError` se o arquivo já existe.\n",
    "\n",
    "\n"
   ]
  },
  {
   "cell_type": "code",
   "execution_count": 74,
   "metadata": {},
   "outputs": [
    {
     "name": "stdout",
     "output_type": "stream",
     "text": [
      "<_io.TextIOWrapper name='mbox.txt' mode='at' encoding='cp1252'>\n",
      "Nome do arquivo  :  mbox.txt\n",
      "Fechado          :  False\n",
      "Modo de abertura :  at\n"
     ]
    }
   ],
   "source": [
    "arq = open('mbox.txt','at')   # open retorna um handler (alça de manipulação do arquivo)\n",
    "print(arq)\n",
    "print(\"Nome do arquivo  : \", arq.name)\n",
    "print(\"Fechado          : \", arq.closed)\n",
    "print(\"Modo de abertura : \", arq.mode)"
   ]
  },
  {
   "cell_type": "markdown",
   "metadata": {},
   "source": [
    "### 2.2 Arquivos Textuais\n",
    "Um arquivo de texto pode ser pensado como uma sequência de linhas, assim como uma string em Python pode ser pensada como uma sequência de caracteres. Por exemplo, essa é uma amostra de um arquivo de texto que grava a atividade de *emails* de vários inivíduos em um projeto *open source* em desenvolvimento...\n",
    "\n",
    "> From stephen.marquard@uct.ac.za Sat Jan 5 09:14:16 2008\n",
    "Return-Path: <postmaster@collab.sakaiproject.org>\n",
    "Date: Sat, 5 Jan 2008 09:12:18 -0500\n",
    "To: source@collab.sakaiproject.org\n",
    "From: stephen.marquard@uct.ac.za\n",
    "Subject: [sakai] svn commit: r39772 - content/branches/\n",
    "Details: http://source.sakaiproject.org/viewsvn/?view=rev&rev=39772\n",
    "...\n",
    "\n",
    "Todo o arquivo de interações de email está disponível em www.py4e.com/code3/mbox.txt e uma versão reduzida do arquivo está disponível em www.py4e.com/code3/mbox-short.txt.   \n",
    "\n",
    "Eles estão em um formato padrão para um arquivo com várias mensagens de email. As linhas que começam com **\"From\"** separam as mensagens, e as linhas que começam com \"From:\" fazem parte delas. Para mais informações sobre o\n",
    "formato **mbox**, consulte https://en.wikipedia.org/wiki/Mbox.  \n",
    "\n",
    "Para quebrar o arquivo em linhas, tem um caracter especial que representa o \"fim da linha\", comumente chamado de *newLine*.  \n",
    "Em Python, representamos esse caracter pela constante string `'\\n'`. Mesmo que pareçam ser dois caracteres, é na verdade um só. Quando olhamos para a variável inserindo \"algo\" no interpretador, ele nos mostra o '\\n' na string, mas quando usamos `print()` para mostrá-la, vemos a string quebrada em duas linhas pelo uso do caracter *newline*. Este caractere divide o conteúdo do arquivo em linhas."
   ]
  },
  {
   "cell_type": "code",
   "execution_count": 65,
   "metadata": {},
   "outputs": [
    {
     "data": {
      "text/plain": [
       "'Olá\\nmundo!'"
      ]
     },
     "execution_count": 65,
     "metadata": {},
     "output_type": "execute_result"
    }
   ],
   "source": [
    "algo = 'Olá\\nmundo!'\n",
    "algo"
   ]
  },
  {
   "cell_type": "code",
   "execution_count": 66,
   "metadata": {},
   "outputs": [
    {
     "name": "stdout",
     "output_type": "stream",
     "text": [
      "Olá\n",
      "mundo!\n",
      "1\n",
      "2\n",
      "3\n"
     ]
    }
   ],
   "source": [
    "print(algo)\n",
    "algo = '1\\n2'\n",
    "print(algo)\n",
    "print(len(algo))"
   ]
  },
  {
   "cell_type": "markdown",
   "metadata": {},
   "source": [
    "### 2.3 Lendo de Arquivos\n",
    "Depois de aberto o arquivo com a função `open()`, temos uma alça para manipular o conteúdo do arquivo em questão. Para ler o conteúdo do arquivo, podemos fazê-lo por caracter (um tanto quanto demorado) ou por linha (mais ágil). O exemplo seguinte mostra a leitura por linha:"
   ]
  },
  {
   "cell_type": "code",
   "execution_count": 69,
   "metadata": {},
   "outputs": [
    {
     "name": "stdout",
     "output_type": "stream",
     "text": [
      "Qtde de linhas no arquivo de emails: 1910\n"
     ]
    }
   ],
   "source": [
    "# ajuste o caminho do arquivo baixado, na variável 'caminho'\n",
    "caminho = 'dat/'\n",
    "arq = open(caminho+'mbox-short.txt')     # open() retorna uma alça (handler) para manipulação de dados do/pro arquivo\n",
    "linhas = 0\n",
    "for linha in arq:                        # a iteração de linhas provoca a leitura dos dados no arquivo\n",
    "    linhas += 1\n",
    "print('Qtde de linhas no arquivo de emails:', linhas)\n",
    "arq.close()"
   ]
  },
  {
   "cell_type": "markdown",
   "metadata": {},
   "source": [
    "O método **`close()`** de um objeto arquivo libera todas as informações não gravadas e fecha o objeto arquivo, após o que nenhuma outra gravação pode ser feita.  \n",
    "\n",
    "O fechamento dos arquivos pode se dar de forma automática se usarmos `try/finallly`:\n",
    "1. ``` python\n",
    "arq = open('entrada.txt')\n",
    "try:\n",
    "     # processamento do arquivo \n",
    "finally:\n",
    "     arq.close()\n",
    "```\n",
    "2. ``` python\n",
    "with open('entrada.txt') as arq:\n",
    "    # processamento do arquivo\n",
    "```\n",
    "\n",
    "A instrução `with` cuida automaticamente do fechamento do arquivo quando o bloco `with` é encerrado, e mesmo em casos de erro. Recomenda-se o uso da declaração `with`, tanto quanto possível, pois ela permite um código mais limpo e facilita a manipulação de erros inesperados.\n",
    "\n",
    "Para mais detalhes sobre manipulação de arquivos, visite https://www.codigofluente.com.br/aula-20-python-biblioteca-padrao-modulo-io/."
   ]
  },
  {
   "cell_type": "markdown",
   "metadata": {},
   "source": [
    "Se o tamanho do arquivo é relativamente pequeno comparado ao da memória principal, então podemos ler o arquivo todo em uma string usando o método `read()` do identificador de arquivo, como mostra o exemplo seguinte:"
   ]
  },
  {
   "cell_type": "code",
   "execution_count": 79,
   "metadata": {},
   "outputs": [
    {
     "name": "stdout",
     "output_type": "stream",
     "text": [
      "Qtde de caracteres: 94626\n",
      "From stephen.marquard@uct.ac.za Sat Jan  5 09:14:1\n"
     ]
    }
   ],
   "source": [
    "arq = open(caminho+'mbox-short.txt')\n",
    "conteudo = arq.read()                       # armazena todos os caracteres do arquivo na var. 'conteudo'\n",
    "print('Qtde de caracteres:', len(conteudo))\n",
    "print(conteudo[:50])\n",
    "if arq.closed == False:\n",
    "    arq.close()"
   ]
  },
  {
   "cell_type": "markdown",
   "metadata": {},
   "source": [
    "Quando o arquivo é lido dessa forma, todos os caracteres, incluindo os caracteres de novas linhas (*newline*) formam uma grande string armazenada na variável `conteudo`. É uma boa ideia armazenar a saída de `read()` numa variável porque cada chamada de `read()` faz uso do recurso computacional."
   ]
  },
  {
   "cell_type": "markdown",
   "metadata": {},
   "source": [
    "### 2.4 Busca em um Arquivo\n",
    "Quando se está procurando por dados em um arquivo, é muito comum percorrer o arquivo, ignorando a maioria das linhas e apenas processando as que combinam com uma condição particular. Podemos ajuntar a leitura do arquivo com os métodos de strings para construir um mecanismo de busca.  \n",
    "\n",
    "Por exemplo, se quisermos ler um arquivo e mostrar apenas as linhas que começam com o prefixo \"From:\", podemos usar o método `startswith()` para selecionar apenas as linhas que possuem o prefixo desejado. Usamos também o método `rstrip()` para eliminar os espaços em branco à esquerda ou direita da string:"
   ]
  },
  {
   "cell_type": "code",
   "execution_count": null,
   "metadata": {},
   "outputs": [],
   "source": [
    "arq = open(caminho+'mbox-short.txt')\n",
    "for linha in arq:\n",
    "    if linha.startswith('From:'):\n",
    "        print(linha.rstrip())"
   ]
  },
  {
   "cell_type": "markdown",
   "metadata": {},
   "source": [
    "Vamos usar o método `find()` de strings para procurar por uma ocorrência de uma string dentro de outra e retornar a posição dela ou -1 se não for encontrada. Em particular, vamos mostrar somente as linhas que contém a string “@uct.ac.za” (isto é, emails oriundos da Universidade de Cape Town, na África do Sul):"
   ]
  },
  {
   "cell_type": "code",
   "execution_count": 84,
   "metadata": {
    "scrolled": true
   },
   "outputs": [
    {
     "name": "stdout",
     "output_type": "stream",
     "text": [
      "From: stephen.marquard@uct.ac.za\n",
      "From: david.horwitz@uct.ac.za\n",
      "From: david.horwitz@uct.ac.za\n",
      "From: david.horwitz@uct.ac.za\n",
      "From: david.horwitz@uct.ac.za\n",
      "From: stephen.marquard@uct.ac.za\n"
     ]
    }
   ],
   "source": [
    "arq = open(caminho+'mbox-short.txt')\n",
    "for linha in arq:\n",
    "    if linha.startswith('From:'):\n",
    "        if linha.find('@uct.ac.za') == -1: continue\n",
    "        print(linha.rstrip())"
   ]
  },
  {
   "cell_type": "markdown",
   "metadata": {},
   "source": [
    "No script anterior usamos a forma contraída da sentença `if` quando colocamos o `continue` na mesma linha do `if`. Essa forma funciona do mesmo jeito que se o `continue` estivesse na próxima linha e indentado."
   ]
  },
  {
   "cell_type": "markdown",
   "metadata": {},
   "source": [
    "### 2.5 Usuário Escolhe o Arquivo\n",
    "Para não ter quer editar o código Python toda vez que quisermos processar um arquivo diferente, podemos solicitar ao usuário a entrada do nome do arquivo a ser processado, cada vez que o programa for executado."
   ]
  },
  {
   "cell_type": "code",
   "execution_count": 87,
   "metadata": {},
   "outputs": [
    {
     "name": "stdout",
     "output_type": "stream",
     "text": [
      "Entre nome do arquivo (sem a extensão): mbox-short\n",
      "Tem 27 linhas com 'subject' em mbox-short.txt\n"
     ]
    }
   ],
   "source": [
    "nomearq = input('Entre nome do arquivo (sem a extensão): ')\n",
    "arq = open(caminho+nomearq+'.txt')\n",
    "contagem = 0\n",
    "for linha in arq:\n",
    "    if linha.startswith('Subject:'):\n",
    "        contagem += 1\n",
    "print(f\"Tem {contagem} linhas com 'Subject' em {nomearq}.txt\")"
   ]
  },
  {
   "cell_type": "markdown",
   "metadata": {},
   "source": [
    "### 2.6 Cuidando dos Erros Previsíveis\n",
    " O que ocorre se o usuário não digitar um nome válido de arquivo no script anterior?"
   ]
  },
  {
   "cell_type": "code",
   "execution_count": 88,
   "metadata": {
    "scrolled": true
   },
   "outputs": [
    {
     "name": "stdout",
     "output_type": "stream",
     "text": [
      "Entre nome do arquivo (sem a extensão): kdjfls\n"
     ]
    },
    {
     "ename": "FileNotFoundError",
     "evalue": "[Errno 2] No such file or directory: 'dat/kdjfls.txt'",
     "output_type": "error",
     "traceback": [
      "\u001b[1;31m---------------------------------------------------------------------------\u001b[0m",
      "\u001b[1;31mFileNotFoundError\u001b[0m                         Traceback (most recent call last)",
      "\u001b[1;32m<ipython-input-88-71a190077860>\u001b[0m in \u001b[0;36m<module>\u001b[1;34m\u001b[0m\n\u001b[0;32m      1\u001b[0m \u001b[0mnomearq\u001b[0m \u001b[1;33m=\u001b[0m \u001b[0minput\u001b[0m\u001b[1;33m(\u001b[0m\u001b[1;34m'Entre nome do arquivo (sem a extensão): '\u001b[0m\u001b[1;33m)\u001b[0m\u001b[1;33m\u001b[0m\u001b[1;33m\u001b[0m\u001b[0m\n\u001b[1;32m----> 2\u001b[1;33m \u001b[0marq\u001b[0m \u001b[1;33m=\u001b[0m \u001b[0mopen\u001b[0m\u001b[1;33m(\u001b[0m\u001b[0mcaminho\u001b[0m\u001b[1;33m+\u001b[0m\u001b[0mnomearq\u001b[0m\u001b[1;33m+\u001b[0m\u001b[1;34m'.txt'\u001b[0m\u001b[1;33m)\u001b[0m\u001b[1;33m\u001b[0m\u001b[1;33m\u001b[0m\u001b[0m\n\u001b[0m\u001b[0;32m      3\u001b[0m \u001b[0mcontagem\u001b[0m \u001b[1;33m=\u001b[0m \u001b[1;36m0\u001b[0m\u001b[1;33m\u001b[0m\u001b[1;33m\u001b[0m\u001b[0m\n\u001b[0;32m      4\u001b[0m \u001b[1;32mfor\u001b[0m \u001b[0mlinha\u001b[0m \u001b[1;32min\u001b[0m \u001b[0marq\u001b[0m\u001b[1;33m:\u001b[0m\u001b[1;33m\u001b[0m\u001b[1;33m\u001b[0m\u001b[0m\n\u001b[0;32m      5\u001b[0m     \u001b[1;32mif\u001b[0m \u001b[0mlinha\u001b[0m\u001b[1;33m.\u001b[0m\u001b[0mstartswith\u001b[0m\u001b[1;33m(\u001b[0m\u001b[1;34m'Subject:'\u001b[0m\u001b[1;33m)\u001b[0m\u001b[1;33m:\u001b[0m\u001b[1;33m\u001b[0m\u001b[1;33m\u001b[0m\u001b[0m\n",
      "\u001b[1;31mFileNotFoundError\u001b[0m: [Errno 2] No such file or directory: 'dat/kdjfls.txt'"
     ]
    }
   ],
   "source": [
    "nomearq = input('Entre nome do arquivo (sem a extensão): ')\n",
    "arq = open(caminho+nomearq+'.txt')\n",
    "contagem = 0\n",
    "for linha in arq:\n",
    "    if linha.startswith('Subject:'):\n",
    "        contagem += 1\n",
    "print(f\"Tem {contagem} linhas com 'Subject' em {nomearq}.txt\")"
   ]
  },
  {
   "cell_type": "markdown",
   "metadata": {},
   "source": [
    "Então, agora que vimos uma possível falha no programa, podemos corrigi-la usando a estrutura\n",
    "`try/except`:"
   ]
  },
  {
   "cell_type": "code",
   "execution_count": 3,
   "metadata": {
    "scrolled": true
   },
   "outputs": [
    {
     "name": "stdout",
     "output_type": "stream",
     "text": [
      "Entre nome do arquivo (sem a extensão): fsdfs\n",
      "Erro: Arquivo [fsdfs.txt] não pode ser aberto!\n"
     ]
    }
   ],
   "source": [
    "nomearq = input('Entre nome do arquivo (sem a extensão): ')\n",
    "try:\n",
    "    arq = open(caminho+nomearq+'.txt')\n",
    "except:\n",
    "    print(f'Erro: Arquivo [{nomearq}.txt] não pode ser aberto!')\n",
    "else:\n",
    "    contagem = 0\n",
    "    for linha in arq:\n",
    "        if linha.startswith('Subject:'):\n",
    "            contagem += 1\n",
    "    print(f\"Tem {contagem} linhas com 'Subject' em {nomearq}.txt\")"
   ]
  },
  {
   "cell_type": "markdown",
   "metadata": {},
   "source": [
    "### 2.7 Gravando em Arquivos\n",
    "Para gravar dados em um arquivo é preciso abri-lo no modo de escrita, usando o parâmetro `mode = 'w'`:"
   ]
  },
  {
   "cell_type": "code",
   "execution_count": 9,
   "metadata": {
    "scrolled": true
   },
   "outputs": [
    {
     "name": "stdout",
     "output_type": "stream",
     "text": [
      "<_io.TextIOWrapper name='dat/saida.txt' mode='w' encoding='cp1252'>\n"
     ]
    }
   ],
   "source": [
    "arq = open(caminho+'saida.txt', 'w')\n",
    "print(arq)"
   ]
  },
  {
   "cell_type": "markdown",
   "metadata": {},
   "source": [
    "Se o arquivo já existir, abri-lo no modo de gravação provocará o apagamento dos dados antigos e\n",
    "inicia a gravação a partir do zero, por isso tome cuidado! Se o arquivo não existir, um novo será\n",
    "criado.  \n",
    "O método `write()` do objeto arquivo escreve dados no arquivo, retornando o número de caracteres gravados. O modo de gravação padrão é **texto** para escrever e ler strings."
   ]
  },
  {
   "cell_type": "code",
   "execution_count": 10,
   "metadata": {
    "scrolled": true
   },
   "outputs": [
    {
     "data": {
      "text/plain": [
       "81"
      ]
     },
     "execution_count": 10,
     "metadata": {},
     "output_type": "execute_result"
    }
   ],
   "source": [
    "linha1 = \"Bem-aventurados os pobres de espírito, porque deles é o Reino dos céus. (Mt.5:3)\\n\"\n",
    "arq.write(linha1)"
   ]
  },
  {
   "cell_type": "markdown",
   "metadata": {},
   "source": [
    "O arquivo mantém o controle de onde está o ponteiro de inserção de dados, logo, ao chamar `write()` novamente, ele adicionará os novos dados ao final. Devemos nos certificar de gerenciar as extremidades das linhas à medida que escrevemos no arquivo inserindo explicitamente o caracter *newline* quando terminar uma linha. A instrução `print()` anexa automaticamente uma nova linha, mas o método `write()` não adiciona a nova linha automaticamente."
   ]
  },
  {
   "cell_type": "code",
   "execution_count": 11,
   "metadata": {},
   "outputs": [],
   "source": [
    "linha2 = \"Convém que vivamos de forma mais simples...\\n\"\n",
    "arq.write(linha2)\n",
    "arq.close()"
   ]
  },
  {
   "cell_type": "code",
   "execution_count": 12,
   "metadata": {},
   "outputs": [
    {
     "name": "stdout",
     "output_type": "stream",
     "text": [
      "Bem-aventurados os pobres de espírito, porque deles é o Reino dos céus. (Mt.5:3)\n",
      "Convém que vivamos de forma mais simples...\n",
      "\n"
     ]
    }
   ],
   "source": [
    "# Visualizando o conteúdo do arquivo gravado\n",
    "arq = open(caminho+'saida.txt')\n",
    "print(arq.read())\n",
    "arq.close()"
   ]
  },
  {
   "cell_type": "markdown",
   "metadata": {},
   "source": [
    "#### Exercícios\n",
    "1. Escreva um programa que leia um arquivo e mostre o conteúdo (linha a linha), completamente em caixa alta (em letras maiúsculas). <br><br>\n",
    "2. Escreva um programa que solicite o nome de um arquivo, e depois o leia e procure por linhas da forma: 'X-DSPAM-Confidence: 0.8475'. Quando encontrar uma linha que inicie com \"X-DSPAM-Confidence:\", separe o número de ponto flutuante que aparece no final da linha. Conte essas linhas e então compute o total de valores de Confiança de Spam. Quando chegar no fim do arquivo, mostre a média de Confiança de Spam. Teste seu programa com os arquivos mbox.txt e mbox-short.txt\n",
    "> Digite o nome de um arquivo: mbox.txt  \n",
    "> Média de confiança de spam: 0.894128046745  <br><br>\n",
    "> Digite o nome de um arquivo: mbox-short.txt  \n",
    "> Média de confiança de spam: 0.750718518519   \n"
   ]
  },
  {
   "cell_type": "markdown",
   "metadata": {
    "slideshow": {
     "slide_type": "slide"
    }
   },
   "source": [
    "## Fim.\n",
    "<p style=\"text-align:right;\"><a href='../Índice.ipynb' target=\"_self\">Volta ao Índice</a></p>"
   ]
  },
  {
   "cell_type": "markdown",
   "metadata": {},
   "source": [
    "## Anexo - Biblioteca Padrão do Python\n",
    "<a id=\"anexo\"></a>Alguns dos módulos mais importantes dessa biblioteca:\n",
    "\n",
    "* Matemática: `math, cmath, decimal e random`.\n",
    "\n",
    "* regex: `re`- módulo de expressões regulares com funções muito poderosas para manipulação de texto.\n",
    "\n",
    "* Sistema Operacional: `os, io, sys, glob, logging, shutils e subprocess`.\n",
    "\n",
    "* Threads (linhas de processamento): `threading`.\n",
    "\n",
    "* Persistência de dados: `pickle e cPickle`.\n",
    "\n",
    "* XML: `xml.dom, xml.sax e elementTree`.\n",
    "\n",
    "* Configuração: `ConfigParser e optparse`.\n",
    "\n",
    "* Tempo: `time e datetime`.\n",
    "\n",
    "* Outros: `traceback, types, json e timeit`.\n",
    "\n",
    "Fonte: https://www.codigofluente.com.br/aula-19-python-biblioteca-padrao-modulo-math/"
   ]
  }
 ],
 "metadata": {
  "kernelspec": {
   "display_name": "Python 3",
   "language": "python",
   "name": "python3"
  },
  "language_info": {
   "codemirror_mode": {
    "name": "ipython",
    "version": 3
   },
   "file_extension": ".py",
   "mimetype": "text/x-python",
   "name": "python",
   "nbconvert_exporter": "python",
   "pygments_lexer": "ipython3",
   "version": "3.8.3"
  }
 },
 "nbformat": 4,
 "nbformat_minor": 4
}
