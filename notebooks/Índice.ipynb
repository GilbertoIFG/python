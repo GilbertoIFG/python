{
 "cells": [
  {
   "cell_type": "markdown",
   "metadata": {
    "slideshow": {
     "slide_type": "slide"
    }
   },
   "source": [
    "# Introdução à Linguagem Python\n",
    "Cláudio Fleury - Out/2021\n",
    "\n",
    "## Índice\n",
    "\n",
    "   1. [Python - Hello World](0_Intr/Python_Hello_World.ipynb)\n",
    "   2. [Introdução](1_Basic/slides1_Elementos.ipynb) - Elementos básicos: [Variáveis, Expressões e E/S de dados](1_Basic/slides2_Variaveis.ipynb).\n",
    "   3. Execução [Condicional e Erros](1_Basic/slides3_Condicional_Erros.ipynb).\n",
    "   4. Execução [Repetida (Iteração) e Strings](1_Basic/slides4_Repeticao_Strings.ipynb). \n",
    "   5. [Funções e Arquivos](1_Basic/slides5_Funcoes_Arquivos.ipynb).\n",
    "   5. Estruturas de Dados Nativas: Listas, Dicionários e Tuplas.\n",
    "   6. Expressões Regulares.\n",
    "   7. Pacotes Científicos: Numpy, Scipy e Matplotlib."
   ]
  }
 ],
 "metadata": {
  "kernelspec": {
   "display_name": "Python 3",
   "language": "python",
   "name": "python3"
  },
  "language_info": {
   "codemirror_mode": {
    "name": "ipython",
    "version": 3
   },
   "file_extension": ".py",
   "mimetype": "text/x-python",
   "name": "python",
   "nbconvert_exporter": "python",
   "pygments_lexer": "ipython3",
   "version": "3.8.3"
  }
 },
 "nbformat": 4,
 "nbformat_minor": 4
}
