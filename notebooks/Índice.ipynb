{
 "cells": [
  {
   "cell_type": "markdown",
   "metadata": {
    "slideshow": {
     "slide_type": "slide"
    }
   },
   "source": [
    "# Introdução à Linguagem Python\n",
    "Cláudio Fleury - Out/2021\n",
    "\n",
    "## Índice\n",
    "\n",
    "   1. [Python - Hello World](0_Intr/Python_Hello_World.ipynb)\n",
    "   1. [Introdução](1_Basic/slides1_Elementos.ipynb) - Elementos básicos: [Variáveis, Expressões e E/S de dados](1_Basic/slides2_Variaveis.ipynb).\n",
    "   1. Execução [Condicional e Erros](1_Basic/slides3_Condicional_Erros.ipynb).\n",
    "   1. Execução [Repetida (Iteração) e Strings](1_Basic/slides4_Repeticao_Strings.ipynb). \n",
    "   1. [Funções e Arquivos](1_Basic/slides5_Funcoes_Arquivos.ipynb).\n",
    "   1. [Estruturas de Dados Nativas: Listas, Dicionários e Tuplas](1_Basic/slides6_Estruturas_de_Dados_Nativas.ipynb).\n",
    "   1. [Expressões Regulares](1_Basic/slides7_Expressoes_Regulares.ipynb).\n",
    "   1. Pacotes Científicos: Numpy, Scipy e Matplotlib.\n",
    "   1. [Depuração de Scripts](1_Basic/slides9_Depuracao.ipynb).\n",
    "   1. [Programação Orientada a Objetos](1_Basic/slidesA_Poo_em_Python.ipynb)."
   ]
  }
 ],
 "metadata": {
  "kernelspec": {
   "display_name": "Python 3 (ipykernel)",
   "language": "python",
   "name": "python3"
  },
  "language_info": {
   "codemirror_mode": {
    "name": "ipython",
    "version": 3
   },
   "file_extension": ".py",
   "mimetype": "text/x-python",
   "name": "python",
   "nbconvert_exporter": "python",
   "pygments_lexer": "ipython3",
   "version": "3.9.6"
  }
 },
 "nbformat": 4,
 "nbformat_minor": 4
}
