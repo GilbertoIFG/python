{
 "cells": [
  {
   "cell_type": "markdown",
   "metadata": {
    "slideshow": {
     "slide_type": "slide"
    },
    "tags": [
     "0."
    ]
   },
   "source": [
    "# Introdução ao Python\n",
    "Prof. Cláudio A. Fleury, Vs. 1.2, Jun/2019.\n",
    "\n",
    "[0 - Introdução](http:/notebooks/0_Intr/Introducao_ao_Python.ipynb)  \n",
    "\n",
    "[1 - Básico](http:/notebooks/1_Basic/Topicos_Basicos.ipynb)  \n",
    "\n",
    "2 - Pacotes Científicos: \n",
    "\n",
    "> [2.1 - Numpy](http:/notebooks/2_Packages/numpy.ipynb)  \n",
    "> [2.2 - Matplotlib](http:/notebooks/2_Packages/matplotlib.ipynb)  \n",
    "> [2.3 - Scipy](http:/notebooks/2_Packages/scipy.ipynb)  "
   ]
  },
  {
   "cell_type": "code",
   "execution_count": null,
   "metadata": {},
   "outputs": [],
   "source": []
  }
 ],
 "metadata": {
  "kernelspec": {
   "display_name": "Python 3",
   "language": "python",
   "name": "python3"
  },
  "language_info": {
   "codemirror_mode": {
    "name": "ipython",
    "version": 3
   },
   "file_extension": ".py",
   "mimetype": "text/x-python",
   "name": "python",
   "nbconvert_exporter": "python",
   "pygments_lexer": "ipython3",
   "version": "3.7.2"
  }
 },
 "nbformat": 4,
 "nbformat_minor": 2
}
