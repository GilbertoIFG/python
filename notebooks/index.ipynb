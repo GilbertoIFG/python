{
 "cells": [
  {
   "cell_type": "markdown",
   "metadata": {
    "slideshow": {
     "slide_type": "slide"
    },
    "tags": [
     "0."
    ]
   },
   "source": [
    "# Introdução ao Python\n",
    "<img src='abertura.jpg' alt='Imagem de um vale.' style='float:right'>\n",
    "\n",
    "Copyright 2019: Prof. **Cláudio A. Fleury**, Vs. 1.2, Jun/2019.\n",
    "\n",
    "## Jupyter Notebooks:\n",
    "\n",
    "### [0 - Introdução](http:/notebooks/0_Intr/Introducao_ao_Python.ipynb)  \n",
    "\n",
    "### [1 - Tópicos Básicos](http:/notebooks/1_Basic/Topicos_Basicos.ipynb)  \n",
    "\n",
    "### 2 - Pacotes Científicos: \n",
    "\n",
    "#### &nbsp;&nbsp;&nbsp; 2.1 - Numpy [](http:/notebooks/2_Packages/numpy.ipynb)  \n",
    "#### &nbsp;&nbsp;&nbsp; [2.2 - Matplotlib](http:/notebooks/2_Packages/matplotlib.ipynb)  \n",
    "#### &nbsp;&nbsp;&nbsp; [2.3 - Scipy](http:/notebooks/2_Packages/scipy.ipynb)  \n",
    "#### &nbsp;&nbsp;&nbsp; [2.3 - Pandas](http:/notebooks/2_Packages/pandas.ipynb)  "
   ]
  },
  {
   "cell_type": "markdown",
   "metadata": {},
   "source": [
    "## Licença \n",
    "**Licença BSD**, Copyright (c) 2019.  \n",
    "Todos os direitos reservados a Prof. Cláudio A. Fleury (Goiânia, GO, Brazil).  \n",
    "\n",
    "Cláusula 3: Redistribuição e uso nas formas fonte e binária, com ou sem modificação, são permitidas desde que as seguintes condições sejam atendidas:\n",
    "* Redistribuições do código-fonte devem manter o aviso de **Copyright** acima, esta lista de condições e a seguinte renúncia.  \n",
    "* As redistribuições em formato binário devem reproduzir o aviso de **Copyright** acima, esta lista de condições e a seguinte exclusão de responsabilidade na documentação e/ou outros materiais fornecidos com a distribuição.  \n",
    "* Nem o nome do detentor dos direitos autorais nem os nomes de seus colaboradores (se existirem) podem ser utilizados para apoiar ou promover produtos derivados deste software sem permissão prévia específica por escrito. \n",
    "\n",
    "ESTE SOFTWARE É FORNECIDO PELOS DETENTORES DE DIREITOS AUTORAIS E COLABORADORES \"COMO ESTÁ\" E QUAISQUER GARANTIAS EXPRESSAS OU IMPLÍCITAS, INCLUINDO, MAS NÃO SE LIMITANDO ÀS GARANTIAS IMPLÍCITAS DE COMERCIALIZAÇÃO E ADEQUAÇÃO A UM DETERMINADO FIM RENUNCIADA EM NENHUM CASO, O TITULAR DOS DIREITOS DE AUTOR OU OS COLABORADORES SERÃO RESPONSÁVEIS POR QUAISQUER DANOS DIRETO, INDIRETO, INCIDENTAL, ESPECIAL, EXEMPLAR OU CONSEQÜENCIAL (INCLUINDO, MAS NÃO SE LIMITANDO A, AQUISIÇÃO DE BENS SUBSTITUTOS OU SERVIÇOS; PERDA DE USO, DADOS OU LUCROS; OU INTERRUPÇÃO DE NEGÓCIOS), NO ENTANTO CAUSADO E EM QUALQUER TEORIA DE RESPONSABILIDADE, SEJA EM CONTRATO, RESPONSABILIDADE ESTRITA, OU DELITO (INCLUINDO NEGLIGÊNCIA OU DE OUTRA FORMA) DECORRENTE DE QUALQUER MANEIRA FORA DO USO DESTE SOFTWARE, MESMO QUE AVISADO DA POSSIBILIDADE DE TAIS DANOS."
   ]
  }
 ],
 "metadata": {
  "kernelspec": {
   "display_name": "Python 3",
   "language": "python",
   "name": "python3"
  },
  "language_info": {
   "codemirror_mode": {
    "name": "ipython",
    "version": 3
   },
   "file_extension": ".py",
   "mimetype": "text/x-python",
   "name": "python",
   "nbconvert_exporter": "python",
   "pygments_lexer": "ipython3",
   "version": "3.7.2"
  }
 },
 "nbformat": 4,
 "nbformat_minor": 2
}
