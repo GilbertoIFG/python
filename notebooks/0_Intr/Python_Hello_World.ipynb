{
 "cells": [
  {
   "cell_type": "markdown",
   "metadata": {
    "slideshow": {
     "slide_type": "slide"
    }
   },
   "source": [
    "# Python - Hello World \n",
    "O objetivo deste caderno (*Jupyter Notebook*) é apresentar uma rápida introdução à linguagem de programação Python.   \n",
    "Pressupõe-se que o interpretador Python (qualquer distribuição) já tenha sido instalado na pasta `D:\\python`. \n",
    "\n",
    "## Introdução \n",
    "O Python é uma linguagem muito fácil de usar, e é por isso que os desenvolvedores de programas a usam nas provas rápidas de conceito (por exemplo, criando um servidor simples ou abrindo um soquete para se comunicar com um ESP8266).  \n",
    "  \n",
    "Uma grande vantagem do Python (na realiade, da linguagem Python -- o substantivo masculino ficou consagrado em Português, talvez fazendo referência ao interpretador Python) é que existem muitos **módulos** (denominação das bibliotecas em Python) que nos oferecem funcionalidades. \n",
    "\n",
    "Para instalar o Python, acesse o site [python.org](https://www.python.org/downloads/), baixar o instalador e executá-lo (supondo que você esteja usando o Windows, se estiver no Linux, você também pode instalar o Python facilmente a partir da linha de comando, embora a maioria das distribuições Linux já tenha o Python instalado). As diferenças entre as versões 2 e 3 da Linguagem Python são explicadas [aqui](https://wiki.python.org/moin/Python2orPython3).  \n",
    "  \n",
    "Você também pode executar códigos Python online no site [tutorialspoint](https://www.tutorialspoint.com/execute_python_online.php) ou no site [repl.it](https://repl.it) (nesse é necessário criar uma conta gratuita) para testar a linguagem antes de fazer a instalação no seu sistema.  "
   ]
  },
  {
   "cell_type": "markdown",
   "metadata": {
    "slideshow": {
     "slide_type": "slide"
    }
   },
   "source": [
    "## Python Padrão\n",
    "É ativado e executado em linha de comandos (terminal) pelo comando:\n",
    "\n",
    "```bash\n",
    "D:\\python> python\n",
    "```\n",
    "Você deverá ver uma janela semelhante à mostrada a seguir.  \n",
    "\n",
    "<!--- Usando a tag figcaption do HTML --->\n",
    "<figure>\n",
    "    <img src='img/pythonpadrao.png' alt='janela de comandos do S.O. (terminal) para carga do interpretador Python padrão' style=\"width:70%\">  \n",
    "    <figcaption class=\"figure-caption text-center\"><b>Figura 1</b> - Shell do ambiente Python padrão.</figcaption>  \n",
    "    <!--- atributos de alinhamento na figcaption: text-start, text-center, text-end ---> \n",
    "</figure>"
   ]
  },
  {
   "cell_type": "markdown",
   "metadata": {
    "slideshow": {
     "slide_type": "slide"
    }
   },
   "source": [
    "## IDE do Python  \n",
    "\n",
    "O Python vem com um ambiente de desenvolvimento integrado (IDE) simples chamado **IDLE**. Depois de instalar o interpretador Python padrão ([*donwload*](https://www.python.org/ftp/python/3.9.7/python-3.9.7-amd64.exe)), execute-o:\n",
    "\n",
    "```bash\n",
    "c:\\python> idle\n",
    "```\n",
    "\n",
    "Você deverá ver uma janela semelhante à mostrada na Figura 2.  \n",
    "\n",
    "<table>\n",
    "    <tr>\n",
    "        <td style='text-align:center;'>\n",
    "            <img src=\"img/idle_ide.png\" alt=\"IDE do IDLE Python\"\n",
    "                 style='zoom:100%;'><b>Figura 2</b> - Shell do ambiente Python IDLE.<img>\n",
    "        </td>\n",
    "    </tr>\n",
    "</table> "
   ]
  },
  {
   "cell_type": "markdown",
   "metadata": {
    "slideshow": {
     "slide_type": "slide"
    }
   },
   "source": [
    "## Hello World \n",
    "\n",
    "Como mencionado anteriormente, **Python** é uma linguagem de programação muito fácil de se usar. Portanto, para exibir a famosa frase \"Hello World\", basta digitar o seguinte no prompt (`>>>`) do shell do IDLE, e pressionar [Enter]: \n",
    "\n",
    "`print (\"Hello World\")`  \n",
    "\n",
    "A string entre aspas será impressa na linha seguinte ao comando no IDLE, como mostrado na Figura 3. \n",
    "\n",
    "<!-- Usando a tag p do HTML -->\n",
    "<p align = \"center\"><img src=\"img\\python_hello_world.png\" alt=\"IDE do IDLE Python\"></p>\n",
    "<p style = \"text-align:center\"><b>Figura 3</b> - <i>Hello World</i> em Python. </p>\n",
    "\n",
    "Isso é muito simples se comparado, por exemplo, à linguagem Java, na qual você precisaria escrever algo como:  \n",
    "``` java \n",
    "System.out.println(\"Hello World\"); ```\n",
    "\n",
    "Ou à linguagem C, na qual você teria que escrever algo como:  \n",
    "\n",
    "``` c\n",
    "printf(\"Hello World\\n\"); \n",
    "```"
   ]
  },
  {
   "cell_type": "code",
   "execution_count": 1,
   "metadata": {
    "slideshow": {
     "slide_type": "subslide"
    }
   },
   "outputs": [
    {
     "name": "stdout",
     "output_type": "stream",
     "text": [
      "Oi pessoal! Alguma dúvida?\n"
     ]
    }
   ],
   "source": [
    "print (\"Oi pessoal! Alguma dúvida?\")"
   ]
  },
  {
   "cell_type": "markdown",
   "metadata": {
    "slideshow": {
     "slide_type": "slide"
    }
   },
   "source": [
    "## Scripts  \n",
    "\n",
    "Para programas maiores e mais complexos, é mais fácil escrever todo o código em um arquivo (ou vários arquivos) e executá-lo de uma só vez, ao invés de escrever os comandos um por um na linha de comando do shell do IDLE.  \n",
    "\n",
    "Para fazer isso no IDLE, basta acessar **File -> New File**, como mostra a figura 3.  \n",
    "\n",
    "<!-- Usando tabela Markdown -->\n",
    "| ![Scripts no IDLE Python](img\\python_script.png) |\n",
    "|:--:|\n",
    "| <b>Figura 3</b> - Abrir um novo arquivo de <i>script</i>|\n",
    "\n",
    "Na nova janela, basta escrever o código Python e clicar em **Run -> Run Module**, como mostra a Figura 4.  \n",
    "\n",
    "<style>\n",
    "p {\n",
    "  color:navy;\n",
    "  text-indent:30px;\n",
    "  text-align:center;\n",
    "  text-transform:uppercase;\n",
    "}\n",
    "</style>\n",
    "\n",
    "<p><img src=\"img\\python_run_script.png\" alt=\"Executando um script (conjunto de comandos) no IDLE\"></p>  \n",
    "<p><b>Figura 4</b> - Executando um <i>script</i>.</p>  \n",
    "\n",
    "Para o código `print(\"Hello World\")`, a frase \"*Hello World*\" deve ser impressa no shell do IDLE.  "
   ]
  },
  {
   "cell_type": "markdown",
   "metadata": {
    "slideshow": {
     "slide_type": "slide"
    }
   },
   "source": [
    "## Módulos\n",
    "\n",
    "Uma das grandes vantagens do Python é o grande número de **módulos** (bibliotecas) disponíveis que implementam funcionalidades muito diferentes, e são fáceis de se instalar e usar. Em seguida temos uma lista de módulos interessantes: \n",
    "\n",
    "<ul>\n",
    "    <li><a href=\"http://www.numpy.org/\">NumPy</a>: Biblioteca de computação científica;</li>\n",
    "    <li><a href=\"https://www.scipy.org/\">ScyPy</a>: Uma biblioteca de matemática, ciências e engenharia;</li>\n",
    "    <li><a href=\"https://www.matplotlib.org/\">Matplotlib</a>: Biblioteca para visualização gráfica de dados;</li>\n",
    "    <li><a href=\"https://pandas.pydata.org/\">Pandas</a>: Biblioteca para manipulação e análise de dados em tabelas;</li>\n",
    "    <li><a href=\"http://opencv-python-tutroals.readthedocs.io/en/latest/py_tutorials/py_tutorials.html\">OpenCV</a>: Biblioteca de visão computacional;</li>\n",
    "    <li><a href=\"https://www.djangoproject.com/\">Django</a>: <i>Framework</i> da Web para desenvolvimento rápido;</li>\n",
    "    <li><a href=\"http://bottlepy.org/docs/dev/index.html\">Bottle</a>: Micro estrutura da web;</li>\n",
    "    <li><a href=\"http://flask.pocoo.org/\">Flask</a>: Micro estrutura da web. Acesse este <a href=\"https://techtutorialsx.com/2016/04/09/iot-temperature-logger/\">post</a> para ver um exemplo de aplicativo IoT;</li> \n",
    "    <li><a href=\"http://scrapy.org/\">Scrapy</a>: Estrutura de rastreamento da Web;</li>\n",
    "    <li><a href=\"http://infohost.nmt.edu/tcc/help/pubs/tkinter/web/index.html\">Tkinter</a>: Uma biblioteca para design de GUI (interface gráfica para usuários);</li>\n",
    "    <li><a href=\"http://www.sqlalchemy.org/\">SQLAlchemy</a>: Mapeador relacional de objetos para Python.</li></ul>  \n",
    "\n",
    "Você pode verificar alguns outros módulos úteis [aqui](https://docs.python.org/2/library/). Existem muitas bibliotecas na Web, basta fazer uma pesquisa rápida antes de começar a implementar algo do zero, pois é provável que alguém já tenha criado uma biblioteca em Python para isso. Para instalar novas bibliotecas Python, a maneira mais fácil é usar o **pip** que é um instalador de linha de comando muito fácil de usar. A instalação de bibliotecas com o **pip** geralmente requer apenas um comando como ***pip install libraryName***."
   ]
  },
  {
   "cell_type": "markdown",
   "metadata": {
    "slideshow": {
     "slide_type": "slide"
    }
   },
   "source": [
    "## Exercícios\n",
    "1. Quais foram as duas formas de se interpretar comandos em Python mostradas neste caderno?\n",
    "1. Qual a diferença entre o ambiente padrão e o ambiente IDLE?\n",
    "1. Digite o comando Python para apresentar a mensagem \"Ei pessoal!'.\n",
    "1. O que é um módulo Python e para que serve?"
   ]
  },
  {
   "cell_type": "markdown",
   "metadata": {
    "slideshow": {
     "slide_type": "fragment"
    }
   },
   "source": [
    "<p style=\"text-align:right;\"><a href='../Índice.ipynb' target=\"_self\">Volta ao Índice</a></p>"
   ]
  },
  {
   "cell_type": "markdown",
   "metadata": {
    "slideshow": {
     "slide_type": "notes"
    }
   },
   "source": [
    "Fonte: https://techtutorialsx.com/2016/10/23/python-an-introduction/#more-1893"
   ]
  }
 ],
 "metadata": {
  "celltoolbar": "Slideshow",
  "kernelspec": {
   "display_name": "Python 3",
   "language": "python",
   "name": "python3"
  },
  "language_info": {
   "codemirror_mode": {
    "name": "ipython",
    "version": 3
   },
   "file_extension": ".py",
   "mimetype": "text/x-python",
   "name": "python",
   "nbconvert_exporter": "python",
   "pygments_lexer": "ipython3",
   "version": "3.8.3"
  }
 },
 "nbformat": 4,
 "nbformat_minor": 4
}
