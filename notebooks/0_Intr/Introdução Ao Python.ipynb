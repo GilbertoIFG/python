{
 "cells": [
  {
   "cell_type": "markdown",
   "metadata": {},
   "source": [
    "# Introdução ao Python"
   ]
  },
  {
   "cell_type": "markdown",
   "metadata": {},
   "source": [
    "##### Curso de Extensão - IFG - Jun/19"
   ]
  },
  {
   "cell_type": "markdown",
   "metadata": {},
   "source": [
    "<img src=\"img/abertura.jpg\">"
   ]
  },
  {
   "cell_type": "markdown",
   "metadata": {},
   "source": [
    "Este curso é dirigido aos alunos do IFG, dos ensinos médio/técnico e do superior (Engenharias). O objetivo principal é apresentar a Linguagem de Programação Python  em nível introdutório. Essa linguagem é bastante eclética, permitindo ao usuário o desenvolvimento de aplicativos de toda sorte, desde o processamento de dados científicos até aplicações comerciais, para rodar no desktop, tablet ou smartphone, envolvendo banco de dados, servidores Web ou não, manipulando grande massa de dados (big data). \n",
    "\n",
    "Goiânia, Jun/2019\n",
    "<p>Cláudio A. Fleury</p>\n",
    "<hr style=\"color: #0000FF\">"
   ]
  },
  {
   "cell_type": "markdown",
   "metadata": {},
   "source": [
    "<h4 id=\"historico\">Histórico</h4>"
   ]
  },
  {
   "cell_type": "markdown",
   "metadata": {},
   "source": [
    "## O QUE É PYTHON?\n",
    "É uma linguagem de programação de alto nível, interpretada, interativa, versátil, de código aberto e legível aos seres humanos, orientada a objetos/imperativa/funcional/estruturada e de uso geral. Possui um sistema de tipificação dinâmica de variáveis, gerenciamento automático de memória e uma biblioteca padrão abrangente. Como outras linguagens dinâmicas, o Python é frequentemente usado como uma linguagem de **script**, mas também pode ser compilado em programas executáveis.\n",
    "\n",
    "Nos exemplos a seguir, a entrada e a saída de comandos/respostas são diferenciadas pela presença ou ausência de sinal de prontidão (_prompt_ `>>>` ou `...`), aguardando comando do usuário: para reproduzir o exemplo, você deve digitar os comandos após o _prompt_ `>>>`. As linhas que não começam com _prompt_ são geradas pelo interpretador Python, ou seja, são as respostas aos comandos do usuário. Observe que um _prompt_ secundário sozinho na linha, num dado exemplo, significa que você deve digitar uma linha em branco; isso é usado para encerrar um comando de várias linhas. \n",
    "\n",
    "Muitos dos exemplos nesta apostila, mesmo aqueles inseridos no modo interativo (digitados no _prompt_), incluem comentários. Comentários em Python começam com o caractere _hash_ **#**, e se estendem até o final da linha física. Um comentário pode aparecer no início de uma linha ou após um espaço em branco ou comando da linguagem, mas não dentro de uma _string_. Um caractere _hash_ dentro de uma _string_ é apenas mais um caracter da _string_. Como os comentários são usados no esclarecimento do código e não são interpretados pelo Python, eles podem ser omitidos ao se digitar os exemplos."
   ]
  },
  {
   "cell_type": "markdown",
   "metadata": {},
   "source": [
    "## HISTÓRICO <a id=\"historico\"></a>\n",
    "A linguagem Python começou a ser desenvolvida por __Guido van Rossum__ em 1989 (lançada oficialmente em 1999) na _Centrum Wiskunde & Informatica (CWI)_, Holanda, como sucessora da **linguagem ABC** (inspirada na SETL) que era capaz de lidar com exceções e interagir com o sistema operacional Amoeba que ele estava ajudando a desenvolver.\n",
    "\n",
    "SETL é uma Linguagem de programação de \"altíssimo nível\", baseada na matemática de conjuntos. Foi originalmente desenvolvida por **Jacob Theodore Schwartz** no _Courant Institute of Mathematical Sciences_ na NYU no fim dos anos 1960. Lambert Meertens passou um ano com o grupo SETL na NYU antes de finalizar o projeto da __linguagem ABC__.\n",
    "\n",
    "Guido era fã do grupo humorístico __Monty Python__, criador do programa de comédia _Monty Python's Flying Circus_ na televisão inglesa BBC (1969-1974). Ele quis homenagear o grupo dando o nome __Python__ à linguagem.\n",
    "Então, a denominação da linguagem não é devida à serpente Python, embora o ícone utilizado para representação sejam duas cobras estilizadas.\n",
    "\n",
    "<img src=\"img/icone.png\" width=250>\n",
    "\n",
    "### Linha do Tempo das Versões dos Interpretadores:\n",
    "\n",
    "<img src=\"img/linhatempo.png\" width=700>\n",
    "\n",
    "Fonte: http://www.trytoprogram.com/python-programming/history-of-python/"
   ]
  },
  {
   "cell_type": "markdown",
   "metadata": {},
   "source": [
    "## FILOSOFIA\n",
    "A filosofia central da linguagem Python inclui os seguintes preceitos: \n",
    "- Bonito é melhor que feio.\n",
    "- Explícito é melhor que implícito. \n",
    "- Simples é melhor que complexo. \n",
    "- Complexo é melhor que complicado. \n",
    "- Legibilidade é importante.\n",
    "\n",
    "## CARACTERÍSTICAS DA LINGUAGEM PYTHON\n",
    "Em vez de ter todas as suas funcionalidades incorporadas no seu núcleo, o Python foi projetado para ser facilmente extensível. Essa modularidade compacta foi o principal motivo da **linguagem Python** ter se tornado tão popular, pois pode-se adicionar interfaces programáveis a aplicativos existentes. \n",
    "\n",
    "A intenção de Rossum era projetar uma linguagem com um pequeno núcleo, uma grande biblioteca padrão e um interpretador, e de quebra que pudesse ser facilmente extensível... Essas características foram resultado de suas frustrações com a **linguagem ABC**, que adotava uma abordagem oposta.\n",
    "\n",
    "### PRINCIPAIS CARACTERÍSTICAS\n",
    "1.\t**Legível e Interpretada**: Python é uma linguagem muito legível e cada instrução é traduzida individualmente e executada antes da instrução seguinte. \n",
    "2.\t**Fácil de aprender**: Aprender Python é fácil por ela ser uma linguagem expressiva e de alto nível.\n",
    "3.\t**Multiplataforma**: está disponível para execução em vários sistemas operacionais, tais como: Mac OS, MS-Windows, Linux, Unix, Oracle Solaris etc. \n",
    "4.\t**Open Source**: Python é uma linguagem de programação de código aberto. \n",
    "5.\t**Biblioteca Padrão Grande**: a ling. Python vem com uma grande biblioteca padrão com códigos e funções úteis que podem ser usados enquanto se escreve código em Python. \n",
    "6.\t**Gratuita**: a ling. Python é gratuita para download e uso. \n",
    "7.\t**Manipulação de Exceção**: Uma exceção é um evento que pode ocorrer durante a execução do programa e que interrompe o fluxo normal do programa. A ling. Python permite o tratamento de exceções, o que significa que podemos escrever códigos menos propenso a erros e testar vários cenários que possam provocar uma exceção mais tarde. \n",
    "8.\t**Recursos Avançados**: geradores e abrangência de lista (_list comprehension_). Veremos esses recursos mais tarde.\n",
    "9.\t**Gerenciamento Automático de Memória**: a memória é limpa e liberada automaticamente. Você não precisa se preocupar em liberar memória em seus códigos.\n"
   ]
  },
  {
   "cell_type": "markdown",
   "metadata": {},
   "source": [
    "## Computação Científica\n",
    "\n",
    "### Necessidades dos Cientistas\n",
    "- Obter dados (simulação, controle de experimentos)\n",
    "- Manipular e processar dados.\n",
    "- Visualizar resultados... para entender o que se está fazendo!\n",
    "- Comunicar resultados: produzir figuras para relatórios ou publicações, escrever apresentações."
   ]
  },
  {
   "cell_type": "markdown",
   "metadata": {},
   "source": [
    "### Soluções Existentes\n",
    "#### Linguagens Compiladas: C, C++, Fortran etc.\n",
    "\n",
    "- Vantagens:\n",
    "-- Muito rápidas. Compiladores muito otimizados. Para cálculos pesados, é difícil superar a performance dessas linguagens.\n",
    "-- Bibliotecas científicas muito otimizadas foram escritas para essas linguagens. Exemplos: BLAS (operações vetoriais/matriciais).\n",
    "- Desvantagens:\n",
    "-- Uso dolorido: sem interatividade durante o desenvolvimento, passos obrigatórios de compilação, sintaxe com muitos símbolos (&, ::, }}, ; etc.), gerenciamento manual de memória (cheio de truques em C). Essas linguagens são difíceis para quem não é cientista da computação.\n",
    "\n",
    "#### Linguagens Interpretadas: Matlab\n",
    "\n",
    "- Vantagens:\n",
    " - Coleção de bibliotecas bastante rica com numerosos algoritmos, para muitos diferentes domínios. Execução rápida porque essas bibliotecas são normalmente escritas numa linguagem compilada.\n",
    " - Ambiente de desenvolvimento agradável: ajuda completa e bem organizada, editor integrado, facilidades de depuração etc.\n",
    " - Apoio comercial e técnico disponíveis.\n",
    "- Desvantagens:\n",
    " - A linguagem base é bastante pobre e pode se tornar restritiva para usuários avançados.\n",
    " - Não gratuita.\n",
    "\n",
    "#### Outras linguagens de *script*: Scilab, Octave, Igor, R, IDL etc.\n",
    "\n",
    "- Vantagens:\n",
    " - Fonte aberta (*open-source*), gratuita, ou pelo menos mais barata que o Matlab.\n",
    " - Alguns recursos podem ser bem avançados (estatísticas em R, figuras em Igor, etc.)\n",
    "- Desvantagens:\n",
    " - Menos algoritmos disponíveis que em Matlab, e a linguagem não é mais avançada.\n",
    " - Alguns softwares são mais dedicados a um domínio. Ex: Gnuplot ou xmgrace para desenho de curvas. Estes programas são muito poderosos, mas eles são restritos a um único tipo de aplicação, tal como traçado gráfico (*plotting*).\n",
    "\n",
    "#### Python\n",
    "\n",
    "- Vantagens:\n",
    " - Bibliotecas para computação científica muito ricas (porém, um pouco menos que Matlab)\n",
    " - Linguagem bem pensada, permite a escrita de códigos bem estruturados e muito legíveis: \"codificamos o que pensamos\".\n",
    " - Muitas bibliotecas para outras tarefas além da computação científica (gerenciamento de servidor Web, acesso à porta serial etc.)\n",
    " - Software gratuito e *open-source*, amplamente difundido, com uma comunidade vibrante.\n",
    "- Desvantagens:\n",
    " - Ambiente de desenvolvimento menos agradável que, por exemplo, o do Matlab. (Mais orientado ao público Geek).\n",
    " - Não possui todos os algorimtos que podem ser encontrados em softwares mais especializados ou *toolboxes*."
   ]
  },
  {
   "cell_type": "markdown",
   "metadata": {},
   "source": [
    "### Python Científico - Blocos de Construção\n",
    "Diferentemente do Matlab, Scilab ou R, Python não vem com um conjunto de módulos para computação científica. A seguir são mostrados alguns blocos de construção que podem ser combinados para se obter um ambiente de computação científica:\n",
    "\n",
    "- **Python**, uma linguagem de computação genérica e moderna.\n",
    " - Ling. Python: tipos de dados (string, int), controle de fluxo, coleções de dados (listas, dicionários), padrões etc.\n",
    " - Biblioteca padrão\n",
    " - Um grande número de módulos especializados ou aplicações escritas em Python: protocolos Web, estruturas (frameworks) Web etc. e computação científica.\n",
    " - Ferramentas de desenvolvimento (testes automáticos, geração de documentação)\n",
    "\n",
    "\n",
    "- **IPython**, um *shell* Python (interface de comando de linha) avançado (http://ipython.scipy.org/moin/)\n",
    "<img src=\"img/snapshot_ipython.png\" alt=\"img/snapshot_ipython.png\" class=\"align-right\" style=\"width: 700.0px; height: 400.0px;\">\n",
    "\n",
    "\n",
    "- **Numpy**: fornece objetos arranjos numéricos (vetor, matriz) poderosos , e rotinas para manipulá-los (http://www.numpy.org/)\n",
    "\n",
    "\n",
    "- **Scipy**: rotinas de processamento de dados em alto nível. Otimização, regressão, interpolação etc. (http://www.scipy.org/)\n",
    "\n",
    "\n",
    "- **Matplotlib**: visualização em 2D, gráficos \"pronto-para-publicação\" (http://matplotlib.sourceforge.net/)\n",
    "<img src=\"img/random_c.jpg\" alt=\"img/random_c.jpg\" class=\"align-right\" style=\"width: 340.0px; height: 210.0px;\">\n",
    "\n",
    "\n",
    "- **Mayavi**: visualização em 3D (http://code.enthought.com/projects/mayavi/)\n",
    "<img src=\"img/superficie_irregular.jpg\" style=\"width: 340px; height: 210.0px;\">"
   ]
  },
  {
   "cell_type": "markdown",
   "metadata": {},
   "source": [
    "## Introdução à Linguagem Python\n",
    "Trata-se de uma linguagem de programação de alto nível, interpretada, interativa, versátil, de código aberto e legível aos seres humanos, orientada a objetos/imperativa/funcional/estruturada e de uso geral. Possui um sistema de tipificação dinâmica de variáveis, gerenciamento automático de memória e uma biblioteca padrão bastante abrangente. Como outras linguagens dinâmicas, o Python é frequentemente usado na elaboração de *scripts* (interpretados) mas também pode ser compilado e montado em programas executáveis.\n",
    "\n",
    "Nos exemplos a seguir, a entrada (comandos) e a saída (respostas) são diferenciadas pela presença ou ausência de sinais de prontidão do interpretador. \n",
    "- **Interpretador Python** (padrão): os *prompts* são `>>>` ou `...`, dependendo do contexto da entrada do comando do usuário. Para reproduzir o exemplo, você deve digitar o texto que aparece após o ***prompt*** do interpretador, `>>>`. As linhas que não começam com ***prompt*** são as respostas aos comandos digitados, e são geradas pelo interpretador. Observe que um ***prompt*** secundário `...` sozinho numa linha de um exemplo significa que você deve digitar uma linha em branco, isto é, ele é usado para encerrar um comando de várias linhas.\n",
    "- **Interpretador IPython** (interativo): o *prompt* de entrada de comando é `In [5]:` e a saída de dados, quando houver, aparece na linha seguinte com ou sem indicação de _prompt_ `Out[5]`.\n",
    "\n",
    "Muitos exemplos desta apostila, mesmo aqueles inseridos no modo interativo (digitados no prompt), incluem comentários. Comentários em Python começam com o caractere ***hash*** '#', e se estendem até o final da linha física. Um comentário pode aparecer no início de uma linha ou após um espaço em branco depois do código, mas não dentro de uma *string*. Um caracter ***hash*** dentro de uma *string* é apenas mais um caracter da *string*. Como os comentários são usados apenas para esclarecer o código e não são interpretados pelo Python, eles podem ser omitidos ao se digitar os exemplos."
   ]
  },
  {
   "cell_type": "code",
   "execution_count": 1,
   "metadata": {
    "collapsed": true
   },
   "outputs": [],
   "source": [
    "# Exemplo de script Python: cria duas variáveis, uma do tipo 'int' e outra do tipo 'string'\n",
    "porta = 1                                                                   # porta aberta\n",
    "texto = \"Deixe seu comentario em #comPythonehmaisfacil\""
   ]
  },
  {
   "cell_type": "markdown",
   "metadata": {},
   "source": [
    "Inicialmente usaremos um ambiente interativo chamado **Jupyter Notebook** (acessível via *browser*), e posteriormente usaremos um IDE com editor, interpretador e outros utilitários usuais nas outras linguagens. Essa apostila foi elaborada a partir dessa tecnologia, **Jupyter Notebook**. \n",
    "\n",
    "Esse ambiente permite a apresentação simultânea de textos formatados com linguagem de marcação (tipo HTML) e de linhas de códigos Python para ser executado dinamicamente, e a característica mais importante é que o usuário pode alterar o código de acordo com a sua imaginação e verificar o resultado, tudo isso sem abandonar o navegador (*browser*)."
   ]
  },
  {
   "cell_type": "markdown",
   "metadata": {},
   "source": [
    "### Modo Interativo "
   ]
  },
  {
   "cell_type": "markdown",
   "metadata": {},
   "source": [
    "O interpretador pode ser usado como uma simples calculadora: você pode digitar uma **expressão aritmética** e pressionar [*Enter*] para ver o valor calculado. A sintaxe da **expressão** é direta: os operadores artiméticos (<tt>+, -, *</tt> e <tt>/</tt>) funcionam como na maioria das outras linguagens (Pascal, Java ou C). Os parênteses, '(' e ')', são usados para alterar a hierarquia de resolução dos operadores. Por exemplo:"
   ]
  },
  {
   "cell_type": "code",
   "execution_count": 3,
   "metadata": {},
   "outputs": [
    {
     "data": {
      "text/plain": [
       "4"
      ]
     },
     "execution_count": 3,
     "metadata": {},
     "output_type": "execute_result"
    }
   ],
   "source": [
    "2 + 2"
   ]
  },
  {
   "cell_type": "code",
   "execution_count": 4,
   "metadata": {},
   "outputs": [
    {
     "data": {
      "text/plain": [
       "20"
      ]
     },
     "execution_count": 4,
     "metadata": {},
     "output_type": "execute_result"
    }
   ],
   "source": [
    "50 - 5*6"
   ]
  },
  {
   "cell_type": "code",
   "execution_count": 5,
   "metadata": {},
   "outputs": [
    {
     "data": {
      "text/plain": [
       "5"
      ]
     },
     "execution_count": 5,
     "metadata": {},
     "output_type": "execute_result"
    }
   ],
   "source": [
    "(50 - 5*6)/4"
   ]
  },
  {
   "cell_type": "code",
   "execution_count": 6,
   "metadata": {},
   "outputs": [
    {
     "data": {
      "text/plain": [
       "1"
      ]
     },
     "execution_count": 6,
     "metadata": {},
     "output_type": "execute_result"
    }
   ],
   "source": [
    "8/5   # divisão com operandos inteiros, retorna resultado inteiro (vs.2.7)"
   ]
  },
  {
   "cell_type": "code",
   "execution_count": 7,
   "metadata": {},
   "outputs": [
    {
     "data": {
      "text/plain": [
       "1.6"
      ]
     },
     "execution_count": 7,
     "metadata": {},
     "output_type": "execute_result"
    }
   ],
   "source": [
    "8./5  # divisão com pelo menos um operando real, retorna resultado real (vs.2.7)"
   ]
  },
  {
   "cell_type": "code",
   "execution_count": 1,
   "metadata": {
    "scrolled": true
   },
   "outputs": [
    {
     "data": {
      "text/plain": [
       "25"
      ]
     },
     "execution_count": 1,
     "metadata": {},
     "output_type": "execute_result"
    }
   ],
   "source": [
    "5**2  # 5 ao quadrado"
   ]
  },
  {
   "cell_type": "markdown",
   "metadata": {},
   "source": [
    "Assim como na maioria das outras linguagens de programação, o sinal de igualdade '=' também é usado no Python para atribuir um valor a uma variável. Depois de uma atribuição nenhum resultado é exibido automaticamente:"
   ]
  },
  {
   "cell_type": "code",
   "execution_count": 13,
   "metadata": {},
   "outputs": [
    {
     "name": "stdout",
     "output_type": "stream",
     "text": [
      "450.0\n",
      "<type 'float'> <type 'int'> <type 'float'>\n"
     ]
    }
   ],
   "source": [
    "a = 10.\n",
    "b = 5 * 9\n",
    "area = a * b\n",
    "print area\n",
    "print type(a), type(b), type(area)"
   ]
  },
  {
   "cell_type": "code",
   "execution_count": 14,
   "metadata": {},
   "outputs": [
    {
     "name": "stdout",
     "output_type": "stream",
     "text": [
      "IFG - Mai/19 \n",
      "IFG - Mai/19 IFG - Mai/19 \n",
      "IFG - Mai/19 IFG - Mai/19 IFG - Mai/19 IFG - Mai/19 \n"
     ]
    }
   ],
   "source": [
    "b = \"IFG - Mai/19 \"\n",
    "print b\n",
    "print b + b\n",
    "print b * 4"
   ]
  },
  {
   "cell_type": "markdown",
   "metadata": {},
   "source": [
    "Por ser uma linguagem de tipificação dinâmica de variáveis, no Python não existe declaração de variáveis, o interpretador assume o tipo de dado mais adequado ao se fazer uma atribuição à variável. Além disso, o tipo da variável pode mudar, no sentido que em determinado instante ela pode ter um valor de um certo tipo, e noutro instante, ela pode ter outro valor de um diferente tipo do anterior: como visto para a var. <tt>b</tt> nos dois trechos de códigos anteriores.\n",
    "\n",
    "Se uma variável não estiver **\"definida\"** (atribuída a algum valor), ao se tentar usá-la um erro será reportado pelo interpretador. \n",
    "\n",
    "Exemplo:"
   ]
  },
  {
   "cell_type": "code",
   "execution_count": 2,
   "metadata": {},
   "outputs": [
    {
     "ename": "NameError",
     "evalue": "name 'n' is not defined",
     "output_type": "error",
     "traceback": [
      "\u001b[1;31m-------------------------------------------\u001b[0m",
      "\u001b[1;31mNameError\u001b[0m Traceback (most recent call last)",
      "\u001b[1;32m<ipython-input-2-f945c9834872>\u001b[0m in \u001b[0;36m<module>\u001b[1;34m\u001b[0m\n\u001b[1;32m----> 1\u001b[1;33m \u001b[0mn\u001b[0m           \u001b[1;31m# tentativa de acessar uma variável não definida\u001b[0m\u001b[1;33m\u001b[0m\u001b[1;33m\u001b[0m\u001b[0m\n\u001b[0m",
      "\u001b[1;31mNameError\u001b[0m: name 'n' is not defined"
     ]
    }
   ],
   "source": [
    "n           # tentativa de acessar uma variável não definida"
   ]
  },
  {
   "cell_type": "markdown",
   "metadata": {},
   "source": [
    "Na versão 2.7 a saída de dados é feita pelo comando <tt>print</tt>, enquanto que na versão 3.4, pela função <tt>print()</tt>."
   ]
  },
  {
   "cell_type": "code",
   "execution_count": 2,
   "metadata": {},
   "outputs": [
    {
     "name": "stdout",
     "output_type": "stream",
     "text": [
      "Oi Pessoal! \n",
      "Tudo bem?\n"
     ]
    }
   ],
   "source": [
    "print \"Oi Pessoal!\",\"\\nTudo bem?\""
   ]
  },
  {
   "cell_type": "markdown",
   "metadata": {},
   "source": [
    "### Palavras Chaves - Python 2.7\n",
    "<img src=\"img/palavraschave.png\"><center>Fonte: https://www.programiz.com/python-programming/keyword-list</center>"
   ]
  },
  {
   "cell_type": "code",
   "execution_count": 11,
   "metadata": {},
   "outputs": [
    {
     "name": "stdout",
     "output_type": "stream",
     "text": [
      "['and', 'as', 'assert', 'break', 'class', 'continue', 'def', 'del', 'elif', 'else', 'except', 'exec', 'finally', 'for', 'from', 'global', 'if', 'import', 'in', 'is', 'lambda', 'not', 'or', 'pass', 'print', 'raise', 'return', 'try', 'while', 'with', 'yield']\n"
     ]
    }
   ],
   "source": [
    "from keyword import kwlist         # pacote \"KEYWORD\"\n",
    "print kwlist                       # keywords list Vs. 2.7.9"
   ]
  },
  {
   "cell_type": "code",
   "execution_count": 12,
   "metadata": {},
   "outputs": [
    {
     "data": {
      "text/plain": [
       "31"
      ]
     },
     "execution_count": 12,
     "metadata": {},
     "output_type": "execute_result"
    }
   ],
   "source": [
    "len(kwlist)"
   ]
  },
  {
   "cell_type": "markdown",
   "metadata": {},
   "source": [
    "### Preparação do Ambiente\n",
    "Para rodar cadernos Jupyter (*Jupyter Notebooks*) é necessário ter instalado o interpretador Python, pois enquanto o **Jupyter** executa código em muitas linguagens de programação, o Python é pré-requisito (Python 3.3 ou superior, ou Python 2.7) para instalar o próprio **Jupyter Notebook**.\n",
    "\n",
    "### 1. Instalando o Interpretador Python Oficial\n",
    "Você pode instalar o interpretador Python OFICIAL em “qualquer” Sistema Operacional..., tais como Windows, Mac OS X, Linux/Unix, Solaris e outros. Para fazer a instalação do Python em seu Sistema Operacional, siga os seguintes passos:\n",
    "1. Acesse www.python.org/downloads/ para baixar o interpretador.\n",
    "\n",
    "<img src=\"img/winp1.png\">\n",
    "\n",
    "![image.png](img/winp2.png)\n",
    "\n",
    "![image.png](img/winp3.png)\n",
    "\n",
    "2. Este é o site oficial da linguagem Python. A página web detectará o sistema operacional instalado no seu computador, e recomendará a versão adequada a ser baixada. Como estou usando o Windows-64 no meu notebook, foram dadas as opções de download para Python-2 e Python-3 para Windows. Neste curso usaremos a versão 3.7 da ling. Python, portanto recomendo que você baixe a versão mais recente (à época da escrita desse texto era a versão Python 3.7.2 - ver figura anterior). \n",
    "3. As etapas de instalação são bem simples. Você só precisa escolher o diretório para instalação e clicar para avançar nas próximas etapas: botão \\[Next >\\].\n",
    "![image.png](img/winp4.png)"
   ]
  },
  {
   "cell_type": "markdown",
   "metadata": {},
   "source": [
    "### 2. Instalando o Jupyter via Anaconda\n",
    "É recomendável instalar o Python e o [Jupyter](https://jupyter.org/install) usando o **Anaconda Distribution**, que inclui o Python, o Jupyter Notebook e outros pacotes comumente usados na computação científica e ciência de dados. \n",
    "1. Baixe o Anaconda. Recomendamos o _download_ da versão mais recente do Python 3 do Anaconda. \n",
    "2. Instale a versão do Anaconda descarregada, seguindo as instruções... \n",
    "Pronto, o Jupyter Notebook já está instalado! Para executar um _notebook_ digite o seguinte comando no terminal (Mac/Linux) ou no _prompt_ de comando (Windows):\n",
    "\n",
    "`jupyter notebook`\n",
    "\n",
    "### 3. Instalando o Jupyter com pip \n",
    "Como usuário experiente em Python, você pode instalar o Jupyter usando o gerenciador de pacotes do Python, `pip`, em vez do Anaconda. Se você tem o Python 3 instalado (recomendado): \n",
    "\n",
    "`python3 -m pip install --upgrade pip \n",
    " python3 -m pip install jupyter`\n",
    "\n",
    "Se você tem o Python 2 instalado: \n",
    "\n",
    "`python -m pip install --upgrade pip \n",
    " python -m pip install jupyter`\n",
    "\n",
    "### 4. \"Instalando\" o Jupyter via WinPython\n",
    "O WinPython é uma distribuição __portátil__ de código aberto da linguagem de programação Python para Windows XP/7/8, projetada para cientistas, suportando versões de 32 e 64 bits do Python 2 e Python 3. Desde setembro de 2014, o desenvolimento do projeto mudou para https://winpython.github.io/ \n",
    "\n",
    "Características do WinPython: \n",
    "- Projetado para usuários científicos regulares: processamento de dados interativo e visualização usando Python com Spyder \n",
    "- Projetado para usuários científicos avançados e desenvolvedores de software: desenvolvimento de aplicativos Python com Spyder, controle de versão com o Mercurial e outras ferramentas de desenvolvimento (como gettext, etc.) \n",
    "- Portátil: pré-configurado, ele deve rodar sem problemas em qualquer máquina Windows (sem qualquer requisito) e a pasta que contém o WinPython pode ser movida para qualquer dispositivo (HD local, rede ou unidade removível) com a maioria das configurações do aplicativo \n",
    "- Flexível: pode-se usar quantas versões do WinPython forem necessárias (como ambientes isolados e auto-consistentes), mesmo que elas executem versões diferentes do Python (2.7, 3.x) ou arquiteturas diferentes (32 ou 64 bits) na mesma máquina \n",
    "- Personalizável: O gerenciador de pacotes integrado (wppm - WinPython Package Manager) ajuda a instalar, desinstalar ou atualizar pacotes Python. Como o WPPM pode não suportar alguns pacotes, também é possível instalar ou atualizar pacotes usando \"easy_install\" ou \"pip\" no prompt de comando do WinPython. Um arquivo de configuração permite definir variáveis de ambiente em tempo de execução.\n",
    "\n",
    "#### Passos:\n",
    "- Download: acesse https://sourceforge.net/projects/winpython/ e clique o botão verde <Download>. Aguarde a finalização do download da versão mais recente do WinPython...\n",
    "- Descompactação: clique sobre o arquivo baixado e escolha o diretório em que será descompactado o arquivo-bolha do WinPython, e aguarde o final... e clique no botão <Finish>.\n",
    "- Execução: clique no ícone do programa Jupyter Notebook.exe para abrir um caderno, ou clique no ícone do programa Spyder.exe para abrir o IDE.\n",
    "\n",
    "|<img alt=\"ícone spyder\" src=\"img/spyder.png\" width=200> | ;) |<img alt=\"ícone notebook jupyter\" src=\"img/jupyter_notebook.png\" width=200>|\n",
    "| :-: | :-: | :-: |"
   ]
  },
  {
   "cell_type": "code",
   "execution_count": null,
   "metadata": {
    "collapsed": true
   },
   "outputs": [],
   "source": []
  }
 ],
 "metadata": {
  "kernelspec": {
   "display_name": "Python 3",
   "language": "python",
   "name": "python3"
  },
  "language_info": {
   "codemirror_mode": {
    "name": "ipython",
    "version": 3
   },
   "file_extension": ".py",
   "mimetype": "text/x-python",
   "name": "python",
   "nbconvert_exporter": "python",
   "pygments_lexer": "ipython3",
   "version": "3.7.2"
  }
 },
 "nbformat": 4,
 "nbformat_minor": 2
}
