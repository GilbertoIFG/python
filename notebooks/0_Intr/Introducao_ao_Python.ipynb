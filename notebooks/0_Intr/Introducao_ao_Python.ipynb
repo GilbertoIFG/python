{
 "cells": [
  {
   "cell_type": "markdown",
   "metadata": {},
   "source": [
    "# Introdução ao Python"
   ]
  },
  {
   "cell_type": "markdown",
   "metadata": {},
   "source": [
    "##### Curso de Extensão - IFG - Jun/19"
   ]
  },
  {
   "cell_type": "markdown",
   "metadata": {},
   "source": [
    "<img src=\"img/abertura.jpg\">"
   ]
  },
  {
   "cell_type": "markdown",
   "metadata": {},
   "source": [
    "Este curso é dirigido aos **alunos do IFG**, dos ensinos médio/técnico e do superior (Engenharias). O objetivo principal é apresentar a Linguagem de Programação Python em **termos introdutórios**. Essa linguagem é bastante **eclética**, permite ao usuário o desenvolvimento de aplicativos de toda sorte, desde o processamento de dados científicos até aplicações comerciais, para rodar no desktop, tablet ou smartphone, envolvendo banco de dados, servidores Web ou não, manipulando grande massa de dados (*big data*). \n",
    "\n",
    "Goiânia, Jun/2019\n",
    "<p>Cláudio A. Fleury</p>\n",
    "<hr style=\"color: #0000FF\">"
   ]
  },
  {
   "cell_type": "markdown",
   "metadata": {},
   "source": [
    "## O QUE É PYTHON?\n",
    "É uma linguagem de programação de alto nível, interpretada, interativa, versátil, de código aberto e legível aos seres humanos, orientada a objetos/imperativa/funcional/estruturada e de uso geral. Possui um sistema de tipificação dinâmica de variáveis, gerenciamento automático de memória e uma biblioteca padrão abrangente. Como outras linguagens dinâmicas, o Python é frequentemente usado como uma linguagem de **script**, mas também pode ser compilado em programas executáveis.\n",
    "\n",
    "Nos exemplos a seguir, a entrada e a saída de comandos/respostas são diferenciadas pela presença ou ausência de sinal de prontidão (_prompt_ `>>>` ou `...`), aguardando comando do usuário: para reproduzir o exemplo, você deve digitar os comandos após o _prompt_ `>>>`. As linhas que não começam com _prompt_ são geradas pelo interpretador Python, ou seja, são as respostas aos comandos do usuário. Observe que um _prompt_ secundário sozinho na linha, num dado exemplo, significa que você deve digitar uma linha em branco; isso é usado para encerrar um comando de várias linhas. \n",
    "\n",
    "Muitos dos exemplos nesta apostila, mesmo aqueles inseridos no modo interativo (digitados no _prompt_), incluem comentários. Comentários em Python começam com o caractere _hash_ **#**, e se estendem até o final da linha física. Um comentário pode aparecer no início de uma linha ou após um espaço em branco ou comando da linguagem, mas não dentro de uma _string_. Um caractere _hash_ dentro de uma _string_ é apenas mais um caracter da _string_. Como os comentários são usados no esclarecimento do código e não são interpretados pelo Python, eles podem ser omitidos ao se digitar os exemplos."
   ]
  },
  {
   "cell_type": "markdown",
   "metadata": {},
   "source": [
    "## HISTÓRICO <a id=\"historico\"></a>\n",
    "A linguagem Python começou a ser desenvolvida por __Guido van Rossum__ em 1989 (lançada oficialmente em 1999) na _Centrum Wiskunde & Informatica (CWI)_, Holanda, como sucessora da **linguagem ABC** (inspirada na SETL) que era capaz de lidar com exceções e interagir com o sistema operacional Amoeba que ele estava ajudando a desenvolver.\n",
    "\n",
    "SETL é uma Linguagem de programação de \"altíssimo nível\", baseada na matemática de conjuntos. Foi originalmente desenvolvida por **Jacob Theodore Schwartz** no _Courant Institute of Mathematical Sciences_ na NYU no fim dos anos 1960. Lambert Meertens passou um ano com o grupo SETL na NYU antes de finalizar o projeto da __linguagem ABC__.\n",
    "\n",
    "Guido era fã do grupo humorístico __Monty Python__, criador do programa de comédia _Monty Python's Flying Circus_ na televisão inglesa BBC (1969-1974). Ele quis homenagear o grupo dando o nome __Python__ à linguagem.\n",
    "Então, a denominação da linguagem não é devida à serpente Python, embora o ícone utilizado para representação sejam duas cobras estilizadas.\n",
    "\n",
    "<img src=\"img/icone.png\" width=250>\n",
    "\n",
    "### Linha do Tempo das Versões dos Interpretadores:\n",
    "\n",
    "<img src=\"img/linhatempo.png\" width=700>\n",
    "\n",
    "Fonte: http://www.trytoprogram.com/python-programming/history-of-python/"
   ]
  },
  {
   "cell_type": "markdown",
   "metadata": {},
   "source": [
    "## FILOSOFIA\n",
    "A filosofia central da linguagem Python inclui os seguintes preceitos: \n",
    "- Bonito é melhor que feio.\n",
    "- Explícito é melhor que implícito. \n",
    "- Simples é melhor que complexo. \n",
    "- Complexo é melhor que complicado. \n",
    "- Legibilidade é importante.\n",
    "\n",
    "## CARACTERÍSTICAS DA LINGUAGEM PYTHON\n",
    "Em vez de ter todas as suas funcionalidades incorporadas no seu núcleo, o Python foi projetado para ser facilmente extensível. Essa modularidade compacta foi o principal motivo da **linguagem Python** ter se tornado tão popular, pois pode-se adicionar interfaces programáveis a aplicativos existentes. \n",
    "\n",
    "A intenção de Rossum era projetar uma linguagem com um pequeno núcleo, uma grande biblioteca padrão e um interpretador, e de quebra que pudesse ser facilmente extensível... Essas características foram resultado de suas frustrações com a **linguagem ABC**, que adotava uma abordagem oposta.\n",
    "\n",
    "### PRINCIPAIS CARACTERÍSTICAS\n",
    "1.\t**Legível e Interpretada**: Python é uma linguagem muito legível e cada instrução é traduzida individualmente e executada antes da instrução seguinte. \n",
    "2.\t**Fácil de aprender**: Aprender Python é fácil por ela ser uma linguagem expressiva e de alto nível.\n",
    "3.\t**Multiplataforma**: está disponível para execução em vários sistemas operacionais, tais como: Mac OS, MS-Windows, Linux, Unix, Oracle Solaris etc. \n",
    "4.\t**Open Source**: Python é uma linguagem de programação de código aberto. \n",
    "5.\t**Biblioteca Padrão Grande**: a ling. Python vem com uma grande biblioteca padrão com códigos e funções úteis que podem ser usados enquanto se escreve código em Python. \n",
    "6.\t**Gratuita**: a ling. Python é gratuita para download e uso. \n",
    "7.\t**Manipulação de Exceção**: Uma exceção é um evento que pode ocorrer durante a execução do programa e que interrompe o fluxo normal do programa. A ling. Python permite o tratamento de exceções, o que significa que podemos escrever códigos menos propenso a erros e testar vários cenários que possam provocar uma exceção mais tarde. \n",
    "8.\t**Recursos Avançados**: geradores e abrangência de lista (_list comprehension_). Veremos esses recursos mais tarde.\n",
    "9.\t**Gerenciamento Automático de Memória**: a memória é limpa e liberada automaticamente. Você não precisa se preocupar em liberar memória em seus códigos.\n"
   ]
  },
  {
   "cell_type": "markdown",
   "metadata": {},
   "source": [
    "## Computação Científica\n",
    "\n",
    "### Necessidades dos Cientistas\n",
    "- Obter dados (simulação, controle de experimentos)\n",
    "- Manipular e processar dados.\n",
    "- Visualizar resultados... para entender o que se está fazendo!\n",
    "- Comunicar resultados: produzir figuras para relatórios ou publicações, escrever apresentações."
   ]
  },
  {
   "cell_type": "markdown",
   "metadata": {},
   "source": [
    "### Soluções Existentes\n",
    "#### Linguagens Compiladas: C, C++, Fortran etc.\n",
    "\n",
    "- Vantagens:\n",
    "-- Muito rápidas. Compiladores muito otimizados. Para cálculos pesados, é difícil superar a performance dessas linguagens.\n",
    "-- Bibliotecas científicas muito otimizadas foram escritas para essas linguagens. Exemplos: BLAS (operações vetoriais/matriciais), LINPACK/LAPACK (álgebra linear).\n",
    "- Desvantagens:\n",
    "-- Uso dolorido: sem interatividade durante o desenvolvimento, passos obrigatórios de compilação, sintaxe com muitos símbolos (&, ::, }}, ; etc.), gerenciamento manual de memória (cheio de truques em C). Essas linguagens são difíceis para quem não é cientista da computação.\n",
    "\n",
    "#### Linguagens Interpretadas: Matlab\n",
    "\n",
    "- Vantagens:\n",
    " - Coleção de bibliotecas bastante rica com numerosos algoritmos, para muitos diferentes domínios. Execução rápida porque essas bibliotecas são normalmente escritas numa linguagem compilada.\n",
    " - Ambiente de desenvolvimento agradável: ajuda completa e bem organizada, editor integrado, facilidades de depuração etc.\n",
    " - Apoio comercial e técnico disponíveis.\n",
    "- Desvantagens:\n",
    " - A linguagem base é bastante pobre e pode se tornar restritiva para usuários avançados.\n",
    " - Não gratuita.\n",
    "\n",
    "#### Outras linguagens de *script*: Scilab, Octave, Igor, R, IDL etc.\n",
    "\n",
    "- Vantagens:\n",
    " - Fonte aberta (*open-source*), gratuita, ou pelo menos mais barata que o Matlab.\n",
    " - Alguns recursos podem ser bem avançados (estatísticas em R, figuras em Igor, etc.)\n",
    "- Desvantagens:\n",
    " - Menos algoritmos disponíveis que em Matlab, e a linguagem não é mais avançada.\n",
    " - Alguns softwares são mais dedicados a um domínio. Ex: Gnuplot ou xmgrace para desenho de curvas. Estes programas são muito poderosos, mas eles são restritos a um único tipo de aplicação, tal como traçado gráfico (*plotting*).\n",
    "\n",
    "#### Python\n",
    "\n",
    "- Vantagens:\n",
    " - Bibliotecas para computação científica muito ricas (porém, um pouco menos que Matlab)\n",
    " - Linguagem bem pensada, permite a escrita de códigos bem estruturados e muito legíveis: \"codificamos o que pensamos\".\n",
    " - Muitas bibliotecas para outras tarefas além da computação científica (gerenciamento de servidor Web, acesso à porta serial etc.)\n",
    " - Software gratuito e *open-source*, amplamente difundido, com uma comunidade vibrante.\n",
    "- Desvantagens:\n",
    " - Ambiente de desenvolvimento menos agradável que, por exemplo, o do Matlab. (Mais orientado ao público Geek).\n",
    " - Não possui todos os algoritmos que podem ser encontrados em softwares mais especializados ou *toolboxes*."
   ]
  },
  {
   "cell_type": "markdown",
   "metadata": {},
   "source": [
    "### Python Científico - Blocos de Construção\n",
    "Diferentemente do Matlab, Scilab ou R, Python não vem com um conjunto de módulos para computação científica. A seguir são mostrados alguns blocos de construção que podem ser combinados para se obter um ambiente de computação científica:\n",
    "\n",
    "- **Python**, uma linguagem de computação genérica e moderna.\n",
    " - Ling. Python: tipos de dados (string, int), controle de fluxo, coleções de dados (listas, dicionários), padrões etc.\n",
    " - Biblioteca padrão\n",
    " - Um grande número de módulos especializados ou aplicações escritas em Python: protocolos Web, estruturas (frameworks) Web etc. e computação científica.\n",
    " - Ferramentas de desenvolvimento (testes automáticos, geração de documentação)\n",
    "\n",
    "\n",
    "- **IPython**, um *shell* Python (interface de comando de linha) avançado (http://ipython.scipy.org/moin/)\n",
    "<img src=\"img/snapshot_ipython.png\" alt=\"img/snapshot_ipython.png\" class=\"align-right\" style=\"width: 700.0px; height: 400.0px;\">\n",
    "\n",
    "\n",
    "- **Numpy**: fornece objetos arranjos numéricos (vetor, matriz) poderosos , e rotinas para manipulá-los (http://www.numpy.org/)\n",
    "\n",
    "\n",
    "- **Scipy**: rotinas de processamento de dados em alto nível. Otimização, regressão, interpolação etc. (http://www.scipy.org/)\n",
    "\n",
    "\n",
    "- **Matplotlib**: visualização em 2D, gráficos \"pronto-para-publicação\" (http://matplotlib.sourceforge.net/)\n",
    "<img src=\"img/random_c.jpg\" alt=\"img/random_c.jpg\" class=\"align-right\" style=\"width: 340.0px; height: 210.0px;\">\n",
    "\n",
    "\n",
    "- **Mayavi**: visualização em 3D (http://code.enthought.com/projects/mayavi/)\n",
    "<img src=\"img/superficie_irregular.jpg\" style=\"width: 340px; height: 210.0px;\">"
   ]
  },
  {
   "cell_type": "markdown",
   "metadata": {},
   "source": [
    "## Introdução à Linguagem Python\n",
    "Trata-se de uma linguagem de programação de alto nível, interpretada, interativa, versátil, de código aberto e legível aos seres humanos, orientada a objetos/imperativa/funcional/estruturada e de uso geral. Possui um sistema de tipificação dinâmica de variáveis, gerenciamento automático de memória e uma biblioteca padrão bastante abrangente. Como outras linguagens dinâmicas, o Python é frequentemente usado na elaboração de *scripts* (interpretados) mas também pode ser compilado e montado em programas executáveis.\n",
    "\n",
    "Nos exemplos a seguir, faremos uso do interpretador Python interativamente, um esquema **REPL** (*Read–Eval–Print Loop*), ou seja, um esquema de laço de Leitura-Avaliação-Impressão, também chamado de nível superior interativo ou *shell* (concha, casca, interface) da linguagem (ambiente de programação de computador simples e interativo que recebe entradas de um único usuário, avalia-as e mostra o resultado). No caso do Python, a entrada (comando) e a saída (resposta) são diferenciadas pela presença ou ausência de sinais de prontidão do interpretador. \n",
    "\n",
    "- Interpretador **Python** (padrão): os *prompts* são `>>>` ou `...`, dependendo do contexto da entrada do comando do usuário. Para reproduzir o exemplo, você deve digitar o texto que aparece após o ***prompt*** do interpretador, `>>>`. As linhas que não começam com ***prompt*** são as respostas aos comandos digitados, e são geradas pelo interpretador. Observe que um ***prompt*** secundário `...` sozinho numa linha de um exemplo significa que você deve digitar uma linha em branco, isto é, ele é usado para encerrar um comando de várias linhas.  \n",
    "<p>  \n",
    "- Interpretador **IPython** (\"interativo\"): o *prompt* de entrada de comando é `In [5]:` e a saída de dados, quando houver, aparece na linha seguinte com ou sem indicação de _prompt_ `Out[5]`. O valor que aparece entre colchetes indica a quantidade de entrada/saída já realizadas.\n",
    "\n",
    "Muitos exemplos desta apostila, mesmo aqueles inseridos no modo interativo (digitados no *prompt*), incluem comentários. Comentários em Python começam com o caracter ***hash*** '#', e se estendem até o final da linha física. Um comentário pode aparecer no início de uma linha ou após um espaço em branco depois do código, mas não dentro de uma *string*. Um caracter ***hash*** dentro de uma *string* é apenas mais um caracter da *string*. Como os comentários são usados apenas para esclarecer o código e não são interpretados pelo Python, eles podem ser omitidos ao se digitar os exemplos."
   ]
  },
  {
   "cell_type": "code",
   "execution_count": null,
   "metadata": {},
   "outputs": [],
   "source": [
    "# Exemplo de script Python: cria duas variáveis, uma do tipo 'int' e outra do tipo 'string'\n",
    "porta = 1                                                       # porta aberta\n",
    "texto = \"Deixe seu comentario em #comPythonehmaisfacil\"\n",
    "print(porta, texto)\n",
    "# nasc = 1452\n",
    "# print(\"Leonardo da Vinci teria \", 2020-nasc, \" anos se estivesse vivo!\")\n",
    "print(2020-1452)"
   ]
  },
  {
   "cell_type": "markdown",
   "metadata": {},
   "source": [
    "Inicialmente usaremos esse ambiente interativo chamado **Jupyter Notebook** (acessível via *browser*), e posteriormente usaremos um IDE com editor, interpretador e outros utilitários usuais nas outras linguagens. Essa apostila foi elaborada a partir dessa tecnologia, **Jupyter Notebook**. \n",
    "\n",
    "Mas nos primórdios do Python era comum usar a interface dura das linhas de comandos dos interpretadores Python. Essa forma de uso recebeu o nome de REPL.\n",
    "\n",
    "Mas o que é um REPL? Um REPL é uma maneira interativa de interagir com o computador usando a Ling. Python. Para isso, o computador faz quatro coisas:\n",
    "\n",
    "* Leia a entrada do usuário (seus comandos Python).\n",
    "* Avalie seu código (para descobrir o que você quer dizer).\n",
    "* Imprima quaisquer resultados (para que você possa ver a resposta do computador).\n",
    "* Volte para a etapa 1 (para continuar a conversa).\n",
    "\n",
    "O termo \"REPL\" é o acrônimo para READ (ler), EVALUATE (avaliar), PRINT (imprimir) e LOOP (repetir) porque é exatamente isso que o computador faz! Ele informa que está aguardando instruções apresentando três divisas (>>>) ou um prompt numerado (In \\[1\\]: ). Basta digitar seus comandos e clicar em \\[Return\\] para o computador avaliá-los.\n",
    "\n",
    "Os programadores usam o REPL quando precisam “resolver as coisas”. É um pouco como um bloco de notas onde você “esboça” ideias e explora problemas. Por causa do feedback instantâneo que você recebe de um REPL, ele torna mais fácil improvisar, examinar e mergulhar no que o computador está fazendo.\n",
    "\n",
    "Embora todos os REPLs funcionem da mesma maneira, os recursos e capacidades do REPL serão diferentes dependendo de qual modo você estará usando. No entanto, existem dois comandos que funcionarão em todas as versões do REPL que são muioto úteis: `dir` e `help`.\n",
    "\n",
    "Nos dias de hoje (2020) existe mais comodidade para os programadores, como, por exemplo, esse ambiente que permite a apresentação simultânea de textos formatados com linguagem de marcação (tipo HTML) e linhas de códigos Python para ser executado dinamicamente. A característica mais importante dos cadernos Jupyter (*Jupyter Notebooks*) é que o usuário pode alterar o código de acordo com a sua imaginação e verificar o resultado, tudo isso sem abandonar o navegador (*browser*)."
   ]
  },
  {
   "cell_type": "markdown",
   "metadata": {},
   "source": [
    "### Modo Interativo "
   ]
  },
  {
   "cell_type": "markdown",
   "metadata": {},
   "source": [
    "O interpretador pode ser usado como uma simples calculadora: você pode digitar uma **expressão aritmética** e pressionar [*Enter*] para ver o valor calculado. A sintaxe da **expressão** é direta: os operadores artiméticos (<tt>+, -, *</tt> e <tt>/</tt>) funcionam como na maioria das outras linguagens (Pascal, Java ou C). Os parênteses, '(' e ')', são usados para alterar a hierarquia de resolução dos operadores. \n",
    "\n",
    "Nesse curso estamos utilizando um recurso conhecido como _`Jupyter Notebook`_ (caderno Jupyter) para apresentação e execução de textos, imagens, tabelas e códigos exemplos desse material didático. O projeto **Jupyter** visa fornecer um conjunto consistente de ferramentas para fluxos de trabalho de computação interativa em várias linguagens de programação. Os projetos Jupyter já são bem populares em todas as etapas de um projeto de pesquisa, desde a fase de exploração até a comunicação de resultados e ensino.\n",
    "\n",
    "<img src=\"img/jupyter.png\" width=300>\n",
    "     \n",
    "> O principal projeto Jupyter, o **Notebook**, e sua versão modernizada, o **JupyterLab** são aplicativos da web que permitem a criação de documentos, incluindo texto, código executável e visualizações interativas.<p></p>\n",
    "> O _kernel_ é a parte do _backend_ responsável pela execução do código escrito pelo usuário no aplicativo da web. Por exemplo, no caso de um Jupyter Notebook, a execução do código normalmente é feita pelo **ipykernel**, a implementação de referência.\n",
    "\n",
    "Os __cadernos Jupyter__ são compostos de células de três tipos possíveis: Markdown (linguagem de marcação), Código interpretável (geralmente em Python, mas pode ser em outras tantas linguagens) e Crua (_Raw_, conteúdo da célula não é traduzido numa conversão via NBConvert). As células de código são identificadas por um _prompt_ que exibe a sequência de execução dos códigos entre colchetes, enquanto que as demais não possuem _prompt_. As células Markdown são convertidas em _rich text_ no __modo comando__ (bordas azuis quando a célula está selecionada) e as células cruas não sofrem alteração naquele modo... O __modo de edição__ (bordas verdes quando a célula está selecionada) permite ao usuário criar ou alterar o conteúdo das células.\n",
    "\n",
    "<img src=\"img/modos.png\" width=500 height=400>"
   ]
  },
  {
   "cell_type": "markdown",
   "metadata": {},
   "source": [
    "Se você estiver interessado em seguir um tutorial de qualidade sobre a **linguagem Markdown**  então clique [aqui](http://www.markdowntutorial.com)."
   ]
  },
  {
   "cell_type": "markdown",
   "metadata": {},
   "source": [
    "### Usando o Caderno Jupyter:\n",
    "\n",
    "A célula seguinte é uma célula de código Python (veja o kernel selecionado, no canto superior direito dessa página, que executará os comandos desse caderno):"
   ]
  },
  {
   "cell_type": "code",
   "execution_count": null,
   "metadata": {
    "scrolled": false
   },
   "outputs": [],
   "source": [
    "2 + 3"
   ]
  },
  {
   "cell_type": "code",
   "execution_count": null,
   "metadata": {
    "scrolled": false
   },
   "outputs": [],
   "source": [
    "50 - 5 * 7 "
   ]
  },
  {
   "cell_type": "code",
   "execution_count": null,
   "metadata": {},
   "outputs": [],
   "source": [
    "(50 - 5*6)/2"
   ]
  },
  {
   "cell_type": "code",
   "execution_count": null,
   "metadata": {},
   "outputs": [],
   "source": [
    "print(int(8/5))        # divisão com operandos inteiros, retorna resultado inteiro (vs.2.7)\n",
    "\n",
    "print(8./5)            # divisão com pelo menos um operando real, retorna resultado real (vs.2.7)"
   ]
  },
  {
   "cell_type": "code",
   "execution_count": null,
   "metadata": {},
   "outputs": [],
   "source": [
    "5**2                   # 5 elevado ao quadrado"
   ]
  },
  {
   "cell_type": "code",
   "execution_count": null,
   "metadata": {},
   "outputs": [],
   "source": [
    "# Mostrando uma equação matemática numa célula de código\n",
    "from IPython.display import display, Math\n",
    "display(Math(r'\\sqrt{a^2 + b^2}'))         # formato LATEX\n",
    "c = 20"
   ]
  },
  {
   "cell_type": "markdown",
   "metadata": {},
   "source": [
    "Assim como na maioria das outras linguagens de programação, o sinal de igualdade '=' também é usado no Python para atribuir um valor a uma variável. Depois de uma atribuição nenhum resultado é exibido automaticamente:"
   ]
  },
  {
   "cell_type": "code",
   "execution_count": null,
   "metadata": {},
   "outputs": [],
   "source": [
    "# tipificação dinâmica\n",
    "a = 10 + c\n",
    "b = 5 * 9\n",
    "area = a * b\n",
    "print(area,'m2')\n",
    "print(type(a), type(b), type(area))\n",
    "a = \"ok\"\n",
    "print(type(a), type(b), type(area))"
   ]
  },
  {
   "cell_type": "code",
   "execution_count": null,
   "metadata": {},
   "outputs": [],
   "source": [
    "c = \"IFG - Ago/19 \"\n",
    "print(c)\n",
    "print(c + c)\n",
    "print(c * 4)\n",
    "\n",
    "# Exercício: mostre uma string com 'IFG' e seu nome com moldura em caracteres.\n",
    "d = \"IFG - Joiro\"\n",
    "print(len(d))\n",
    "hifens = len(d) + 4                # length: comprimento\n",
    "print(\"+\" + hifens * '-' + '+')\n",
    "print(\"| \", d, \" |\")\n",
    "print('+' + hifens*'-' + '+')"
   ]
  },
  {
   "cell_type": "markdown",
   "metadata": {},
   "source": [
    "Por ser uma linguagem de tipificação dinâmica de variáveis, no Python não existe declaração de variáveis, o interpretador assume o tipo de dado mais adequado ao se fazer uma atribuição à variável. Além disso, o tipo da variável pode mudar, no sentido que em determinado instante ela pode ter um valor de um certo tipo, e noutro instante, ela pode ter outro valor de um diferente tipo do anterior: como visto para a var. <tt>b</tt> nos dois trechos de códigos anteriores.\n",
    "\n",
    "Se uma variável não estiver **\"definida\"** (atribuída a algum valor), ao se tentar usá-la um erro será reportado pelo interpretador. \n",
    "\n",
    "Exemplo:"
   ]
  },
  {
   "cell_type": "code",
   "execution_count": 1,
   "metadata": {},
   "outputs": [
    {
     "ename": "NameError",
     "evalue": "name 'n' is not defined",
     "output_type": "error",
     "traceback": [
      "\u001b[1;31m---------------------------------------------------------------------------\u001b[0m",
      "\u001b[1;31mNameError\u001b[0m                                 Traceback (most recent call last)",
      "\u001b[1;32m<ipython-input-1-3dbd6c5b3eb1>\u001b[0m in \u001b[0;36m<module>\u001b[1;34m\u001b[0m\n\u001b[1;32m----> 1\u001b[1;33m \u001b[0mn\u001b[0m          \u001b[1;31m# tentativa de acessar uma variável não definida\u001b[0m\u001b[1;33m\u001b[0m\u001b[1;33m\u001b[0m\u001b[0m\n\u001b[0m",
      "\u001b[1;31mNameError\u001b[0m: name 'n' is not defined"
     ]
    }
   ],
   "source": [
    "n         # tentativa de acessar uma variável não definida"
   ]
  },
  {
   "cell_type": "markdown",
   "metadata": {},
   "source": [
    "Na versão 2.7 a saída de dados é feita pelo <b>comando <tt>print</tt></b>, enquanto que na versão 3.4, pela <b>função <tt>print()</tt></b>."
   ]
  },
  {
   "cell_type": "code",
   "execution_count": null,
   "metadata": {},
   "outputs": [],
   "source": [
    "print(\"Oi Pessoal!\",\"\\nTudo bem?\",40,22)     # versão 3.x\n",
    "# print \"Oi Pessoal!\",\"\\nTudo bem?\",40,22    # versão 2.x"
   ]
  },
  {
   "cell_type": "markdown",
   "metadata": {},
   "source": [
    "#### Palavras Chaves - Python 2.7\n",
    "<img src=\"img/palavraschave.png\" width=400 height=150><center>Fonte: https://www.programiz.com/python-programming/keyword-list</center>"
   ]
  },
  {
   "cell_type": "markdown",
   "metadata": {},
   "source": [
    "#### Palavras Chaves - Python 3.7 \n",
    "<img src=\"img/palavraschave3.7.png\"><center>Fonte: https://www.turbopython.com/2019/06/keywords-and-identifiers-in-python.html</center>\n",
    "\n",
    "Além de `False, None` e `True`, todas as outras 32 palavras-chave são escritas em minúsculas. Você deve usá-las como definidas, porque o **Python** faz distinção entre maiúsculas e minúsculas (_case-sensitive_).\n",
    "\n",
    "Para obter a lista de palavras-chave no Python, siga os seguintes passos:\n",
    "1. Abra um interpretador Python (_Python Shell_).\n",
    "2. Importe o módulo de palavra-chave usando `import keyword`.\n",
    "3. Mostre a lista de palavras-chave usando `keyword.kwlist`.\n",
    "ou \n",
    "4. Execute o comando `help(\"keywords\")`.\n",
    "\n",
    "Palavras-chave acrescentadas pela versão 3.7 em relação à versão 3.6: `async` e `await`.\n",
    "\n",
    "Se precisar de ajuda sobre as novas palavras-chave da versão 3.7 ou qual outra palavra-chave, digite: <p>`help(\"palavra-chave de interesse\")`."
   ]
  },
  {
   "cell_type": "code",
   "execution_count": 2,
   "metadata": {},
   "outputs": [
    {
     "name": "stdout",
     "output_type": "stream",
     "text": [
      "Coroutines\n",
      "**********\n",
      "\n",
      "New in version 3.5.\n",
      "\n",
      "\n",
      "Coroutine function definition\n",
      "=============================\n",
      "\n",
      "   async_funcdef ::= [decorators] \"async\" \"def\" funcname \"(\" [parameter_list] \")\"\n",
      "                     [\"->\" expression] \":\" suite\n",
      "\n",
      "Execution of Python coroutines can be suspended and resumed at many\n",
      "points (see *coroutine*).  Inside the body of a coroutine function,\n",
      "\"await\" and \"async\" identifiers become reserved keywords; \"await\"\n",
      "expressions, \"async for\" and \"async with\" can only be used in\n",
      "coroutine function bodies.\n",
      "\n",
      "Functions defined with \"async def\" syntax are always coroutine\n",
      "functions, even if they do not contain \"await\" or \"async\" keywords.\n",
      "\n",
      "It is a \"SyntaxError\" to use a \"yield from\" expression inside the body\n",
      "of a coroutine function.\n",
      "\n",
      "An example of a coroutine function:\n",
      "\n",
      "   async def func(param1, param2):\n",
      "       do_stuff()\n",
      "       await some_coroutine()\n",
      "\n",
      "\n",
      "The \"async for\" statement\n",
      "=========================\n",
      "\n",
      "   async_for_stmt ::= \"async\" for_stmt\n",
      "\n",
      "An *asynchronous iterable* is able to call asynchronous code in its\n",
      "*iter* implementation, and *asynchronous iterator* can call\n",
      "asynchronous code in its *next* method.\n",
      "\n",
      "The \"async for\" statement allows convenient iteration over\n",
      "asynchronous iterators.\n",
      "\n",
      "The following code:\n",
      "\n",
      "   async for TARGET in ITER:\n",
      "       SUITE\n",
      "   else:\n",
      "       SUITE2\n",
      "\n",
      "Is semantically equivalent to:\n",
      "\n",
      "   iter = (ITER)\n",
      "   iter = type(iter).__aiter__(iter)\n",
      "   running = True\n",
      "\n",
      "   while running:\n",
      "       try:\n",
      "           TARGET = await type(iter).__anext__(iter)\n",
      "       except StopAsyncIteration:\n",
      "           running = False\n",
      "       else:\n",
      "           SUITE\n",
      "   else:\n",
      "       SUITE2\n",
      "\n",
      "See also \"__aiter__()\" and \"__anext__()\" for details.\n",
      "\n",
      "It is a \"SyntaxError\" to use an \"async for\" statement outside the body\n",
      "of a coroutine function.\n",
      "\n",
      "\n",
      "The \"async with\" statement\n",
      "==========================\n",
      "\n",
      "   async_with_stmt ::= \"async\" with_stmt\n",
      "\n",
      "An *asynchronous context manager* is a *context manager* that is able\n",
      "to suspend execution in its *enter* and *exit* methods.\n",
      "\n",
      "The following code:\n",
      "\n",
      "   async with EXPRESSION as TARGET:\n",
      "       SUITE\n",
      "\n",
      "is semantically equivalent to:\n",
      "\n",
      "   manager = (EXPRESSION)\n",
      "   aexit = type(manager).__aexit__\n",
      "   aenter = type(manager).__aenter__\n",
      "   value = await aenter(manager)\n",
      "   hit_except = False\n",
      "\n",
      "   try:\n",
      "       TARGET = value\n",
      "       SUITE\n",
      "   except:\n",
      "       hit_except = True\n",
      "       if not await aexit(manager, *sys.exc_info()):\n",
      "           raise\n",
      "   finally:\n",
      "       if not hit_except:\n",
      "           await aexit(manager, None, None, None)\n",
      "\n",
      "See also \"__aenter__()\" and \"__aexit__()\" for details.\n",
      "\n",
      "It is a \"SyntaxError\" to use an \"async with\" statement outside the\n",
      "body of a coroutine function.\n",
      "\n",
      "See also:\n",
      "\n",
      "  **PEP 492** - Coroutines with async and await syntax\n",
      "     The proposal that made coroutines a proper standalone concept in\n",
      "     Python, and added supporting syntax.\n",
      "\n",
      "-[ Footnotes ]-\n",
      "\n",
      "[1] The exception is propagated to the invocation stack unless\n",
      "    there is a \"finally\" clause which happens to raise another\n",
      "    exception. That new exception causes the old one to be lost.\n",
      "\n",
      "[2] A string literal appearing as the first statement in the\n",
      "    function body is transformed into the function’s \"__doc__\"\n",
      "    attribute and therefore the function’s *docstring*.\n",
      "\n",
      "[3] A string literal appearing as the first statement in the class\n",
      "    body is transformed into the namespace’s \"__doc__\" item and\n",
      "    therefore the class’s *docstring*.\n",
      "\n"
     ]
    }
   ],
   "source": [
    "help(\"async\")"
   ]
  },
  {
   "cell_type": "code",
   "execution_count": null,
   "metadata": {},
   "outputs": [],
   "source": [
    "help(\"await\")"
   ]
  },
  {
   "cell_type": "code",
   "execution_count": null,
   "metadata": {
    "scrolled": true
   },
   "outputs": [],
   "source": [
    "from keyword import kwlist         # pacote de palavras-chave (keyword)\n",
    "print(kwlist)                      # keywords list Vs. 2.7.90"
   ]
  },
  {
   "cell_type": "code",
   "execution_count": null,
   "metadata": {},
   "outputs": [],
   "source": [
    "len(kwlist)"
   ]
  },
  {
   "cell_type": "code",
   "execution_count": 3,
   "metadata": {},
   "outputs": [
    {
     "name": "stdout",
     "output_type": "stream",
     "text": [
      "['False', 'None', 'True', 'and', 'as', 'assert', 'async', 'await', 'break', 'class', 'continue', 'def', 'del', 'elif', 'else', 'except', 'finally', 'for', 'from', 'global', 'if', 'import', 'in', 'is', 'lambda', 'nonlocal', 'not', 'or', 'pass', 'raise', 'return', 'try', 'while', 'with', 'yield']\n"
     ]
    }
   ],
   "source": [
    "import keyword                      # pacote de palavras-chave (keyword)\n",
    "print(keyword.kwlist)               # keywords list Vs. 3.7.2"
   ]
  },
  {
   "cell_type": "code",
   "execution_count": null,
   "metadata": {},
   "outputs": [],
   "source": [
    "len(keyword.kwlist)"
   ]
  },
  {
   "cell_type": "markdown",
   "metadata": {},
   "source": [
    "<hr>\n",
    "\n",
    "### Preparação do Ambiente\n",
    "Para rodar cadernos Jupyter (*Jupyter Notebooks*) é necessário ter instalado o interpretador Python, pois embora o **Jupyter** execute códigos em diversas linguagens de programação, o Python é pré-requisito (Python 3.3 ou superior, ou Python 2.7) para instalar o próprio **Jupyter Notebook**.\n",
    "\n",
    "### 1. Instalando o Interpretador Python Oficial\n",
    "Você pode instalar o interpretador Python OFICIAL em “qualquer” Sistema Operacional..., tais como Windows, Mac OS X, Linux/Unix, Solaris e outros. Para fazer a instalação do Python em seu Sistema Operacional, siga os seguintes passos:\n",
    "1. Acesse www.python.org/downloads/ para baixar o interpretador.\n",
    "\n",
    "<img src=\"img/winp1.png\">\n",
    "\n",
    "![image.png](img/winp2.png)\n",
    "\n",
    "![image.png](img/winp3.png)\n",
    "\n",
    "2. Este é o site oficial da linguagem Python. A página web detectará o sistema operacional instalado no seu computador, e recomendará a versão adequada a ser baixada. Como estou usando o Windows-64 no meu notebook, foram dadas as opções de download para Python-2 e Python-3 para Windows. Neste curso usaremos a versão 3.7 da ling. Python, portanto recomendo que você baixe a versão mais recente (à época da escrita desse texto era a versão Python 3.7.2 - ver figura anterior). \n",
    "3. As etapas de instalação são bem simples. Você só precisa escolher o diretório para instalação e clicar para avançar nas próximas etapas: botão \\[Next >\\].\n",
    "![image.png](img/winp4.png)"
   ]
  },
  {
   "cell_type": "markdown",
   "metadata": {},
   "source": [
    "### 2. Instalando o Jupyter via Anaconda\n",
    "É recomendável instalar o Python e o [Jupyter](https://jupyter.org/install) usando o **Anaconda Distribution**, que inclui o Python, o Jupyter Notebook e outros pacotes comumente usados na computação científica e ciência de dados. \n",
    "1. Baixe o Anaconda. Recomendamos o _download_ da versão mais recente do Python 3 do Anaconda. \n",
    "2. Instale a versão baixada do Anaconda, seguindo as instruções... \n",
    "Pronto, o Jupyter Notebook já está instalado! Para executar um _notebook_ digite o seguinte comando no terminal (Mac/Linux) ou no _prompt_ de comando (Windows):\n",
    "\n",
    "`jupyter notebook`\n",
    "\n",
    "### 3. Instalando o Jupyter com pip \n",
    "Como usuário experiente em Python, você pode instalar o Jupyter usando o gerenciador de pacotes do Python, `pip`, em vez do Anaconda. Se você tem o Python 3 instalado (recomendado): \n",
    "\n",
    "`python3 -m pip install --upgrade pip \n",
    " python3 -m pip install jupyter`\n",
    "\n",
    "Se você tem o Python 2 instalado: \n",
    "\n",
    "`python -m pip install --upgrade pip \n",
    " python -m pip install jupyter`\n",
    "\n",
    "### 4. \"Instalando\" o Jupyter via WinPython\n",
    "O WinPython é uma distribuição __portátil__ de código aberto da linguagem de programação Python para Windows XP/7/8, projetada para cientistas, suportando versões de 32 e 64 bits do Python 2 e Python 3. Desde setembro de 2014, o desenvolimento do projeto mudou para https://winpython.github.io/ \n",
    "\n",
    "Características do WinPython: \n",
    "- Projetado para usuários científicos regulares: processamento de dados interativo e visualização usando Python com Spyder \n",
    "- Projetado para usuários científicos avançados e desenvolvedores de software: desenvolvimento de aplicativos Python com Spyder, controle de versão com o Mercurial e outras ferramentas de desenvolvimento (como gettext, etc.) \n",
    "- Portátil: pré-configurado, ele deve rodar sem problemas em qualquer máquina Windows (sem qualquer requisito) e a pasta que contém o WinPython pode ser movida para qualquer dispositivo (HD local, rede ou unidade removível) com a maioria das configurações do aplicativo \n",
    "- Flexível: pode-se usar quantas versões do WinPython forem necessárias (como ambientes isolados e auto-consistentes), mesmo que elas executem versões diferentes do Python (2.7, 3.x) ou arquiteturas diferentes (32 ou 64 bits) na mesma máquina \n",
    "- Personalizável: O gerenciador de pacotes integrado (wppm - WinPython Package Manager) ajuda a instalar, desinstalar ou atualizar pacotes Python. Como o WPPM pode não suportar alguns pacotes, também é possível instalar ou atualizar pacotes usando \"easy_install\" ou \"pip\" no prompt de comando do WinPython. Um arquivo de configuração permite definir variáveis de ambiente em tempo de execução.\n",
    "\n",
    "#### Passos:\n",
    "- Download: acesse https://sourceforge.net/projects/winpython/ e clique o botão verde <Download>. Aguarde a finalização do download da versão mais recente do WinPython...\n",
    "- Descompactação: clique sobre o arquivo baixado e escolha o diretório em que será descompactado o arquivo-bolha do WinPython, e aguarde o final... e clique no botão <Finish>.\n",
    "- Execução: clique no ícone do programa Jupyter Notebook.exe para abrir um caderno, ou clique no ícone do programa Spyder.exe para abrir o IDE.\n",
    "\n",
    "|<img alt=\"ícone spyder\" src=\"img/spyder.png\" width=200> | ;) |<img alt=\"ícone notebook jupyter\" src=\"img/jupyter_notebook.png\" width=100>|\n",
    "| :-: | :-: | :-: |"
   ]
  },
  {
   "cell_type": "code",
   "execution_count": null,
   "metadata": {},
   "outputs": [],
   "source": [
    "%lsmagic"
   ]
  },
  {
   "cell_type": "code",
   "execution_count": null,
   "metadata": {},
   "outputs": [],
   "source": [
    "pip"
   ]
  },
  {
   "cell_type": "markdown",
   "metadata": {},
   "source": [
    "## Mais Núcleos...\n",
    "O Jupyter Notebook pode ter suas células de código (atalho de teclado para conversão: Y) executadas por diversas linguagens, tais como Python2, Python3, Octave etc...\n",
    "\n",
    "Supondo que vc instalou o Jupyter Notebook com o **WinPython** provavelmente o Python3 deve ter sido instalado automaticamente. Se vc quiser instalar o interpretador Python2 faça:\n",
    "1. Baixe a última versão 2.7 do Python no site oficial (www.python.org) - à epóca da elaboração desse documento, a última versão era a [2.7.16](https://www.python.org/downloads/release/python-2716/), de 04/03/2019. Escolha o arquivo de instalação específico para o Sistema Operacional da sua máquina. Para o MS-Windows baixe o arquivo `Windows x86-64 MSI installer`.\n",
    "2. Instale o arquivo descarregado.\n",
    "3. Acesse o diretório `Scripts` da versão instalada por vc... (Ex.: `E:\\python\\python-2.7.16\\Scripts`) e execute o seguinte comando: `pip install ipykernel`.\n",
    "4. Acesse o diretório `Lib/Site-packages` da versão instalada por vc... (Ex.: `E:\\python\\python-2.7.16\\Lib\\site-packages` e execute o seguinte comando: `..\\..\\python ipykernel install --user`. O resultado deve ser: \n",
    "      `Installed kernelspec python2 in C:\\Users\\usuario\\AppData\\Roaming\\jupyter\\kernels\\python2`.\n",
    "\n",
    "Supondo que vc instalou o Jupyter Notebook com o **Anaconda** provavelmente o Python3 deve ter sido instalado automaticamente. Se vc quiser instalar o interpretador Python2 faça:\n",
    "1. Baixe a última versão 2.7 do Python no site oficial (www.python.org) - à epóca da elaboração desse documento, a última versão era a [2.7.16](https://www.python.org/downloads/release/python-2716/), de 04/03/2019. Escolha o arquivo de instalação específico para o Sistema Operacional da sua máquina. Para o MS-Windows baixe o arquivo `Windows x86-64 MSI installer`.\n",
    "2. Instale o arquivo descarregado.\n",
    "3. Execute os seguintes comandos: \n",
    "        conda create -n ipykernel_py2 python=2 ipykernel\n",
    "        source activate ipykernel_py2                     # no Windows, remova a palavra 'source'\n",
    "        python -m ipykernel install --user"
   ]
  },
  {
   "cell_type": "markdown",
   "metadata": {},
   "source": [
    "## Linguagem Markdown para Cadernos Jupyter \n",
    "\n",
    "#### <font color=red>Cabeçalhos</font>\n",
    "Use caracteres '#' seguidos por espaço em branco para criar títulos de cadernos e cabeçalhos de seção. Exemplos: "
   ]
  },
  {
   "cell_type": "raw",
   "metadata": {},
   "source": [
    "# <font color=blue>Títulos \n",
    "## <font color=green>Cabeçalho de Seção \n",
    "### <font color=green>Subcabeçalhos \n",
    "#### <font color=green>Subtítulos de nível</font>"
   ]
  },
  {
   "cell_type": "markdown",
   "metadata": {},
   "source": [
    "# <font color=blue>Títulos \n",
    "## <font color=green>Cabeçalho de Seção \n",
    "### <font color=green>Subcabeçalhos \n",
    "#### <font color=green>Subtítulos de nível</font>\n",
    "\n",
    "#### <font color=red>Ênfases em Texto</font>\n",
    "Para __negrito__, use este código: \\_\\_string\\_\\_ ou \\*\\*string\\*\\*  \n",
    "Para _Itálico_, use este código: \\_string\\_ ou \\*string\\*  \n",
    "Para ~~tachado~~, use este código: \\~\\~string\\~\\~  \n",
    "Para <tt>fonte monoespaçada</tt>, use a tag: \\< tt\\>string\\< \\/tt\\>  \n",
    "\n",
    "#### <font color=red>Símbolos matemáticos</font>"
   ]
  },
  {
   "cell_type": "raw",
   "metadata": {},
   "source": [
    "Use este código: $ símbolos\\;matemáticos: \\theta = \\sqrt2 $"
   ]
  },
  {
   "cell_type": "markdown",
   "metadata": {},
   "source": [
    "$ símbolos\\;matemáticos: \\theta = \\sqrt2 $"
   ]
  },
  {
   "cell_type": "markdown",
   "metadata": {},
   "source": [
    "`Fonte monoespaçada e cor de fundo diferente`, coloque o texto entre crases: \\`string\\`  \n",
    "Use monoespaçamento para o caminho do arquivo, nomes de arquivos, entradas de texto do usuário e comandos/funções."
   ]
  },
  {
   "cell_type": "markdown",
   "metadata": {},
   "source": [
    "#### <font color=red>Quebras de linha</font>\n",
    "Às vezes, a marcação não faz quebras de linha quando você as deseja. Use 2 espaços ou a tag \\<br\\> para uma quebra de linha manual.\n",
    "\n",
    "#### <font color=red>Escape para os seguintes caracteres com a barra invertida</font>:\n",
    "|Caracter|  Descrição| <tt>Sequência de Caracteres</tt> |\n",
    "|:---:|:---:|:---|\n",
    "|\\\\|  contra barra (barra inversa)| <tt>\\\\\\\\</tt> |\n",
    "|\\`| crase | <tt>\\\\\\`</tt>|\n",
    "|\\*| asterisco  |  \\\\\\* |\n",
    "|\\_ |  sublinhado | \\\\_ |\n",
    "|\\{ \\} | chaves  | \\\\{  \\\\} |\n",
    "|\\[ \\] |  colchetes  | \\\\[  \\\\]\n",
    "|\\( \\) | parênteses | \\\\(  \\\\) \n",
    "|\\# |  sinal hash | \\\\#\n",
    "|\\+ |  sinal mais |  \\\\+ \n",
    "|\\- |  sinal menos (hífen) | \\\\-\n",
    "|\\. |  ponto  | \\\\.\n",
    "|\\! |  sinal de exclamação | \\\\!\n",
    "| $ |  cifrão  | \\\\ \\$"
   ]
  },
  {
   "cell_type": "markdown",
   "metadata": {},
   "source": [
    "#### <font color=red>Cores</font>"
   ]
  },
  {
   "cell_type": "raw",
   "metadata": {},
   "source": [
    "Use este código: <font color=blue|red|green|pink|yellow> Texto </font>  "
   ]
  },
  {
   "cell_type": "markdown",
   "metadata": {},
   "source": [
    "Nem todo código _markdown_ funciona dentro de uma _tag_ de fonte, portanto, revise seu texto colorido com cuidado! \n",
    "\n",
    "#### <font color=red>Recuo para citação</font>\n",
    "Use um sinal maior que (\\>) e, em seguida, um espaço e digite o texto. O texto é recuado e tem uma linha horizontal cinza à esquerda até o retorno do próximo carro.  "
   ]
  },
  {
   "cell_type": "raw",
   "metadata": {},
   "source": [
    "> Exemplo de recuo:"
   ]
  },
  {
   "cell_type": "markdown",
   "metadata": {},
   "source": [
    "> Exemplo de recuo"
   ]
  },
  {
   "cell_type": "markdown",
   "metadata": {},
   "source": [
    "#### <font color=red>Marcadores</font>\n",
    "Use o sinal de menos (-) com um espaço depois, ou um espaço, um traço e um espaço, para criar um marcador circular. Para criar um sub-marcador, use uma tabulação seguida de um traço e um espaço. Você também pode usar um asterisco em vez de um traço."
   ]
  },
  {
   "cell_type": "raw",
   "metadata": {},
   "source": [
    "- Marcador\n",
    "    - Sub-marcador"
   ]
  },
  {
   "cell_type": "markdown",
   "metadata": {},
   "source": [
    "- Marcador\n",
    "    - Sub-marcador"
   ]
  },
  {
   "cell_type": "markdown",
   "metadata": {},
   "source": [
    "#### <font color=red>Listas Numeradas</font>\n",
    "Comece com 1. seguido de um espaço e, em seguida, começa a numeração automática para você. Comece cada linha com algum número e um período, depois um espaço. Use tabulação para aumentar o recuo e obter subnumeração."
   ]
  },
  {
   "cell_type": "raw",
   "metadata": {},
   "source": [
    "1. Numeração\n",
    "    1. Sub-numeração\n",
    "    2. Outra\n",
    "4. Mais uma"
   ]
  },
  {
   "cell_type": "markdown",
   "metadata": {},
   "source": [
    "1. Numeração\n",
    "    1. Sub-numeração\n",
    "    2. Outra\n",
    "4. Mais uma"
   ]
  },
  {
   "cell_type": "markdown",
   "metadata": {},
   "source": [
    "#### <font color=red>Imagem</font>\n",
    "Você pode anexar arquivos de imagem diretamente a um notebook somente em células Markdown:  arraste e solte suas imagens na célula do Markdown para anexá-lo ao notebook. Para adicionar imagens a outros tipos de células, você pode usar apenas gráficos hospedados na web. Você não pode adicionar legendas para gráficos no momento. \n",
    "Use este código: "
   ]
  },
  {
   "cell_type": "raw",
   "metadata": {},
   "source": [
    "<img src=\"img/logo_mkdw.png\" alt=\"Texto alternativo que descreve a imagem\" width=150 title=\"título\">"
   ]
  },
  {
   "cell_type": "markdown",
   "metadata": {},
   "source": [
    "<img src = \"img/logo_mkdw.png\" alt = \"Texto alternativo que descreve a imagem\" title = \"título\" width=150 />"
   ]
  },
  {
   "cell_type": "raw",
   "metadata": {},
   "source": [
    "#### Outra forma:\n",
    "- Estilo em linha: \n",
    "\n",
    "![texto alternativo](https://github.com/adam-p/markdown-here/raw/master/src/common/images/icon48.png \"Texto do título do logotipo 1\") \n",
    "\n",
    "- Estilo de referência: \n",
    "\n",
    "![texto alternativo][logo] \n",
    "\n",
    "[logo]: https://github.com/adam-p/markdown-here/raw/master/src/common/images/icon48.png \"Texto do título do logotipo 2\""
   ]
  },
  {
   "cell_type": "markdown",
   "metadata": {},
   "source": [
    "#### Outra forma:\n",
    "- Estilo em linha: \n",
    "\n",
    "![texto alternativo](https://github.com/adam-p/markdown-here/raw/master/src/common/images/icon48.png \"Texto do título do logotipo 1\") \n",
    "\n",
    "- Estilo de referência: \n",
    "\n",
    "![texto alternativo][logo] \n",
    "\n",
    "[logo]: https://github.com/adam-p/markdown-here/raw/master/src/common/images/icon48.png \"Texto do título do logotipo 2\""
   ]
  },
  {
   "cell_type": "markdown",
   "metadata": {},
   "source": [
    "#### <font color=red>Linha Horizontal</font>\n",
    "Três alternativas:\n",
    "1. Use três asteriscos: ***  \n",
    "2. Use \\< hr \\>.\n",
    "3. Use três hífens: ---\n",
    "---"
   ]
  },
  {
   "cell_type": "markdown",
   "metadata": {},
   "source": [
    "#### <font color=red>Link Interno</font>"
   ]
  },
  {
   "cell_type": "raw",
   "metadata": {},
   "source": [
    "Para vincular a uma seção, use este código: [título da seção](#link-secao) "
   ]
  },
  {
   "cell_type": "markdown",
   "metadata": {},
   "source": [
    "Para o texto entre parênteses, substitua espaços e caracteres especiais por hífen. Certifique-se de testar todos os links! Alternativamente, você pode adicionar um ID para uma seção logo acima do título da seção. "
   ]
  },
  {
   "cell_type": "raw",
   "metadata": {},
   "source": [
    "Use este código: <a id=\"ID_secao\"> </a> "
   ]
  },
  {
   "cell_type": "markdown",
   "metadata": {},
   "source": [
    "Certifique-se de que ID_secao seja exclusivo no notebook. \n",
    "Use este código para o link e certifique-se de testar todos os links! "
   ]
  },
  {
   "cell_type": "raw",
   "metadata": {},
   "source": [
    "[título da seção](#ID_secao)"
   ]
  },
  {
   "cell_type": "markdown",
   "metadata": {},
   "source": [
    "[título da seção](#ID_secao)"
   ]
  },
  {
   "cell_type": "markdown",
   "metadata": {},
   "source": [
    "#### <font color=red>Link Externo</font>"
   ]
  },
  {
   "cell_type": "raw",
   "metadata": {},
   "source": [
    "Use este código e teste todos os links! [Texto do link](http://url)"
   ]
  },
  {
   "cell_type": "markdown",
   "metadata": {},
   "source": [
    "[Texto do link](https://medium.com/ibm-data-science-experience/markdown-for-jupyter-notebooks-cheatsheet-386c05aeebed)"
   ]
  },
  {
   "cell_type": "markdown",
   "metadata": {},
   "source": [
    "#### <font color=red>Outras formas de Link</font>\n",
    "\n",
    "[Sou um link no estilo inline](https://www.google.com) \n",
    "\n",
    "[Sou um link no estilo referência](https://www.mozilla.org)\n",
    "\n",
    "[Você pode usar números para definições de links no estilo referência][1]  \n",
    "Ou deixe em branco e use o [texto do próprio link]  \n",
    "\n",
    "URLs e URLs em colchetes serão automaticamente transformados em links. \n",
    "http://www.example.com ou <http://www.example.com> e às vezes example.com (mas não no Github, por exemplo). \n",
    "\n",
    "Algum texto para mostrar que os links de referência podem aparecer mais tarde.   \n",
    "[texto de referência arbitrário, sem distinção entre maiúsculas e minúsculas]:  https://www.mozilla.org  \n",
    "\n",
    "[1] : http://slashdot.org  \n",
    "\n",
    "[texto do próprio link]: http://www.reddit.com  "
   ]
  },
  {
   "cell_type": "markdown",
   "metadata": {},
   "source": [
    "#### <font color=red>Código e Realce de Sintaxe</font>\n",
    "Os blocos de código fazem parte da especificação do Markdown, mas o realce de sintaxe não. No entanto, muitos renderizadores - como o Github e o Markdown Here - suportam realce de sintaxe. O Markdown Here suporta o destaque para dezenas de linguagens (e até de descrições não-linguagens, como diffs e cabeçalhos HTTP); para ver a lista completa e como escrever os nomes dos idiomas, veja a página de demonstração do [highlight.js](http://softwaremaniacs.org/media/soft/highlight/test.html).\n",
    "\n",
    "<tt>Código em linha (inline) tem crases (três) na abertura e outras (tres) no fechamento.</tt>\n",
    "\n",
    "Blocos de código são delimitados por linhas com três marcações, ou são recuadas com quatro espaços. Recomenda-se usar somente os blocos de códigos delimitados - eles são mais fáceis e somente eles suportam realce de sintaxe.\n",
    "\n",
    "Exemplos:"
   ]
  },
  {
   "cell_type": "raw",
   "metadata": {},
   "source": [
    "```javascript\n",
    "var s = \"JavaScript syntax highlighting\";\n",
    "alert(s);\n",
    "```\n",
    " \n",
    "```python\n",
    "s = \"Python syntax highlighting\"\n",
    "print s\n",
    "```\n",
    " \n",
    "```\n",
    "Nenhuma linguagem foi indicada, então nenhum realce de sintaxe acontecerá. \n",
    "Mas vamos colocar uma <b>tag</b>.\n",
    "```"
   ]
  },
  {
   "cell_type": "markdown",
   "metadata": {},
   "source": [
    "```javascript\n",
    "var s = \"JavaScript syntax highlighting\";\n",
    "alert(s);\n",
    "```\n",
    " \n",
    "```python\n",
    "s = \"Python syntax highlighting\"\n",
    "print s\n",
    "```\n",
    " \n",
    "```\n",
    "Nenhuma linguagem foi indicada, então nenhum realce de sintaxe acontecerá. \n",
    "Mas vamos colocar uma <b>tag</b>.\n",
    "```"
   ]
  },
  {
   "cell_type": "code",
   "execution_count": null,
   "metadata": {},
   "outputs": [],
   "source": [
    "%%html\n",
    "<!-- Configuração para Tabelas -->\n",
    "<style>\n",
    "table td, table th, table tr {text-align:left !important; float:center}\n",
    "</style>"
   ]
  },
  {
   "cell_type": "markdown",
   "metadata": {},
   "source": [
    "#### <font color=red>Tabelas</font>\n",
    "As tabelas não fazem parte da especificação principal do Markdown, mas fazem parte do __GFM__ (_Github Flavored Markdown_) e o _Markdown Here_. Eles são uma maneira fácil de adicionar tabelas ao seu e-mail - uma tarefa que, de outra forma, exigiria copiar e colar de outro aplicativo.\n",
    "\n",
    "Dois pontos ':' podem ser usados para alinhar colunas.\n",
    "\n",
    "| Tabelas | são |  legais |  \n",
    "|---------|:---:| ------: |  \n",
    "| col 3 é | alinhada à direita | US$ 1600 |  \n",
    "| col 2 é | centrada | US\\$ 12  |  \n",
    "| col 1 é | alinhada à esquerda | US\\$ 1 |  \n",
    "\n",
    "As traves externas (|) são opcionais e você não precisa deixar a linha bem alinhada. Você também pode usar o Markdown em linha. \n",
    "\n",
    "Markdown | Menos | Bonita\n",
    "--- | --- | --- \n",
    "* Ainda * | `renders` | **agradável** \n",
    "1 | 2 | 3"
   ]
  },
  {
   "cell_type": "markdown",
   "metadata": {},
   "source": [
    "#### <font color=red>Fórmulas Matemáticas TeX</font> \n",
    "Uma descrição completa dos símbolos matemáticos do TeX está além do escopo deste notebook. Aqui está uma boa [referência](https://en.wikibooks.org/wiki/LaTeX/Mathematics), e você pode experimentar no [CodeCogs](https://www.codecogs.com/latex/eqneditor.php). Aqui estão alguns exemplos para experimentar:"
   ]
  },
  {
   "cell_type": "raw",
   "metadata": {},
   "source": [
    "$-b \\pm \\sqrt{b^2 - 4ac} \\over 2a$  \n",
    "$x = a_0 + \\frac{1}{a_1 + \\frac{1}{a_2 + \\frac{1}{a_3 + a_4}}}$  \n",
    "$\\forall x \\in X, \\quad \\exists y \\leq \\epsilon$  "
   ]
  },
  {
   "cell_type": "markdown",
   "metadata": {},
   "source": [
    "$-b \\pm \\sqrt{b^2 - 4ac} \\over 2a$  \n",
    "\n",
    "$x = a_0 + \\frac{1}{a_1 + \\frac{1}{a_2 + \\frac{1}{a_3 + a_4}}}$  \n",
    "\n",
    "$\\forall x \\in X, \\quad \\exists y \\leq \\epsilon$  "
   ]
  },
  {
   "cell_type": "markdown",
   "metadata": {},
   "source": [
    "Os sinais de cifrão inicial e final ($) são os delimitadores da marcação TeX."
   ]
  },
  {
   "cell_type": "markdown",
   "metadata": {
    "collapsed": true
   },
   "source": [
    "Fontes:\n",
    "1. https://www.datacamp.com/community/tutorials/tutorial-jupyter-notebook##UseJupyter\n",
    "2. https://www.turbopython.com/2019/06/keywords-and-identifiers-in-python.html\n",
    "3. https://ipython.readthedocs.io/en/latest/install/kernel_install.html#kernels-for-python-2-and-3\n",
    "4. https://medium.com/ibm-data-science-experience/markdown-for-jupyter-notebooks-cheatsheet-386c05aeebed\n",
    "5. https://codewith.mu/en/tutorials/1.0/repl\n"
   ]
  }
 ],
 "metadata": {
  "kernelspec": {
   "display_name": "Python 3",
   "language": "python",
   "name": "python3"
  },
  "language_info": {
   "codemirror_mode": {
    "name": "ipython",
    "version": 3
   },
   "file_extension": ".py",
   "mimetype": "text/x-python",
   "name": "python",
   "nbconvert_exporter": "python",
   "pygments_lexer": "ipython3",
   "version": "3.8.3"
  }
 },
 "nbformat": 4,
 "nbformat_minor": 2
}
