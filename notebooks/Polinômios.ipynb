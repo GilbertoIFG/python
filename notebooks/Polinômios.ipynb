{
 "cells": [
  {
   "cell_type": "markdown",
   "metadata": {},
   "source": [
    "# Polinômios em Python"
   ]
  },
  {
   "cell_type": "markdown",
   "metadata": {},
   "source": [
    "## Usando os pacotes Numpy ou Scipy"
   ]
  },
  {
   "cell_type": "markdown",
   "metadata": {},
   "source": [
    "<img src=\"Polinômios\\Slide1.PNG\"; width=500>"
   ]
  },
  {
   "cell_type": "markdown",
   "metadata": {
    "deletable": true,
    "editable": true
   },
   "source": [
    "<img src=\"Polinômios\\Slide2.PNG\"; width=500>"
   ]
  },
  {
   "cell_type": "markdown",
   "metadata": {
    "deletable": true,
    "editable": true
   },
   "source": [
    "<img src=\"Polinômios\\Slide3.PNG\"; width=500>"
   ]
  },
  {
   "cell_type": "markdown",
   "metadata": {
    "deletable": true,
    "editable": true
   },
   "source": [
    "<img src=\"Polinômios\\Slide4.PNG\"; width=500>"
   ]
  },
  {
   "cell_type": "markdown",
   "metadata": {
    "deletable": true,
    "editable": true
   },
   "source": [
    "<div style=\"width: 500px; height: 210px; overflow: hidden\">\n",
    "<img src=\"Polinômios\\Slide5.PNG\"; style=\"vertical-align:middle\"; align=\"middle\"; float=\"right\">"
   ]
  },
  {
   "cell_type": "code",
   "execution_count": 2,
   "metadata": {
    "collapsed": false,
    "scrolled": true
   },
   "outputs": [
    {
     "name": "stdout",
     "output_type": "stream",
     "text": [
      "     4     2\n",
      "0.2 x + 3 x - 7 x + 5\n"
     ]
    }
   ],
   "source": [
    "from scipy import poly1d\n",
    "print poly1d([0.2,0,3,-7,5])"
   ]
  },
  {
   "cell_type": "markdown",
   "metadata": {
    "deletable": true,
    "editable": true
   },
   "source": [
    "<div style=\"width: 500px; height: 410px; overflow: hidden\">\n",
    "<img src=\"Polinômios\\Slide6.PNG\"; style=\"vertical-align:middle\"; align=\"middle\"; float=\"right\">"
   ]
  },
  {
   "cell_type": "code",
   "execution_count": 9,
   "metadata": {
    "collapsed": false
   },
   "outputs": [
    {
     "name": "stdout",
     "output_type": "stream",
     "text": [
      "1\n"
     ]
    },
    {
     "data": {
      "text/plain": [
       "array([-4, -3, -2, -1,  0])"
      ]
     },
     "execution_count": 9,
     "metadata": {},
     "output_type": "execute_result"
    }
   ],
   "source": [
    "from scipy import poly1d, linspace\n",
    "p = poly1d([1,-2])\n",
    "print p(3)\n",
    "p([-2,-1,0,1,2])"
   ]
  },
  {
   "cell_type": "code",
   "execution_count": 11,
   "metadata": {
    "collapsed": false,
    "deletable": true,
    "editable": true,
    "scrolled": true
   },
   "outputs": [
    {
     "name": "stdout",
     "output_type": "stream",
     "text": [
      "[-2. -1.  0.  1.  2.] [-4. -3. -2. -1.  0.]\n"
     ]
    }
   ],
   "source": [
    "x = linspace(-2,2,5)\n",
    "print x, p(x)"
   ]
  },
  {
   "cell_type": "markdown",
   "metadata": {
    "deletable": true,
    "editable": true
   },
   "source": [
    "<div style=\"width: 500px; height: 350px; overflow: hidden\">\n",
    "<img src=\"Polinômios\\Slide7.PNG\"; style=\"vertical-align:middle\"; align=\"middle\"; float=\"right\">"
   ]
  },
  {
   "cell_type": "markdown",
   "metadata": {
    "deletable": true,
    "editable": true
   },
   "source": [
    "<div style=\"width: 500px; height: 350px; overflow: hidden\">\n",
    "<img src=\"Polinômios\\Slide8.PNG\"; style=\"vertical-align:middle\"; align=\"middle\"; float=\"right\">"
   ]
  },
  {
   "cell_type": "markdown",
   "metadata": {
    "deletable": true,
    "editable": true
   },
   "source": [
    "<div style=\"width: 500px; height: 320px; overflow: hidden\">\n",
    "<img src=\"Polinômios\\Slide9.PNG\"; style=\"vertical-align:middle\"; align=\"middle\"; float=\"right\">"
   ]
  },
  {
   "cell_type": "markdown",
   "metadata": {
    "deletable": true,
    "editable": true
   },
   "source": [
    "<div style=\"width: 500px; height: 350px; overflow: hidden\">\n",
    "<img src=\"Polinômios\\Slide10.PNG\"; style=\"vertical-align:middle\"; align=\"middle\"; float=\"right\">"
   ]
  },
  {
   "cell_type": "markdown",
   "metadata": {
    "deletable": true,
    "editable": true
   },
   "source": [
    "<div style=\"width: 500px; height: 350px; overflow: hidden\">\n",
    "<img src=\"Polinômios\\Slide11.PNG\"; style=\"vertical-align:middle\"; align=\"middle\"; float=\"right\">"
   ]
  },
  {
   "cell_type": "markdown",
   "metadata": {
    "deletable": true,
    "editable": true
   },
   "source": [
    "<div style=\"width: 500px; height: 350px; overflow: hidden\">\n",
    "<img src=\"Polinômios\\Slide12.PNG\"; style=\"vertical-align:middle\"; align=\"middle\"; float=\"right\">"
   ]
  },
  {
   "cell_type": "markdown",
   "metadata": {
    "deletable": true,
    "editable": true
   },
   "source": [
    "<div style=\"width: 500px; height: 350px; overflow: hidden\">\n",
    "<img src=\"Polinômios\\Slide13.PNG\"; style=\"vertical-align:middle\"; align=\"middle\"; float=\"right\">"
   ]
  },
  {
   "cell_type": "code",
   "execution_count": null,
   "metadata": {
    "collapsed": true,
    "deletable": true,
    "editable": true
   },
   "outputs": [],
   "source": []
  }
 ],
 "metadata": {
  "kernelspec": {
   "display_name": "Python 2",
   "language": "python",
   "name": "python2"
  },
  "language_info": {
   "codemirror_mode": {
    "name": "ipython",
    "version": 2
   },
   "file_extension": ".py",
   "mimetype": "text/x-python",
   "name": "python",
   "nbconvert_exporter": "python",
   "pygments_lexer": "ipython2",
   "version": "2.7.9"
  }
 },
 "nbformat": 4,
 "nbformat_minor": 2
}
