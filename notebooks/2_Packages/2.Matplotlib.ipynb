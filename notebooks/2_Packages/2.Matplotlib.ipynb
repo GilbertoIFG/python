{
 "cells": [
  {
   "cell_type": "markdown",
   "metadata": {
    "slideshow": {
     "slide_type": "slide"
    },
    "tags": [
     "0."
    ]
   },
   "source": [
    "<a id=\"topo\"></a>\n",
    "# Matplotlib\n",
    "(documentação oficial: https://matplotlib.org/3.1.0/contents.html)\n",
    "\n",
    "<img src='img/matplotlib.png' width=400>\n",
    "\n",
    "- <a href=\"#1\">Introdução</a>\n",
    "- <a href=\"#2\">Gráficos Simples</a>\n",
    "- <a href=\"#3\">Figuras, Subgráficos, Eixos e Marcas de Eixo (ticks)</a>\n",
    "- <a href=\"#4\">Outros tipos de Gráficos</a> \n",
    "- <a href=\"#5\">Depois dessa Introdução...</a>\n",
    "- <a href=\"#6\">Referências Rápidas</a>\n",
    "\n",
    "<a id=\"1\"></a>\n",
    "## Introdução\n",
    "Matplotlib é uma excelente biblioteca para traçado de gráficos de dados científicos em 2D e 3D. Algumas vantagens desta biblioteca:\n",
    "- Facilidade de uso e apresentação de dados em forma gráfica;\n",
    "- Tem suporte a etiquetas e textos formatados em LaTeX;\n",
    "- Pode-se controlar todos os elementos da figura, incluindo tamanho e DPI ;\n",
    "- Saída de alta qualidade em vários formatos, incluindo PNG, PDF, SVG, EPS; \n",
    "- GUI para explorar figuras de modo interativo, e suporte à geração de arquivos de figuras sem cabeçalhos (útil para trabalhos com scripts de lotes de comandos - batch). \n",
    "\n",
    "Uma das principais características do pacote **Matplotlib** é que todos os aspectos da figura podem ser controlados via programação (ou seja, sem precisar usar a GUI). Isso é importante para a reprodutibilidade, e conveniente quando é necessário gerar novamente a figura com dados atualizados ou alterar sua aparência. \n",
    "\n",
    "Visite a [Galeria de Gráficos](http://matplotlib.org/gallery.html) para ver uma diversidade de gráficos gerados por essa biblioteca.\n",
    "\n",
    "O **Matplotlib** é incluído automaticamente como parte do espaço de nomes do **pylab** interativo, mas se você precisar importá-lo em seu próprio _namespace_ (por exemplo, num _script_ ou módulo não interativo),  assim como usamos a abreviação `np` para **NumPy** e `pd` para **Pandas**, usaremos a abreviação costumeira, `plt`, para a importação do pacote **Matplotlib**."
   ]
  },
  {
   "cell_type": "markdown",
   "metadata": {},
   "source": [
    "### Série de Fibonacci \n",
    "Modelo para criação de coelhos a partir de um casal desses animais."
   ]
  },
  {
   "cell_type": "code",
   "execution_count": 1,
   "metadata": {
    "slideshow": {
     "slide_type": "slide"
    },
    "tags": [
     "0."
    ]
   },
   "outputs": [
    {
     "data": {
      "image/png": "[encoded data removed]",
      "text/plain": [
       "<Figure size 432x288 with 1 Axes>"
      ]
     },
     "metadata": {
      "needs_background": "light"
     },
     "output_type": "display_data"
    }
   ],
   "source": [
    "import matplotlib.pyplot as plt\n",
    "import numpy as np\n",
    "\n",
    "def fibonacci(n):\n",
    "  seq = np.zeros(n)\n",
    "  seq[1] = 1\n",
    "  for i in range(2,n):\n",
    "    seq[i] = seq[i-1] + seq[i-2]\n",
    "  return seq\n",
    "\n",
    "plt.plot(fibonacci(10),lw=3)\n",
    "plt.bar(range(10),fibonacci(10))\n",
    "plt.show()"
   ]
  },
  {
   "cell_type": "markdown",
   "metadata": {},
   "source": [
    "Podemos usar uma célula mágica para dizer ao *Jupyter* que queremos ver os gráficos no próprio notebook (*inline*)."
   ]
  },
  {
   "cell_type": "code",
   "execution_count": 2,
   "metadata": {},
   "outputs": [],
   "source": [
    "%matplotlib inline"
   ]
  },
  {
   "cell_type": "markdown",
   "metadata": {},
   "source": [
    "Podemos capturar a saída de um comando mágico e atribuí-la a uma variável, tal como:"
   ]
  },
  {
   "cell_type": "code",
   "execution_count": 6,
   "metadata": {
    "scrolled": true
   },
   "outputs": [
    {
     "name": "stdout",
     "output_type": "stream",
     "text": [
      "The sql extension is already loaded. To reload it, use:\n",
      "  %reload_ext sql\n"
     ]
    }
   ],
   "source": [
    "%load_ext sql\n",
    "%sql sqlite://"
   ]
  },
  {
   "cell_type": "code",
   "execution_count": 7,
   "metadata": {},
   "outputs": [
    {
     "name": "stdout",
     "output_type": "stream",
     "text": [
      " * sqlite://\n",
      "Done.\n",
      "Done.\n",
      "1 rows affected.\n",
      "1 rows affected.\n",
      "1 rows affected.\n",
      "1 rows affected.\n"
     ]
    },
    {
     "data": {
      "text/plain": [
       "[]"
      ]
     },
     "execution_count": 7,
     "metadata": {},
     "output_type": "execute_result"
    }
   ],
   "source": [
    "%%sql\n",
    "DROP TABLE IF EXISTS futebol;\n",
    "CREATE TABLE futebol (\"Time\",\"Brasileiro\",\"Copa do Brasil\",\"Supercopa\",\"Libertadores\",\"Sulamericana\");\n",
    "INSERT INTO futebol VALUES (\"Flamengo\",6,3,3,2,1);\n",
    "INSERT INTO futebol VALUES (\"São Paulo\",6,0,0,3,3);\n",
    "INSERT INTO futebol VALUES (\"Santos\",8,1,0,3,1);\n",
    "INSERT INTO futebol VALUES (\"Cruzeiro\",4,6,0,2,2);"
   ]
  },
  {
   "cell_type": "code",
   "execution_count": 12,
   "metadata": {},
   "outputs": [
    {
     "name": "stdout",
     "output_type": "stream",
     "text": [
      " * sqlite://\n",
      "Done.\n"
     ]
    },
    {
     "data": {
      "image/png": "[encoded data removed]",
      "text/plain": [
       "<Figure size 432x288 with 1 Axes>"
      ]
     },
     "metadata": {},
     "output_type": "display_data"
    }
   ],
   "source": [
    "campeoes = %sql SELECT \"Time\",\"Libertadores\" FROM futebol\n",
    "campeoes.pie();"
   ]
  },
  {
   "cell_type": "markdown",
   "metadata": {},
   "source": [
    "#### Suprimindo a Saída Final de uma Função"
   ]
  },
  {
   "cell_type": "code",
   "execution_count": 5,
   "metadata": {},
   "outputs": [],
   "source": [
    "%matplotlib inline\n",
    "from matplotlib import pyplot as plt\n",
    "import numpy as np\n",
    "x = np.linspace(0, 1, 1000)**1.5"
   ]
  },
  {
   "cell_type": "code",
   "execution_count": 6,
   "metadata": {},
   "outputs": [
    {
     "data": {
      "text/plain": [
       "(array([216., 126., 106.,  95.,  87.,  81.,  77.,  73.,  71.,  68.]),\n",
       " array([0. , 0.1, 0.2, 0.3, 0.4, 0.5, 0.6, 0.7, 0.8, 0.9, 1. ]),\n",
       " <a list of 10 Patch objects>)"
      ]
     },
     "execution_count": 6,
     "metadata": {},
     "output_type": "execute_result"
    },
    {
     "data": {
      "image/png": "[encoded data removed]",
      "text/plain": [
       "<Figure size 432x288 with 1 Axes>"
      ]
     },
     "metadata": {
      "needs_background": "light"
     },
     "output_type": "display_data"
    }
   ],
   "source": [
    "# Nessa célula você verá a saída da função plt.hist(x)\n",
    "plt.hist(x)"
   ]
  },
  {
   "cell_type": "code",
   "execution_count": 7,
   "metadata": {},
   "outputs": [
    {
     "data": {
      "image/png": "[encoded data removed]",
      "text/plain": [
       "<Figure size 432x288 with 1 Axes>"
      ]
     },
     "metadata": {
      "needs_background": "light"
     },
     "output_type": "display_data"
    }
   ],
   "source": [
    "# acrescentando um ponto e vírgula ao final da linha, a saída da função é suprimida.\n",
    "plt.hist(x);"
   ]
  },
  {
   "cell_type": "markdown",
   "metadata": {},
   "source": [
    "### Interpolação usando Polinômio"
   ]
  },
  {
   "cell_type": "code",
   "execution_count": 8,
   "metadata": {
    "scrolled": true
   },
   "outputs": [
    {
     "name": "stdout",
     "output_type": "stream",
     "text": [
      "       6         5        4         3         2\n",
      "9.143 x - 18.29 x + 6.13 x + 8.793 x - 7.729 x + 1.461 x + 1.16\n"
     ]
    },
    {
     "data": {
      "image/png": "[encoded data removed]",
      "text/plain": [
       "<Figure size 432x288 with 1 Axes>"
      ]
     },
     "metadata": {
      "needs_background": "light"
     },
     "output_type": "display_data"
    }
   ],
   "source": [
    "x = np.linspace(0, 1, 20)\n",
    "y = np.cos(x) + 0.3 * np.rabndom.rand(20)\n",
    "p = np.poly1d(np.polyfit(x, y, 6))\n",
    "print(p)\n",
    "t = np.linspace(0, 1, 200)\n",
    "plt.plot(x, y, 'o', t, p(t), '-')\n",
    "plt.show()"
   ]
  },
  {
   "cell_type": "code",
   "execution_count": 9,
   "metadata": {},
   "outputs": [
    {
     "name": "stdout",
     "output_type": "stream",
     "text": [
      "        3         2\n",
      "0.9612 x - 1.828 x + 0.338 x + 1.197\n"
     ]
    },
    {
     "data": {
      "image/png": "[encoded data removed]",
      "text/plain": [
       "<Figure size 432x288 with 1 Axes>"
      ]
     },
     "metadata": {
      "needs_background": "light"
     },
     "output_type": "display_data"
    }
   ],
   "source": [
    "p = np.poly1d(np.polyfit(x, y, 3))\n",
    "print(p)\n",
    "t = np.linspace(0, 1, 200)\n",
    "plt.plot(x, y, 'o', t, p(t), '-')\n",
    "plt.show()"
   ]
  },
  {
   "cell_type": "markdown",
   "metadata": {},
   "source": [
    "### Subpacote Pyplot\n",
    "Ele fornece uma interface de procedimentos e rotinas para a biblioteca de plotagem orientada a objetos, **Matplotlib**. Ele é modelado para imitar os comandos gráficos do Matlab™. A maioria dos comandos em `pyplot` possui argumentos semelhantes e análogos aos do Matlab™. \n",
    "\n",
    "### Interatividade\n",
    "Formulários com interatividade podem ser realizados com *widgets* disponíveis no pacote **ipywidgets**:"
   ]
  },
  {
   "cell_type": "code",
   "execution_count": 34,
   "metadata": {
    "scrolled": true
   },
   "outputs": [
    {
     "data": {
      "application/vnd.jupyter.widget-view+json": {
       "model_id": "c0a4b2cc37de41edae4c64f4a7c25b5f",
       "version_major": 2,
       "version_minor": 0
      },
      "text/plain": [
       "interactive(children=(Text(value='IFG Campus Goiânia ', description='input'), Dropdown(description='times', op…"
      ]
     },
     "metadata": {},
     "output_type": "display_data"
    }
   ],
   "source": [
    "from ipywidgets import interact\n",
    "@interact                                                 # decorador\n",
    "def eco(input=\"IFG Campus Goiânia \",times=[1,2,3,4,5]):   # função a ser usada interativamente\n",
    "    return (input)*times"
   ]
  },
  {
   "cell_type": "code",
   "execution_count": 35,
   "metadata": {
    "scrolled": true
   },
   "outputs": [
    {
     "data": {
      "application/vnd.jupyter.widget-view+json": {
       "model_id": "78bd7c9159ba4270915d89ffb0c3c18a",
       "version_major": 2,
       "version_minor": 0
      },
      "text/plain": [
       "interactive(children=(Text(value='Ok? ', description='input'), IntSlider(value=8, description='times', max=15,…"
      ]
     },
     "metadata": {},
     "output_type": "display_data"
    }
   ],
   "source": [
    "from ipywidgets import interact\n",
    "interact(eco,input=\"Ok? \",times=(1,15,1));"
   ]
  },
  {
   "cell_type": "code",
   "execution_count": 36,
   "metadata": {
    "scrolled": true
   },
   "outputs": [
    {
     "data": {
      "application/vnd.jupyter.widget-view+json": {
       "model_id": "45e6702411e34d19bfe033abdc123fe6",
       "version_major": 2,
       "version_minor": 0
      },
      "text/plain": [
       "interactive(children=(Text(value='Ok? ', description='input'), IntSlider(value=5, description='times', max=15,…"
      ]
     },
     "metadata": {},
     "output_type": "display_data"
    }
   ],
   "source": [
    "from ipywidgets import interact\n",
    "interact(eco,input=\"Ok? \",times=5);"
   ]
  },
  {
   "cell_type": "code",
   "execution_count": 37,
   "metadata": {
    "scrolled": true
   },
   "outputs": [
    {
     "data": {
      "application/vnd.jupyter.widget-view+json": {
       "model_id": "2744547cb5234672948f17ed23baee40",
       "version_major": 2,
       "version_minor": 0
      },
      "text/plain": [
       "interactive(children=(Text(value='Olá! ', description='input'), IntSlider(value=1, description='times', max=15…"
      ]
     },
     "metadata": {},
     "output_type": "display_data"
    }
   ],
   "source": [
    "from ipywidgets import IntSlider\n",
    "interact(eco,input=\"Olá! \",times=IntSlider(min=0, max=15, step=1, value=1));"
   ]
  },
  {
   "cell_type": "code",
   "execution_count": 38,
   "metadata": {
    "scrolled": true
   },
   "outputs": [
    {
     "data": {
      "application/vnd.jupyter.widget-view+json": {
       "model_id": "348ef2123e6c4701bfe48473751c9bc6",
       "version_major": 2,
       "version_minor": 0
      },
      "text/plain": [
       "interactive(children=(IntSlider(value=50, description='Vida', step=10), Output()), _dom_classes=('widget-inter…"
      ]
     },
     "metadata": {},
     "output_type": "display_data"
    }
   ],
   "source": [
    "import matplotlib.pyplot as plt\n",
    "@interact\n",
    "def polinomio(Vida=IntSlider(min=0, max=100, step=10, value=50)):\n",
    "    plt.pie([Vida/100., 1.0-Vida/100.],labels=['Yang','Ying'])"
   ]
  },
  {
   "cell_type": "code",
   "execution_count": 1,
   "metadata": {},
   "outputs": [
    {
     "data": {
      "application/vnd.jupyter.widget-view+json": {
       "model_id": "cb908b001098436b9b7cf647a2f0473b",
       "version_major": 2,
       "version_minor": 0
      },
      "text/plain": [
       "interactive(children=(FloatSlider(value=0.0, description='m', max=5.0, min=-5.0), FloatSlider(value=0.0, descr…"
      ]
     },
     "metadata": {},
     "output_type": "display_data"
    }
   ],
   "source": [
    "%matplotlib inline\n",
    "import numpy as np\n",
    "import matplotlib.pyplot as plt\n",
    "from ipywidgets import interactive\n",
    "\n",
    "def reta(m, b):\n",
    "    '''Traça uma reta com coeficiente angular 'm' e coeficiente linear 'b' '''\n",
    "    plt.figure(2,figsize=(8,5))\n",
    "    plt.plot([-10,10],[0,0],'k'); plt.plot([0,0],[-10,10],'k')    # eixos 'x' e 'y'\n",
    "    x = np.linspace(-10, 10, num=1000)                            # intervalo de valores de 'x'\n",
    "    plt.plot(x, m * x + b, linewidth=3); plt.ylim(-10, 10)\n",
    "    plt.grid(True); plt.title('Reta'); plt.xlabel('x'); plt.ylabel('y'); plt.plot(0,b,'ro')\n",
    "    if b >= 0:    \n",
    "        st = \"y = %.1f x + %.1f\"   # equação da reta\n",
    "        if m >= 0:                 # 4o. quadrante\n",
    "            xt, yt = 5, -7.5       # coordenadas do texto\n",
    "        else:                      # 3o. quadrante\n",
    "            xt, yt = -7.5, -7.5    # coordenadas do texto\n",
    "    else:\n",
    "        st = \"y = %.1f x - %.1f\"   # equação da reta\n",
    "        if m >= 0:                 # 2o. quadrante\n",
    "            xt, yt = -7.5, 7.5     # coordenadas do texto\n",
    "        else:                      # 1o. quadrante\n",
    "            xt, yt = 5, 7.5        # coordenadas do texto\n",
    "    plt.text(xt,yt,st % (m,abs(b)),fontsize=12,weight='bold')\n",
    "    plt.show()\n",
    "\n",
    "interactive_plot = interactive(reta, m=(-5.0, 5.0), b=(-7.5, 7.5, 0.5))\n",
    "interactive_plot"
   ]
  },
  {
   "cell_type": "markdown",
   "metadata": {},
   "source": [
    "<p style=\"text-align:right;\">>>>>> <a href=\"#topo\">Volta ao topo</a>"
   ]
  },
  {
   "cell_type": "markdown",
   "metadata": {},
   "source": [
    "<a id=\"2\"></a>\n",
    "## Gráficos Simples\n",
    "Vamos plotar as funções seno e cosseno num mesmo plano cartesiano. A partir das configurações padrão, iremos enriquecer o gráfico, passo a passo, para torná-lo mais apresentável. O primeiro passo é a obtenção das coordenadas dos pontos (dados):\n",
    "\n",
    "```python\n",
    "import numpy as np\n",
    "x = np.linspace(-np.pi, np.pi, 256) \t# abscissas\n",
    "s, c = np.sin(x), np.cos(x)\t\t\t    # ordenadas\n",
    "```\n",
    "\n",
    "O **Matplotlib** vem com um conjunto de configurações que permitem personalizar várias características do gráfico: tamanho/dpi da figura, largura/cor/estilo da linha, propriedades de eixo/grade, propriedades de texto/fonte etc.\n"
   ]
  },
  {
   "cell_type": "code",
   "execution_count": 14,
   "metadata": {},
   "outputs": [
    {
     "data": {
      "image/png": "[encoded data removed]",
      "text/plain": [
       "<Figure size 432x288 with 1 Axes>"
      ]
     },
     "metadata": {
      "needs_background": "light"
     },
     "output_type": "display_data"
    }
   ],
   "source": [
    "x = np.linspace(-np.pi, np.pi, 25) \n",
    "s, c = np.sin(x), np.cos(x)\n",
    "\n",
    "plt.plot(x, s)\n",
    "plt.plot(x, c)\n",
    "plt.show()"
   ]
  },
  {
   "cell_type": "markdown",
   "metadata": {},
   "source": [
    "### Mudando Cores e Largura das Linhas\n",
    "Vamos traçar a curva do cosseno em azul e do seno em vermelho, e ambas com linhas ligeiramente mais grossas. Nós também vamos alterar um pouco o tamanho da figura para torná-la mais horizontal."
   ]
  },
  {
   "cell_type": "code",
   "execution_count": 16,
   "metadata": {},
   "outputs": [
    {
     "name": "stdout",
     "output_type": "stream",
     "text": [
      "Help on function plot in module matplotlib.pyplot:\n",
      "\n",
      "plot(*args, scalex=True, scaley=True, data=None, **kwargs)\n",
      "    Plot y versus x as lines and/or markers.\n",
      "    \n",
      "    Call signatures::\n",
      "    \n",
      "        plot([x], y, [fmt], *, data=None, **kwargs)\n",
      "        plot([x], y, [fmt], [x2], y2, [fmt2], ..., **kwargs)\n",
      "    \n",
      "    The coordinates of the points or line nodes are given by *x*, *y*.\n",
      "    \n",
      "    The optional parameter *fmt* is a convenient way for defining basic\n",
      "    formatting like color, marker and linestyle. It's a shortcut string\n",
      "    notation described in the *Notes* section below.\n",
      "    \n",
      "    >>> plot(x, y)        # plot x and y using default line style and color\n",
      "    >>> plot(x, y, 'bo')  # plot x and y using blue circle markers\n",
      "    >>> plot(y)           # plot y using x as index array 0..N-1\n",
      "    >>> plot(y, 'r+')     # ditto, but with red plusses\n",
      "    \n",
      "    You can use `.Line2D` properties as keyword arguments for more\n",
      "    control on the appearance. Line properties and *fmt* can be mixed.\n",
      "    The following two calls yield identical results:\n",
      "    \n",
      "    >>> plot(x, y, 'go--', linewidth=2, markersize=12)\n",
      "    >>> plot(x, y, color='green', marker='o', linestyle='dashed',\n",
      "    ...      linewidth=2, markersize=12)\n",
      "    \n",
      "    When conflicting with *fmt*, keyword arguments take precedence.\n",
      "    \n",
      "    \n",
      "    **Plotting labelled data**\n",
      "    \n",
      "    There's a convenient way for plotting objects with labelled data (i.e.\n",
      "    data that can be accessed by index ``obj['y']``). Instead of giving\n",
      "    the data in *x* and *y*, you can provide the object in the *data*\n",
      "    parameter and just give the labels for *x* and *y*::\n",
      "    \n",
      "    >>> plot('xlabel', 'ylabel', data=obj)\n",
      "    \n",
      "    All indexable objects are supported. This could e.g. be a `dict`, a\n",
      "    `pandas.DataFame` or a structured numpy array.\n",
      "    \n",
      "    \n",
      "    **Plotting multiple sets of data**\n",
      "    \n",
      "    There are various ways to plot multiple sets of data.\n",
      "    \n",
      "    - The most straight forward way is just to call `plot` multiple times.\n",
      "      Example:\n",
      "    \n",
      "      >>> plot(x1, y1, 'bo')\n",
      "      >>> plot(x2, y2, 'go')\n",
      "    \n",
      "    - Alternatively, if your data is already a 2d array, you can pass it\n",
      "      directly to *x*, *y*. A separate data set will be drawn for every\n",
      "      column.\n",
      "    \n",
      "      Example: an array ``a`` where the first column represents the *x*\n",
      "      values and the other columns are the *y* columns::\n",
      "    \n",
      "      >>> plot(a[0], a[1:])\n",
      "    \n",
      "    - The third way is to specify multiple sets of *[x]*, *y*, *[fmt]*\n",
      "      groups::\n",
      "    \n",
      "      >>> plot(x1, y1, 'g^', x2, y2, 'g-')\n",
      "    \n",
      "      In this case, any additional keyword argument applies to all\n",
      "      datasets. Also this syntax cannot be combined with the *data*\n",
      "      parameter.\n",
      "    \n",
      "    By default, each line is assigned a different style specified by a\n",
      "    'style cycle'. The *fmt* and line property parameters are only\n",
      "    necessary if you want explicit deviations from these defaults.\n",
      "    Alternatively, you can also change the style cycle using the\n",
      "    'axes.prop_cycle' rcParam.\n",
      "    \n",
      "    \n",
      "    Parameters\n",
      "    ----------\n",
      "    x, y : array-like or scalar\n",
      "        The horizontal / vertical coordinates of the data points.\n",
      "        *x* values are optional and default to `range(len(y))`.\n",
      "    \n",
      "        Commonly, these parameters are 1D arrays.\n",
      "    \n",
      "        They can also be scalars, or two-dimensional (in that case, the\n",
      "        columns represent separate data sets).\n",
      "    \n",
      "        These arguments cannot be passed as keywords.\n",
      "    \n",
      "    fmt : str, optional\n",
      "        A format string, e.g. 'ro' for red circles. See the *Notes*\n",
      "        section for a full description of the format strings.\n",
      "    \n",
      "        Format strings are just an abbreviation for quickly setting\n",
      "        basic line properties. All of these and more can also be\n",
      "        controlled by keyword arguments.\n",
      "    \n",
      "        This argument cannot be passed as keyword.\n",
      "    \n",
      "    data : indexable object, optional\n",
      "        An object with labelled data. If given, provide the label names to\n",
      "        plot in *x* and *y*.\n",
      "    \n",
      "        .. note::\n",
      "            Technically there's a slight ambiguity in calls where the\n",
      "            second label is a valid *fmt*. `plot('n', 'o', data=obj)`\n",
      "            could be `plt(x, y)` or `plt(y, fmt)`. In such cases,\n",
      "            the former interpretation is chosen, but a warning is issued.\n",
      "            You may suppress the warning by adding an empty format string\n",
      "            `plot('n', 'o', '', data=obj)`.\n",
      "    \n",
      "    Other Parameters\n",
      "    ----------------\n",
      "    scalex, scaley : bool, optional, default: True\n",
      "        These parameters determined if the view limits are adapted to\n",
      "        the data limits. The values are passed on to `autoscale_view`.\n",
      "    \n",
      "    **kwargs : `.Line2D` properties, optional\n",
      "        *kwargs* are used to specify properties like a line label (for\n",
      "        auto legends), linewidth, antialiasing, marker face color.\n",
      "        Example::\n",
      "    \n",
      "        >>> plot([1,2,3], [1,2,3], 'go-', label='line 1', linewidth=2)\n",
      "        >>> plot([1,2,3], [1,4,9], 'rs',  label='line 2')\n",
      "    \n",
      "        If you make multiple lines with one plot command, the kwargs\n",
      "        apply to all those lines.\n",
      "    \n",
      "        Here is a list of available `.Line2D` properties:\n",
      "    \n",
      "      agg_filter: a filter function, which takes a (m, n, 3) float array and a dpi value, and returns a (m, n, 3) array\n",
      "      alpha: float\n",
      "      animated: bool\n",
      "      antialiased or aa: bool\n",
      "      clip_box: `.Bbox`\n",
      "      clip_on: bool\n",
      "      clip_path: [(`~matplotlib.path.Path`, `.Transform`) | `.Patch` | None]\n",
      "      color or c: color\n",
      "      contains: callable\n",
      "      dash_capstyle: {'butt', 'round', 'projecting'}\n",
      "      dash_joinstyle: {'miter', 'round', 'bevel'}\n",
      "      dashes: sequence of floats (on/off ink in points) or (None, None)\n",
      "      drawstyle or ds: {'default', 'steps', 'steps-pre', 'steps-mid', 'steps-post'}, default: 'default'\n",
      "      figure: `.Figure`\n",
      "      fillstyle: {'full', 'left', 'right', 'bottom', 'top', 'none'}\n",
      "      gid: str\n",
      "      in_layout: bool\n",
      "      label: object\n",
      "      linestyle or ls: {'-', '--', '-.', ':', '', (offset, on-off-seq), ...}\n",
      "      linewidth or lw: float\n",
      "      marker: marker style\n",
      "      markeredgecolor or mec: color\n",
      "      markeredgewidth or mew: float\n",
      "      markerfacecolor or mfc: color\n",
      "      markerfacecoloralt or mfcalt: color\n",
      "      markersize or ms: float\n",
      "      markevery: None or int or (int, int) or slice or List[int] or float or (float, float)\n",
      "      path_effects: `.AbstractPathEffect`\n",
      "      picker: float or callable[[Artist, Event], Tuple[bool, dict]]\n",
      "      pickradius: float\n",
      "      rasterized: bool or None\n",
      "      sketch_params: (scale: float, length: float, randomness: float)\n",
      "      snap: bool or None\n",
      "      solid_capstyle: {'butt', 'round', 'projecting'}\n",
      "      solid_joinstyle: {'miter', 'round', 'bevel'}\n",
      "      transform: `matplotlib.transforms.Transform`\n",
      "      url: str\n",
      "      visible: bool\n",
      "      xdata: 1D array\n",
      "      ydata: 1D array\n",
      "      zorder: float\n",
      "    \n",
      "    Returns\n",
      "    -------\n",
      "    lines\n",
      "        A list of `.Line2D` objects representing the plotted data.\n",
      "    \n",
      "    See Also\n",
      "    --------\n",
      "    scatter : XY scatter plot with markers of varying size and/or color (\n",
      "        sometimes also called bubble chart).\n",
      "    \n",
      "    Notes\n",
      "    -----\n",
      "    **Format Strings**\n",
      "    \n",
      "    A format string consists of a part for color, marker and line::\n",
      "    \n",
      "        fmt = '[marker][line][color]'\n",
      "    \n",
      "    Each of them is optional. If not provided, the value from the style\n",
      "    cycle is used. Exception: If ``line`` is given, but no ``marker``,\n",
      "    the data will be a line without markers.\n",
      "    \n",
      "    Other combinations such as ``[color][marker][line]`` are also\n",
      "    supported, but note that their parsing may be ambiguous.\n",
      "    \n",
      "    **Markers**\n",
      "    \n",
      "    =============    ===============================\n",
      "    character        description\n",
      "    =============    ===============================\n",
      "    ``'.'``          point marker\n",
      "    ``','``          pixel marker\n",
      "    ``'o'``          circle marker\n",
      "    ``'v'``          triangle_down marker\n",
      "    ``'^'``          triangle_up marker\n",
      "    ``'<'``          triangle_left marker\n",
      "    ``'>'``          triangle_right marker\n",
      "    ``'1'``          tri_down marker\n",
      "    ``'2'``          tri_up marker\n",
      "    ``'3'``          tri_left marker\n",
      "    ``'4'``          tri_right marker\n",
      "    ``'s'``          square marker\n",
      "    ``'p'``          pentagon marker\n",
      "    ``'*'``          star marker\n",
      "    ``'h'``          hexagon1 marker\n",
      "    ``'H'``          hexagon2 marker\n",
      "    ``'+'``          plus marker\n",
      "    ``'x'``          x marker\n",
      "    ``'D'``          diamond marker\n",
      "    ``'d'``          thin_diamond marker\n",
      "    ``'|'``          vline marker\n",
      "    ``'_'``          hline marker\n",
      "    =============    ===============================\n",
      "    \n",
      "    **Line Styles**\n",
      "    \n",
      "    =============    ===============================\n",
      "    character        description\n",
      "    =============    ===============================\n",
      "    ``'-'``          solid line style\n",
      "    ``'--'``         dashed line style\n",
      "    ``'-.'``         dash-dot line style\n",
      "    ``':'``          dotted line style\n",
      "    =============    ===============================\n",
      "    \n",
      "    Example format strings::\n",
      "    \n",
      "        'b'    # blue markers with default shape\n",
      "        'or'   # red circles\n",
      "        '-g'   # green solid line\n",
      "        '--'   # dashed line with default color\n",
      "        '^k:'  # black triangle_up markers connected by a dotted line\n",
      "    \n",
      "    **Colors**\n",
      "    \n",
      "    The supported color abbreviations are the single letter codes\n",
      "    \n",
      "    =============    ===============================\n",
      "    character        color\n",
      "    =============    ===============================\n",
      "    ``'b'``          blue\n",
      "    ``'g'``          green\n",
      "    ``'r'``          red\n",
      "    ``'c'``          cyan\n",
      "    ``'m'``          magenta\n",
      "    ``'y'``          yellow\n",
      "    ``'k'``          black\n",
      "    ``'w'``          white\n",
      "    =============    ===============================\n",
      "    \n",
      "    and the ``'CN'`` colors that index into the default property cycle.\n",
      "    \n",
      "    If the color is the only part of the format string, you can\n",
      "    additionally use any  `matplotlib.colors` spec, e.g. full names\n",
      "    (``'green'``) or hex strings (``'#008000'``).\n",
      "\n"
     ]
    },
    {
     "data": {
      "image/png": "[encoded data removed]",
      "text/plain": [
       "<Figure size 640x320 with 1 Axes>"
      ]
     },
     "metadata": {
      "needs_background": "light"
     },
     "output_type": "display_data"
    }
   ],
   "source": [
    "plt.figure(figsize=(8, 4), dpi=80)\n",
    "plt.plot(x, s, color=\"red\",  linewidth=5, linestyle=\"--\", marker='v')\n",
    "plt.plot(x, c, color=\"blue\", linewidth=2.5, linestyle=\"-\", marker='*')\n",
    "help(plt.plot)"
   ]
  },
  {
   "cell_type": "markdown",
   "metadata": {},
   "source": [
    "### Ajustando Limites dos Eixos\n",
    "Os limites atuais do primeiro gráfico (configuração padrão) são um pouco apertados e queremos criar algum espaço para ver claramente os pontos de dados."
   ]
  },
  {
   "cell_type": "code",
   "execution_count": 17,
   "metadata": {
    "scrolled": true
   },
   "outputs": [
    {
     "data": {
      "text/plain": [
       "(-1.25, 1.25)"
      ]
     },
     "execution_count": 17,
     "metadata": {},
     "output_type": "execute_result"
    },
    {
     "data": {
      "image/png": "[encoded data removed]",
      "text/plain": [
       "<Figure size 640x320 with 1 Axes>"
      ]
     },
     "metadata": {
      "needs_background": "light"
     },
     "output_type": "display_data"
    }
   ],
   "source": [
    "plt.figure(figsize=(8, 4), dpi=80)\n",
    "plt.plot(x, s, color=\"red\",  linewidth=2.5, linestyle=\"-\")\n",
    "plt.plot(x, c, color=\"blue\", linewidth=2.5, linestyle=\"-\")\n",
    "plt.xlim(x.min()*1.25, x.max()*1.25)\n",
    "plt.ylim(s.min()*1.25, s.max()*1.25) "
   ]
  },
  {
   "cell_type": "markdown",
   "metadata": {},
   "source": [
    "<p style=\"text-align:right;\">>>>>> <a href=\"#topo\">Volta ao topo</a>"
   ]
  },
  {
   "cell_type": "markdown",
   "metadata": {},
   "source": [
    "<a id=\"3\"></a>\n",
    "## Figuras, Subgráficos, Eixos e Marcas de Eixo (ticks)\n",
    "### Mudando as Marcas dos Eixos (_ticks_) \n",
    "Os ticks padrões não são ideais porque eles não mostram valores interessantes, tais como ±π, ±π/2, para as funções seno e cosseno. Vamos mudá-los de modo a mostrar apenas esses valores."
   ]
  },
  {
   "cell_type": "code",
   "execution_count": 15,
   "metadata": {},
   "outputs": [
    {
     "data": {
      "image/png": "[encoded data removed]",
      "text/plain": [
       "<Figure size 640x320 with 1 Axes>"
      ]
     },
     "metadata": {
      "needs_background": "light"
     },
     "output_type": "display_data"
    }
   ],
   "source": [
    "plt.figure(figsize=(8, 4), dpi=80)\n",
    "plt.plot(x, s, color=\"red\",  linewidth=2.5, linestyle=\"-\"); plt.plot(x, c, color=\"blue\", linewidth=2.5, linestyle=\"-\")\n",
    "plt.xlim(x.min()*1.15, x.max()*1.15); plt.ylim(s.min()*1.15, s.max()*1.15) \n",
    "pi = np.pi\n",
    "plt.xticks([-pi, -pi/2, 0, pi/2, pi])\n",
    "plt.yticks([-1, 0, +1])\n",
    "plt.show()"
   ]
  },
  {
   "cell_type": "markdown",
   "metadata": {},
   "source": [
    "### Mudando os Rótulos (_labels_) das Marcas\n",
    "Os _ticks_ padrões não são ideais porque eles não mostram valores interessantes, tais como ±π, ±π/2, para as funções seno e cosseno. Vamos mudá-los de modo a mostrar apenas esses valores."
   ]
  },
  {
   "cell_type": "code",
   "execution_count": 9,
   "metadata": {},
   "outputs": [
    {
     "data": {
      "image/png": "[encoded data removed]",
      "text/plain": [
       "<Figure size 640x320 with 1 Axes>"
      ]
     },
     "metadata": {
      "needs_background": "light"
     },
     "output_type": "display_data"
    }
   ],
   "source": [
    "plt.figure(figsize=(8, 4), dpi=80, frameon=False)\n",
    "plt.plot(x, s, color=\"red\",  linewidth=2.5, linestyle=\"-\"); \n",
    "plt.plot(x, c, color=\"blue\", linewidth=2.5, linestyle=\"-\")\n",
    "plt.xlim(x.min()*1.15, x.max()*1.15); \n",
    "plt.ylim(s.min()*1.15, s.max()*1.15) \n",
    "pi = np.pi\n",
    "r = [r'$-\\pi$', r'$-\\pi/2$', r'$0$', r'$+\\pi/2$', r'$+\\pi$']       # rótulos\n",
    "plt.xticks([-pi, -pi/2, 0, pi/2, pi], r); plt.yticks([-1, 0, +1])\n",
    "plt.show()"
   ]
  },
  {
   "cell_type": "markdown",
   "metadata": {},
   "source": [
    "### Traçando Eixos Horizontal e Vertical (_spines_)\n",
    "Os eixos são linhas que conectam as marcas da origem até os limites da área de dados. Eles podem ser colocados em posições arbitrárias e por padrão, aparecem nas fronteiras da figura. Vamos colocá-los no meio do gráfico. Como há quatro deles (superior/inferior/esquerda/direita), descartamos a parte superior e a direita, definindo a cor deles como `none` (nenhuma). Movemos a parte inferior e a esquerda para a origem nas coordenadas do espaço de dados."
   ]
  },
  {
   "cell_type": "code",
   "execution_count": 23,
   "metadata": {},
   "outputs": [
    {
     "data": {
      "image/png": "[encoded data removed]",
      "text/plain": [
       "<Figure size 640x320 with 1 Axes>"
      ]
     },
     "metadata": {
      "needs_background": "light"
     },
     "output_type": "display_data"
    }
   ],
   "source": [
    "plt.figure(figsize=(8, 4), dpi=80)\n",
    "plt.plot(x, s, color=\"red\",  linewidth=2.5, linestyle=\"-\"); \n",
    "plt.plot(x, c, color=\"blue\", linewidth=2.5, linestyle=\"-\")\n",
    "plt.xlim(x.min()*1.15, x.max()*1.15); \n",
    "plt.ylim(s.min()*1.15, s.max()*1.15) \n",
    "pi = np.pi; \n",
    "r = [r'$-\\pi$', r'$-\\pi/2$', r'$0$', r'$+\\pi/2$', r'$+\\pi$']       # rótulos\n",
    "plt.xticks([-pi, -pi/2, 0, pi/2, pi], r); plt.yticks([-1, 0, +1])\n",
    "\n",
    "ax = plt.gca()                         # gca é a abreviação para 'get current axis'\n",
    "ax.spines['right'].set_color('none')\n",
    "ax.spines['top'].set_color('none')\n",
    "ax.spines['bottom'].set_position(('data',0))\n",
    "ax.spines['left'].set_position(('data',0))\n",
    "ax.xaxis.set_ticks_position('bottom')\n",
    "ax.yaxis.set_ticks_position('left')\n",
    "plt.show()"
   ]
  },
  {
   "cell_type": "markdown",
   "metadata": {},
   "source": [
    "### Acrescentando Legenda\n",
    "Vamos inserir uma legenda para identificar cada uma das linhas (funções) traçadas. A legenda deverá ser colocada no canto superior esquerdo. Basta ajustar o parâmetro `label` (que será usado na caixa de legendas) aos comandos de plotagem."
   ]
  },
  {
   "cell_type": "code",
   "execution_count": 24,
   "metadata": {},
   "outputs": [
    {
     "data": {
      "image/png": "[encoded data removed]",
      "text/plain": [
       "<Figure size 640x320 with 1 Axes>"
      ]
     },
     "metadata": {
      "needs_background": "light"
     },
     "output_type": "display_data"
    }
   ],
   "source": [
    "plt.figure(figsize=(8, 4), dpi=80)\n",
    "\n",
    "plt.plot(x, s, color=\"red\",  linewidth=2.5, linestyle=\"-\", label=\"seno\")\n",
    "plt.plot(x, c, color=\"blue\", linewidth=2.5, linestyle=\"-\", label=\"cosseno\")\n",
    "plt.xlim(x.min()*1.15, x.max()*1.15); plt.ylim(s.min()*1.15, s.max()*1.15) \n",
    "pi = np.pi; r = [r'$-\\pi$', r'$-\\pi/2$', r'$0$', r'$+\\pi/2$', r'$+\\pi$']       # rótulos\n",
    "plt.xticks([-pi, -pi/2, 0, pi/2, pi], r); plt.yticks([-1, 0, +1])\n",
    "\n",
    "ax = plt.gca()                         # gca é a abreviação para 'get current axis'\n",
    "ax.spines['right'].set_color('none')\n",
    "ax.spines['top'].set_color('none')\n",
    "ax.spines['bottom'].set_position(('data',0))\n",
    "ax.spines['left'].set_position(('data',0))\n",
    "ax.xaxis.set_ticks_position('bottom')\n",
    "ax.yaxis.set_ticks_position('left')\n",
    "plt.legend(loc='upper left')\n",
    "\n",
    "plt.show()"
   ]
  },
  {
   "cell_type": "markdown",
   "metadata": {},
   "source": [
    "### Comentando alguns pontos no gráfico\n",
    "Vamos anotações em alguns pontos interessantes com o comando `annotate`. Escolhemos o valor $2\\pi/3$ para comentar, tanto na função seno como na cosseno. Primeiro, desenhamos um marcador na curva e depois uma linha pontilhada. Em seguida, usamos o comando de anotação para exibir um texto com uma seta."
   ]
  },
  {
   "cell_type": "code",
   "execution_count": 8,
   "metadata": {},
   "outputs": [
    {
     "data": {
      "image/png": "[encoded data removed]",
      "text/plain": [
       "<Figure size 640x320 with 1 Axes>"
      ]
     },
     "metadata": {
      "needs_background": "light"
     },
     "output_type": "display_data"
    }
   ],
   "source": [
    "plt.figure(figsize=(8, 4), dpi=80)\n",
    "\n",
    "plt.plot(x, s, color=\"red\",  linewidth=2.5, linestyle=\"-\", label=\"seno\")\n",
    "plt.plot(x, c, color=\"blue\", linewidth=2.5, linestyle=\"-\", label=\"cosseno\")\n",
    "plt.xlim(x.min()*1.15, x.max()*1.15); plt.ylim(s.min()*1.15, s.max()*1.15) \n",
    "pi = np.pi; r = [r'$-\\pi$', r'$-\\pi/2$', r'$0$', r'$+\\pi/2$', r'$+\\pi$']       # rótulos\n",
    "plt.xticks([-pi, -pi/2, 0, pi/2, pi], r); plt.yticks([-1, 0, +1])\n",
    "\n",
    "ax = plt.gca()                         # gca é a abreviação para 'get current axis'\n",
    "ax.spines['right'].set_color('none')\n",
    "ax.spines['top'].set_color('none')\n",
    "ax.spines['bottom'].set_position(('data',0))\n",
    "ax.spines['left'].set_position(('data',0))\n",
    "ax.xaxis.set_ticks_position('bottom')\n",
    "ax.yaxis.set_ticks_position('left')\n",
    "plt.legend(loc='upper left')\n",
    "\n",
    "t = 2*np.pi/3\n",
    "plt.plot([t,t], [0,np.cos(t)], color='blue', linewidth=2.5, linestyle=\"--\")   # reta tracejada, azul\n",
    "plt.scatter([t,], [np.cos(t),], 50, color='blue')                             # ponto azul sobre a curva\n",
    "\n",
    "plt.annotate(r'$sen\\left(\\frac{2\\pi}{3}\\right)=\\frac{\\sqrt{3}}{2}$',\n",
    "             xy=(t, np.sin(t)), xycoords='data',\n",
    "             xytext=(+10, +30), textcoords='offset points', fontsize=10,\n",
    "             arrowprops=dict(arrowstyle=\"->\", connectionstyle=\"arc3,rad=.2\")) # anotação: sen(2pi/3)=sqrt(3)/2\n",
    "\n",
    "plt.plot([t, t],[0, np.sin(t)], color='red', linewidth=2.5, linestyle=\"--\")   # reta tracejada, vermelha\n",
    "plt.scatter([t, ],[np.sin(t), ], 50, color='red')                             # ponto vermelho sobre a curva\n",
    "\n",
    "plt.annotate(r'$cos(\\frac{2\\pi}{3})=-\\frac{1}{2}$',\n",
    "             xy=(t, np.cos(t)), xycoords='data',\n",
    "             xytext=(-90, -50), textcoords='offset points', fontsize=10,\n",
    "             arrowprops=dict(arrowstyle=\"->\", connectionstyle=\"arc3,rad=.2\")) # anotação: cos(2pi/3)=-1/2\n",
    "\n",
    "plt.show()"
   ]
  },
  {
   "cell_type": "markdown",
   "metadata": {},
   "source": [
    "### Atenção aos Detalhes\n",
    "Os rótulos das marcas ficaram pouco visíveis (sobrepostos) por causa das linhas azul e vermelha. Podemos aumentá-las e também podemos ajustar suas propriedades de modo que elas sejam renderizadas em um plano de fundo branco semitransparente. Isso nos permitirá ver os dados e os rótulos."
   ]
  },
  {
   "cell_type": "code",
   "execution_count": 18,
   "metadata": {},
   "outputs": [
    {
     "data": {
      "image/png": "[encoded data removed]",
      "text/plain": [
       "<Figure size 640x320 with 1 Axes>"
      ]
     },
     "metadata": {
      "needs_background": "light"
     },
     "output_type": "display_data"
    }
   ],
   "source": [
    "plt.figure(figsize=(8, 4), dpi=80)\n",
    "\n",
    "plt.plot(x, s, color=\"red\",  linewidth=2.5, linestyle=\"-\", label=\"seno\")\n",
    "plt.plot(x, c, color=\"blue\", linewidth=2.5, linestyle=\"-\", label=\"cosseno\")\n",
    "plt.xlim(x.min()*1.15, x.max()*1.15); plt.ylim(s.min()*1.15, s.max()*1.15) \n",
    "pi = np.pi; r = [r'$-\\pi$', r'$-\\pi/2$', r'$0$', r'$+\\pi/2$', r'$+\\pi$']       # rótulos\n",
    "plt.xticks([-pi, -pi/2, 0, pi/2, pi], r); plt.yticks([-1, 0, +1])\n",
    "\n",
    "ax = plt.gca()                         # gca é a abreviação para 'get current axis'\n",
    "ax.spines['right'].set_color('none')\n",
    "ax.spines['top'].set_color('none')\n",
    "ax.spines['bottom'].set_position(('data',0))\n",
    "ax.spines['left'].set_position(('data',0))\n",
    "ax.xaxis.set_ticks_position('bottom')\n",
    "ax.yaxis.set_ticks_position('left')\n",
    "plt.legend(loc='upper left')\n",
    "\n",
    "t = 2*np.pi/3\n",
    "plt.plot([t,t], [0,np.cos(t)], color='blue', linewidth=2.5, linestyle=\"--\")   # reta tracejada, azul\n",
    "plt.scatter([t,], [np.cos(t),], 50, color='blue')                             # ponto azul sobre a curva\n",
    "\n",
    "plt.annotate(r'$sen(\\frac{2\\pi}{3})=\\frac{\\sqrt{3}}{2}$',\n",
    "             xy=(t, np.sin(t)), xycoords='data',\n",
    "             xytext=(+10, +30), textcoords='offset points', fontsize=10,\n",
    "             arrowprops=dict(arrowstyle=\"->\", connectionstyle=\"arc3,rad=.2\")) # anotação: sen(2pi/3)=sqrt(3)/2\n",
    "\n",
    "plt.plot([t, t],[0, np.sin(t)], color='red', linewidth=2.5, linestyle=\"--\")   # reta tracejada, vermelha\n",
    "plt.scatter([t, ],[np.sin(t), ], 50, color='red')                             # ponto vermelho sobre a curva\n",
    "\n",
    "plt.annotate(r'$cos(\\frac{2\\pi}{3})=-\\frac{1}{2}$',\n",
    "             xy=(t, np.cos(t)), xycoords='data',\n",
    "             xytext=(-90, -50), textcoords='offset points', fontsize=10,\n",
    "             arrowprops=dict(arrowstyle=\"->\", connectionstyle=\"arc3,rad=.2\")) # anotação: cos(2pi/3)=-1/2\n",
    "\n",
    "for rotulo in ax.get_xticklabels() + ax.get_yticklabels():\n",
    "    rotulo.set_fontsize(10)\n",
    "    rotulo.set_bbox(dict(facecolor='white', edgecolor='None', alpha=0.65))\n",
    "\n",
    "plt.show()"
   ]
  },
  {
   "cell_type": "markdown",
   "metadata": {},
   "source": [
    "<img src='img/sencos.png' alt='Funções seno e cosseno' style=\"float:right;width:600px;height:350px;\">Imagem gerada pelo mesmo código no ambiente WinPython:"
   ]
  },
  {
   "cell_type": "markdown",
   "metadata": {},
   "source": [
    "### Figuras e Subgráficos\n",
    "Uma “figura” no **matplotlib** é toda a janela apresentada na interface com o usuário. Dentro dessa figura pode haver subgráficos (_subplots_).  Até agora usamos figura e criação de eixos implícitas à função `plot()`. Isso é útil nas plotagens mais simples e/ou rápidas. \n",
    "\n",
    "Podemos ter mais controle sobre a exibição dos sinais usando as funções `figure()`, `subplot()` e `axes()` explicitamente. Enquanto a função `subplot()` posiciona os gráficos numa grade regular, a função `axes()` permite a colocação livre do gráfico dentro da figura. \n",
    "\n",
    "Já trabalhamos com figuras e subgráficos, sem chamá-los explicitamente. Quando usamos `plot()`, o **matplotlib** chama o método `gca()` para obter os eixos atuais, e `gca()` chama `gcf()` (_get current figure_) para obter a figura atual. Se não existir nenhuma figura corrente, ela chama a função `figure()` para criar uma, fazendo uso de um subgráfico: `subplot(111)`. \n",
    "\n",
    "#### Figuras\n",
    "Uma figura nada mais é que a própria janela na GUI, com título “Figure #”. As figuras são numeradas a partir de 1, em oposição ao modo natural do Python, que seria a partir de 0. Isso mostra claramente o estilo Matlab. Existem vários parâmetros que determinam o aspecto da figura:\n",
    "\n",
    "|     Parâmetro     \t|         Default        \t|     Descrição                                           \t|\n",
    "|:-----------------:\t|:----------------------:\t|---------------------------------------------------------\t|\n",
    "|        num        \t|            1           \t|    Número da figura                                     \t|\n",
    "|      figsize      \t|     figure.figsize     \t|    Tamanho da figura em polegadas: (largura, altura)    \t|\n",
    "|        dpi        \t|       figure.dpi       \t|    Resolução em pontos por polegada (dpi)               \t|\n",
    "|     facecolor     \t|    figure.facecolor    \t|    Cor do fundo do desenho                              \t|\n",
    "|     edgecolor     \t|    figure.edgecolor    \t|    Cor da borda em volta do fundo do desenho            \t|\n",
    "|    frameon        \t|    True                \t|    Desenha o quadro da figura ou não                    \t|"
   ]
  },
  {
   "cell_type": "markdown",
   "metadata": {},
   "source": [
    "Assim como acontece com outros objetos, pode-se definir propriedades de figura usando `setp()` ou com os métodos da classe: **set_algumapropriedade**. Quando você trabalha com a GUI, você pode fechar uma figura clicando no ícone [x], no canto superior direito da janela. Mas você pode fechar uma figura programaticamente chamando o método `close()`. Dependendo do argumento, ele fecha: \n",
    "1. A figura atual (sem argumento); \n",
    "2. Uma figura específica (número da figura como argumento); ou \n",
    "3. Todas as figuras (\"all\" como argumento).\n",
    "```python\n",
    "plt.close(1)     # fecha a figura 1\n",
    "```\n",
    "\n",
    "#### Subplots\n",
    "Com a função `subplot()` pode-se organizar os gráficos numa matriz regular de gráficos. Você deve informar o número de linhas e de colunas de gráficos, e a posição do próximo gráfico a ser plotado. Observe que a função `gridspec()` é uma alternativa mais poderosa.\n",
    "\n",
    "<img src='img/subplots.png' alt='Imagens de Subgráficos' style=\"width:600px\">\n"
   ]
  },
  {
   "cell_type": "markdown",
   "metadata": {},
   "source": [
    "#### Eixos\n",
    "Os eixos são semelhantes aos subgráficos, mas permitem a colocação de gráficos em qualquer local na figura. Então, se quisermos colocar um gráfico menor dentro de um maior, fazemos isso com a função `axes()`.\n",
    "\n",
    "#### Marcas nos Eixos (_ticks_)\n",
    "Marcas bem formatadas são importantes nas figuras prontas para uma publicação. O **Matplotlib** fornece um sistema totalmente configurável para marcas. Existem localizadores de marcas para especificar onde as marcas devem aparecer e formatadores de marcas para se conseguir a aparência desejada. Marcas maiores e menores podem ser locadas e formatadas independentemente uma da outra. Por padrão, os _ticks_ secundários não são mostrados, ou seja, há apenas uma lista vazia para eles: **NullLocator**.\n",
    "\n",
    "Os localizadores de _ticks_ controlam as posições das marcas e são definidos da seguinte maneira:\n",
    "```python\n",
    "ax = plt.gca()\n",
    "ax.xaxis.set_major_locator(eval(locator))\n",
    "```\n",
    "<img src='img/localizadores.png' alt='Imagem de localizadores de marcas dos gráficos.' style='width:600px'>\n",
    "\n",
    "Todos esses localizadores derivam da classe mãe **matplotlib.ticker.Locator**. Você pode fazer seu próprio localizador derivando dessa classe. Lidar com datas como marcas pode ser especialmente complicado e por isso, o **matplotlib** fornece localizadores especiais em **matplotlib.dates**."
   ]
  },
  {
   "cell_type": "markdown",
   "metadata": {},
   "source": [
    "<p style=\"text-align:right;\">>>>>> <a href=\"#topo\">Volta ao topo</a>"
   ]
  },
  {
   "cell_type": "markdown",
   "metadata": {},
   "source": [
    "<a id=\"4\"></a>\n",
    "## Outros tipos de Gráficos\n",
    "<img src='img/preenchidos.png' alt='Imagem de gráficos de senóides preenchidas.' style='float:right;width:400px'>\n",
    "\n",
    "### Área preenchida\n",
    "\n",
    "A partir do código mostrado a seguir, tente reproduzir o gráfico à direita, com áreas preenchidas.  \n",
    "\n",
    "<u>Dica</u>: Use o método `fill_between(x,y1,y2=0, where=None,interpolate=False,step=None, data=None)` para preencher a área horizontal entre duas curvas definidas pelos pontos $(x, y1)$ e $(x, y2)$; isso cria um ou vários polígonos para descrever a área preenchida; pode-se excluir algumas seções horizontais do preenchimento usando o parâmetro `where`.\n",
    "```python"
   ]
  },
  {
   "cell_type": "code",
   "execution_count": 10,
   "metadata": {},
   "outputs": [
    {
     "data": {
      "text/plain": [
       "[<matplotlib.lines.Line2D at 0x6de8b17f60>]"
      ]
     },
     "execution_count": 10,
     "metadata": {},
     "output_type": "execute_result"
    },
    {
     "data": {
      "image/png": "[encoded data removed]",
      "text/plain": [
       "<Figure size 432x288 with 1 Axes>"
      ]
     },
     "metadata": {
      "needs_background": "light"
     },
     "output_type": "display_data"
    }
   ],
   "source": [
    "n = 256\n",
    "X = np.linspace(-np.pi, np.pi, n, endpoint=True)\n",
    "Y = np.sin(2*X)\n",
    "plt.plot(X, Y+1, color='blue', alpha=1.00)\n",
    "plt.plot(X, Y-1, color='blue', alpha=1.00)\n",
    "#```"
   ]
  },
  {
   "cell_type": "markdown",
   "metadata": {},
   "source": [
    "<img src='img/dispersao.png' alt='Imagem de gráficos de dispersão.' style='float:right;width:400px'>\n",
    "\n",
    "### Dispersão\n",
    "\n",
    "A partir do código mostrado a seguir, tente reproduzir o gráfico à direita.  \n",
    "\n",
    "<u>Dica</u>: A cor é dada pelo ângulo entre (X, Y).\n",
    "```python\n",
    "n = 1024\n",
    "X = np.random.normal(0,1,n)\n",
    "Y = np.random.normal(0,1,n)\n",
    "plt.scatter(X,Y)\n",
    "```"
   ]
  },
  {
   "cell_type": "markdown",
   "metadata": {},
   "source": [
    "<img src='img/barras.png' alt='Imagem de gráficos de barras.' style='float:right;width:400px'>\n",
    "\n",
    "### Barras \n",
    "Começando pelo código seguinte, tente reproduzir o gráfico à direita adicionando rótulos às barras vermelhas.\n",
    "\n",
    "```python\n",
    "n = 12; X = np.arange(n)\n",
    "Y1 = (1-X/float(n))*np.random.uniform(0.5,1.0,n)\n",
    "Y2 = (1-X/float(n))*np.random.uniform(0.5,1.0,n)\n",
    "\n",
    "plt.bar(X, Y1, facecolor='#9999ff', edgecolor='white')\n",
    "plt.bar(X,-Y2, facecolor='#ff9999', edgecolor='white')\n",
    "for x, y in zip(X, Y1):\n",
    "    plt.text(x, y+0.05, '%.2f' % y, ha='center', va='bottom')\n",
    "plt.ylim(-1.25, +1.25); plt.show()\n",
    "```"
   ]
  },
  {
   "cell_type": "markdown",
   "metadata": {},
   "source": [
    "<img src='img/contornos.png' alt='Imagem de gráficos de contorno.' style='float:right;width:400px'>\n",
    "\n",
    "### Contornos\n",
    "A partir do código seguinte, tente reproduzir o gráfico à direita, cuidando do mapa de cores (_Colormaps_).  \n",
    "<u>Dica</u>: Use o comando `clabel`. \n",
    "```python\n",
    "def f(x, y):\n",
    "    return (1-x/2+x**5+y**3) * np.exp(-x**2-y**2)\n",
    "\n",
    "n = 256\n",
    "x = np.linspace(-3, 3, n)\n",
    "y = np.linspace(-3, 3, n)\n",
    "X, Y = np.meshgrid(x, y)\n",
    "\n",
    "plt.contourf(X, Y, f(X, Y), 8, alpha=.75, cmap='jet')\n",
    "C = plt.contour(X, Y, f(X, Y), 8, colors='black', linewidth=.5)\n",
    "plt.show()\n",
    "```"
   ]
  },
  {
   "cell_type": "markdown",
   "metadata": {},
   "source": [
    "<img src='img/imagem.png' alt='Imagem desfocada.' style='float:right;width:400px'>\n",
    "\n",
    "### Imagem\n",
    "A partir do código seguinte, tente reproduzir o gráfico à direita, cuidando do mapa de cores, da interpolação de imagens e da origem.  \n",
    "<u>Dica</u>: Cuide da origem da imagem no comando `imshow()` e use uma barra de cores. \n",
    "```python\n",
    "def f(x, y):\n",
    "    return (1-x/2+x**5+y**3) * np.exp(-x**2-y**2)\n",
    "\n",
    "n = 10\n",
    "x = np.linspace(-3, 3, 4 * n)\n",
    "y = np.linspace(-3, 3, 3 * n)\n",
    "X, Y = np.meshgrid(x, y)\n",
    "plt.imshow(f(X, Y))\n",
    "plt.show()\n",
    "```"
   ]
  },
  {
   "cell_type": "markdown",
   "metadata": {},
   "source": [
    "<img src='img/torta.png' alt='Imagem de gráficos de pizza.' style='float:right;width:400px'>\n",
    "\n",
    "### Torta\n",
    "A partir do código seguinte, tente reproduzir o gráfico à direita, cuidando das cores e do tamanho das fatias.  \n",
    "<u>Dica</u>: Modifique a var. Z.\n",
    "\n",
    "```python\n",
    "Z = np.random.uniform(0, 1, 20) \n",
    "plt.pie(Z)\n",
    "plt.show()\n",
    "```"
   ]
  },
  {
   "cell_type": "markdown",
   "metadata": {},
   "source": [
    "<img src='img/tremores.png' alt='Imagem de gráfico de tremores.' style='float:right;width:400px'>\n",
    "\n",
    "### Tremores\n",
    "A partir do código seguinte, tente reproduzir o gráfico à direita, cuidando das cores e orientações.  \n",
    "<u>Dica</u>: Desenhe as flechas duas vezes.\n",
    "\n",
    "```python\n",
    "n = 8\n",
    "X, Y = np.mgrid[0:n,0:n]\n",
    "plt.quiver(X, Y)\n",
    "plt.show()\n",
    "```"
   ]
  },
  {
   "cell_type": "markdown",
   "metadata": {},
   "source": [
    "<img src='img/grades.png' alt='Imagem de grade.' style='float:right;width:400px'>\n",
    "\n",
    "### Grades\n",
    "A partir do código seguinte, tente reproduzir o gráfico à direita, cuidando dos estilos de linha.  \n",
    "\n",
    "```python\n",
    "axes = plt.gca()\n",
    "axes.set_xlim(0, 4) \n",
    "axes.set_ylim(0, 3)\n",
    "axes.set_xticklabels([])\n",
    "axes.set_yticklabels([])\n",
    "plt.show()\n",
    "```"
   ]
  },
  {
   "cell_type": "markdown",
   "metadata": {},
   "source": [
    "<img src='img/subgraficos.png' alt='Imagem de subgráficos.' style='float:right;width:400px'>\n",
    "\n",
    "### Subgráficos\n",
    "A partir do código seguinte, tente reproduzir o gráfico à direita, cuidando dos estilos de linha.  \n",
    "<u>Dica</u>: Use vários `subplots` com diferentes partições.\n",
    "```python\n",
    "plt.subplot(2, 1, 1)\n",
    "plt.subplot(2, 3, 4)\n",
    "plt.subplot(2, 3, 5)\n",
    "plt.subplot(2, 3, 6)\n",
    "plt.show()\n",
    "```"
   ]
  },
  {
   "cell_type": "code",
   "execution_count": 7,
   "metadata": {},
   "outputs": [
    {
     "data": {
      "text/plain": [
       "([], [])"
      ]
     },
     "execution_count": 7,
     "metadata": {},
     "output_type": "execute_result"
    },
    {
     "data": {
      "image/png": "[encoded data removed]",
      "text/plain": [
       "<Figure size 432x288 with 4 Axes>"
      ]
     },
     "metadata": {},
     "output_type": "display_data"
    }
   ],
   "source": [
    "import matplotlib.pyplot as plt\n",
    "plt.subplot(2, 1, 1); plt.xticks(()); plt.yticks(())\n",
    "plt.subplot(2, 3, 4); plt.xticks(()); plt.yticks(())\n",
    "plt.subplot(2, 3, 5); plt.xticks(()); plt.yticks(())\n",
    "plt.subplot(2, 3, 6); plt.xticks(()); plt.yticks(())"
   ]
  },
  {
   "cell_type": "markdown",
   "metadata": {},
   "source": [
    "<img src='img/eixopolar.png' alt='Imagem de gráfico com eixo polar.' style='float:right;width:400px'>\n",
    "\n",
    "### Eixo Polar\n",
    "A partir do código seguinte, tente reproduzir o gráfico à direita, cuidando dos estilos de linha.  \n",
    "<u>Dica</u>: Modifique a linha com o comando `axes`.\n",
    "```python\n",
    "plt.axes([0, 0, 1, 1]) \n",
    "N = 20\n",
    "ang = np.arange(0., 2*np.pi, 2*np.pi/N)\n",
    "raio = 10*np.random.rand(N)\n",
    "larg = np.pi/4*np.random.rand(N)\n",
    "barras = plt.bar(ang, raio, width=larg, bottom=0.0)\n",
    "for r, barra in zip(raio, barras):\n",
    "    barra.set_facecolor(plt.cm.jet(r/10.))\n",
    "    barra.set_alpha(0.5)\n",
    "plt.show()\n",
    "```"
   ]
  },
  {
   "cell_type": "markdown",
   "metadata": {},
   "source": [
    "<img src='img/graf3d.png' alt='Imagem de gráfico 3D.' style='float:right;width:400px'>\n",
    "\n",
    "### Gráficos 3D\n",
    "A partir do código seguinte, tente reproduzir o gráfico à direita, cuidando dos estilos de linha.  \n",
    "<u>Dica</u>: Use o comando `contourf`.\n",
    "```python\n",
    "from mpl_toolkits.mplot3d import Axes3D\n",
    "fig = plt.figure()\n",
    "ax = Axes3D(fig)\n",
    "X = np.arange(-4, 4, 0.25)\n",
    "Y = np.arange(-4, 4, 0.25)\n",
    "X, Y = np.meshgrid(X, Y)\n",
    "R = np.sqrt(X**2 + Y**2)\n",
    "Z = np.sin(R)\n",
    "ax.plot_surface(X, Y, Z, rstride=1, cstride=1, cmap='hot')\n",
    "plt.show()\n",
    "```"
   ]
  },
  {
   "cell_type": "markdown",
   "metadata": {},
   "source": [
    "<img src='img/equacoes.png' alt='Imagem de equações matemáticas.' style='float:right;width:400px'>\n",
    "\n",
    "### Textos\n",
    "A partir do código seguinte, tente reproduzir o gráfico à direita, cuidando dos estilos de linha.  \n",
    "<u>Dica</u>: Dê uma olhada no logotipo do **matplotlib**.\n",
    "```python\n",
    "eq = (r\"$\\int_{-\\infty}^\\infty e^{-x^2}dx = \\sqrt{\\pi}$\")\n",
    "x,y = np.random.uniform(0, 1, 2)\n",
    "plt.text(x, y, eq, ha='center', va='center', color=\"#11557c\", alpha=0.35, transform=plt.gca().transAxes, fontsize=18, clip_on=True)\n",
    "plt.xticks(()); plt.yticks(())\n",
    "plt.show()\n",
    "```"
   ]
  },
  {
   "cell_type": "markdown",
   "metadata": {},
   "source": [
    "<p style=\"text-align:right;\">>>>>> <a href=\"#topo\">Volta ao topo</a>"
   ]
  },
  {
   "cell_type": "markdown",
   "metadata": {},
   "source": [
    "<a id=\"5\"></a>\n",
    "## Depois dessa Introdução... \n",
    "\n",
    "Tutorial do `Pyplot` - http://matplotlib.org/users/pyplot_tutorial.html \n",
    "- Introdução \n",
    "- Controlando as propriedades da linha \n",
    "- Trabalhando c/ várias figuras/eixos \n",
    "- Trabalhando com texto \n",
    " \n",
    "Tutorial sobre `image` - http://matplotlib.org/users/image_tutorial.html \n",
    "- Comandos de inicialização \n",
    "- Importando dados de imagem para matrizes Numpy \n",
    "- Plotando matrizes Numpy como imagens \n",
    "\n",
    "Tutorial sobre `text()` - http://matplotlib.org/users/index_text.html \n",
    "- Introdução ao text \n",
    "- Comandos text básicos \n",
    "- Propriedades de texto e layout \n",
    "- Escrevendo expr.s matemáticas \n",
    "- Renderização de texto em LaTeX \n",
    "- Anotando texto \n",
    " \n",
    "Tutorial sobre `artist` (artista) - http://matplotlib.org/users/artists.html \n",
    "- Introdução \n",
    "- Customizando seus objetos \n",
    "- Recipientes de objetos \n",
    "- Contêiner figure \n",
    "- Recipiente axes\n",
    "- Contêineres axis \n",
    "- Contêineres tick\n",
    " \n",
    "Tutorial sobre `path(caminho)` - http://matplotlib.org/users/path_tutorial.html \n",
    "- Introdução \n",
    "- Exemplo Bézier \n",
    "- Caminhos compostos \n",
    "\n",
    "Tutorial de transformações - http://matplotlib.org/users/transforms_tutorial.html \n",
    "- Introdução \n",
    "- Coordenadas de dados \n",
    "- Coordenadas dos eixos \n",
    "- Transformações homogêneas (_blended_) \n",
    "- Usando transformações de deslocamento (_offset_) para criar efeito sombra \n",
    "- A transformação tubo (_pipeline_)\n",
    " \n",
    "\n",
    "> Documentação Matplotlib: Guia do Usuário - http://matplotlib.org/users/index.html  \n",
    "> Documentação para código: use o comando `help(plt.plot)`. "
   ]
  },
  {
   "cell_type": "code",
   "execution_count": 88,
   "metadata": {
    "scrolled": false
   },
   "outputs": [
    {
     "name": "stdout",
     "output_type": "stream",
     "text": [
      "Help on function plot in module matplotlib.pyplot:\n",
      "\n",
      "plot(*args, scalex=True, scaley=True, data=None, **kwargs)\n",
      "    Plot y versus x as lines and/or markers.\n",
      "    \n",
      "    Call signatures::\n",
      "    \n",
      "        plot([x], y, [fmt], data=None, **kwargs)\n",
      "        plot([x], y, [fmt], [x2], y2, [fmt2], ..., **kwargs)\n",
      "    \n",
      "    The coordinates of the points or line nodes are given by *x*, *y*.\n",
      "    \n",
      "    The optional parameter *fmt* is a convenient way for defining basic\n",
      "    formatting like color, marker and linestyle. It's a shortcut string\n",
      "    notation described in the *Notes* section below.\n",
      "    \n",
      "    >>> plot(x, y)        # plot x and y using default line style and color\n",
      "    >>> plot(x, y, 'bo')  # plot x and y using blue circle markers\n",
      "    >>> plot(y)           # plot y using x as index array 0..N-1\n",
      "    >>> plot(y, 'r+')     # ditto, but with red plusses\n",
      "    \n",
      "    You can use `.Line2D` properties as keyword arguments for more\n",
      "    control on the appearance. Line properties and *fmt* can be mixed.\n",
      "    The following two calls yield identical results:\n",
      "    \n",
      "    >>> plot(x, y, 'go--', linewidth=2, markersize=12)\n",
      "    >>> plot(x, y, color='green', marker='o', linestyle='dashed',\n",
      "    ...      linewidth=2, markersize=12)\n",
      "    \n",
      "    When conflicting with *fmt*, keyword arguments take precedence.\n",
      "    \n",
      "    **Plotting labelled data**\n",
      "    \n",
      "    There's a convenient way for plotting objects with labelled data (i.e.\n",
      "    data that can be accessed by index ``obj['y']``). Instead of giving\n",
      "    the data in *x* and *y*, you can provide the object in the *data*\n",
      "    parameter and just give the labels for *x* and *y*::\n",
      "    \n",
      "    >>> plot('xlabel', 'ylabel', data=obj)\n",
      "    \n",
      "    All indexable objects are supported. This could e.g. be a `dict`, a\n",
      "    `pandas.DataFame` or a structured numpy array.\n",
      "    \n",
      "    \n",
      "    **Plotting multiple sets of data**\n",
      "    \n",
      "    There are various ways to plot multiple sets of data.\n",
      "    \n",
      "    - The most straight forward way is just to call `plot` multiple times.\n",
      "      Example:\n",
      "    \n",
      "      >>> plot(x1, y1, 'bo')\n",
      "      >>> plot(x2, y2, 'go')\n",
      "    \n",
      "    - Alternatively, if your data is already a 2d array, you can pass it\n",
      "      directly to *x*, *y*. A separate data set will be drawn for every\n",
      "      column.\n",
      "    \n",
      "      Example: an array ``a`` where the first column represents the *x*\n",
      "      values and the other columns are the *y* columns::\n",
      "    \n",
      "      >>> plot(a[0], a[1:])\n",
      "    \n",
      "    - The third way is to specify multiple sets of *[x]*, *y*, *[fmt]*\n",
      "      groups::\n",
      "    \n",
      "      >>> plot(x1, y1, 'g^', x2, y2, 'g-')\n",
      "    \n",
      "      In this case, any additional keyword argument applies to all\n",
      "      datasets. Also this syntax cannot be combined with the *data*\n",
      "      parameter.\n",
      "    \n",
      "    By default, each line is assigned a different style specified by a\n",
      "    'style cycle'. The *fmt* and line property parameters are only\n",
      "    necessary if you want explicit deviations from these defaults.\n",
      "    Alternatively, you can also change the style cycle using the\n",
      "    'axes.prop_cycle' rcParam.\n",
      "    \n",
      "    Parameters\n",
      "    ----------\n",
      "    x, y : array-like or scalar\n",
      "        The horizontal / vertical coordinates of the data points.\n",
      "        *x* values are optional. If not given, they default to\n",
      "        ``[0, ..., N-1]``.\n",
      "    \n",
      "        Commonly, these parameters are arrays of length N. However,\n",
      "        scalars are supported as well (equivalent to an array with\n",
      "        constant value).\n",
      "    \n",
      "        The parameters can also be 2-dimensional. Then, the columns\n",
      "        represent separate data sets.\n",
      "    \n",
      "    fmt : str, optional\n",
      "        A format string, e.g. 'ro' for red circles. See the *Notes*\n",
      "        section for a full description of the format strings.\n",
      "    \n",
      "        Format strings are just an abbreviation for quickly setting\n",
      "        basic line properties. All of these and more can also be\n",
      "        controlled by keyword arguments.\n",
      "    \n",
      "    data : indexable object, optional\n",
      "        An object with labelled data. If given, provide the label names to\n",
      "        plot in *x* and *y*.\n",
      "    \n",
      "        .. note::\n",
      "            Technically there's a slight ambiguity in calls where the\n",
      "            second label is a valid *fmt*. `plot('n', 'o', data=obj)`\n",
      "            could be `plt(x, y)` or `plt(y, fmt)`. In such cases,\n",
      "            the former interpretation is chosen, but a warning is issued.\n",
      "            You may suppress the warning by adding an empty format string\n",
      "            `plot('n', 'o', '', data=obj)`.\n",
      "    \n",
      "    \n",
      "    Other Parameters\n",
      "    ----------------\n",
      "    scalex, scaley : bool, optional, default: True\n",
      "        These parameters determined if the view limits are adapted to\n",
      "        the data limits. The values are passed on to `autoscale_view`.\n",
      "    \n",
      "    **kwargs : `.Line2D` properties, optional\n",
      "        *kwargs* are used to specify properties like a line label (for\n",
      "        auto legends), linewidth, antialiasing, marker face color.\n",
      "        Example::\n",
      "    \n",
      "        >>> plot([1,2,3], [1,2,3], 'go-', label='line 1', linewidth=2)\n",
      "        >>> plot([1,2,3], [1,4,9], 'rs',  label='line 2')\n",
      "    \n",
      "        If you make multiple lines with one plot command, the kwargs\n",
      "        apply to all those lines.\n",
      "    \n",
      "        Here is a list of available `.Line2D` properties:\n",
      "    \n",
      "          agg_filter: a filter function, which takes a (m, n, 3) float array and a dpi value, and returns a (m, n, 3) array \n",
      "      alpha: float\n",
      "      animated: bool\n",
      "      antialiased: bool\n",
      "      clip_box: `.Bbox`\n",
      "      clip_on: bool\n",
      "      clip_path: [(`~matplotlib.path.Path`, `.Transform`) | `.Patch` | None] \n",
      "      color: color\n",
      "      contains: callable\n",
      "      dash_capstyle: {'butt', 'round', 'projecting'}\n",
      "      dash_joinstyle: {'miter', 'round', 'bevel'}\n",
      "      dashes: sequence of floats (on/off ink in points) or (None, None)\n",
      "      drawstyle: {'default', 'steps', 'steps-pre', 'steps-mid', 'steps-post'}\n",
      "      figure: `.Figure`\n",
      "      fillstyle: {'full', 'left', 'right', 'bottom', 'top', 'none'}\n",
      "      gid: str\n",
      "      in_layout: bool\n",
      "      label: object\n",
      "      linestyle: {'-', '--', '-.', ':', '', (offset, on-off-seq), ...}\n",
      "      linewidth: float\n",
      "      marker: unknown\n",
      "      markeredgecolor: color\n",
      "      markeredgewidth: float\n",
      "      markerfacecolor: color\n",
      "      markerfacecoloralt: color\n",
      "      markersize: float\n",
      "      markevery: unknown\n",
      "      path_effects: `.AbstractPathEffect`\n",
      "      picker: float or callable[[Artist, Event], Tuple[bool, dict]]\n",
      "      pickradius: float\n",
      "      rasterized: bool or None\n",
      "      sketch_params: (scale: float, length: float, randomness: float) \n",
      "      snap: bool or None\n",
      "      solid_capstyle: {'butt', 'round', 'projecting'}\n",
      "      solid_joinstyle: {'miter', 'round', 'bevel'}\n",
      "      transform: matplotlib.transforms.Transform\n",
      "      url: str\n",
      "      visible: bool\n",
      "      xdata: 1D array\n",
      "      ydata: 1D array\n",
      "      zorder: float\n",
      "    \n",
      "    Returns\n",
      "    -------\n",
      "    lines\n",
      "        A list of `.Line2D` objects representing the plotted data.\n",
      "    \n",
      "    \n",
      "    See Also\n",
      "    --------\n",
      "    scatter : XY scatter plot with markers of varying size and/or color (\n",
      "        sometimes also called bubble chart).\n",
      "    \n",
      "    \n",
      "    Notes\n",
      "    -----\n",
      "    **Format Strings**\n",
      "    \n",
      "    A format string consists of a part for color, marker and line::\n",
      "    \n",
      "        fmt = '[color][marker][line]'\n",
      "    \n",
      "    Each of them is optional. If not provided, the value from the style\n",
      "    cycle is used. Exception: If ``line`` is given, but no ``marker``,\n",
      "    the data will be a line without markers.\n",
      "    \n",
      "    **Colors**\n",
      "    \n",
      "    The following color abbreviations are supported:\n",
      "    \n",
      "    =============    ===============================\n",
      "    character        color\n",
      "    =============    ===============================\n",
      "    ``'b'``          blue\n",
      "    ``'g'``          green\n",
      "    ``'r'``          red\n",
      "    ``'c'``          cyan\n",
      "    ``'m'``          magenta\n",
      "    ``'y'``          yellow\n",
      "    ``'k'``          black\n",
      "    ``'w'``          white\n",
      "    =============    ===============================\n",
      "    \n",
      "    If the color is the only part of the format string, you can\n",
      "    additionally use any  `matplotlib.colors` spec, e.g. full names\n",
      "    (``'green'``) or hex strings (``'#008000'``).\n",
      "    \n",
      "    **Markers**\n",
      "    \n",
      "    =============    ===============================\n",
      "    character        description\n",
      "    =============    ===============================\n",
      "    ``'.'``          point marker\n",
      "    ``','``          pixel marker\n",
      "    ``'o'``          circle marker\n",
      "    ``'v'``          triangle_down marker\n",
      "    ``'^'``          triangle_up marker\n",
      "    ``'<'``          triangle_left marker\n",
      "    ``'>'``          triangle_right marker\n",
      "    ``'1'``          tri_down marker\n",
      "    ``'2'``          tri_up marker\n",
      "    ``'3'``          tri_left marker\n",
      "    ``'4'``          tri_right marker\n",
      "    ``'s'``          square marker\n",
      "    ``'p'``          pentagon marker\n",
      "    ``'*'``          star marker\n",
      "    ``'h'``          hexagon1 marker\n",
      "    ``'H'``          hexagon2 marker\n",
      "    ``'+'``          plus marker\n",
      "    ``'x'``          x marker\n",
      "    ``'D'``          diamond marker\n",
      "    ``'d'``          thin_diamond marker\n",
      "    ``'|'``          vline marker\n",
      "    ``'_'``          hline marker\n",
      "    =============    ===============================\n",
      "    \n",
      "    **Line Styles**\n",
      "    \n",
      "    =============    ===============================\n",
      "    character        description\n",
      "    =============    ===============================\n",
      "    ``'-'``          solid line style\n",
      "    ``'--'``         dashed line style\n",
      "    ``'-.'``         dash-dot line style\n",
      "    ``':'``          dotted line style\n",
      "    =============    ===============================\n",
      "    \n",
      "    Example format strings::\n",
      "    \n",
      "        'b'    # blue markers with default shape\n",
      "        'ro'   # red circles\n",
      "        'g-'   # green solid line\n",
      "        '--'   # dashed line with default color\n",
      "        'k^:'  # black triangle_up markers connected by a dotted line\n",
      "    \n",
      "    .. note::\n",
      "        In addition to the above described arguments, this function can take a\n",
      "        **data** keyword argument. If such a **data** argument is given, the\n",
      "        following arguments are replaced by **data[<arg>]**:\n",
      "    \n",
      "        * All arguments with the following names: 'x', 'y'.\n",
      "    \n",
      "        Objects passed as **data** must support item access (``data[<arg>]``) and\n",
      "        membership test (``<arg> in data``).\n",
      "\n"
     ]
    }
   ],
   "source": [
    "import matplotlib.pyplot as plt \n",
    "help(plt.plot)"
   ]
  },
  {
   "cell_type": "markdown",
   "metadata": {},
   "source": [
    "<p style=\"text-align:right;\">>>>>> <a href=\"#topo\">Volta ao topo</a>"
   ]
  },
  {
   "cell_type": "markdown",
   "metadata": {},
   "source": [
    "<a id=\"6\"></a>\n",
    "## Referências Rápidas\n",
    "<img src='img/proprslinhas.png' alt='Propriedades de linhas.' style='float:right;width:600px'>\n",
    "\n",
    "### Propriedades de Linha"
   ]
  },
  {
   "cell_type": "markdown",
   "metadata": {},
   "source": [
    "| Estilos de Linha | Tipos de Marcador |\n",
    "|:-----------------|:------------------|\n",
    "|<img src='img/estiloslinha.png' alt='Estilos de linha.' style='float:left;width:350px'>|<img src='img/tiposmarcador.png' alt='Tipos de marcador.' style='float:right;width:350px'>|"
   ]
  },
  {
   "cell_type": "markdown",
   "metadata": {},
   "source": [
    "### Mapas de Cores\n",
    "<img src='img/mapascor.png' alt='Mapas de Cores.' style='float:center;width:400px'>"
   ]
  },
  {
   "cell_type": "markdown",
   "metadata": {},
   "source": [
    "<p style=\"text-align:right;\">>>>>> <a href=\"#topo\">Volta ao topo</a>"
   ]
  },
  {
   "cell_type": "markdown",
   "metadata": {},
   "source": [
    "<p style=\"text-align:center;\">>>>>> <a href=\"http:/notebooks/index.ipynb\">Volta ao Índice... </a><<<<<"
   ]
  },
  {
   "cell_type": "code",
   "execution_count": null,
   "metadata": {},
   "outputs": [],
   "source": []
  }
 ],
 "metadata": {
  "kernelspec": {
   "display_name": "Python 3",
   "language": "python",
   "name": "python3"
  },
  "language_info": {
   "codemirror_mode": {
    "name": "ipython",
    "version": 3
   },
   "file_extension": ".py",
   "mimetype": "text/x-python",
   "name": "python",
   "nbconvert_exporter": "python",
   "pygments_lexer": "ipython3",
   "version": "3.8.5"
  }
 },
 "nbformat": 4,
 "nbformat_minor": 2
}
