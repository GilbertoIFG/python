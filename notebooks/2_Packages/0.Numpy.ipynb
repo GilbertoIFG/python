{
 "cells": [
  {
   "cell_type": "markdown",
   "metadata": {
    "slideshow": {
     "slide_type": "slide"
    },
    "tags": [
     "0."
    ]
   },
   "source": [
    "# Módulos Científicos"
   ]
  },
  {
   "cell_type": "markdown",
   "metadata": {
    "slideshow": {
     "slide_type": "slide"
    },
    "tags": [
     "2."
    ]
   },
   "source": [
    "## Numpy\n",
    "<img src=\"img/numpy.png\" alt=\"Logo do pacote NumPy\" style=\"width:300px;height:150px;\">"
   ]
  },
  {
   "cell_type": "markdown",
   "metadata": {},
   "source": [
    "A linguagem Python armazena dados de várias maneiras diferentes, mas o mais comum é o uso de **listas** e **dicionários**. O objeto **list** do Python pode armazenar praticamente qualquer tipo de objeto como elemento. Mas uma operação nos elementos de uma lista só pode ser feita através de laços iterativos, que são computacionalmente ineficientes no Python. O pacote **NumPy** permite que os usuários superem as deficiências das listas, provendo um objeto de armazenamento de dados chamado **ndarray**. \n",
    "\n",
    "O **NumPy** é um pacote fundamental para se fazer computação científica na linguagem Python.\n",
    "\n",
    "Algumas características importantes do **Numpy**: \n",
    "<ul><li>Facilidades para manipulação de matrizes N-dimensionais</li>\n",
    "<li>Funções com operações do tipo elemento-a-elemento (*broadcasting*)</li>\n",
    "<li>Possui ferramentas para encapsular códigos C/C++ e Fortran</li>\n",
    "<li>Possui módulos de funções para Álgebra Linear, para Transformada de Fourier e para Números Aleatórios.</li></ul>\n",
    "\n",
    "Além do uso científico, o **NumPy** também pode ser usado como um contêiner multidimensional eficiente para dados genéricos. Tipos de dados arbitrários (estruturas de dados - registros) podem ser definidos. Isso permite ao **NumPy** fácil e rápida integração a uma ampla variedade de bancos de dados. A seguir veremos como usar o pacote **NumPy** na manipulação de arranjos matriciais (*ndarray*).\n",
    "\n",
    "Antes de mais nada, precisamos importar o pacote **NumPy** para só então usarmos suas classes, funções e demais recursos."
   ]
  },
  {
   "cell_type": "code",
   "execution_count": 2,
   "metadata": {},
   "outputs": [],
   "source": [
    "import numpy as np"
   ]
  },
  {
   "cell_type": "markdown",
   "metadata": {},
   "source": [
    "Criando um arranjo unidimensional (vetor) a partir de uma lista de elementos inteiros, usando a função **`array()`**:"
   ]
  },
  {
   "cell_type": "code",
   "execution_count": 2,
   "metadata": {},
   "outputs": [
    {
     "data": {
      "text/plain": [
       "array([4, 5, 6])"
      ]
     },
     "execution_count": 2,
     "metadata": {},
     "output_type": "execute_result"
    }
   ],
   "source": [
    "np.array([4,5,6])                    # converte uma lista num vetor (array)"
   ]
  },
  {
   "cell_type": "markdown",
   "metadata": {},
   "source": [
    "Criando um arranjo bidimensional (matriz) com elementos do tipo real a partir de uma lista de elementos inteiros:"
   ]
  },
  {
   "cell_type": "code",
   "execution_count": 3,
   "metadata": {},
   "outputs": [
    {
     "data": {
      "text/plain": [
       "array([[ 4.,  5.,  6.],\n",
       "       [ 7.,  8.,  9.],\n",
       "       [10., 11., 12.]])"
      ]
     },
     "execution_count": 3,
     "metadata": {},
     "output_type": "execute_result"
    }
   ],
   "source": [
    "np.array([[4,5,6],[7,8,9],[10,11,12]], dtype = float)"
   ]
  },
  {
   "cell_type": "markdown",
   "metadata": {},
   "source": [
    "Verificando a forma de um arranjo (quantidade de linhas e de colunas da matriz), usando a propriedade **`shape`**:"
   ]
  },
  {
   "cell_type": "code",
   "execution_count": 5,
   "metadata": {},
   "outputs": [
    {
     "data": {
      "text/plain": [
       "(3, 3)"
      ]
     },
     "execution_count": 5,
     "metadata": {},
     "output_type": "execute_result"
    }
   ],
   "source": [
    "mat = np.array([[4,5,6],[7,8,9],[10,11,12]], dtype = float)\n",
    "mat.shape"
   ]
  },
  {
   "cell_type": "markdown",
   "metadata": {},
   "source": [
    "Criando um vetor com valores de 1 a 59, uniformemente espaçados de 2 em 2, usando a função **`arange()`**:"
   ]
  },
  {
   "cell_type": "code",
   "execution_count": 7,
   "metadata": {},
   "outputs": [
    {
     "name": "stdout",
     "output_type": "stream",
     "text": [
      "[ 1  3  5  7  9 11 13 15 17 19 21 23 25 27 29 31 33 35 37 39 41 43 45 47\n",
      " 49 51 53 55 57 59]\n"
     ]
    },
    {
     "data": {
      "text/plain": [
       "(30,)"
      ]
     },
     "execution_count": 7,
     "metadata": {},
     "output_type": "execute_result"
    }
   ],
   "source": [
    "faixa = np.arange(1,60,2)\n",
    "print(faixa)\n",
    "faixa.shape"
   ]
  },
  {
   "cell_type": "markdown",
   "metadata": {},
   "source": [
    "Mudando a forma de apresentação de um array (não há mudança na memória), por exemplo, de vetor para matriz:"
   ]
  },
  {
   "cell_type": "code",
   "execution_count": 10,
   "metadata": {},
   "outputs": [
    {
     "name": "stdout",
     "output_type": "stream",
     "text": [
      "[[ 1  3  5  7  9 11]\n",
      " [13 15 17 19 21 23]\n",
      " [25 27 29 31 33 35]\n",
      " [37 39 41 43 45 47]\n",
      " [49 51 53 55 57 59]]\n",
      "[ 1  3  5  7  9 11 13 15 17 19 21 23 25 27 29 31 33 35 37 39 41 43 45 47\n",
      " 49 51 53 55 57 59]\n"
     ]
    }
   ],
   "source": [
    "print(faixa.reshape(5,6))\n",
    "print(faixa)"
   ]
  },
  {
   "cell_type": "markdown",
   "metadata": {},
   "source": [
    "Gerando um vetor com 15 valores uniformemente espaçados de 1 a 8 (limites inclusivos), usando a função **`linspace()`**:"
   ]
  },
  {
   "cell_type": "code",
   "execution_count": 11,
   "metadata": {},
   "outputs": [
    {
     "name": "stdout",
     "output_type": "stream",
     "text": [
      "[1.  1.5 2.  2.5 3.  3.5 4.  4.5 5.  5.5 6.  6.5 7.  7.5 8. ]\n",
      "(15,)\n"
     ]
    }
   ],
   "source": [
    "x = np.linspace(1,8,15)\n",
    "print(x)\n",
    "print(x.shape)"
   ]
  },
  {
   "cell_type": "markdown",
   "metadata": {},
   "source": [
    "Agora, vamos alterar a forma do vetor na memória (a função **`resize()`** altera a forma da matriz na memória, ao contrário da função **`reshape()`** que só muda a forma na apresentação da informação)."
   ]
  },
  {
   "cell_type": "code",
   "execution_count": 12,
   "metadata": {},
   "outputs": [
    {
     "name": "stdout",
     "output_type": "stream",
     "text": [
      "(15,)\n",
      "[[1.  1.5 2. ]\n",
      " [2.5 3.  3.5]\n",
      " [4.  4.5 5. ]\n",
      " [5.5 6.  6.5]\n",
      " [7.  7.5 8. ]]\n"
     ]
    }
   ],
   "source": [
    "print(x.shape)\n",
    "x.resize(5,3)\n",
    "print(x)"
   ]
  },
  {
   "cell_type": "markdown",
   "metadata": {},
   "source": [
    "Criando um arranjo com todos os elementos iguais a um, usando a função **`ones()`**, e outro vetor com elementos iguais a zero, usando a função **`zeros()`**:"
   ]
  },
  {
   "cell_type": "code",
   "execution_count": 18,
   "metadata": {},
   "outputs": [
    {
     "data": {
      "text/plain": [
       "array([[[-5., -5., -5.],\n",
       "        [-5., -5., -5.],\n",
       "        [-5., -5., -5.]],\n",
       "\n",
       "       [[-5., -5., -5.],\n",
       "        [-5., -5., -5.],\n",
       "        [-5., -5., -5.]],\n",
       "\n",
       "       [[-5., -5., -5.],\n",
       "        [-5., -5., -5.],\n",
       "        [-5., -5., -5.]]])"
      ]
     },
     "execution_count": 18,
     "metadata": {},
     "output_type": "execute_result"
    }
   ],
   "source": [
    "y = np.ones((3,3,3))*(-5)\n",
    "y"
   ]
  },
  {
   "cell_type": "code",
   "execution_count": 17,
   "metadata": {},
   "outputs": [
    {
     "data": {
      "text/plain": [
       "array([[0., 0., 0., 0., 0.],\n",
       "       [0., 0., 0., 0., 0.]])"
      ]
     },
     "execution_count": 17,
     "metadata": {},
     "output_type": "execute_result"
    }
   ],
   "source": [
    "z = np.zeros((2,5))\n",
    "z"
   ]
  },
  {
   "cell_type": "markdown",
   "metadata": {},
   "source": [
    "Criando uma matriz diagonal unitária (matriz identidade), usando a função **`eye()`**:"
   ]
  },
  {
   "cell_type": "code",
   "execution_count": 11,
   "metadata": {},
   "outputs": [
    {
     "data": {
      "text/plain": [
       "array([[1., 0., 0., 0.],\n",
       "       [0., 1., 0., 0.],\n",
       "       [0., 0., 1., 0.],\n",
       "       [0., 0., 0., 1.]])"
      ]
     },
     "execution_count": 11,
     "metadata": {},
     "output_type": "execute_result"
    }
   ],
   "source": [
    "diag = np.eye(4)\n",
    "diag"
   ]
  },
  {
   "cell_type": "code",
   "execution_count": 12,
   "metadata": {},
   "outputs": [
    {
     "name": "stdout",
     "output_type": "stream",
     "text": [
      "[[1. 0. 0. 0.]\n",
      " [0. 1. 0. 0.]\n",
      " [0. 0. 1. 0.]\n",
      " [0. 0. 0. 1.]]\n"
     ]
    }
   ],
   "source": [
    "print(diag)"
   ]
  },
  {
   "cell_type": "markdown",
   "metadata": {},
   "source": [
    "Criando *arrays*: a partir da repetição de uma lista, usando a função **`repeat()`**:"
   ]
  },
  {
   "cell_type": "code",
   "execution_count": 13,
   "metadata": {},
   "outputs": [
    {
     "data": {
      "text/plain": [
       "array([1, 2, 3, 1, 2, 3, 1, 2, 3, 1, 2, 3, 1, 2, 3, 1, 2, 3])"
      ]
     },
     "execution_count": 13,
     "metadata": {},
     "output_type": "execute_result"
    }
   ],
   "source": [
    "r1 = np.array([1,2,3]*6)\n",
    "r1"
   ]
  },
  {
   "cell_type": "code",
   "execution_count": 14,
   "metadata": {},
   "outputs": [
    {
     "data": {
      "text/plain": [
       "array([1, 1, 1, 1, 1, 1, 2, 2, 2, 2, 2, 2, 3, 3, 3, 3, 3, 3])"
      ]
     },
     "execution_count": 14,
     "metadata": {},
     "output_type": "execute_result"
    }
   ],
   "source": [
    "r2 = np.repeat([1,2,3],6)\n",
    "r2"
   ]
  },
  {
   "cell_type": "markdown",
   "metadata": {},
   "source": [
    "Gerando dois *arrays* de dimensão 2x3, preenchidos com valores aleatórios entre 0 e 1, usando a função **`rand()`**:"
   ]
  },
  {
   "cell_type": "code",
   "execution_count": 17,
   "metadata": {},
   "outputs": [
    {
     "data": {
      "text/plain": [
       "array([[0.74933134, 0.12671332],\n",
       "       [0.85499479, 0.11260377],\n",
       "       [0.29180442, 0.25118911],\n",
       "       [0.8284215 , 0.72884443]])"
      ]
     },
     "execution_count": 17,
     "metadata": {},
     "output_type": "execute_result"
    }
   ],
   "source": [
    "a = np.random.rand(4,2)\n",
    "a"
   ]
  },
  {
   "cell_type": "markdown",
   "metadata": {},
   "source": [
    "**Exercício**: Gerar seis números aleatórios de 1 a 60 para apostar na MegaSena."
   ]
  },
  {
   "cell_type": "code",
   "execution_count": 9,
   "metadata": {},
   "outputs": [
    {
     "data": {
      "text/plain": [
       "array([[35, 54, 45, 11, 12, 35]], dtype=int8)"
      ]
     },
     "execution_count": 9,
     "metadata": {},
     "output_type": "execute_result"
    }
   ],
   "source": [
    "np.int8(np.random.rand(1,6)*60)+1"
   ]
  },
  {
   "cell_type": "code",
   "execution_count": 10,
   "metadata": {},
   "outputs": [
    {
     "data": {
      "text/plain": [
       "int"
      ]
     },
     "execution_count": 10,
     "metadata": {},
     "output_type": "execute_result"
    }
   ],
   "source": [
    "w = 343.655\n",
    "np.int"
   ]
  },
  {
   "cell_type": "code",
   "execution_count": 18,
   "metadata": {},
   "outputs": [
    {
     "data": {
      "text/plain": [
       "array([[0.08742837, 0.03442016],\n",
       "       [0.82023126, 0.63052888],\n",
       "       [0.15543115, 0.52576919],\n",
       "       [0.51440135, 0.34304103]])"
      ]
     },
     "execution_count": 18,
     "metadata": {},
     "output_type": "execute_result"
    }
   ],
   "source": [
    "b = np.random.rand(4,2)\n",
    "b"
   ]
  },
  {
   "cell_type": "markdown",
   "metadata": {},
   "source": [
    "Empilhando verticalmente as duas matrizes criadas anteriormente, <b>a</b> e <b>b</b>, usando a função **`vpstack()`**:"
   ]
  },
  {
   "cell_type": "code",
   "execution_count": 14,
   "metadata": {},
   "outputs": [
    {
     "data": {
      "text/plain": [
       "array([[0.53996556, 0.42256163, 0.67029691],\n",
       "       [0.87266006, 0.04045058, 0.74948525],\n",
       "       [0.27281835, 0.00416194, 0.59366966],\n",
       "       [0.50013994, 0.39291138, 0.04117415],\n",
       "       [0.00643488, 0.62346018, 0.5417651 ],\n",
       "       [0.80577621, 0.26696216, 0.13799899],\n",
       "       [0.17003891, 0.04706498, 0.11718278],\n",
       "       [0.69792834, 0.53697518, 0.4628835 ]])"
      ]
     },
     "execution_count": 14,
     "metadata": {},
     "output_type": "execute_result"
    }
   ],
   "source": [
    "vert = np.vstack([a,b])\n",
    "vert"
   ]
  },
  {
   "cell_type": "markdown",
   "metadata": {},
   "source": [
    "Agora, horizontalmente, usando a função **`hstack()`**:"
   ]
  },
  {
   "cell_type": "code",
   "execution_count": 19,
   "metadata": {},
   "outputs": [
    {
     "data": {
      "text/plain": [
       "array([[0.74933134, 0.12671332, 0.08742837, 0.03442016],\n",
       "       [0.85499479, 0.11260377, 0.82023126, 0.63052888],\n",
       "       [0.29180442, 0.25118911, 0.15543115, 0.52576919],\n",
       "       [0.8284215 , 0.72884443, 0.51440135, 0.34304103]])"
      ]
     },
     "execution_count": 19,
     "metadata": {},
     "output_type": "execute_result"
    }
   ],
   "source": [
    "hor = np.hstack((a,b))\n",
    "hor"
   ]
  },
  {
   "cell_type": "markdown",
   "metadata": {},
   "source": [
    "Vamos fazer algumas operações **elemento a elemento** (*element-wise*) em arranjos de mesmas dimensões:"
   ]
  },
  {
   "cell_type": "code",
   "execution_count": 27,
   "metadata": {},
   "outputs": [
    {
     "data": {
      "text/plain": [
       "array([[1, 2],\n",
       "       [3, 4]])"
      ]
     },
     "execution_count": 27,
     "metadata": {},
     "output_type": "execute_result"
    }
   ],
   "source": [
    "A = np.array([[1, 2],[3, 4]])\n",
    "A"
   ]
  },
  {
   "cell_type": "code",
   "execution_count": 28,
   "metadata": {},
   "outputs": [
    {
     "data": {
      "text/plain": [
       "array([[-1, -2],\n",
       "       [-3, -4]])"
      ]
     },
     "execution_count": 28,
     "metadata": {},
     "output_type": "execute_result"
    }
   ],
   "source": [
    "B = -A                         # oposto\n",
    "B"
   ]
  },
  {
   "cell_type": "code",
   "execution_count": 29,
   "metadata": {},
   "outputs": [
    {
     "data": {
      "text/plain": [
       "array([[0, 0],\n",
       "       [0, 0]])"
      ]
     },
     "execution_count": 29,
     "metadata": {},
     "output_type": "execute_result"
    }
   ],
   "source": [
    "A + B                          # soma elemento a elemento"
   ]
  },
  {
   "cell_type": "code",
   "execution_count": 31,
   "metadata": {},
   "outputs": [
    {
     "data": {
      "text/plain": [
       "array([[ -1,  -4],\n",
       "       [ -9, -16]])"
      ]
     },
     "execution_count": 31,
     "metadata": {},
     "output_type": "execute_result"
    }
   ],
   "source": [
    "A * B                          # multiplicação elemento a elemento --> não é multiplicação matricial"
   ]
  },
  {
   "cell_type": "code",
   "execution_count": 32,
   "metadata": {},
   "outputs": [
    {
     "data": {
      "text/plain": [
       "array([[ 1,  8],\n",
       "       [27, 64]], dtype=int32)"
      ]
     },
     "execution_count": 32,
     "metadata": {},
     "output_type": "execute_result"
    }
   ],
   "source": [
    "A**3"
   ]
  },
  {
   "cell_type": "markdown",
   "metadata": {},
   "source": [
    "**Multiplicação matricial**:"
   ]
  },
  {
   "cell_type": "code",
   "execution_count": 36,
   "metadata": {},
   "outputs": [
    {
     "name": "stdout",
     "output_type": "stream",
     "text": [
      "A =\n",
      " [[1 2]\n",
      " [3 4]] \n",
      "B =\n",
      " [[-1 -2]\n",
      " [-3 -4]]\n",
      "A x B =\n",
      " [[ -7 -10]\n",
      " [-15 -22]]\n"
     ]
    }
   ],
   "source": [
    "print('A =\\n',A,\"\\nB =\\n\",B)\n",
    "print('A x B =\\n',A.dot(B))"
   ]
  },
  {
   "cell_type": "markdown",
   "metadata": {},
   "source": [
    "**Transposição matricial**:"
   ]
  },
  {
   "cell_type": "code",
   "execution_count": 40,
   "metadata": {},
   "outputs": [
    {
     "name": "stdout",
     "output_type": "stream",
     "text": [
      "[[1 3]\n",
      " [2 4]]\n",
      "[[1 3]\n",
      " [2 4]]\n"
     ]
    }
   ],
   "source": [
    "print(A.transpose())\n",
    "print(A.T)"
   ]
  },
  {
   "cell_type": "markdown",
   "metadata": {},
   "source": [
    "Agora, vamos verificar o tipo de dados dos elementos na matriz:"
   ]
  },
  {
   "cell_type": "code",
   "execution_count": 41,
   "metadata": {
    "scrolled": true
   },
   "outputs": [
    {
     "name": "stdout",
     "output_type": "stream",
     "text": [
      "int32 float64\n"
     ]
    }
   ],
   "source": [
    "print(A.dtype,a.dtype)"
   ]
  },
  {
   "cell_type": "markdown",
   "metadata": {},
   "source": [
    "Mudando o tipo de dados da matriz, de inteiro para ponto flutuante (*float*):"
   ]
  },
  {
   "cell_type": "code",
   "execution_count": 43,
   "metadata": {},
   "outputs": [
    {
     "data": {
      "text/plain": [
       "array([[1., 2.],\n",
       "       [3., 4.]], dtype=float32)"
      ]
     },
     "execution_count": 43,
     "metadata": {},
     "output_type": "execute_result"
    }
   ],
   "source": [
    "C = A.astype('f')\n",
    "C"
   ]
  },
  {
   "cell_type": "code",
   "execution_count": 28,
   "metadata": {},
   "outputs": [
    {
     "name": "stdout",
     "output_type": "stream",
     "text": [
      "[[1. 2.]\n",
      " [3. 4.]]\n"
     ]
    }
   ],
   "source": [
    "print(C)"
   ]
  },
  {
   "cell_type": "markdown",
   "metadata": {},
   "source": [
    "Agora, vamos ver algumas funções matemáticas aplicadas aos elementos de uma matriz, começando pela soma, depois valores máximo e mínimo, e por fim a média:"
   ]
  },
  {
   "cell_type": "code",
   "execution_count": 29,
   "metadata": {},
   "outputs": [
    {
     "name": "stdout",
     "output_type": "stream",
     "text": [
      "10 4 1 2.5\n"
     ]
    }
   ],
   "source": [
    "print(A.sum(), A.max(), A.min(), A.mean())"
   ]
  },
  {
   "cell_type": "markdown",
   "metadata": {},
   "source": [
    "Tabuada de 5, indexação e fatiamento:"
   ]
  },
  {
   "cell_type": "code",
   "execution_count": 30,
   "metadata": {},
   "outputs": [
    {
     "data": {
      "text/plain": [
       "array([ 0,  5, 10, 15, 20, 25, 30, 35, 40, 45, 50])"
      ]
     },
     "execution_count": 30,
     "metadata": {},
     "output_type": "execute_result"
    }
   ],
   "source": [
    "tab5 = np.arange(0,11)*5                          # ou: np.arange(0,51,5)\n",
    "tab5"
   ]
  },
  {
   "cell_type": "code",
   "execution_count": 31,
   "metadata": {},
   "outputs": [
    {
     "name": "stdout",
     "output_type": "stream",
     "text": [
      "[ 5 10 15 20]\n",
      "50\n",
      "[50 45 40 35 30 25 20 15 10  5  0]\n"
     ]
    }
   ],
   "source": [
    "print(tab5[1:5])\n",
    "print(tab5[-1])\n",
    "print(tab5[::-1])"
   ]
  },
  {
   "cell_type": "markdown",
   "metadata": {},
   "source": [
    "Criando um arranjo bidimensional a partir de um vetor:"
   ]
  },
  {
   "cell_type": "code",
   "execution_count": 32,
   "metadata": {},
   "outputs": [
    {
     "name": "stdout",
     "output_type": "stream",
     "text": [
      "[ 0  1  2  3  4  5  6  7  8  9 10 11 12 13 14 15 16 17 18 19 20]\n"
     ]
    },
    {
     "data": {
      "text/plain": [
       "array([[ 0,  1,  2,  3,  4,  5,  6],\n",
       "       [ 7,  8,  9, 10, 11, 12, 13],\n",
       "       [14, 15, 16, 17, 18, 19, 20]])"
      ]
     },
     "execution_count": 32,
     "metadata": {},
     "output_type": "execute_result"
    }
   ],
   "source": [
    "d = np.arange(21)\n",
    "print(d)\n",
    "d.reshape(3,7)"
   ]
  },
  {
   "cell_type": "code",
   "execution_count": 33,
   "metadata": {},
   "outputs": [
    {
     "data": {
      "text/plain": [
       "(21,)"
      ]
     },
     "execution_count": 33,
     "metadata": {},
     "output_type": "execute_result"
    }
   ],
   "source": [
    "d.shape"
   ]
  },
  {
   "cell_type": "code",
   "execution_count": 34,
   "metadata": {},
   "outputs": [
    {
     "name": "stdout",
     "output_type": "stream",
     "text": [
      "[ 0  1  2  3  4  5  6  7  8  9 10 11 12 13 14 15 16 17 18 19 20 21 22 23\n",
      " 24]\n",
      "[[ 0  1  2  3  4]\n",
      " [ 5  6  7  8  9]\n",
      " [10 11 12 13 14]\n",
      " [15 16 17 18 19]\n",
      " [20 21 22 23 24]]\n"
     ]
    }
   ],
   "source": [
    "d = np.arange(25)\n",
    "print(d)\n",
    "d.resize(5,5)\n",
    "print(d)"
   ]
  },
  {
   "cell_type": "markdown",
   "metadata": {},
   "source": [
    "Acessando a quarta e quinta colunas da quarta linha da matriz **d**. Observe que a numeração das linhas e colunas começam em 0 (zero):"
   ]
  },
  {
   "cell_type": "code",
   "execution_count": 35,
   "metadata": {},
   "outputs": [
    {
     "name": "stdout",
     "output_type": "stream",
     "text": [
      "[18 19]\n"
     ]
    },
    {
     "data": {
      "text/plain": [
       "(5, 5)"
      ]
     },
     "execution_count": 35,
     "metadata": {},
     "output_type": "execute_result"
    }
   ],
   "source": [
    "print(d[3,3:5])\n",
    "d.shape"
   ]
  },
  {
   "cell_type": "markdown",
   "metadata": {},
   "source": [
    "Selecionando os valores maiores que 15 da matriz **d**, e atribuindo valor zero:"
   ]
  },
  {
   "cell_type": "code",
   "execution_count": 36,
   "metadata": {},
   "outputs": [
    {
     "name": "stdout",
     "output_type": "stream",
     "text": [
      "[16 17 18 19 20 21 22 23 24]\n",
      "[[ 0  1  2  3  4]\n",
      " [ 5  6  7  8  9]\n",
      " [10 11 12 13 14]\n",
      " [15  0  0  0  0]\n",
      " [ 0  0  0  0  0]]\n"
     ]
    }
   ],
   "source": [
    "print(d[d>15])\n",
    "d[d>15] = 0\n",
    "print(d)"
   ]
  },
  {
   "cell_type": "markdown",
   "metadata": {},
   "source": [
    "Criando uma matriz 3x3 preenchida com números inteiros aleatórios entre 5 e 20:"
   ]
  },
  {
   "cell_type": "code",
   "execution_count": 37,
   "metadata": {},
   "outputs": [
    {
     "data": {
      "text/plain": [
       "array([[10, 14, 18],\n",
       "       [ 5, 10, 16],\n",
       "       [ 6, 18, 17]])"
      ]
     },
     "execution_count": 37,
     "metadata": {},
     "output_type": "execute_result"
    }
   ],
   "source": [
    "e = np.random.randint(5,20,(3,3))\n",
    "e"
   ]
  },
  {
   "cell_type": "markdown",
   "metadata": {},
   "source": [
    "### Construção Rápida de Arranjos\n",
    "\n",
    "Existem algumas instâncias de classe que fazem uso especial da funcionalidade do fatiamento (slicing) para fornecer meios eficientes na construção de arranjos (vetores, matrizes). Vamos ver a operação das funções **mgrid(), ogrid()** e dos comandos **r_ e c_** na construção rápida de arranjos. \n",
    "\n",
    "Por exemplo, ao invés de escrevermos:"
   ]
  },
  {
   "cell_type": "code",
   "execution_count": 38,
   "metadata": {},
   "outputs": [
    {
     "data": {
      "text/plain": [
       "array([ 3.        ,  0.        ,  0.        ,  0.        ,  0.        ,\n",
       "        0.        , -1.        , -0.77777778, -0.55555556, -0.33333333,\n",
       "       -0.11111111,  0.11111111,  0.33333333,  0.55555556,  0.77777778,\n",
       "        1.        ])"
      ]
     },
     "execution_count": 38,
     "metadata": {},
     "output_type": "execute_result"
    }
   ],
   "source": [
    "a = np.concatenate(([3], [0]*5, np.arange(-1, 1.002, 2/9.0)))\n",
    "a"
   ]
  },
  {
   "cell_type": "markdown",
   "metadata": {},
   "source": [
    "Usando o comando **r_** podemos fazer a concatenação ou mesclagem de linhas (*row-wise merging*) escrevendo apenas:"
   ]
  },
  {
   "cell_type": "code",
   "execution_count": 3,
   "metadata": {},
   "outputs": [
    {
     "data": {
      "text/plain": [
       "array([ 3.        ,  0.        ,  0.        ,  0.        ,  0.        ,\n",
       "        0.        , -1.        , -0.77777778, -0.55555556, -0.33333333,\n",
       "       -0.11111111,  0.11111111,  0.33333333,  0.55555556,  0.77777778,\n",
       "        1.        ])"
      ]
     },
     "execution_count": 3,
     "metadata": {},
     "output_type": "execute_result"
    }
   ],
   "source": [
    "# o resultado é o mesmo obtido na concatenação anterior!\n",
    "b = np.r_[3,[0]*5,-1:1:10j]   \n",
    "# o terceiro valor no slicing, 10j, indica a qtde de pontos a serem produzidos entre -1 e 1 (linspace)\n",
    "b"
   ]
  },
  {
   "cell_type": "markdown",
   "metadata": {},
   "source": [
    "Essa forma facilita a digitação e torna o código mais legível. Observe como os objetos são concatenados e a sintaxe de fatiamento foi usada para construir intervalos. Outro termo que merece explicação é o número complexo **10j** que foi usado como o tamanho do passo na sintaxe do fatiamento. Esse uso não padrão permite que o número seja interpretado como o **número de pontos** a serem produzidos no intervalo, ao invés de um **tamanho de passo**. \n",
    "\n",
    "Esse uso não padrão pode ser desagradável para alguns, mas dá ao usuário a capacidade de construir rapidamente vetores complicados de forma simples. Quando o número de pontos é especificado dessa maneira, o ponto final do intervalo é inclusivo.\n",
    "\n",
    "A letra \"**r**\" significa **mesclagem de linha** (*row*), porque se os objetos entre vírgulas forem matrizes bidimensionais, eles serão empilhados em linhas (e, portanto, devem ter colunas proporcionais). Existe um comando equivalente **c_** que empilha *arrays* bidimensionais em colunas, **mesclagem em coluna** (*column*), com funcionamento idêntico ao **r_** para arranjos unidimensionais.\n",
    "\n",
    "### Geraçao de Malhas (grades)\n",
    "\n",
    "Uma instância da classe <tt>nd_grid</tt>, **mgrid[ ]**, no seu formato mais simples, é usada para construir intervalos de faixas unidimensionais como substituta conveniente à função **arange()**. Também usa números complexos na indicação do **tamanho do passo** para indicar o número de pontos a serem colocados entre os pontos inicial e final (inclusivos). O propósito real dessa função, entretanto, é o de produzir grades N-dimensionais que forneçam matrizes de coordenadas para um volume N-dimensional. A maneira mais fácil de entender isso é com um exemplo de uso da função:"
   ]
  },
  {
   "cell_type": "code",
   "execution_count": 40,
   "metadata": {},
   "outputs": [
    {
     "name": "stdout",
     "output_type": "stream",
     "text": [
      "(2, 5, 5)\n"
     ]
    },
    {
     "name": "stderr",
     "output_type": "stream",
     "text": [
      "E:\\python\\WPy64-3720\\python-3.7.2.amd64\\lib\\site-packages\\ipykernel_launcher.py:7: MatplotlibDeprecationWarning: Adding an axes using the same arguments as a previous axes currently reuses the earlier instance.  In a future version, a new instance will always be created and returned.  Meanwhile, this warning can be suppressed, and the future behavior ensured, by passing a unique label to each axes instance.\n",
      "  import sys\n"
     ]
    }
   ],
   "source": [
    "from pylab import plot, axes\n",
    "\n",
    "grade = np.mgrid[0:5,0:5]\n",
    "print(grade.shape)\n",
    "\n",
    "plot(grade[0,:,:],grade[1,:,:],'*');\n",
    "axes().set_aspect('equal')"
   ]
  },
  {
   "cell_type": "code",
   "execution_count": 41,
   "metadata": {},
   "outputs": [
    {
     "data": {
      "text/plain": [
       "array([[[0.        , 0.        , 0.        , 0.        ],\n",
       "        [1.66666667, 1.66666667, 1.66666667, 1.66666667],\n",
       "        [3.33333333, 3.33333333, 3.33333333, 3.33333333],\n",
       "        [5.        , 5.        , 5.        , 5.        ]],\n",
       "\n",
       "       [[0.        , 1.66666667, 3.33333333, 5.        ],\n",
       "        [0.        , 1.66666667, 3.33333333, 5.        ],\n",
       "        [0.        , 1.66666667, 3.33333333, 5.        ],\n",
       "        [0.        , 1.66666667, 3.33333333, 5.        ]]])"
      ]
     },
     "execution_count": 41,
     "metadata": {},
     "output_type": "execute_result"
    }
   ],
   "source": [
    "np.mgrid[0:5:4j,0:5:4j]"
   ]
  },
  {
   "cell_type": "markdown",
   "metadata": {},
   "source": [
    "Ter matrizes de malha como esta é, por vezes, muito útil. No entanto, nem sempre é necessário avaliar algumas funções N-dimensionais numa grade, devido às regras de transmissão de arranjos do **Numpy** e do **SciPy**. Se este for o único propósito da geração de uma grade de malha, então você deve usar a outra instância da classe <tt>nd_grid</tt>, **ogrid[ ]** que gera uma grade “aberta” (esparsa) usando **newaxis** para criar ***N*** matrizes N-dimensionais, onde somente uma dimensão em cada arranjo tem comprimento maior que 1. Isso economiza memória e produz o mesmo resultado se a única finalidade da grade de malha for gerar pontos de amostra para avaliação de uma função N-dimensional.\n",
    "\n",
    "### Polinômios \n",
    "\n",
    "Existem duas maneiras (intercambiáveis) de lidar com polinômios unidimensionais no Python. A primeira é usando a classe polinomial unidimensional, **poly1d** do **Numpy** (forma mais antiga).  A classe **poly1d** aceita coeficientes ou raízes polinomiais para inicializar um polinômio. O objeto polinomial pode então ser: manipulado em expressões algébricas, integrado, diferenciado, avaliado e até mostrado como um polinômio."
   ]
  },
  {
   "cell_type": "code",
   "execution_count": 8,
   "metadata": {},
   "outputs": [
    {
     "name": "stdout",
     "output_type": "stream",
     "text": [
      "Polinômio:\n",
      "    2\n",
      "3 x + 4 x + 5 \n",
      "Raízes: [-0.66666667+1.1055416j -0.66666667-1.1055416j] \n",
      "Ordem: 2 \n",
      "p(0) = 5\n",
      "p(x)^2:\n",
      "    4      3      2\n",
      "9 x + 24 x + 46 x + 40 x + 25\n"
     ]
    }
   ],
   "source": [
    "from numpy import poly1d\n",
    "p = poly1d([3,4,5])\n",
    "print('Polinômio:\\n',p, '\\nRaízes:',p.roots, '\\nOrdem:',p.order,'\\np(0) =',p(0))\n",
    "print('p(x)^2:\\n',p*p)"
   ]
  },
  {
   "cell_type": "code",
   "execution_count": 43,
   "metadata": {},
   "outputs": [
    {
     "name": "stdout",
     "output_type": "stream",
     "text": [
      "   3     2\n",
      "1 x + 2 x + 5 x\n",
      "   3     2\n",
      "1 x + 2 x + 5 x + 6\n"
     ]
    }
   ],
   "source": [
    "print(p.integ())              # integração de p(x)\n",
    "print(p.integ(k=6))           # cte de integração"
   ]
  },
  {
   "cell_type": "code",
   "execution_count": 44,
   "metadata": {},
   "outputs": [
    {
     "name": "stdout",
     "output_type": "stream",
     "text": [
      "   2\n",
      "3 x + 4 x + 5\n",
      " \n",
      "6 x + 4\n"
     ]
    }
   ],
   "source": [
    "print(p)\n",
    "print(p.deriv())              # derivação de p(x)"
   ]
  },
  {
   "cell_type": "code",
   "execution_count": 9,
   "metadata": {},
   "outputs": [
    {
     "data": {
      "text/plain": [
       "array([ 46.23,  69.  , 100.  ])"
      ]
     },
     "execution_count": 9,
     "metadata": {},
     "output_type": "execute_result"
    }
   ],
   "source": [
    "p([3.1, 4, 5])             # avaliação do polinômio em x = 3.1, x = 4 e x = 5"
   ]
  },
  {
   "cell_type": "markdown",
   "metadata": {},
   "source": [
    "A outra maneira de lidar com polinômios é usando um vetor de coeficientes, com o primeiro elemento da matriz fornecendo o coeficiente de maior potência, usando o submódulo **Polynomial** do **Numpy** (forma mais recente). Existem funções explícitas para adicionar, subtrair, multiplicar, dividir, integrar, diferenciar e avaliar polinômios representados como sequências de coeficientes.\n",
    "\n",
    "\n",
    "### Funções de Vetorização \n",
    "\n",
    "O **NumPy** fornece uma classe vetorizada para converter uma função **Python** comum, que aceita escalares e retorna escalares, em uma **`função vetorizada`** com as mesmas regras de transmissão das  funções **Numpy** (funções Universais ou ufuncs). Por exemplo, suponha uma função Python chamada **somasubtrai()**, assim definida:"
   ]
  },
  {
   "cell_type": "code",
   "execution_count": 10,
   "metadata": {},
   "outputs": [
    {
     "name": "stdout",
     "output_type": "stream",
     "text": [
      "10\n",
      "20\n"
     ]
    }
   ],
   "source": [
    "def somasubtrai(a,b):    # subtrai se a > b, e soma se a <= b\n",
    "    if a > b:\n",
    "        return a - b\n",
    "    else:\n",
    "        return a + b\n",
    "    \n",
    "print(somasubtrai(15,5))\n",
    "print(somasubtrai(5,15))"
   ]
  },
  {
   "cell_type": "markdown",
   "metadata": {},
   "source": [
    "A função **somasubtrai()** atua em duas variáveis escalares e retorna um resultado escalar. A classe **vectorize** pode ser usada para transformar esta função, de modo que possamos usar arranjos (vetores, matrizes) como argumentos e retorno da função:"
   ]
  },
  {
   "cell_type": "code",
   "execution_count": 47,
   "metadata": {},
   "outputs": [],
   "source": [
    "vec_somasubtrai = np.vectorize(somasubtrai)"
   ]
  },
  {
   "cell_type": "markdown",
   "metadata": {},
   "source": [
    "A função escalar **somasubtrai()** foi transformada na função **vec_somasubtrai()**, a qual recebe argumentos matriciais e retorna um resultado matricial:"
   ]
  },
  {
   "cell_type": "code",
   "execution_count": 48,
   "metadata": {},
   "outputs": [
    {
     "data": {
      "text/plain": [
       "array([1, 6, 1, 2])"
      ]
     },
     "execution_count": 48,
     "metadata": {},
     "output_type": "execute_result"
    }
   ],
   "source": [
    "vec_somasubtrai([0,3,6,9],[1,3,5,7])"
   ]
  },
  {
   "cell_type": "markdown",
   "metadata": {},
   "source": [
    "Esta particular função poderia ter sido escrita em forma vetorial sem o uso de *vectorize*. No entanto, funções que empregam rotinas de otimização ou integração provavelmente só podem ser vetorizadas usando *vectorize*."
   ]
  },
  {
   "cell_type": "markdown",
   "metadata": {},
   "source": [
    "### Manipulação de Tipos\n",
    "\n",
    "Observe a diferença entre **np.iscomplex/np.isreal** e **np.iscomplexobj/np.isrealobj**. As funções **np.iscomplex/np.isreal** são baseadas em matrizes e retornam matrizes de uns e zeros fornecendo o resultado do teste elementar. As funções **np.iscomplexobj/np.isrealobj** são baseadas em objetos e retornam um escalar descrevendo o resultado do teste em todo o objeto.\n",
    "\n",
    "Frequentemente, é necessário obter apenas a parte real ou a imaginária de um número complexo. Enquanto números complexos e matrizes têm atributos (métodos) que retornam esses valores, se não tiver certeza se o objeto será ou não de valor complexo, é melhor usar as funções **np.real** e **np.imag**. Essas funções funcionam para qualquer coisa que possa ser transformada em um arranjo **Numpy**. Considere também a função **np.real_if_close** que transforma um valor complexo com pequena parte imaginária em um número real.\n",
    "\n",
    "Para verificar se um número é ou não escalar **((long) int, float, complex** ou matriz de *rank*-0) use a função **np.isscalar()** que retorna 1 ou 0. <font size=\"-1\" color=\"brown\">Rank ou Posto ou Característica de uma matriz: número de linhas ou colunas linearmente independentes da matriz.</font>\n",
    "\n",
    "Para garantir que objetos sejam do tipo **Numpy** existe um dicionário predefinido de funções no **SciPy** específicas para isto: **np.cast**. As chaves do dicionário são os tipos de dados para os quais se deseja a conversão e os valores do dicionário armazenam funções para executar as conversões."
   ]
  },
  {
   "cell_type": "code",
   "execution_count": 49,
   "metadata": {},
   "outputs": [
    {
     "data": {
      "text/plain": [
       "3.141592653589793"
      ]
     },
     "execution_count": 49,
     "metadata": {},
     "output_type": "execute_result"
    }
   ],
   "source": [
    "np.pi"
   ]
  },
  {
   "cell_type": "code",
   "execution_count": 50,
   "metadata": {},
   "outputs": [
    {
     "data": {
      "text/plain": [
       "float"
      ]
     },
     "execution_count": 50,
     "metadata": {},
     "output_type": "execute_result"
    }
   ],
   "source": [
    "type(np.pi)"
   ]
  },
  {
   "cell_type": "code",
   "execution_count": 51,
   "metadata": {},
   "outputs": [
    {
     "data": {
      "text/plain": [
       "array(3.1415927, dtype=float32)"
      ]
     },
     "execution_count": 51,
     "metadata": {},
     "output_type": "execute_result"
    }
   ],
   "source": [
    "np.cast['f'](np.pi)"
   ]
  },
  {
   "cell_type": "code",
   "execution_count": 52,
   "metadata": {},
   "outputs": [
    {
     "data": {
      "text/plain": [
       "array(3, dtype=int32)"
      ]
     },
     "execution_count": 52,
     "metadata": {},
     "output_type": "execute_result"
    }
   ],
   "source": [
    "np.cast['i'](np.pi)"
   ]
  },
  {
   "cell_type": "code",
   "execution_count": 53,
   "metadata": {},
   "outputs": [
    {
     "data": {
      "text/plain": [
       "array(3)"
      ]
     },
     "execution_count": 53,
     "metadata": {},
     "output_type": "execute_result"
    }
   ],
   "source": [
    "np.cast['l'](np.pi)"
   ]
  },
  {
   "cell_type": "markdown",
   "metadata": {},
   "source": [
    "Todos os tipos de dados armazenados no referido dicionário:"
   ]
  },
  {
   "cell_type": "code",
   "execution_count": 12,
   "metadata": {},
   "outputs": [
    {
     "name": "stdout",
     "output_type": "stream",
     "text": [
      "dict_keys([<class 'numpy.uint32'>, <class 'numpy.int16'>, <class 'numpy.uint64'>, <class 'numpy.intc'>, <class 'numpy.int8'>, <class 'numpy.object_'>, <class 'numpy.float64'>, <class 'numpy.bool_'>, <class 'numpy.float32'>, <class 'numpy.datetime64'>, <class 'numpy.str_'>, <class 'numpy.complex64'>, <class 'numpy.uint16'>, <class 'numpy.bytes_'>, <class 'numpy.float16'>, <class 'numpy.clongdouble'>, <class 'numpy.int32'>, <class 'numpy.timedelta64'>, <class 'numpy.complex128'>, <class 'numpy.uintc'>, <class 'numpy.int64'>, <class 'numpy.void'>, <class 'numpy.longdouble'>, <class 'numpy.uint8'>])\n"
     ]
    }
   ],
   "source": [
    "print(np.cast.keys())"
   ]
  },
  {
   "cell_type": "markdown",
   "metadata": {},
   "source": [
    "#### Exercício:  \n",
    "\n",
    "Criar uma matriz 4x4 e rotacioná-la para direita e para baixo, uma posição em cada dimensão."
   ]
  },
  {
   "cell_type": "code",
   "execution_count": 17,
   "metadata": {},
   "outputs": [
    {
     "name": "stdout",
     "output_type": "stream",
     "text": [
      "Matriz Original: A = \n",
      " [[ 1  2  3  4]\n",
      " [ 5  6  7  8]\n",
      " [ 9 10 11 12]\n",
      " [13 14 15 16]]\n",
      "Matriz A Rotacionada uma linha para baixo:\n",
      " [[13 14 15 16]\n",
      " [ 1  2  3  4]\n",
      " [ 5  6  7  8]\n",
      " [ 9 10 11 12]]\n",
      "Matriz A Rotacionada mais uma linha para baixo:\n",
      " [[ 9 10 11 12]\n",
      " [13 14 15 16]\n",
      " [ 1  2  3  4]\n",
      " [ 5  6  7  8]]\n",
      "- - - - - - - - - - - - - - - - - - - - - - - - - - - - - - - - - - - \n",
      "Matriz Original: B = \n",
      " [[ 1  2  3  4]\n",
      " [ 5  6  7  8]\n",
      " [ 9 10 11 12]\n",
      " [13 14 15 16]]\n",
      "Matriz B Rotacionada uma coluna para direita:\n",
      " [[ 4  1  2  3]\n",
      " [ 8  5  6  7]\n",
      " [12  9 10 11]\n",
      " [16 13 14 15]]\n",
      "Matriz B Rotacionada mais uma coluna para direita:\n",
      " [[ 3  4  1  2]\n",
      " [ 7  8  5  6]\n",
      " [11 12  9 10]\n",
      " [15 16 13 14]]\n",
      "- - - - - - - - - - - - - - - - - - - - - - - - - - - - - - - - - - - \n"
     ]
    }
   ],
   "source": [
    "from numpy import arange, roll, copy\n",
    "# Solução Perigosa: desenvolver código para a tarefa\n",
    "\n",
    "def rotacDir(A):\n",
    "    ult = A.shape[1]-1        # qtde de colunas\n",
    "    vc = copy(A[:,ult])       # preserva a última coluna\n",
    "    for i in range(ult,0,-1):\n",
    "        A[:,i] = A[:,i-1]     # coluna à direita recebe coluna à esquerda\n",
    "    A[:,0] = vc               # primeira coluna recebe últ. coluna preservada\n",
    "    return A\n",
    "\n",
    "def rotacAbaixo(A):\n",
    "    ult = A.shape[0]-1        # qtde de linhas\n",
    "    vl = copy(A[ult,:])       # preserva a última linha\n",
    "    for i in range(ult,0,-1):\n",
    "        A[i,:] = A[i-1,:]     # linha debaixo recebe linha acima\n",
    "    A[0,:] = copy(vl)         # primeira linha recebe última linha preservada\n",
    "    return A\n",
    "\n",
    "A = arange(1,17).reshape(4,4)\n",
    "B = copy(A)\n",
    "print(\"Matriz Original: A = \\n\", A)\n",
    "print(\"Matriz A Rotacionada uma linha para baixo:\\n\", rotacAbaixo(A))\n",
    "print(\"Matriz A Rotacionada mais uma linha para baixo:\\n\", rotacAbaixo(A))\n",
    "print('- '*35)\n",
    "print(\"Matriz Original: B = \\n\", B)\n",
    "print(\"Matriz B Rotacionada uma coluna para direita:\\n\", rotacDir(B))\n",
    "print(\"Matriz B Rotacionada mais uma coluna para direita:\\n\", rotacDir(B))\n",
    "print('- '*35)"
   ]
  },
  {
   "cell_type": "markdown",
   "metadata": {},
   "source": [
    "Outra solução (mais indicada):"
   ]
  },
  {
   "cell_type": "code",
   "execution_count": 66,
   "metadata": {},
   "outputs": [
    {
     "name": "stdout",
     "output_type": "stream",
     "text": [
      "Matriz Original:\n",
      " [[ 1  2  3  4]\n",
      " [ 5  6  7  8]\n",
      " [ 9 10 11 12]\n",
      " [13 14 15 16]]\n",
      "Matriz A Rotacionada uma linha para baixo:\n",
      " [[13 14 15 16]\n",
      " [ 1  2  3  4]\n",
      " [ 5  6  7  8]\n",
      " [ 9 10 11 12]]\n",
      "Matriz A Rotacionada mais uma linha para baixo:\n",
      " [[ 9 10 11 12]\n",
      " [13 14 15 16]\n",
      " [ 1  2  3  4]\n",
      " [ 5  6  7  8]]\n",
      "Matriz Original:\n",
      " [[ 1  2  3  4]\n",
      " [ 5  6  7  8]\n",
      " [ 9 10 11 12]\n",
      " [13 14 15 16]]\n",
      "Matriz A Rotacionada uma coluna para direita:\n",
      " [[ 4  1  2  3]\n",
      " [ 8  5  6  7]\n",
      " [12  9 10 11]\n",
      " [16 13 14 15]]\n",
      "Matriz A Rotacionada mais uma coluna para direita:\n",
      " [[ 3  4  1  2]\n",
      " [ 7  8  5  6]\n",
      " [11 12  9 10]\n",
      " [15 16 13 14]]\n"
     ]
    }
   ],
   "source": [
    "# Solução Indicada: reutilizar código existente\n",
    "A = arange(1,17).reshape(4,4)\n",
    "print(\"Matriz Original:\\n\", A)\n",
    "print(\"Matriz A Rotacionada uma linha para baixo:\\n\", roll(A,1,0))\n",
    "print(\"Matriz A Rotacionada mais uma linha para baixo:\\n\", roll(A,2,0))\n",
    "print(\"Matriz Original:\\n\", A)\n",
    "print(\"Matriz A Rotacionada uma coluna para direita:\\n\", roll(A,1,1))\n",
    "print(\"Matriz A Rotacionada mais uma coluna para direita:\\n\", roll(A,2,1))"
   ]
  },
  {
   "cell_type": "markdown",
   "metadata": {},
   "source": [
    "### Aplicação em PDS\n",
    "\n",
    "#### Sinal Discreto\n",
    "\n",
    "Uso de vetor para armazenamento das abscissas e das ordenadas para traçado de gráficos de linha, por exemplo:"
   ]
  },
  {
   "cell_type": "code",
   "execution_count": 57,
   "metadata": {},
   "outputs": [
    {
     "data": {
      "image/png": "[encoded data removed]",
      "text/plain": [
       "<Figure size 432x288 with 1 Axes>"
      ]
     },
     "metadata": {
      "needs_background": "light"
     },
     "output_type": "display_data"
    }
   ],
   "source": [
    "from pylab import stem\n",
    "n = np.arange(-16,17)\n",
    "x = np.cos(np.pi*n/8)\n",
    "stem(n,x,use_line_collection=True);"
   ]
  },
  {
   "cell_type": "markdown",
   "metadata": {},
   "source": [
    "#### Sinal Contínuo"
   ]
  },
  {
   "cell_type": "code",
   "execution_count": 58,
   "metadata": {},
   "outputs": [
    {
     "data": {
      "image/png": "[encoded data removed]",
      "text/plain": [
       "<Figure size 460.8x345.6 with 1 Axes>"
      ]
     },
     "metadata": {
      "needs_background": "light"
     },
     "output_type": "display_data"
    }
   ],
   "source": [
    "import numpy as np\n",
    "from pylab import plot, figure\n",
    "figure(figsize=(6.4, 4.8))     # medidas em polegadas (larg x Alt)\n",
    "t = np.arange(-16,17,1.3)\n",
    "x = np.cos(np.pi*t/8)\n",
    "plot(t,x);"
   ]
  },
  {
   "cell_type": "markdown",
   "metadata": {},
   "source": [
    "### Elementos NumPy abordados:\n",
    "\n",
    "Funções:\n",
    "- array()\n",
    "- arange(), linspace()\n",
    "- zeros(), ones(), eye()\n",
    "- repeat()\n",
    "- vstack(), hstack()\n",
    "- roll()\n",
    "- poly1d()\n",
    "\n",
    "Atributos:\n",
    "- shape\n",
    "- dtype\n",
    "- T\n",
    "\n",
    "Métodos:\n",
    "- reshape()\n",
    "- resize()\n",
    "- dot()\n",
    "- astype()\n",
    "- sum(), min(), max(), mean()\n",
    "- transpose()\n",
    "\n",
    "**Subpacote: random**\n",
    "\n",
    "Funções:\n",
    "- random.rand()\n",
    "- random.randint()"
   ]
  },
  {
   "cell_type": "markdown",
   "metadata": {},
   "source": [
    "Até agora vimos como criar, como acessar e como manipular arranjos numéricos (vetores e matrizes) em **Numpy**. Na sequencia, veremos os pacotes `SCIPY, MATPLOTLIB` e `PANDAS`, todos eles construídos a partir do pacote **Numpy**. \n",
    "\n",
    "O pacote **SciPy** possui funções úteis à manipulação de sinais na análise de sistemas de Engenharia, em geral.\n",
    "\n",
    "O pacote **Matplotlib** permite a apresentação de dados na forma gráfica. Possui extensa variedade de tipos de gráficos, muito usados também na exibição de sinais contínuos e discretos.\n",
    "\n",
    "O pacote **Pandas** é direcionado à manipulação e análise de dados em Python, além de oferecer estruturas de dados e operações para tabelas numéricas e séries temporais.\n"
   ]
  },
  {
   "cell_type": "markdown",
   "metadata": {},
   "source": [
    "**Exercício**: Dada a matriz A, gere a matriz **sub_A** e a inversa de A (A-1):\n",
    "<img src='img\\sub_A.png'>"
   ]
  },
  {
   "cell_type": "markdown",
   "metadata": {},
   "source": [
    "# Anexos\n",
    "### Outras Funções Úteis"
   ]
  },
  {
   "cell_type": "markdown",
   "metadata": {},
   "source": [
    "Para processar a fase de um número complexo use as funções ***angle()*** e ***unwrap()***. Além disso, as funções ***linspace()*** e ***logspace()*** retornam amostras igualmente espaçadas numa escala linear ou logarítmica. "
   ]
  },
  {
   "cell_type": "markdown",
   "metadata": {},
   "source": [
    "Por fim, é útil estar ciente dos recursos de indexação do **Numpy**. Deve-se mencionar a função ***select()*** que estende a funcionalidade do ***where*** para incluir várias condições e várias opções. "
   ]
  },
  {
   "cell_type": "markdown",
   "metadata": {},
   "source": [
    "<tt>select(listacond, listaescolha, default = 0)</tt>"
   ]
  },
  {
   "cell_type": "markdown",
   "metadata": {},
   "source": [
    "A função ***select()*** é uma forma vetorizada da declaração **if** múltipla. Permite a construção rápida de uma função que retorna uma matriz de resultados com base em uma lista de condições. Cada elemento da matriz de retorno é retirado da matriz numa lista de opções correspondente à primeira condição na *listacond* que é verdadeira. Por exemplo:"
   ]
  },
  {
   "cell_type": "code",
   "execution_count": 59,
   "metadata": {},
   "outputs": [
    {
     "data": {
      "text/plain": [
       "array([-2, -1,  0,  1,  2])"
      ]
     },
     "execution_count": 59,
     "metadata": {},
     "output_type": "execute_result"
    }
   ],
   "source": [
    "x = np.r_[-2:3]\n",
    "x"
   ]
  },
  {
   "cell_type": "code",
   "execution_count": 60,
   "metadata": {},
   "outputs": [
    {
     "data": {
      "text/plain": [
       "array([0, 0, 2, 3, 4])"
      ]
     },
     "execution_count": 60,
     "metadata": {},
     "output_type": "execute_result"
    }
   ],
   "source": [
    "np.select([x > 3, x >= 0], [0, x+2])"
   ]
  },
  {
   "cell_type": "code",
   "execution_count": 61,
   "metadata": {},
   "outputs": [
    {
     "data": {
      "text/plain": [
       "array([-2, -1,  0,  1,  2,  3,  4])"
      ]
     },
     "execution_count": 61,
     "metadata": {},
     "output_type": "execute_result"
    }
   ],
   "source": [
    "y = np.r_[-2:5]\n",
    "y"
   ]
  },
  {
   "cell_type": "code",
   "execution_count": 62,
   "metadata": {},
   "outputs": [
    {
     "data": {
      "text/plain": [
       "array([ 0,  0,  2,  3,  4,  5, -3])"
      ]
     },
     "execution_count": 62,
     "metadata": {},
     "output_type": "execute_result"
    }
   ],
   "source": [
    "np.select([y > 3, y >= 0], [-3, y+2])"
   ]
  }
 ],
 "metadata": {
  "kernelspec": {
   "display_name": "Python 3",
   "language": "python",
   "name": "python3"
  },
  "language_info": {
   "codemirror_mode": {
    "name": "ipython",
    "version": 3
   },
   "file_extension": ".py",
   "mimetype": "text/x-python",
   "name": "python",
   "nbconvert_exporter": "python",
   "pygments_lexer": "ipython3",
   "version": "3.8.5"
  }
 },
 "nbformat": 4,
 "nbformat_minor": 2
}
